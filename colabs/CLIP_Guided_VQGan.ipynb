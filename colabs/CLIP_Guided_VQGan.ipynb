{
  "nbformat": 4,
  "nbformat_minor": 0,
  "metadata": {
    "accelerator": "GPU",
    "colab": {
      "name": "CLIP+VQGAN (Text-to-Image)",
      "provenance": [],
      "collapsed_sections": []
    },
    "kernelspec": {
      "display_name": "Python 3",
      "name": "python3"
    },
    "widgets": {
      "application/vnd.jupyter.widget-state+json": {
        "1ddd7768870b401e848074fdc3674835": {
          "model_module": "@jupyter-widgets/controls",
          "model_name": "HBoxModel",
          "state": {
            "_view_name": "HBoxView",
            "_dom_classes": [],
            "_model_name": "HBoxModel",
            "_view_module": "@jupyter-widgets/controls",
            "_model_module_version": "1.5.0",
            "_view_count": null,
            "_view_module_version": "1.5.0",
            "box_style": "",
            "layout": "IPY_MODEL_94cb7cfbb58b4ef58e908170a125c7af",
            "_model_module": "@jupyter-widgets/controls",
            "children": [
              "IPY_MODEL_f0aa359cb4df4715b7bcc66254839ff2",
              "IPY_MODEL_89ad62d7adf04b79a79d607ae3deea75"
            ]
          }
        },
        "94cb7cfbb58b4ef58e908170a125c7af": {
          "model_module": "@jupyter-widgets/base",
          "model_name": "LayoutModel",
          "state": {
            "_view_name": "LayoutView",
            "grid_template_rows": null,
            "right": null,
            "justify_content": null,
            "_view_module": "@jupyter-widgets/base",
            "overflow": null,
            "_model_module_version": "1.2.0",
            "_view_count": null,
            "flex_flow": null,
            "width": null,
            "min_width": null,
            "border": null,
            "align_items": null,
            "bottom": null,
            "_model_module": "@jupyter-widgets/base",
            "top": null,
            "grid_column": null,
            "overflow_y": null,
            "overflow_x": null,
            "grid_auto_flow": null,
            "grid_area": null,
            "grid_template_columns": null,
            "flex": null,
            "_model_name": "LayoutModel",
            "justify_items": null,
            "grid_row": null,
            "max_height": null,
            "align_content": null,
            "visibility": null,
            "align_self": null,
            "height": null,
            "min_height": null,
            "padding": null,
            "grid_auto_rows": null,
            "grid_gap": null,
            "max_width": null,
            "order": null,
            "_view_module_version": "1.2.0",
            "grid_template_areas": null,
            "object_position": null,
            "object_fit": null,
            "grid_auto_columns": null,
            "margin": null,
            "display": null,
            "left": null
          }
        },
        "f0aa359cb4df4715b7bcc66254839ff2": {
          "model_module": "@jupyter-widgets/controls",
          "model_name": "FloatProgressModel",
          "state": {
            "_view_name": "ProgressView",
            "style": "IPY_MODEL_ddbb8b5c8dcb4d6f9df8bd28a1fb54cd",
            "_dom_classes": [],
            "description": "100%",
            "_model_name": "FloatProgressModel",
            "bar_style": "success",
            "max": 553433881,
            "_view_module": "@jupyter-widgets/controls",
            "_model_module_version": "1.5.0",
            "value": 553433881,
            "_view_count": null,
            "_view_module_version": "1.5.0",
            "orientation": "horizontal",
            "min": 0,
            "description_tooltip": null,
            "_model_module": "@jupyter-widgets/controls",
            "layout": "IPY_MODEL_fd2a6f5217884019a32c7a281f6232c1"
          }
        },
        "89ad62d7adf04b79a79d607ae3deea75": {
          "model_module": "@jupyter-widgets/controls",
          "model_name": "HTMLModel",
          "state": {
            "_view_name": "HTMLView",
            "style": "IPY_MODEL_9c0c9a8b68214f4c80bcaf6a221c949c",
            "_dom_classes": [],
            "description": "",
            "_model_name": "HTMLModel",
            "placeholder": "​",
            "_view_module": "@jupyter-widgets/controls",
            "_model_module_version": "1.5.0",
            "value": " 528M/528M [00:04&lt;00:00, 120MB/s]",
            "_view_count": null,
            "_view_module_version": "1.5.0",
            "description_tooltip": null,
            "_model_module": "@jupyter-widgets/controls",
            "layout": "IPY_MODEL_0f85eee3b44e48fe80927f097660c922"
          }
        },
        "ddbb8b5c8dcb4d6f9df8bd28a1fb54cd": {
          "model_module": "@jupyter-widgets/controls",
          "model_name": "ProgressStyleModel",
          "state": {
            "_view_name": "StyleView",
            "_model_name": "ProgressStyleModel",
            "description_width": "initial",
            "_view_module": "@jupyter-widgets/base",
            "_model_module_version": "1.5.0",
            "_view_count": null,
            "_view_module_version": "1.2.0",
            "bar_color": null,
            "_model_module": "@jupyter-widgets/controls"
          }
        },
        "fd2a6f5217884019a32c7a281f6232c1": {
          "model_module": "@jupyter-widgets/base",
          "model_name": "LayoutModel",
          "state": {
            "_view_name": "LayoutView",
            "grid_template_rows": null,
            "right": null,
            "justify_content": null,
            "_view_module": "@jupyter-widgets/base",
            "overflow": null,
            "_model_module_version": "1.2.0",
            "_view_count": null,
            "flex_flow": null,
            "width": null,
            "min_width": null,
            "border": null,
            "align_items": null,
            "bottom": null,
            "_model_module": "@jupyter-widgets/base",
            "top": null,
            "grid_column": null,
            "overflow_y": null,
            "overflow_x": null,
            "grid_auto_flow": null,
            "grid_area": null,
            "grid_template_columns": null,
            "flex": null,
            "_model_name": "LayoutModel",
            "justify_items": null,
            "grid_row": null,
            "max_height": null,
            "align_content": null,
            "visibility": null,
            "align_self": null,
            "height": null,
            "min_height": null,
            "padding": null,
            "grid_auto_rows": null,
            "grid_gap": null,
            "max_width": null,
            "order": null,
            "_view_module_version": "1.2.0",
            "grid_template_areas": null,
            "object_position": null,
            "object_fit": null,
            "grid_auto_columns": null,
            "margin": null,
            "display": null,
            "left": null
          }
        },
        "9c0c9a8b68214f4c80bcaf6a221c949c": {
          "model_module": "@jupyter-widgets/controls",
          "model_name": "DescriptionStyleModel",
          "state": {
            "_view_name": "StyleView",
            "_model_name": "DescriptionStyleModel",
            "description_width": "",
            "_view_module": "@jupyter-widgets/base",
            "_model_module_version": "1.5.0",
            "_view_count": null,
            "_view_module_version": "1.2.0",
            "_model_module": "@jupyter-widgets/controls"
          }
        },
        "0f85eee3b44e48fe80927f097660c922": {
          "model_module": "@jupyter-widgets/base",
          "model_name": "LayoutModel",
          "state": {
            "_view_name": "LayoutView",
            "grid_template_rows": null,
            "right": null,
            "justify_content": null,
            "_view_module": "@jupyter-widgets/base",
            "overflow": null,
            "_model_module_version": "1.2.0",
            "_view_count": null,
            "flex_flow": null,
            "width": null,
            "min_width": null,
            "border": null,
            "align_items": null,
            "bottom": null,
            "_model_module": "@jupyter-widgets/base",
            "top": null,
            "grid_column": null,
            "overflow_y": null,
            "overflow_x": null,
            "grid_auto_flow": null,
            "grid_area": null,
            "grid_template_columns": null,
            "flex": null,
            "_model_name": "LayoutModel",
            "justify_items": null,
            "grid_row": null,
            "max_height": null,
            "align_content": null,
            "visibility": null,
            "align_self": null,
            "height": null,
            "min_height": null,
            "padding": null,
            "grid_auto_rows": null,
            "grid_gap": null,
            "max_width": null,
            "order": null,
            "_view_module_version": "1.2.0",
            "grid_template_areas": null,
            "object_position": null,
            "object_fit": null,
            "grid_auto_columns": null,
            "margin": null,
            "display": null,
            "left": null
          }
        }
      }
    }
  },
  "cells": [
    {
      "cell_type": "markdown",
      "metadata": {
        "id": "O78RfTZfh7ji"
      },
      "source": [
        "## VQGAN+CLIP (Text-to-Image)\n",
        "\n",
        "A machine dreams about text. Combines OpenAI's [CLIP](https://openai.com/blog/clip/) which is able to map images to natural language with the recent image synthesis model [Taming Transformers](https://compvis.github.io/taming-transformers/). The image improves iteratively.\n",
        "\n",
        "\n"
      ]
    },
    {
      "cell_type": "code",
      "metadata": {
        "id": "uKgT2Av23kVg",
        "cellView": "form"
      },
      "source": [
        "#@title Inputs\n",
        "output_path = \"/content/output\"\n",
        "text_input = 'Vibrant painting of a movie in the style of Magritte. '  #@param {type: \"string\"}\n",
        "text_not = 'disconnected, confusing, incoherent, cluttered, watermarks, text, writing'  #@param {type: \"string\"}\n",
        "num_iterations = 700  #@param {type: \"number\"}\n",
        "num_save_every = 10 #@param {type: \"number\"}"
      ],
      "execution_count": null,
      "outputs": []
    },
    {
      "cell_type": "code",
      "metadata": {
        "id": "-TEC3Rj5yLJb",
        "cellView": "form",
        "colab": {
          "base_uri": "https://localhost:8080/"
        },
        "outputId": "05be2441-e4ba-438b-ff7e-3144f7b65e06"
      },
      "source": [
        "#@title Get Text Slug\n",
        "!rm $output_path/*.png $output_path/*.mp4\n",
        "!mkdir -p $output_path\n",
        "\n",
        "!pip install slugify\n",
        "from slugify import slugify\n",
        "text_slug = slugify(text_input)[:200]"
      ],
      "execution_count": null,
      "outputs": [
        {
          "output_type": "stream",
          "text": [
            "rm: cannot remove '/content/output/*.png': No such file or directory\n",
            "rm: cannot remove '/content/output/*.mp4': No such file or directory\n",
            "Collecting slugify\n",
            "  Downloading https://files.pythonhosted.org/packages/7b/89/fbb7391d777b60c82d4e1376bb181b98e75adf506b3f7ffe837eca64570b/slugify-0.0.1.tar.gz\n",
            "Building wheels for collected packages: slugify\n",
            "  Building wheel for slugify (setup.py) ... \u001b[?25l\u001b[?25hdone\n",
            "  Created wheel for slugify: filename=slugify-0.0.1-cp37-none-any.whl size=1909 sha256=8f1a4b72ad76bed5ce11dc726e19d29b3f0687d77b0bd0eba3a248fc60124b2c\n",
            "  Stored in directory: /root/.cache/pip/wheels/f9/68/7b/b797d07992b6c7ef1666a59cc79f45fb37aab4344efa6cc3e1\n",
            "Successfully built slugify\n",
            "Installing collected packages: slugify\n",
            "Successfully installed slugify-0.0.1\n"
          ],
          "name": "stdout"
        }
      ]
    },
    {
      "cell_type": "code",
      "metadata": {
        "id": "EUOAL4UcytFb",
        "cellView": "form",
        "colab": {
          "base_uri": "https://localhost:8080/"
        },
        "outputId": "0da65cda-9201-4f77-a331-aceb9a6fadc5"
      },
      "source": [
        "#@title Check GPU Type\n",
        "# were you lucky today?\n",
        "\n",
        "!nvidia-smi -L\n"
      ],
      "execution_count": null,
      "outputs": [
        {
          "output_type": "stream",
          "text": [
            "GPU 0: Tesla P100-PCIE-16GB (UUID: GPU-54a85d01-1f18-d430-e31b-6013c1789ae7)\n"
          ],
          "name": "stdout"
        }
      ]
    },
    {
      "cell_type": "markdown",
      "metadata": {
        "id": "KAcixx9Z3XYH"
      },
      "source": [
        "# Top (imports)\n"
      ]
    },
    {
      "cell_type": "code",
      "metadata": {
        "id": "piJOg9MY7khd",
        "cellView": "form",
        "colab": {
          "base_uri": "https://localhost:8080/",
          "height": 497
        },
        "outputId": "efc8add3-338e-4c1a-f6b0-8815dade913e"
      },
      "source": [
        "#@title Import Libraries\n",
        "\n",
        "# don't use half of these lol\n",
        "!pip install einops\n",
        "import torch\n",
        "import numpy as np\n",
        "import torchvision\n",
        "import torchvision.transforms.functional as TF\n",
        "!pip install kornia\n",
        "import kornia\n",
        "\n",
        "import PIL\n",
        "import matplotlib.pyplot as plt\n",
        "\n",
        "import os\n",
        "import random\n",
        "import imageio\n",
        "from IPython import display\n",
        "from IPython.core.interactiveshell import InteractiveShell\n",
        "InteractiveShell.ast_node_interactivity = \"all\"\n",
        "\n",
        "import glob\n",
        "\n",
        "from google.colab import output\n",
        "\n"
      ],
      "execution_count": null,
      "outputs": [
        {
          "output_type": "stream",
          "text": [
            "Collecting einops\n",
            "  Downloading https://files.pythonhosted.org/packages/5d/a0/9935e030634bf60ecd572c775f64ace82ceddf2f504a5fd3902438f07090/einops-0.3.0-py2.py3-none-any.whl\n",
            "Installing collected packages: einops\n",
            "Successfully installed einops-0.3.0\n",
            "Collecting kornia\n",
            "\u001b[?25l  Downloading https://files.pythonhosted.org/packages/cb/16/4cb00b7832f829bcba4195436c06f79015236a442a69391e2569707a9593/kornia-0.5.5-py2.py3-none-any.whl (292kB)\n",
            "\u001b[K     |████████████████████████████████| 296kB 7.4MB/s \n",
            "\u001b[?25hCollecting numpy<=1.19\n",
            "\u001b[?25l  Downloading https://files.pythonhosted.org/packages/a8/31/e2c3eda7afe7dab08e1f24767b8e38ff2f30dc82bd74aa3a5324c550366a/numpy-1.19.0-cp37-cp37m-manylinux2010_x86_64.whl (14.6MB)\n",
            "\u001b[K     |████████████████████████████████| 14.6MB 369kB/s \n",
            "\u001b[?25hRequirement already satisfied: torch>=1.6.0 in /usr/local/lib/python3.7/dist-packages (from kornia) (1.9.0+cu102)\n",
            "Requirement already satisfied: typing-extensions in /usr/local/lib/python3.7/dist-packages (from torch>=1.6.0->kornia) (3.7.4.3)\n",
            "\u001b[31mERROR: tensorflow 2.5.0 has requirement numpy~=1.19.2, but you'll have numpy 1.19.0 which is incompatible.\u001b[0m\n",
            "\u001b[31mERROR: datascience 0.10.6 has requirement folium==0.2.1, but you'll have folium 0.8.3 which is incompatible.\u001b[0m\n",
            "\u001b[31mERROR: albumentations 0.1.12 has requirement imgaug<0.2.7,>=0.2.5, but you'll have imgaug 0.2.9 which is incompatible.\u001b[0m\n",
            "Installing collected packages: numpy, kornia\n",
            "  Found existing installation: numpy 1.19.5\n",
            "    Uninstalling numpy-1.19.5:\n",
            "      Successfully uninstalled numpy-1.19.5\n",
            "Successfully installed kornia-0.5.5 numpy-1.19.0\n"
          ],
          "name": "stdout"
        },
        {
          "output_type": "display_data",
          "data": {
            "application/vnd.colab-display-data+json": {
              "pip_warning": {
                "packages": [
                  "numpy"
                ]
              }
            }
          },
          "metadata": {
            "tags": []
          }
        },
        {
          "output_type": "stream",
          "text": [
            "/usr/local/lib/python3.7/dist-packages/kornia/augmentation/augmentation.py:1875: DeprecationWarning: GaussianBlur is no longer maintained and will be removed from the future versions. Please use RandomGaussianBlur instead.\n",
            "  category=DeprecationWarning,\n"
          ],
          "name": "stderr"
        }
      ]
    },
    {
      "cell_type": "markdown",
      "metadata": {
        "id": "JeMCHwDdHIcu"
      },
      "source": [
        "# Perceptor"
      ]
    },
    {
      "cell_type": "code",
      "metadata": {
        "id": "Tm3_VmxpAiB1",
        "cellView": "form",
        "colab": {
          "base_uri": "https://localhost:8080/"
        },
        "outputId": "eda96b2c-3ba4-4c93-e3b8-c3828abd0a23"
      },
      "source": [
        "#@title Initialize CLIP Perceptor\n",
        "!pip install --no-deps ftfy regex tqdm\n",
        "!git clone https://github.com/openai/CLIP.git\n",
        "\n",
        "#Modify CLIP to output patches\n",
        "# import fileinput\n",
        "# with fileinput.FileInput('CLIP/clip/model.py', inplace=True, backup='.bak') as file:\n",
        "#     for line in file:\n",
        "#         print(line.replace(\"x = self.ln_post(x[:, 0, :])\", \"x = self.ln_post(x[:, :, :])\"), end='')\n",
        "\n",
        "#Import CLIP and load the model\n",
        "from CLIP import clip\n",
        "perceptor, preprocess = clip.load('ViT-B/32', jit=False)\n",
        "perceptor.eval()\n",
        "\n",
        "clip.available_models()\n",
        "\n",
        "perceptor.visual.input_resolution\n",
        "\n",
        "scaler = 1\n",
        "# perceptor.visual.scale = 224*scaler\n",
        "# # perceptor.visual.positional_embedding = torch.nn.Parameter(torch.cat([perceptor.visual.positional_embedding]*5 + [perceptor.visual.positional_embedding[:7]]))\n",
        "\n",
        "\n",
        "\n",
        "# # pos_ed = []\n",
        "# # for p in range(1, len(perceptor.visual.positional_embedding)):\n",
        "# #   # pos_ed.append((perceptor.visual.positional_embedding.data[p//4] + perceptor.visual.positional_embedding.data[p//4 + 1]) / 2)\n",
        "# #   pos_ed.append((perceptor.visual.positional_embedding.data[[p]]))\n",
        "# #   pos_ed.append((perceptor.visual.positional_embedding.data[[p]]))\n",
        "# #   pos_ed.append((perceptor.visual.positional_embedding.data[[p]]))\n",
        "# #   pos_ed.append((perceptor.visual.positional_embedding.data[[p]]))\n",
        "\n",
        "# # perceptor.visual.positional_embedding.shape\n",
        "\n",
        "# thems = torchvision.transforms.Resize((scaler*7, scaler*7), interpolation=torchvision.transforms.InterpolationMode.BILINEAR)(perceptor.visual.positional_embedding.data[1:].T.view(1, 768, 7, 7))\n",
        "\n",
        "# # thems = perceptor.visual.positional_embedding.data[1:].T.repeat_interleave(scaler**2).view(1, 768, 7*scaler, 7*scaler)\n",
        "\n",
        "# thems = thems.permute(0, 2, 3, 1).view(-1, 768)\n",
        "\n",
        "# perceptor.visual.positional_embedding = torch.nn.Parameter(torch.cat([perceptor.visual.positional_embedding.data[:1], thems]))\n",
        "\n",
        "# # perceptor.visual.positional_embedding.shape\n",
        "\n"
      ],
      "execution_count": null,
      "outputs": [
        {
          "output_type": "stream",
          "text": [
            "Collecting ftfy\n",
            "\u001b[?25l  Downloading https://files.pythonhosted.org/packages/af/da/d215a091986e5f01b80f5145cff6f22e2dc57c6b048aab2e882a07018473/ftfy-6.0.3.tar.gz (64kB)\n",
            "\r\u001b[K     |█████                           | 10kB 22.8MB/s eta 0:00:01\r\u001b[K     |██████████▏                     | 20kB 17.2MB/s eta 0:00:01\r\u001b[K     |███████████████▎                | 30kB 15.0MB/s eta 0:00:01\r\u001b[K     |████████████████████▍           | 40kB 13.6MB/s eta 0:00:01\r\u001b[K     |█████████████████████████▌      | 51kB 8.0MB/s eta 0:00:01\r\u001b[K     |██████████████████████████████▋ | 61kB 9.2MB/s eta 0:00:01\r\u001b[K     |████████████████████████████████| 71kB 5.0MB/s \n",
            "\u001b[?25hRequirement already satisfied: regex in /usr/local/lib/python3.7/dist-packages (2019.12.20)\n",
            "Requirement already satisfied: tqdm in /usr/local/lib/python3.7/dist-packages (4.41.1)\n",
            "Building wheels for collected packages: ftfy\n",
            "  Building wheel for ftfy (setup.py) ... \u001b[?25l\u001b[?25hdone\n",
            "  Created wheel for ftfy: filename=ftfy-6.0.3-cp37-none-any.whl size=41935 sha256=e5dff286ae95c1e416e2d2933629b5a24723e7b4fd06fb226a04671de4939960\n",
            "  Stored in directory: /root/.cache/pip/wheels/99/2c/e6/109c8a28fef7a443f67ba58df21fe1d0067ac3322e75e6b0b7\n",
            "Successfully built ftfy\n",
            "Installing collected packages: ftfy\n",
            "Successfully installed ftfy-6.0.3\n",
            "Cloning into 'CLIP'...\n",
            "remote: Enumerating objects: 90, done.\u001b[K\n",
            "remote: Total 90 (delta 0), reused 0 (delta 0), pack-reused 90\u001b[K\n",
            "Unpacking objects: 100% (90/90), done.\n"
          ],
          "name": "stdout"
        },
        {
          "output_type": "stream",
          "text": [
            "100%|███████████████████████████████████████| 354M/354M [00:05<00:00, 59.5MiB/s]\n",
            "/usr/local/lib/python3.7/dist-packages/torchvision/transforms/transforms.py:281: UserWarning: Argument interpolation should be of type InterpolationMode instead of int. Please, use InterpolationMode enum.\n",
            "  \"Argument interpolation should be of type InterpolationMode instead of int. \"\n"
          ],
          "name": "stderr"
        },
        {
          "output_type": "execute_result",
          "data": {
            "text/plain": [
              "CLIP(\n",
              "  (visual): VisualTransformer(\n",
              "    (conv1): Conv2d(3, 768, kernel_size=(32, 32), stride=(32, 32), bias=False)\n",
              "    (ln_pre): LayerNorm((768,), eps=1e-05, elementwise_affine=True)\n",
              "    (transformer): Transformer(\n",
              "      (resblocks): Sequential(\n",
              "        (0): ResidualAttentionBlock(\n",
              "          (attn): MultiheadAttention(\n",
              "            (out_proj): NonDynamicallyQuantizableLinear(in_features=768, out_features=768, bias=True)\n",
              "          )\n",
              "          (ln_1): LayerNorm((768,), eps=1e-05, elementwise_affine=True)\n",
              "          (mlp): Sequential(\n",
              "            (c_fc): Linear(in_features=768, out_features=3072, bias=True)\n",
              "            (gelu): QuickGELU()\n",
              "            (c_proj): Linear(in_features=3072, out_features=768, bias=True)\n",
              "          )\n",
              "          (ln_2): LayerNorm((768,), eps=1e-05, elementwise_affine=True)\n",
              "        )\n",
              "        (1): ResidualAttentionBlock(\n",
              "          (attn): MultiheadAttention(\n",
              "            (out_proj): NonDynamicallyQuantizableLinear(in_features=768, out_features=768, bias=True)\n",
              "          )\n",
              "          (ln_1): LayerNorm((768,), eps=1e-05, elementwise_affine=True)\n",
              "          (mlp): Sequential(\n",
              "            (c_fc): Linear(in_features=768, out_features=3072, bias=True)\n",
              "            (gelu): QuickGELU()\n",
              "            (c_proj): Linear(in_features=3072, out_features=768, bias=True)\n",
              "          )\n",
              "          (ln_2): LayerNorm((768,), eps=1e-05, elementwise_affine=True)\n",
              "        )\n",
              "        (2): ResidualAttentionBlock(\n",
              "          (attn): MultiheadAttention(\n",
              "            (out_proj): NonDynamicallyQuantizableLinear(in_features=768, out_features=768, bias=True)\n",
              "          )\n",
              "          (ln_1): LayerNorm((768,), eps=1e-05, elementwise_affine=True)\n",
              "          (mlp): Sequential(\n",
              "            (c_fc): Linear(in_features=768, out_features=3072, bias=True)\n",
              "            (gelu): QuickGELU()\n",
              "            (c_proj): Linear(in_features=3072, out_features=768, bias=True)\n",
              "          )\n",
              "          (ln_2): LayerNorm((768,), eps=1e-05, elementwise_affine=True)\n",
              "        )\n",
              "        (3): ResidualAttentionBlock(\n",
              "          (attn): MultiheadAttention(\n",
              "            (out_proj): NonDynamicallyQuantizableLinear(in_features=768, out_features=768, bias=True)\n",
              "          )\n",
              "          (ln_1): LayerNorm((768,), eps=1e-05, elementwise_affine=True)\n",
              "          (mlp): Sequential(\n",
              "            (c_fc): Linear(in_features=768, out_features=3072, bias=True)\n",
              "            (gelu): QuickGELU()\n",
              "            (c_proj): Linear(in_features=3072, out_features=768, bias=True)\n",
              "          )\n",
              "          (ln_2): LayerNorm((768,), eps=1e-05, elementwise_affine=True)\n",
              "        )\n",
              "        (4): ResidualAttentionBlock(\n",
              "          (attn): MultiheadAttention(\n",
              "            (out_proj): NonDynamicallyQuantizableLinear(in_features=768, out_features=768, bias=True)\n",
              "          )\n",
              "          (ln_1): LayerNorm((768,), eps=1e-05, elementwise_affine=True)\n",
              "          (mlp): Sequential(\n",
              "            (c_fc): Linear(in_features=768, out_features=3072, bias=True)\n",
              "            (gelu): QuickGELU()\n",
              "            (c_proj): Linear(in_features=3072, out_features=768, bias=True)\n",
              "          )\n",
              "          (ln_2): LayerNorm((768,), eps=1e-05, elementwise_affine=True)\n",
              "        )\n",
              "        (5): ResidualAttentionBlock(\n",
              "          (attn): MultiheadAttention(\n",
              "            (out_proj): NonDynamicallyQuantizableLinear(in_features=768, out_features=768, bias=True)\n",
              "          )\n",
              "          (ln_1): LayerNorm((768,), eps=1e-05, elementwise_affine=True)\n",
              "          (mlp): Sequential(\n",
              "            (c_fc): Linear(in_features=768, out_features=3072, bias=True)\n",
              "            (gelu): QuickGELU()\n",
              "            (c_proj): Linear(in_features=3072, out_features=768, bias=True)\n",
              "          )\n",
              "          (ln_2): LayerNorm((768,), eps=1e-05, elementwise_affine=True)\n",
              "        )\n",
              "        (6): ResidualAttentionBlock(\n",
              "          (attn): MultiheadAttention(\n",
              "            (out_proj): NonDynamicallyQuantizableLinear(in_features=768, out_features=768, bias=True)\n",
              "          )\n",
              "          (ln_1): LayerNorm((768,), eps=1e-05, elementwise_affine=True)\n",
              "          (mlp): Sequential(\n",
              "            (c_fc): Linear(in_features=768, out_features=3072, bias=True)\n",
              "            (gelu): QuickGELU()\n",
              "            (c_proj): Linear(in_features=3072, out_features=768, bias=True)\n",
              "          )\n",
              "          (ln_2): LayerNorm((768,), eps=1e-05, elementwise_affine=True)\n",
              "        )\n",
              "        (7): ResidualAttentionBlock(\n",
              "          (attn): MultiheadAttention(\n",
              "            (out_proj): NonDynamicallyQuantizableLinear(in_features=768, out_features=768, bias=True)\n",
              "          )\n",
              "          (ln_1): LayerNorm((768,), eps=1e-05, elementwise_affine=True)\n",
              "          (mlp): Sequential(\n",
              "            (c_fc): Linear(in_features=768, out_features=3072, bias=True)\n",
              "            (gelu): QuickGELU()\n",
              "            (c_proj): Linear(in_features=3072, out_features=768, bias=True)\n",
              "          )\n",
              "          (ln_2): LayerNorm((768,), eps=1e-05, elementwise_affine=True)\n",
              "        )\n",
              "        (8): ResidualAttentionBlock(\n",
              "          (attn): MultiheadAttention(\n",
              "            (out_proj): NonDynamicallyQuantizableLinear(in_features=768, out_features=768, bias=True)\n",
              "          )\n",
              "          (ln_1): LayerNorm((768,), eps=1e-05, elementwise_affine=True)\n",
              "          (mlp): Sequential(\n",
              "            (c_fc): Linear(in_features=768, out_features=3072, bias=True)\n",
              "            (gelu): QuickGELU()\n",
              "            (c_proj): Linear(in_features=3072, out_features=768, bias=True)\n",
              "          )\n",
              "          (ln_2): LayerNorm((768,), eps=1e-05, elementwise_affine=True)\n",
              "        )\n",
              "        (9): ResidualAttentionBlock(\n",
              "          (attn): MultiheadAttention(\n",
              "            (out_proj): NonDynamicallyQuantizableLinear(in_features=768, out_features=768, bias=True)\n",
              "          )\n",
              "          (ln_1): LayerNorm((768,), eps=1e-05, elementwise_affine=True)\n",
              "          (mlp): Sequential(\n",
              "            (c_fc): Linear(in_features=768, out_features=3072, bias=True)\n",
              "            (gelu): QuickGELU()\n",
              "            (c_proj): Linear(in_features=3072, out_features=768, bias=True)\n",
              "          )\n",
              "          (ln_2): LayerNorm((768,), eps=1e-05, elementwise_affine=True)\n",
              "        )\n",
              "        (10): ResidualAttentionBlock(\n",
              "          (attn): MultiheadAttention(\n",
              "            (out_proj): NonDynamicallyQuantizableLinear(in_features=768, out_features=768, bias=True)\n",
              "          )\n",
              "          (ln_1): LayerNorm((768,), eps=1e-05, elementwise_affine=True)\n",
              "          (mlp): Sequential(\n",
              "            (c_fc): Linear(in_features=768, out_features=3072, bias=True)\n",
              "            (gelu): QuickGELU()\n",
              "            (c_proj): Linear(in_features=3072, out_features=768, bias=True)\n",
              "          )\n",
              "          (ln_2): LayerNorm((768,), eps=1e-05, elementwise_affine=True)\n",
              "        )\n",
              "        (11): ResidualAttentionBlock(\n",
              "          (attn): MultiheadAttention(\n",
              "            (out_proj): NonDynamicallyQuantizableLinear(in_features=768, out_features=768, bias=True)\n",
              "          )\n",
              "          (ln_1): LayerNorm((768,), eps=1e-05, elementwise_affine=True)\n",
              "          (mlp): Sequential(\n",
              "            (c_fc): Linear(in_features=768, out_features=3072, bias=True)\n",
              "            (gelu): QuickGELU()\n",
              "            (c_proj): Linear(in_features=3072, out_features=768, bias=True)\n",
              "          )\n",
              "          (ln_2): LayerNorm((768,), eps=1e-05, elementwise_affine=True)\n",
              "        )\n",
              "      )\n",
              "    )\n",
              "    (ln_post): LayerNorm((768,), eps=1e-05, elementwise_affine=True)\n",
              "  )\n",
              "  (transformer): Transformer(\n",
              "    (resblocks): Sequential(\n",
              "      (0): ResidualAttentionBlock(\n",
              "        (attn): MultiheadAttention(\n",
              "          (out_proj): NonDynamicallyQuantizableLinear(in_features=512, out_features=512, bias=True)\n",
              "        )\n",
              "        (ln_1): LayerNorm((512,), eps=1e-05, elementwise_affine=True)\n",
              "        (mlp): Sequential(\n",
              "          (c_fc): Linear(in_features=512, out_features=2048, bias=True)\n",
              "          (gelu): QuickGELU()\n",
              "          (c_proj): Linear(in_features=2048, out_features=512, bias=True)\n",
              "        )\n",
              "        (ln_2): LayerNorm((512,), eps=1e-05, elementwise_affine=True)\n",
              "      )\n",
              "      (1): ResidualAttentionBlock(\n",
              "        (attn): MultiheadAttention(\n",
              "          (out_proj): NonDynamicallyQuantizableLinear(in_features=512, out_features=512, bias=True)\n",
              "        )\n",
              "        (ln_1): LayerNorm((512,), eps=1e-05, elementwise_affine=True)\n",
              "        (mlp): Sequential(\n",
              "          (c_fc): Linear(in_features=512, out_features=2048, bias=True)\n",
              "          (gelu): QuickGELU()\n",
              "          (c_proj): Linear(in_features=2048, out_features=512, bias=True)\n",
              "        )\n",
              "        (ln_2): LayerNorm((512,), eps=1e-05, elementwise_affine=True)\n",
              "      )\n",
              "      (2): ResidualAttentionBlock(\n",
              "        (attn): MultiheadAttention(\n",
              "          (out_proj): NonDynamicallyQuantizableLinear(in_features=512, out_features=512, bias=True)\n",
              "        )\n",
              "        (ln_1): LayerNorm((512,), eps=1e-05, elementwise_affine=True)\n",
              "        (mlp): Sequential(\n",
              "          (c_fc): Linear(in_features=512, out_features=2048, bias=True)\n",
              "          (gelu): QuickGELU()\n",
              "          (c_proj): Linear(in_features=2048, out_features=512, bias=True)\n",
              "        )\n",
              "        (ln_2): LayerNorm((512,), eps=1e-05, elementwise_affine=True)\n",
              "      )\n",
              "      (3): ResidualAttentionBlock(\n",
              "        (attn): MultiheadAttention(\n",
              "          (out_proj): NonDynamicallyQuantizableLinear(in_features=512, out_features=512, bias=True)\n",
              "        )\n",
              "        (ln_1): LayerNorm((512,), eps=1e-05, elementwise_affine=True)\n",
              "        (mlp): Sequential(\n",
              "          (c_fc): Linear(in_features=512, out_features=2048, bias=True)\n",
              "          (gelu): QuickGELU()\n",
              "          (c_proj): Linear(in_features=2048, out_features=512, bias=True)\n",
              "        )\n",
              "        (ln_2): LayerNorm((512,), eps=1e-05, elementwise_affine=True)\n",
              "      )\n",
              "      (4): ResidualAttentionBlock(\n",
              "        (attn): MultiheadAttention(\n",
              "          (out_proj): NonDynamicallyQuantizableLinear(in_features=512, out_features=512, bias=True)\n",
              "        )\n",
              "        (ln_1): LayerNorm((512,), eps=1e-05, elementwise_affine=True)\n",
              "        (mlp): Sequential(\n",
              "          (c_fc): Linear(in_features=512, out_features=2048, bias=True)\n",
              "          (gelu): QuickGELU()\n",
              "          (c_proj): Linear(in_features=2048, out_features=512, bias=True)\n",
              "        )\n",
              "        (ln_2): LayerNorm((512,), eps=1e-05, elementwise_affine=True)\n",
              "      )\n",
              "      (5): ResidualAttentionBlock(\n",
              "        (attn): MultiheadAttention(\n",
              "          (out_proj): NonDynamicallyQuantizableLinear(in_features=512, out_features=512, bias=True)\n",
              "        )\n",
              "        (ln_1): LayerNorm((512,), eps=1e-05, elementwise_affine=True)\n",
              "        (mlp): Sequential(\n",
              "          (c_fc): Linear(in_features=512, out_features=2048, bias=True)\n",
              "          (gelu): QuickGELU()\n",
              "          (c_proj): Linear(in_features=2048, out_features=512, bias=True)\n",
              "        )\n",
              "        (ln_2): LayerNorm((512,), eps=1e-05, elementwise_affine=True)\n",
              "      )\n",
              "      (6): ResidualAttentionBlock(\n",
              "        (attn): MultiheadAttention(\n",
              "          (out_proj): NonDynamicallyQuantizableLinear(in_features=512, out_features=512, bias=True)\n",
              "        )\n",
              "        (ln_1): LayerNorm((512,), eps=1e-05, elementwise_affine=True)\n",
              "        (mlp): Sequential(\n",
              "          (c_fc): Linear(in_features=512, out_features=2048, bias=True)\n",
              "          (gelu): QuickGELU()\n",
              "          (c_proj): Linear(in_features=2048, out_features=512, bias=True)\n",
              "        )\n",
              "        (ln_2): LayerNorm((512,), eps=1e-05, elementwise_affine=True)\n",
              "      )\n",
              "      (7): ResidualAttentionBlock(\n",
              "        (attn): MultiheadAttention(\n",
              "          (out_proj): NonDynamicallyQuantizableLinear(in_features=512, out_features=512, bias=True)\n",
              "        )\n",
              "        (ln_1): LayerNorm((512,), eps=1e-05, elementwise_affine=True)\n",
              "        (mlp): Sequential(\n",
              "          (c_fc): Linear(in_features=512, out_features=2048, bias=True)\n",
              "          (gelu): QuickGELU()\n",
              "          (c_proj): Linear(in_features=2048, out_features=512, bias=True)\n",
              "        )\n",
              "        (ln_2): LayerNorm((512,), eps=1e-05, elementwise_affine=True)\n",
              "      )\n",
              "      (8): ResidualAttentionBlock(\n",
              "        (attn): MultiheadAttention(\n",
              "          (out_proj): NonDynamicallyQuantizableLinear(in_features=512, out_features=512, bias=True)\n",
              "        )\n",
              "        (ln_1): LayerNorm((512,), eps=1e-05, elementwise_affine=True)\n",
              "        (mlp): Sequential(\n",
              "          (c_fc): Linear(in_features=512, out_features=2048, bias=True)\n",
              "          (gelu): QuickGELU()\n",
              "          (c_proj): Linear(in_features=2048, out_features=512, bias=True)\n",
              "        )\n",
              "        (ln_2): LayerNorm((512,), eps=1e-05, elementwise_affine=True)\n",
              "      )\n",
              "      (9): ResidualAttentionBlock(\n",
              "        (attn): MultiheadAttention(\n",
              "          (out_proj): NonDynamicallyQuantizableLinear(in_features=512, out_features=512, bias=True)\n",
              "        )\n",
              "        (ln_1): LayerNorm((512,), eps=1e-05, elementwise_affine=True)\n",
              "        (mlp): Sequential(\n",
              "          (c_fc): Linear(in_features=512, out_features=2048, bias=True)\n",
              "          (gelu): QuickGELU()\n",
              "          (c_proj): Linear(in_features=2048, out_features=512, bias=True)\n",
              "        )\n",
              "        (ln_2): LayerNorm((512,), eps=1e-05, elementwise_affine=True)\n",
              "      )\n",
              "      (10): ResidualAttentionBlock(\n",
              "        (attn): MultiheadAttention(\n",
              "          (out_proj): NonDynamicallyQuantizableLinear(in_features=512, out_features=512, bias=True)\n",
              "        )\n",
              "        (ln_1): LayerNorm((512,), eps=1e-05, elementwise_affine=True)\n",
              "        (mlp): Sequential(\n",
              "          (c_fc): Linear(in_features=512, out_features=2048, bias=True)\n",
              "          (gelu): QuickGELU()\n",
              "          (c_proj): Linear(in_features=2048, out_features=512, bias=True)\n",
              "        )\n",
              "        (ln_2): LayerNorm((512,), eps=1e-05, elementwise_affine=True)\n",
              "      )\n",
              "      (11): ResidualAttentionBlock(\n",
              "        (attn): MultiheadAttention(\n",
              "          (out_proj): NonDynamicallyQuantizableLinear(in_features=512, out_features=512, bias=True)\n",
              "        )\n",
              "        (ln_1): LayerNorm((512,), eps=1e-05, elementwise_affine=True)\n",
              "        (mlp): Sequential(\n",
              "          (c_fc): Linear(in_features=512, out_features=2048, bias=True)\n",
              "          (gelu): QuickGELU()\n",
              "          (c_proj): Linear(in_features=2048, out_features=512, bias=True)\n",
              "        )\n",
              "        (ln_2): LayerNorm((512,), eps=1e-05, elementwise_affine=True)\n",
              "      )\n",
              "    )\n",
              "  )\n",
              "  (token_embedding): Embedding(49408, 512)\n",
              "  (ln_final): LayerNorm((512,), eps=1e-05, elementwise_affine=True)\n",
              ")"
            ]
          },
          "metadata": {
            "tags": []
          },
          "execution_count": 5
        },
        {
          "output_type": "execute_result",
          "data": {
            "text/plain": [
              "['RN50', 'RN101', 'RN50x4', 'ViT-B/32']"
            ]
          },
          "metadata": {
            "tags": []
          },
          "execution_count": 5
        },
        {
          "output_type": "execute_result",
          "data": {
            "text/plain": [
              "224"
            ]
          },
          "metadata": {
            "tags": []
          },
          "execution_count": 5
        }
      ]
    },
    {
      "cell_type": "markdown",
      "metadata": {
        "id": "mw0KBLebMywW"
      },
      "source": [
        "# Params"
      ]
    },
    {
      "cell_type": "code",
      "metadata": {
        "id": "Nq0wA-wc-P-s",
        "cellView": "form"
      },
      "source": [
        "#@title Define Image Parameters\n",
        "im_shape = [512, 512, 3]\n",
        "sideX, sideY, channels = im_shape\n",
        "batch_size = 1\n"
      ],
      "execution_count": null,
      "outputs": []
    },
    {
      "cell_type": "markdown",
      "metadata": {
        "id": "UlIUu0jK3S19"
      },
      "source": [
        "# Define"
      ]
    },
    {
      "cell_type": "code",
      "metadata": {
        "id": "gCj1wr8pOqOe",
        "cellView": "form"
      },
      "source": [
        "#@title Define Helpers\n",
        "import os\n",
        "def displ(img, pre_scaled=True, alternative=False):\n",
        "  img = np.array(img)[:,:,:]\n",
        "  img = np.transpose(img, (1, 2, 0))\n",
        "  if not pre_scaled:\n",
        "    img = scale(img, 48*4, 32*4)\n",
        "  #if os.path.exists(outpath(itt)):\n",
        "  if itt >= 10:\n",
        "    imageio.imwrite(outpath(itt,alternative=alternative), np.array(img))\n",
        "  else:\n",
        "    print(\"skipping image writing for iteration\", itt)\n",
        "  #if itt%10==0:\n",
        "  #  return display.Image(outpath(itt,alternative=alternative))\n",
        "\n",
        "def gallery(array, ncols=2):\n",
        "    nindex, height, width, intensity = array.shape\n",
        "    nrows = nindex//ncols\n",
        "    assert nindex == nrows*ncols\n",
        "    # want result.shape = (height*nrows, width*ncols, intensity)\n",
        "    result = (array.reshape(nrows, ncols, height, width, intensity)\n",
        "              .swapaxes(1,2)\n",
        "              .reshape(height*nrows, width*ncols, intensity))\n",
        "    return result\n",
        "\n",
        "def card_padded(im, to_pad=3):\n",
        "  return np.pad(np.pad(np.pad(im, [[1,1], [1,1], [0,0]],constant_values=0), [[2,2], [2,2], [0,0]],constant_values=1),\n",
        "            [[to_pad,to_pad], [to_pad,to_pad], [0,0]],constant_values=0)\n",
        "\n",
        "def get_all(img):\n",
        "  img = np.transpose(img, (0,2,3,1))\n",
        "  cards = np.zeros((img.shape[0], sideX+12, sideY+12, 3))\n",
        "  for i in range(len(img)):\n",
        "    cards[i] = card_padded(img[i])\n",
        "  print(img.shape)\n",
        "  cards = gallery(cards)\n",
        "  imageio.imwrite(outpath(itt), np.array(cards))\n",
        "  if itt % 30 == 0:\n",
        "    return display.Image(outpath(itt))\n",
        "  "
      ],
      "execution_count": null,
      "outputs": []
    },
    {
      "cell_type": "markdown",
      "metadata": {
        "id": "GHB7BcR1zNLZ"
      },
      "source": [
        "# Generator"
      ]
    },
    {
      "cell_type": "code",
      "metadata": {
        "id": "WtlDVVMvzMUd",
        "cellView": "form",
        "colab": {
          "base_uri": "https://localhost:8080/",
          "height": 1000,
          "referenced_widgets": [
            "1ddd7768870b401e848074fdc3674835",
            "94cb7cfbb58b4ef58e908170a125c7af",
            "f0aa359cb4df4715b7bcc66254839ff2",
            "89ad62d7adf04b79a79d607ae3deea75",
            "ddbb8b5c8dcb4d6f9df8bd28a1fb54cd",
            "fd2a6f5217884019a32c7a281f6232c1",
            "9c0c9a8b68214f4c80bcaf6a221c949c",
            "0f85eee3b44e48fe80927f097660c922"
          ]
        },
        "outputId": "88bf7ce3-4060-4728-f08f-a150ffc7f1e9"
      },
      "source": [
        "#@title DownLoad VQGan Model\n",
        "!pip uninstall torchtext --yes\n",
        "\n",
        "%cd /content/\n",
        "!git clone https://github.com/CompVis/taming-transformers  \n",
        "%cd /content/taming-transformers\n",
        "\n",
        "\n",
        "# download a VQGAN with a larger codebook (16384 entries)\n",
        "!mkdir -p logs/vqgan_imagenet_f16_16384/checkpoints\n",
        "!mkdir -p logs/vqgan_imagenet_f16_16384/configs\n",
        "\n",
        "if len(os.listdir('logs/vqgan_imagenet_f16_16384/checkpoints/')) == 0:\n",
        "  !wget 'https://heibox.uni-heidelberg.de/f/867b05fc8c4841768640/?dl=1' -O 'logs/vqgan_imagenet_f16_16384/checkpoints/last.ckpt' \n",
        "  !wget 'https://heibox.uni-heidelberg.de/f/274fb24ed38341bfa753/?dl=1' -O 'logs/vqgan_imagenet_f16_16384/configs/model.yaml' \n",
        "\n",
        "\n",
        "\n",
        "# !cp /content/drive/MyDrive/vqgan_imagenet_f16_16384-20210325T002625Z-001.zip /content/vq.zip\n",
        "# !unzip /content/vq.zip -d /content/taming-transformers/logs/\n",
        "\n",
        "\n",
        "%pip install omegaconf==2.0.0 pytorch-lightning==1.0.8\n",
        "import sys\n",
        "sys.path.append(\".\")\n",
        "\n",
        "\n",
        "DEVICE = torch.device(\"cuda:0\" if torch.cuda.is_available() else \"cpu\")\n",
        "\n",
        "\n",
        "import yaml\n",
        "import torch\n",
        "from omegaconf import OmegaConf\n",
        "from taming.models.vqgan import VQModel\n",
        "\n",
        "def load_config(config_path, display=False):\n",
        "  config = OmegaConf.load(config_path)\n",
        "  if display:\n",
        "    print(yaml.dump(OmegaConf.to_container(config)))\n",
        "  return config\n",
        "\n",
        "def load_vqgan(config, ckpt_path=None):\n",
        "  model = VQModel(**config.model.params)\n",
        "  if ckpt_path is not None:\n",
        "    sd = torch.load(ckpt_path, map_location=\"cpu\")[\"state_dict\"]\n",
        "    missing, unexpected = model.load_state_dict(sd, strict=False)\n",
        "  return model.eval()\n",
        "\n",
        "def preprocess_vqgan(x):\n",
        "  x = 2.*x - 1.\n",
        "  return x\n",
        "\n",
        "def custom_to_pil(x):\n",
        "  x = x.detach().cpu()\n",
        "  x = torch.clamp(x, -1., 1.)\n",
        "  x = (x + 1.)/2.\n",
        "  x = x.permute(1,2,0).numpy()\n",
        "  x = (255*x).astype(np.uint8)\n",
        "  x = Image.fromarray(x)\n",
        "  if not x.mode == \"RGB\":\n",
        "    x = x.convert(\"RGB\")\n",
        "  return x\n",
        "\n",
        "def reconstruct_with_vqgan(x, model):\n",
        "  # could also use model(x) for reconstruction but use explicit encoding and decoding here\n",
        "  z, _, [_, _, indices] = model.encode(x)\n",
        "  print(f\"VQGAN: latent shape: {z.shape[2:]}\")\n",
        "  xrec = model.decode(z)\n",
        "  return xrec\n",
        "\n",
        "config16384 = load_config(\"logs/vqgan_imagenet_f16_16384/configs/model.yaml\", display=False)\n",
        "model16384 = load_vqgan(config16384, ckpt_path=\"logs/vqgan_imagenet_f16_16384/checkpoints/last.ckpt\").to(DEVICE)\n",
        "\n"
      ],
      "execution_count": null,
      "outputs": [
        {
          "output_type": "stream",
          "text": [
            "Uninstalling torchtext-0.10.0:\n",
            "  Successfully uninstalled torchtext-0.10.0\n",
            "/content\n",
            "Cloning into 'taming-transformers'...\n",
            "remote: Enumerating objects: 756, done.\u001b[K\n",
            "remote: Counting objects: 100% (73/73), done.\u001b[K\n",
            "remote: Compressing objects: 100% (23/23), done.\u001b[K\n",
            "remote: Total 756 (delta 59), reused 50 (delta 50), pack-reused 683\u001b[K\n",
            "Receiving objects: 100% (756/756), 174.04 MiB | 33.76 MiB/s, done.\n",
            "Resolving deltas: 100% (198/198), done.\n",
            "/content/taming-transformers\n",
            "--2021-07-03 14:15:38--  https://heibox.uni-heidelberg.de/f/867b05fc8c4841768640/?dl=1\n",
            "Resolving heibox.uni-heidelberg.de (heibox.uni-heidelberg.de)... 129.206.7.113\n",
            "Connecting to heibox.uni-heidelberg.de (heibox.uni-heidelberg.de)|129.206.7.113|:443... connected.\n",
            "HTTP request sent, awaiting response... 302 Found\n",
            "Location: https://heibox.uni-heidelberg.de/seafhttp/files/daceea37-955e-4d19-a591-42461dd9e911/last.ckpt [following]\n",
            "--2021-07-03 14:15:38--  https://heibox.uni-heidelberg.de/seafhttp/files/daceea37-955e-4d19-a591-42461dd9e911/last.ckpt\n",
            "Reusing existing connection to heibox.uni-heidelberg.de:443.\n",
            "HTTP request sent, awaiting response... 200 OK\n",
            "Length: 980092370 (935M) [application/octet-stream]\n",
            "Saving to: ‘logs/vqgan_imagenet_f16_16384/checkpoints/last.ckpt’\n",
            "\n",
            "logs/vqgan_imagenet 100%[===================>] 934.69M  14.9MB/s    in 63s     \n",
            "\n",
            "2021-07-03 14:16:41 (14.9 MB/s) - ‘logs/vqgan_imagenet_f16_16384/checkpoints/last.ckpt’ saved [980092370/980092370]\n",
            "\n",
            "--2021-07-03 14:16:41--  https://heibox.uni-heidelberg.de/f/274fb24ed38341bfa753/?dl=1\n",
            "Resolving heibox.uni-heidelberg.de (heibox.uni-heidelberg.de)... 129.206.7.113\n",
            "Connecting to heibox.uni-heidelberg.de (heibox.uni-heidelberg.de)|129.206.7.113|:443... connected.\n",
            "HTTP request sent, awaiting response... 302 Found\n",
            "Location: https://heibox.uni-heidelberg.de/seafhttp/files/dfb95df5-29d6-4ed8-9437-11389c6ecf70/model.yaml [following]\n",
            "--2021-07-03 14:16:42--  https://heibox.uni-heidelberg.de/seafhttp/files/dfb95df5-29d6-4ed8-9437-11389c6ecf70/model.yaml\n",
            "Reusing existing connection to heibox.uni-heidelberg.de:443.\n",
            "HTTP request sent, awaiting response... 200 OK\n",
            "Length: 692 [application/octet-stream]\n",
            "Saving to: ‘logs/vqgan_imagenet_f16_16384/configs/model.yaml’\n",
            "\n",
            "logs/vqgan_imagenet 100%[===================>]     692  --.-KB/s    in 0.007s  \n",
            "\n",
            "2021-07-03 14:16:42 (91.0 KB/s) - ‘logs/vqgan_imagenet_f16_16384/configs/model.yaml’ saved [692/692]\n",
            "\n",
            "Collecting omegaconf==2.0.0\n",
            "  Downloading https://files.pythonhosted.org/packages/3d/95/ebd73361f9c6e94bd0f3b19ffe31c24e833834c022f1c0328ac71b2d6c90/omegaconf-2.0.0-py3-none-any.whl\n",
            "Collecting pytorch-lightning==1.0.8\n",
            "\u001b[?25l  Downloading https://files.pythonhosted.org/packages/2e/92/078c5524c875c274ded8a0317ef31a2bb86d02c5c74089ab754d0f12b29c/pytorch_lightning-1.0.8-py3-none-any.whl (561kB)\n",
            "\u001b[K     |████████████████████████████████| 563kB 9.1MB/s \n",
            "\u001b[?25hRequirement already satisfied: typing-extensions in /usr/local/lib/python3.7/dist-packages (from omegaconf==2.0.0) (3.7.4.3)\n",
            "Requirement already satisfied: PyYAML in /usr/local/lib/python3.7/dist-packages (from omegaconf==2.0.0) (3.13)\n",
            "Requirement already satisfied: torch>=1.3 in /usr/local/lib/python3.7/dist-packages (from pytorch-lightning==1.0.8) (1.9.0+cu102)\n",
            "Collecting fsspec>=0.8.0\n",
            "\u001b[?25l  Downloading https://files.pythonhosted.org/packages/0e/3a/666e63625a19883ae8e1674099e631f9737bd5478c4790e5ad49c5ac5261/fsspec-2021.6.1-py3-none-any.whl (115kB)\n",
            "\u001b[K     |████████████████████████████████| 122kB 53.0MB/s \n",
            "\u001b[?25hCollecting future>=0.17.1\n",
            "\u001b[?25l  Downloading https://files.pythonhosted.org/packages/45/0b/38b06fd9b92dc2b68d58b75f900e97884c45bedd2ff83203d933cf5851c9/future-0.18.2.tar.gz (829kB)\n",
            "\u001b[K     |████████████████████████████████| 829kB 52.9MB/s \n",
            "\u001b[?25hRequirement already satisfied: tensorboard>=2.2.0 in /usr/local/lib/python3.7/dist-packages (from pytorch-lightning==1.0.8) (2.5.0)\n",
            "Requirement already satisfied: numpy>=1.16.4 in /usr/local/lib/python3.7/dist-packages (from pytorch-lightning==1.0.8) (1.19.0)\n",
            "Requirement already satisfied: tqdm>=4.41.0 in /usr/local/lib/python3.7/dist-packages (from pytorch-lightning==1.0.8) (4.41.1)\n",
            "Requirement already satisfied: markdown>=2.6.8 in /usr/local/lib/python3.7/dist-packages (from tensorboard>=2.2.0->pytorch-lightning==1.0.8) (3.3.4)\n",
            "Requirement already satisfied: wheel>=0.26; python_version >= \"3\" in /usr/local/lib/python3.7/dist-packages (from tensorboard>=2.2.0->pytorch-lightning==1.0.8) (0.36.2)\n",
            "Requirement already satisfied: grpcio>=1.24.3 in /usr/local/lib/python3.7/dist-packages (from tensorboard>=2.2.0->pytorch-lightning==1.0.8) (1.34.1)\n",
            "Requirement already satisfied: tensorboard-plugin-wit>=1.6.0 in /usr/local/lib/python3.7/dist-packages (from tensorboard>=2.2.0->pytorch-lightning==1.0.8) (1.8.0)\n",
            "Requirement already satisfied: requests<3,>=2.21.0 in /usr/local/lib/python3.7/dist-packages (from tensorboard>=2.2.0->pytorch-lightning==1.0.8) (2.23.0)\n",
            "Requirement already satisfied: google-auth<2,>=1.6.3 in /usr/local/lib/python3.7/dist-packages (from tensorboard>=2.2.0->pytorch-lightning==1.0.8) (1.31.0)\n",
            "Requirement already satisfied: protobuf>=3.6.0 in /usr/local/lib/python3.7/dist-packages (from tensorboard>=2.2.0->pytorch-lightning==1.0.8) (3.12.4)\n",
            "Requirement already satisfied: tensorboard-data-server<0.7.0,>=0.6.0 in /usr/local/lib/python3.7/dist-packages (from tensorboard>=2.2.0->pytorch-lightning==1.0.8) (0.6.1)\n",
            "Requirement already satisfied: google-auth-oauthlib<0.5,>=0.4.1 in /usr/local/lib/python3.7/dist-packages (from tensorboard>=2.2.0->pytorch-lightning==1.0.8) (0.4.4)\n",
            "Requirement already satisfied: werkzeug>=0.11.15 in /usr/local/lib/python3.7/dist-packages (from tensorboard>=2.2.0->pytorch-lightning==1.0.8) (1.0.1)\n",
            "Requirement already satisfied: setuptools>=41.0.0 in /usr/local/lib/python3.7/dist-packages (from tensorboard>=2.2.0->pytorch-lightning==1.0.8) (57.0.0)\n",
            "Requirement already satisfied: absl-py>=0.4 in /usr/local/lib/python3.7/dist-packages (from tensorboard>=2.2.0->pytorch-lightning==1.0.8) (0.12.0)\n",
            "Requirement already satisfied: importlib-metadata; python_version < \"3.8\" in /usr/local/lib/python3.7/dist-packages (from markdown>=2.6.8->tensorboard>=2.2.0->pytorch-lightning==1.0.8) (4.5.0)\n",
            "Requirement already satisfied: six>=1.5.2 in /usr/local/lib/python3.7/dist-packages (from grpcio>=1.24.3->tensorboard>=2.2.0->pytorch-lightning==1.0.8) (1.15.0)\n",
            "Requirement already satisfied: chardet<4,>=3.0.2 in /usr/local/lib/python3.7/dist-packages (from requests<3,>=2.21.0->tensorboard>=2.2.0->pytorch-lightning==1.0.8) (3.0.4)\n",
            "Requirement already satisfied: certifi>=2017.4.17 in /usr/local/lib/python3.7/dist-packages (from requests<3,>=2.21.0->tensorboard>=2.2.0->pytorch-lightning==1.0.8) (2021.5.30)\n",
            "Requirement already satisfied: urllib3!=1.25.0,!=1.25.1,<1.26,>=1.21.1 in /usr/local/lib/python3.7/dist-packages (from requests<3,>=2.21.0->tensorboard>=2.2.0->pytorch-lightning==1.0.8) (1.24.3)\n",
            "Requirement already satisfied: idna<3,>=2.5 in /usr/local/lib/python3.7/dist-packages (from requests<3,>=2.21.0->tensorboard>=2.2.0->pytorch-lightning==1.0.8) (2.10)\n",
            "Requirement already satisfied: rsa<5,>=3.1.4; python_version >= \"3.6\" in /usr/local/lib/python3.7/dist-packages (from google-auth<2,>=1.6.3->tensorboard>=2.2.0->pytorch-lightning==1.0.8) (4.7.2)\n",
            "Requirement already satisfied: pyasn1-modules>=0.2.1 in /usr/local/lib/python3.7/dist-packages (from google-auth<2,>=1.6.3->tensorboard>=2.2.0->pytorch-lightning==1.0.8) (0.2.8)\n",
            "Requirement already satisfied: cachetools<5.0,>=2.0.0 in /usr/local/lib/python3.7/dist-packages (from google-auth<2,>=1.6.3->tensorboard>=2.2.0->pytorch-lightning==1.0.8) (4.2.2)\n",
            "Requirement already satisfied: requests-oauthlib>=0.7.0 in /usr/local/lib/python3.7/dist-packages (from google-auth-oauthlib<0.5,>=0.4.1->tensorboard>=2.2.0->pytorch-lightning==1.0.8) (1.3.0)\n",
            "Requirement already satisfied: zipp>=0.5 in /usr/local/lib/python3.7/dist-packages (from importlib-metadata; python_version < \"3.8\"->markdown>=2.6.8->tensorboard>=2.2.0->pytorch-lightning==1.0.8) (3.4.1)\n",
            "Requirement already satisfied: pyasn1>=0.1.3 in /usr/local/lib/python3.7/dist-packages (from rsa<5,>=3.1.4; python_version >= \"3.6\"->google-auth<2,>=1.6.3->tensorboard>=2.2.0->pytorch-lightning==1.0.8) (0.4.8)\n",
            "Requirement already satisfied: oauthlib>=3.0.0 in /usr/local/lib/python3.7/dist-packages (from requests-oauthlib>=0.7.0->google-auth-oauthlib<0.5,>=0.4.1->tensorboard>=2.2.0->pytorch-lightning==1.0.8) (3.1.1)\n",
            "Building wheels for collected packages: future\n",
            "  Building wheel for future (setup.py) ... \u001b[?25l\u001b[?25hdone\n",
            "  Created wheel for future: filename=future-0.18.2-cp37-none-any.whl size=491070 sha256=5185240c487aa2748f0ace1a57099078a5fc1781793e7a5e376597550614a1d9\n",
            "  Stored in directory: /root/.cache/pip/wheels/8b/99/a0/81daf51dcd359a9377b110a8a886b3895921802d2fc1b2397e\n",
            "Successfully built future\n",
            "\u001b[31mERROR: pytorch-lightning 1.0.8 has requirement PyYAML>=5.1, but you'll have pyyaml 3.13 which is incompatible.\u001b[0m\n",
            "Installing collected packages: omegaconf, fsspec, future, pytorch-lightning\n",
            "  Found existing installation: future 0.16.0\n",
            "    Uninstalling future-0.16.0:\n",
            "      Successfully uninstalled future-0.16.0\n",
            "Successfully installed fsspec-2021.6.1 future-0.18.2 omegaconf-2.0.0 pytorch-lightning-1.0.8\n"
          ],
          "name": "stdout"
        },
        {
          "output_type": "stream",
          "text": [
            "/usr/local/lib/python3.7/dist-packages/yaml/constructor.py:126: DeprecationWarning: Using or importing the ABCs from 'collections' instead of from 'collections.abc' is deprecated since Python 3.3,and in 3.9 it will stop working\n",
            "  if not isinstance(key, collections.Hashable):\n"
          ],
          "name": "stderr"
        },
        {
          "output_type": "stream",
          "text": [
            "Working with z of shape (1, 256, 16, 16) = 65536 dimensions.\n"
          ],
          "name": "stdout"
        },
        {
          "output_type": "stream",
          "text": [
            "Downloading: \"https://download.pytorch.org/models/vgg16-397923af.pth\" to /root/.cache/torch/hub/checkpoints/vgg16-397923af.pth\n"
          ],
          "name": "stderr"
        },
        {
          "output_type": "display_data",
          "data": {
            "application/vnd.jupyter.widget-view+json": {
              "model_id": "1ddd7768870b401e848074fdc3674835",
              "version_minor": 0,
              "version_major": 2
            },
            "text/plain": [
              "HBox(children=(FloatProgress(value=0.0, max=553433881.0), HTML(value='')))"
            ]
          },
          "metadata": {
            "tags": []
          }
        },
        {
          "output_type": "stream",
          "text": [
            "\n",
            "Downloading vgg_lpips model from https://heibox.uni-heidelberg.de/f/607503859c864bc1b30b/?dl=1 to taming/modules/autoencoder/lpips/vgg.pth\n"
          ],
          "name": "stdout"
        },
        {
          "output_type": "stream",
          "text": [
            "8.19kB [00:00, 359kB/s]                    \n"
          ],
          "name": "stderr"
        },
        {
          "output_type": "stream",
          "text": [
            "loaded pretrained LPIPS loss from taming/modules/autoencoder/lpips/vgg.pth\n",
            "VQLPIPSWithDiscriminator running with hinge loss.\n"
          ],
          "name": "stdout"
        }
      ]
    },
    {
      "cell_type": "markdown",
      "metadata": {
        "id": "XaocGDQXz3Zx"
      },
      "source": [
        " # Latent coordinate & Text"
      ]
    },
    {
      "cell_type": "code",
      "metadata": {
        "id": "GdCh2D8Dt8Xd",
        "cellView": "form"
      },
      "source": [
        "#@title Calculate Latent coordinate & Text\n",
        "torch.cuda.empty_cache()\n",
        "\n",
        "\n",
        "\n",
        "class Pars(torch.nn.Module):\n",
        "    def __init__(self):\n",
        "        super(Pars, self).__init__()\n",
        "\n",
        "\n",
        "        # self.normu = torch.nn.Parameter(o_i2.cuda().clone())\n",
        "\n",
        "        self.normu = .5*torch.randn(batch_size, 256, sideX//16, sideY//16).cuda()\n",
        "        \n",
        "        self.normu = torch.nn.Parameter(torch.sinh(1.9*torch.arcsinh(self.normu)))\n",
        "\n",
        "    def forward(self):\n",
        "\n",
        "\n",
        "      return self.normu.clip(-6, 6)\n",
        "      \n",
        "\n",
        "def model(x):\n",
        "  # o_i1 = model16384.encoder(x)\n",
        "  # o_i1 = x\n",
        "  # o_i2 = model16384.quant_conv(o_i1)\n",
        "  o_i2 = x\n",
        "  o_i3 = model16384.post_quant_conv(o_i2)\n",
        "  i = model16384.decoder(o_i3)\n",
        "  return i\n",
        "\n",
        "\n",
        "dec = .1\n",
        "\n",
        "lats = Pars().cuda()\n",
        "mapper = [lats.normu]\n",
        "optimizer = torch.optim.AdamW([{'params': mapper, 'lr': .5}], weight_decay=dec)\n",
        "eps = 0\n",
        "\n",
        "\n",
        "tx = clip.tokenize(text_input)\n",
        "t = perceptor.encode_text(tx.cuda()).detach().clone()\n",
        "\n",
        "t_not = clip.tokenize(text_not)\n",
        "t_not = perceptor.encode_text(t_not.cuda()).detach().clone()\n",
        "\n",
        "\n",
        "nom = torchvision.transforms.Normalize((0.48145466, 0.4578275, 0.40821073), (0.26862954, 0.26130258, 0.27577711))\n",
        "\n",
        "# augs = torch.nn.Sequential(\n",
        "#     kornia.augmentation.RandomHorizontalFlip(),\n",
        "#     kornia.augmentation.ColorJitter(hue=.01, saturation=.01, p=.7),\n",
        "#     kornia.augmentation.RandomAffine(degrees=15, translate=.05, p=.8, padding_mode='zeros', ),\n",
        "#     # kornia.augmentation.RandomResizedCrop((int(scaler)*224, int(scaler)*224), (.8, 2), (.8, 1.2)),\n",
        "    \n",
        "#     ).cuda()\n",
        "\n",
        "augs = torch.nn.Sequential(\n",
        "    torchvision.transforms.RandomHorizontalFlip(),\n",
        "    torchvision.transforms.RandomAffine(24, (.1, .1), fill=0)\n",
        ").cuda()\n",
        "\n",
        "\n",
        "up_noise = .11\n",
        "\n",
        "def outpath(itt, ext=\"png\", alternative=False):\n",
        "  out_path = text_slug+\"_\"+str(format(itt,'05d')) + '.' + ext\n",
        "  #if alternative:\n",
        "  #  out_path = \"alternative_\"+out_path\n",
        "  print(\"out_path\", output_path + \"/\" + out_path)\n",
        "  return output_path + \"/\" + out_path\n",
        "\n",
        "itt = 0\n",
        "\n",
        "\n",
        "with torch.no_grad():\n",
        "  al = (model(lats()).cpu().clip(-1, 1) + 1) / 2\n",
        "  #for allls in al:\n",
        "  #  displ(allls[:3])\n",
        "  #  print('\\n')\n",
        "    "
      ],
      "execution_count": null,
      "outputs": []
    },
    {
      "cell_type": "markdown",
      "metadata": {
        "id": "WztSrRF23Rqg"
      },
      "source": [
        "# Train"
      ]
    },
    {
      "cell_type": "code",
      "metadata": {
        "id": "7EuUz-ICNKUr",
        "cellView": "form",
        "colab": {
          "base_uri": "https://localhost:8080/"
        },
        "outputId": "89aa7c55-3d2d-47e4-c1ee-ccf073a4b3e2"
      },
      "source": [
        "#@title Training\n",
        "\n",
        "def augment(into, cutn=32):\n",
        "\n",
        "  into = torch.nn.functional.pad(into, (sideX//2, sideX//2, sideX//2, sideX//2), mode='constant', value=0)\n",
        "\n",
        "\n",
        "  into = augs(into)\n",
        "\n",
        "  p_s = []\n",
        "  for ch in range(cutn):\n",
        "    # size = torch.randint(int(.5*sideX), int(1.9*sideX), ())\n",
        "    size = int(torch.normal(1.2, .3, ()).clip(.43, 1.9) * sideX)\n",
        "    \n",
        "    if ch > cutn - 4:\n",
        "      size = int(sideX*1.4)\n",
        "    offsetx = torch.randint(0, int(sideX*2 - size), ())\n",
        "    offsety = torch.randint(0, int(sideX*2 - size), ())\n",
        "    apper = into[:, :, offsetx:offsetx + size, offsety:offsety + size]\n",
        "    apper = torch.nn.functional.interpolate(apper, (int(224*scaler), int(224*scaler)), mode='bilinear', align_corners=True)\n",
        "    p_s.append(apper)\n",
        "  into = torch.cat(p_s, 0)\n",
        "\n",
        "  into = into + up_noise*torch.rand((into.shape[0], 1, 1, 1)).cuda()*torch.randn_like(into, requires_grad=False)\n",
        "\n",
        "  return into\n",
        "\n",
        "def checkin(loss):\n",
        "  global up_noise\n",
        "  \n",
        "  with torch.no_grad():\n",
        "    \n",
        "    alnot = model(lats()).float()\n",
        "    alnot = augment((((alnot).clip(-1, 1) + 1) / 2), cutn=1)\n",
        "    for allls in alnot.cpu():\n",
        "      displ(allls)\n",
        "      #if itt % 100 == 0:\n",
        "      #  display.display(display.Image(outpath(itt)))\n",
        "      print('\\n')\n",
        "\n",
        "\n",
        "    print('''\n",
        "    @@@@@@@@@@@@@@@@@@@@@@@@@@@@@@@@@@@@@@@@@@@@@@@\n",
        "    @@@@@@@@@@@@@@@@@@@@@@@@@@@@@@@@@@@@@@@@@@@@@@@\n",
        "    @@@@@@@@@@@@@@@@@@@@@@@@@@@@@@@@@@@@@@@@@@@@@@@\n",
        "    ''')\n",
        "\n",
        "\n",
        "    alnot = (model(lats()).cpu().clip(-1, 1) + 1) / 2\n",
        "    \n",
        "    for allls in alnot.cpu():\n",
        "      displ(allls,True) #[:, int(.1*sideY):int(.9*sideY), int(.1*sideX):int(.9*sideX)]\n",
        "      #display.display(display.Image(outpath(itt,alternative=True)))\n",
        "      print('\\n')\n",
        "\n",
        "  \n",
        "  print('''\n",
        "  ##########################################################\n",
        "  ''',\n",
        "        loss, ' loss\\niteration',itt)\n",
        "\n",
        "\n",
        "  # the people spoke and they love \"ding\"\n",
        "  # output.eval_js('new Audio(\"https://freesound.org/data/previews/80/80921_1022651-lq.ogg\").play()')\n",
        "\n",
        "\n",
        "\n",
        "def ascend_txt():\n",
        "  global up_noise\n",
        "  out = model(lats())\n",
        "\n",
        "\n",
        "  into = augment((out.clip(-1, 1) + 1) / 2)\n",
        "\n",
        "\n",
        "\n",
        "  into = nom(into)\n",
        "\n",
        "\n",
        "  iii = perceptor.encode_image(into)\n",
        "\n",
        "  t_x = torch.cosine_similarity(t_not, iii, -1)\n",
        "\n",
        "  all_s = torch.cosine_similarity(t, iii, -1)\n",
        "\n",
        "  return [3*t_x, -10*all_s]\n",
        "  \n",
        "def train(i):\n",
        "  global dec\n",
        "  global up_noise\n",
        "\n",
        "  loss1 = ascend_txt()\n",
        "  loss = loss1[0] + loss1[1]\n",
        "  loss = loss.mean()\n",
        "  optimizer.zero_grad()\n",
        "  loss.backward()\n",
        "  optimizer.step()\n",
        "  \n",
        "\n",
        "\n",
        "\n",
        "  if itt > 400:\n",
        "    for g in optimizer.param_groups:\n",
        "      g['lr'] *= .998\n",
        "      g['lr'] = max(g['lr'], .05)\n",
        "    dec *= .995\n",
        "\n",
        "\n",
        "\n",
        "  if torch.abs(lats()).max() > 5:\n",
        "    for g in optimizer.param_groups:\n",
        "      g['weight_decay'] = dec\n",
        "  else:\n",
        "    for g in optimizer.param_groups:\n",
        "      g['weight_decay'] = 0\n",
        "  \n",
        "  if itt % num_save_every == 0:\n",
        "    checkin(loss1)\n",
        "    \n",
        "    print('iteration',itt,'up_noise', up_noise)\n",
        "    for g in optimizer.param_groups:\n",
        "      print(g['lr'], 'lr', g['weight_decay'], 'decay')\n",
        "\n",
        "\n",
        "def loop():\n",
        "  global itt\n",
        "  for asatreat in range(num_iterations):\n",
        "    train(itt)\n",
        "    itt+=1\n",
        "\n",
        "\n",
        "#!rm $output_path/*\n",
        "\n",
        "loop()\n"
      ],
      "execution_count": null,
      "outputs": [
        {
          "output_type": "stream",
          "text": [
            "skipping image writing for iteration 0\n",
            "\n",
            "\n",
            "\n",
            "    @@@@@@@@@@@@@@@@@@@@@@@@@@@@@@@@@@@@@@@@@@@@@@@\n",
            "    @@@@@@@@@@@@@@@@@@@@@@@@@@@@@@@@@@@@@@@@@@@@@@@\n",
            "    @@@@@@@@@@@@@@@@@@@@@@@@@@@@@@@@@@@@@@@@@@@@@@@\n",
            "    \n",
            "skipping image writing for iteration 0\n",
            "\n",
            "\n",
            "\n",
            "  ##########################################################\n",
            "   [tensor([0.7837, 0.7773, 0.7217, 0.7822, 0.5840, 0.7349, 0.7725, 0.7661, 0.7891,\n",
            "        0.7896, 0.6611, 0.6924, 0.7485, 0.7754, 0.6553, 0.8037, 0.7656, 0.7920,\n",
            "        0.7754, 0.7256, 0.8105, 0.7910, 0.7749, 0.7979, 0.7695, 0.7852, 0.7100,\n",
            "        0.7617, 0.7803, 0.6743, 0.7354, 0.7695], device='cuda:0',\n",
            "       dtype=torch.float16, grad_fn=<MulBackward0>), tensor([-1.9346, -1.9531, -1.9082, -1.9668, -1.2129, -1.6973, -1.8311, -1.9873,\n",
            "        -1.9785, -2.0195, -1.5635, -1.7598, -1.9375, -1.9727, -1.4834, -1.9199,\n",
            "        -2.0156, -2.0371, -2.0215, -1.7129, -1.9980, -1.9590, -1.9727, -1.9316,\n",
            "        -1.9941, -2.0469, -1.5391, -1.8408, -1.9609, -1.7148, -1.8105, -1.8574],\n",
            "       device='cuda:0', dtype=torch.float16, grad_fn=<MulBackward0>)]  loss\n",
            "iteration 0\n",
            "iteration 0 up_noise 0.11\n",
            "0.5 lr 0.1 decay\n"
          ],
          "name": "stdout"
        },
        {
          "output_type": "stream",
          "text": [
            "WARNING:root:Lossy conversion from float32 to uint8. Range [-0.2033929079771042, 1.156632900238037]. Convert image to uint8 prior to saving to suppress this warning.\n"
          ],
          "name": "stderr"
        },
        {
          "output_type": "stream",
          "text": [
            "out_path /content/output/vibrant-painting-of-a-movie-in-the-style-of-magritte_00010.png\n",
            "\n",
            "\n",
            "\n",
            "    @@@@@@@@@@@@@@@@@@@@@@@@@@@@@@@@@@@@@@@@@@@@@@@\n",
            "    @@@@@@@@@@@@@@@@@@@@@@@@@@@@@@@@@@@@@@@@@@@@@@@\n",
            "    @@@@@@@@@@@@@@@@@@@@@@@@@@@@@@@@@@@@@@@@@@@@@@@\n",
            "    \n"
          ],
          "name": "stdout"
        },
        {
          "output_type": "stream",
          "text": [
            "WARNING:root:Lossy conversion from float32 to uint8. Range [0, 1]. Convert image to uint8 prior to saving to suppress this warning.\n"
          ],
          "name": "stderr"
        },
        {
          "output_type": "stream",
          "text": [
            "out_path /content/output/vibrant-painting-of-a-movie-in-the-style-of-magritte_00010.png\n",
            "\n",
            "\n",
            "\n",
            "  ##########################################################\n",
            "   [tensor([0.6255, 0.7969, 0.6670, 0.6992, 0.6025, 0.6201, 0.6484, 0.7129, 0.6851,\n",
            "        0.6113, 0.6060, 0.7749, 0.6660, 0.6323, 0.6772, 0.6313, 0.6226, 0.6577,\n",
            "        0.6748, 0.6206, 0.6338, 0.6108, 0.6138, 0.6904, 0.6553, 0.6353, 0.6245,\n",
            "        0.7031, 0.7041, 0.5928, 0.5664, 0.6289], device='cuda:0',\n",
            "       dtype=torch.float16, grad_fn=<MulBackward0>), tensor([-3.3809, -2.4688, -2.9199, -2.8125, -3.5000, -3.4531, -3.4102, -3.0195,\n",
            "        -2.8125, -3.4570, -3.3867, -2.1992, -2.7266, -3.0078, -3.1738, -3.2227,\n",
            "        -3.4141, -3.2793, -2.5859, -3.3398, -3.3027, -3.4160, -3.4102, -3.2578,\n",
            "        -2.7129, -3.1348, -3.4297, -2.3691, -2.9375, -3.4258, -3.4414, -3.2441],\n",
            "       device='cuda:0', dtype=torch.float16, grad_fn=<MulBackward0>)]  loss\n",
            "iteration 10\n",
            "iteration 10 up_noise 0.11\n",
            "0.5 lr 0.1 decay\n"
          ],
          "name": "stdout"
        },
        {
          "output_type": "stream",
          "text": [
            "WARNING:root:Lossy conversion from float32 to uint8. Range [-0.243047833442688, 1.168770432472229]. Convert image to uint8 prior to saving to suppress this warning.\n",
            "WARNING:root:Lossy conversion from float32 to uint8. Range [0, 1]. Convert image to uint8 prior to saving to suppress this warning.\n"
          ],
          "name": "stderr"
        },
        {
          "output_type": "stream",
          "text": [
            "out_path /content/output/vibrant-painting-of-a-movie-in-the-style-of-magritte_00020.png\n",
            "\n",
            "\n",
            "\n",
            "    @@@@@@@@@@@@@@@@@@@@@@@@@@@@@@@@@@@@@@@@@@@@@@@\n",
            "    @@@@@@@@@@@@@@@@@@@@@@@@@@@@@@@@@@@@@@@@@@@@@@@\n",
            "    @@@@@@@@@@@@@@@@@@@@@@@@@@@@@@@@@@@@@@@@@@@@@@@\n",
            "    \n",
            "out_path /content/output/vibrant-painting-of-a-movie-in-the-style-of-magritte_00020.png\n",
            "\n",
            "\n",
            "\n",
            "  ##########################################################\n",
            "   [tensor([0.5942, 0.6040, 0.5747, 0.6362, 0.5981, 0.6426, 0.5703, 0.7197, 0.6260,\n",
            "        0.6802, 0.5986, 0.6445, 0.7280, 0.5811, 0.6733, 0.6079, 0.6240, 0.5938,\n",
            "        0.6055, 0.7417, 0.6670, 0.5742, 0.5708, 0.5986, 0.6895, 0.6230, 0.6465,\n",
            "        0.6055, 0.5557, 0.5825, 0.5889, 0.5728], device='cuda:0',\n",
            "       dtype=torch.float16, grad_fn=<MulBackward0>), tensor([-3.9180, -3.9531, -3.8867, -3.7891, -3.7266, -3.6602, -3.8906, -2.5039,\n",
            "        -3.3867, -3.2207, -3.8906, -3.5703, -2.7461, -3.8359, -2.8516, -3.7988,\n",
            "        -3.4766, -3.7910, -3.8770, -2.1836, -3.2656, -3.9570, -3.9941, -3.8398,\n",
            "        -2.3535, -3.5117, -3.6016, -3.9805, -3.9102, -3.9180, -3.9473, -3.8457],\n",
            "       device='cuda:0', dtype=torch.float16, grad_fn=<MulBackward0>)]  loss\n",
            "iteration 20\n",
            "iteration 20 up_noise 0.11\n",
            "0.5 lr 0.1 decay\n"
          ],
          "name": "stdout"
        },
        {
          "output_type": "stream",
          "text": [
            "WARNING:root:Lossy conversion from float32 to uint8. Range [-0.1413699835538864, 1.098712682723999]. Convert image to uint8 prior to saving to suppress this warning.\n",
            "WARNING:root:Lossy conversion from float32 to uint8. Range [0, 1]. Convert image to uint8 prior to saving to suppress this warning.\n"
          ],
          "name": "stderr"
        },
        {
          "output_type": "stream",
          "text": [
            "out_path /content/output/vibrant-painting-of-a-movie-in-the-style-of-magritte_00030.png\n",
            "\n",
            "\n",
            "\n",
            "    @@@@@@@@@@@@@@@@@@@@@@@@@@@@@@@@@@@@@@@@@@@@@@@\n",
            "    @@@@@@@@@@@@@@@@@@@@@@@@@@@@@@@@@@@@@@@@@@@@@@@\n",
            "    @@@@@@@@@@@@@@@@@@@@@@@@@@@@@@@@@@@@@@@@@@@@@@@\n",
            "    \n",
            "out_path /content/output/vibrant-painting-of-a-movie-in-the-style-of-magritte_00030.png\n",
            "\n",
            "\n",
            "\n",
            "  ##########################################################\n",
            "   [tensor([0.6968, 0.6201, 0.6411, 0.6572, 0.6626, 0.5806, 0.6055, 0.6606, 0.5820,\n",
            "        0.6221, 0.7661, 0.6284, 0.7383, 0.5898, 0.6772, 0.6475, 0.7041, 0.5732,\n",
            "        0.7515, 0.5947, 0.6348, 0.6538, 0.6841, 0.6841, 0.6484, 0.6997, 0.5938,\n",
            "        0.6128, 0.8008, 0.5972, 0.5986, 0.5947], device='cuda:0',\n",
            "       dtype=torch.float16, grad_fn=<MulBackward0>), tensor([-3.4531, -4.0586, -3.6914, -3.6016, -4.0664, -3.7852, -3.8945, -4.0234,\n",
            "        -3.8105, -3.8965, -3.2109, -4.0547, -3.3965, -4.0469, -3.8066, -3.6816,\n",
            "        -3.1270, -3.8164, -3.3047, -4.0508, -4.0312, -3.9414, -3.5234, -3.2520,\n",
            "        -4.0039, -3.8125, -3.8398, -3.9258, -2.1895, -3.7793, -3.6875, -3.9219],\n",
            "       device='cuda:0', dtype=torch.float16, grad_fn=<MulBackward0>)]  loss\n",
            "iteration 30\n",
            "iteration 30 up_noise 0.11\n",
            "0.5 lr 0.1 decay\n"
          ],
          "name": "stdout"
        },
        {
          "output_type": "stream",
          "text": [
            "WARNING:root:Lossy conversion from float32 to uint8. Range [-0.2158142328262329, 1.129331350326538]. Convert image to uint8 prior to saving to suppress this warning.\n",
            "WARNING:root:Lossy conversion from float32 to uint8. Range [0, 1]. Convert image to uint8 prior to saving to suppress this warning.\n"
          ],
          "name": "stderr"
        },
        {
          "output_type": "stream",
          "text": [
            "out_path /content/output/vibrant-painting-of-a-movie-in-the-style-of-magritte_00040.png\n",
            "\n",
            "\n",
            "\n",
            "    @@@@@@@@@@@@@@@@@@@@@@@@@@@@@@@@@@@@@@@@@@@@@@@\n",
            "    @@@@@@@@@@@@@@@@@@@@@@@@@@@@@@@@@@@@@@@@@@@@@@@\n",
            "    @@@@@@@@@@@@@@@@@@@@@@@@@@@@@@@@@@@@@@@@@@@@@@@\n",
            "    \n",
            "out_path /content/output/vibrant-painting-of-a-movie-in-the-style-of-magritte_00040.png\n",
            "\n",
            "\n",
            "\n",
            "  ##########################################################\n",
            "   [tensor([0.6211, 0.6113, 0.6812, 0.6289, 0.6021, 0.6533, 0.5806, 0.5938, 0.6338,\n",
            "        0.6362, 0.6484, 0.6221, 0.6494, 0.6226, 0.5933, 0.6216, 0.6074, 0.7119,\n",
            "        0.5859, 0.5957, 0.6230, 0.6416, 0.6016, 0.6025, 0.6318, 0.5928, 0.5776,\n",
            "        0.6387, 0.6162, 0.6123, 0.5898, 0.6279], device='cuda:0',\n",
            "       dtype=torch.float16, grad_fn=<MulBackward0>), tensor([-3.3613, -3.7578, -3.3887, -4.0547, -3.7500, -3.9375, -4.0352, -3.9863,\n",
            "        -3.5742, -3.9277, -3.7734, -3.7695, -3.9180, -3.6895, -4.0234, -3.5195,\n",
            "        -4.2891, -3.4746, -4.0703, -4.1328, -3.9023, -3.5078, -3.9648, -3.6992,\n",
            "        -3.7070, -4.1328, -4.0586, -3.6797, -3.5703, -3.9648, -4.0312, -4.0586],\n",
            "       device='cuda:0', dtype=torch.float16, grad_fn=<MulBackward0>)]  loss\n",
            "iteration 40\n",
            "iteration 40 up_noise 0.11\n",
            "0.5 lr 0.1 decay\n"
          ],
          "name": "stdout"
        },
        {
          "output_type": "stream",
          "text": [
            "WARNING:root:Lossy conversion from float32 to uint8. Range [-0.34957587718963623, 1.2814322710037231]. Convert image to uint8 prior to saving to suppress this warning.\n",
            "WARNING:root:Lossy conversion from float32 to uint8. Range [0, 1]. Convert image to uint8 prior to saving to suppress this warning.\n"
          ],
          "name": "stderr"
        },
        {
          "output_type": "stream",
          "text": [
            "out_path /content/output/vibrant-painting-of-a-movie-in-the-style-of-magritte_00050.png\n",
            "\n",
            "\n",
            "\n",
            "    @@@@@@@@@@@@@@@@@@@@@@@@@@@@@@@@@@@@@@@@@@@@@@@\n",
            "    @@@@@@@@@@@@@@@@@@@@@@@@@@@@@@@@@@@@@@@@@@@@@@@\n",
            "    @@@@@@@@@@@@@@@@@@@@@@@@@@@@@@@@@@@@@@@@@@@@@@@\n",
            "    \n",
            "out_path /content/output/vibrant-painting-of-a-movie-in-the-style-of-magritte_00050.png\n",
            "\n",
            "\n",
            "\n",
            "  ##########################################################\n",
            "   [tensor([0.6553, 0.5674, 0.6572, 0.5830, 0.7129, 0.6377, 0.5513, 0.6235, 0.6104,\n",
            "        0.5703, 0.7056, 0.6299, 0.5850, 0.5938, 0.5967, 0.6055, 0.5986, 0.5864,\n",
            "        0.6934, 0.6074, 0.5576, 0.7173, 0.6226, 0.5889, 0.6030, 0.6523, 0.6104,\n",
            "        0.6016, 0.5928, 0.6294, 0.6016, 0.6758], device='cuda:0',\n",
            "       dtype=torch.float16, grad_fn=<MulBackward0>), tensor([-4.1289, -4.2656, -3.5586, -4.2227, -2.3867, -3.7305, -4.3281, -3.9102,\n",
            "        -4.2266, -4.2930, -3.2812, -4.0391, -4.2812, -4.0703, -4.1875, -4.0469,\n",
            "        -4.0625, -4.2266, -3.0312, -3.9688, -4.1523, -3.3887, -3.6602, -4.1719,\n",
            "        -4.3320, -4.2305, -4.2109, -4.1953, -4.2188, -3.9219, -4.1602, -3.7090],\n",
            "       device='cuda:0', dtype=torch.float16, grad_fn=<MulBackward0>)]  loss\n",
            "iteration 50\n",
            "iteration 50 up_noise 0.11\n",
            "0.5 lr 0.1 decay\n"
          ],
          "name": "stdout"
        },
        {
          "output_type": "stream",
          "text": [
            "WARNING:root:Lossy conversion from float32 to uint8. Range [-0.011882081627845764, 1.0097401142120361]. Convert image to uint8 prior to saving to suppress this warning.\n",
            "WARNING:root:Lossy conversion from float32 to uint8. Range [0, 1]. Convert image to uint8 prior to saving to suppress this warning.\n"
          ],
          "name": "stderr"
        },
        {
          "output_type": "stream",
          "text": [
            "out_path /content/output/vibrant-painting-of-a-movie-in-the-style-of-magritte_00060.png\n",
            "\n",
            "\n",
            "\n",
            "    @@@@@@@@@@@@@@@@@@@@@@@@@@@@@@@@@@@@@@@@@@@@@@@\n",
            "    @@@@@@@@@@@@@@@@@@@@@@@@@@@@@@@@@@@@@@@@@@@@@@@\n",
            "    @@@@@@@@@@@@@@@@@@@@@@@@@@@@@@@@@@@@@@@@@@@@@@@\n",
            "    \n",
            "out_path /content/output/vibrant-painting-of-a-movie-in-the-style-of-magritte_00060.png\n",
            "\n",
            "\n",
            "\n",
            "  ##########################################################\n",
            "   [tensor([0.5703, 0.5869, 0.6055, 0.6465, 0.5771, 0.5703, 0.5566, 0.5903, 0.5830,\n",
            "        0.5518, 0.5698, 0.5781, 0.6235, 0.7480, 0.6201, 0.5635, 0.6182, 0.5869,\n",
            "        0.6035, 0.5654, 0.6943, 0.5767, 0.5610, 0.5547, 0.5879, 0.5732, 0.5801,\n",
            "        0.6025, 0.6294, 0.5776, 0.5742, 0.5962], device='cuda:0',\n",
            "       dtype=torch.float16, grad_fn=<MulBackward0>), tensor([-4.2891, -4.4102, -3.9668, -3.9336, -4.2422, -4.4180, -4.0664, -4.3008,\n",
            "        -4.0781, -4.5000, -4.2383, -4.3516, -3.9277, -3.0449, -4.0781, -4.5547,\n",
            "        -4.0977, -4.3320, -3.2324, -4.3984, -3.2773, -4.4414, -4.4258, -4.4297,\n",
            "        -4.0625, -4.3828, -4.1836, -4.3398, -3.9297, -4.2422, -4.3711, -4.2695],\n",
            "       device='cuda:0', dtype=torch.float16, grad_fn=<MulBackward0>)]  loss\n",
            "iteration 60\n",
            "iteration 60 up_noise 0.11\n",
            "0.5 lr 0.1 decay\n"
          ],
          "name": "stdout"
        },
        {
          "output_type": "stream",
          "text": [
            "WARNING:root:Lossy conversion from float32 to uint8. Range [-0.45344623923301697, 1.3664088249206543]. Convert image to uint8 prior to saving to suppress this warning.\n",
            "WARNING:root:Lossy conversion from float32 to uint8. Range [0, 1]. Convert image to uint8 prior to saving to suppress this warning.\n"
          ],
          "name": "stderr"
        },
        {
          "output_type": "stream",
          "text": [
            "out_path /content/output/vibrant-painting-of-a-movie-in-the-style-of-magritte_00070.png\n",
            "\n",
            "\n",
            "\n",
            "    @@@@@@@@@@@@@@@@@@@@@@@@@@@@@@@@@@@@@@@@@@@@@@@\n",
            "    @@@@@@@@@@@@@@@@@@@@@@@@@@@@@@@@@@@@@@@@@@@@@@@\n",
            "    @@@@@@@@@@@@@@@@@@@@@@@@@@@@@@@@@@@@@@@@@@@@@@@\n",
            "    \n",
            "out_path /content/output/vibrant-painting-of-a-movie-in-the-style-of-magritte_00070.png\n",
            "\n",
            "\n",
            "\n",
            "  ##########################################################\n",
            "   [tensor([0.6782, 0.5703, 0.7476, 0.6729, 0.6147, 0.6392, 0.6050, 0.6221, 0.5674,\n",
            "        0.5889, 0.6221, 0.6055, 0.5938, 0.6738, 0.5874, 0.6128, 0.5742, 0.6118,\n",
            "        0.6074, 0.6348, 0.5977, 0.5928, 0.5674, 0.5713, 0.5615, 0.6528, 0.5977,\n",
            "        0.6133, 0.6099, 0.5820, 0.6074, 0.5869], device='cuda:0',\n",
            "       dtype=torch.float16, grad_fn=<MulBackward0>), tensor([-3.5781, -4.3789, -2.0820, -3.8184, -3.8945, -4.3906, -4.2383, -4.0703,\n",
            "        -3.5918, -4.2109, -4.4688, -4.2734, -4.5430, -3.5547, -4.0664, -4.5352,\n",
            "        -4.1641, -4.3750, -4.3242, -3.1934, -4.2383, -4.4258, -3.9180, -4.3789,\n",
            "        -4.3945, -3.9023, -4.4102, -4.4570, -3.8125, -4.2266, -4.4062, -4.5586],\n",
            "       device='cuda:0', dtype=torch.float16, grad_fn=<MulBackward0>)]  loss\n",
            "iteration 70\n",
            "iteration 70 up_noise 0.11\n",
            "0.5 lr 0.1 decay\n"
          ],
          "name": "stdout"
        },
        {
          "output_type": "stream",
          "text": [
            "WARNING:root:Lossy conversion from float32 to uint8. Range [-0.16774916648864746, 1.1390032768249512]. Convert image to uint8 prior to saving to suppress this warning.\n",
            "WARNING:root:Lossy conversion from float32 to uint8. Range [0, 1]. Convert image to uint8 prior to saving to suppress this warning.\n"
          ],
          "name": "stderr"
        },
        {
          "output_type": "stream",
          "text": [
            "out_path /content/output/vibrant-painting-of-a-movie-in-the-style-of-magritte_00080.png\n",
            "\n",
            "\n",
            "\n",
            "    @@@@@@@@@@@@@@@@@@@@@@@@@@@@@@@@@@@@@@@@@@@@@@@\n",
            "    @@@@@@@@@@@@@@@@@@@@@@@@@@@@@@@@@@@@@@@@@@@@@@@\n",
            "    @@@@@@@@@@@@@@@@@@@@@@@@@@@@@@@@@@@@@@@@@@@@@@@\n",
            "    \n",
            "out_path /content/output/vibrant-painting-of-a-movie-in-the-style-of-magritte_00080.png\n",
            "\n",
            "\n",
            "\n",
            "  ##########################################################\n",
            "   [tensor([0.6113, 0.6475, 0.6675, 0.5869, 0.6108, 0.5991, 0.7246, 0.5840, 0.5776,\n",
            "        0.6235, 0.6187, 0.5967, 0.6172, 0.5869, 0.5957, 0.6147, 0.5728, 0.6201,\n",
            "        0.6021, 0.5947, 0.5698, 0.6055, 0.6045, 0.5649, 0.5688, 0.5610, 0.5820,\n",
            "        0.5635, 0.5986, 0.5796, 0.5684, 0.6816], device='cuda:0',\n",
            "       dtype=torch.float16, grad_fn=<MulBackward0>), tensor([-4.0859, -2.9785, -3.3008, -4.3125, -4.1719, -3.4023, -3.3984, -4.4883,\n",
            "        -4.4102, -4.1484, -4.2227, -3.4414, -3.9414, -4.4766, -4.1094, -4.0078,\n",
            "        -4.0742, -4.0195, -4.3594, -3.8086, -4.4219, -3.9863, -3.9805, -4.2227,\n",
            "        -4.4922, -4.3203, -4.1484, -4.5078, -3.8281, -4.4414, -4.2617, -3.9160],\n",
            "       device='cuda:0', dtype=torch.float16, grad_fn=<MulBackward0>)]  loss\n",
            "iteration 80\n",
            "iteration 80 up_noise 0.11\n",
            "0.5 lr 0.1 decay\n"
          ],
          "name": "stdout"
        },
        {
          "output_type": "stream",
          "text": [
            "WARNING:root:Lossy conversion from float32 to uint8. Range [-0.09617587924003601, 1.058955430984497]. Convert image to uint8 prior to saving to suppress this warning.\n",
            "WARNING:root:Lossy conversion from float32 to uint8. Range [0, 1]. Convert image to uint8 prior to saving to suppress this warning.\n"
          ],
          "name": "stderr"
        },
        {
          "output_type": "stream",
          "text": [
            "out_path /content/output/vibrant-painting-of-a-movie-in-the-style-of-magritte_00090.png\n",
            "\n",
            "\n",
            "\n",
            "    @@@@@@@@@@@@@@@@@@@@@@@@@@@@@@@@@@@@@@@@@@@@@@@\n",
            "    @@@@@@@@@@@@@@@@@@@@@@@@@@@@@@@@@@@@@@@@@@@@@@@\n",
            "    @@@@@@@@@@@@@@@@@@@@@@@@@@@@@@@@@@@@@@@@@@@@@@@\n",
            "    \n",
            "out_path /content/output/vibrant-painting-of-a-movie-in-the-style-of-magritte_00090.png\n",
            "\n",
            "\n",
            "\n",
            "  ##########################################################\n",
            "   [tensor([0.6250, 0.5361, 0.6045, 0.6289, 0.5845, 0.5996, 0.6504, 0.6509, 0.6382,\n",
            "        0.5728, 0.5635, 0.6079, 0.5723, 0.5664, 0.6055, 0.6255, 0.5654, 0.6030,\n",
            "        0.6113, 0.5625, 0.5635, 0.5127, 0.6436, 0.6074, 0.5869, 0.5522, 0.5640,\n",
            "        0.5571, 0.5986, 0.5713, 0.6035, 0.5884], device='cuda:0',\n",
            "       dtype=torch.float16, grad_fn=<MulBackward0>), tensor([-4.0469, -4.3828, -4.2461, -4.0586, -4.0625, -3.9824, -3.5762, -3.5391,\n",
            "        -4.0352, -4.3984, -4.5430, -4.3281, -4.4492, -4.2891, -4.0469, -4.0156,\n",
            "        -4.4453, -3.7676, -4.0742, -4.2109, -4.5469, -4.5430, -3.9824, -3.6641,\n",
            "        -4.2852, -4.5078, -3.9023, -4.6016, -4.4766, -4.4570, -4.0625, -4.4609],\n",
            "       device='cuda:0', dtype=torch.float16, grad_fn=<MulBackward0>)]  loss\n",
            "iteration 90\n",
            "iteration 90 up_noise 0.11\n",
            "0.5 lr 0.1 decay\n"
          ],
          "name": "stdout"
        },
        {
          "output_type": "stream",
          "text": [
            "WARNING:root:Lossy conversion from float32 to uint8. Range [-0.286211222410202, 1.3119086027145386]. Convert image to uint8 prior to saving to suppress this warning.\n",
            "WARNING:root:Lossy conversion from float32 to uint8. Range [0, 1]. Convert image to uint8 prior to saving to suppress this warning.\n"
          ],
          "name": "stderr"
        },
        {
          "output_type": "stream",
          "text": [
            "out_path /content/output/vibrant-painting-of-a-movie-in-the-style-of-magritte_00100.png\n",
            "\n",
            "\n",
            "\n",
            "    @@@@@@@@@@@@@@@@@@@@@@@@@@@@@@@@@@@@@@@@@@@@@@@\n",
            "    @@@@@@@@@@@@@@@@@@@@@@@@@@@@@@@@@@@@@@@@@@@@@@@\n",
            "    @@@@@@@@@@@@@@@@@@@@@@@@@@@@@@@@@@@@@@@@@@@@@@@\n",
            "    \n",
            "out_path /content/output/vibrant-painting-of-a-movie-in-the-style-of-magritte_00100.png\n",
            "\n",
            "\n",
            "\n",
            "  ##########################################################\n",
            "   [tensor([0.5381, 0.5586, 0.5693, 0.6318, 0.5938, 0.6353, 0.6133, 0.5850, 0.6099,\n",
            "        0.6338, 0.5566, 0.5879, 0.5752, 0.7520, 0.6348, 0.6074, 0.6982, 0.6172,\n",
            "        0.5977, 0.5879, 0.5962, 0.5952, 0.5615, 0.5957, 0.5625, 0.5986, 0.7041,\n",
            "        0.6230, 0.5938, 0.5845, 0.5850, 0.5952], device='cuda:0',\n",
            "       dtype=torch.float16, grad_fn=<MulBackward0>), tensor([-4.5625, -4.5820, -4.5742, -3.5566, -4.3516, -3.9824, -3.9082, -4.4180,\n",
            "        -4.0820, -3.8906, -4.5391, -4.1836, -3.9297, -2.0820, -4.1719, -3.9473,\n",
            "        -2.6270, -4.4570, -4.5312, -4.4297, -4.1289, -4.3320, -4.5898, -3.8945,\n",
            "        -4.5547, -4.4062, -3.3047, -3.4668, -4.3672, -4.4844, -4.5117, -4.2812],\n",
            "       device='cuda:0', dtype=torch.float16, grad_fn=<MulBackward0>)]  loss\n",
            "iteration 100\n",
            "iteration 100 up_noise 0.11\n",
            "0.5 lr 0.1 decay\n"
          ],
          "name": "stdout"
        },
        {
          "output_type": "stream",
          "text": [
            "WARNING:root:Lossy conversion from float32 to uint8. Range [-0.42971423268318176, 1.2788081169128418]. Convert image to uint8 prior to saving to suppress this warning.\n",
            "WARNING:root:Lossy conversion from float32 to uint8. Range [0, 1]. Convert image to uint8 prior to saving to suppress this warning.\n"
          ],
          "name": "stderr"
        },
        {
          "output_type": "stream",
          "text": [
            "out_path /content/output/vibrant-painting-of-a-movie-in-the-style-of-magritte_00110.png\n",
            "\n",
            "\n",
            "\n",
            "    @@@@@@@@@@@@@@@@@@@@@@@@@@@@@@@@@@@@@@@@@@@@@@@\n",
            "    @@@@@@@@@@@@@@@@@@@@@@@@@@@@@@@@@@@@@@@@@@@@@@@\n",
            "    @@@@@@@@@@@@@@@@@@@@@@@@@@@@@@@@@@@@@@@@@@@@@@@\n",
            "    \n",
            "out_path /content/output/vibrant-painting-of-a-movie-in-the-style-of-magritte_00110.png\n",
            "\n",
            "\n",
            "\n",
            "  ##########################################################\n",
            "   [tensor([0.5840, 0.5630, 0.5400, 0.5503, 0.6533, 0.5503, 0.5342, 0.5830, 0.5767,\n",
            "        0.5488, 0.5225, 0.5327, 0.5669, 0.5498, 0.5898, 0.6396, 0.5498, 0.5166,\n",
            "        0.5630, 0.5752, 0.5913, 0.5381, 0.5850, 0.5181, 0.5737, 0.5610, 0.5630,\n",
            "        0.6494, 0.6523, 0.5659, 0.5591, 0.5557], device='cuda:0',\n",
            "       dtype=torch.float16, grad_fn=<MulBackward0>), tensor([-4.5625, -4.7188, -4.7070, -4.6484, -3.1836, -3.9473, -4.7188, -4.2812,\n",
            "        -4.3711, -4.5195, -4.5352, -4.6836, -4.2930, -4.6133, -4.3750, -3.7812,\n",
            "        -4.1016, -4.5234, -4.6094, -4.6250, -4.1875, -4.6133, -4.6133, -4.6562,\n",
            "        -4.4531, -3.8887, -4.6367, -4.1953, -3.7676, -4.7422, -4.6250, -4.5742],\n",
            "       device='cuda:0', dtype=torch.float16, grad_fn=<MulBackward0>)]  loss\n",
            "iteration 110\n",
            "iteration 110 up_noise 0.11\n",
            "0.5 lr 0.1 decay\n"
          ],
          "name": "stdout"
        },
        {
          "output_type": "stream",
          "text": [
            "WARNING:root:Lossy conversion from float32 to uint8. Range [-0.03417695686221123, 1.0276967287063599]. Convert image to uint8 prior to saving to suppress this warning.\n",
            "WARNING:root:Lossy conversion from float32 to uint8. Range [0, 1]. Convert image to uint8 prior to saving to suppress this warning.\n"
          ],
          "name": "stderr"
        },
        {
          "output_type": "stream",
          "text": [
            "out_path /content/output/vibrant-painting-of-a-movie-in-the-style-of-magritte_00120.png\n",
            "\n",
            "\n",
            "\n",
            "    @@@@@@@@@@@@@@@@@@@@@@@@@@@@@@@@@@@@@@@@@@@@@@@\n",
            "    @@@@@@@@@@@@@@@@@@@@@@@@@@@@@@@@@@@@@@@@@@@@@@@\n",
            "    @@@@@@@@@@@@@@@@@@@@@@@@@@@@@@@@@@@@@@@@@@@@@@@\n",
            "    \n",
            "out_path /content/output/vibrant-painting-of-a-movie-in-the-style-of-magritte_00120.png\n",
            "\n",
            "\n",
            "\n",
            "  ##########################################################\n",
            "   [tensor([0.6133, 0.6016, 0.6172, 0.5811, 0.5981, 0.6250, 0.5566, 0.6885, 0.6587,\n",
            "        0.5762, 0.5791, 0.5703, 0.5649, 0.5312, 0.6069, 0.5483, 0.5786, 0.6313,\n",
            "        0.5811, 0.5894, 0.5918, 0.5762, 0.5615, 0.5913, 0.5781, 0.5942, 0.5308,\n",
            "        0.5557, 0.5146, 0.5957, 0.5684, 0.5879], device='cuda:0',\n",
            "       dtype=torch.float16, grad_fn=<MulBackward0>), tensor([-4.4570, -4.5977, -4.1367, -4.7109, -4.5742, -4.2617, -4.6797, -3.3789,\n",
            "        -3.0469, -4.7656, -4.6289, -4.6914, -4.3281, -4.8125, -4.5195, -4.7539,\n",
            "        -4.1875, -4.1016, -4.5469, -4.5273, -4.6328, -4.4297, -4.5938, -4.6094,\n",
            "        -4.2500, -4.8086, -4.3516, -4.7500, -4.6797, -4.5547, -4.3008, -4.6758],\n",
            "       device='cuda:0', dtype=torch.float16, grad_fn=<MulBackward0>)]  loss\n",
            "iteration 120\n",
            "iteration 120 up_noise 0.11\n",
            "0.5 lr 0.1 decay\n"
          ],
          "name": "stdout"
        },
        {
          "output_type": "stream",
          "text": [
            "WARNING:root:Lossy conversion from float32 to uint8. Range [-0.18058936297893524, 1.122863531112671]. Convert image to uint8 prior to saving to suppress this warning.\n",
            "WARNING:root:Lossy conversion from float32 to uint8. Range [0, 1]. Convert image to uint8 prior to saving to suppress this warning.\n"
          ],
          "name": "stderr"
        },
        {
          "output_type": "stream",
          "text": [
            "out_path /content/output/vibrant-painting-of-a-movie-in-the-style-of-magritte_00130.png\n",
            "\n",
            "\n",
            "\n",
            "    @@@@@@@@@@@@@@@@@@@@@@@@@@@@@@@@@@@@@@@@@@@@@@@\n",
            "    @@@@@@@@@@@@@@@@@@@@@@@@@@@@@@@@@@@@@@@@@@@@@@@\n",
            "    @@@@@@@@@@@@@@@@@@@@@@@@@@@@@@@@@@@@@@@@@@@@@@@\n",
            "    \n",
            "out_path /content/output/vibrant-painting-of-a-movie-in-the-style-of-magritte_00130.png\n",
            "\n",
            "\n",
            "\n",
            "  ##########################################################\n",
            "   [tensor([0.5552, 0.5562, 0.6460, 0.5801, 0.5840, 0.6328, 0.6494, 0.6392, 0.6123,\n",
            "        0.5586, 0.5825, 0.6001, 0.5454, 0.5444, 0.5654, 0.5342, 0.5850, 0.6621,\n",
            "        0.6011, 0.6001, 0.5967, 0.5664, 0.5811, 0.5605, 0.5708, 0.5737, 0.6016,\n",
            "        0.6084, 0.6289, 0.5850, 0.5933, 0.5537], device='cuda:0',\n",
            "       dtype=torch.float16, grad_fn=<MulBackward0>), tensor([-4.7500, -4.5938, -4.0703, -4.2969, -4.3906, -3.6758, -3.0391, -4.0938,\n",
            "        -4.5742, -4.5859, -4.3945, -3.6484, -4.6992, -4.7852, -4.7578, -4.5625,\n",
            "        -4.3398, -3.1035, -4.4453, -4.7305, -4.2266, -4.3203, -4.2852, -4.6641,\n",
            "        -3.8203, -4.5781, -4.4336, -4.1250, -3.5566, -4.6562, -4.4180, -4.6445],\n",
            "       device='cuda:0', dtype=torch.float16, grad_fn=<MulBackward0>)]  loss\n",
            "iteration 130\n",
            "iteration 130 up_noise 0.11\n",
            "0.5 lr 0.1 decay\n"
          ],
          "name": "stdout"
        },
        {
          "output_type": "stream",
          "text": [
            "WARNING:root:Lossy conversion from float32 to uint8. Range [-0.39420825242996216, 1.295732855796814]. Convert image to uint8 prior to saving to suppress this warning.\n",
            "WARNING:root:Lossy conversion from float32 to uint8. Range [0, 1]. Convert image to uint8 prior to saving to suppress this warning.\n"
          ],
          "name": "stderr"
        },
        {
          "output_type": "stream",
          "text": [
            "out_path /content/output/vibrant-painting-of-a-movie-in-the-style-of-magritte_00140.png\n",
            "\n",
            "\n",
            "\n",
            "    @@@@@@@@@@@@@@@@@@@@@@@@@@@@@@@@@@@@@@@@@@@@@@@\n",
            "    @@@@@@@@@@@@@@@@@@@@@@@@@@@@@@@@@@@@@@@@@@@@@@@\n",
            "    @@@@@@@@@@@@@@@@@@@@@@@@@@@@@@@@@@@@@@@@@@@@@@@\n",
            "    \n",
            "out_path /content/output/vibrant-painting-of-a-movie-in-the-style-of-magritte_00140.png\n",
            "\n",
            "\n",
            "\n",
            "  ##########################################################\n",
            "   [tensor([0.7021, 0.5654, 0.5747, 0.5791, 0.5840, 0.6084, 0.5459, 0.5889, 0.5757,\n",
            "        0.5474, 0.5674, 0.5981, 0.6084, 0.5762, 0.6206, 0.6455, 0.5566, 0.5459,\n",
            "        0.6411, 0.6426, 0.5576, 0.5439, 0.6470, 0.5693, 0.7402, 0.6797, 0.6387,\n",
            "        0.5869, 0.6831, 0.5347, 0.5483, 0.5571], device='cuda:0',\n",
            "       dtype=torch.float16, grad_fn=<MulBackward0>), tensor([-3.5527, -4.5039, -4.6289, -4.7344, -4.2344, -3.7734, -4.7812, -4.8828,\n",
            "        -4.7344, -4.6445, -4.3516, -4.8438, -4.6133, -4.6523, -3.8516, -4.0781,\n",
            "        -4.6680, -4.8203, -4.6445, -3.0879, -4.7227, -4.8828, -4.4805, -4.6562,\n",
            "        -2.0898, -4.0820, -4.2109, -4.1875, -3.3125, -4.7148, -4.7227, -4.9297],\n",
            "       device='cuda:0', dtype=torch.float16, grad_fn=<MulBackward0>)]  loss\n",
            "iteration 140\n",
            "iteration 140 up_noise 0.11\n",
            "0.5 lr 0.1 decay\n"
          ],
          "name": "stdout"
        },
        {
          "output_type": "stream",
          "text": [
            "WARNING:root:Lossy conversion from float32 to uint8. Range [-0.3061148226261139, 1.2524141073226929]. Convert image to uint8 prior to saving to suppress this warning.\n",
            "WARNING:root:Lossy conversion from float32 to uint8. Range [0, 1]. Convert image to uint8 prior to saving to suppress this warning.\n"
          ],
          "name": "stderr"
        },
        {
          "output_type": "stream",
          "text": [
            "out_path /content/output/vibrant-painting-of-a-movie-in-the-style-of-magritte_00150.png\n",
            "\n",
            "\n",
            "\n",
            "    @@@@@@@@@@@@@@@@@@@@@@@@@@@@@@@@@@@@@@@@@@@@@@@\n",
            "    @@@@@@@@@@@@@@@@@@@@@@@@@@@@@@@@@@@@@@@@@@@@@@@\n",
            "    @@@@@@@@@@@@@@@@@@@@@@@@@@@@@@@@@@@@@@@@@@@@@@@\n",
            "    \n",
            "out_path /content/output/vibrant-painting-of-a-movie-in-the-style-of-magritte_00150.png\n",
            "\n",
            "\n",
            "\n",
            "  ##########################################################\n",
            "   [tensor([0.6865, 0.6348, 0.6309, 0.6372, 0.6436, 0.5952, 0.5396, 0.6060, 0.5898,\n",
            "        0.5908, 0.5791, 0.5605, 0.6240, 0.6313, 0.6582, 0.5967, 0.6606, 0.5869,\n",
            "        0.5830, 0.5869, 0.5684, 0.6665, 0.5981, 0.6143, 0.6187, 0.6025, 0.6348,\n",
            "        0.5723, 0.5991, 0.6309, 0.5923, 0.5322], device='cuda:0',\n",
            "       dtype=torch.float16, grad_fn=<MulBackward0>), tensor([-4.3672, -4.4062, -4.3555, -3.9023, -4.2617, -4.6758, -4.4180, -3.8711,\n",
            "        -4.7109, -3.9609, -4.6523, -4.7344, -4.2188, -4.4414, -4.1719, -4.4297,\n",
            "        -4.2578, -4.6406, -4.3984, -4.6719, -4.6172, -3.6445, -4.7148, -4.5039,\n",
            "        -4.1797, -4.7383, -4.6328, -4.8477, -4.6719, -4.5273, -4.7734, -4.5820],\n",
            "       device='cuda:0', dtype=torch.float16, grad_fn=<MulBackward0>)]  loss\n",
            "iteration 150\n",
            "iteration 150 up_noise 0.11\n",
            "0.5 lr 0.1 decay\n"
          ],
          "name": "stdout"
        },
        {
          "output_type": "stream",
          "text": [
            "WARNING:root:Lossy conversion from float32 to uint8. Range [-0.286024808883667, 1.1863267421722412]. Convert image to uint8 prior to saving to suppress this warning.\n",
            "WARNING:root:Lossy conversion from float32 to uint8. Range [0, 1]. Convert image to uint8 prior to saving to suppress this warning.\n"
          ],
          "name": "stderr"
        },
        {
          "output_type": "stream",
          "text": [
            "out_path /content/output/vibrant-painting-of-a-movie-in-the-style-of-magritte_00160.png\n",
            "\n",
            "\n",
            "\n",
            "    @@@@@@@@@@@@@@@@@@@@@@@@@@@@@@@@@@@@@@@@@@@@@@@\n",
            "    @@@@@@@@@@@@@@@@@@@@@@@@@@@@@@@@@@@@@@@@@@@@@@@\n",
            "    @@@@@@@@@@@@@@@@@@@@@@@@@@@@@@@@@@@@@@@@@@@@@@@\n",
            "    \n",
            "out_path /content/output/vibrant-painting-of-a-movie-in-the-style-of-magritte_00160.png\n",
            "\n",
            "\n",
            "\n",
            "  ##########################################################\n",
            "   [tensor([0.5693, 0.5557, 0.5742, 0.5605, 0.5703, 0.5615, 0.5474, 0.6016, 0.6479,\n",
            "        0.5166, 0.5928, 0.5752, 0.5371, 0.6641, 0.5703, 0.5903, 0.5825, 0.5303,\n",
            "        0.5664, 0.5059, 0.5522, 0.5649, 0.5757, 0.6196, 0.5645, 0.6240, 0.5503,\n",
            "        0.5586, 0.5332, 0.5522, 0.5464, 0.5396], device='cuda:0',\n",
            "       dtype=torch.float16, grad_fn=<MulBackward0>), tensor([-4.7969, -4.3320, -4.7500, -4.9648, -4.2031, -4.7500, -4.5391, -4.5938,\n",
            "        -3.7734, -4.7344, -4.4375, -4.6992, -4.8867, -3.7344, -4.8008, -4.3828,\n",
            "        -4.4844, -4.8789, -4.8828, -4.4883, -4.7461, -4.5039, -3.9375, -3.9727,\n",
            "        -4.6797, -3.8574, -4.7969, -4.7227, -4.6602, -4.7617, -4.9297, -4.9141],\n",
            "       device='cuda:0', dtype=torch.float16, grad_fn=<MulBackward0>)]  loss\n",
            "iteration 160\n",
            "iteration 160 up_noise 0.11\n",
            "0.5 lr 0.1 decay\n"
          ],
          "name": "stdout"
        },
        {
          "output_type": "stream",
          "text": [
            "WARNING:root:Lossy conversion from float32 to uint8. Range [-0.42265015840530396, 1.3305200338363647]. Convert image to uint8 prior to saving to suppress this warning.\n",
            "WARNING:root:Lossy conversion from float32 to uint8. Range [0, 1]. Convert image to uint8 prior to saving to suppress this warning.\n"
          ],
          "name": "stderr"
        },
        {
          "output_type": "stream",
          "text": [
            "out_path /content/output/vibrant-painting-of-a-movie-in-the-style-of-magritte_00170.png\n",
            "\n",
            "\n",
            "\n",
            "    @@@@@@@@@@@@@@@@@@@@@@@@@@@@@@@@@@@@@@@@@@@@@@@\n",
            "    @@@@@@@@@@@@@@@@@@@@@@@@@@@@@@@@@@@@@@@@@@@@@@@\n",
            "    @@@@@@@@@@@@@@@@@@@@@@@@@@@@@@@@@@@@@@@@@@@@@@@\n",
            "    \n",
            "out_path /content/output/vibrant-painting-of-a-movie-in-the-style-of-magritte_00170.png\n",
            "\n",
            "\n",
            "\n",
            "  ##########################################################\n",
            "   [tensor([0.5581, 0.5225, 0.5186, 0.6250, 0.5728, 0.5889, 0.5747, 0.5659, 0.5430,\n",
            "        0.6079, 0.5283, 0.5850, 0.5732, 0.6685, 0.6143, 0.5122, 0.5488, 0.5928,\n",
            "        0.6260, 0.6084, 0.5352, 0.5869, 0.5786, 0.6167, 0.6309, 0.5479, 0.5752,\n",
            "        0.5293, 0.5996, 0.5234, 0.5723, 0.5566], device='cuda:0',\n",
            "       dtype=torch.float16, grad_fn=<MulBackward0>), tensor([-4.7852, -4.8867, -4.1172, -4.0195, -4.7852, -4.8828, -4.2031, -4.4492,\n",
            "        -4.8594, -3.6543, -4.4492, -4.4570, -4.6328, -3.2852, -3.4355, -5.0000,\n",
            "        -3.9473, -4.6484, -3.2227, -3.7930, -4.8555, -4.7461, -5.0352, -3.9434,\n",
            "        -4.5195, -4.7031, -5.0195, -5.0078, -4.7656, -4.7539, -4.7031, -4.4180],\n",
            "       device='cuda:0', dtype=torch.float16, grad_fn=<MulBackward0>)]  loss\n",
            "iteration 170\n",
            "iteration 170 up_noise 0.11\n",
            "0.5 lr 0.1 decay\n"
          ],
          "name": "stdout"
        },
        {
          "output_type": "stream",
          "text": [
            "WARNING:root:Lossy conversion from float32 to uint8. Range [-0.008123759180307388, 1.0059287548065186]. Convert image to uint8 prior to saving to suppress this warning.\n"
          ],
          "name": "stderr"
        },
        {
          "output_type": "stream",
          "text": [
            "out_path /content/output/vibrant-painting-of-a-movie-in-the-style-of-magritte_00180.png\n",
            "\n",
            "\n",
            "\n",
            "    @@@@@@@@@@@@@@@@@@@@@@@@@@@@@@@@@@@@@@@@@@@@@@@\n",
            "    @@@@@@@@@@@@@@@@@@@@@@@@@@@@@@@@@@@@@@@@@@@@@@@\n",
            "    @@@@@@@@@@@@@@@@@@@@@@@@@@@@@@@@@@@@@@@@@@@@@@@\n",
            "    \n"
          ],
          "name": "stdout"
        },
        {
          "output_type": "stream",
          "text": [
            "WARNING:root:Lossy conversion from float32 to uint8. Range [0, 1]. Convert image to uint8 prior to saving to suppress this warning.\n"
          ],
          "name": "stderr"
        },
        {
          "output_type": "stream",
          "text": [
            "out_path /content/output/vibrant-painting-of-a-movie-in-the-style-of-magritte_00180.png\n",
            "\n",
            "\n",
            "\n",
            "  ##########################################################\n",
            "   [tensor([0.5254, 0.6045, 0.5781, 0.5669, 0.5493, 0.5439, 0.6094, 0.5498, 0.5303,\n",
            "        0.6553, 0.5708, 0.5439, 0.6240, 0.5293, 0.5298, 0.5601, 0.5166, 0.5459,\n",
            "        0.6030, 0.5596, 0.5269, 0.5996, 0.5908, 0.6499, 0.6006, 0.6665, 0.6416,\n",
            "        0.6289, 0.6782, 0.5908, 0.5737, 0.5576], device='cuda:0',\n",
            "       dtype=torch.float16, grad_fn=<MulBackward0>), tensor([-4.8516, -4.5859, -4.5391, -4.7344, -4.6172, -4.5195, -4.4453, -4.7188,\n",
            "        -4.7852, -4.3906, -4.8398, -4.8438, -4.5000, -4.8594, -4.2383, -4.8125,\n",
            "        -4.8203, -4.5781, -4.3281, -4.7422, -4.4219, -4.7422, -4.2383, -4.0938,\n",
            "        -4.5234, -3.9824, -4.2695, -4.3516, -3.7402, -4.8242, -4.6992, -4.8594],\n",
            "       device='cuda:0', dtype=torch.float16, grad_fn=<MulBackward0>)]  loss\n",
            "iteration 180\n",
            "iteration 180 up_noise 0.11\n",
            "0.5 lr 0.1 decay\n"
          ],
          "name": "stdout"
        },
        {
          "output_type": "stream",
          "text": [
            "WARNING:root:Lossy conversion from float32 to uint8. Range [-0.001226618536747992, 1.0006545782089233]. Convert image to uint8 prior to saving to suppress this warning.\n",
            "WARNING:root:Lossy conversion from float32 to uint8. Range [0, 1]. Convert image to uint8 prior to saving to suppress this warning.\n"
          ],
          "name": "stderr"
        },
        {
          "output_type": "stream",
          "text": [
            "out_path /content/output/vibrant-painting-of-a-movie-in-the-style-of-magritte_00190.png\n",
            "\n",
            "\n",
            "\n",
            "    @@@@@@@@@@@@@@@@@@@@@@@@@@@@@@@@@@@@@@@@@@@@@@@\n",
            "    @@@@@@@@@@@@@@@@@@@@@@@@@@@@@@@@@@@@@@@@@@@@@@@\n",
            "    @@@@@@@@@@@@@@@@@@@@@@@@@@@@@@@@@@@@@@@@@@@@@@@\n",
            "    \n",
            "out_path /content/output/vibrant-painting-of-a-movie-in-the-style-of-magritte_00190.png\n",
            "\n",
            "\n",
            "\n",
            "  ##########################################################\n",
            "   [tensor([0.5503, 0.6289, 0.5986, 0.6514, 0.5435, 0.6064, 0.6968, 0.6748, 0.5605,\n",
            "        0.5312, 0.5542, 0.7441, 0.5244, 0.5737, 0.5645, 0.6460, 0.6055, 0.6040,\n",
            "        0.6377, 0.5234, 0.6128, 0.5615, 0.5791, 0.5664, 0.5879, 0.5547, 0.5996,\n",
            "        0.5483, 0.5269, 0.5439, 0.5503, 0.5283], device='cuda:0',\n",
            "       dtype=torch.float16, grad_fn=<MulBackward0>), tensor([-5.0156, -4.8594, -4.5664, -4.3750, -4.6289, -4.6016, -3.5469, -4.0977,\n",
            "        -4.9492, -4.7383, -4.9688, -2.2520, -4.7969, -4.3516, -4.6562, -4.5547,\n",
            "        -4.5469, -4.9375, -4.6484, -4.2227, -4.6094, -4.9414, -4.8594, -4.7578,\n",
            "        -4.6172, -4.7227, -4.5273, -4.9531, -4.6680, -4.9219, -4.9648, -4.9219],\n",
            "       device='cuda:0', dtype=torch.float16, grad_fn=<MulBackward0>)]  loss\n",
            "iteration 190\n",
            "iteration 190 up_noise 0.11\n",
            "0.5 lr 0.1 decay\n"
          ],
          "name": "stdout"
        },
        {
          "output_type": "stream",
          "text": [
            "WARNING:root:Lossy conversion from float32 to uint8. Range [-0.4443846344947815, 1.3409337997436523]. Convert image to uint8 prior to saving to suppress this warning.\n",
            "WARNING:root:Lossy conversion from float32 to uint8. Range [0, 1]. Convert image to uint8 prior to saving to suppress this warning.\n"
          ],
          "name": "stderr"
        },
        {
          "output_type": "stream",
          "text": [
            "out_path /content/output/vibrant-painting-of-a-movie-in-the-style-of-magritte_00200.png\n",
            "\n",
            "\n",
            "\n",
            "    @@@@@@@@@@@@@@@@@@@@@@@@@@@@@@@@@@@@@@@@@@@@@@@\n",
            "    @@@@@@@@@@@@@@@@@@@@@@@@@@@@@@@@@@@@@@@@@@@@@@@\n",
            "    @@@@@@@@@@@@@@@@@@@@@@@@@@@@@@@@@@@@@@@@@@@@@@@\n",
            "    \n",
            "out_path /content/output/vibrant-painting-of-a-movie-in-the-style-of-magritte_00200.png\n",
            "\n",
            "\n",
            "\n",
            "  ##########################################################\n",
            "   [tensor([0.6572, 0.6099, 0.6372, 0.5098, 0.6636, 0.5996, 0.6733, 0.5913, 0.5420,\n",
            "        0.6318, 0.6167, 0.6455, 0.6338, 0.6230, 0.6904, 0.5518, 0.6255, 0.5420,\n",
            "        0.6240, 0.7275, 0.6592, 0.6279, 0.6514, 0.6816, 0.5063, 0.5879, 0.6460,\n",
            "        0.6230, 0.6318, 0.5522, 0.5435, 0.6250], device='cuda:0',\n",
            "       dtype=torch.float16, grad_fn=<MulBackward0>), tensor([-4.2227, -4.2812, -4.3242, -4.8203, -3.8301, -4.7812, -3.0254, -4.7227,\n",
            "        -4.9102, -4.3047, -4.7422, -4.1211, -4.8164, -3.0156, -3.8633, -4.9258,\n",
            "        -4.2266, -4.5703, -3.6543, -2.1523, -3.9141, -4.7969, -2.8203, -3.8457,\n",
            "        -4.8086, -4.6250, -4.7539, -4.6836, -4.0078, -4.8516, -4.8320, -4.7930],\n",
            "       device='cuda:0', dtype=torch.float16, grad_fn=<MulBackward0>)]  loss\n",
            "iteration 200\n",
            "iteration 200 up_noise 0.11\n",
            "0.5 lr 0.1 decay\n"
          ],
          "name": "stdout"
        },
        {
          "output_type": "stream",
          "text": [
            "WARNING:root:Lossy conversion from float32 to uint8. Range [-0.013667846098542213, 1.0080326795578003]. Convert image to uint8 prior to saving to suppress this warning.\n",
            "WARNING:root:Lossy conversion from float32 to uint8. Range [0, 1]. Convert image to uint8 prior to saving to suppress this warning.\n"
          ],
          "name": "stderr"
        },
        {
          "output_type": "stream",
          "text": [
            "out_path /content/output/vibrant-painting-of-a-movie-in-the-style-of-magritte_00210.png\n",
            "\n",
            "\n",
            "\n",
            "    @@@@@@@@@@@@@@@@@@@@@@@@@@@@@@@@@@@@@@@@@@@@@@@\n",
            "    @@@@@@@@@@@@@@@@@@@@@@@@@@@@@@@@@@@@@@@@@@@@@@@\n",
            "    @@@@@@@@@@@@@@@@@@@@@@@@@@@@@@@@@@@@@@@@@@@@@@@\n",
            "    \n",
            "out_path /content/output/vibrant-painting-of-a-movie-in-the-style-of-magritte_00210.png\n",
            "\n",
            "\n",
            "\n",
            "  ##########################################################\n",
            "   [tensor([0.5259, 0.6582, 0.5835, 0.6133, 0.5625, 0.5918, 0.5459, 0.5674, 0.5708,\n",
            "        0.6025, 0.5928, 0.7065, 0.5605, 0.6045, 0.7075, 0.5234, 0.6426, 0.5229,\n",
            "        0.5928, 0.5576, 0.5586, 0.6289, 0.5381, 0.5137, 0.5078, 0.5527, 0.5420,\n",
            "        0.6021, 0.6035, 0.5225, 0.5654, 0.5352], device='cuda:0',\n",
            "       dtype=torch.float16, grad_fn=<MulBackward0>), tensor([-4.8828, -2.1641, -4.9844, -3.9453, -4.7578, -4.6719, -4.6445, -4.7852,\n",
            "        -4.7344, -4.7734, -4.9336, -3.6836, -4.6211, -4.7422, -2.2715, -4.6016,\n",
            "        -3.9941, -4.6562, -4.7227, -4.8086, -5.0078, -4.3086, -4.6641, -4.6133,\n",
            "        -4.8828, -4.0234, -4.5664, -4.5664, -4.7969, -4.9219, -4.8828, -4.6875],\n",
            "       device='cuda:0', dtype=torch.float16, grad_fn=<MulBackward0>)]  loss\n",
            "iteration 210\n",
            "iteration 210 up_noise 0.11\n",
            "0.5 lr 0.1 decay\n"
          ],
          "name": "stdout"
        },
        {
          "output_type": "stream",
          "text": [
            "WARNING:root:Lossy conversion from float32 to uint8. Range [-0.27197641134262085, 1.2029614448547363]. Convert image to uint8 prior to saving to suppress this warning.\n",
            "WARNING:root:Lossy conversion from float32 to uint8. Range [0, 1]. Convert image to uint8 prior to saving to suppress this warning.\n"
          ],
          "name": "stderr"
        },
        {
          "output_type": "stream",
          "text": [
            "out_path /content/output/vibrant-painting-of-a-movie-in-the-style-of-magritte_00220.png\n",
            "\n",
            "\n",
            "\n",
            "    @@@@@@@@@@@@@@@@@@@@@@@@@@@@@@@@@@@@@@@@@@@@@@@\n",
            "    @@@@@@@@@@@@@@@@@@@@@@@@@@@@@@@@@@@@@@@@@@@@@@@\n",
            "    @@@@@@@@@@@@@@@@@@@@@@@@@@@@@@@@@@@@@@@@@@@@@@@\n",
            "    \n",
            "out_path /content/output/vibrant-painting-of-a-movie-in-the-style-of-magritte_00220.png\n",
            "\n",
            "\n",
            "\n",
            "  ##########################################################\n",
            "   [tensor([0.6279, 0.5479, 0.6401, 0.5259, 0.6074, 0.5898, 0.5435, 0.5586, 0.6470,\n",
            "        0.5518, 0.6587, 0.5757, 0.6411, 0.5996, 0.5254, 0.5986, 0.5781, 0.5913,\n",
            "        0.5049, 0.4988, 0.4827, 0.5430, 0.5171, 0.5786, 0.5806, 0.6030, 0.5986,\n",
            "        0.5645, 0.5166, 0.5264, 0.5146, 0.5117], device='cuda:0',\n",
            "       dtype=torch.float16, grad_fn=<MulBackward0>), tensor([-4.5547, -4.6758, -4.3281, -4.6992, -4.4609, -4.6758, -4.7500, -4.6289,\n",
            "        -4.5938, -4.3984, -3.6016, -4.8359, -4.0430, -4.3906, -4.3672, -4.5469,\n",
            "        -3.8203, -4.2930, -4.6719, -4.5117, -4.6953, -4.7227, -4.8281, -4.4922,\n",
            "        -3.9727, -4.5273, -4.1680, -4.5781, -4.8477, -4.6289, -4.6914, -4.7852],\n",
            "       device='cuda:0', dtype=torch.float16, grad_fn=<MulBackward0>)]  loss\n",
            "iteration 220\n",
            "iteration 220 up_noise 0.11\n",
            "0.5 lr 0.1 decay\n"
          ],
          "name": "stdout"
        },
        {
          "output_type": "stream",
          "text": [
            "WARNING:root:Lossy conversion from float32 to uint8. Range [-0.0934612825512886, 1.0708087682724]. Convert image to uint8 prior to saving to suppress this warning.\n",
            "WARNING:root:Lossy conversion from float32 to uint8. Range [0, 1]. Convert image to uint8 prior to saving to suppress this warning.\n"
          ],
          "name": "stderr"
        },
        {
          "output_type": "stream",
          "text": [
            "out_path /content/output/vibrant-painting-of-a-movie-in-the-style-of-magritte_00230.png\n",
            "\n",
            "\n",
            "\n",
            "    @@@@@@@@@@@@@@@@@@@@@@@@@@@@@@@@@@@@@@@@@@@@@@@\n",
            "    @@@@@@@@@@@@@@@@@@@@@@@@@@@@@@@@@@@@@@@@@@@@@@@\n",
            "    @@@@@@@@@@@@@@@@@@@@@@@@@@@@@@@@@@@@@@@@@@@@@@@\n",
            "    \n",
            "out_path /content/output/vibrant-painting-of-a-movie-in-the-style-of-magritte_00230.png\n",
            "\n",
            "\n",
            "\n",
            "  ##########################################################\n",
            "   [tensor([0.5869, 0.6250, 0.5918, 0.5200, 0.6738, 0.5542, 0.6201, 0.4951, 0.5894,\n",
            "        0.5552, 0.5483, 0.5991, 0.5596, 0.5820, 0.6304, 0.6445, 0.6655, 0.5962,\n",
            "        0.6069, 0.6865, 0.5850, 0.5469, 0.6807, 0.7129, 0.5752, 0.5493, 0.5708,\n",
            "        0.5698, 0.6108, 0.5796, 0.5752, 0.5352], device='cuda:0',\n",
            "       dtype=torch.float16, grad_fn=<MulBackward0>), tensor([-4.8750, -4.1250, -4.5977, -4.7344, -2.7910, -4.8281, -4.0391, -4.5625,\n",
            "        -4.5742, -4.9531, -4.5742, -4.7070, -4.9609, -4.8672, -4.3398, -4.3203,\n",
            "        -4.4062, -4.1836, -4.8398, -3.2324, -4.6172, -4.5117, -3.5449, -3.0508,\n",
            "        -4.9648, -4.9336, -4.5469, -4.9453, -4.6055, -5.0430, -4.7734, -5.0742],\n",
            "       device='cuda:0', dtype=torch.float16, grad_fn=<MulBackward0>)]  loss\n",
            "iteration 230\n",
            "iteration 230 up_noise 0.11\n",
            "0.5 lr 0.1 decay\n"
          ],
          "name": "stdout"
        },
        {
          "output_type": "stream",
          "text": [
            "WARNING:root:Lossy conversion from float32 to uint8. Range [-0.05594649165868759, 1.0377005338668823]. Convert image to uint8 prior to saving to suppress this warning.\n",
            "WARNING:root:Lossy conversion from float32 to uint8. Range [0, 1]. Convert image to uint8 prior to saving to suppress this warning.\n"
          ],
          "name": "stderr"
        },
        {
          "output_type": "stream",
          "text": [
            "out_path /content/output/vibrant-painting-of-a-movie-in-the-style-of-magritte_00240.png\n",
            "\n",
            "\n",
            "\n",
            "    @@@@@@@@@@@@@@@@@@@@@@@@@@@@@@@@@@@@@@@@@@@@@@@\n",
            "    @@@@@@@@@@@@@@@@@@@@@@@@@@@@@@@@@@@@@@@@@@@@@@@\n",
            "    @@@@@@@@@@@@@@@@@@@@@@@@@@@@@@@@@@@@@@@@@@@@@@@\n",
            "    \n",
            "out_path /content/output/vibrant-painting-of-a-movie-in-the-style-of-magritte_00240.png\n",
            "\n",
            "\n",
            "\n",
            "  ##########################################################\n",
            "   [tensor([0.5864, 0.5459, 0.6846, 0.5581, 0.6362, 0.6216, 0.5410, 0.5264, 0.6294,\n",
            "        0.5205, 0.5635, 0.6113, 0.5562, 0.5117, 0.5713, 0.5830, 0.6025, 0.5225,\n",
            "        0.5503, 0.5605, 0.5605, 0.5444, 0.5820, 0.6323, 0.5615, 0.5674, 0.5454,\n",
            "        0.5195, 0.5664, 0.5664, 0.5493, 0.6260], device='cuda:0',\n",
            "       dtype=torch.float16, grad_fn=<MulBackward0>), tensor([-4.7773, -4.9844, -2.1172, -5.0234, -3.6504, -4.1758, -5.0430, -4.5352,\n",
            "        -4.4062, -4.6328, -4.7617, -4.1133, -4.8203, -4.7266, -4.4688, -4.5625,\n",
            "        -4.4062, -4.8438, -4.9258, -4.9102, -4.4570, -4.7891, -4.8906, -3.9668,\n",
            "        -4.7227, -4.5156, -4.7500, -4.7578, -4.8086, -4.9102, -4.7266, -4.4531],\n",
            "       device='cuda:0', dtype=torch.float16, grad_fn=<MulBackward0>)]  loss\n",
            "iteration 240\n",
            "iteration 240 up_noise 0.11\n",
            "0.5 lr 0.1 decay\n"
          ],
          "name": "stdout"
        },
        {
          "output_type": "stream",
          "text": [
            "WARNING:root:Lossy conversion from float32 to uint8. Range [-0.11868918687105179, 1.0644687414169312]. Convert image to uint8 prior to saving to suppress this warning.\n",
            "WARNING:root:Lossy conversion from float32 to uint8. Range [0, 1]. Convert image to uint8 prior to saving to suppress this warning.\n"
          ],
          "name": "stderr"
        },
        {
          "output_type": "stream",
          "text": [
            "out_path /content/output/vibrant-painting-of-a-movie-in-the-style-of-magritte_00250.png\n",
            "\n",
            "\n",
            "\n",
            "    @@@@@@@@@@@@@@@@@@@@@@@@@@@@@@@@@@@@@@@@@@@@@@@\n",
            "    @@@@@@@@@@@@@@@@@@@@@@@@@@@@@@@@@@@@@@@@@@@@@@@\n",
            "    @@@@@@@@@@@@@@@@@@@@@@@@@@@@@@@@@@@@@@@@@@@@@@@\n",
            "    \n",
            "out_path /content/output/vibrant-painting-of-a-movie-in-the-style-of-magritte_00250.png\n",
            "\n",
            "\n",
            "\n",
            "  ##########################################################\n",
            "   [tensor([0.5625, 0.6357, 0.5732, 0.5942, 0.5586, 0.5312, 0.5571, 0.6128, 0.5688,\n",
            "        0.6475, 0.5703, 0.6294, 0.5576, 0.5005, 0.5684, 0.5635, 0.5762, 0.5166,\n",
            "        0.6045, 0.5361, 0.5928, 0.5669, 0.6030, 0.5669, 0.6802, 0.6133, 0.6362,\n",
            "        0.5547, 0.6060, 0.5952, 0.5381, 0.5840], device='cuda:0',\n",
            "       dtype=torch.float16, grad_fn=<MulBackward0>), tensor([-4.4102, -3.1426, -4.5977, -4.7500, -4.9023, -4.3711, -4.8828, -4.2656,\n",
            "        -4.9141, -4.3320, -4.5898, -4.7031, -4.8281, -5.0078, -4.6445, -4.8750,\n",
            "        -4.9492, -5.0000, -4.0117, -4.6797, -4.1250, -4.0586, -4.2344, -4.9336,\n",
            "        -4.2188, -3.9883, -3.8887, -4.7969, -4.6680, -4.7617, -4.9453, -4.5195],\n",
            "       device='cuda:0', dtype=torch.float16, grad_fn=<MulBackward0>)]  loss\n",
            "iteration 250\n",
            "iteration 250 up_noise 0.11\n",
            "0.5 lr 0.1 decay\n"
          ],
          "name": "stdout"
        },
        {
          "output_type": "stream",
          "text": [
            "WARNING:root:Lossy conversion from float32 to uint8. Range [-0.3540094196796417, 1.2885322570800781]. Convert image to uint8 prior to saving to suppress this warning.\n",
            "WARNING:root:Lossy conversion from float32 to uint8. Range [0, 1]. Convert image to uint8 prior to saving to suppress this warning.\n"
          ],
          "name": "stderr"
        },
        {
          "output_type": "stream",
          "text": [
            "out_path /content/output/vibrant-painting-of-a-movie-in-the-style-of-magritte_00260.png\n",
            "\n",
            "\n",
            "\n",
            "    @@@@@@@@@@@@@@@@@@@@@@@@@@@@@@@@@@@@@@@@@@@@@@@\n",
            "    @@@@@@@@@@@@@@@@@@@@@@@@@@@@@@@@@@@@@@@@@@@@@@@\n",
            "    @@@@@@@@@@@@@@@@@@@@@@@@@@@@@@@@@@@@@@@@@@@@@@@\n",
            "    \n",
            "out_path /content/output/vibrant-painting-of-a-movie-in-the-style-of-magritte_00260.png\n",
            "\n",
            "\n",
            "\n",
            "  ##########################################################\n",
            "   [tensor([0.6543, 0.6597, 0.6758, 0.6938, 0.6035, 0.5605, 0.6660, 0.6265, 0.5996,\n",
            "        0.5986, 0.6201, 0.5972, 0.6089, 0.5488, 0.7095, 0.5752, 0.5898, 0.5723,\n",
            "        0.6885, 0.6548, 0.6704, 0.6147, 0.5986, 0.5791, 0.5942, 0.6167, 0.5459,\n",
            "        0.5586, 0.7314, 0.5581, 0.6309, 0.5928], device='cuda:0',\n",
            "       dtype=torch.float16, grad_fn=<MulBackward0>), tensor([-3.8125, -4.0703, -3.5391, -3.7109, -4.4219, -4.9258, -4.6094, -4.5742,\n",
            "        -4.8125, -3.4668, -4.3398, -4.7148, -4.4180, -4.8789, -3.8652, -4.8398,\n",
            "        -4.6953, -4.8672, -4.1211, -2.8438, -4.1328, -4.0664, -4.2617, -4.9570,\n",
            "        -4.3906, -4.7305, -4.9062, -4.6680, -3.3359, -4.7891, -4.9648, -4.9336],\n",
            "       device='cuda:0', dtype=torch.float16, grad_fn=<MulBackward0>)]  loss\n",
            "iteration 260\n",
            "iteration 260 up_noise 0.11\n",
            "0.5 lr 0.1 decay\n"
          ],
          "name": "stdout"
        },
        {
          "output_type": "stream",
          "text": [
            "WARNING:root:Lossy conversion from float32 to uint8. Range [-0.36911290884017944, 1.293393611907959]. Convert image to uint8 prior to saving to suppress this warning.\n",
            "WARNING:root:Lossy conversion from float32 to uint8. Range [0, 1]. Convert image to uint8 prior to saving to suppress this warning.\n"
          ],
          "name": "stderr"
        },
        {
          "output_type": "stream",
          "text": [
            "out_path /content/output/vibrant-painting-of-a-movie-in-the-style-of-magritte_00270.png\n",
            "\n",
            "\n",
            "\n",
            "    @@@@@@@@@@@@@@@@@@@@@@@@@@@@@@@@@@@@@@@@@@@@@@@\n",
            "    @@@@@@@@@@@@@@@@@@@@@@@@@@@@@@@@@@@@@@@@@@@@@@@\n",
            "    @@@@@@@@@@@@@@@@@@@@@@@@@@@@@@@@@@@@@@@@@@@@@@@\n",
            "    \n",
            "out_path /content/output/vibrant-painting-of-a-movie-in-the-style-of-magritte_00270.png\n",
            "\n",
            "\n",
            "\n",
            "  ##########################################################\n",
            "   [tensor([0.6455, 0.5547, 0.6118, 0.4785, 0.6084, 0.6250, 0.5557, 0.5576, 0.5547,\n",
            "        0.5664, 0.5679, 0.6392, 0.5928, 0.5493, 0.5146, 0.5674, 0.5967, 0.5625,\n",
            "        0.5146, 0.5342, 0.5195, 0.6201, 0.5654, 0.5420, 0.6392, 0.5220, 0.6162,\n",
            "        0.5415, 0.6021, 0.5322, 0.5361, 0.5205], device='cuda:0',\n",
            "       dtype=torch.float16, grad_fn=<MulBackward0>), tensor([-3.8281, -4.3086, -3.6895, -4.8594, -4.3906, -4.5273, -4.3672, -4.4102,\n",
            "        -4.8477, -4.9453, -4.5469, -4.4453, -4.6250, -4.8047, -4.9688, -4.1367,\n",
            "        -4.3516, -4.6875, -4.9570, -4.1836, -4.9922, -2.9219, -4.9062, -5.1602,\n",
            "        -3.8789, -4.8750, -4.8125, -4.5234, -4.6602, -4.7891, -4.9648, -5.0156],\n",
            "       device='cuda:0', dtype=torch.float16, grad_fn=<MulBackward0>)]  loss\n",
            "iteration 270\n",
            "iteration 270 up_noise 0.11\n",
            "0.5 lr 0.1 decay\n"
          ],
          "name": "stdout"
        },
        {
          "output_type": "stream",
          "text": [
            "WARNING:root:Lossy conversion from float32 to uint8. Range [-0.07231462746858597, 1.0505602359771729]. Convert image to uint8 prior to saving to suppress this warning.\n",
            "WARNING:root:Lossy conversion from float32 to uint8. Range [0, 1]. Convert image to uint8 prior to saving to suppress this warning.\n"
          ],
          "name": "stderr"
        },
        {
          "output_type": "stream",
          "text": [
            "out_path /content/output/vibrant-painting-of-a-movie-in-the-style-of-magritte_00280.png\n",
            "\n",
            "\n",
            "\n",
            "    @@@@@@@@@@@@@@@@@@@@@@@@@@@@@@@@@@@@@@@@@@@@@@@\n",
            "    @@@@@@@@@@@@@@@@@@@@@@@@@@@@@@@@@@@@@@@@@@@@@@@\n",
            "    @@@@@@@@@@@@@@@@@@@@@@@@@@@@@@@@@@@@@@@@@@@@@@@\n",
            "    \n",
            "out_path /content/output/vibrant-painting-of-a-movie-in-the-style-of-magritte_00280.png\n",
            "\n",
            "\n",
            "\n",
            "  ##########################################################\n",
            "   [tensor([0.5513, 0.5459, 0.4966, 0.5786, 0.5820, 0.5566, 0.5361, 0.5986, 0.5811,\n",
            "        0.5898, 0.5732, 0.5322, 0.6694, 0.6519, 0.5522, 0.5498, 0.5439, 0.6870,\n",
            "        0.5737, 0.6099, 0.7212, 0.5791, 0.5288, 0.5928, 0.5693, 0.5742, 0.5220,\n",
            "        0.6606, 0.6689, 0.5220, 0.5879, 0.5293], device='cuda:0',\n",
            "       dtype=torch.float16, grad_fn=<MulBackward0>), tensor([-4.7812, -5.1250, -4.9531, -4.3047, -3.6328, -4.9961, -4.8125, -4.6719,\n",
            "        -4.5859, -3.9082, -4.7734, -4.4453, -4.2695, -3.8164, -3.9082, -5.0430,\n",
            "        -4.7930, -4.0273, -4.5547, -4.3438, -1.8594, -4.5781, -4.9258, -4.7031,\n",
            "        -4.6133, -4.8750, -4.8477, -3.2344, -3.1934, -4.6680, -4.8008, -4.4375],\n",
            "       device='cuda:0', dtype=torch.float16, grad_fn=<MulBackward0>)]  loss\n",
            "iteration 280\n",
            "iteration 280 up_noise 0.11\n",
            "0.5 lr 0.1 decay\n"
          ],
          "name": "stdout"
        },
        {
          "output_type": "stream",
          "text": [
            "WARNING:root:Lossy conversion from float32 to uint8. Range [-0.42104580998420715, 1.2474249601364136]. Convert image to uint8 prior to saving to suppress this warning.\n",
            "WARNING:root:Lossy conversion from float32 to uint8. Range [0, 1]. Convert image to uint8 prior to saving to suppress this warning.\n"
          ],
          "name": "stderr"
        },
        {
          "output_type": "stream",
          "text": [
            "out_path /content/output/vibrant-painting-of-a-movie-in-the-style-of-magritte_00290.png\n",
            "\n",
            "\n",
            "\n",
            "    @@@@@@@@@@@@@@@@@@@@@@@@@@@@@@@@@@@@@@@@@@@@@@@\n",
            "    @@@@@@@@@@@@@@@@@@@@@@@@@@@@@@@@@@@@@@@@@@@@@@@\n",
            "    @@@@@@@@@@@@@@@@@@@@@@@@@@@@@@@@@@@@@@@@@@@@@@@\n",
            "    \n",
            "out_path /content/output/vibrant-painting-of-a-movie-in-the-style-of-magritte_00290.png\n",
            "\n",
            "\n",
            "\n",
            "  ##########################################################\n",
            "   [tensor([0.5322, 0.5654, 0.6357, 0.5518, 0.7422, 0.5952, 0.5239, 0.6621, 0.5845,\n",
            "        0.6260, 0.5664, 0.6294, 0.5820, 0.6689, 0.5474, 0.4944, 0.7603, 0.5762,\n",
            "        0.7310, 0.5430, 0.6143, 0.6230, 0.5703, 0.5791, 0.4973, 0.5728, 0.5205,\n",
            "        0.4951, 0.5571, 0.5493, 0.5430, 0.5835], device='cuda:0',\n",
            "       dtype=torch.float16, grad_fn=<MulBackward0>), tensor([-4.7422, -4.3359, -3.8711, -4.7812, -2.4609, -4.2109, -4.0117, -3.8125,\n",
            "        -4.5195, -4.1680, -4.7617, -4.0742, -3.8086, -2.6055, -4.6641, -4.9336,\n",
            "        -2.0820, -3.8281, -2.8027, -4.6367, -3.7617, -4.1484, -4.4961, -3.9082,\n",
            "        -4.7500, -3.6348, -4.6523, -4.8086, -4.6523, -4.8789, -4.6523, -4.6914],\n",
            "       device='cuda:0', dtype=torch.float16, grad_fn=<MulBackward0>)]  loss\n",
            "iteration 290\n",
            "iteration 290 up_noise 0.11\n",
            "0.5 lr 0.1 decay\n"
          ],
          "name": "stdout"
        },
        {
          "output_type": "stream",
          "text": [
            "WARNING:root:Lossy conversion from float32 to uint8. Range [-0.13460783660411835, 1.076079249382019]. Convert image to uint8 prior to saving to suppress this warning.\n",
            "WARNING:root:Lossy conversion from float32 to uint8. Range [0, 1]. Convert image to uint8 prior to saving to suppress this warning.\n"
          ],
          "name": "stderr"
        },
        {
          "output_type": "stream",
          "text": [
            "out_path /content/output/vibrant-painting-of-a-movie-in-the-style-of-magritte_00300.png\n",
            "\n",
            "\n",
            "\n",
            "    @@@@@@@@@@@@@@@@@@@@@@@@@@@@@@@@@@@@@@@@@@@@@@@\n",
            "    @@@@@@@@@@@@@@@@@@@@@@@@@@@@@@@@@@@@@@@@@@@@@@@\n",
            "    @@@@@@@@@@@@@@@@@@@@@@@@@@@@@@@@@@@@@@@@@@@@@@@\n",
            "    \n",
            "out_path /content/output/vibrant-painting-of-a-movie-in-the-style-of-magritte_00300.png\n",
            "\n",
            "\n",
            "\n",
            "  ##########################################################\n",
            "   [tensor([0.5122, 0.5122, 0.5654, 0.5874, 0.5210, 0.6353, 0.5337, 0.6270, 0.5249,\n",
            "        0.5674, 0.5430, 0.5889, 0.5640, 0.6606, 0.6304, 0.5596, 0.5688, 0.5225,\n",
            "        0.6606, 0.6733, 0.4917, 0.5547, 0.5645, 0.5483, 0.6001, 0.5459, 0.6602,\n",
            "        0.7559, 0.5874, 0.5264, 0.5288, 0.4951], device='cuda:0',\n",
            "       dtype=torch.float16, grad_fn=<MulBackward0>), tensor([-4.8594, -4.7617, -4.7227, -4.4297, -4.7812, -4.1758, -4.8750, -4.8672,\n",
            "        -4.9727, -4.9180, -4.5469, -3.2012, -4.4102, -3.2734, -3.1523, -4.3047,\n",
            "        -4.9922, -5.0547, -3.1953, -3.2266, -4.9141, -4.7500, -4.5469, -4.6797,\n",
            "        -4.6094, -4.5469, -3.7910, -1.9180, -3.8203, -5.0078, -5.0000, -4.8789],\n",
            "       device='cuda:0', dtype=torch.float16, grad_fn=<MulBackward0>)]  loss\n",
            "iteration 300\n",
            "iteration 300 up_noise 0.11\n",
            "0.5 lr 0.1 decay\n"
          ],
          "name": "stdout"
        },
        {
          "output_type": "stream",
          "text": [
            "WARNING:root:Lossy conversion from float32 to uint8. Range [-0.21896278858184814, 1.1460531949996948]. Convert image to uint8 prior to saving to suppress this warning.\n",
            "WARNING:root:Lossy conversion from float32 to uint8. Range [0, 1]. Convert image to uint8 prior to saving to suppress this warning.\n"
          ],
          "name": "stderr"
        },
        {
          "output_type": "stream",
          "text": [
            "out_path /content/output/vibrant-painting-of-a-movie-in-the-style-of-magritte_00310.png\n",
            "\n",
            "\n",
            "\n",
            "    @@@@@@@@@@@@@@@@@@@@@@@@@@@@@@@@@@@@@@@@@@@@@@@\n",
            "    @@@@@@@@@@@@@@@@@@@@@@@@@@@@@@@@@@@@@@@@@@@@@@@\n",
            "    @@@@@@@@@@@@@@@@@@@@@@@@@@@@@@@@@@@@@@@@@@@@@@@\n",
            "    \n",
            "out_path /content/output/vibrant-painting-of-a-movie-in-the-style-of-magritte_00310.png\n",
            "\n",
            "\n",
            "\n",
            "  ##########################################################\n",
            "   [tensor([0.6074, 0.5811, 0.5898, 0.4971, 0.6113, 0.5200, 0.5010, 0.5557, 0.5791,\n",
            "        0.6572, 0.5439, 0.5566, 0.6719, 0.4863, 0.5962, 0.5791, 0.6909, 0.6611,\n",
            "        0.5508, 0.5854, 0.5698, 0.5806, 0.4980, 0.5532, 0.6279, 0.5889, 0.6069,\n",
            "        0.6157, 0.5835, 0.5098, 0.6060, 0.5781], device='cuda:0',\n",
            "       dtype=torch.float16, grad_fn=<MulBackward0>), tensor([-4.7070, -4.1914, -4.7344, -4.8594, -4.0977, -5.0430, -4.9258, -5.0195,\n",
            "        -4.7188, -3.7793, -4.9688, -4.2500, -4.4492, -5.0742, -4.9570, -4.4258,\n",
            "        -4.0234, -3.6484, -4.7227, -4.3828, -4.9961, -4.7578, -4.8945, -5.0938,\n",
            "        -4.9922, -5.0859, -4.0078, -4.8672, -4.8477, -5.0430, -4.8828, -5.0352],\n",
            "       device='cuda:0', dtype=torch.float16, grad_fn=<MulBackward0>)]  loss\n",
            "iteration 310\n",
            "iteration 310 up_noise 0.11\n",
            "0.5 lr 0.1 decay\n"
          ],
          "name": "stdout"
        },
        {
          "output_type": "stream",
          "text": [
            "WARNING:root:Lossy conversion from float32 to uint8. Range [-0.44971492886543274, 1.300766944885254]. Convert image to uint8 prior to saving to suppress this warning.\n",
            "WARNING:root:Lossy conversion from float32 to uint8. Range [0, 1]. Convert image to uint8 prior to saving to suppress this warning.\n"
          ],
          "name": "stderr"
        },
        {
          "output_type": "stream",
          "text": [
            "out_path /content/output/vibrant-painting-of-a-movie-in-the-style-of-magritte_00320.png\n",
            "\n",
            "\n",
            "\n",
            "    @@@@@@@@@@@@@@@@@@@@@@@@@@@@@@@@@@@@@@@@@@@@@@@\n",
            "    @@@@@@@@@@@@@@@@@@@@@@@@@@@@@@@@@@@@@@@@@@@@@@@\n",
            "    @@@@@@@@@@@@@@@@@@@@@@@@@@@@@@@@@@@@@@@@@@@@@@@\n",
            "    \n",
            "out_path /content/output/vibrant-painting-of-a-movie-in-the-style-of-magritte_00320.png\n",
            "\n",
            "\n",
            "\n",
            "  ##########################################################\n",
            "   [tensor([0.6206, 0.5605, 0.5830, 0.5693, 0.4600, 0.5806, 0.6899, 0.5464, 0.5107,\n",
            "        0.5615, 0.5737, 0.6328, 0.6084, 0.5659, 0.5259, 0.5078, 0.5488, 0.5938,\n",
            "        0.5605, 0.6089, 0.5264, 0.5215, 0.5820, 0.5757, 0.6587, 0.6421, 0.5967,\n",
            "        0.5869, 0.6074, 0.5488, 0.5723, 0.5078], device='cuda:0',\n",
            "       dtype=torch.float16, grad_fn=<MulBackward0>), tensor([-4.1953, -4.9844, -4.5898, -4.5859, -5.1562, -4.4766, -4.2617, -4.6289,\n",
            "        -5.0078, -4.9375, -4.8594, -4.7305, -4.6523, -5.1484, -4.5625, -4.7383,\n",
            "        -5.2500, -4.2422, -5.0352, -4.6836, -5.0156, -4.9688, -4.6758, -4.2773,\n",
            "        -3.9961, -3.8652, -4.1836, -4.8672, -4.1484, -4.8594, -4.8672, -5.0156],\n",
            "       device='cuda:0', dtype=torch.float16, grad_fn=<MulBackward0>)]  loss\n",
            "iteration 320\n",
            "iteration 320 up_noise 0.11\n",
            "0.5 lr 0.1 decay\n"
          ],
          "name": "stdout"
        },
        {
          "output_type": "stream",
          "text": [
            "WARNING:root:Lossy conversion from float32 to uint8. Range [-0.4186963737010956, 1.3332034349441528]. Convert image to uint8 prior to saving to suppress this warning.\n",
            "WARNING:root:Lossy conversion from float32 to uint8. Range [0, 1]. Convert image to uint8 prior to saving to suppress this warning.\n"
          ],
          "name": "stderr"
        },
        {
          "output_type": "stream",
          "text": [
            "out_path /content/output/vibrant-painting-of-a-movie-in-the-style-of-magritte_00330.png\n",
            "\n",
            "\n",
            "\n",
            "    @@@@@@@@@@@@@@@@@@@@@@@@@@@@@@@@@@@@@@@@@@@@@@@\n",
            "    @@@@@@@@@@@@@@@@@@@@@@@@@@@@@@@@@@@@@@@@@@@@@@@\n",
            "    @@@@@@@@@@@@@@@@@@@@@@@@@@@@@@@@@@@@@@@@@@@@@@@\n",
            "    \n",
            "out_path /content/output/vibrant-painting-of-a-movie-in-the-style-of-magritte_00330.png\n",
            "\n",
            "\n",
            "\n",
            "  ##########################################################\n",
            "   [tensor([0.6479, 0.5693, 0.5566, 0.5381, 0.6616, 0.5557, 0.5938, 0.5581, 0.5771,\n",
            "        0.5273, 0.5571, 0.6836, 0.5020, 0.5015, 0.5229, 0.6270, 0.7388, 0.5840,\n",
            "        0.6196, 0.6040, 0.6108, 0.5820, 0.5586, 0.5791, 0.5459, 0.5186, 0.5557,\n",
            "        0.5547, 0.6323, 0.5645, 0.4812, 0.5010], device='cuda:0',\n",
            "       dtype=torch.float16, grad_fn=<MulBackward0>), tensor([-4.4492, -5.0156, -4.6758, -5.0195, -3.5000, -4.9180, -4.9961, -5.1133,\n",
            "        -4.9961, -5.0430, -5.1641, -3.3047, -4.5898, -4.8594, -5.0703, -4.6484,\n",
            "        -2.5957, -4.6328, -3.4355, -4.3008, -4.0781, -4.6836, -4.3398, -4.9062,\n",
            "        -4.9805, -5.1016, -4.2148, -4.9180, -4.2539, -5.0234, -4.7500, -5.0469],\n",
            "       device='cuda:0', dtype=torch.float16, grad_fn=<MulBackward0>)]  loss\n",
            "iteration 330\n",
            "iteration 330 up_noise 0.11\n",
            "0.5 lr 0.1 decay\n"
          ],
          "name": "stdout"
        },
        {
          "output_type": "stream",
          "text": [
            "WARNING:root:Lossy conversion from float32 to uint8. Range [-0.30823180079460144, 1.2081565856933594]. Convert image to uint8 prior to saving to suppress this warning.\n",
            "WARNING:root:Lossy conversion from float32 to uint8. Range [0, 1]. Convert image to uint8 prior to saving to suppress this warning.\n"
          ],
          "name": "stderr"
        },
        {
          "output_type": "stream",
          "text": [
            "out_path /content/output/vibrant-painting-of-a-movie-in-the-style-of-magritte_00340.png\n",
            "\n",
            "\n",
            "\n",
            "    @@@@@@@@@@@@@@@@@@@@@@@@@@@@@@@@@@@@@@@@@@@@@@@\n",
            "    @@@@@@@@@@@@@@@@@@@@@@@@@@@@@@@@@@@@@@@@@@@@@@@\n",
            "    @@@@@@@@@@@@@@@@@@@@@@@@@@@@@@@@@@@@@@@@@@@@@@@\n",
            "    \n",
            "out_path /content/output/vibrant-painting-of-a-movie-in-the-style-of-magritte_00340.png\n",
            "\n",
            "\n",
            "\n",
            "  ##########################################################\n",
            "   [tensor([0.6201, 0.6396, 0.4944, 0.5361, 0.5571, 0.6704, 0.5254, 0.5669, 0.5488,\n",
            "        0.5210, 0.5791, 0.5518, 0.5620, 0.5205, 0.7197, 0.4946, 0.5107, 0.5352,\n",
            "        0.5337, 0.5469, 0.6509, 0.6758, 0.5347, 0.6128, 0.6191, 0.5474, 0.5898,\n",
            "        0.4915, 0.4941, 0.5234, 0.5190, 0.5112], device='cuda:0',\n",
            "       dtype=torch.float16, grad_fn=<MulBackward0>), tensor([-3.8691, -4.0664, -4.7969, -4.8125, -4.3828, -3.5703, -5.0039, -4.4453,\n",
            "        -4.5781, -4.4102, -4.4648, -4.8555, -4.4844, -4.8008, -3.5352, -4.8359,\n",
            "        -5.2031, -5.0430, -4.8359, -4.6719, -3.7480, -2.9609, -4.9922, -4.0820,\n",
            "        -4.4609, -4.7734, -4.4141, -4.6055, -4.8086, -4.7109, -4.7891, -4.9961],\n",
            "       device='cuda:0', dtype=torch.float16, grad_fn=<MulBackward0>)]  loss\n",
            "iteration 340\n",
            "iteration 340 up_noise 0.11\n",
            "0.5 lr 0.1 decay\n"
          ],
          "name": "stdout"
        },
        {
          "output_type": "stream",
          "text": [
            "WARNING:root:Lossy conversion from float32 to uint8. Range [-0.3533509373664856, 1.2303740978240967]. Convert image to uint8 prior to saving to suppress this warning.\n",
            "WARNING:root:Lossy conversion from float32 to uint8. Range [0, 1]. Convert image to uint8 prior to saving to suppress this warning.\n"
          ],
          "name": "stderr"
        },
        {
          "output_type": "stream",
          "text": [
            "out_path /content/output/vibrant-painting-of-a-movie-in-the-style-of-magritte_00350.png\n",
            "\n",
            "\n",
            "\n",
            "    @@@@@@@@@@@@@@@@@@@@@@@@@@@@@@@@@@@@@@@@@@@@@@@\n",
            "    @@@@@@@@@@@@@@@@@@@@@@@@@@@@@@@@@@@@@@@@@@@@@@@\n",
            "    @@@@@@@@@@@@@@@@@@@@@@@@@@@@@@@@@@@@@@@@@@@@@@@\n",
            "    \n",
            "out_path /content/output/vibrant-painting-of-a-movie-in-the-style-of-magritte_00350.png\n",
            "\n",
            "\n",
            "\n",
            "  ##########################################################\n",
            "   [tensor([0.5454, 0.5771, 0.5557, 0.5703, 0.6011, 0.5605, 0.6548, 0.5488, 0.5854,\n",
            "        0.6377, 0.5200, 0.4885, 0.5093, 0.5298, 0.5879, 0.5146, 0.5103, 0.6338,\n",
            "        0.5293, 0.5664, 0.6865, 0.5151, 0.5518, 0.5786, 0.6045, 0.5430, 0.5620,\n",
            "        0.5537, 0.5996, 0.5693, 0.5591, 0.6089], device='cuda:0',\n",
            "       dtype=torch.float16, grad_fn=<MulBackward0>), tensor([-4.3789, -4.6523, -4.5820, -4.1445, -4.0781, -4.3203, -2.8496, -4.8945,\n",
            "        -4.6055, -4.5312, -4.6250, -4.7109, -4.9258, -4.8398, -4.8750, -4.8359,\n",
            "        -4.9453, -4.4180, -4.3984, -5.0312, -3.6621, -4.9688, -4.8281, -4.3047,\n",
            "        -4.6406, -4.7344, -4.4062, -4.5039, -4.7891, -4.2617, -4.4219, -4.4922],\n",
            "       device='cuda:0', dtype=torch.float16, grad_fn=<MulBackward0>)]  loss\n",
            "iteration 350\n",
            "iteration 350 up_noise 0.11\n",
            "0.5 lr 0.1 decay\n"
          ],
          "name": "stdout"
        },
        {
          "output_type": "stream",
          "text": [
            "WARNING:root:Lossy conversion from float32 to uint8. Range [-0.03261307626962662, 1.0150690078735352]. Convert image to uint8 prior to saving to suppress this warning.\n",
            "WARNING:root:Lossy conversion from float32 to uint8. Range [0, 1]. Convert image to uint8 prior to saving to suppress this warning.\n"
          ],
          "name": "stderr"
        },
        {
          "output_type": "stream",
          "text": [
            "out_path /content/output/vibrant-painting-of-a-movie-in-the-style-of-magritte_00360.png\n",
            "\n",
            "\n",
            "\n",
            "    @@@@@@@@@@@@@@@@@@@@@@@@@@@@@@@@@@@@@@@@@@@@@@@\n",
            "    @@@@@@@@@@@@@@@@@@@@@@@@@@@@@@@@@@@@@@@@@@@@@@@\n",
            "    @@@@@@@@@@@@@@@@@@@@@@@@@@@@@@@@@@@@@@@@@@@@@@@\n",
            "    \n",
            "out_path /content/output/vibrant-painting-of-a-movie-in-the-style-of-magritte_00360.png\n",
            "\n",
            "\n",
            "\n",
            "  ##########################################################\n",
            "   [tensor([0.7012, 0.5537, 0.6235, 0.6055, 0.5586, 0.5361, 0.5171, 0.5962, 0.5820,\n",
            "        0.5859, 0.5620, 0.5288, 0.6074, 0.5166, 0.5732, 0.5386, 0.5752, 0.6074,\n",
            "        0.5796, 0.5386, 0.5259, 0.6294, 0.6177, 0.6880, 0.5264, 0.6851, 0.6455,\n",
            "        0.6416, 0.5688, 0.5117, 0.5586, 0.4849], device='cuda:0',\n",
            "       dtype=torch.float16, grad_fn=<MulBackward0>), tensor([-2.9414, -5.0547, -4.6094, -4.1445, -4.8281, -4.6055, -4.8867, -4.9961,\n",
            "        -5.0742, -5.0352, -5.2422, -4.8711, -3.7070, -4.6250, -4.6758, -5.0391,\n",
            "        -4.8828, -4.6484, -5.1211, -4.6953, -4.9766, -4.4961, -3.9355, -1.7568,\n",
            "        -5.0820, -3.9160, -3.6816, -3.9238, -4.3086, -5.0938, -4.4883, -4.9648],\n",
            "       device='cuda:0', dtype=torch.float16, grad_fn=<MulBackward0>)]  loss\n",
            "iteration 360\n",
            "iteration 360 up_noise 0.11\n",
            "0.5 lr 0.1 decay\n"
          ],
          "name": "stdout"
        },
        {
          "output_type": "stream",
          "text": [
            "WARNING:root:Lossy conversion from float32 to uint8. Range [-0.2205883264541626, 1.1788798570632935]. Convert image to uint8 prior to saving to suppress this warning.\n",
            "WARNING:root:Lossy conversion from float32 to uint8. Range [0, 1]. Convert image to uint8 prior to saving to suppress this warning.\n"
          ],
          "name": "stderr"
        },
        {
          "output_type": "stream",
          "text": [
            "out_path /content/output/vibrant-painting-of-a-movie-in-the-style-of-magritte_00370.png\n",
            "\n",
            "\n",
            "\n",
            "    @@@@@@@@@@@@@@@@@@@@@@@@@@@@@@@@@@@@@@@@@@@@@@@\n",
            "    @@@@@@@@@@@@@@@@@@@@@@@@@@@@@@@@@@@@@@@@@@@@@@@\n",
            "    @@@@@@@@@@@@@@@@@@@@@@@@@@@@@@@@@@@@@@@@@@@@@@@\n",
            "    \n",
            "out_path /content/output/vibrant-painting-of-a-movie-in-the-style-of-magritte_00370.png\n",
            "\n",
            "\n",
            "\n",
            "  ##########################################################\n",
            "   [tensor([0.6074, 0.5371, 0.5957, 0.5195, 0.5405, 0.6191, 0.5371, 0.6631, 0.5400,\n",
            "        0.6465, 0.5703, 0.5762, 0.5273, 0.6050, 0.5693, 0.5654, 0.5273, 0.5283,\n",
            "        0.5518, 0.5283, 0.5767, 0.6763, 0.5410, 0.5010, 0.5522, 0.5820, 0.5293,\n",
            "        0.5498, 0.6802, 0.5454, 0.5146, 0.5073], device='cuda:0',\n",
            "       dtype=torch.float16, grad_fn=<MulBackward0>), tensor([-3.9473, -4.8750, -4.1602, -4.8516, -4.1914, -4.1016, -4.6133, -3.6562,\n",
            "        -4.8750, -4.2461, -4.4102, -3.7656, -4.6992, -4.0273, -4.7695, -4.2344,\n",
            "        -4.8125, -4.5547, -4.6602, -4.0273, -3.7930, -3.3984, -4.9570, -4.5859,\n",
            "        -4.5938, -4.5078, -4.8398, -4.5078, -2.9727, -4.6094, -4.9141, -4.6914],\n",
            "       device='cuda:0', dtype=torch.float16, grad_fn=<MulBackward0>)]  loss\n",
            "iteration 370\n",
            "iteration 370 up_noise 0.11\n",
            "0.5 lr 0.1 decay\n"
          ],
          "name": "stdout"
        },
        {
          "output_type": "stream",
          "text": [
            "WARNING:root:Lossy conversion from float32 to uint8. Range [-0.30818137526512146, 1.2399265766143799]. Convert image to uint8 prior to saving to suppress this warning.\n",
            "WARNING:root:Lossy conversion from float32 to uint8. Range [0, 1]. Convert image to uint8 prior to saving to suppress this warning.\n"
          ],
          "name": "stderr"
        },
        {
          "output_type": "stream",
          "text": [
            "out_path /content/output/vibrant-painting-of-a-movie-in-the-style-of-magritte_00380.png\n",
            "\n",
            "\n",
            "\n",
            "    @@@@@@@@@@@@@@@@@@@@@@@@@@@@@@@@@@@@@@@@@@@@@@@\n",
            "    @@@@@@@@@@@@@@@@@@@@@@@@@@@@@@@@@@@@@@@@@@@@@@@\n",
            "    @@@@@@@@@@@@@@@@@@@@@@@@@@@@@@@@@@@@@@@@@@@@@@@\n",
            "    \n",
            "out_path /content/output/vibrant-painting-of-a-movie-in-the-style-of-magritte_00380.png\n",
            "\n",
            "\n",
            "\n",
            "  ##########################################################\n",
            "   [tensor([0.6001, 0.6523, 0.7100, 0.5566, 0.5781, 0.5703, 0.5791, 0.6670, 0.5767,\n",
            "        0.5244, 0.5342, 0.5767, 0.6133, 0.5200, 0.5542, 0.7383, 0.5225, 0.5151,\n",
            "        0.5435, 0.5469, 0.6006, 0.7598, 0.5786, 0.5112, 0.6626, 0.5498, 0.6221,\n",
            "        0.5415, 0.5645, 0.5308, 0.5303, 0.5176], device='cuda:0',\n",
            "       dtype=torch.float16, grad_fn=<MulBackward0>), tensor([-4.0156, -3.4453, -1.8613, -4.4766, -4.7656, -4.8008, -4.1758, -3.3965,\n",
            "        -4.1602, -4.5352, -5.1641, -4.5391, -3.5625, -5.0469, -5.0156, -1.8896,\n",
            "        -4.4492, -5.1211, -4.8086, -5.1406, -4.7695, -2.3027, -4.6641, -4.5625,\n",
            "        -3.5332, -5.1367, -3.4570, -4.2344, -4.6523, -4.9062, -4.9062, -5.0820],\n",
            "       device='cuda:0', dtype=torch.float16, grad_fn=<MulBackward0>)]  loss\n",
            "iteration 380\n",
            "iteration 380 up_noise 0.11\n",
            "0.5 lr 0.1 decay\n"
          ],
          "name": "stdout"
        },
        {
          "output_type": "stream",
          "text": [
            "WARNING:root:Lossy conversion from float32 to uint8. Range [-0.4471983015537262, 1.280514121055603]. Convert image to uint8 prior to saving to suppress this warning.\n",
            "WARNING:root:Lossy conversion from float32 to uint8. Range [0, 1]. Convert image to uint8 prior to saving to suppress this warning.\n"
          ],
          "name": "stderr"
        },
        {
          "output_type": "stream",
          "text": [
            "out_path /content/output/vibrant-painting-of-a-movie-in-the-style-of-magritte_00390.png\n",
            "\n",
            "\n",
            "\n",
            "    @@@@@@@@@@@@@@@@@@@@@@@@@@@@@@@@@@@@@@@@@@@@@@@\n",
            "    @@@@@@@@@@@@@@@@@@@@@@@@@@@@@@@@@@@@@@@@@@@@@@@\n",
            "    @@@@@@@@@@@@@@@@@@@@@@@@@@@@@@@@@@@@@@@@@@@@@@@\n",
            "    \n",
            "out_path /content/output/vibrant-painting-of-a-movie-in-the-style-of-magritte_00390.png\n",
            "\n",
            "\n",
            "\n",
            "  ##########################################################\n",
            "   [tensor([0.5552, 0.5659, 0.5801, 0.5601, 0.5718, 0.6304, 0.5654, 0.5762, 0.6338,\n",
            "        0.5039, 0.6138, 0.5161, 0.6157, 0.6982, 0.5000, 0.5225, 0.6216, 0.5908,\n",
            "        0.5977, 0.5322, 0.5356, 0.5908, 0.4985, 0.5454, 0.5640, 0.5596, 0.6455,\n",
            "        0.5615, 0.6309, 0.5791, 0.5205, 0.5381], device='cuda:0',\n",
            "       dtype=torch.float16, grad_fn=<MulBackward0>), tensor([-4.1680, -4.1055, -5.0039, -4.7891, -4.7344, -3.3359, -5.0078, -4.8789,\n",
            "        -4.4219, -4.9062, -4.5547, -4.4844, -4.7539, -3.3418, -4.8516, -4.7227,\n",
            "        -3.7383, -4.7969, -3.8086, -4.7773, -4.9609, -4.7422, -4.9648, -4.7734,\n",
            "        -4.3711, -4.6641, -4.7578, -4.9531, -4.4570, -4.9453, -4.9688, -4.7617],\n",
            "       device='cuda:0', dtype=torch.float16, grad_fn=<MulBackward0>)]  loss\n",
            "iteration 390\n",
            "iteration 390 up_noise 0.11\n",
            "0.5 lr 0.1 decay\n"
          ],
          "name": "stdout"
        },
        {
          "output_type": "stream",
          "text": [
            "WARNING:root:Lossy conversion from float32 to uint8. Range [-0.2742999792098999, 1.2687143087387085]. Convert image to uint8 prior to saving to suppress this warning.\n",
            "WARNING:root:Lossy conversion from float32 to uint8. Range [0, 1]. Convert image to uint8 prior to saving to suppress this warning.\n"
          ],
          "name": "stderr"
        },
        {
          "output_type": "stream",
          "text": [
            "out_path /content/output/vibrant-painting-of-a-movie-in-the-style-of-magritte_00400.png\n",
            "\n",
            "\n",
            "\n",
            "    @@@@@@@@@@@@@@@@@@@@@@@@@@@@@@@@@@@@@@@@@@@@@@@\n",
            "    @@@@@@@@@@@@@@@@@@@@@@@@@@@@@@@@@@@@@@@@@@@@@@@\n",
            "    @@@@@@@@@@@@@@@@@@@@@@@@@@@@@@@@@@@@@@@@@@@@@@@\n",
            "    \n",
            "out_path /content/output/vibrant-painting-of-a-movie-in-the-style-of-magritte_00400.png\n",
            "\n",
            "\n",
            "\n",
            "  ##########################################################\n",
            "   [tensor([0.5586, 0.5576, 0.6421, 0.5352, 0.5342, 0.5146, 0.5400, 0.5591, 0.5229,\n",
            "        0.5684, 0.5635, 0.5635, 0.5815, 0.5796, 0.5557, 0.6665, 0.5229, 0.5967,\n",
            "        0.6758, 0.5361, 0.5698, 0.5576, 0.5459, 0.5137, 0.6089, 0.5815, 0.6362,\n",
            "        0.5225, 0.6074, 0.5645, 0.5703, 0.5327], device='cuda:0',\n",
            "       dtype=torch.float16, grad_fn=<MulBackward0>), tensor([-4.6055, -5.0469, -4.0547, -5.0469, -4.9219, -4.8125, -5.0938, -4.4961,\n",
            "        -4.3008, -4.4180, -4.6445, -4.7812, -3.4727, -5.1562, -4.9531, -3.5117,\n",
            "        -4.7695, -4.1094, -2.3145, -4.8164, -4.6562, -4.5547, -4.7148, -4.7891,\n",
            "        -4.7852, -5.1328, -4.4727, -5.0156, -4.3711, -4.6367, -5.0703, -4.9375],\n",
            "       device='cuda:0', dtype=torch.float16, grad_fn=<MulBackward0>)]  loss\n",
            "iteration 400\n",
            "iteration 400 up_noise 0.11\n",
            "0.5 lr 0.1 decay\n"
          ],
          "name": "stdout"
        },
        {
          "output_type": "stream",
          "text": [
            "WARNING:root:Lossy conversion from float32 to uint8. Range [-0.007934161461889744, 1.0049327611923218]. Convert image to uint8 prior to saving to suppress this warning.\n"
          ],
          "name": "stderr"
        },
        {
          "output_type": "stream",
          "text": [
            "out_path /content/output/vibrant-painting-of-a-movie-in-the-style-of-magritte_00410.png\n",
            "\n",
            "\n",
            "\n",
            "    @@@@@@@@@@@@@@@@@@@@@@@@@@@@@@@@@@@@@@@@@@@@@@@\n",
            "    @@@@@@@@@@@@@@@@@@@@@@@@@@@@@@@@@@@@@@@@@@@@@@@\n",
            "    @@@@@@@@@@@@@@@@@@@@@@@@@@@@@@@@@@@@@@@@@@@@@@@\n",
            "    \n"
          ],
          "name": "stdout"
        },
        {
          "output_type": "stream",
          "text": [
            "WARNING:root:Lossy conversion from float32 to uint8. Range [0, 1]. Convert image to uint8 prior to saving to suppress this warning.\n"
          ],
          "name": "stderr"
        },
        {
          "output_type": "stream",
          "text": [
            "out_path /content/output/vibrant-painting-of-a-movie-in-the-style-of-magritte_00410.png\n",
            "\n",
            "\n",
            "\n",
            "  ##########################################################\n",
            "   [tensor([0.5298, 0.5439, 0.6079, 0.4766, 0.5342, 0.4941, 0.5288, 0.5586, 0.5435,\n",
            "        0.6353, 0.5073, 0.6582, 0.7144, 0.5493, 0.5664, 0.6406, 0.5820, 0.5620,\n",
            "        0.5137, 0.5708, 0.5615, 0.5215, 0.6753, 0.5928, 0.6289, 0.5293, 0.4922,\n",
            "        0.5342, 0.5293, 0.5811, 0.4929, 0.4902], device='cuda:0',\n",
            "       dtype=torch.float16, grad_fn=<MulBackward0>), tensor([-4.8164, -5.0703, -3.9355, -4.6562, -4.4258, -4.9844, -4.9414, -5.2695,\n",
            "        -4.2500, -4.4492, -4.9922, -3.3398, -3.6758, -4.3633, -4.5469, -2.9414,\n",
            "        -4.3867, -4.9141, -4.6680, -4.8789, -4.9570, -5.0312, -2.8887, -4.6875,\n",
            "        -4.4648, -3.7461, -5.2695, -4.5469, -4.8633, -4.8477, -5.0859, -4.8984],\n",
            "       device='cuda:0', dtype=torch.float16, grad_fn=<MulBackward0>)]  loss\n",
            "iteration 410\n",
            "iteration 410 up_noise 0.11\n",
            "0.49008952167597475 lr 0.09511101304657718 decay\n"
          ],
          "name": "stdout"
        },
        {
          "output_type": "stream",
          "text": [
            "WARNING:root:Lossy conversion from float32 to uint8. Range [-0.3760923743247986, 1.2172341346740723]. Convert image to uint8 prior to saving to suppress this warning.\n",
            "WARNING:root:Lossy conversion from float32 to uint8. Range [0, 1]. Convert image to uint8 prior to saving to suppress this warning.\n"
          ],
          "name": "stderr"
        },
        {
          "output_type": "stream",
          "text": [
            "out_path /content/output/vibrant-painting-of-a-movie-in-the-style-of-magritte_00420.png\n",
            "\n",
            "\n",
            "\n",
            "    @@@@@@@@@@@@@@@@@@@@@@@@@@@@@@@@@@@@@@@@@@@@@@@\n",
            "    @@@@@@@@@@@@@@@@@@@@@@@@@@@@@@@@@@@@@@@@@@@@@@@\n",
            "    @@@@@@@@@@@@@@@@@@@@@@@@@@@@@@@@@@@@@@@@@@@@@@@\n",
            "    \n",
            "out_path /content/output/vibrant-painting-of-a-movie-in-the-style-of-magritte_00420.png\n",
            "\n",
            "\n",
            "\n",
            "  ##########################################################\n",
            "   [tensor([0.5986, 0.5361, 0.6084, 0.5474, 0.5161, 0.6289, 0.5942, 0.5859, 0.5547,\n",
            "        0.5029, 0.5176, 0.5522, 0.5791, 0.5283, 0.5034, 0.6680, 0.5537, 0.5879,\n",
            "        0.5303, 0.6221, 0.5029, 0.5435, 0.6909, 0.5820, 0.4971, 0.5195, 0.5254,\n",
            "        0.5615, 0.6689, 0.5298, 0.5547, 0.5044], device='cuda:0',\n",
            "       dtype=torch.float16, grad_fn=<MulBackward0>), tensor([-5.0391, -5.0625, -4.1719, -4.9922, -4.2031, -3.6406, -3.4805, -4.4375,\n",
            "        -4.8828, -5.0156, -5.2031, -4.3047, -4.8125, -5.2148, -4.9961, -3.1523,\n",
            "        -4.8477, -3.9180, -4.8594, -4.6797, -5.0234, -4.8125, -2.7246, -3.8652,\n",
            "        -5.1211, -5.1953, -5.1914, -4.9531, -3.1621, -4.7812, -4.7500, -5.1484],\n",
            "       device='cuda:0', dtype=torch.float16, grad_fn=<MulBackward0>)]  loss\n",
            "iteration 420\n",
            "iteration 420 up_noise 0.11\n",
            "0.48037547851317147 lr 0.09046104802746176 decay\n"
          ],
          "name": "stdout"
        },
        {
          "output_type": "stream",
          "text": [
            "WARNING:root:Lossy conversion from float32 to uint8. Range [-0.29606929421424866, 1.2123271226882935]. Convert image to uint8 prior to saving to suppress this warning.\n",
            "WARNING:root:Lossy conversion from float32 to uint8. Range [0, 1]. Convert image to uint8 prior to saving to suppress this warning.\n"
          ],
          "name": "stderr"
        },
        {
          "output_type": "stream",
          "text": [
            "out_path /content/output/vibrant-painting-of-a-movie-in-the-style-of-magritte_00430.png\n",
            "\n",
            "\n",
            "\n",
            "    @@@@@@@@@@@@@@@@@@@@@@@@@@@@@@@@@@@@@@@@@@@@@@@\n",
            "    @@@@@@@@@@@@@@@@@@@@@@@@@@@@@@@@@@@@@@@@@@@@@@@\n",
            "    @@@@@@@@@@@@@@@@@@@@@@@@@@@@@@@@@@@@@@@@@@@@@@@\n",
            "    \n",
            "out_path /content/output/vibrant-painting-of-a-movie-in-the-style-of-magritte_00430.png\n",
            "\n",
            "\n",
            "\n",
            "  ##########################################################\n",
            "   [tensor([0.6050, 0.5674, 0.5752, 0.6455, 0.6201, 0.6084, 0.6206, 0.6411, 0.5659,\n",
            "        0.5977, 0.6519, 0.6392, 0.5967, 0.5732, 0.5718, 0.5259, 0.5928, 0.6470,\n",
            "        0.5093, 0.4912, 0.6040, 0.6377, 0.5781, 0.6030, 0.6069, 0.5845, 0.5723,\n",
            "        0.5972, 0.7139, 0.5659, 0.4871, 0.5605], device='cuda:0',\n",
            "       dtype=torch.float16, grad_fn=<MulBackward0>), tensor([-4.0703, -4.8086, -4.8633, -2.6875, -4.1562, -3.9551, -3.4570, -4.3281,\n",
            "        -4.9883, -5.1133, -3.6406, -4.1094, -4.4219, -4.6172, -4.4141, -4.3672,\n",
            "        -4.6250, -3.7090, -4.8320, -5.1016, -4.5430, -3.3086, -4.8867, -5.0352,\n",
            "        -3.7129, -4.8164, -5.1641, -4.3594, -2.7891, -4.9102, -4.7305, -5.2031],\n",
            "       device='cuda:0', dtype=torch.float16, grad_fn=<MulBackward0>)]  loss\n",
            "iteration 430\n",
            "iteration 430 up_noise 0.11\n",
            "0.47085397697877535 lr 0.0860384191914696 decay\n"
          ],
          "name": "stdout"
        },
        {
          "output_type": "stream",
          "text": [
            "WARNING:root:Lossy conversion from float32 to uint8. Range [-0.2851203382015228, 1.236290693283081]. Convert image to uint8 prior to saving to suppress this warning.\n",
            "WARNING:root:Lossy conversion from float32 to uint8. Range [0, 1]. Convert image to uint8 prior to saving to suppress this warning.\n"
          ],
          "name": "stderr"
        },
        {
          "output_type": "stream",
          "text": [
            "out_path /content/output/vibrant-painting-of-a-movie-in-the-style-of-magritte_00440.png\n",
            "\n",
            "\n",
            "\n",
            "    @@@@@@@@@@@@@@@@@@@@@@@@@@@@@@@@@@@@@@@@@@@@@@@\n",
            "    @@@@@@@@@@@@@@@@@@@@@@@@@@@@@@@@@@@@@@@@@@@@@@@\n",
            "    @@@@@@@@@@@@@@@@@@@@@@@@@@@@@@@@@@@@@@@@@@@@@@@\n",
            "    \n",
            "out_path /content/output/vibrant-painting-of-a-movie-in-the-style-of-magritte_00440.png\n",
            "\n",
            "\n",
            "\n",
            "  ##########################################################\n",
            "   [tensor([0.5908, 0.5410, 0.7212, 0.5708, 0.5664, 0.5322, 0.5811, 0.5576, 0.6099,\n",
            "        0.5029, 0.5396, 0.5288, 0.5073, 0.5776, 0.5283, 0.5820, 0.5273, 0.5059,\n",
            "        0.5723, 0.6689, 0.6602, 0.5327, 0.7764, 0.5381, 0.6807, 0.5312, 0.5586,\n",
            "        0.5518, 0.6167, 0.5547, 0.5762, 0.5107], device='cuda:0',\n",
            "       dtype=torch.float16, grad_fn=<MulBackward0>), tensor([-4.7656, -5.1133, -3.1270, -4.4375, -4.8984, -5.2930, -4.4883, -4.7930,\n",
            "        -3.4766, -4.5625, -5.2500, -5.1367, -4.8281, -4.5508, -5.0156, -4.8125,\n",
            "        -4.3516, -5.0195, -4.9062, -3.3398, -3.7656, -4.7188, -1.9609, -5.1250,\n",
            "        -4.2695, -4.9766, -4.3945, -4.9883, -4.2266, -4.8398, -5.0547, -5.1016],\n",
            "       device='cuda:0', dtype=torch.float16, grad_fn=<MulBackward0>)]  loss\n",
            "iteration 440\n",
            "iteration 440 up_noise 0.11\n",
            "0.4615212007135168 lr 0.08183201210226744 decay\n"
          ],
          "name": "stdout"
        },
        {
          "output_type": "stream",
          "text": [
            "WARNING:root:Lossy conversion from float32 to uint8. Range [-0.004127677995711565, 1.0015206336975098]. Convert image to uint8 prior to saving to suppress this warning.\n",
            "WARNING:root:Lossy conversion from float32 to uint8. Range [0, 1]. Convert image to uint8 prior to saving to suppress this warning.\n"
          ],
          "name": "stderr"
        },
        {
          "output_type": "stream",
          "text": [
            "out_path /content/output/vibrant-painting-of-a-movie-in-the-style-of-magritte_00450.png\n",
            "\n",
            "\n",
            "\n",
            "    @@@@@@@@@@@@@@@@@@@@@@@@@@@@@@@@@@@@@@@@@@@@@@@\n",
            "    @@@@@@@@@@@@@@@@@@@@@@@@@@@@@@@@@@@@@@@@@@@@@@@\n",
            "    @@@@@@@@@@@@@@@@@@@@@@@@@@@@@@@@@@@@@@@@@@@@@@@\n",
            "    \n",
            "out_path /content/output/vibrant-painting-of-a-movie-in-the-style-of-magritte_00450.png\n",
            "\n",
            "\n",
            "\n",
            "  ##########################################################\n",
            "   [tensor([0.5723, 0.6074, 0.6704, 0.5518, 0.5254, 0.4692, 0.5752, 0.5474, 0.5938,\n",
            "        0.6484, 0.5747, 0.5645, 0.6089, 0.5732, 0.5850, 0.5898, 0.6045, 0.5088,\n",
            "        0.5640, 0.5312, 0.5503, 0.6367, 0.5664, 0.5347, 0.5845, 0.6787, 0.5015,\n",
            "        0.5923, 0.5571, 0.4717, 0.5405, 0.4917], device='cuda:0',\n",
            "       dtype=torch.float16, grad_fn=<MulBackward0>), tensor([-4.8086, -4.7539, -4.2852, -4.6211, -5.2812, -5.1523, -4.2617, -4.6523,\n",
            "        -3.9727, -3.5117, -3.4336, -4.8086, -4.5078, -4.7227, -4.1523, -4.9922,\n",
            "        -4.6719, -5.0781, -4.9492, -4.5664, -5.2812, -3.4570, -5.1914, -4.9648,\n",
            "        -4.7383, -3.6289, -5.1367, -4.1328, -5.2656, -4.7930, -4.7969, -5.2109],\n",
            "       device='cuda:0', dtype=torch.float16, grad_fn=<MulBackward0>)]  loss\n",
            "iteration 450\n",
            "iteration 450 up_noise 0.11\n",
            "0.45237340900201795 lr 0.07783125570686422 decay\n"
          ],
          "name": "stdout"
        },
        {
          "output_type": "stream",
          "text": [
            "WARNING:root:Lossy conversion from float32 to uint8. Range [-0.2791428864002228, 1.2032415866851807]. Convert image to uint8 prior to saving to suppress this warning.\n",
            "WARNING:root:Lossy conversion from float32 to uint8. Range [0, 1]. Convert image to uint8 prior to saving to suppress this warning.\n"
          ],
          "name": "stderr"
        },
        {
          "output_type": "stream",
          "text": [
            "out_path /content/output/vibrant-painting-of-a-movie-in-the-style-of-magritte_00460.png\n",
            "\n",
            "\n",
            "\n",
            "    @@@@@@@@@@@@@@@@@@@@@@@@@@@@@@@@@@@@@@@@@@@@@@@\n",
            "    @@@@@@@@@@@@@@@@@@@@@@@@@@@@@@@@@@@@@@@@@@@@@@@\n",
            "    @@@@@@@@@@@@@@@@@@@@@@@@@@@@@@@@@@@@@@@@@@@@@@@\n",
            "    \n",
            "out_path /content/output/vibrant-painting-of-a-movie-in-the-style-of-magritte_00460.png\n",
            "\n",
            "\n",
            "\n",
            "  ##########################################################\n",
            "   [tensor([0.5137, 0.6338, 0.5903, 0.5288, 0.6240, 0.5337, 0.5225, 0.6162, 0.6113,\n",
            "        0.5127, 0.5469, 0.5352, 0.5444, 0.5615, 0.5615, 0.4736, 0.5127, 0.5386,\n",
            "        0.5562, 0.5225, 0.5415, 0.6201, 0.5718, 0.5283, 0.6104, 0.6084, 0.5454,\n",
            "        0.5664, 0.6328, 0.4814, 0.4839, 0.4966], device='cuda:0',\n",
            "       dtype=torch.float16, grad_fn=<MulBackward0>), tensor([-5.2812, -3.9688, -4.8984, -5.1367, -4.4883, -4.9648, -5.1992, -3.8203,\n",
            "        -4.9297, -5.2695, -5.2930, -4.8984, -5.0742, -3.9727, -4.7891, -4.9609,\n",
            "        -5.0859, -5.1914, -5.2578, -4.6797, -4.9336, -4.8438, -4.6641, -5.0781,\n",
            "        -4.1094, -3.5938, -4.2969, -4.9883, -4.5547, -5.0625, -5.1211, -5.0156],\n",
            "       device='cuda:0', dtype=torch.float16, grad_fn=<MulBackward0>)]  loss\n",
            "iteration 460\n",
            "iteration 460 up_noise 0.11\n",
            "0.4434069352734581 lr 0.07402609576967048 decay\n"
          ],
          "name": "stdout"
        },
        {
          "output_type": "stream",
          "text": [
            "WARNING:root:Lossy conversion from float32 to uint8. Range [-0.003076631808653474, 1.0017410516738892]. Convert image to uint8 prior to saving to suppress this warning.\n"
          ],
          "name": "stderr"
        },
        {
          "output_type": "stream",
          "text": [
            "out_path /content/output/vibrant-painting-of-a-movie-in-the-style-of-magritte_00470.png\n",
            "\n",
            "\n",
            "\n",
            "    @@@@@@@@@@@@@@@@@@@@@@@@@@@@@@@@@@@@@@@@@@@@@@@\n",
            "    @@@@@@@@@@@@@@@@@@@@@@@@@@@@@@@@@@@@@@@@@@@@@@@\n",
            "    @@@@@@@@@@@@@@@@@@@@@@@@@@@@@@@@@@@@@@@@@@@@@@@\n",
            "    \n"
          ],
          "name": "stdout"
        },
        {
          "output_type": "stream",
          "text": [
            "WARNING:root:Lossy conversion from float32 to uint8. Range [0, 1]. Convert image to uint8 prior to saving to suppress this warning.\n"
          ],
          "name": "stderr"
        },
        {
          "output_type": "stream",
          "text": [
            "out_path /content/output/vibrant-painting-of-a-movie-in-the-style-of-magritte_00470.png\n",
            "\n",
            "\n",
            "\n",
            "  ##########################################################\n",
            "   [tensor([0.5571, 0.6035, 0.5464, 0.5283, 0.5811, 0.5762, 0.6260, 0.6001, 0.5229,\n",
            "        0.6226, 0.6348, 0.5796, 0.5068, 0.5938, 0.5117, 0.5254, 0.5620, 0.4946,\n",
            "        0.7095, 0.5576, 0.5059, 0.5396, 0.5371, 0.5557, 0.5234, 0.5205, 0.6787,\n",
            "        0.5142, 0.5459, 0.5728, 0.4915, 0.5259], device='cuda:0',\n",
            "       dtype=torch.float16, grad_fn=<MulBackward0>), tensor([-4.6328, -4.3789, -4.9414, -4.7031, -3.8652, -4.3789, -4.1055, -3.9238,\n",
            "        -4.7500, -3.7207, -3.3379, -4.5078, -4.6719, -3.2305, -4.6094, -4.4844,\n",
            "        -4.0703, -4.8008, -2.8340, -4.5078, -4.6016, -4.3281, -4.5547, -4.3516,\n",
            "        -4.8594, -4.8125, -3.5840, -4.9766, -4.8398, -4.4141, -4.7266, -4.6758],\n",
            "       device='cuda:0', dtype=torch.float16, grad_fn=<MulBackward0>)]  loss\n",
            "iteration 470\n",
            "iteration 470 up_noise 0.11\n",
            "0.4346181856319579 lr 0.07040696960536302 decay\n"
          ],
          "name": "stdout"
        },
        {
          "output_type": "stream",
          "text": [
            "WARNING:root:Lossy conversion from float32 to uint8. Range [-0.16459010541439056, 1.1210862398147583]. Convert image to uint8 prior to saving to suppress this warning.\n",
            "WARNING:root:Lossy conversion from float32 to uint8. Range [0, 1]. Convert image to uint8 prior to saving to suppress this warning.\n"
          ],
          "name": "stderr"
        },
        {
          "output_type": "stream",
          "text": [
            "out_path /content/output/vibrant-painting-of-a-movie-in-the-style-of-magritte_00480.png\n",
            "\n",
            "\n",
            "\n",
            "    @@@@@@@@@@@@@@@@@@@@@@@@@@@@@@@@@@@@@@@@@@@@@@@\n",
            "    @@@@@@@@@@@@@@@@@@@@@@@@@@@@@@@@@@@@@@@@@@@@@@@\n",
            "    @@@@@@@@@@@@@@@@@@@@@@@@@@@@@@@@@@@@@@@@@@@@@@@\n",
            "    \n",
            "out_path /content/output/vibrant-painting-of-a-movie-in-the-style-of-magritte_00480.png\n",
            "\n",
            "\n",
            "\n",
            "  ##########################################################\n",
            "   [tensor([0.5381, 0.6484, 0.5781, 0.5293, 0.6689, 0.6333, 0.6021, 0.5620, 0.6104,\n",
            "        0.5391, 0.6265, 0.5996, 0.5977, 0.5762, 0.6719, 0.5938, 0.5371, 0.5835,\n",
            "        0.4858, 0.5791, 0.6294, 0.6196, 0.6011, 0.5151, 0.6128, 0.5459, 0.5396,\n",
            "        0.5918, 0.5625, 0.6553, 0.5889, 0.5107], device='cuda:0',\n",
            "       dtype=torch.float16, grad_fn=<MulBackward0>), tensor([-4.9336, -4.4531, -4.5938, -4.8281, -3.5898, -3.9629, -3.7344, -4.7500,\n",
            "        -5.0820, -5.1328, -4.2422, -5.0078, -4.5391, -5.1914, -3.5449, -5.0820,\n",
            "        -4.5664, -4.8359, -4.7734, -4.6641, -3.7402, -4.8359, -5.0977, -5.2695,\n",
            "        -4.6992, -4.4883, -4.8906, -4.2539, -4.5234, -4.4883, -4.2344, -4.9688],\n",
            "       device='cuda:0', dtype=torch.float16, grad_fn=<MulBackward0>)]  loss\n",
            "iteration 480\n",
            "iteration 480 up_noise 0.11\n",
            "0.42600363741609254 lr 0.06696478204705644 decay\n"
          ],
          "name": "stdout"
        },
        {
          "output_type": "stream",
          "text": [
            "WARNING:root:Lossy conversion from float32 to uint8. Range [-0.1787371039390564, 1.1095011234283447]. Convert image to uint8 prior to saving to suppress this warning.\n",
            "WARNING:root:Lossy conversion from float32 to uint8. Range [0, 1]. Convert image to uint8 prior to saving to suppress this warning.\n"
          ],
          "name": "stderr"
        },
        {
          "output_type": "stream",
          "text": [
            "out_path /content/output/vibrant-painting-of-a-movie-in-the-style-of-magritte_00490.png\n",
            "\n",
            "\n",
            "\n",
            "    @@@@@@@@@@@@@@@@@@@@@@@@@@@@@@@@@@@@@@@@@@@@@@@\n",
            "    @@@@@@@@@@@@@@@@@@@@@@@@@@@@@@@@@@@@@@@@@@@@@@@\n",
            "    @@@@@@@@@@@@@@@@@@@@@@@@@@@@@@@@@@@@@@@@@@@@@@@\n",
            "    \n",
            "out_path /content/output/vibrant-painting-of-a-movie-in-the-style-of-magritte_00490.png\n",
            "\n",
            "\n",
            "\n",
            "  ##########################################################\n",
            "   [tensor([0.5483, 0.5122, 0.5322, 0.5132, 0.5815, 0.5400, 0.5400, 0.6069, 0.4856,\n",
            "        0.6245, 0.5938, 0.6118, 0.5371, 0.6230, 0.5542, 0.5752, 0.4839, 0.5723,\n",
            "        0.5205, 0.4927, 0.5171, 0.5137, 0.5488, 0.6143, 0.5527, 0.5581, 0.5171,\n",
            "        0.5488, 0.5342, 0.5571, 0.5146, 0.5996], device='cuda:0',\n",
            "       dtype=torch.float16, grad_fn=<MulBackward0>), tensor([-5.1406, -5.0547, -5.1797, -5.0977, -5.1172, -4.9648, -5.1523, -4.7617,\n",
            "        -4.7422, -4.1016, -4.5000, -3.1719, -5.1523, -4.7344, -4.7227, -4.5430,\n",
            "        -5.3047, -4.2500, -4.9961, -5.1250, -4.9453, -5.3438, -4.8711, -4.4102,\n",
            "        -4.9297, -5.0938, -4.5977, -4.9531, -5.0938, -5.1797, -5.2188, -4.7422],\n",
            "       device='cuda:0', dtype=torch.float16, grad_fn=<MulBackward0>)]  loss\n",
            "iteration 490\n",
            "iteration 490 up_noise 0.11\n",
            "0.41755983778695627 lr 0.06369088258938783 decay\n"
          ],
          "name": "stdout"
        },
        {
          "output_type": "stream",
          "text": [
            "WARNING:root:Lossy conversion from float32 to uint8. Range [-0.43058687448501587, 1.325610876083374]. Convert image to uint8 prior to saving to suppress this warning.\n",
            "WARNING:root:Lossy conversion from float32 to uint8. Range [0, 1]. Convert image to uint8 prior to saving to suppress this warning.\n"
          ],
          "name": "stderr"
        },
        {
          "output_type": "stream",
          "text": [
            "out_path /content/output/vibrant-painting-of-a-movie-in-the-style-of-magritte_00500.png\n",
            "\n",
            "\n",
            "\n",
            "    @@@@@@@@@@@@@@@@@@@@@@@@@@@@@@@@@@@@@@@@@@@@@@@\n",
            "    @@@@@@@@@@@@@@@@@@@@@@@@@@@@@@@@@@@@@@@@@@@@@@@\n",
            "    @@@@@@@@@@@@@@@@@@@@@@@@@@@@@@@@@@@@@@@@@@@@@@@\n",
            "    \n",
            "out_path /content/output/vibrant-painting-of-a-movie-in-the-style-of-magritte_00500.png\n",
            "\n",
            "\n",
            "\n",
            "  ##########################################################\n",
            "   [tensor([0.5405, 0.5166, 0.5361, 0.5752, 0.5645, 0.5747, 0.5957, 0.6113, 0.5752,\n",
            "        0.6025, 0.5840, 0.5908, 0.5396, 0.6699, 0.5591, 0.5596, 0.5557, 0.6538,\n",
            "        0.7432, 0.5718, 0.5073, 0.6309, 0.5601, 0.6089, 0.5811, 0.5483, 0.5381,\n",
            "        0.5732, 0.4824, 0.5039, 0.5674, 0.5195], device='cuda:0',\n",
            "       dtype=torch.float16, grad_fn=<MulBackward0>), tensor([-4.6797, -5.1484, -4.8711, -4.8750, -5.2383, -4.9531, -5.0859, -5.0156,\n",
            "        -4.8828, -4.3984, -5.0742, -4.3516, -5.2422, -4.6016, -4.4609, -5.1641,\n",
            "        -5.1211, -3.3945, -2.2422, -4.9570, -5.1641, -3.5664, -5.3125, -4.5977,\n",
            "        -4.8633, -5.1328, -4.3008, -5.0000, -5.1406, -5.1914, -5.0156, -5.0391],\n",
            "       device='cuda:0', dtype=torch.float16, grad_fn=<MulBackward0>)]  loss\n",
            "iteration 500\n",
            "iteration 500 up_noise 0.11\n",
            "0.409283402344214 lr 0.06057704364907282 decay\n"
          ],
          "name": "stdout"
        },
        {
          "output_type": "stream",
          "text": [
            "WARNING:root:Lossy conversion from float32 to uint8. Range [-0.22716303169727325, 1.1508586406707764]. Convert image to uint8 prior to saving to suppress this warning.\n",
            "WARNING:root:Lossy conversion from float32 to uint8. Range [0, 1]. Convert image to uint8 prior to saving to suppress this warning.\n"
          ],
          "name": "stderr"
        },
        {
          "output_type": "stream",
          "text": [
            "out_path /content/output/vibrant-painting-of-a-movie-in-the-style-of-magritte_00510.png\n",
            "\n",
            "\n",
            "\n",
            "    @@@@@@@@@@@@@@@@@@@@@@@@@@@@@@@@@@@@@@@@@@@@@@@\n",
            "    @@@@@@@@@@@@@@@@@@@@@@@@@@@@@@@@@@@@@@@@@@@@@@@\n",
            "    @@@@@@@@@@@@@@@@@@@@@@@@@@@@@@@@@@@@@@@@@@@@@@@\n",
            "    \n",
            "out_path /content/output/vibrant-painting-of-a-movie-in-the-style-of-magritte_00510.png\n",
            "\n",
            "\n",
            "\n",
            "  ##########################################################\n",
            "   [tensor([0.4856, 0.5244, 0.6641, 0.4771, 0.5859, 0.5166, 0.5078, 0.5352, 0.4839,\n",
            "        0.5059, 0.5166, 0.5171, 0.4453, 0.5630, 0.5591, 0.5063, 0.5986, 0.4973,\n",
            "        0.4526, 0.5459, 0.5332, 0.5317, 0.6489, 0.5562, 0.5225, 0.5332, 0.5469,\n",
            "        0.5605, 0.5449, 0.5474, 0.5342, 0.5210], device='cuda:0',\n",
            "       dtype=torch.float16, grad_fn=<MulBackward0>), tensor([-5.1914, -4.8789, -3.9375, -4.8047, -4.1367, -4.8438, -4.6523, -5.0078,\n",
            "        -4.7656, -4.9531, -4.5469, -4.4883, -5.1523, -4.6250, -5.1719, -5.1094,\n",
            "        -3.5645, -4.7188, -5.0938, -4.6797, -4.8516, -4.5859, -4.1172, -4.4609,\n",
            "        -5.0156, -4.9883, -4.7305, -3.9160, -4.5000, -5.1719, -5.0391, -4.8867],\n",
            "       device='cuda:0', dtype=torch.float16, grad_fn=<MulBackward0>)]  loss\n",
            "iteration 510\n",
            "iteration 510 up_noise 0.11\n",
            "0.40117101376958264 lr 0.05761543988830041 decay\n"
          ],
          "name": "stdout"
        },
        {
          "output_type": "stream",
          "text": [
            "WARNING:root:Lossy conversion from float32 to uint8. Range [-0.0388261079788208, 1.027063250541687]. Convert image to uint8 prior to saving to suppress this warning.\n",
            "WARNING:root:Lossy conversion from float32 to uint8. Range [0, 1]. Convert image to uint8 prior to saving to suppress this warning.\n"
          ],
          "name": "stderr"
        },
        {
          "output_type": "stream",
          "text": [
            "out_path /content/output/vibrant-painting-of-a-movie-in-the-style-of-magritte_00520.png\n",
            "\n",
            "\n",
            "\n",
            "    @@@@@@@@@@@@@@@@@@@@@@@@@@@@@@@@@@@@@@@@@@@@@@@\n",
            "    @@@@@@@@@@@@@@@@@@@@@@@@@@@@@@@@@@@@@@@@@@@@@@@\n",
            "    @@@@@@@@@@@@@@@@@@@@@@@@@@@@@@@@@@@@@@@@@@@@@@@\n",
            "    \n",
            "out_path /content/output/vibrant-painting-of-a-movie-in-the-style-of-magritte_00520.png\n",
            "\n",
            "\n",
            "\n",
            "  ##########################################################\n",
            "   [tensor([0.5547, 0.5425, 0.5742, 0.5767, 0.6216, 0.5498, 0.5923, 0.5781, 0.5566,\n",
            "        0.5029, 0.5571, 0.5000, 0.5356, 0.6670, 0.5586, 0.6084, 0.5034, 0.5664,\n",
            "        0.6001, 0.5352, 0.5708, 0.5898, 0.5723, 0.5991, 0.5459, 0.5679, 0.6157,\n",
            "        0.4868, 0.6406, 0.5220, 0.5996, 0.5786], device='cuda:0',\n",
            "       dtype=torch.float16, grad_fn=<MulBackward0>), tensor([-4.8242, -4.6406, -4.8906, -4.6523, -3.4785, -5.2148, -4.2031, -4.8125,\n",
            "        -5.1367, -5.1562, -4.6562, -5.2539, -5.1367, -4.3281, -4.5781, -4.8594,\n",
            "        -5.0781, -5.1602, -4.1758, -4.9453, -5.0820, -3.8594, -4.5781, -4.5273,\n",
            "        -5.2773, -4.9844, -4.5781, -4.9531, -3.5332, -4.9648, -4.7578, -4.7422],\n",
            "       device='cuda:0', dtype=torch.float16, grad_fn=<MulBackward0>)]  loss\n",
            "iteration 520\n",
            "iteration 520 up_noise 0.11\n",
            "0.39321942049720127 lr 0.05479862854900423 decay\n"
          ],
          "name": "stdout"
        },
        {
          "output_type": "stream",
          "text": [
            "WARNING:root:Lossy conversion from float32 to uint8. Range [-0.3345884382724762, 1.2457176446914673]. Convert image to uint8 prior to saving to suppress this warning.\n",
            "WARNING:root:Lossy conversion from float32 to uint8. Range [0, 1]. Convert image to uint8 prior to saving to suppress this warning.\n"
          ],
          "name": "stderr"
        },
        {
          "output_type": "stream",
          "text": [
            "out_path /content/output/vibrant-painting-of-a-movie-in-the-style-of-magritte_00530.png\n",
            "\n",
            "\n",
            "\n",
            "    @@@@@@@@@@@@@@@@@@@@@@@@@@@@@@@@@@@@@@@@@@@@@@@\n",
            "    @@@@@@@@@@@@@@@@@@@@@@@@@@@@@@@@@@@@@@@@@@@@@@@\n",
            "    @@@@@@@@@@@@@@@@@@@@@@@@@@@@@@@@@@@@@@@@@@@@@@@\n",
            "    \n",
            "out_path /content/output/vibrant-painting-of-a-movie-in-the-style-of-magritte_00530.png\n",
            "\n",
            "\n",
            "\n",
            "  ##########################################################\n",
            "   [tensor([0.5806, 0.5537, 0.5635, 0.6240, 0.5205, 0.6084, 0.6143, 0.6392, 0.5151,\n",
            "        0.5581, 0.5220, 0.6201, 0.6143, 0.5474, 0.5010, 0.4907, 0.7271, 0.5806,\n",
            "        0.6875, 0.6191, 0.4834, 0.5781, 0.5396, 0.6709, 0.5293, 0.5020, 0.5254,\n",
            "        0.5557, 0.5815, 0.4966, 0.5801, 0.5537], device='cuda:0',\n",
            "       dtype=torch.float16, grad_fn=<MulBackward0>), tensor([-4.2344, -4.6758, -4.9414, -4.7891, -4.6328, -4.3438, -3.8320, -4.1094,\n",
            "        -5.1797, -4.9688, -4.7852, -4.9375, -4.4219, -5.0859, -5.0781, -5.1797,\n",
            "        -1.9336, -5.1016, -2.8945, -3.8086, -5.1133, -4.1797, -5.1953, -3.0879,\n",
            "        -5.1992, -5.0156, -5.0430, -4.6328, -4.0430, -4.9883, -5.0234, -5.0742],\n",
            "       device='cuda:0', dtype=torch.float16, grad_fn=<MulBackward0>)]  loss\n",
            "iteration 530\n",
            "iteration 530 up_noise 0.11\n",
            "0.3854254354103547 lr 0.052119530748588785 decay\n"
          ],
          "name": "stdout"
        },
        {
          "output_type": "stream",
          "text": [
            "WARNING:root:Lossy conversion from float32 to uint8. Range [-0.33572903275489807, 1.2808308601379395]. Convert image to uint8 prior to saving to suppress this warning.\n",
            "WARNING:root:Lossy conversion from float32 to uint8. Range [0, 1]. Convert image to uint8 prior to saving to suppress this warning.\n"
          ],
          "name": "stderr"
        },
        {
          "output_type": "stream",
          "text": [
            "out_path /content/output/vibrant-painting-of-a-movie-in-the-style-of-magritte_00540.png\n",
            "\n",
            "\n",
            "\n",
            "    @@@@@@@@@@@@@@@@@@@@@@@@@@@@@@@@@@@@@@@@@@@@@@@\n",
            "    @@@@@@@@@@@@@@@@@@@@@@@@@@@@@@@@@@@@@@@@@@@@@@@\n",
            "    @@@@@@@@@@@@@@@@@@@@@@@@@@@@@@@@@@@@@@@@@@@@@@@\n",
            "    \n",
            "out_path /content/output/vibrant-painting-of-a-movie-in-the-style-of-magritte_00540.png\n",
            "\n",
            "\n",
            "\n",
            "  ##########################################################\n",
            "   [tensor([0.4854, 0.6143, 0.5205, 0.5669, 0.7715, 0.5405, 0.5908, 0.5840, 0.5020,\n",
            "        0.4929, 0.5244, 0.5747, 0.5308, 0.5669, 0.5312, 0.5405, 0.5435, 0.5640,\n",
            "        0.5269, 0.5576, 0.5957, 0.5391, 0.5542, 0.5347, 0.5103, 0.6045, 0.6543,\n",
            "        0.5967, 0.6206, 0.5781, 0.5972, 0.5205], device='cuda:0',\n",
            "       dtype=torch.float16, grad_fn=<MulBackward0>), tensor([-4.7852, -4.1406, -5.0000, -4.7812, -1.9150, -4.8203, -4.2617, -4.3984,\n",
            "        -5.0586, -4.9883, -4.0430, -4.4531, -5.1211, -4.6211, -4.5703, -5.2031,\n",
            "        -4.1328, -4.2695, -5.2148, -4.4062, -4.8086, -4.9766, -4.9062, -5.0820,\n",
            "        -5.1094, -4.7695, -3.6797, -3.9570, -4.2148, -4.3906, -4.6719, -4.6602],\n",
            "       device='cuda:0', dtype=torch.float16, grad_fn=<MulBackward0>)]  loss\n",
            "iteration 540\n",
            "iteration 540 up_noise 0.11\n",
            "0.3777859345640301 lr 0.049571413690105086 decay\n"
          ],
          "name": "stdout"
        },
        {
          "output_type": "stream",
          "text": [
            "WARNING:root:Lossy conversion from float32 to uint8. Range [-0.1795424073934555, 1.1092166900634766]. Convert image to uint8 prior to saving to suppress this warning.\n",
            "WARNING:root:Lossy conversion from float32 to uint8. Range [0, 1]. Convert image to uint8 prior to saving to suppress this warning.\n"
          ],
          "name": "stderr"
        },
        {
          "output_type": "stream",
          "text": [
            "out_path /content/output/vibrant-painting-of-a-movie-in-the-style-of-magritte_00550.png\n",
            "\n",
            "\n",
            "\n",
            "    @@@@@@@@@@@@@@@@@@@@@@@@@@@@@@@@@@@@@@@@@@@@@@@\n",
            "    @@@@@@@@@@@@@@@@@@@@@@@@@@@@@@@@@@@@@@@@@@@@@@@\n",
            "    @@@@@@@@@@@@@@@@@@@@@@@@@@@@@@@@@@@@@@@@@@@@@@@\n",
            "    \n",
            "out_path /content/output/vibrant-painting-of-a-movie-in-the-style-of-magritte_00550.png\n",
            "\n",
            "\n",
            "\n",
            "  ##########################################################\n",
            "   [tensor([0.5762, 0.5073, 0.5273, 0.5020, 0.5693, 0.5176, 0.5527, 0.4768, 0.5381,\n",
            "        0.5127, 0.5474, 0.5239, 0.6348, 0.5825, 0.5859, 0.5957, 0.5454, 0.4897,\n",
            "        0.5791, 0.5938, 0.5205, 0.4985, 0.5234, 0.5605, 0.5020, 0.5596, 0.5586,\n",
            "        0.5381, 0.5264, 0.5381, 0.5366, 0.5107], device='cuda:0',\n",
            "       dtype=torch.float16, grad_fn=<MulBackward0>), tensor([-5.0703, -4.8672, -5.4141, -4.4102, -4.8516, -4.8516, -4.9961, -5.2930,\n",
            "        -4.9570, -5.0547, -4.8086, -5.2109, -3.8965, -3.3105, -3.4961, -4.0234,\n",
            "        -5.0391, -5.2656, -4.9297, -4.8711, -4.5664, -4.6953, -4.7109, -4.6055,\n",
            "        -5.2422, -5.0352, -3.6934, -5.1758, -4.9844, -4.9688, -5.1523, -5.3203],\n",
            "       device='cuda:0', dtype=torch.float16, grad_fn=<MulBackward0>)]  loss\n",
            "iteration 550\n",
            "iteration 550 up_noise 0.11\n",
            "0.37029785593279313 lr 0.04714787374216859 decay\n"
          ],
          "name": "stdout"
        },
        {
          "output_type": "stream",
          "text": [
            "WARNING:root:Lossy conversion from float32 to uint8. Range [-0.4089781641960144, 1.3649309873580933]. Convert image to uint8 prior to saving to suppress this warning.\n",
            "WARNING:root:Lossy conversion from float32 to uint8. Range [0, 1]. Convert image to uint8 prior to saving to suppress this warning.\n"
          ],
          "name": "stderr"
        },
        {
          "output_type": "stream",
          "text": [
            "out_path /content/output/vibrant-painting-of-a-movie-in-the-style-of-magritte_00560.png\n",
            "\n",
            "\n",
            "\n",
            "    @@@@@@@@@@@@@@@@@@@@@@@@@@@@@@@@@@@@@@@@@@@@@@@\n",
            "    @@@@@@@@@@@@@@@@@@@@@@@@@@@@@@@@@@@@@@@@@@@@@@@\n",
            "    @@@@@@@@@@@@@@@@@@@@@@@@@@@@@@@@@@@@@@@@@@@@@@@\n",
            "    \n",
            "out_path /content/output/vibrant-painting-of-a-movie-in-the-style-of-magritte_00560.png\n",
            "\n",
            "\n",
            "\n",
            "  ##########################################################\n",
            "   [tensor([0.5781, 0.4915, 0.5063, 0.5078, 0.5771, 0.4915, 0.5107, 0.7207, 0.5146,\n",
            "        0.5498, 0.5410, 0.5479, 0.4932, 0.5293, 0.5771, 0.4927, 0.5117, 0.4580,\n",
            "        0.5327, 0.5293, 0.5278, 0.4985, 0.5015, 0.5737, 0.4961, 0.5356, 0.6074,\n",
            "        0.6177, 0.5186, 0.4783, 0.4888, 0.4756], device='cuda:0',\n",
            "       dtype=torch.float16, grad_fn=<MulBackward0>), tensor([-4.2031, -4.9961, -4.8633, -5.0547, -4.6680, -5.1328, -4.3711, -1.8799,\n",
            "        -5.0156, -4.5039, -4.6406, -4.6133, -4.2617, -4.9141, -3.8906, -4.8359,\n",
            "        -4.9375, -5.0547, -4.2891, -4.7891, -4.7617, -4.6367, -5.0938, -4.5156,\n",
            "        -5.1133, -4.2422, -3.7656, -3.3223, -4.8711, -5.0195, -5.0430, -5.0859],\n",
            "       device='cuda:0', dtype=torch.float16, grad_fn=<MulBackward0>)]  loss\n",
            "iteration 560\n",
            "iteration 560 up_noise 0.11\n",
            "0.36295819818348324 lr 0.04484282034609772 decay\n"
          ],
          "name": "stdout"
        },
        {
          "output_type": "stream",
          "text": [
            "WARNING:root:Lossy conversion from float32 to uint8. Range [-0.1675686240196228, 1.1160659790039062]. Convert image to uint8 prior to saving to suppress this warning.\n",
            "WARNING:root:Lossy conversion from float32 to uint8. Range [0, 1]. Convert image to uint8 prior to saving to suppress this warning.\n"
          ],
          "name": "stderr"
        },
        {
          "output_type": "stream",
          "text": [
            "out_path /content/output/vibrant-painting-of-a-movie-in-the-style-of-magritte_00570.png\n",
            "\n",
            "\n",
            "\n",
            "    @@@@@@@@@@@@@@@@@@@@@@@@@@@@@@@@@@@@@@@@@@@@@@@\n",
            "    @@@@@@@@@@@@@@@@@@@@@@@@@@@@@@@@@@@@@@@@@@@@@@@\n",
            "    @@@@@@@@@@@@@@@@@@@@@@@@@@@@@@@@@@@@@@@@@@@@@@@\n",
            "    \n",
            "out_path /content/output/vibrant-painting-of-a-movie-in-the-style-of-magritte_00570.png\n",
            "\n",
            "\n",
            "\n",
            "  ##########################################################\n",
            "   [tensor([0.5962, 0.5488, 0.5391, 0.5723, 0.6025, 0.5591, 0.6104, 0.5127, 0.6465,\n",
            "        0.6064, 0.6318, 0.6143, 0.5283, 0.4492, 0.5366, 0.5195, 0.5254, 0.5723,\n",
            "        0.5312, 0.5659, 0.5718, 0.5547, 0.6128, 0.5215, 0.5479, 0.5620, 0.5190,\n",
            "        0.5850, 0.5518, 0.5864, 0.5645, 0.5322], device='cuda:0',\n",
            "       dtype=torch.float16, grad_fn=<MulBackward0>), tensor([-4.6133, -5.0703, -4.7734, -4.4766, -3.5723, -4.8867, -4.4766, -4.4648,\n",
            "        -3.9609, -4.3672, -2.7148, -3.8516, -5.2734, -5.0352, -4.8320, -5.2773,\n",
            "        -5.1094, -4.5586, -5.2383, -4.4883, -5.2773, -4.6836, -4.2539, -4.8477,\n",
            "        -4.8125, -4.2344, -4.9844, -3.9922, -4.7695, -5.1992, -5.2500, -5.0625],\n",
            "       device='cuda:0', dtype=torch.float16, grad_fn=<MulBackward0>)]  loss\n",
            "iteration 570\n",
            "iteration 570 up_noise 0.11\n",
            "0.3557640194722339 lr 0.042650460709830175 decay\n"
          ],
          "name": "stdout"
        },
        {
          "output_type": "stream",
          "text": [
            "WARNING:root:Lossy conversion from float32 to uint8. Range [-0.46022915840148926, 1.326195240020752]. Convert image to uint8 prior to saving to suppress this warning.\n",
            "WARNING:root:Lossy conversion from float32 to uint8. Range [0, 1]. Convert image to uint8 prior to saving to suppress this warning.\n"
          ],
          "name": "stderr"
        },
        {
          "output_type": "stream",
          "text": [
            "out_path /content/output/vibrant-painting-of-a-movie-in-the-style-of-magritte_00580.png\n",
            "\n",
            "\n",
            "\n",
            "    @@@@@@@@@@@@@@@@@@@@@@@@@@@@@@@@@@@@@@@@@@@@@@@\n",
            "    @@@@@@@@@@@@@@@@@@@@@@@@@@@@@@@@@@@@@@@@@@@@@@@\n",
            "    @@@@@@@@@@@@@@@@@@@@@@@@@@@@@@@@@@@@@@@@@@@@@@@\n",
            "    \n",
            "out_path /content/output/vibrant-painting-of-a-movie-in-the-style-of-magritte_00580.png\n",
            "\n",
            "\n",
            "\n",
            "  ##########################################################\n",
            "   [tensor([0.5073, 0.6270, 0.4941, 0.5352, 0.5796, 0.5664, 0.5518, 0.6719, 0.6387,\n",
            "        0.6221, 0.4912, 0.5669, 0.5312, 0.5957, 0.6147, 0.5049, 0.6104, 0.4966,\n",
            "        0.5342, 0.5684, 0.4980, 0.5879, 0.5796, 0.5674, 0.5166, 0.6011, 0.5322,\n",
            "        0.6245, 0.6113, 0.5527, 0.5444, 0.5454], device='cuda:0',\n",
            "       dtype=torch.float16, grad_fn=<MulBackward0>), tensor([-4.9102, -3.3594, -4.8398, -4.9766, -3.8047, -4.6133, -4.3711, -3.5742,\n",
            "        -3.0742, -3.7852, -4.8672, -5.0625, -4.8281, -4.2344, -3.9766, -5.1484,\n",
            "        -4.6016, -5.1523, -4.0312, -4.6133, -4.7031, -2.7715, -4.4609, -4.7578,\n",
            "        -4.8477, -3.9258, -4.5586, -4.4648, -4.2266, -4.6836, -5.0859, -5.1523],\n",
            "       device='cuda:0', dtype=torch.float16, grad_fn=<MulBackward0>)]  loss\n",
            "iteration 580\n",
            "iteration 580 up_noise 0.11\n",
            "0.3487124362653385 lr 0.04056528525015186 decay\n"
          ],
          "name": "stdout"
        },
        {
          "output_type": "stream",
          "text": [
            "WARNING:root:Lossy conversion from float32 to uint8. Range [-0.36958181858062744, 1.2822213172912598]. Convert image to uint8 prior to saving to suppress this warning.\n",
            "WARNING:root:Lossy conversion from float32 to uint8. Range [0, 1]. Convert image to uint8 prior to saving to suppress this warning.\n"
          ],
          "name": "stderr"
        },
        {
          "output_type": "stream",
          "text": [
            "out_path /content/output/vibrant-painting-of-a-movie-in-the-style-of-magritte_00590.png\n",
            "\n",
            "\n",
            "\n",
            "    @@@@@@@@@@@@@@@@@@@@@@@@@@@@@@@@@@@@@@@@@@@@@@@\n",
            "    @@@@@@@@@@@@@@@@@@@@@@@@@@@@@@@@@@@@@@@@@@@@@@@\n",
            "    @@@@@@@@@@@@@@@@@@@@@@@@@@@@@@@@@@@@@@@@@@@@@@@\n",
            "    \n",
            "out_path /content/output/vibrant-painting-of-a-movie-in-the-style-of-magritte_00590.png\n",
            "\n",
            "\n",
            "\n",
            "  ##########################################################\n",
            "   [tensor([0.5967, 0.5747, 0.4995, 0.5498, 0.5498, 0.5908, 0.5820, 0.5869, 0.5254,\n",
            "        0.5732, 0.5928, 0.5503, 0.6045, 0.5576, 0.5703, 0.7666, 0.5654, 0.5215,\n",
            "        0.6074, 0.5635, 0.5625, 0.6440, 0.6387, 0.5688, 0.6792, 0.5903, 0.5254,\n",
            "        0.5400, 0.5820, 0.6187, 0.5571, 0.5283], device='cuda:0',\n",
            "       dtype=torch.float16, grad_fn=<MulBackward0>), tensor([-3.9824, -4.4844, -5.2891, -4.8906, -5.3125, -4.5703, -4.9062, -5.2422,\n",
            "        -5.3828, -5.1172, -4.8984, -5.0156, -5.0195, -3.8105, -4.7969, -1.9434,\n",
            "        -4.7617, -5.4141, -3.7480, -5.1602, -5.0078, -4.2227, -3.1758, -4.6328,\n",
            "        -4.3789, -4.5820, -4.8516, -4.8750, -5.1875, -4.9648, -5.1133, -4.9062],\n",
            "       device='cuda:0', dtype=torch.float16, grad_fn=<MulBackward0>)]  loss\n",
            "iteration 590\n",
            "iteration 590 up_noise 0.11\n",
            "0.34180062218348706 lr 0.03858205374665318 decay\n"
          ],
          "name": "stdout"
        },
        {
          "output_type": "stream",
          "text": [
            "WARNING:root:Lossy conversion from float32 to uint8. Range [-0.18588238954544067, 1.149322509765625]. Convert image to uint8 prior to saving to suppress this warning.\n",
            "WARNING:root:Lossy conversion from float32 to uint8. Range [0, 1]. Convert image to uint8 prior to saving to suppress this warning.\n"
          ],
          "name": "stderr"
        },
        {
          "output_type": "stream",
          "text": [
            "out_path /content/output/vibrant-painting-of-a-movie-in-the-style-of-magritte_00600.png\n",
            "\n",
            "\n",
            "\n",
            "    @@@@@@@@@@@@@@@@@@@@@@@@@@@@@@@@@@@@@@@@@@@@@@@\n",
            "    @@@@@@@@@@@@@@@@@@@@@@@@@@@@@@@@@@@@@@@@@@@@@@@\n",
            "    @@@@@@@@@@@@@@@@@@@@@@@@@@@@@@@@@@@@@@@@@@@@@@@\n",
            "    \n",
            "out_path /content/output/vibrant-painting-of-a-movie-in-the-style-of-magritte_00600.png\n",
            "\n",
            "\n",
            "\n",
            "  ##########################################################\n",
            "   [tensor([0.5298, 0.5737, 0.4980, 0.5317, 0.5464, 0.5684, 0.5195, 0.5352, 0.5195,\n",
            "        0.6147, 0.5762, 0.4812, 0.6934, 0.5132, 0.5845, 0.5547, 0.5088, 0.7285,\n",
            "        0.5439, 0.5054, 0.5151, 0.4976, 0.5146, 0.6172, 0.5039, 0.4878, 0.5078,\n",
            "        0.4971, 0.5078, 0.5757, 0.4592, 0.4517], device='cuda:0',\n",
            "       dtype=torch.float16, grad_fn=<MulBackward0>), tensor([-5.1250, -3.8652, -5.0938, -4.6758, -5.2695, -4.8750, -4.7734, -5.1562,\n",
            "        -4.9883, -3.0898, -5.1367, -5.2383, -2.3008, -5.2578, -4.4141, -4.6133,\n",
            "        -5.0000, -1.8301, -5.1211, -5.2148, -4.7070, -5.3320, -5.2656, -3.4199,\n",
            "        -4.9922, -5.3984, -4.8281, -5.2188, -4.8789, -4.9570, -5.1523, -5.2344],\n",
            "       device='cuda:0', dtype=torch.float16, grad_fn=<MulBackward0>)]  loss\n",
            "iteration 600\n",
            "iteration 600 up_noise 0.11\n",
            "0.3350258068689115 lr 0.03669578217261672 decay\n"
          ],
          "name": "stdout"
        },
        {
          "output_type": "stream",
          "text": [
            "WARNING:root:Lossy conversion from float32 to uint8. Range [-0.06292126327753067, 1.0448427200317383]. Convert image to uint8 prior to saving to suppress this warning.\n",
            "WARNING:root:Lossy conversion from float32 to uint8. Range [0, 1]. Convert image to uint8 prior to saving to suppress this warning.\n"
          ],
          "name": "stderr"
        },
        {
          "output_type": "stream",
          "text": [
            "out_path /content/output/vibrant-painting-of-a-movie-in-the-style-of-magritte_00610.png\n",
            "\n",
            "\n",
            "\n",
            "    @@@@@@@@@@@@@@@@@@@@@@@@@@@@@@@@@@@@@@@@@@@@@@@\n",
            "    @@@@@@@@@@@@@@@@@@@@@@@@@@@@@@@@@@@@@@@@@@@@@@@\n",
            "    @@@@@@@@@@@@@@@@@@@@@@@@@@@@@@@@@@@@@@@@@@@@@@@\n",
            "    \n",
            "out_path /content/output/vibrant-painting-of-a-movie-in-the-style-of-magritte_00610.png\n",
            "\n",
            "\n",
            "\n",
            "  ##########################################################\n",
            "   [tensor([0.5259, 0.5264, 0.4951, 0.5386, 0.5210, 0.5259, 0.4565, 0.4490, 0.5327,\n",
            "        0.5371, 0.5254, 0.6553, 0.4827, 0.5283, 0.5679, 0.6060, 0.4878, 0.5532,\n",
            "        0.5791, 0.5840, 0.5225, 0.5552, 0.5566, 0.5566, 0.5029, 0.6069, 0.5229,\n",
            "        0.6177, 0.5869, 0.5366, 0.5547, 0.5732], device='cuda:0',\n",
            "       dtype=torch.float16, grad_fn=<MulBackward0>), tensor([-5.0547, -5.0781, -5.1602, -4.2422, -4.9102, -4.8594, -5.0859, -4.9883,\n",
            "        -5.2266, -4.7188, -4.0273, -3.0312, -5.3164, -5.1328, -4.7734, -4.9375,\n",
            "        -5.1016, -4.9258, -3.8379, -4.6953, -5.1914, -4.5586, -4.6016, -4.5938,\n",
            "        -4.9844, -4.9531, -5.0078, -3.5176, -3.7285, -5.2383, -5.0156, -5.0781],\n",
            "       device='cuda:0', dtype=torch.float16, grad_fn=<MulBackward0>)]  loss\n",
            "iteration 610\n",
            "iteration 610 up_noise 0.11\n",
            "0.3283852748749846 lr 0.03490173016974103 decay\n"
          ],
          "name": "stdout"
        },
        {
          "output_type": "stream",
          "text": [
            "WARNING:root:Lossy conversion from float32 to uint8. Range [-0.2038021981716156, 1.144599199295044]. Convert image to uint8 prior to saving to suppress this warning.\n",
            "WARNING:root:Lossy conversion from float32 to uint8. Range [0, 1]. Convert image to uint8 prior to saving to suppress this warning.\n"
          ],
          "name": "stderr"
        },
        {
          "output_type": "stream",
          "text": [
            "out_path /content/output/vibrant-painting-of-a-movie-in-the-style-of-magritte_00620.png\n",
            "\n",
            "\n",
            "\n",
            "    @@@@@@@@@@@@@@@@@@@@@@@@@@@@@@@@@@@@@@@@@@@@@@@\n",
            "    @@@@@@@@@@@@@@@@@@@@@@@@@@@@@@@@@@@@@@@@@@@@@@@\n",
            "    @@@@@@@@@@@@@@@@@@@@@@@@@@@@@@@@@@@@@@@@@@@@@@@\n",
            "    \n",
            "out_path /content/output/vibrant-painting-of-a-movie-in-the-style-of-magritte_00620.png\n",
            "\n",
            "\n",
            "\n",
            "  ##########################################################\n",
            "   [tensor([0.5615, 0.5396, 0.4841, 0.5928, 0.5225, 0.5762, 0.7109, 0.5488, 0.7124,\n",
            "        0.6235, 0.5781, 0.5381, 0.5117, 0.6235, 0.4941, 0.5586, 0.5259, 0.6260,\n",
            "        0.5586, 0.5000, 0.5850, 0.5229, 0.5054, 0.5781, 0.6050, 0.4893, 0.5034,\n",
            "        0.6235, 0.4902, 0.5166, 0.5439, 0.5625], device='cuda:0',\n",
            "       dtype=torch.float16, grad_fn=<MulBackward0>), tensor([-4.9961, -4.7305, -5.2773, -4.7617, -5.0000, -4.3281, -2.5215, -4.6562,\n",
            "        -2.4043, -3.7871, -5.1211, -5.1406, -5.0742, -4.4219, -4.9375, -4.4766,\n",
            "        -5.0234, -4.4609, -4.2695, -5.0742, -4.7461, -4.8125, -4.5391, -4.0156,\n",
            "        -4.7734, -5.3555, -5.0977, -3.5566, -5.0625, -5.2305, -5.1172, -5.1602],\n",
            "       device='cuda:0', dtype=torch.float16, grad_fn=<MulBackward0>)]  loss\n",
            "iteration 620\n",
            "iteration 620 up_noise 0.11\n",
            "0.3218763645778293 lr 0.03319538913522355 decay\n"
          ],
          "name": "stdout"
        },
        {
          "output_type": "stream",
          "text": [
            "WARNING:root:Lossy conversion from float32 to uint8. Range [-0.11749661713838577, 1.096115231513977]. Convert image to uint8 prior to saving to suppress this warning.\n",
            "WARNING:root:Lossy conversion from float32 to uint8. Range [0, 1]. Convert image to uint8 prior to saving to suppress this warning.\n"
          ],
          "name": "stderr"
        },
        {
          "output_type": "stream",
          "text": [
            "out_path /content/output/vibrant-painting-of-a-movie-in-the-style-of-magritte_00630.png\n",
            "\n",
            "\n",
            "\n",
            "    @@@@@@@@@@@@@@@@@@@@@@@@@@@@@@@@@@@@@@@@@@@@@@@\n",
            "    @@@@@@@@@@@@@@@@@@@@@@@@@@@@@@@@@@@@@@@@@@@@@@@\n",
            "    @@@@@@@@@@@@@@@@@@@@@@@@@@@@@@@@@@@@@@@@@@@@@@@\n",
            "    \n",
            "out_path /content/output/vibrant-painting-of-a-movie-in-the-style-of-magritte_00630.png\n",
            "\n",
            "\n",
            "\n",
            "  ##########################################################\n",
            "   [tensor([0.5049, 0.5371, 0.5547, 0.5015, 0.5161, 0.4785, 0.5986, 0.5703, 0.5317,\n",
            "        0.5239, 0.5220, 0.5059, 0.4639, 0.5220, 0.6279, 0.5625, 0.4692, 0.4956,\n",
            "        0.4797, 0.5576, 0.6577, 0.5225, 0.5635, 0.5303, 0.5088, 0.5576, 0.6997,\n",
            "        0.4988, 0.5195, 0.4785, 0.5103, 0.5693], device='cuda:0',\n",
            "       dtype=torch.float16, grad_fn=<MulBackward0>), tensor([-5.0195, -4.2812, -4.7578, -5.1172, -4.5703, -5.0469, -4.1055, -4.4805,\n",
            "        -5.0781, -5.1328, -5.0078, -4.9570, -5.0859, -4.9648, -3.7891, -4.9922,\n",
            "        -5.0625, -4.7969, -5.2656, -5.1094, -3.5762, -5.1406, -5.2031, -4.9688,\n",
            "        -5.1094, -4.8125, -2.2734, -4.8750, -4.8203, -5.0430, -5.1328, -4.9961],\n",
            "       device='cuda:0', dtype=torch.float16, grad_fn=<MulBackward0>)]  loss\n",
            "iteration 630\n",
            "iteration 630 up_noise 0.11\n",
            "0.3154964671095001 lr 0.03157247089126454 decay\n"
          ],
          "name": "stdout"
        },
        {
          "output_type": "stream",
          "text": [
            "WARNING:root:Lossy conversion from float32 to uint8. Range [-0.48748576641082764, 1.357487440109253]. Convert image to uint8 prior to saving to suppress this warning.\n",
            "WARNING:root:Lossy conversion from float32 to uint8. Range [0, 1]. Convert image to uint8 prior to saving to suppress this warning.\n"
          ],
          "name": "stderr"
        },
        {
          "output_type": "stream",
          "text": [
            "out_path /content/output/vibrant-painting-of-a-movie-in-the-style-of-magritte_00640.png\n",
            "\n",
            "\n",
            "\n",
            "    @@@@@@@@@@@@@@@@@@@@@@@@@@@@@@@@@@@@@@@@@@@@@@@\n",
            "    @@@@@@@@@@@@@@@@@@@@@@@@@@@@@@@@@@@@@@@@@@@@@@@\n",
            "    @@@@@@@@@@@@@@@@@@@@@@@@@@@@@@@@@@@@@@@@@@@@@@@\n",
            "    \n",
            "out_path /content/output/vibrant-painting-of-a-movie-in-the-style-of-magritte_00640.png\n",
            "\n",
            "\n",
            "\n",
            "  ##########################################################\n",
            "   [tensor([0.6196, 0.6738, 0.6870, 0.7061, 0.5928, 0.5981, 0.5938, 0.5337, 0.5596,\n",
            "        0.5391, 0.5708, 0.6748, 0.5234, 0.5596, 0.5244, 0.5020, 0.5474, 0.5527,\n",
            "        0.4912, 0.5420, 0.6851, 0.5679, 0.5210, 0.4929, 0.5059, 0.5347, 0.5991,\n",
            "        0.7173, 0.5376, 0.5674, 0.5845, 0.5259], device='cuda:0',\n",
            "       dtype=torch.float16, grad_fn=<MulBackward0>), tensor([-4.6055, -3.1426, -4.3047, -3.2188, -5.0078, -5.1914, -4.8164, -4.8906,\n",
            "        -4.8984, -4.3789, -5.2148, -4.4062, -5.2109, -5.0625, -5.0391, -5.3438,\n",
            "        -5.3047, -5.1719, -4.9375, -5.2891, -2.8008, -4.9727, -4.9766, -5.1172,\n",
            "        -5.1797, -5.1914, -4.9570, -2.5996, -4.9961, -5.2539, -5.0039, -5.2656],\n",
            "       device='cuda:0', dtype=torch.float16, grad_fn=<MulBackward0>)]  loss\n",
            "iteration 640\n",
            "iteration 640 up_noise 0.11\n",
            "0.3092430253123096 lr 0.030028896908517396 decay\n"
          ],
          "name": "stdout"
        },
        {
          "output_type": "stream",
          "text": [
            "WARNING:root:Lossy conversion from float32 to uint8. Range [-0.22297200560569763, 1.188478946685791]. Convert image to uint8 prior to saving to suppress this warning.\n",
            "WARNING:root:Lossy conversion from float32 to uint8. Range [0, 1]. Convert image to uint8 prior to saving to suppress this warning.\n"
          ],
          "name": "stderr"
        },
        {
          "output_type": "stream",
          "text": [
            "out_path /content/output/vibrant-painting-of-a-movie-in-the-style-of-magritte_00650.png\n",
            "\n",
            "\n",
            "\n",
            "    @@@@@@@@@@@@@@@@@@@@@@@@@@@@@@@@@@@@@@@@@@@@@@@\n",
            "    @@@@@@@@@@@@@@@@@@@@@@@@@@@@@@@@@@@@@@@@@@@@@@@\n",
            "    @@@@@@@@@@@@@@@@@@@@@@@@@@@@@@@@@@@@@@@@@@@@@@@\n",
            "    \n",
            "out_path /content/output/vibrant-painting-of-a-movie-in-the-style-of-magritte_00650.png\n",
            "\n",
            "\n",
            "\n",
            "  ##########################################################\n",
            "   [tensor([0.4717, 0.5220, 0.5342, 0.4624, 0.6079, 0.5303, 0.4863, 0.4868, 0.5430,\n",
            "        0.6167, 0.4988, 0.5869, 0.5928, 0.5068, 0.5693, 0.5767, 0.5806, 0.5957,\n",
            "        0.5542, 0.5791, 0.5332, 0.6704, 0.5117, 0.5928, 0.5542, 0.5776, 0.5840,\n",
            "        0.5781, 0.5000, 0.4805, 0.5488, 0.5083], device='cuda:0',\n",
            "       dtype=torch.float16, grad_fn=<MulBackward0>), tensor([-5.2500, -4.5469, -3.8457, -4.7695, -4.3008, -5.0781, -5.3477, -5.1719,\n",
            "        -4.9453, -4.7344, -5.2773, -3.0703, -4.8281, -5.2031, -5.2305, -4.7656,\n",
            "        -3.7793, -4.1133, -3.7598, -5.0430, -5.0703, -3.8828, -5.1758, -4.3945,\n",
            "        -5.2344, -4.0820, -4.5938, -4.0586, -5.0586, -4.9531, -4.9844, -5.2188],\n",
            "       device='cuda:0', dtype=torch.float16, grad_fn=<MulBackward0>)]  loss\n",
            "iteration 650\n",
            "iteration 650 up_noise 0.11\n",
            "0.30311353271388225 lr 0.028560788056403188 decay\n"
          ],
          "name": "stdout"
        },
        {
          "output_type": "stream",
          "text": [
            "WARNING:root:Lossy conversion from float32 to uint8. Range [-0.051941659301519394, 1.0300309658050537]. Convert image to uint8 prior to saving to suppress this warning.\n",
            "WARNING:root:Lossy conversion from float32 to uint8. Range [0, 1]. Convert image to uint8 prior to saving to suppress this warning.\n"
          ],
          "name": "stderr"
        },
        {
          "output_type": "stream",
          "text": [
            "out_path /content/output/vibrant-painting-of-a-movie-in-the-style-of-magritte_00660.png\n",
            "\n",
            "\n",
            "\n",
            "    @@@@@@@@@@@@@@@@@@@@@@@@@@@@@@@@@@@@@@@@@@@@@@@\n",
            "    @@@@@@@@@@@@@@@@@@@@@@@@@@@@@@@@@@@@@@@@@@@@@@@\n",
            "    @@@@@@@@@@@@@@@@@@@@@@@@@@@@@@@@@@@@@@@@@@@@@@@\n",
            "    \n",
            "out_path /content/output/vibrant-painting-of-a-movie-in-the-style-of-magritte_00660.png\n",
            "\n",
            "\n",
            "\n",
            "  ##########################################################\n",
            "   [tensor([0.5640, 0.5273, 0.5190, 0.6450, 0.5566, 0.5576, 0.5532, 0.5693, 0.5137,\n",
            "        0.5991, 0.5483, 0.5020, 0.6841, 0.6748, 0.6025, 0.5708, 0.7295, 0.5498,\n",
            "        0.5439, 0.6211, 0.5854, 0.5576, 0.5220, 0.5674, 0.5659, 0.5815, 0.5615,\n",
            "        0.5566, 0.4546, 0.5205, 0.5869, 0.5703], device='cuda:0',\n",
            "       dtype=torch.float16, grad_fn=<MulBackward0>), tensor([-4.9141, -4.9766, -5.2422, -3.8008, -5.1562, -4.4609, -5.1602, -5.1172,\n",
            "        -4.2305, -4.9883, -5.0352, -5.4102, -3.2773, -2.4629, -4.4180, -5.2344,\n",
            "        -2.3691, -4.5742, -5.1484, -2.9180, -4.2930, -4.1836, -4.7617, -5.1328,\n",
            "        -4.6680, -4.1758, -4.5156, -5.1914, -5.0312, -5.0312, -5.1133, -5.2891],\n",
            "       device='cuda:0', dtype=torch.float16, grad_fn=<MulBackward0>)]  loss\n",
            "iteration 660\n",
            "iteration 660 up_noise 0.11\n",
            "0.2971055325225229 lr 0.027164454854530895 decay\n"
          ],
          "name": "stdout"
        },
        {
          "output_type": "stream",
          "text": [
            "WARNING:root:Lossy conversion from float32 to uint8. Range [-0.07255862653255463, 1.047235369682312]. Convert image to uint8 prior to saving to suppress this warning.\n",
            "WARNING:root:Lossy conversion from float32 to uint8. Range [0, 1]. Convert image to uint8 prior to saving to suppress this warning.\n"
          ],
          "name": "stderr"
        },
        {
          "output_type": "stream",
          "text": [
            "out_path /content/output/vibrant-painting-of-a-movie-in-the-style-of-magritte_00670.png\n",
            "\n",
            "\n",
            "\n",
            "    @@@@@@@@@@@@@@@@@@@@@@@@@@@@@@@@@@@@@@@@@@@@@@@\n",
            "    @@@@@@@@@@@@@@@@@@@@@@@@@@@@@@@@@@@@@@@@@@@@@@@\n",
            "    @@@@@@@@@@@@@@@@@@@@@@@@@@@@@@@@@@@@@@@@@@@@@@@\n",
            "    \n",
            "out_path /content/output/vibrant-painting-of-a-movie-in-the-style-of-magritte_00670.png\n",
            "\n",
            "\n",
            "\n",
            "  ##########################################################\n",
            "   [tensor([0.6201, 0.5552, 0.6221, 0.5527, 0.7617, 0.5850, 0.4980, 0.5688, 0.6426,\n",
            "        0.5483, 0.6045, 0.5093, 0.5552, 0.5571, 0.5371, 0.4805, 0.6963, 0.7637,\n",
            "        0.5205, 0.4790, 0.5439, 0.5303, 0.5322, 0.5518, 0.5522, 0.5112, 0.5576,\n",
            "        0.6084, 0.5742, 0.5439, 0.4829, 0.5269], device='cuda:0',\n",
            "       dtype=torch.float16, grad_fn=<MulBackward0>), tensor([-3.9160, -5.1758, -4.2500, -5.2500, -2.5352, -4.3828, -4.6094, -4.6953,\n",
            "        -4.2266, -4.5156, -4.5312, -4.9766, -5.2188, -5.2344, -5.3281, -5.0820,\n",
            "        -2.2617, -2.2188, -5.4297, -5.1875, -5.3438, -5.2305, -5.0391, -4.2852,\n",
            "        -5.3359, -5.2734, -4.3711, -4.6172, -5.2695, -5.0859, -5.0977, -5.0625],\n",
            "       device='cuda:0', dtype=torch.float16, grad_fn=<MulBackward0>)]  loss\n",
            "iteration 670\n",
            "iteration 670 up_noise 0.11\n",
            "0.29121661664249804 lr 0.025836388200724456 decay\n"
          ],
          "name": "stdout"
        },
        {
          "output_type": "stream",
          "text": [
            "WARNING:root:Lossy conversion from float32 to uint8. Range [-0.23456703126430511, 1.1606172323226929]. Convert image to uint8 prior to saving to suppress this warning.\n",
            "WARNING:root:Lossy conversion from float32 to uint8. Range [0, 1]. Convert image to uint8 prior to saving to suppress this warning.\n"
          ],
          "name": "stderr"
        },
        {
          "output_type": "stream",
          "text": [
            "out_path /content/output/vibrant-painting-of-a-movie-in-the-style-of-magritte_00680.png\n",
            "\n",
            "\n",
            "\n",
            "    @@@@@@@@@@@@@@@@@@@@@@@@@@@@@@@@@@@@@@@@@@@@@@@\n",
            "    @@@@@@@@@@@@@@@@@@@@@@@@@@@@@@@@@@@@@@@@@@@@@@@\n",
            "    @@@@@@@@@@@@@@@@@@@@@@@@@@@@@@@@@@@@@@@@@@@@@@@\n",
            "    \n",
            "out_path /content/output/vibrant-painting-of-a-movie-in-the-style-of-magritte_00680.png\n",
            "\n",
            "\n",
            "\n",
            "  ##########################################################\n",
            "   [tensor([0.5225, 0.5986, 0.5273, 0.5825, 0.6460, 0.5811, 0.5181, 0.5840, 0.5723,\n",
            "        0.5591, 0.5664, 0.5791, 0.6113, 0.5796, 0.5811, 0.5894, 0.5498, 0.5522,\n",
            "        0.5728, 0.5742, 0.6025, 0.6128, 0.5679, 0.5498, 0.5635, 0.5439, 0.5732,\n",
            "        0.5107, 0.6104, 0.5317, 0.5459, 0.5850], device='cuda:0',\n",
            "       dtype=torch.float16, grad_fn=<MulBackward0>), tensor([-5.3750, -5.2031, -5.2891, -3.9258, -4.7695, -4.8281, -4.9570, -4.8828,\n",
            "        -4.9297, -5.2148, -5.4258, -5.0430, -4.3125, -4.4492, -4.9492, -5.0430,\n",
            "        -5.0078, -5.0781, -4.9961, -5.3984, -5.1523, -3.9297, -4.2891, -5.3594,\n",
            "        -4.5469, -5.3047, -4.8008, -4.9844, -3.9023, -5.2539, -5.3711, -4.9688],\n",
            "       device='cuda:0', dtype=torch.float16, grad_fn=<MulBackward0>)]  loss\n",
            "iteration 680\n",
            "iteration 680 up_noise 0.11\n",
            "0.2854444247088352 lr 0.024573250552355364 decay\n"
          ],
          "name": "stdout"
        },
        {
          "output_type": "stream",
          "text": [
            "WARNING:root:Lossy conversion from float32 to uint8. Range [-0.43040090799331665, 1.3474102020263672]. Convert image to uint8 prior to saving to suppress this warning.\n",
            "WARNING:root:Lossy conversion from float32 to uint8. Range [0, 1]. Convert image to uint8 prior to saving to suppress this warning.\n"
          ],
          "name": "stderr"
        },
        {
          "output_type": "stream",
          "text": [
            "out_path /content/output/vibrant-painting-of-a-movie-in-the-style-of-magritte_00690.png\n",
            "\n",
            "\n",
            "\n",
            "    @@@@@@@@@@@@@@@@@@@@@@@@@@@@@@@@@@@@@@@@@@@@@@@\n",
            "    @@@@@@@@@@@@@@@@@@@@@@@@@@@@@@@@@@@@@@@@@@@@@@@\n",
            "    @@@@@@@@@@@@@@@@@@@@@@@@@@@@@@@@@@@@@@@@@@@@@@@\n",
            "    \n",
            "out_path /content/output/vibrant-painting-of-a-movie-in-the-style-of-magritte_00690.png\n",
            "\n",
            "\n",
            "\n",
            "  ##########################################################\n",
            "   [tensor([0.5059, 0.5176, 0.5308, 0.6694, 0.4893, 0.6094, 0.5293, 0.5586, 0.5435,\n",
            "        0.5508, 0.5352, 0.4756, 0.4695, 0.5757, 0.5918, 0.5527, 0.5439, 0.5439,\n",
            "        0.5269, 0.5117, 0.6646, 0.7056, 0.5376, 0.5547, 0.6001, 0.4827, 0.4932,\n",
            "        0.5757, 0.5483, 0.5986, 0.5063, 0.4463], device='cuda:0',\n",
            "       dtype=torch.float16, grad_fn=<MulBackward0>), tensor([-4.6758, -5.1719, -5.2266, -3.8887, -5.2148, -4.3867, -4.8789, -4.8008,\n",
            "        -5.0938, -5.1719, -5.0547, -4.4180, -5.1484, -5.0820, -4.9766, -5.3477,\n",
            "        -3.8516, -4.8359, -5.1484, -4.8750, -3.6406, -3.9453, -4.6445, -4.9922,\n",
            "        -4.7188, -5.0195, -5.1133, -4.4219, -5.1562, -4.8477, -5.2266, -5.2773],\n",
            "       device='cuda:0', dtype=torch.float16, grad_fn=<MulBackward0>)]  loss\n",
            "iteration 690\n",
            "iteration 690 up_noise 0.11\n",
            "0.27978664314125357 lr 0.02337186753881881 decay\n"
          ],
          "name": "stdout"
        }
      ]
    },
    {
      "cell_type": "code",
      "metadata": {
        "id": "-1AtR7Beq_1J",
        "colab": {
          "base_uri": "https://localhost:8080/"
        },
        "outputId": "3c592323-f4dd-461d-9974-53d1b34af746"
      },
      "source": [
        "#@title Render Video\n",
        "print(text_slug)\n",
        "\n",
        "out_file=output_path+\"/video_\"+text_slug+\"_video.mp4\"\n",
        "#!rm /content/*.mp4\n",
        "!ffmpeg -r 10 -i $output_path/%*.png -y -vf format=yuv420p -vcodec libx264 -acodec aac \"$out_file\"\n",
        "#!cp -v /tmp/video.mp4 \"$out_file\"\n",
        "#!rm /content/taming-transformers/*.png\n",
        "print(\"Written\", out_file)\n",
        "!sleep 2\n",
        "\n",
        "#from google.colab import files\n",
        "#files.download(out_file)\n"
      ],
      "execution_count": null,
      "outputs": [
        {
          "output_type": "stream",
          "text": [
            "vibrant-painting-of-a-movie-in-the-style-of-magritte\n",
            "ffmpeg version 3.4.8-0ubuntu0.2 Copyright (c) 2000-2020 the FFmpeg developers\n",
            "  built with gcc 7 (Ubuntu 7.5.0-3ubuntu1~18.04)\n",
            "  configuration: --prefix=/usr --extra-version=0ubuntu0.2 --toolchain=hardened --libdir=/usr/lib/x86_64-linux-gnu --incdir=/usr/include/x86_64-linux-gnu --enable-gpl --disable-stripping --enable-avresample --enable-avisynth --enable-gnutls --enable-ladspa --enable-libass --enable-libbluray --enable-libbs2b --enable-libcaca --enable-libcdio --enable-libflite --enable-libfontconfig --enable-libfreetype --enable-libfribidi --enable-libgme --enable-libgsm --enable-libmp3lame --enable-libmysofa --enable-libopenjpeg --enable-libopenmpt --enable-libopus --enable-libpulse --enable-librubberband --enable-librsvg --enable-libshine --enable-libsnappy --enable-libsoxr --enable-libspeex --enable-libssh --enable-libtheora --enable-libtwolame --enable-libvorbis --enable-libvpx --enable-libwavpack --enable-libwebp --enable-libx265 --enable-libxml2 --enable-libxvid --enable-libzmq --enable-libzvbi --enable-omx --enable-openal --enable-opengl --enable-sdl2 --enable-libdc1394 --enable-libdrm --enable-libiec61883 --enable-chromaprint --enable-frei0r --enable-libopencv --enable-libx264 --enable-shared\n",
            "  libavutil      55. 78.100 / 55. 78.100\n",
            "  libavcodec     57.107.100 / 57.107.100\n",
            "  libavformat    57. 83.100 / 57. 83.100\n",
            "  libavdevice    57. 10.100 / 57. 10.100\n",
            "  libavfilter     6.107.100 /  6.107.100\n",
            "  libavresample   3.  7.  0 /  3.  7.  0\n",
            "  libswscale      4.  8.100 /  4.  8.100\n",
            "  libswresample   2.  9.100 /  2.  9.100\n",
            "  libpostproc    54.  7.100 / 54.  7.100\n",
            "\u001b[0;35m[image2 @ 0x562cfe670000] \u001b[0m\u001b[0;33mPattern type 'glob_sequence' is deprecated: use pattern_type 'glob' instead\n",
            "\u001b[0mInput #0, image2, from '/content/output/%*.png':\n",
            "  Duration: 00:00:02.76, start: 0.000000, bitrate: N/A\n",
            "    Stream #0:0: Video: png, rgb24(pc), 512x512, 25 fps, 25 tbr, 25 tbn, 25 tbc\n",
            "Stream mapping:\n",
            "  Stream #0:0 -> #0:0 (png (native) -> h264 (libx264))\n",
            "Press [q] to stop, [?] for help\n",
            "\u001b[1;36m[libx264 @ 0x562cfe675e00] \u001b[0musing cpu capabilities: MMX2 SSE2Fast SSSE3 SSE4.2 AVX FMA3 BMI2 AVX2\n",
            "\u001b[1;36m[libx264 @ 0x562cfe675e00] \u001b[0mprofile High, level 2.2\n",
            "\u001b[1;36m[libx264 @ 0x562cfe675e00] \u001b[0m264 - core 152 r2854 e9a5903 - H.264/MPEG-4 AVC codec - Copyleft 2003-2017 - http://www.videolan.org/x264.html - options: cabac=1 ref=3 deblock=1:0:0 analyse=0x3:0x113 me=hex subme=7 psy=1 psy_rd=1.00:0.00 mixed_ref=1 me_range=16 chroma_me=1 trellis=1 8x8dct=1 cqm=0 deadzone=21,11 fast_pskip=1 chroma_qp_offset=-2 threads=3 lookahead_threads=1 sliced_threads=0 nr=0 decimate=1 interlaced=0 bluray_compat=0 constrained_intra=0 bframes=3 b_pyramid=2 b_adapt=1 b_bias=0 direct=1 weightb=1 open_gop=0 weightp=2 keyint=250 keyint_min=10 scenecut=40 intra_refresh=0 rc_lookahead=40 rc=crf mbtree=1 crf=23.0 qcomp=0.60 qpmin=0 qpmax=69 qpstep=4 ip_ratio=1.40 aq=1:1.00\n",
            "Output #0, mp4, to '/content/output/video_vibrant-painting-of-a-movie-in-the-style-of-magritte_video.mp4':\n",
            "  Metadata:\n",
            "    encoder         : Lavf57.83.100\n",
            "    Stream #0:0: Video: h264 (libx264) (avc1 / 0x31637661), yuv420p, 512x512, q=-1--1, 10 fps, 10240 tbn, 10 tbc\n",
            "    Metadata:\n",
            "      encoder         : Lavc57.107.100 libx264\n",
            "    Side data:\n",
            "      cpb: bitrate max/min/avg: 0/0/0 buffer size: 0 vbv_delay: -1\n",
            "frame=   69 fps= 24 q=-1.0 Lsize=    1864kB time=00:00:06.60 bitrate=2314.1kbits/s speed=2.31x    \n",
            "video:1863kB audio:0kB subtitle:0kB other streams:0kB global headers:0kB muxing overhead: 0.088024%\n",
            "\u001b[1;36m[libx264 @ 0x562cfe675e00] \u001b[0mframe I:1     Avg QP:27.33  size: 24362\n",
            "\u001b[1;36m[libx264 @ 0x562cfe675e00] \u001b[0mframe P:17    Avg QP:26.67  size: 31371\n",
            "\u001b[1;36m[libx264 @ 0x562cfe675e00] \u001b[0mframe B:51    Avg QP:27.47  size: 26453\n",
            "\u001b[1;36m[libx264 @ 0x562cfe675e00] \u001b[0mconsecutive B-frames:  1.4%  0.0%  0.0% 98.6%\n",
            "\u001b[1;36m[libx264 @ 0x562cfe675e00] \u001b[0mmb I  I16..4:  1.4% 75.6% 23.0%\n",
            "\u001b[1;36m[libx264 @ 0x562cfe675e00] \u001b[0mmb P  I16..4:  3.1% 32.7% 42.4%  P16..4:  5.2% 10.5%  6.1%  0.0%  0.0%    skip: 0.1%\n",
            "\u001b[1;36m[libx264 @ 0x562cfe675e00] \u001b[0mmb B  I16..4:  2.7% 19.0% 25.7%  B16..8: 12.0% 24.0% 10.5%  direct: 5.9%  skip: 0.1%  L0:41.9% L1:35.3% BI:22.8%\n",
            "\u001b[1;36m[libx264 @ 0x562cfe675e00] \u001b[0m8x8 transform intra:41.6% inter:52.6%\n",
            "\u001b[1;36m[libx264 @ 0x562cfe675e00] \u001b[0mcoded y,uvDC,uvAC intra: 84.2% 99.4% 93.1% inter: 78.7% 98.1% 56.5%\n",
            "\u001b[1;36m[libx264 @ 0x562cfe675e00] \u001b[0mi16 v,h,dc,p: 14% 41%  1% 44%\n",
            "\u001b[1;36m[libx264 @ 0x562cfe675e00] \u001b[0mi8 v,h,dc,ddl,ddr,vr,hd,vl,hu: 23% 31%  6%  4%  6%  7%  8%  7%  9%\n",
            "\u001b[1;36m[libx264 @ 0x562cfe675e00] \u001b[0mi4 v,h,dc,ddl,ddr,vr,hd,vl,hu: 31% 26% 10%  5%  5%  7%  6%  5%  5%\n",
            "\u001b[1;36m[libx264 @ 0x562cfe675e00] \u001b[0mi8c dc,h,v,p: 33% 30% 26% 12%\n",
            "\u001b[1;36m[libx264 @ 0x562cfe675e00] \u001b[0mWeighted P-Frames: Y:35.3% UV:35.3%\n",
            "\u001b[1;36m[libx264 @ 0x562cfe675e00] \u001b[0mref P L0: 28.1% 14.5% 26.0% 22.5%  8.8%\n",
            "\u001b[1;36m[libx264 @ 0x562cfe675e00] \u001b[0mref B L0: 76.7% 17.5%  5.8%\n",
            "\u001b[1;36m[libx264 @ 0x562cfe675e00] \u001b[0mref B L1: 88.9% 11.1%\n",
            "\u001b[1;36m[libx264 @ 0x562cfe675e00] \u001b[0mkb/s:2210.73\n",
            "Written /content/output/video_vibrant-painting-of-a-movie-in-the-style-of-magritte_video.mp4\n"
          ],
          "name": "stdout"
        }
      ]
    },
    {
      "cell_type": "code",
      "metadata": {
        "id": "ww4h1pBTHwhW",
        "cellView": "form"
      },
      "source": [
        "#@title Render Video with increasing gap (unused)\n",
        "from glob import glob\n",
        "\n",
        "# Creates a video from a folder containing images of training progress\n",
        "# Allows sampling the image less often as iterations increase\n",
        "# (Requires images be sortable by filename for now. Could use modification date too)\n",
        "def render_video(output_path=\"/content/taming-transformers/output.mp4\", src_path=\"/content/taming-transformers/\", file_glob=\"*.png\", step_increase_every=100):\n",
        "  tmp_path = \"/tmp/latentvisions_tmp\"\n",
        "\n",
        "  files = glob(src_path+file_glob)\n",
        "  files.sort()\n",
        "\n",
        "  if len(files) == 0:\n",
        "    print(f\"No files found in '{src_path}{file_glob}'. Returning...\")\n",
        "    return\n",
        "\n",
        "  !rm -rf $tmp_path\n",
        "  !mkdir -p $tmp_path\n",
        "\n",
        "  for i, filepath in enumerate(files):\n",
        "\n",
        "    # this is a bit hacky. we should be adding a float to get\n",
        "    # smooth increase in steps.\n",
        "    save_step = i % (i//step_increase_every + 1) == 0\n",
        "    \n",
        "    if save_step:\n",
        "      !cp -v $filepath $tmp_path\n",
        "    else:\n",
        "      !mv $filepath /tmp\n",
        "\n",
        "  !ffmpeg -y -r 20 -pattern_type glob -i \"{tmp_path+\"/\"+file_glob}\" -vcodec libx264 -crf 15 -pix_fmt yuv420p {output_path} -hide_banner -loglevel error\n",
        "\n",
        "#render_video(out_file)"
      ],
      "execution_count": null,
      "outputs": []
    },
    {
      "cell_type": "markdown",
      "metadata": {
        "id": "iKP0tnHaiTyl"
      },
      "source": [
        "#### Thanks!\n",
        "\n",
        "Many thanks to OpenAI for releasing their models CLIP and DALL-E (the encoder and decoder parts, specifically). I am not affiliated with them.\n",
        "\n",
        "\n",
        "https://github.com/openai/DALL-E/ (Aditya Ramesh, Mikhail Pavlov, Gabriel Goh, Scott Gray, Chelsea Voss, Alec Radford, Mark Chen, Ilya Sutskever)\n",
        "\n",
        "https://github.com/openai/CLIP (Alec Radford, \\* Jong Wook Kim,\\* Chris Hallacy, Aditya Ramesh, Gabriel Goh, Sandhini Agarwal,\n",
        "Girish Sastry, Amanda Askell, Pamela Mishkin, Jack Clark, Gretchen Krueger, Ilya Sutskever)\n",
        "\n",
        "Thanks to to Patrick Esser\\* Robin Rombach\\* Bjorn Ommer for the VQGAN in Taming Transformers! https://github.com/CompVis/taming-transformers\n",
        "\n",
        "\n",
        "Also, as a good launching point for future directions and to find more related work, see https://distill.pub/2017/feature-visualization/ by Chris Olah, Alexander Mordvintsev, Ludwig Schubert.\n",
        "\n",
        "\n",
        "\\* equal contribution\n",
        "\n",
        "TopK GAN influenced my choice to screen image patches by coherence. https://arxiv.org/abs/2002.06224 The authors are Samarth Sinha, Zhengli Zhao, Anirudh Goyal, Colin Raffel, and Augustus Odena.\n",
        "\n",
        "---\n",
        "\n",
        "\n",
        "Also massive thanks to my patrons and contributors on the Discord who support me. You'll also see that alstroemeria313 (https://twitter.com/RiversHaveWings), CobaltOwl, and Johanezz have contributed the suggestions of weight decay and random-encoded images specifically.\n",
        "\n",
        "Thanks to ZoeOzone for the title of this notebook: https://twitter.com/zoebot_zoe\n",
        "\n",
        "Thanks to hotgrits for loading CLIP without restarting. http://torridgristle.tumblr.com/\n",
        "\n",
        "\n"
      ]
    }
  ]
}