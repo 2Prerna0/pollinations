{
  "nbformat": 4,
  "nbformat_minor": 0,
  "metadata": {
    "accelerator": "GPU",
    "colab": {
      "name": "CLIPIT PixelDraw",
      "provenance": [],
      "collapsed_sections": [],
      "machine_shape": "hm",
      "include_colab_link": true
    },
    "kernelspec": {
      "display_name": "Python 3 (ipykernel)",
      "language": "python",
      "name": "python3"
    },
    "language_info": {
      "codemirror_mode": {
        "name": "ipython",
        "version": 3
      },
      "file_extension": ".py",
      "mimetype": "text/x-python",
      "name": "python",
      "nbconvert_exporter": "python",
      "pygments_lexer": "ipython3",
      "version": "3.8.10"
    }
  },
  "cells": [
    {
      "cell_type": "markdown",
      "metadata": {
        "id": "view-in-github",
        "colab_type": "text"
      },
      "source": [
        "<a href=\"https://colab.research.google.com/github/pollinations/pollinations/blob/dev/colabs/PixelDrawer.ipynb\" target=\"_parent\"><img src=\"https://colab.research.google.com/assets/colab-badge.svg\" alt=\"Open In Colab\"/></a>"
      ]
    },
    {
      "cell_type": "markdown",
      "metadata": {
        "id": "QpPbEKLBmyX1"
      },
      "source": [
        "![Beirut Skyline](https://pollinations.ai/ipfs/QmaZ8pwp9J69zS7t5jFKxgWHqqchBEQMRhd4AvKkbc9K6a)\n",
        "<br>\n",
        "Beirut Skyline by <a href=\"https://twitter.com/gorillasu\">Ahmad Moussa</a><br>\n",
        "# CLIPIT PixelDraw demo\n",
        "\n",
        "This version of the notebook is setup to easily change from VQGAN to PixelDraw to render the image."
      ]
    },
    {
      "cell_type": "code",
      "metadata": {
        "cellView": "form",
        "id": "9FoDmgK2IxVO"
      },
      "source": [
        "prompts = \"Beirut Skyline. #pixelart\" #@param {type:\"string\"}\n",
        "output_path = \"/content/output\""
      ],
      "execution_count": null,
      "outputs": []
    },
    {
      "cell_type": "code",
      "metadata": {
        "id": "qQOvOhnKQ-Tu",
        "colab": {
          "base_uri": "https://localhost:8080/",
          "height": 54
        },
        "outputId": "e7105cb8-7eb4-4fe0-f1ef-7da016454bf2"
      },
      "source": [
        "#@title Setup\n",
        "\n",
        "#@markdown Please execute this cell by pressing the _Play_ button \n",
        "#@markdown on the left. For setup,\n",
        "#@markdown **you need to run this cell,\n",
        "#@markdown then choose Runtime -> Restart Runtime from the menu,\n",
        "#@markdown and then run the cell again**. It should remind you to\n",
        "#@markdown do this after the first run.\n",
        "\n",
        "#@markdown Setup can take 5-10 minutes, but once it is complete it usually does not need to be repeated\n",
        "#@markdown until you close the window.\n",
        "\n",
        "#@markdown **Note**: This installs the software on the Colab \n",
        "#@markdown notebook in the cloud and not on your computer.\n",
        "\n",
        "# https://stackoverflow.com/a/56727659/1010653\n",
        "\n",
        "from IPython.utils import io\n",
        "with io.capture_output() as captured:\n",
        "  !git clone https://github.com/openai/CLIP\n",
        "  # !pip install taming-transformers\n",
        "  !git clone https://github.com/CompVis/taming-transformers.git\n",
        "  !rm -Rf clipit\n",
        "  !git clone https://github.com/pollinations/clipit\n",
        "  !pip install ftfy regex tqdm omegaconf pytorch-lightning\n",
        "  !pip install kornia\n",
        "  !pip install imageio-ffmpeg   \n",
        "  !pip install einops\n",
        "  !pip install torch-optimizer\n",
        "  !pip install easydict\n",
        "  !pip install braceexpand\n",
        "  !pip install git+https://github.com/pvigier/perlin-numpy\n",
        "\n",
        "  # ClipDraw deps\n",
        "  !pip install svgwrite\n",
        "  !pip install svgpathtools\n",
        "  !pip install cssutils\n",
        "  !pip install numba\n",
        "  !pip install torch-tools\n",
        "  !pip install visdom\n",
        "\n",
        "  !git clone https://github.com/BachiLi/diffvg\n",
        "  %cd diffvg\n",
        "  # !ls\n",
        "  !git submodule update --init --recursive\n",
        "  !python setup.py install\n",
        "  %cd ..\n",
        "\n",
        "import sys\n",
        "sys.path.append(\"clipit\")\n",
        "\n",
        "result_msg = \"setup complete\"\n",
        "import IPython\n",
        "import os\n",
        "if not os.path.isfile(\"first_init_complete\"):\n",
        "  # put stuff in here that should only happen once\n",
        "  !mkdir -p models\n",
        "  os.mknod(\"first_init_complete\")\n",
        "  result_msg = \"Please choose Runtime -> Restart Runtime from the menu, and then run Setup again\"\n",
        "\n",
        "js_code = f'''\n",
        "document.querySelector(\"#output-area\").appendChild(document.createTextNode(\"{result_msg}\"));\n",
        "'''\n",
        "js_code += '''\n",
        "for (rule of document.styleSheets[0].cssRules){\n",
        "  if (rule.selectorText=='body') break\n",
        "}\n",
        "rule.style.fontSize = '30px'\n",
        "'''\n",
        "display(IPython.display.Javascript(js_code))"
      ],
      "execution_count": 4,
      "outputs": [
        {
          "output_type": "display_data",
          "data": {
            "application/javascript": [
              "\n",
              "document.querySelector(\"#output-area\").appendChild(document.createTextNode(\"setup complete\"));\n",
              "\n",
              "for (rule of document.styleSheets[0].cssRules){\n",
              "  if (rule.selectorText=='body') break\n",
              "}\n",
              "rule.style.fontSize = '30px'\n"
            ],
            "text/plain": [
              "<IPython.core.display.Javascript object>"
            ]
          },
          "metadata": {}
        }
      ]
    },
    {
      "cell_type": "code",
      "metadata": {
        "id": "XziodsCqVC2A",
        "colab": {
          "base_uri": "https://localhost:8080/",
          "height": 334
        },
        "outputId": "b03f41da-b3e0-4f3b-9d92-a19221c1b3a9"
      },
      "source": [
        "#@title Settings\n",
        "\n",
        "#@markdown Enter a description of what you want to draw - I usually add #pixelart to the prompt.\n",
        "#@markdown If PixelDraw is not used, it will use VQGAN instead.\n",
        "#@markdown <br>\n",
        "\n",
        "aspect = \"widescreen\" #@param [\"widescreen\", \"square\"]\n",
        "\n",
        "use_pixeldraw = True #@param {type:\"boolean\"}\n",
        "\n",
        "#@markdown When you have the settings you want, press the play button on the left.\n",
        "#@markdown The system will save these and start generating images below.\n",
        "\n",
        "#@markdown When that is done you can change these\n",
        "#@markdown settings and see if you get different results. Or if you get\n",
        "#@markdown impatient, just select \"Runtime -> Interrupt Execution\".\n",
        "#@markdown Note that the first time you run it may take a bit longer\n",
        "#@markdown as nessary files are downloaded.\n",
        "\n",
        "\n",
        "#@markdown\n",
        "#@markdown *Advanced: you can also edit this cell and add add additional\n",
        "#@markdown settings, combining settings from different notebooks.*\n",
        "\n",
        "\n",
        "# Simple setup\n",
        "import clipit\n",
        "\n",
        "# these are good settings for pixeldraw\n",
        "clipit.reset_settings()\n",
        "clipit.add_settings(prompts=prompts, aspect=aspect)\n",
        "clipit.add_settings(quality=\"better\", scale=2.5)\n",
        "clipit.add_settings(use_pixeldraw=use_pixeldraw)\n",
        "\n",
        "#### YOU CAN ADD YOUR OWN CUSTOM SETTING HERE ####\n",
        "# this is the example of how to run longer with less frequent display\n",
        "clipit.add_settings(iterations=500, display_every=50, save_every=5, make_video=True, output=output_path+\"/output.png\")\n",
        "\n",
        "settings = clipit.apply_settings()\n",
        "clipit.do_init(settings)\n",
        "clipit.do_run(settings)\n"
      ],
      "execution_count": 5,
      "outputs": [
        {
          "output_type": "error",
          "ename": "NameError",
          "evalue": "ignored",
          "traceback": [
            "\u001b[0;31m---------------------------------------------------------------------------\u001b[0m",
            "\u001b[0;31mNameError\u001b[0m                                 Traceback (most recent call last)",
            "\u001b[0;32m<ipython-input-5-e07db4d0b3d4>\u001b[0m in \u001b[0;36m<module>\u001b[0;34m()\u001b[0m\n\u001b[1;32m     40\u001b[0m \u001b[0;34m\u001b[0m\u001b[0m\n\u001b[1;32m     41\u001b[0m \u001b[0msettings\u001b[0m \u001b[0;34m=\u001b[0m \u001b[0mclipit\u001b[0m\u001b[0;34m.\u001b[0m\u001b[0mapply_settings\u001b[0m\u001b[0;34m(\u001b[0m\u001b[0;34m)\u001b[0m\u001b[0;34m\u001b[0m\u001b[0;34m\u001b[0m\u001b[0m\n\u001b[0;32m---> 42\u001b[0;31m \u001b[0mclipit\u001b[0m\u001b[0;34m.\u001b[0m\u001b[0mdo_init\u001b[0m\u001b[0;34m(\u001b[0m\u001b[0msettings\u001b[0m\u001b[0;34m)\u001b[0m\u001b[0;34m\u001b[0m\u001b[0;34m\u001b[0m\u001b[0m\n\u001b[0m\u001b[1;32m     43\u001b[0m \u001b[0mclipit\u001b[0m\u001b[0;34m.\u001b[0m\u001b[0mdo_run\u001b[0m\u001b[0;34m(\u001b[0m\u001b[0msettings\u001b[0m\u001b[0;34m)\u001b[0m\u001b[0;34m\u001b[0m\u001b[0;34m\u001b[0m\u001b[0m\n",
            "\u001b[0;32m/content/clipit/clipit.py\u001b[0m in \u001b[0;36mdo_init\u001b[0;34m(args)\u001b[0m\n\u001b[1;32m    373\u001b[0m             \u001b[0mdrawer\u001b[0m \u001b[0;34m=\u001b[0m \u001b[0mPixelDrawer\u001b[0m\u001b[0;34m(\u001b[0m\u001b[0margs\u001b[0m\u001b[0;34m.\u001b[0m\u001b[0msize\u001b[0m\u001b[0;34m[\u001b[0m\u001b[0;36m0\u001b[0m\u001b[0;34m]\u001b[0m\u001b[0;34m,\u001b[0m \u001b[0margs\u001b[0m\u001b[0;34m.\u001b[0m\u001b[0msize\u001b[0m\u001b[0;34m[\u001b[0m\u001b[0;36m1\u001b[0m\u001b[0;34m]\u001b[0m\u001b[0;34m,\u001b[0m \u001b[0margs\u001b[0m\u001b[0;34m.\u001b[0m\u001b[0mdo_mono\u001b[0m\u001b[0;34m,\u001b[0m \u001b[0;34m[\u001b[0m\u001b[0;36m40\u001b[0m\u001b[0;34m,\u001b[0m \u001b[0;36m40\u001b[0m\u001b[0;34m]\u001b[0m\u001b[0;34m)\u001b[0m\u001b[0;34m\u001b[0m\u001b[0;34m\u001b[0m\u001b[0m\n\u001b[1;32m    374\u001b[0m         \u001b[0;32melse\u001b[0m\u001b[0;34m:\u001b[0m\u001b[0;34m\u001b[0m\u001b[0;34m\u001b[0m\u001b[0m\n\u001b[0;32m--> 375\u001b[0;31m             \u001b[0mdrawer\u001b[0m \u001b[0;34m=\u001b[0m \u001b[0mPixelDrawer\u001b[0m\u001b[0;34m(\u001b[0m\u001b[0margs\u001b[0m\u001b[0;34m.\u001b[0m\u001b[0msize\u001b[0m\u001b[0;34m[\u001b[0m\u001b[0;36m0\u001b[0m\u001b[0;34m]\u001b[0m\u001b[0;34m,\u001b[0m \u001b[0margs\u001b[0m\u001b[0;34m.\u001b[0m\u001b[0msize\u001b[0m\u001b[0;34m[\u001b[0m\u001b[0;36m1\u001b[0m\u001b[0;34m]\u001b[0m\u001b[0;34m,\u001b[0m \u001b[0margs\u001b[0m\u001b[0;34m.\u001b[0m\u001b[0mdo_mono\u001b[0m\u001b[0;34m)\u001b[0m\u001b[0;34m\u001b[0m\u001b[0;34m\u001b[0m\u001b[0m\n\u001b[0m\u001b[1;32m    376\u001b[0m     \u001b[0;32melse\u001b[0m\u001b[0;34m:\u001b[0m\u001b[0;34m\u001b[0m\u001b[0;34m\u001b[0m\u001b[0m\n\u001b[1;32m    377\u001b[0m         \u001b[0mdrawer\u001b[0m \u001b[0;34m=\u001b[0m \u001b[0mVqganDrawer\u001b[0m\u001b[0;34m(\u001b[0m\u001b[0margs\u001b[0m\u001b[0;34m.\u001b[0m\u001b[0mvqgan_model\u001b[0m\u001b[0;34m)\u001b[0m\u001b[0;34m\u001b[0m\u001b[0;34m\u001b[0m\u001b[0m\n",
            "\u001b[0;31mNameError\u001b[0m: name 'PixelDrawer' is not defined"
          ]
        }
      ]
    }
  ]
}