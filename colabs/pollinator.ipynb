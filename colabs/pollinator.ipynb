{
  "nbformat": 4,
  "nbformat_minor": 0,
  "metadata": {
    "colab": {
      "name": "Pollinator",
      "provenance": [],
      "collapsed_sections": [],
      "include_colab_link": true
    },
    "kernelspec": {
      "name": "python3",
      "display_name": "Python 3"
    }
  },
  "cells": [
    {
      "cell_type": "markdown",
      "metadata": {
        "id": "view-in-github",
        "colab_type": "text"
      },
      "source": [
        "<a href=\"https://colab.research.google.com/github/voodoohop/pollinations/blob/dev/colabs/pollinator.ipynb\" target=\"_parent\"><img src=\"https://colab.research.google.com/assets/colab-badge.svg\" alt=\"Open In Colab\"/></a>"
      ]
    },
    {
      "cell_type": "markdown",
      "metadata": {
        "id": "z8RkOYkzmGDW"
      },
      "source": [
        "## Code (Frontend and IPFS Connection)"
      ]
    },
    {
      "cell_type": "code",
      "metadata": {
        "id": "3PiLb9pJVe0R"
      },
      "source": [
        "!killall -9 ipfs"
      ],
      "execution_count": 9,
      "outputs": []
    },
    {
      "cell_type": "code",
      "metadata": {
        "id": "9j1zUbMN4VDP",
        "colab": {
          "base_uri": "https://localhost:8080/"
        },
        "outputId": "c39d02bc-7fe6-4302-dab0-cec0d57836af"
      },
      "source": [
        "#@title Install IPFS\n",
        "\n",
        "!pip install coolname gdown papermill\n",
        "#!pip install asyncio nest-asyncio coolname aioipfs\n",
        "#!pip install ipfshttpclient\n",
        "#!npm install -g nodemon\n",
        "#!npm install -g voodoohop/pollinations/app\n",
        "\n",
        "\n",
        "%cd /content\n",
        "!git clone https://github.com/voodoohop/pollinations.git\n",
        "%cd /content/pollinations/app\n",
        "!git pull\n",
        "!git checkout dev \n",
        "!git pull\n",
        "!npm install\n",
        "!npm install -g\n",
        "%cd -\n",
        "#!npm install forever -g"
      ],
      "execution_count": 21,
      "outputs": [
        {
          "output_type": "stream",
          "text": [
            "Requirement already satisfied: coolname in /usr/local/lib/python3.7/dist-packages (1.1.0)\n",
            "Requirement already satisfied: gdown in /usr/local/lib/python3.7/dist-packages (3.6.4)\n",
            "Requirement already satisfied: papermill in /usr/local/lib/python3.7/dist-packages (2.3.3)\n",
            "Requirement already satisfied: requests in /usr/local/lib/python3.7/dist-packages (from gdown) (2.23.0)\n",
            "Requirement already satisfied: tqdm in /usr/local/lib/python3.7/dist-packages (from gdown) (4.41.1)\n",
            "Requirement already satisfied: six in /usr/local/lib/python3.7/dist-packages (from gdown) (1.15.0)\n",
            "Requirement already satisfied: black in /usr/local/lib/python3.7/dist-packages (from papermill) (21.5b1)\n",
            "Requirement already satisfied: ansiwrap in /usr/local/lib/python3.7/dist-packages (from papermill) (0.8.4)\n",
            "Requirement already satisfied: nbclient>=0.2.0 in /usr/local/lib/python3.7/dist-packages (from papermill) (0.5.3)\n",
            "Requirement already satisfied: pyyaml in /usr/local/lib/python3.7/dist-packages (from papermill) (3.13)\n",
            "Requirement already satisfied: tenacity in /usr/local/lib/python3.7/dist-packages (from papermill) (7.0.0)\n",
            "Requirement already satisfied: entrypoints in /usr/local/lib/python3.7/dist-packages (from papermill) (0.3)\n",
            "Requirement already satisfied: nbformat>=5.1.2 in /usr/local/lib/python3.7/dist-packages (from papermill) (5.1.3)\n",
            "Requirement already satisfied: click in /usr/local/lib/python3.7/dist-packages (from papermill) (8.0.0)\n",
            "Requirement already satisfied: urllib3!=1.25.0,!=1.25.1,<1.26,>=1.21.1 in /usr/local/lib/python3.7/dist-packages (from requests->gdown) (1.24.3)\n",
            "Requirement already satisfied: chardet<4,>=3.0.2 in /usr/local/lib/python3.7/dist-packages (from requests->gdown) (3.0.4)\n",
            "Requirement already satisfied: idna<3,>=2.5 in /usr/local/lib/python3.7/dist-packages (from requests->gdown) (2.10)\n",
            "Requirement already satisfied: certifi>=2017.4.17 in /usr/local/lib/python3.7/dist-packages (from requests->gdown) (2020.12.5)\n",
            "Requirement already satisfied: appdirs in /usr/local/lib/python3.7/dist-packages (from black->papermill) (1.4.4)\n",
            "Requirement already satisfied: mypy-extensions>=0.4.3 in /usr/local/lib/python3.7/dist-packages (from black->papermill) (0.4.3)\n",
            "Requirement already satisfied: regex>=2020.1.8 in /usr/local/lib/python3.7/dist-packages (from black->papermill) (2021.4.4)\n",
            "Requirement already satisfied: pathspec<1,>=0.8.1 in /usr/local/lib/python3.7/dist-packages (from black->papermill) (0.8.1)\n",
            "Requirement already satisfied: toml>=0.10.1 in /usr/local/lib/python3.7/dist-packages (from black->papermill) (0.10.2)\n",
            "Requirement already satisfied: typed-ast>=1.4.2; python_version < \"3.8\" in /usr/local/lib/python3.7/dist-packages (from black->papermill) (1.4.3)\n",
            "Requirement already satisfied: typing-extensions>=3.7.4; python_version < \"3.8\" in /usr/local/lib/python3.7/dist-packages (from black->papermill) (3.7.4.3)\n",
            "Requirement already satisfied: textwrap3>=0.9.2 in /usr/local/lib/python3.7/dist-packages (from ansiwrap->papermill) (0.9.2)\n",
            "Requirement already satisfied: async-generator in /usr/local/lib/python3.7/dist-packages (from nbclient>=0.2.0->papermill) (1.10)\n",
            "Requirement already satisfied: nest-asyncio in /usr/local/lib/python3.7/dist-packages (from nbclient>=0.2.0->papermill) (1.5.1)\n",
            "Requirement already satisfied: jupyter-client>=6.1.5 in /usr/local/lib/python3.7/dist-packages (from nbclient>=0.2.0->papermill) (6.1.12)\n",
            "Requirement already satisfied: traitlets>=4.2 in /usr/local/lib/python3.7/dist-packages (from nbclient>=0.2.0->papermill) (5.0.5)\n",
            "Requirement already satisfied: jsonschema!=2.5.0,>=2.4 in /usr/local/lib/python3.7/dist-packages (from nbformat>=5.1.2->papermill) (2.6.0)\n",
            "Requirement already satisfied: ipython-genutils in /usr/local/lib/python3.7/dist-packages (from nbformat>=5.1.2->papermill) (0.2.0)\n",
            "Requirement already satisfied: jupyter-core in /usr/local/lib/python3.7/dist-packages (from nbformat>=5.1.2->papermill) (4.7.1)\n",
            "Requirement already satisfied: python-dateutil>=2.1 in /usr/local/lib/python3.7/dist-packages (from jupyter-client>=6.1.5->nbclient>=0.2.0->papermill) (2.8.1)\n",
            "Requirement already satisfied: tornado>=4.1 in /usr/local/lib/python3.7/dist-packages (from jupyter-client>=6.1.5->nbclient>=0.2.0->papermill) (5.1.1)\n",
            "Requirement already satisfied: pyzmq>=13 in /usr/local/lib/python3.7/dist-packages (from jupyter-client>=6.1.5->nbclient>=0.2.0->papermill) (22.0.3)\n",
            "/content\n",
            "fatal: destination path 'pollinations' already exists and is not an empty directory.\n",
            "/content/pollinations/app\n",
            "remote: Enumerating objects: 8, done.\u001b[K\n",
            "remote: Counting objects: 100% (8/8), done.\u001b[K\n",
            "remote: Compressing objects: 100% (2/2), done.\u001b[K\n",
            "remote: Total 8 (delta 6), reused 8 (delta 6), pack-reused 0\u001b[K\n",
            "Unpacking objects: 100% (8/8), done.\n",
            "From https://github.com/voodoohop/pollinations\n",
            "   9404c2a..5e85a3d  dev        -> origin/dev\n",
            "Updating 9404c2a..5e85a3d\n",
            "Fast-forward\n",
            " app/src/backend/ipfsWatch.js     | 2 \u001b[32m+\u001b[m\u001b[31m-\u001b[m\n",
            " app/src/network/ipfsConnector.js | 5 \u001b[32m+\u001b[m\u001b[31m----\u001b[m\n",
            " 2 files changed, 2 insertions(+), 5 deletions(-)\n",
            "Already on 'dev'\n",
            "Your branch is up to date with 'origin/dev'.\n",
            "Already up to date.\n",
            "\u001b[K\u001b[?25h\u001b[37;40mnpm\u001b[0m \u001b[0m\u001b[30;43mWARN\u001b[0m\u001b[35m\u001b[0m @babel/plugin-bugfix-v8-spread-parameters-in-optional-chaining@7.13.12 requires a peer of @babel/core@^7.13.0 but none is installed. You must install peer dependencies yourself.\n",
            "\u001b[0m\u001b[37;40mnpm\u001b[0m \u001b[0m\u001b[30;43mWARN\u001b[0m\u001b[35m\u001b[0m tsutils@3.21.0 requires a peer of typescript@>=2.8.0 || >= 3.2.0-dev || >= 3.3.0-dev || >= 3.4.0-dev || >= 3.5.0-dev || >= 3.6.0-dev || >= 3.6.0-beta || >= 3.7.0-dev || >= 3.7.0-beta but none is installed. You must install peer dependencies yourself.\n",
            "\u001b[0m\u001b[37;40mnpm\u001b[0m \u001b[0m\u001b[30;43mWARN\u001b[0m\u001b[35m\u001b[0m pollinations@0.4.5 No description\n",
            "\u001b[0m\u001b[37;40mnpm\u001b[0m \u001b[0m\u001b[30;43mWARN\u001b[0m\u001b[35m\u001b[0m pollinations@0.4.5 No repository field.\n",
            "\u001b[0m\u001b[37;40mnpm\u001b[0m \u001b[0m\u001b[30;43mWARN\u001b[0m\u001b[35m\u001b[0m pollinations@0.4.5 No license field.\n",
            "\u001b[0m\u001b[37;40mnpm\u001b[0m \u001b[0m\u001b[30;43mWARN\u001b[0m \u001b[0m\u001b[35moptional\u001b[0m SKIPPING OPTIONAL DEPENDENCY: fsevents@2.3.2 (node_modules/fsevents):\n",
            "\u001b[0m\u001b[37;40mnpm\u001b[0m \u001b[0m\u001b[30;43mWARN\u001b[0m \u001b[0m\u001b[35mnotsup\u001b[0m SKIPPING OPTIONAL DEPENDENCY: Unsupported platform for fsevents@2.3.2: wanted {\"os\":\"darwin\",\"arch\":\"any\"} (current: {\"os\":\"linux\",\"arch\":\"x64\"})\n",
            "\u001b[0m\u001b[37;40mnpm\u001b[0m \u001b[0m\u001b[30;43mWARN\u001b[0m \u001b[0m\u001b[35moptional\u001b[0m SKIPPING OPTIONAL DEPENDENCY: fsevents@1.2.13 (node_modules/watchpack-chokidar2/node_modules/fsevents):\n",
            "\u001b[0m\u001b[37;40mnpm\u001b[0m \u001b[0m\u001b[30;43mWARN\u001b[0m \u001b[0m\u001b[35mnotsup\u001b[0m SKIPPING OPTIONAL DEPENDENCY: Unsupported platform for fsevents@1.2.13: wanted {\"os\":\"darwin\",\"arch\":\"any\"} (current: {\"os\":\"linux\",\"arch\":\"x64\"})\n",
            "\u001b[0m\u001b[37;40mnpm\u001b[0m \u001b[0m\u001b[30;43mWARN\u001b[0m \u001b[0m\u001b[35moptional\u001b[0m SKIPPING OPTIONAL DEPENDENCY: fsevents@1.2.13 (node_modules/webpack-dev-server/node_modules/fsevents):\n",
            "\u001b[0m\u001b[37;40mnpm\u001b[0m \u001b[0m\u001b[30;43mWARN\u001b[0m \u001b[0m\u001b[35mnotsup\u001b[0m SKIPPING OPTIONAL DEPENDENCY: Unsupported platform for fsevents@1.2.13: wanted {\"os\":\"darwin\",\"arch\":\"any\"} (current: {\"os\":\"linux\",\"arch\":\"x64\"})\n",
            "\u001b[0m\n",
            "\u001b[K\u001b[?25haudited 2165 packages in 16.216s\n",
            "\n",
            "147 packages are looking for funding\n",
            "  run `npm fund` for details\n",
            "\n",
            "found 79 \u001b[93mmoderate\u001b[0m severity vulnerabilities\n",
            "  run `npm audit fix` to fix them, or `npm audit` for details\n",
            "\u001b[K\u001b[?25h\u001b[37;40mnpm\u001b[0m \u001b[0m\u001b[30;43mWARN\u001b[0m \u001b[0m\u001b[35mdeprecated\u001b[0m fsevents@1.2.13: fsevents 1 will break on node v14+ and could be using insecure binaries. Upgrade to fsevents 2.\n",
            "\u001b[K\u001b[?25h/tools/node/bin/pollinate -> /tools/node/lib/node_modules/pollinations/src/backend/ipfsWatch.js\n",
            "\u001b[37;40mnpm\u001b[0m \u001b[0m\u001b[30;43mWARN\u001b[0m \u001b[0m\u001b[35moptional\u001b[0m SKIPPING OPTIONAL DEPENDENCY: fsevents@~2.3.1 (node_modules/pollinations/node_modules/chokidar/node_modules/fsevents):\n",
            "\u001b[0m\u001b[37;40mnpm\u001b[0m \u001b[0m\u001b[30;43mWARN\u001b[0m \u001b[0m\u001b[35mnotsup\u001b[0m SKIPPING OPTIONAL DEPENDENCY: Unsupported platform for fsevents@2.3.2: wanted {\"os\":\"darwin\",\"arch\":\"any\"} (current: {\"os\":\"linux\",\"arch\":\"x64\"})\n",
            "\u001b[0m\u001b[37;40mnpm\u001b[0m \u001b[0m\u001b[30;43mWARN\u001b[0m \u001b[0m\u001b[35moptional\u001b[0m SKIPPING OPTIONAL DEPENDENCY: fsevents@^1.2.7 (node_modules/pollinations/node_modules/watchpack-chokidar2/node_modules/chokidar/node_modules/fsevents):\n",
            "\u001b[0m\u001b[37;40mnpm\u001b[0m \u001b[0m\u001b[30;43mWARN\u001b[0m \u001b[0m\u001b[35mnotsup\u001b[0m SKIPPING OPTIONAL DEPENDENCY: Unsupported platform for fsevents@1.2.13: wanted {\"os\":\"darwin\",\"arch\":\"any\"} (current: {\"os\":\"linux\",\"arch\":\"x64\"})\n",
            "\u001b[0m\u001b[37;40mnpm\u001b[0m \u001b[0m\u001b[30;43mWARN\u001b[0m \u001b[0m\u001b[35moptional\u001b[0m SKIPPING OPTIONAL DEPENDENCY: fsevents@^1.2.7 (node_modules/pollinations/node_modules/webpack-dev-server/node_modules/chokidar/node_modules/fsevents):\n",
            "\u001b[0m\u001b[37;40mnpm\u001b[0m \u001b[0m\u001b[30;43mWARN\u001b[0m \u001b[0m\u001b[35mnotsup\u001b[0m SKIPPING OPTIONAL DEPENDENCY: Unsupported platform for fsevents@1.2.13: wanted {\"os\":\"darwin\",\"arch\":\"any\"} (current: {\"os\":\"linux\",\"arch\":\"x64\"})\n",
            "\u001b[0m\u001b[37;40mnpm\u001b[0m \u001b[0m\u001b[30;43mWARN\u001b[0m\u001b[35m\u001b[0m @babel/plugin-bugfix-v8-spread-parameters-in-optional-chaining@7.13.12 requires a peer of @babel/core@^7.13.0 but none is installed. You must install peer dependencies yourself.\n",
            "\u001b[0m\u001b[37;40mnpm\u001b[0m \u001b[0m\u001b[30;43mWARN\u001b[0m\u001b[35m\u001b[0m tsutils@3.21.0 requires a peer of typescript@>=2.8.0 || >= 3.2.0-dev || >= 3.3.0-dev || >= 3.4.0-dev || >= 3.5.0-dev || >= 3.6.0-dev || >= 3.6.0-beta || >= 3.7.0-dev || >= 3.7.0-beta but none is installed. You must install peer dependencies yourself.\n",
            "\u001b[0m\n",
            "+ pollinations@0.4.5\n",
            "updated 1 package in 11.654s\n",
            "/content\n"
          ],
          "name": "stdout"
        }
      ]
    },
    {
      "cell_type": "code",
      "metadata": {
        "id": "RcWlME-DwhrS",
        "colab": {
          "base_uri": "https://localhost:8080/"
        },
        "outputId": "a3c8ee72-9b3f-4b9c-e243-ee31fd871655"
      },
      "source": [
        "#@title Config\n",
        "from coolname import generate_slug\n",
        "#ipfs_nodeid = generate_slug(2)#asyncio.run(loop.create_task(get_node_id()))\n",
        "IPFS_PEER = \"ipfs.pollinations.ai\"\n",
        "ipfs_root = \"/content/ipfs_root\"\n",
        "\n",
        "print(f\"---Settings---\\nIPFS_ROOT: {ipfs_root}\\nIPFS_PEER: {IPFS_PEER}\")"
      ],
      "execution_count": 22,
      "outputs": [
        {
          "output_type": "stream",
          "text": [
            "---Settings---\n",
            "IPFS_ROOT: /content/ipfs_root\n",
            "IPFS_PEER: ipfs.pollinations.ai\n"
          ],
          "name": "stdout"
        }
      ]
    },
    {
      "cell_type": "code",
      "metadata": {
        "id": "pWfAE_iqBMdB",
        "colab": {
          "base_uri": "https://localhost:8080/"
        },
        "outputId": "45aa18d0-3296-4b5c-cb4e-328dafdcb023"
      },
      "source": [
        "#@title Empty and create ipfs root: */content/ipfs*\n",
        "\n",
        "\n",
        "\n",
        "!rm -r $ipfs_root\n",
        "!mkdir -p $ipfs_root/input\n",
        "!mkdir -p $ipfs_root/output\n",
        "!echo \"Created IPFS resource\" > $ipfs_root/output/log\n",
        "\n",
        "parameters={\"bla\":2}\n",
        "for key, default in parameters.items():\n",
        "    print(default, file=open(f\"{ipfs_root}/input/{key}\", 'a'))\n",
        "\n"
      ],
      "execution_count": 7,
      "outputs": [
        {
          "output_type": "stream",
          "text": [
            "rm: cannot remove '/content/ipfs_root': No such file or directory\n"
          ],
          "name": "stdout"
        }
      ]
    },
    {
      "cell_type": "code",
      "metadata": {
        "id": "hH76cPjgwZBJ",
        "colab": {
          "base_uri": "https://localhost:8080/"
        },
        "outputId": "85d8d413-a973-4537-88f7-54656f0fdf9f"
      },
      "source": [
        "!wget https://dist.ipfs.io/go-ipfs/v0.8.0/go-ipfs_v0.8.0_linux-amd64.tar.gz\n",
        "!tar -xvzf go-ipfs_v0.8.0_linux-amd64.tar.gz\n",
        "%cd go-ipfs\n",
        "!sudo bash install.sh\n",
        "%cd -\n",
        "!ipfs init --profile test\n",
        "#!mkdir -p /ipfs\n",
        "#!mkdir -p /ipns\n",
        "!ipfs config Addresses.API /ip4/0.0.0.0/tcp/5001\n",
        "!ipfs config --json API.HTTPHeaders.Access-Control-Allow-Origin '[\"*\"]'\n",
        "!nohup ipfs daemon --enable-namesys-pubsub --enable-pubsub-experiment  &\n",
        "!sleep 15\n",
        "!ipfs swarm connect /ip4/18.157.205.205/tcp/4001/p2p/12D3KooWDwQ1R9ZmDRv8aWL4dJ4svS9AYvwfJicQ1F45W5aHAVmy\n",
        "\n"
      ],
      "execution_count": 9,
      "outputs": [
        {
          "output_type": "stream",
          "text": [
            "--2021-05-24 08:44:20--  https://dist.ipfs.io/go-ipfs/v0.8.0/go-ipfs_v0.8.0_linux-amd64.tar.gz\n",
            "Resolving dist.ipfs.io (dist.ipfs.io)... 209.94.78.1, 2602:fea2:3::1\n",
            "Connecting to dist.ipfs.io (dist.ipfs.io)|209.94.78.1|:443... connected.\n",
            "HTTP request sent, awaiting response... 200 OK\n",
            "Length: 25904633 (25M) [application/gzip]\n",
            "Saving to: ‘go-ipfs_v0.8.0_linux-amd64.tar.gz.1’\n",
            "\n",
            "go-ipfs_v0.8.0_linu 100%[===================>]  24.70M  10.7MB/s    in 2.3s    \n",
            "\n",
            "2021-05-24 08:44:23 (10.7 MB/s) - ‘go-ipfs_v0.8.0_linux-amd64.tar.gz.1’ saved [25904633/25904633]\n",
            "\n",
            "go-ipfs/install.sh\n",
            "go-ipfs/ipfs\n",
            "go-ipfs/LICENSE\n",
            "go-ipfs/LICENSE-APACHE\n",
            "go-ipfs/LICENSE-MIT\n",
            "go-ipfs/README.md\n",
            "/content/go-ipfs\n",
            "Moved ./ipfs to /usr/local/bin\n",
            "/content\n",
            "Error: ipfs daemon is running. please stop it to run this command\n",
            "Use 'ipfs init --help' for information about this command\n",
            "nohup: appending output to 'nohup.out'\n",
            "connect 12D3KooWDwQ1R9ZmDRv8aWL4dJ4svS9AYvwfJicQ1F45W5aHAVmy success\n"
          ],
          "name": "stdout"
        }
      ]
    },
    {
      "cell_type": "code",
      "metadata": {
        "id": "I2TUR4jTc15O",
        "colab": {
          "base_uri": "https://localhost:8080/"
        },
        "outputId": "337cb16a-f17d-400a-c066-591216a1f854"
      },
      "source": [
        "from os.path import join\n",
        "\n",
        "\n",
        "notebook_path = join(ipfs_root,\"latentvisions.ipynb\")\n",
        "notebook_params_path = join(ipfs_root,\"parameters.json\")\n",
        "\n",
        "!gdown --id 1zOA0bUJ68zuZXcbCoN2LPNjnkvxzFpv_ -O $notebook_path\n",
        "\n",
        "!python pollinations/pollinations/get_params.py $notebook_path > $notebook_params_path"
      ],
      "execution_count": 23,
      "outputs": [
        {
          "output_type": "stream",
          "text": [
            "Downloading...\n",
            "From: https://drive.google.com/uc?id=1zOA0bUJ68zuZXcbCoN2LPNjnkvxzFpv_\n",
            "To: /content/ipfs_root/latentvisions.ipynb\n",
            "\r  0% 0.00/20.2k [00:00<?, ?B/s]\r100% 20.2k/20.2k [00:00<00:00, 8.75MB/s]\n"
          ],
          "name": "stdout"
        }
      ]
    },
    {
      "cell_type": "code",
      "metadata": {
        "colab": {
          "base_uri": "https://localhost:8080/",
          "height": 443
        },
        "id": "fkHiUZqQ8EtE",
        "outputId": "98aae69e-8cc9-4248-d806-51d679f78ca1"
      },
      "source": [
        "!echo $ipfs_root\n",
        "content_id=!ipfs add -r -Q $ipfs_root\n",
        "content_id=content_id[0]\n",
        "node_id=!ipfs name publish -Q --offline /ipfs/$content_id\n",
        "node_id=node_id[0]\n",
        "\n",
        "#!ipfs pubsub pub $node_id $content_id\n",
        "print(content_id,node_id)"
      ],
      "execution_count": 33,
      "outputs": [
        {
          "output_type": "stream",
          "text": [
            "/content/ipfs_root\n"
          ],
          "name": "stdout"
        },
        {
          "output_type": "error",
          "ename": "KeyboardInterrupt",
          "evalue": "ignored",
          "traceback": [
            "\u001b[0;31m---------------------------------------------------------------------------\u001b[0m",
            "\u001b[0;31mKeyboardInterrupt\u001b[0m                         Traceback (most recent call last)",
            "\u001b[0;32m<ipython-input-33-7609dc59a15d>\u001b[0m in \u001b[0;36m<module>\u001b[0;34m()\u001b[0m\n\u001b[1;32m      1\u001b[0m \u001b[0mget_ipython\u001b[0m\u001b[0;34m(\u001b[0m\u001b[0;34m)\u001b[0m\u001b[0;34m.\u001b[0m\u001b[0msystem\u001b[0m\u001b[0;34m(\u001b[0m\u001b[0;34m'echo $ipfs_root'\u001b[0m\u001b[0;34m)\u001b[0m\u001b[0;34m\u001b[0m\u001b[0;34m\u001b[0m\u001b[0m\n\u001b[0;32m----> 2\u001b[0;31m \u001b[0mcontent_id\u001b[0m \u001b[0;34m=\u001b[0m \u001b[0mget_ipython\u001b[0m\u001b[0;34m(\u001b[0m\u001b[0;34m)\u001b[0m\u001b[0;34m.\u001b[0m\u001b[0mgetoutput\u001b[0m\u001b[0;34m(\u001b[0m\u001b[0;34m'ipfs add -r -Q $ipfs_root'\u001b[0m\u001b[0;34m)\u001b[0m\u001b[0;34m\u001b[0m\u001b[0;34m\u001b[0m\u001b[0m\n\u001b[0m\u001b[1;32m      3\u001b[0m \u001b[0mcontent_id\u001b[0m\u001b[0;34m=\u001b[0m\u001b[0mcontent_id\u001b[0m\u001b[0;34m[\u001b[0m\u001b[0;36m0\u001b[0m\u001b[0;34m]\u001b[0m\u001b[0;34m\u001b[0m\u001b[0;34m\u001b[0m\u001b[0m\n\u001b[1;32m      4\u001b[0m \u001b[0mnode_id\u001b[0m \u001b[0;34m=\u001b[0m \u001b[0mget_ipython\u001b[0m\u001b[0;34m(\u001b[0m\u001b[0;34m)\u001b[0m\u001b[0;34m.\u001b[0m\u001b[0mgetoutput\u001b[0m\u001b[0;34m(\u001b[0m\u001b[0;34m'ipfs name publish -Q --offline /ipfs/$content_id'\u001b[0m\u001b[0;34m)\u001b[0m\u001b[0;34m\u001b[0m\u001b[0;34m\u001b[0m\u001b[0m\n\u001b[1;32m      5\u001b[0m \u001b[0mnode_id\u001b[0m\u001b[0;34m=\u001b[0m\u001b[0mnode_id\u001b[0m\u001b[0;34m[\u001b[0m\u001b[0;36m0\u001b[0m\u001b[0;34m]\u001b[0m\u001b[0;34m\u001b[0m\u001b[0;34m\u001b[0m\u001b[0m\n",
            "\u001b[0;32m/usr/local/lib/python3.7/dist-packages/google/colab/_shell.py\u001b[0m in \u001b[0;36mgetoutput\u001b[0;34m(self, *args, **kwargs)\u001b[0m\n\u001b[1;32m     83\u001b[0m       \u001b[0;32mreturn\u001b[0m \u001b[0msuper\u001b[0m\u001b[0;34m(\u001b[0m\u001b[0mShell\u001b[0m\u001b[0;34m,\u001b[0m \u001b[0mself\u001b[0m\u001b[0;34m)\u001b[0m\u001b[0;34m.\u001b[0m\u001b[0mgetoutput\u001b[0m\u001b[0;34m(\u001b[0m\u001b[0;34m*\u001b[0m\u001b[0margs\u001b[0m\u001b[0;34m,\u001b[0m \u001b[0;34m**\u001b[0m\u001b[0mkwargs\u001b[0m\u001b[0;34m)\u001b[0m\u001b[0;34m\u001b[0m\u001b[0;34m\u001b[0m\u001b[0m\n\u001b[1;32m     84\u001b[0m \u001b[0;34m\u001b[0m\u001b[0m\n\u001b[0;32m---> 85\u001b[0;31m     \u001b[0moutput\u001b[0m \u001b[0;34m=\u001b[0m \u001b[0m_system_commands\u001b[0m\u001b[0;34m.\u001b[0m\u001b[0m_getoutput_compat\u001b[0m\u001b[0;34m(\u001b[0m\u001b[0mself\u001b[0m\u001b[0;34m,\u001b[0m \u001b[0;34m*\u001b[0m\u001b[0margs\u001b[0m\u001b[0;34m,\u001b[0m \u001b[0;34m**\u001b[0m\u001b[0mkwargs\u001b[0m\u001b[0;34m)\u001b[0m  \u001b[0;31m# pylint:disable=protected-access\u001b[0m\u001b[0;34m\u001b[0m\u001b[0;34m\u001b[0m\u001b[0m\n\u001b[0m\u001b[1;32m     86\u001b[0m \u001b[0;34m\u001b[0m\u001b[0m\n\u001b[1;32m     87\u001b[0m     \u001b[0;32mif\u001b[0m \u001b[0m_show_pip_warning\u001b[0m\u001b[0;34m(\u001b[0m\u001b[0;34m)\u001b[0m \u001b[0;32mand\u001b[0m \u001b[0m_pip\u001b[0m\u001b[0;34m.\u001b[0m\u001b[0mis_pip_install_command\u001b[0m\u001b[0;34m(\u001b[0m\u001b[0;34m*\u001b[0m\u001b[0margs\u001b[0m\u001b[0;34m,\u001b[0m \u001b[0;34m**\u001b[0m\u001b[0mkwargs\u001b[0m\u001b[0;34m)\u001b[0m\u001b[0;34m:\u001b[0m\u001b[0;34m\u001b[0m\u001b[0;34m\u001b[0m\u001b[0m\n",
            "\u001b[0;32m/usr/local/lib/python3.7/dist-packages/google/colab/_system_commands.py\u001b[0m in \u001b[0;36m_getoutput_compat\u001b[0;34m(shell, cmd, split, depth)\u001b[0m\n\u001b[1;32m    407\u001b[0m   \u001b[0;31m# stack.\u001b[0m\u001b[0;34m\u001b[0m\u001b[0;34m\u001b[0m\u001b[0;34m\u001b[0m\u001b[0m\n\u001b[1;32m    408\u001b[0m   result = _run_command(\n\u001b[0;32m--> 409\u001b[0;31m       shell.var_expand(cmd, depth=depth + 2), clear_streamed_output=True)\n\u001b[0m\u001b[1;32m    410\u001b[0m   \u001b[0;32mif\u001b[0m \u001b[0;34m-\u001b[0m\u001b[0mresult\u001b[0m\u001b[0;34m.\u001b[0m\u001b[0mreturncode\u001b[0m \u001b[0;32min\u001b[0m \u001b[0m_INTERRUPTED_SIGNALS\u001b[0m\u001b[0;34m:\u001b[0m\u001b[0;34m\u001b[0m\u001b[0;34m\u001b[0m\u001b[0m\n\u001b[1;32m    411\u001b[0m     \u001b[0mprint\u001b[0m\u001b[0;34m(\u001b[0m\u001b[0;34m'^C'\u001b[0m\u001b[0;34m)\u001b[0m\u001b[0;34m\u001b[0m\u001b[0;34m\u001b[0m\u001b[0m\n",
            "\u001b[0;32m/usr/local/lib/python3.7/dist-packages/google/colab/_system_commands.py\u001b[0m in \u001b[0;36m_run_command\u001b[0;34m(cmd, clear_streamed_output)\u001b[0m\n\u001b[1;32m    182\u001b[0m     \u001b[0mtemporary_clearer\u001b[0m \u001b[0;34m=\u001b[0m \u001b[0m_tags\u001b[0m\u001b[0;34m.\u001b[0m\u001b[0mtemporary\u001b[0m \u001b[0;32mif\u001b[0m \u001b[0mclear_streamed_output\u001b[0m \u001b[0;32melse\u001b[0m \u001b[0m_no_op\u001b[0m\u001b[0;34m\u001b[0m\u001b[0;34m\u001b[0m\u001b[0m\n\u001b[1;32m    183\u001b[0m \u001b[0;34m\u001b[0m\u001b[0m\n\u001b[0;32m--> 184\u001b[0;31m     with temporary_clearer(), _display_stdin_widget(\n\u001b[0m\u001b[1;32m    185\u001b[0m         delay_millis=500) as update_stdin_widget:\n\u001b[1;32m    186\u001b[0m       \u001b[0;31m# TODO(b/115531839): Ensure that subprocesses are terminated upon\u001b[0m\u001b[0;34m\u001b[0m\u001b[0;34m\u001b[0m\u001b[0;34m\u001b[0m\u001b[0m\n",
            "\u001b[0;32m/usr/lib/python3.7/contextlib.py\u001b[0m in \u001b[0;36m__enter__\u001b[0;34m(self)\u001b[0m\n\u001b[1;32m    110\u001b[0m         \u001b[0;32mdel\u001b[0m \u001b[0mself\u001b[0m\u001b[0;34m.\u001b[0m\u001b[0margs\u001b[0m\u001b[0;34m,\u001b[0m \u001b[0mself\u001b[0m\u001b[0;34m.\u001b[0m\u001b[0mkwds\u001b[0m\u001b[0;34m,\u001b[0m \u001b[0mself\u001b[0m\u001b[0;34m.\u001b[0m\u001b[0mfunc\u001b[0m\u001b[0;34m\u001b[0m\u001b[0;34m\u001b[0m\u001b[0m\n\u001b[1;32m    111\u001b[0m         \u001b[0;32mtry\u001b[0m\u001b[0;34m:\u001b[0m\u001b[0;34m\u001b[0m\u001b[0;34m\u001b[0m\u001b[0m\n\u001b[0;32m--> 112\u001b[0;31m             \u001b[0;32mreturn\u001b[0m \u001b[0mnext\u001b[0m\u001b[0;34m(\u001b[0m\u001b[0mself\u001b[0m\u001b[0;34m.\u001b[0m\u001b[0mgen\u001b[0m\u001b[0;34m)\u001b[0m\u001b[0;34m\u001b[0m\u001b[0;34m\u001b[0m\u001b[0m\n\u001b[0m\u001b[1;32m    113\u001b[0m         \u001b[0;32mexcept\u001b[0m \u001b[0mStopIteration\u001b[0m\u001b[0;34m:\u001b[0m\u001b[0;34m\u001b[0m\u001b[0;34m\u001b[0m\u001b[0m\n\u001b[1;32m    114\u001b[0m             \u001b[0;32mraise\u001b[0m \u001b[0mRuntimeError\u001b[0m\u001b[0;34m(\u001b[0m\u001b[0;34m\"generator didn't yield\"\u001b[0m\u001b[0;34m)\u001b[0m \u001b[0;32mfrom\u001b[0m \u001b[0;32mNone\u001b[0m\u001b[0;34m\u001b[0m\u001b[0;34m\u001b[0m\u001b[0m\n",
            "\u001b[0;32m/usr/local/lib/python3.7/dist-packages/google/colab/output/_tags.py\u001b[0m in \u001b[0;36mtemporary\u001b[0;34m()\u001b[0m\n\u001b[1;32m    199\u001b[0m   \"\"\"\n\u001b[1;32m    200\u001b[0m   \u001b[0mtemptag\u001b[0m \u001b[0;34m=\u001b[0m \u001b[0mstr\u001b[0m\u001b[0;34m(\u001b[0m\u001b[0muuid\u001b[0m\u001b[0;34m.\u001b[0m\u001b[0muuid4\u001b[0m\u001b[0;34m(\u001b[0m\u001b[0;34m)\u001b[0m\u001b[0;34m)\u001b[0m\u001b[0;34m\u001b[0m\u001b[0;34m\u001b[0m\u001b[0m\n\u001b[0;32m--> 201\u001b[0;31m   \u001b[0;32mwith\u001b[0m \u001b[0muse_tags\u001b[0m\u001b[0;34m(\u001b[0m\u001b[0mtemptag\u001b[0m\u001b[0;34m)\u001b[0m\u001b[0;34m:\u001b[0m\u001b[0;34m\u001b[0m\u001b[0;34m\u001b[0m\u001b[0m\n\u001b[0m\u001b[1;32m    202\u001b[0m     \u001b[0;32myield\u001b[0m \u001b[0mtemptag\u001b[0m\u001b[0;34m\u001b[0m\u001b[0;34m\u001b[0m\u001b[0m\n\u001b[1;32m    203\u001b[0m   \u001b[0mclear\u001b[0m\u001b[0;34m(\u001b[0m\u001b[0moutput_tags\u001b[0m\u001b[0;34m=\u001b[0m\u001b[0mtemptag\u001b[0m\u001b[0;34m)\u001b[0m\u001b[0;34m\u001b[0m\u001b[0;34m\u001b[0m\u001b[0m\n",
            "\u001b[0;32m/usr/lib/python3.7/contextlib.py\u001b[0m in \u001b[0;36m__enter__\u001b[0;34m(self)\u001b[0m\n\u001b[1;32m    110\u001b[0m         \u001b[0;32mdel\u001b[0m \u001b[0mself\u001b[0m\u001b[0;34m.\u001b[0m\u001b[0margs\u001b[0m\u001b[0;34m,\u001b[0m \u001b[0mself\u001b[0m\u001b[0;34m.\u001b[0m\u001b[0mkwds\u001b[0m\u001b[0;34m,\u001b[0m \u001b[0mself\u001b[0m\u001b[0;34m.\u001b[0m\u001b[0mfunc\u001b[0m\u001b[0;34m\u001b[0m\u001b[0;34m\u001b[0m\u001b[0m\n\u001b[1;32m    111\u001b[0m         \u001b[0;32mtry\u001b[0m\u001b[0;34m:\u001b[0m\u001b[0;34m\u001b[0m\u001b[0;34m\u001b[0m\u001b[0m\n\u001b[0;32m--> 112\u001b[0;31m             \u001b[0;32mreturn\u001b[0m \u001b[0mnext\u001b[0m\u001b[0;34m(\u001b[0m\u001b[0mself\u001b[0m\u001b[0;34m.\u001b[0m\u001b[0mgen\u001b[0m\u001b[0;34m)\u001b[0m\u001b[0;34m\u001b[0m\u001b[0;34m\u001b[0m\u001b[0m\n\u001b[0m\u001b[1;32m    113\u001b[0m         \u001b[0;32mexcept\u001b[0m \u001b[0mStopIteration\u001b[0m\u001b[0;34m:\u001b[0m\u001b[0;34m\u001b[0m\u001b[0;34m\u001b[0m\u001b[0m\n\u001b[1;32m    114\u001b[0m             \u001b[0;32mraise\u001b[0m \u001b[0mRuntimeError\u001b[0m\u001b[0;34m(\u001b[0m\u001b[0;34m\"generator didn't yield\"\u001b[0m\u001b[0;34m)\u001b[0m \u001b[0;32mfrom\u001b[0m \u001b[0;32mNone\u001b[0m\u001b[0;34m\u001b[0m\u001b[0;34m\u001b[0m\u001b[0m\n",
            "\u001b[0;32m/usr/local/lib/python3.7/dist-packages/google/colab/output/_tags.py\u001b[0m in \u001b[0;36muse_tags\u001b[0;34m(tags, append)\u001b[0m\n\u001b[1;32m    123\u001b[0m     \u001b[0mremove_tags\u001b[0m \u001b[0;34m=\u001b[0m \u001b[0;34m[\u001b[0m\u001b[0;34m]\u001b[0m \u001b[0;32mif\u001b[0m \u001b[0mappend\u001b[0m \u001b[0;32melse\u001b[0m \u001b[0mset\u001b[0m\u001b[0;34m(\u001b[0m\u001b[0mcurrent_tags\u001b[0m\u001b[0;34m)\u001b[0m\u001b[0;34m.\u001b[0m\u001b[0mdifference\u001b[0m\u001b[0;34m(\u001b[0m\u001b[0mtags\u001b[0m\u001b[0;34m)\u001b[0m\u001b[0;34m\u001b[0m\u001b[0;34m\u001b[0m\u001b[0m\n\u001b[1;32m    124\u001b[0m     tags = _add_or_remove_tags(\n\u001b[0;32m--> 125\u001b[0;31m         tags_to_add=added_tags, tags_to_remove=remove_tags)\n\u001b[0m\u001b[1;32m    126\u001b[0m     \u001b[0;32myield\u001b[0m \u001b[0mtags\u001b[0m\u001b[0;34m\u001b[0m\u001b[0;34m\u001b[0m\u001b[0m\n\u001b[1;32m    127\u001b[0m   \u001b[0;32mfinally\u001b[0m\u001b[0;34m:\u001b[0m\u001b[0;34m\u001b[0m\u001b[0;34m\u001b[0m\u001b[0m\n",
            "\u001b[0;32m/usr/local/lib/python3.7/dist-packages/google/colab/output/_tags.py\u001b[0m in \u001b[0;36m_add_or_remove_tags\u001b[0;34m(tags_to_add, tags_to_remove)\u001b[0m\n\u001b[1;32m     40\u001b[0m \u001b[0;34m\u001b[0m\u001b[0m\n\u001b[1;32m     41\u001b[0m   \u001b[0msys\u001b[0m\u001b[0;34m.\u001b[0m\u001b[0mstdout\u001b[0m\u001b[0;34m.\u001b[0m\u001b[0mflush\u001b[0m\u001b[0;34m(\u001b[0m\u001b[0;34m)\u001b[0m\u001b[0;34m\u001b[0m\u001b[0;34m\u001b[0m\u001b[0m\n\u001b[0;32m---> 42\u001b[0;31m   \u001b[0msys\u001b[0m\u001b[0;34m.\u001b[0m\u001b[0mstderr\u001b[0m\u001b[0;34m.\u001b[0m\u001b[0mflush\u001b[0m\u001b[0;34m(\u001b[0m\u001b[0;34m)\u001b[0m\u001b[0;34m\u001b[0m\u001b[0;34m\u001b[0m\u001b[0m\n\u001b[0m\u001b[1;32m     43\u001b[0m \u001b[0;34m\u001b[0m\u001b[0m\n\u001b[1;32m     44\u001b[0m   metadata = {\n",
            "\u001b[0;32m/usr/local/lib/python3.7/dist-packages/ipykernel/iostream.py\u001b[0m in \u001b[0;36mflush\u001b[0;34m(self)\u001b[0m\n\u001b[1;32m    347\u001b[0m                 \u001b[0mself\u001b[0m\u001b[0;34m.\u001b[0m\u001b[0mpub_thread\u001b[0m\u001b[0;34m.\u001b[0m\u001b[0mschedule\u001b[0m\u001b[0;34m(\u001b[0m\u001b[0mevt\u001b[0m\u001b[0;34m.\u001b[0m\u001b[0mset\u001b[0m\u001b[0;34m)\u001b[0m\u001b[0;34m\u001b[0m\u001b[0;34m\u001b[0m\u001b[0m\n\u001b[1;32m    348\u001b[0m                 \u001b[0;31m# and give a timeout to avoid\u001b[0m\u001b[0;34m\u001b[0m\u001b[0;34m\u001b[0m\u001b[0;34m\u001b[0m\u001b[0m\n\u001b[0;32m--> 349\u001b[0;31m                 \u001b[0;32mif\u001b[0m \u001b[0;32mnot\u001b[0m \u001b[0mevt\u001b[0m\u001b[0;34m.\u001b[0m\u001b[0mwait\u001b[0m\u001b[0;34m(\u001b[0m\u001b[0mself\u001b[0m\u001b[0;34m.\u001b[0m\u001b[0mflush_timeout\u001b[0m\u001b[0;34m)\u001b[0m\u001b[0;34m:\u001b[0m\u001b[0;34m\u001b[0m\u001b[0;34m\u001b[0m\u001b[0m\n\u001b[0m\u001b[1;32m    350\u001b[0m                     \u001b[0;31m# write directly to __stderr__ instead of warning because\u001b[0m\u001b[0;34m\u001b[0m\u001b[0;34m\u001b[0m\u001b[0;34m\u001b[0m\u001b[0m\n\u001b[1;32m    351\u001b[0m                     \u001b[0;31m# if this is happening sys.stderr may be the problem.\u001b[0m\u001b[0;34m\u001b[0m\u001b[0;34m\u001b[0m\u001b[0;34m\u001b[0m\u001b[0m\n",
            "\u001b[0;32m/usr/lib/python3.7/threading.py\u001b[0m in \u001b[0;36mwait\u001b[0;34m(self, timeout)\u001b[0m\n\u001b[1;32m    550\u001b[0m             \u001b[0msignaled\u001b[0m \u001b[0;34m=\u001b[0m \u001b[0mself\u001b[0m\u001b[0;34m.\u001b[0m\u001b[0m_flag\u001b[0m\u001b[0;34m\u001b[0m\u001b[0;34m\u001b[0m\u001b[0m\n\u001b[1;32m    551\u001b[0m             \u001b[0;32mif\u001b[0m \u001b[0;32mnot\u001b[0m \u001b[0msignaled\u001b[0m\u001b[0;34m:\u001b[0m\u001b[0;34m\u001b[0m\u001b[0;34m\u001b[0m\u001b[0m\n\u001b[0;32m--> 552\u001b[0;31m                 \u001b[0msignaled\u001b[0m \u001b[0;34m=\u001b[0m \u001b[0mself\u001b[0m\u001b[0;34m.\u001b[0m\u001b[0m_cond\u001b[0m\u001b[0;34m.\u001b[0m\u001b[0mwait\u001b[0m\u001b[0;34m(\u001b[0m\u001b[0mtimeout\u001b[0m\u001b[0;34m)\u001b[0m\u001b[0;34m\u001b[0m\u001b[0;34m\u001b[0m\u001b[0m\n\u001b[0m\u001b[1;32m    553\u001b[0m             \u001b[0;32mreturn\u001b[0m \u001b[0msignaled\u001b[0m\u001b[0;34m\u001b[0m\u001b[0;34m\u001b[0m\u001b[0m\n\u001b[1;32m    554\u001b[0m \u001b[0;34m\u001b[0m\u001b[0m\n",
            "\u001b[0;32m/usr/lib/python3.7/threading.py\u001b[0m in \u001b[0;36mwait\u001b[0;34m(self, timeout)\u001b[0m\n\u001b[1;32m    298\u001b[0m             \u001b[0;32melse\u001b[0m\u001b[0;34m:\u001b[0m\u001b[0;34m\u001b[0m\u001b[0;34m\u001b[0m\u001b[0m\n\u001b[1;32m    299\u001b[0m                 \u001b[0;32mif\u001b[0m \u001b[0mtimeout\u001b[0m \u001b[0;34m>\u001b[0m \u001b[0;36m0\u001b[0m\u001b[0;34m:\u001b[0m\u001b[0;34m\u001b[0m\u001b[0;34m\u001b[0m\u001b[0m\n\u001b[0;32m--> 300\u001b[0;31m                     \u001b[0mgotit\u001b[0m \u001b[0;34m=\u001b[0m \u001b[0mwaiter\u001b[0m\u001b[0;34m.\u001b[0m\u001b[0macquire\u001b[0m\u001b[0;34m(\u001b[0m\u001b[0;32mTrue\u001b[0m\u001b[0;34m,\u001b[0m \u001b[0mtimeout\u001b[0m\u001b[0;34m)\u001b[0m\u001b[0;34m\u001b[0m\u001b[0;34m\u001b[0m\u001b[0m\n\u001b[0m\u001b[1;32m    301\u001b[0m                 \u001b[0;32melse\u001b[0m\u001b[0;34m:\u001b[0m\u001b[0;34m\u001b[0m\u001b[0;34m\u001b[0m\u001b[0m\n\u001b[1;32m    302\u001b[0m                     \u001b[0mgotit\u001b[0m \u001b[0;34m=\u001b[0m \u001b[0mwaiter\u001b[0m\u001b[0;34m.\u001b[0m\u001b[0macquire\u001b[0m\u001b[0;34m(\u001b[0m\u001b[0;32mFalse\u001b[0m\u001b[0;34m)\u001b[0m\u001b[0;34m\u001b[0m\u001b[0;34m\u001b[0m\u001b[0m\n",
            "\u001b[0;31mKeyboardInterrupt\u001b[0m: "
          ]
        }
      ]
    },
    {
      "cell_type": "code",
      "metadata": {
        "id": "A4TYvT7yoGvE",
        "colab": {
          "base_uri": "https://localhost:8080/",
          "height": 175
        },
        "cellView": "form",
        "outputId": "d96f747c-843e-42c7-9beb-5c8c01659e7c"
      },
      "source": [
        "#@title Create connection to frontend UI\n",
        "\n",
        "import IPython\n",
        "from google.colab import output\n",
        "\n",
        "display(IPython.display.Javascript(f'''\n",
        "  const iframe = document.createElement(\"iframe\")\n",
        "  iframe.src = `http://localhost:3000/incolab.html?node={node_id},{content_id}`\n",
        "\n",
        "  document.querySelector(\"#output-area\").appendChild(iframe)\n",
        "'''))\n",
        "\n"
      ],
      "execution_count": 27,
      "outputs": [
        {
          "output_type": "display_data",
          "data": {
            "application/javascript": [
              "\n",
              "  const iframe = document.createElement(\"iframe\")\n",
              "  iframe.src = `http://localhost:3000/incolab.html?node=k51qzi5uqu5dioqjbq3psv0rw2iiz7ic4u88tw0znt6f04ifqrc4ywwwqh120y,QmYxSjgoDm6jSgFFWPKEZtmxaP8dQJeK6hyh2yH7JU2bdX`\n",
              "\n",
              "  document.querySelector(\"#output-area\").appendChild(iframe)\n"
            ],
            "text/plain": [
              "<IPython.core.display.Javascript object>"
            ]
          },
          "metadata": {
            "tags": []
          }
        }
      ]
    },
    {
      "cell_type": "code",
      "metadata": {
        "id": "Dh8r_667U5gc",
        "colab": {
          "base_uri": "https://localhost:8080/"
        },
        "outputId": "6a8d1f40-79b7-486f-b67a-aff4d15c7d94"
      },
      "source": [
        "!ipfs pubsub sub $node_id | DEBUG=* pollinate -p /content/ipfs_root --ipns --receive"
      ],
      "execution_count": 32,
      "outputs": [
        {
          "output_type": "stream",
          "text": [
            "  \u001b[32;1mipfsConnector \u001b[0mConnecting to IPFS http://ipfs.pollinations.ai:5001 \u001b[32m+0ms\u001b[0m\n",
            "  \u001b[32;1mipfsConnector \u001b[0mNodeID Promise { <pending> } \u001b[32m+144ms\u001b[0m\n",
            "  \u001b[31;1mipfsWatch \u001b[0mCLI options {\n",
            "  path: '/content/ipfs_root',\n",
            "  receive: true,\n",
            "  send: false,\n",
            "  once: false,\n",
            "  ipns: true\n",
            "} \u001b[31m+0ms\u001b[0m\n",
            "QmRiC6nzaUxQiYGd3eTZhHPjVG8oY2W2sPf9j5aNq6eADt  \u001b[31;1mipfsWatch \u001b[0mProcessing remote CID QmRiC6nzaUxQiYGd3eTZhHPjVG8oY2W2sPf9j5aNq6eADt \u001b[31m+37s\u001b[0m\n",
            "  \u001b[34;1mipfsState \u001b[0mGetting state for CID QmRiC6nzaUxQiYGd3eTZhHPjVG8oY2W2sPf9j5aNq6eADt \u001b[34m+0ms\u001b[0m\n",
            "  \u001b[31;1mipfsState:_getIPFSState(/) \u001b[0mGetting state for dir root QmRiC6nzaUxQiYGd3eTZhHPjVG8oY2W2sPf9j5aNq6eADt \u001b[31m+0ms\u001b[0m\n",
            "  \u001b[36;1mutils:ipfsls \u001b[0m--- Calling  ipfsls with input QmRiC6nzaUxQiYGd3eTZhHPjVG8oY2W2sPf9j5aNq6eADt \u001b[36m+0ms\u001b[0m\n",
            "  \u001b[36;1mutils:ipfsls \u001b[0m--- In: QmRiC6nzaUxQiYGd3eTZhHPjVG8oY2W2sPf9j5aNq6eADt \u001b[36m+0ms\u001b[0m\n",
            "  \u001b[36;1mutils:ipfsls \u001b[0m--- Out: ipfsls : [\n",
            "  {\n",
            "    name: 'README.md',\n",
            "    path: 'QmRiC6nzaUxQiYGd3eTZhHPjVG8oY2W2sPf9j5aNq6eADt/README.md',\n",
            "    cid: 'QmToji6Yiar29MS8scqikSVzC3d444iiptRjFpSCFSiANe',\n",
            "    type: 'file'\n",
            "  },\n",
            "  {\n",
            "    name: 'input',\n",
            "    path: 'QmRiC6nzaUxQiYGd3eTZhHPjVG8oY2W2sPf9j5aNq6eADt/input',\n",
            "    cid: 'Qmes4vcH44TvRLEDtbXGVnvuqxt6KQWYAKneACUoixoKFn',\n",
            "    type: 'dir'\n",
            "  },\n",
            "  {\n",
            "    name: 'latentvisions.ipynb',\n",
            "    path: 'QmRiC6nzaUxQiYGd3eTZhHPjVG8oY2W2sPf9j5aNq6eADt/latentvisions.ipynb',\n",
            "    cid: 'QmRUbBGSmwki9MJoPmzH23bR4vYXpgY5jwsMGvQkPFecxs',\n",
            "    type: 'file'\n",
            "  },\n",
            "  {\n",
            "    name: 'output',\n",
            "    path: 'QmRiC6nzaUxQiYGd3eTZhHPjVG8oY2W2sPf9j5aNq6eADt/output',\n",
            "    cid: 'QmU5jczrSj1WhiYE95E7KXyPq46oqY7yMmSgM6d4en74va',\n",
            "    type: 'dir'\n",
            "  },\n",
            "  {\n",
            "    name: 'parameters.json',\n",
            "    path: 'QmRiC6nzaUxQiYGd3eTZhHPjVG8oY2W2sPf9j5aNq6eADt/parameters.json',\n",
            "    cid: 'QmWUsLqjfQWch3PCrStT7Y5Zd6VjSTfgNufHjA4S56fFho',\n",
            "    type: 'file'\n",
            "  }\n",
            "] \u001b[36m+603ms\u001b[0m\n",
            "  \u001b[31;1mipfsState:_getIPFSState(/) \u001b[0mGot files for root QmRiC6nzaUxQiYGd3eTZhHPjVG8oY2W2sPf9j5aNq6eADt [\n",
            "  {\n",
            "    name: 'README.md',\n",
            "    path: 'QmRiC6nzaUxQiYGd3eTZhHPjVG8oY2W2sPf9j5aNq6eADt/README.md',\n",
            "    cid: 'QmToji6Yiar29MS8scqikSVzC3d444iiptRjFpSCFSiANe',\n",
            "    type: 'file'\n",
            "  },\n",
            "  {\n",
            "    name: 'input',\n",
            "    path: 'QmRiC6nzaUxQiYGd3eTZhHPjVG8oY2W2sPf9j5aNq6eADt/input',\n",
            "    cid: 'Qmes4vcH44TvRLEDtbXGVnvuqxt6KQWYAKneACUoixoKFn',\n",
            "    type: 'dir'\n",
            "  },\n",
            "  {\n",
            "    name: 'latentvisions.ipynb',\n",
            "    path: 'QmRiC6nzaUxQiYGd3eTZhHPjVG8oY2W2sPf9j5aNq6eADt/latentvisions.ipynb',\n",
            "    cid: 'QmRUbBGSmwki9MJoPmzH23bR4vYXpgY5jwsMGvQkPFecxs',\n",
            "    type: 'file'\n",
            "  },\n",
            "  {\n",
            "    name: 'output',\n",
            "    path: 'QmRiC6nzaUxQiYGd3eTZhHPjVG8oY2W2sPf9j5aNq6eADt/output',\n",
            "    cid: 'QmU5jczrSj1WhiYE95E7KXyPq46oqY7yMmSgM6d4en74va',\n",
            "    type: 'dir'\n",
            "  },\n",
            "  {\n",
            "    name: 'parameters.json',\n",
            "    path: 'QmRiC6nzaUxQiYGd3eTZhHPjVG8oY2W2sPf9j5aNq6eADt/parameters.json',\n",
            "    cid: 'QmWUsLqjfQWch3PCrStT7Y5Zd6VjSTfgNufHjA4S56fFho',\n",
            "    type: 'file'\n",
            "  }\n",
            "] \u001b[31m+604ms\u001b[0m\n",
            "  \u001b[35;1mipfsState:_getIPFSState(/README.md) \u001b[0mGetting state for file README.md QmToji6Yiar29MS8scqikSVzC3d444iiptRjFpSCFSiANe \u001b[35m+0ms\u001b[0m\n",
            "  \u001b[34;1mipfsWatch:processFile(/README.md) \u001b[0mstarted \u001b[34m+0ms\u001b[0m\n",
            "  \u001b[34;1mipfsWatch:processFile(/README.md) \u001b[0mwriteFile /content/ipfs_root/README.md QmToji6Yiar29MS8scqikSVzC3d444iiptRjFpSCFSiANe queued \u001b[34m+0ms\u001b[0m\n",
            "  \u001b[34;1mipfsState:_getIPFSState(/input) \u001b[0mGetting state for dir input Qmes4vcH44TvRLEDtbXGVnvuqxt6KQWYAKneACUoixoKFn \u001b[34m+0ms\u001b[0m\n",
            "  \u001b[36;1mutils:ipfsls \u001b[0m--- Calling  ipfsls with input Qmes4vcH44TvRLEDtbXGVnvuqxt6KQWYAKneACUoixoKFn \u001b[36m+0ms\u001b[0m\n",
            "  \u001b[36;1mutils:ipfsls \u001b[0m--- In: Qmes4vcH44TvRLEDtbXGVnvuqxt6KQWYAKneACUoixoKFn \u001b[36m+0ms\u001b[0m\n",
            "  \u001b[35;1mipfsState:_getIPFSState(/latentvisions.ipynb) \u001b[0mGetting state for file latentvisions.ipynb QmRUbBGSmwki9MJoPmzH23bR4vYXpgY5jwsMGvQkPFecxs \u001b[35m+0ms\u001b[0m\n",
            "  \u001b[34;1mipfsWatch:processFile(/latentvisions.ipynb) \u001b[0mstarted \u001b[34m+0ms\u001b[0m\n",
            "  \u001b[34;1mipfsWatch:processFile(/latentvisions.ipynb) \u001b[0mwriteFile /content/ipfs_root/latentvisions.ipynb QmRUbBGSmwki9MJoPmzH23bR4vYXpgY5jwsMGvQkPFecxs queued \u001b[34m+0ms\u001b[0m\n",
            "  \u001b[35;1mipfsState:_getIPFSState(/output) \u001b[0mGetting state for dir output QmU5jczrSj1WhiYE95E7KXyPq46oqY7yMmSgM6d4en74va \u001b[35m+0ms\u001b[0m\n",
            "  \u001b[36;1mutils:ipfsls \u001b[0m--- Calling  ipfsls with input QmU5jczrSj1WhiYE95E7KXyPq46oqY7yMmSgM6d4en74va \u001b[36m+0ms\u001b[0m\n",
            "  \u001b[36;1mutils:ipfsls \u001b[0m--- In: QmU5jczrSj1WhiYE95E7KXyPq46oqY7yMmSgM6d4en74va \u001b[36m+1ms\u001b[0m\n",
            "  \u001b[32;1mipfsState:_getIPFSState(/parameters.json) \u001b[0mGetting state for file parameters.json QmWUsLqjfQWch3PCrStT7Y5Zd6VjSTfgNufHjA4S56fFho \u001b[32m+0ms\u001b[0m\n",
            "  \u001b[36;1mipfsWatch:processFile(/parameters.json) \u001b[0mstarted \u001b[36m+0ms\u001b[0m\n",
            "  \u001b[36;1mipfsWatch:processFile(/parameters.json) \u001b[0mwriteFile /content/ipfs_root/parameters.json QmWUsLqjfQWch3PCrStT7Y5Zd6VjSTfgNufHjA4S56fFho queued \u001b[36m+0ms\u001b[0m\n",
            "  \u001b[35;1mipfsState:_getIPFSState(/README.md) \u001b[0mgot result of processFile /content/ipfs_root/README.md \u001b[35m+7ms\u001b[0m\n",
            "  \u001b[35;1mipfsState:_getIPFSState(/latentvisions.ipynb) \u001b[0mgot result of processFile /content/ipfs_root/latentvisions.ipynb \u001b[35m+4ms\u001b[0m\n",
            "  \u001b[32;1mipfsState:_getIPFSState(/parameters.json) \u001b[0mgot result of processFile /content/ipfs_root/parameters.json \u001b[32m+1ms\u001b[0m\n",
            "  \u001b[36;1mutils:ipfsls \u001b[0m--- Out: ipfsls : [\n",
            "  {\n",
            "    name: 'bla',\n",
            "    path: 'Qmes4vcH44TvRLEDtbXGVnvuqxt6KQWYAKneACUoixoKFn/bla',\n",
            "    cid: 'QmSFxnK675wQ9Kc1uqWKyJUaNxvSc2BP5DbXCD3x93oq61',\n",
            "    type: 'file'\n",
            "  },\n",
            "  {\n",
            "    name: 'num_iterations',\n",
            "    path: 'Qmes4vcH44TvRLEDtbXGVnvuqxt6KQWYAKneACUoixoKFn/num_iterations',\n",
            "    cid: 'QmSYrPBa2anW6fCM8QXuBYpJz3EsxvbsQNTmmXriqn8CAE',\n",
            "    type: 'file'\n",
            "  },\n",
            "  {\n",
            "    name: 'text_input',\n",
            "    path: 'Qmes4vcH44TvRLEDtbXGVnvuqxt6KQWYAKneACUoixoKFn/text_input',\n",
            "    cid: 'QmcDdTtGrzF3AV5cq9qbFuRJb1Zuuy9tGsWemxv63m2QxW',\n",
            "    type: 'file'\n",
            "  },\n",
            "  {\n",
            "    name: 'text_not',\n",
            "    path: 'Qmes4vcH44TvRLEDtbXGVnvuqxt6KQWYAKneACUoixoKFn/text_not',\n",
            "    cid: 'QmPF1HbZHnRuDGudsb6LuG1nvm4SwZwufb4bmMEkT7pjbw',\n",
            "    type: 'file'\n",
            "  }\n",
            "] \u001b[36m+268ms\u001b[0m\n",
            "  \u001b[34;1mipfsState:_getIPFSState(/input) \u001b[0mGot files for input Qmes4vcH44TvRLEDtbXGVnvuqxt6KQWYAKneACUoixoKFn [\n",
            "  {\n",
            "    name: 'bla',\n",
            "    path: 'Qmes4vcH44TvRLEDtbXGVnvuqxt6KQWYAKneACUoixoKFn/bla',\n",
            "    cid: 'QmSFxnK675wQ9Kc1uqWKyJUaNxvSc2BP5DbXCD3x93oq61',\n",
            "    type: 'file'\n",
            "  },\n",
            "  {\n",
            "    name: 'num_iterations',\n",
            "    path: 'Qmes4vcH44TvRLEDtbXGVnvuqxt6KQWYAKneACUoixoKFn/num_iterations',\n",
            "    cid: 'QmSYrPBa2anW6fCM8QXuBYpJz3EsxvbsQNTmmXriqn8CAE',\n",
            "    type: 'file'\n",
            "  },\n",
            "  {\n",
            "    name: 'text_input',\n",
            "    path: 'Qmes4vcH44TvRLEDtbXGVnvuqxt6KQWYAKneACUoixoKFn/text_input',\n",
            "    cid: 'QmcDdTtGrzF3AV5cq9qbFuRJb1Zuuy9tGsWemxv63m2QxW',\n",
            "    type: 'file'\n",
            "  },\n",
            "  {\n",
            "    name: 'text_not',\n",
            "    path: 'Qmes4vcH44TvRLEDtbXGVnvuqxt6KQWYAKneACUoixoKFn/text_not',\n",
            "    cid: 'QmPF1HbZHnRuDGudsb6LuG1nvm4SwZwufb4bmMEkT7pjbw',\n",
            "    type: 'file'\n",
            "  }\n",
            "] \u001b[34m+268ms\u001b[0m\n",
            "  \u001b[34;1mipfsState:_getIPFSState(/input/bla) \u001b[0mGetting state for file bla QmSFxnK675wQ9Kc1uqWKyJUaNxvSc2BP5DbXCD3x93oq61 \u001b[34m+0ms\u001b[0m\n",
            "  \u001b[33;1mipfsWatch:processFile(/input/bla) \u001b[0mstarted \u001b[33m+0ms\u001b[0m\n",
            "  \u001b[33;1mipfsWatch:processFile(/input/bla) \u001b[0mwriteFile /content/ipfs_root/input/bla QmSFxnK675wQ9Kc1uqWKyJUaNxvSc2BP5DbXCD3x93oq61 queued \u001b[33m+0ms\u001b[0m\n",
            "  \u001b[34;1mipfsState:_getIPFSState(/input/num_iterations) \u001b[0mGetting state for file num_iterations QmSYrPBa2anW6fCM8QXuBYpJz3EsxvbsQNTmmXriqn8CAE \u001b[34m+0ms\u001b[0m\n",
            "  \u001b[33;1mipfsWatch:processFile(/input/num_iterations) \u001b[0mstarted \u001b[33m+0ms\u001b[0m\n",
            "  \u001b[33;1mipfsWatch:processFile(/input/num_iterations) \u001b[0mwriteFile /content/ipfs_root/input/num_iterations QmSYrPBa2anW6fCM8QXuBYpJz3EsxvbsQNTmmXriqn8CAE queued \u001b[33m+0ms\u001b[0m\n",
            "  \u001b[35;1mipfsState:_getIPFSState(/input/text_input) \u001b[0mGetting state for file text_input QmcDdTtGrzF3AV5cq9qbFuRJb1Zuuy9tGsWemxv63m2QxW \u001b[35m+0ms\u001b[0m\n",
            "  \u001b[31;1mipfsWatch:processFile(/input/text_input) \u001b[0mstarted \u001b[31m+0ms\u001b[0m\n",
            "  \u001b[31;1mipfsWatch:processFile(/input/text_input) \u001b[0mwriteFile /content/ipfs_root/input/text_input QmcDdTtGrzF3AV5cq9qbFuRJb1Zuuy9tGsWemxv63m2QxW queued \u001b[31m+0ms\u001b[0m\n",
            "  \u001b[31;1mipfsState:_getIPFSState(/input/text_not) \u001b[0mGetting state for file text_not QmPF1HbZHnRuDGudsb6LuG1nvm4SwZwufb4bmMEkT7pjbw \u001b[31m+0ms\u001b[0m\n",
            "  \u001b[33;1mipfsWatch:processFile(/input/text_not) \u001b[0mstarted \u001b[33m+0ms\u001b[0m\n",
            "  \u001b[33;1mipfsWatch:processFile(/input/text_not) \u001b[0mwriteFile /content/ipfs_root/input/text_not QmPF1HbZHnRuDGudsb6LuG1nvm4SwZwufb4bmMEkT7pjbw queued \u001b[33m+0ms\u001b[0m\n",
            "  \u001b[34;1mipfsState:_getIPFSState(/input/bla) \u001b[0mgot result of processFile /content/ipfs_root/input/bla \u001b[34m+3ms\u001b[0m\n",
            "  \u001b[34;1mipfsState:_getIPFSState(/input/num_iterations) \u001b[0mgot result of processFile /content/ipfs_root/input/num_iterations \u001b[34m+2ms\u001b[0m\n",
            "  \u001b[35;1mipfsState:_getIPFSState(/input/text_input) \u001b[0mgot result of processFile /content/ipfs_root/input/text_input \u001b[35m+1ms\u001b[0m\n",
            "  \u001b[31;1mipfsState:_getIPFSState(/input/text_not) \u001b[0mgot result of processFile /content/ipfs_root/input/text_not \u001b[31m+1ms\u001b[0m\n",
            "  \u001b[34;1mipfsState:_getIPFSState(/input) \u001b[0mcontents {\n",
            "  bla: '/content/ipfs_root/input/bla',\n",
            "  num_iterations: '/content/ipfs_root/input/num_iterations',\n",
            "  text_input: '/content/ipfs_root/input/text_input',\n",
            "  text_not: '/content/ipfs_root/input/text_not'\n",
            "} \u001b[34m+4ms\u001b[0m\n",
            "  \u001b[33;1mipfsConnector:ipfsGet(QmToji6Yiar29MS8scqikSVzC3d444iiptRjFpSCFSiANe) \u001b[0mGot all chunks. Total: 1 \u001b[33m+0ms\u001b[0m\n",
            "  \u001b[33;1mipfsConnector:ipfsGet(QmToji6Yiar29MS8scqikSVzC3d444iiptRjFpSCFSiANe) \u001b[0mReceived content length: 3968 \u001b[33m+0ms\u001b[0m\n",
            "  \u001b[34;1mipfsWatch:processFile(/README.md) \u001b[0mwritefile content 3968 \u001b[34m+520ms\u001b[0m\n",
            "  \u001b[31;1mipfsWatch \u001b[0mcreating folder if it does not exist /content/ipfs_root \u001b[31m+1s\u001b[0m\n",
            "  \u001b[36;1mipfsConnector:ipfsGet(QmWUsLqjfQWch3PCrStT7Y5Zd6VjSTfgNufHjA4S56fFho) \u001b[0mGot all chunks. Total: 1 \u001b[36m+0ms\u001b[0m\n",
            "  \u001b[36;1mipfsConnector:ipfsGet(QmWUsLqjfQWch3PCrStT7Y5Zd6VjSTfgNufHjA4S56fFho) \u001b[0mReceived content length: 710 \u001b[36m+1ms\u001b[0m\n",
            "  \u001b[36;1mipfsWatch:processFile(/parameters.json) \u001b[0mwritefile content 710 \u001b[36m+516ms\u001b[0m\n",
            "  \u001b[31;1mipfsWatch \u001b[0mcreating folder if it does not exist /content/ipfs_root \u001b[31m+2ms\u001b[0m\n",
            "  \u001b[36;1mutils:ipfsls \u001b[0m--- Out: ipfsls : [\n",
            "  {\n",
            "    name: 'log',\n",
            "    path: 'QmU5jczrSj1WhiYE95E7KXyPq46oqY7yMmSgM6d4en74va/log',\n",
            "    cid: 'Qmbj3AxwdsTAtgDDEt91Yr7RaHqBTseABrnKyFzNycjjuH',\n",
            "    type: 'file'\n",
            "  }\n",
            "] \u001b[36m+519ms\u001b[0m\n",
            "  \u001b[35;1mipfsState:_getIPFSState(/output) \u001b[0mGot files for output QmU5jczrSj1WhiYE95E7KXyPq46oqY7yMmSgM6d4en74va [\n",
            "  {\n",
            "    name: 'log',\n",
            "    path: 'QmU5jczrSj1WhiYE95E7KXyPq46oqY7yMmSgM6d4en74va/log',\n",
            "    cid: 'Qmbj3AxwdsTAtgDDEt91Yr7RaHqBTseABrnKyFzNycjjuH',\n",
            "    type: 'file'\n",
            "  }\n",
            "] \u001b[35m+520ms\u001b[0m\n",
            "  \u001b[32;1mipfsState:_getIPFSState(/output/log) \u001b[0mGetting state for file log Qmbj3AxwdsTAtgDDEt91Yr7RaHqBTseABrnKyFzNycjjuH \u001b[32m+0ms\u001b[0m\n",
            "  \u001b[36;1mipfsWatch:processFile(/output/log) \u001b[0mstarted \u001b[36m+0ms\u001b[0m\n",
            "  \u001b[36;1mipfsWatch:processFile(/output/log) \u001b[0mwriteFile /content/ipfs_root/output/log Qmbj3AxwdsTAtgDDEt91Yr7RaHqBTseABrnKyFzNycjjuH queued \u001b[36m+0ms\u001b[0m\n",
            "  \u001b[32;1mipfsState:_getIPFSState(/output/log) \u001b[0mgot result of processFile /content/ipfs_root/output/log \u001b[32m+0ms\u001b[0m\n",
            "  \u001b[35;1mipfsState:_getIPFSState(/output) \u001b[0mcontents { log: '/content/ipfs_root/output/log' } \u001b[35m+0ms\u001b[0m\n",
            "  \u001b[31;1mipfsState:_getIPFSState(/) \u001b[0mcontents {\n",
            "  'README.md': '/content/ipfs_root/README.md',\n",
            "  input: {\n",
            "    bla: '/content/ipfs_root/input/bla',\n",
            "    num_iterations: '/content/ipfs_root/input/num_iterations',\n",
            "    text_input: '/content/ipfs_root/input/text_input',\n",
            "    text_not: '/content/ipfs_root/input/text_not'\n",
            "  },\n",
            "  'latentvisions.ipynb': '/content/ipfs_root/latentvisions.ipynb',\n",
            "  output: { log: '/content/ipfs_root/output/log' },\n",
            "  'parameters.json': '/content/ipfs_root/parameters.json'\n",
            "} \u001b[31m+525ms\u001b[0m\n",
            "  \u001b[31;1mipfsWatch \u001b[0mgot remote state {\n",
            "  'README.md': '/content/ipfs_root/README.md',\n",
            "  input: {\n",
            "    bla: '/content/ipfs_root/input/bla',\n",
            "    num_iterations: '/content/ipfs_root/input/num_iterations',\n",
            "    text_input: '/content/ipfs_root/input/text_input',\n",
            "    text_not: '/content/ipfs_root/input/text_not'\n",
            "  },\n",
            "  'latentvisions.ipynb': '/content/ipfs_root/latentvisions.ipynb',\n",
            "  output: { log: '/content/ipfs_root/output/log' },\n",
            "  'parameters.json': '/content/ipfs_root/parameters.json'\n",
            "} \u001b[31m+2ms\u001b[0m\n",
            "QmRiC6nzaUxQiYGd3eTZhHPjVG8oY2W2sPf9j5aNq6eADt\n",
            "  \u001b[31;1mipfsWatch \u001b[0mwriting file of length undefined to folder /content/ipfs_root/README.md \u001b[31m+1ms\u001b[0m\n",
            "  \u001b[34;1mipfsWatch:processFile(/README.md) \u001b[0mdone \u001b[34m+7ms\u001b[0m\n",
            "  \u001b[31;1mipfsWatch \u001b[0mwriting file of length undefined to folder /content/ipfs_root/parameters.json \u001b[31m+4ms\u001b[0m\n",
            "  \u001b[36;1mipfsWatch:processFile(/parameters.json) \u001b[0mdone \u001b[36m+7ms\u001b[0m\n",
            "  \u001b[33;1mipfsConnector:ipfsGet(QmcDdTtGrzF3AV5cq9qbFuRJb1Zuuy9tGsWemxv63m2QxW) \u001b[0mGot all chunks. Total: 1 \u001b[33m+0ms\u001b[0m\n",
            "  \u001b[33;1mipfsConnector:ipfsGet(QmcDdTtGrzF3AV5cq9qbFuRJb1Zuuy9tGsWemxv63m2QxW) \u001b[0mReceived content length: 22 \u001b[33m+0ms\u001b[0m\n",
            "  \u001b[31;1mipfsWatch:processFile(/input/text_input) \u001b[0mwritefile content 22 \u001b[31m+512ms\u001b[0m\n",
            "  \u001b[31;1mipfsWatch \u001b[0mcreating folder if it does not exist /content/ipfs_root/input \u001b[31m+256ms\u001b[0m\n",
            "  \u001b[31;1mipfsWatch \u001b[0mwriting file of length undefined to folder /content/ipfs_root/input/text_input \u001b[31m+0ms\u001b[0m\n",
            "  \u001b[31;1mipfsWatch:processFile(/input/text_input) \u001b[0mdone \u001b[31m+1ms\u001b[0m\n",
            "  \u001b[31;1mipfsConnector:ipfsGet(QmPF1HbZHnRuDGudsb6LuG1nvm4SwZwufb4bmMEkT7pjbw) \u001b[0mGot all chunks. Total: 1 \u001b[31m+0ms\u001b[0m\n",
            "  \u001b[31;1mipfsConnector:ipfsGet(QmPF1HbZHnRuDGudsb6LuG1nvm4SwZwufb4bmMEkT7pjbw) \u001b[0mReceived content length: 52 \u001b[31m+0ms\u001b[0m\n",
            "  \u001b[33;1mipfsWatch:processFile(/input/text_not) \u001b[0mwritefile content 52 \u001b[33m+516ms\u001b[0m\n",
            "  \u001b[31;1mipfsWatch \u001b[0mcreating folder if it does not exist /content/ipfs_root/input \u001b[31m+4ms\u001b[0m\n",
            "  \u001b[32;1mipfsConnector:ipfsGet(QmRUbBGSmwki9MJoPmzH23bR4vYXpgY5jwsMGvQkPFecxs) \u001b[0mGot all chunks. Total: 2 \u001b[32m+0ms\u001b[0m\n",
            "  \u001b[32;1mipfsConnector:ipfsGet(QmRUbBGSmwki9MJoPmzH23bR4vYXpgY5jwsMGvQkPFecxs) \u001b[0mReceived content length: 21135 \u001b[32m+1ms\u001b[0m\n",
            "  \u001b[34;1mipfsWatch:processFile(/latentvisions.ipynb) \u001b[0mwritefile content 21135 \u001b[34m+787ms\u001b[0m\n",
            "  \u001b[31;1mipfsWatch \u001b[0mcreating folder if it does not exist /content/ipfs_root \u001b[31m+1ms\u001b[0m\n",
            "  \u001b[32;1mipfsConnector:ipfsGet(QmSFxnK675wQ9Kc1uqWKyJUaNxvSc2BP5DbXCD3x93oq61) \u001b[0mGot all chunks. Total: 1 \u001b[32m+0ms\u001b[0m\n",
            "  \u001b[32;1mipfsConnector:ipfsGet(QmSFxnK675wQ9Kc1uqWKyJUaNxvSc2BP5DbXCD3x93oq61) \u001b[0mReceived content length: 2 \u001b[32m+1ms\u001b[0m\n",
            "  \u001b[33;1mipfsWatch:processFile(/input/bla) \u001b[0mwritefile content 2 \u001b[33m+521ms\u001b[0m\n",
            "  \u001b[31;1mipfsWatch \u001b[0mcreating folder if it does not exist /content/ipfs_root/input \u001b[31m+2ms\u001b[0m\n",
            "  \u001b[31;1mipfsWatch \u001b[0mwriting file of length undefined to folder /content/ipfs_root/input/text_not \u001b[31m+0ms\u001b[0m\n",
            "  \u001b[33;1mipfsWatch:processFile(/input/text_not) \u001b[0mdone \u001b[33m+3ms\u001b[0m\n",
            "  \u001b[31;1mipfsWatch \u001b[0mwriting file of length undefined to folder /content/ipfs_root/latentvisions.ipynb \u001b[31m+0ms\u001b[0m\n",
            "  \u001b[34;1mipfsWatch:processFile(/latentvisions.ipynb) \u001b[0mdone \u001b[34m+3ms\u001b[0m\n",
            "  \u001b[33;1mipfsConnector:ipfsGet(QmSYrPBa2anW6fCM8QXuBYpJz3EsxvbsQNTmmXriqn8CAE) \u001b[0mGot all chunks. Total: 1 \u001b[33m+0ms\u001b[0m\n",
            "  \u001b[33;1mipfsConnector:ipfsGet(QmSYrPBa2anW6fCM8QXuBYpJz3EsxvbsQNTmmXriqn8CAE) \u001b[0mReceived content length: 4 \u001b[33m+0ms\u001b[0m\n",
            "  \u001b[33;1mipfsWatch:processFile(/input/num_iterations) \u001b[0mwritefile content 4 \u001b[33m+524ms\u001b[0m\n",
            "  \u001b[31;1mipfsWatch \u001b[0mcreating folder if it does not exist /content/ipfs_root/input \u001b[31m+4ms\u001b[0m\n",
            "  \u001b[31;1mipfsWatch \u001b[0mwriting file of length undefined to folder /content/ipfs_root/input/bla \u001b[31m+0ms\u001b[0m\n",
            "  \u001b[33;1mipfsWatch:processFile(/input/bla) \u001b[0mdone \u001b[33m+4ms\u001b[0m\n",
            "  \u001b[31;1mipfsWatch \u001b[0mwriting file of length undefined to folder /content/ipfs_root/input/num_iterations \u001b[31m+0ms\u001b[0m\n",
            "  \u001b[33;1mipfsWatch:processFile(/input/num_iterations) \u001b[0mdone \u001b[33m+0ms\u001b[0m\n",
            "  \u001b[31;1mipfsConnector:ipfsGet(Qmbj3AxwdsTAtgDDEt91Yr7RaHqBTseABrnKyFzNycjjuH) \u001b[0mGot all chunks. Total: 1 \u001b[31m+0ms\u001b[0m\n",
            "  \u001b[31;1mipfsConnector:ipfsGet(Qmbj3AxwdsTAtgDDEt91Yr7RaHqBTseABrnKyFzNycjjuH) \u001b[0mReceived content length: 22 \u001b[31m+0ms\u001b[0m\n",
            "  \u001b[36;1mipfsWatch:processFile(/output/log) \u001b[0mwritefile content 22 \u001b[36m+520ms\u001b[0m\n",
            "  \u001b[31;1mipfsWatch \u001b[0mcreating folder if it does not exist /content/ipfs_root/output \u001b[31m+248ms\u001b[0m\n",
            "  \u001b[31;1mipfsWatch \u001b[0mwriting file of length undefined to folder /content/ipfs_root/output/log \u001b[31m+1ms\u001b[0m\n",
            "  \u001b[36;1mipfsWatch:processFile(/output/log) \u001b[0mdone \u001b[36m+1ms\u001b[0m\n",
            "Error: canceled\n",
            "^C\n"
          ],
          "name": "stdout"
        }
      ]
    },
    {
      "cell_type": "code",
      "metadata": {
        "id": "CbBRFIXpvv30",
        "colab": {
          "base_uri": "https://localhost:8080/"
        },
        "outputId": "264b7a4c-d515-4725-ac95-437f880d2887"
      },
      "source": [
        "async def update_ipfs_content(contentid):\n",
        "  global ipfs_contentid\n",
        "  contentid = contentid.decode(\"utf-8\")\n",
        "  \n",
        "  await client.get(contentid)\n",
        "  !cp -rv $contentid/* $ipfs_root\n",
        "  #!rm -r $contentid\n",
        "  ipfs_contentid = contentid\n",
        "\n",
        "content_id=!ipfs name resolve k51qzi5uqu5dh0esiimwcc251a5oq9ivhjppf1zqip1cpdjcvtwj1olbdmqk9k\n",
        "#on_frontend_data(update_ipfs_content)\n",
        "print(content_id)"
      ],
      "execution_count": null,
      "outputs": [
        {
          "output_type": "stream",
          "text": [
            "['/ipfs/QmQ26epDtE4Bi1TJdUyeEy7F4tA6JGGM7bWycbMq1sp6QP']\n"
          ],
          "name": "stdout"
        }
      ]
    },
    {
      "cell_type": "code",
      "metadata": {
        "id": "mD8tRZESGzeP"
      },
      "source": [
        "from glob import glob\n",
        "from os.path import basename\n",
        "for path in glob(f\"{ipfs_root}/input/*\"):\n",
        "  key = basename(path)\n",
        "  with open(path,'r') as f:\n",
        "    value = f.read()\n",
        "    parameters[key] = value\n",
        "\n",
        "print(\"New parameters\", parameters)"
      ],
      "execution_count": null,
      "outputs": []
    },
    {
      "cell_type": "markdown",
      "metadata": {
        "id": "GVkVyH_Fj8P8"
      },
      "source": [
        "## DISABLED! CODE (DEEP-DAZE)"
      ]
    },
    {
      "cell_type": "code",
      "metadata": {
        "id": "2qcR2Tgghrf3",
        "colab": {
          "base_uri": "https://localhost:8080/",
          "height": 232
        },
        "outputId": "57f4f023-5ade-4a60-acc2-d2bc3306335e"
      },
      "source": [
        "#!pip install --upgrade pip\n",
        "\n",
        "#!pip install --upgrade ipython\n",
        "#import papermill as pm\n",
        "asda\n",
        "from subprocess import Popen, PIPE, STDOUT\n",
        "from sys import stdout\n",
        "import os\n",
        "\n",
        "#parameters[\"text\"] = \"A black and white photo of Saeko with her new Elektron FM synthesizer\"\n",
        "def run(parameters, watch_media_paths=\"./*.jpg\"):\n",
        "  print(\"Running\",parameters)\n",
        " \n",
        "  for filepath in glob(watch_media_paths):\n",
        "    print(\"Deleting\",filepath,\"before starting.\")\n",
        "    os.remove(filepath)\n",
        "\n",
        "  _params = [[\"-p\", key, value] for key, value in parameters.items()]\n",
        "  params = [str(val) for sublist in _params for val in sublist]\n",
        "  #%run latentvisions.ipynb\n",
        "  #!papermill \"./latentvisions.ipynb\" ./output \n",
        "  cmd = [\"papermill\", \"/content/latentvisions.ipynb\",\"/content/latentvisions_output.ipynb\"] + params\n",
        "\n",
        "  p = Popen(cmd, stdout = PIPE, \n",
        "          stderr = STDOUT, shell = False)\n",
        "\n",
        "  found_media_files=[]\n",
        "\n",
        "  while True:\n",
        "    line = p.stdout.readline()#\n",
        "    if not line: break\n",
        "\n",
        "    stdout.write(line)\n",
        "    with open(f\"{ipfs_root}/log\",\"w\") as log_out:\n",
        "      log_out.write(line.decode(\"utf-8\"))\n",
        "      log_out.flush()\n",
        "      \n",
        "    #headers = { \n",
        "    #    \"params\": params,\n",
        "    #    \"text\": text\n",
        "    #}\n",
        "    #conn.send(body=line.decode(\"utf-8\"), headers=headers, destination='/topic/colabOut')\n",
        "    #print(\"new contentid\", client.add(ipfs_root, recursive=True))\n",
        "    \n",
        "    #continue\n",
        "    new_found_media_files = glob(watch_media_paths)\n",
        "    new_found_media_files.sort(key=os.path.getmtime)\n",
        "    added_media_files = list(set(new_found_media_files)-set(found_media_files))\n",
        "    found_media_files = new_found_media_files\n",
        "    pin=False\n",
        "    if len(added_media_files) > 0:\n",
        "      for added in added_media_files:\n",
        "        sleep(0.1)\n",
        "        if len(added) > 0:\n",
        "          !cp $added $ipfs_root/output\n",
        "          print(\"Adding:\", added,\"to ipfs root\")\n",
        "          pin=True\n",
        "    add_and_publish()    \n",
        "        \n",
        "while True:\n",
        "  run(parameters,\"./taming_transformers/*.jpg\")"
      ],
      "execution_count": null,
      "outputs": [
        {
          "output_type": "error",
          "ename": "NameError",
          "evalue": "ignored",
          "traceback": [
            "\u001b[0;31m---------------------------------------------------------------------------\u001b[0m",
            "\u001b[0;31mNameError\u001b[0m                                 Traceback (most recent call last)",
            "\u001b[0;32m<ipython-input-1-e29c46a4f5eb>\u001b[0m in \u001b[0;36m<module>\u001b[0;34m()\u001b[0m\n\u001b[1;32m      3\u001b[0m \u001b[0;31m#!pip install --upgrade ipython\u001b[0m\u001b[0;34m\u001b[0m\u001b[0;34m\u001b[0m\u001b[0;34m\u001b[0m\u001b[0m\n\u001b[1;32m      4\u001b[0m \u001b[0;31m#import papermill as pm\u001b[0m\u001b[0;34m\u001b[0m\u001b[0;34m\u001b[0m\u001b[0;34m\u001b[0m\u001b[0m\n\u001b[0;32m----> 5\u001b[0;31m \u001b[0masda\u001b[0m\u001b[0;34m\u001b[0m\u001b[0;34m\u001b[0m\u001b[0m\n\u001b[0m\u001b[1;32m      6\u001b[0m \u001b[0;32mfrom\u001b[0m \u001b[0msubprocess\u001b[0m \u001b[0;32mimport\u001b[0m \u001b[0mPopen\u001b[0m\u001b[0;34m,\u001b[0m \u001b[0mPIPE\u001b[0m\u001b[0;34m,\u001b[0m \u001b[0mSTDOUT\u001b[0m\u001b[0;34m\u001b[0m\u001b[0;34m\u001b[0m\u001b[0m\n\u001b[1;32m      7\u001b[0m \u001b[0;32mfrom\u001b[0m \u001b[0msys\u001b[0m \u001b[0;32mimport\u001b[0m \u001b[0mstdout\u001b[0m\u001b[0;34m\u001b[0m\u001b[0;34m\u001b[0m\u001b[0m\n",
            "\u001b[0;31mNameError\u001b[0m: name 'asda' is not defined"
          ]
        }
      ]
    }
  ]
}