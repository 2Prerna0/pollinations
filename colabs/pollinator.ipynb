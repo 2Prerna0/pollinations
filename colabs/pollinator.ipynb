{
  "nbformat": 4,
  "nbformat_minor": 0,
  "metadata": {
    "colab": {
      "name": "Pollinator",
      "provenance": [],
      "collapsed_sections": [],
      "machine_shape": "hm",
      "include_colab_link": true
    },
    "kernelspec": {
      "name": "python3",
      "display_name": "Python 3"
    },
    "accelerator": "GPU"
  },
  "cells": [
    {
      "cell_type": "markdown",
      "metadata": {
        "id": "view-in-github",
        "colab_type": "text"
      },
      "source": [
        "<a href=\"https://colab.research.google.com/github/voodoohop/pollinations/blob/dev/colabs/pollinator.ipynb\" target=\"_parent\"><img src=\"https://colab.research.google.com/assets/colab-badge.svg\" alt=\"Open In Colab\"/></a>"
      ]
    },
    {
      "cell_type": "code",
      "metadata": {
        "id": "RcWlME-DwhrS",
        "cellView": "form"
      },
      "source": [
        "#@title Config and Requirements\n",
        "!pip install coolname gdown papermill json5\n",
        "from IPython.display import clear_output\n",
        "from coolname import generate_slug\n",
        "from os.path import join\n",
        "clear_output()\n",
        "#ipfs_nodeid = generate_slug(2)#asyncio.run(loop.create_task(get_node_id()))\n",
        "IPFS_PEER = \"ipfs.pollinations.ai\"\n",
        "ipfs_root = \"/content/ipfs\"\n",
        "worker_root = \"/content\"\n",
        "notebook_path = join(ipfs_root,\"notebook.ipynb\")\n",
        "\n",
        "print(f\"---Settings---\\nIPFS_ROOT: {ipfs_root}\\nIPFS_PEER: {IPFS_PEER}\")"
      ],
      "execution_count": null,
      "outputs": []
    },
    {
      "cell_type": "code",
      "metadata": {
        "id": "pWfAE_iqBMdB",
        "cellView": "form"
      },
      "source": [
        "#@title Empty and create ipfs root: */content/ipfs*\n",
        "\n",
        "\n",
        "\n",
        "!rm -r $ipfs_root\n",
        "!mkdir -p $ipfs_root/input\n",
        "!mkdir -p $ipfs_root/output\n",
        "!mkdir -p $worker_root\n",
        "\n",
        "\n",
        "!echo \"Created IPFS resource\" > $ipfs_root/output/log\n",
        "clear_output()"
      ],
      "execution_count": null,
      "outputs": []
    },
    {
      "cell_type": "code",
      "metadata": {
        "id": "9j1zUbMN4VDP",
        "cellView": "form"
      },
      "source": [
        "#@title Install Pollinations CLI\n",
        "\n",
        "%cd /content\n",
        "!git clone https://github.com/voodoohop/pollinations.git\n",
        "%cd /content/pollinations/app\n",
        "!git pull\n",
        "!git checkout master \n",
        "!git pull\n",
        "!npm run install_backend\n",
        "%cd -\n",
        "\n",
        "clear_output()"
      ],
      "execution_count": null,
      "outputs": []
    },
    {
      "cell_type": "code",
      "metadata": {
        "id": "hH76cPjgwZBJ",
        "cellView": "form"
      },
      "source": [
        "#@title Run IPFS daemon &\n",
        "\n",
        "!/content/pollinations/ipfs/ipfsd_install_colab.sh\n",
        "!nohup  /content/pollinations/ipfs/ipfsd_forever.sh > $ipfs_root/output/log &\n",
        "!sleep 5\n",
        "clear_output()\n"
      ],
      "execution_count": null,
      "outputs": []
    },
    {
      "cell_type": "code",
      "metadata": {
        "id": "fkHiUZqQ8EtE",
        "cellView": "form"
      },
      "source": [
        "#@title Determine node ID\n",
        "\n",
        "from os.path import join\n",
        "\n",
        "\n",
        "node_id=!ipfs id -f=\"<id>\\n\"\n",
        "node_id=node_id[0]\n",
        "\n",
        "print(\"---Node ID---:\", node_id)"
      ],
      "execution_count": null,
      "outputs": []
    },
    {
      "cell_type": "code",
      "metadata": {
        "id": "A4TYvT7yoGvE",
        "cellView": "form"
      },
      "source": [
        "#@title Create connection to frontend UI\n",
        "\n",
        "import IPython\n",
        "from google.colab import output\n",
        "\n",
        "display(IPython.display.Javascript(f'''\n",
        "  const iframe = document.createElement(\"iframe\")\n",
        "  iframe.src = `https://pollinations.ai/incolab.html?node={node_id}`\n",
        "  document.querySelector(\"#output-area\").appendChild(iframe)\n",
        "  const iframe2 = document.createElement(\"iframe\")\n",
        "  iframe2.src = `http://localhost:3000/incolab.html?node={node_id}`\n",
        "  document.querySelector(\"#output-area\").appendChild(iframe2)\n",
        "'''))\n",
        "\n",
        "\n"
      ],
      "execution_count": null,
      "outputs": []
    },
    {
      "cell_type": "code",
      "metadata": {
        "id": "yerLsamovWhd",
        "cellView": "form"
      },
      "source": [
        "#@title Receive first IPFS state. Watch and send ipfs output folder &\n",
        "\n",
        "!DEBUG=* pollinate -p $ipfs_root --ipns --receive --once\n",
        "!python /content/pollinations/pollinations/prepare_for_papermill.py $notebook_path\n",
        "!nohup pollinate -p $ipfs_root --ipns --send &\n",
        "\n",
        "clear_output()"
      ],
      "execution_count": null,
      "outputs": []
    },
    {
      "cell_type": "code",
      "metadata": {
        "id": "2qcR2Tgghrf3",
        "cellView": "form"
      },
      "source": [
        "#@title Notebook Runner\n",
        "\n",
        "from glob import glob\n",
        "from os.path import basename\n",
        "from json5 import loads\n",
        "\n",
        "from subprocess import Popen, PIPE, STDOUT\n",
        "from sys import stdout\n",
        "import os\n",
        "\n",
        "output_path = ipfs_root+\"/output\"\n",
        "\n",
        "first_run=True\n",
        "\n",
        "def run(parameters):\n",
        "  print(\"Running\",parameters)\n",
        " \n",
        "  parameters[\"output_path\"] = output_path\n",
        "  _params = [[\"-p\", key, value] for key, value in parameters.items()]\n",
        "  params = [str(val) for sublist in _params for val in sublist]\n",
        "  cmd = [\"papermill\", notebook_path, \"/content/notebook_output.ipynb\"] + params\n",
        "  print(\"Running cmd\",\" \".join(cmd))\n",
        "  p = Popen(\n",
        "          cmd, \n",
        "          stdout = PIPE, \n",
        "          stderr = STDOUT, \n",
        "          shell = False, \n",
        "          cwd = worker_root\n",
        "          )\n",
        "\n",
        "\n",
        "  while True:\n",
        "    line = p.stdout.readline()\n",
        "    if not line: break\n",
        "    line_text = line.decode(\"utf-8\")\n",
        "\n",
        "    stdout.write(line)\n",
        "  \n",
        "    with open(f\"{ipfs_root}/output/log\",\"a\") as log_out:\n",
        "      if not line_text.startswith(\"unhandled\"):\n",
        "        log_out.write(line_text)\n",
        "        log_out.flush()\n",
        "      \n",
        "   \n",
        "        \n",
        "while True:\n",
        "  if not first_run:\n",
        "    !DEBUG=* pollinate -p $ipfs_root --ipns --receive --once\n",
        "    !python /content/pollinations/pollinations/prepare_for_papermill.py $notebook_path\n",
        "  \n",
        "  first_run = False\n",
        "  parameters={}\n",
        "  for path in glob(f\"{ipfs_root}/input/*\"):\n",
        "    key = basename(path)\n",
        "    with open(path,'r') as f: \n",
        "      value = f.read()\n",
        "      parameters[key] = loads(value)\n",
        "  print(\"New parameters\", parameters)\n",
        "  run(parameters)\n",
        "  !sleep 100"
      ],
      "execution_count": null,
      "outputs": []
    }
  ]
}