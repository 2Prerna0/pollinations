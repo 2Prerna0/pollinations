{
  "nbformat": 4,
  "nbformat_minor": 0,
  "metadata": {
    "colab": {
      "name": "Pollinator",
      "provenance": [],
      "collapsed_sections": [],
      "include_colab_link": true
    },
    "kernelspec": {
      "name": "python3",
      "display_name": "Python 3"
    },
    "accelerator": "GPU"
  },
  "cells": [
    {
      "cell_type": "markdown",
      "metadata": {
        "id": "view-in-github",
        "colab_type": "text"
      },
      "source": [
        "<a href=\"https://colab.research.google.com/github/voodoohop/pollinations/blob/dev/colabs/pollinator.ipynb\" target=\"_parent\"><img src=\"https://colab.research.google.com/assets/colab-badge.svg\" alt=\"Open In Colab\"/></a>"
      ]
    },
    {
      "cell_type": "markdown",
      "metadata": {
        "id": "ko_JJEB3YcC9"
      },
      "source": [
        "# Pollinator\n",
        "\n",
        "Does the heavy-lifting for **Pollinations.AI** on Google Colab's free GPUs.\n",
        "\n",
        "Click *Runtime - Run All* and switch back to the **Pollinations** tab of the browser.\n",
        "\n",
        "![](https://pollinations.ai/Runtime-RunAll.png?)"
      ]
    },
    {
      "cell_type": "code",
      "metadata": {
        "id": "RcWlME-DwhrS",
        "colab": {
          "base_uri": "https://localhost:8080/"
        },
        "cellView": "form",
        "outputId": "5846f9f6-21c4-4288-9fa4-c30ce4c4f33a"
      },
      "source": [
        "#@title Config and Requirements\n",
        "!pip install coolname gdown papermill json5\n",
        "from IPython.display import clear_output\n",
        "from coolname import generate_slug\n",
        "from os.path import join, basename\n",
        "from shlex import quote\n",
        "\n",
        "from glob import glob\n",
        "from json5 import loads\n",
        "\n",
        "from subprocess import Popen, PIPE, STDOUT\n",
        "from sys import stdout\n",
        "import os\n",
        "\n",
        "clear_output()\n",
        "#ipfs_nodeid = generate_slug(2)#asyncio.run(loop.create_task(get_node_id()))\n",
        "ipfs_root = \"/content/ipfs\"\n",
        "worker_root = \"/content\"\n",
        "notebook_path = join(ipfs_root,\"notebook.ipynb\")\n",
        "\n",
        "print(f\"---Settings---\\nIPFS_ROOT: {ipfs_root}\")"
      ],
      "execution_count": 1,
      "outputs": [
        {
          "output_type": "stream",
          "text": [
            "---Settings---\n",
            "IPFS_ROOT: /content/ipfs\n"
          ],
          "name": "stdout"
        }
      ]
    },
    {
      "cell_type": "code",
      "metadata": {
        "id": "pWfAE_iqBMdB",
        "cellView": "form"
      },
      "source": [
        "#@title Empty and create ipfs root: */content/ipfs*\n",
        "\n",
        "\n",
        "\n",
        "!rm -r $ipfs_root\n",
        "!mkdir -p $ipfs_root/input\n",
        "!mkdir -p $ipfs_root/output\n",
        "!mkdir -p $worker_root\n",
        "\n",
        "\n",
        "!echo \"Created IPFS resource\" > $ipfs_root/output/log\n",
        "!echo -n '\"initializing\"' > $ipfs_root/status\n",
        "\n",
        "clear_output()"
      ],
      "execution_count": 2,
      "outputs": []
    },
    {
      "cell_type": "code",
      "metadata": {
        "id": "9j1zUbMN4VDP",
        "cellView": "form"
      },
      "source": [
        "#@title Install Pollinations CLI\n",
        "\n",
        "%cd /content\n",
        "!git clone https://github.com/voodoohop/pollinations.git\n",
        "%cd /content/pollinations/app\n",
        "!git pull\n",
        "!git checkout dev \n",
        "!git pull\n",
        "!npm run install_backend\n",
        "%cd -\n",
        "\n",
        "clear_output()"
      ],
      "execution_count": 3,
      "outputs": []
    },
    {
      "cell_type": "code",
      "metadata": {
        "id": "hH76cPjgwZBJ",
        "colab": {
          "base_uri": "https://localhost:8080/"
        },
        "cellView": "form",
        "outputId": "c0e6ba97-02dc-4b3f-89e6-4510c64e4272"
      },
      "source": [
        "#@title Run IPFS daemon &\n",
        "\n",
        "!/content/pollinations/ipfs/ipfsd_install_colab.sh\n",
        "!nohup  /content/pollinations/ipfs/ipfsd_forever.sh &\n",
        "!sleep 5\n",
        "clear_output()\n",
        "\n",
        "\n",
        "node_id=!ipfs id -f=\"<id>\\n\"\n",
        "node_id=node_id[0]\n",
        "\n",
        "print(\"---Node ID---:\", node_id)"
      ],
      "execution_count": 4,
      "outputs": [
        {
          "output_type": "stream",
          "text": [
            "---Node ID---: 12D3KooWJFP7na6iU65CUMHko325M1vsz6w9ZxQmhB4zrC6NXjNE\n"
          ],
          "name": "stdout"
        }
      ]
    },
    {
      "cell_type": "code",
      "metadata": {
        "id": "A4TYvT7yoGvE",
        "cellView": "form",
        "colab": {
          "base_uri": "https://localhost:8080/",
          "height": 175
        },
        "outputId": "c1ea1f45-87a9-451d-aa3b-918e26b0bfa7"
      },
      "source": [
        "#@title Create connection to frontend UI\n",
        "\n",
        "import IPython\n",
        "from google.colab import output\n",
        "\n",
        "display(IPython.display.Javascript(f'''\n",
        "  const iframe = document.createElement(\"iframe\")\n",
        "  iframe.src = `https://pollinations.ai/incolab.html?node={node_id}`\n",
        "  document.querySelector(\"#output-area\").appendChild(iframe)\n",
        "  const iframe2 = document.createElement(\"iframe\")\n",
        "  iframe2.src = `http://localhost:3000/incolab.html?node={node_id}`\n",
        "  document.querySelector(\"#output-area\").appendChild(iframe2)\n",
        "'''))\n",
        "\n",
        "\n"
      ],
      "execution_count": 5,
      "outputs": [
        {
          "output_type": "display_data",
          "data": {
            "application/javascript": [
              "\n",
              "  const iframe = document.createElement(\"iframe\")\n",
              "  iframe.src = `https://pollinations.ai/incolab.html?node=12D3KooWJFP7na6iU65CUMHko325M1vsz6w9ZxQmhB4zrC6NXjNE`\n",
              "  document.querySelector(\"#output-area\").appendChild(iframe)\n",
              "  const iframe2 = document.createElement(\"iframe\")\n",
              "  iframe2.src = `http://localhost:3000/incolab.html?node=12D3KooWJFP7na6iU65CUMHko325M1vsz6w9ZxQmhB4zrC6NXjNE`\n",
              "  document.querySelector(\"#output-area\").appendChild(iframe2)\n"
            ],
            "text/plain": [
              "<IPython.core.display.Javascript object>"
            ]
          },
          "metadata": {
            "tags": []
          }
        }
      ]
    },
    {
      "cell_type": "code",
      "metadata": {
        "id": "yerLsamovWhd",
        "cellView": "form"
      },
      "source": [
        "#@title Receive first IPFS state. Watch and send ipfs output folder &\n",
        "\n",
        "def get_params():\n",
        "  parameters={}\n",
        "  for path in glob(f\"{ipfs_root}/input/*\"):\n",
        "    key = basename(path)\n",
        "    with open(path,'r') as f: \n",
        "      value = f.read()\n",
        "      #print(\"reading parameter\", value)\n",
        "      try:\n",
        "        parameters[key] = loads(value)\n",
        "      except:\n",
        "        parameters[key] = \"\"\n",
        "  return parameters\n",
        "\n",
        "def get_form_action():\n",
        "  params = get_params()\n",
        "  return \"formAction\" in params and params[\"formAction\"]\n",
        "  \n",
        "\n",
        "def wait_submitted(skip_pollinate=False):\n",
        "  print(\"Waiting for form submission\")\n",
        "  while not get_form_action() == \"submit\":\n",
        "    if skip_pollinate:\n",
        "      !sleep 2\n",
        "    else:\n",
        "      !DEBUG=* pollinate -p $ipfs_root --ipns --receive --once\n",
        "\n",
        "def set_status(status):\n",
        "  status = \"'\" + status + \"'\"\n",
        "  !echo -n  \"$status\" > $ipfs_root/status\n",
        "  print(\"Set status to\",status)\n",
        "\n",
        "wait_submitted()\n",
        "\n",
        "!python /content/pollinations/pollinations/prepare_for_papermill.py $notebook_path\n",
        "\n",
        "!nohup pollinate -p $ipfs_root --ipns &\n",
        "\n",
        "clear_output()"
      ],
      "execution_count": 6,
      "outputs": []
    },
    {
      "cell_type": "code",
      "metadata": {
        "id": "2qcR2Tgghrf3",
        "colab": {
          "base_uri": "https://localhost:8080/"
        },
        "cellView": "form",
        "outputId": "262a497d-7e74-4e23-b108-7aa71680ccd7"
      },
      "source": [
        "#@title Notebook Runner\n",
        "\n",
        "output_path = ipfs_root+\"/output\"\n",
        "\n",
        "first_run=True\n",
        "\n",
        "\n",
        "def run(parameters):\n",
        "  print(\"Running\",parameters)\n",
        " \n",
        "  parameters[\"output_path\"] = output_path\n",
        "  _params = [[\"-p\", quote(key), quote(str(value))] for key, value in parameters.items()]\n",
        "  params = [str(val) for sublist in _params for val in sublist]\n",
        "\n",
        "\n",
        "  cmd = [\"papermill\", notebook_path, f\"/content/notebook_output.ipynb\"] + params + [\"--log-output\"]\n",
        "  print(\"Running cmd\",\" \".join(cmd))\n",
        "\n",
        "  with open(ipfs_root+\"/output/log\",\"a\") as logout:\n",
        "    p = Popen(cmd, \n",
        "            stdout = logout, \n",
        "            stderr = logout, \n",
        "            shell = False,\n",
        "            text = True,\n",
        "            cwd = worker_root\n",
        "            )#.communicate()# as p:\n",
        "    while p.returncode is None:\n",
        "      form_action = get_form_action()\n",
        "      #print(\"form action\", form_action)\n",
        "      if form_action == \"cancel\":\n",
        "        print(\"killing!!!\")\n",
        "        !rm -v $ipfs_root/input/formAction\n",
        "        p.kill()\n",
        "        p.terminate()\n",
        "        break\n",
        "      if p.returncode is not None:\n",
        "        print(\"got return code\", p.returncode)\n",
        "        break\n",
        "      !sleep 2\n",
        "  \n",
        "while True:\n",
        "  set_status(\"waiting\")\n",
        "  if not first_run:\n",
        "    wait_submitted(skip_pollinate=True)\n",
        "    !python /content/pollinations/pollinations/prepare_for_papermill.py $notebook_path\n",
        "  first_run = False\n",
        "  parameters = get_params()\n",
        "  print(\"New parameters\", parameters)\n",
        "  set_status(\"running\")\n",
        "  !rm -v $ipfs_root/input/formAction\n",
        "  run(parameters)\n"
      ],
      "execution_count": null,
      "outputs": [
        {
          "output_type": "stream",
          "text": [
            "Set status to 'waiting'\n",
            "New parameters {'text_input': 'Vibrant painting in the style of Dali. ', 'text_not': 'disconnected, confusing, incoherent, cluttered, watermarks, text, writing', 'num_iterations': 700, 'formAction': 'submit'}\n",
            "Set status to 'running'\n",
            "removed '/content/ipfs/input/formAction'\n",
            "Running {'text_input': 'Vibrant painting in the style of Dali. ', 'text_not': 'disconnected, confusing, incoherent, cluttered, watermarks, text, writing', 'num_iterations': 700, 'formAction': 'submit'}\n",
            "Running cmd papermill /content/ipfs/notebook.ipynb /content/notebook_output.ipynb -p text_input 'Vibrant painting in the style of Dali. ' -p text_not 'disconnected, confusing, incoherent, cluttered, watermarks, text, writing' -p num_iterations 700 -p formAction submit -p output_path /content/ipfs/output --log-output\n",
            "killing!!!\n",
            "removed '/content/ipfs/input/formAction'\n",
            "Set status to 'waiting'\n",
            "Waiting for form submission\n",
            "{\n",
            "    \"num_iterations\": {\n",
            "        \"default\": \"700\",\n",
            "        \"help\": \"@param {type: \\\"number\\\"}\",\n",
            "        \"inferred_type_name\": \"None\",\n",
            "        \"name\": \"num_iterations\"\n",
            "    },\n",
            "    \"output_path\": {\n",
            "        \"default\": \"\\\"/content/output\\\"\",\n",
            "        \"help\": \"\",\n",
            "        \"inferred_type_name\": \"None\",\n",
            "        \"name\": \"output_path\"\n",
            "    },\n",
            "    \"text_input\": {\n",
            "        \"default\": \"'Vibrant painting in the style of Dali. '\",\n",
            "        \"help\": \"@param {type: \\\"string\\\"}\",\n",
            "        \"inferred_type_name\": \"None\",\n",
            "        \"name\": \"text_input\"\n",
            "    },\n",
            "    \"text_not\": {\n",
            "        \"default\": \"'disconnected, confusing, incoherent, cluttered, watermarks, text, writing'\",\n",
            "        \"help\": \"@param {type: \\\"string\\\"}\",\n",
            "        \"inferred_type_name\": \"None\",\n",
            "        \"name\": \"text_not\"\n",
            "    }\n",
            "}\n",
            "New parameters {'text_input': 'Accurate scientific drawing of the Loch Ness monster', 'text_not': 'disconnected, confusing, incoherent, cluttered, watermarks, text, writing', 'num_iterations': 700, 'formAction': 'submit'}\n",
            "Set status to 'running'\n",
            "removed '/content/ipfs/input/formAction'\n",
            "Running {'text_input': 'Accurate scientific drawing of the Loch Ness monster', 'text_not': 'disconnected, confusing, incoherent, cluttered, watermarks, text, writing', 'num_iterations': 700, 'formAction': 'submit'}\n",
            "Running cmd papermill /content/ipfs/notebook.ipynb /content/notebook_output.ipynb -p text_input 'Accurate scientific drawing of the Loch Ness monster' -p text_not 'disconnected, confusing, incoherent, cluttered, watermarks, text, writing' -p num_iterations 700 -p formAction submit -p output_path /content/ipfs/output --log-output\n"
          ],
          "name": "stdout"
        }
      ]
    }
  ]
}