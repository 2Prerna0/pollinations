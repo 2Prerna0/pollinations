{
  "nbformat": 4,
  "nbformat_minor": 0,
  "metadata": {
    "colab": {
      "name": "Pollinator",
      "provenance": [],
      "collapsed_sections": [],
      "include_colab_link": true
    },
    "kernelspec": {
      "name": "python3",
      "display_name": "Python 3"
    }
  },
  "cells": [
    {
      "cell_type": "markdown",
      "metadata": {
        "id": "view-in-github",
        "colab_type": "text"
      },
      "source": [
        "<a href=\"https://colab.research.google.com/github/voodoohop/pollinations/blob/dev/colabs/pollinator.ipynb\" target=\"_parent\"><img src=\"https://colab.research.google.com/assets/colab-badge.svg\" alt=\"Open In Colab\"/></a>"
      ]
    },
    {
      "cell_type": "markdown",
      "metadata": {
        "id": "z8RkOYkzmGDW"
      },
      "source": [
        "## Code (Frontend and IPFS Connection)"
      ]
    },
    {
      "cell_type": "code",
      "metadata": {
        "id": "3PiLb9pJVe0R"
      },
      "source": [
        "!killall -9 ipfs"
      ],
      "execution_count": null,
      "outputs": []
    },
    {
      "cell_type": "code",
      "metadata": {
        "id": "9j1zUbMN4VDP"
      },
      "source": [
        "#@title Install IPFS\n",
        "\n",
        "!pip install coolname gdown papermill\n",
        "#!pip install asyncio nest-asyncio coolname aioipfs\n",
        "#!pip install ipfshttpclient\n",
        "#!npm install -g nodemon\n",
        "#!npm install -g voodoohop/pollinations/app\n",
        "\n",
        "\n",
        "%cd /content\n",
        "!git clone https://github.com/voodoohop/pollinations.git\n",
        "%cd /content/pollinations/app\n",
        "!git pull\n",
        "!git checkout dev \n",
        "!git pull\n",
        "!npm install\n",
        "!npm install -g\n",
        "%cd -\n",
        "#!npm install forever -g"
      ],
      "execution_count": null,
      "outputs": []
    },
    {
      "cell_type": "code",
      "metadata": {
        "id": "RcWlME-DwhrS"
      },
      "source": [
        "#@title Config\n",
        "from coolname import generate_slug\n",
        "#ipfs_nodeid = generate_slug(2)#asyncio.run(loop.create_task(get_node_id()))\n",
        "IPFS_PEER = \"ipfs.pollinations.ai\"\n",
        "ipfs_root = \"/content/ipfs_root\"\n",
        "\n",
        "print(f\"---Settings---\\nIPFS_ROOT: {ipfs_root}\\nIPFS_PEER: {IPFS_PEER}\")"
      ],
      "execution_count": null,
      "outputs": []
    },
    {
      "cell_type": "code",
      "metadata": {
        "id": "pWfAE_iqBMdB"
      },
      "source": [
        "#@title Empty and create ipfs root: */content/ipfs*\n",
        "\n",
        "\n",
        "\n",
        "!rm -r $ipfs_root\n",
        "!mkdir -p $ipfs_root/input\n",
        "!mkdir -p $ipfs_root/output\n",
        "!echo \"Created IPFS resource\" > $ipfs_root/output/log\n",
        "\n",
        "parameters={\"bla\":2}\n",
        "for key, default in parameters.items():\n",
        "    print(default, file=open(f\"{ipfs_root}/input/{key}\", 'a'))\n",
        "\n"
      ],
      "execution_count": null,
      "outputs": []
    },
    {
      "cell_type": "code",
      "metadata": {
        "id": "hH76cPjgwZBJ"
      },
      "source": [
        "!wget https://dist.ipfs.io/go-ipfs/v0.8.0/go-ipfs_v0.8.0_linux-amd64.tar.gz\n",
        "!tar -xvzf go-ipfs_v0.8.0_linux-amd64.tar.gz\n",
        "%cd go-ipfs\n",
        "!sudo bash install.sh\n",
        "%cd -\n",
        "!ipfs init --profile test\n",
        "#!mkdir -p /ipfs\n",
        "#!mkdir -p /ipns\n",
        "!ipfs config Addresses.API /ip4/0.0.0.0/tcp/5001\n",
        "!ipfs config --json API.HTTPHeaders.Access-Control-Allow-Origin '[\"*\"]'\n",
        "!nohup ipfs daemon --enable-namesys-pubsub --enable-pubsub-experiment  &\n",
        "!sleep 15\n",
        "!ipfs swarm connect /ip4/18.157.205.205/tcp/4001/p2p/12D3KooWDwQ1R9ZmDRv8aWL4dJ4svS9AYvwfJicQ1F45W5aHAVmy\n",
        "\n"
      ],
      "execution_count": null,
      "outputs": []
    },
    {
      "cell_type": "code",
      "metadata": {
        "id": "I2TUR4jTc15O"
      },
      "source": [
        "from os.path import join\n",
        "\n",
        "\n",
        "notebook_path = join(ipfs_root,\"latentvisions.ipynb\")\n",
        "notebook_params_path = join(ipfs_root,\"parameters.json\")\n",
        "\n",
        "!gdown --id 1zOA0bUJ68zuZXcbCoN2LPNjnkvxzFpv_ -O $notebook_path\n",
        "\n",
        "!python pollinations/pollinations/get_params.py $notebook_path > $notebook_params_path"
      ],
      "execution_count": null,
      "outputs": []
    },
    {
      "cell_type": "code",
      "metadata": {
        "id": "fkHiUZqQ8EtE"
      },
      "source": [
        "!echo $ipfs_root\n",
        "content_id=!ipfs add -r -Q $ipfs_root\n",
        "content_id=content_id[0]\n",
        "node_id=!ipfs name publish -Q --offline /ipfs/$content_id\n",
        "node_id=node_id[0]\n",
        "\n",
        "#!ipfs pubsub pub $node_id $content_id\n",
        "print(content_id,node_id)"
      ],
      "execution_count": null,
      "outputs": []
    },
    {
      "cell_type": "code",
      "metadata": {
        "id": "A4TYvT7yoGvE",
        "cellView": "form"
      },
      "source": [
        "#@title Create connection to frontend UI\n",
        "\n",
        "import IPython\n",
        "from google.colab import output\n",
        "\n",
        "display(IPython.display.Javascript(f'''\n",
        "  const iframe = document.createElement(\"iframe\")\n",
        "  iframe.src = `http://localhost:3000/incolab.html?node={node_id},{content_id}`\n",
        "\n",
        "  document.querySelector(\"#output-area\").appendChild(iframe)\n",
        "'''))\n",
        "\n"
      ],
      "execution_count": null,
      "outputs": []
    },
    {
      "cell_type": "code",
      "metadata": {
        "id": "Dh8r_667U5gc",
        "colab": {
          "base_uri": "https://localhost:8080/"
        },
        "outputId": "4f3bcc65-f11b-4a9b-d479-6c47f7967ad5"
      },
      "source": [
        "!ipfs pubsub sub $node_id | DEBUG=* pollinate -p /content/ipfs_root --ipns"
      ],
      "execution_count": 37,
      "outputs": [
        {
          "output_type": "stream",
          "text": [
            "  \u001b[32;1mipfsConnector \u001b[0mConnecting to IPFS http://ipfs.pollinations.ai:5001 \u001b[32m+0ms\u001b[0m\n",
            "  \u001b[32;1mipfsConnector \u001b[0mNodeID Promise { <pending> } \u001b[32m+142ms\u001b[0m\n",
            "  \u001b[31;1mipfsWatch \u001b[0mCLI options {\n",
            "  path: '/content/ipfs_root',\n",
            "  receive: false,\n",
            "  send: false,\n",
            "  once: false,\n",
            "  ipns: true\n",
            "} \u001b[31m+0ms\u001b[0m\n",
            "  \u001b[32;1mipfsConnector \u001b[0mCreating folder / mfsRoot / \u001b[32m+9ms\u001b[0m\n",
            "  \u001b[31;1mipfsWatch \u001b[0mIPFS: Created root IPFS path (if it did not exist) \u001b[31m+591ms\u001b[0m\n",
            "  \u001b[31;1mipfsWatch \u001b[0mLocal: Watching /content/ipfs_root \u001b[31m+0ms\u001b[0m\n",
            "  \u001b[31;1mipfsWatch \u001b[0mChanged files [\n",
            "  { file: 'output', event: 'addDir' },\n",
            "  { file: 'input', event: 'addDir' },\n",
            "  { file: 'output/log', event: 'add' },\n",
            "  { file: 'input/text_not', event: 'add' },\n",
            "  { file: 'input/text_input', event: 'add' },\n",
            "  { file: 'input/num_iterations', event: 'add' },\n",
            "  { file: 'input/bla', event: 'add' },\n",
            "  { file: 'parameters.json', event: 'add' },\n",
            "  { file: 'latentvisions.ipynb', event: 'add' },\n",
            "  { file: 'README.md', event: 'add' }\n",
            "] \u001b[31m+2s\u001b[0m\n",
            "  \u001b[32;1mipfsConnector \u001b[0mCreating folder output mfsRoot output \u001b[32m+2s\u001b[0m\n",
            "  \u001b[32;1mipfsConnector \u001b[0mCreating folder input mfsRoot input \u001b[32m+1ms\u001b[0m\n",
            "  \u001b[31;1mipfs-http-client:lib:error-handler \u001b[0m{\n",
            "  \u001b[31;1mipfs-http-client:lib:error-handler \u001b[0m  Message: \u001b[32m'paths must start with a leading slash'\u001b[39m,\n",
            "  \u001b[31;1mipfs-http-client:lib:error-handler \u001b[0m  Code: \u001b[33m0\u001b[39m,\n",
            "  \u001b[31;1mipfs-http-client:lib:error-handler \u001b[0m  Type: \u001b[32m'error'\u001b[39m\n",
            "  \u001b[31;1mipfs-http-client:lib:error-handler \u001b[0m} \u001b[31m+0ms\u001b[0m\n",
            "(node:16911) UnhandledPromiseRejectionWarning: HTTPError: paths must start with a leading slash\n",
            "    at Object.errorHandler [as handleError] (/content/pollinations/app/node_modules/ipfs-http-client/src/lib/core.js:100:15)\n",
            "    at processTicksAndRejections (internal/process/task_queues.js:93:5)\n",
            "    at async Client.fetch (/content/pollinations/app/node_modules/ipfs-utils/src/http.js:146:9)\n",
            "    at async Object.mkdir (/content/pollinations/app/node_modules/ipfs-http-client/src/files/mkdir.js:16:17)\n",
            "    at async ipfsMkdir (file:///content/pollinations/app/src/network/ipfsConnector.js:112:5)\n",
            "    at async file:///content/pollinations/app/src/backend/ipfsWatch.js:84:9\n",
            "    at async Promise.all (index 0)\n",
            "    at async incrementalUpdate (file:///content/pollinations/app/src/backend/ipfsWatch.js:79:5)\n",
            "(Use `node --trace-warnings ...` to show where the warning was created)\n",
            "(node:16911) UnhandledPromiseRejectionWarning: Unhandled promise rejection. This error originated either by throwing inside of an async function without a catch block, or by rejecting a promise which was not handled with .catch(). To terminate the node process on unhandled promise rejection, use the CLI flag `--unhandled-rejections=strict` (see https://nodejs.org/api/cli.html#cli_unhandled_rejections_mode). (rejection id: 1)\n",
            "(node:16911) [DEP0018] DeprecationWarning: Unhandled promise rejections are deprecated. In the future, promise rejections that are not handled will terminate the Node.js process with a non-zero exit code.\n",
            "  \u001b[31;1mipfs-http-client:lib:error-handler \u001b[0m{\n",
            "  \u001b[31;1mipfs-http-client:lib:error-handler \u001b[0m  Message: \u001b[32m'paths must start with a leading slash'\u001b[39m,\n",
            "  \u001b[31;1mipfs-http-client:lib:error-handler \u001b[0m  Code: \u001b[33m0\u001b[39m,\n",
            "  \u001b[31;1mipfs-http-client:lib:error-handler \u001b[0m  Type: \u001b[32m'error'\u001b[39m\n",
            "  \u001b[31;1mipfs-http-client:lib:error-handler \u001b[0m} \u001b[31m+263ms\u001b[0m\n",
            "  \u001b[32;1mipfsConnector \u001b[0madded Qmbj3AxwdsTAtgDDEt91Yr7RaHqBTseABrnKyFzNycjjuH size Object [AsyncGenerator] {} \u001b[32m+808ms\u001b[0m\n",
            "  \u001b[32;1mipfsConnector \u001b[0mcopying to output/log \u001b[32m+0ms\u001b[0m\n",
            "  \u001b[32;1mipfsConnector \u001b[0madded QmSYrPBa2anW6fCM8QXuBYpJz3EsxvbsQNTmmXriqn8CAE size Object [AsyncGenerator] {} \u001b[32m+9ms\u001b[0m\n",
            "  \u001b[32;1mipfsConnector \u001b[0mcopying to input/num_iterations \u001b[32m+0ms\u001b[0m\n",
            "  \u001b[32;1mipfsConnector \u001b[0madded QmT2myY82SjSS2EBEngq9ffNrrBqq975iussGLepzhrnDv size Object [AsyncGenerator] {} \u001b[32m+4ms\u001b[0m\n",
            "  \u001b[32;1mipfsConnector \u001b[0mcopying to input/text_input \u001b[32m+0ms\u001b[0m\n",
            "  \u001b[32;1mipfsConnector \u001b[0madded QmPF1HbZHnRuDGudsb6LuG1nvm4SwZwufb4bmMEkT7pjbw size Object [AsyncGenerator] {} \u001b[32m+5ms\u001b[0m\n",
            "  \u001b[32;1mipfsConnector \u001b[0mcopying to input/text_not \u001b[32m+0ms\u001b[0m\n",
            "  \u001b[32;1mipfsConnector \u001b[0madded QmSFxnK675wQ9Kc1uqWKyJUaNxvSc2BP5DbXCD3x93oq61 size Object [AsyncGenerator] {} \u001b[32m+45ms\u001b[0m\n",
            "  \u001b[32;1mipfsConnector \u001b[0mcopying to input/bla \u001b[32m+1ms\u001b[0m\n",
            "  \u001b[32;1mipfsConnector \u001b[0madded QmWUsLqjfQWch3PCrStT7Y5Zd6VjSTfgNufHjA4S56fFho size Object [AsyncGenerator] {} \u001b[32m+12ms\u001b[0m\n",
            "  \u001b[32;1mipfsConnector \u001b[0mcopying to parameters.json \u001b[32m+1ms\u001b[0m\n",
            "  \u001b[32;1mipfsConnector \u001b[0madded QmToji6Yiar29MS8scqikSVzC3d444iiptRjFpSCFSiANe size Object [AsyncGenerator] {} \u001b[32m+204ms\u001b[0m\n",
            "  \u001b[32;1mipfsConnector \u001b[0mcopying to README.md \u001b[32m+0ms\u001b[0m\n",
            "  \u001b[31;1mipfs-http-client:lib:error-handler \u001b[0m{\n",
            "  \u001b[31;1mipfs-http-client:lib:error-handler \u001b[0m  Message: \u001b[32m'paths must start with a leading slash'\u001b[39m,\n",
            "  \u001b[31;1mipfs-http-client:lib:error-handler \u001b[0m  Code: \u001b[33m0\u001b[39m,\n",
            "  \u001b[31;1mipfs-http-client:lib:error-handler \u001b[0m  Type: \u001b[32m'error'\u001b[39m\n",
            "  \u001b[31;1mipfs-http-client:lib:error-handler \u001b[0m} \u001b[31m+794ms\u001b[0m\n",
            "  \u001b[31;1mipfs-http-client:lib:error-handler \u001b[0m{\n",
            "  \u001b[31;1mipfs-http-client:lib:error-handler \u001b[0m  Message: \u001b[32m'paths must start with a leading slash'\u001b[39m,\n",
            "  \u001b[31;1mipfs-http-client:lib:error-handler \u001b[0m  Code: \u001b[33m0\u001b[39m,\n",
            "  \u001b[31;1mipfs-http-client:lib:error-handler \u001b[0m  Type: \u001b[32m'error'\u001b[39m\n",
            "  \u001b[31;1mipfs-http-client:lib:error-handler \u001b[0m} \u001b[31m+9ms\u001b[0m\n",
            "  \u001b[31;1mipfs-http-client:lib:error-handler \u001b[0m{\n",
            "  \u001b[31;1mipfs-http-client:lib:error-handler \u001b[0m  Message: \u001b[32m'paths must start with a leading slash'\u001b[39m,\n",
            "  \u001b[31;1mipfs-http-client:lib:error-handler \u001b[0m  Code: \u001b[33m0\u001b[39m,\n",
            "  \u001b[31;1mipfs-http-client:lib:error-handler \u001b[0m  Type: \u001b[32m'error'\u001b[39m\n",
            "  \u001b[31;1mipfs-http-client:lib:error-handler \u001b[0m} \u001b[31m+4ms\u001b[0m\n",
            "  \u001b[32;1mipfsConnector \u001b[0madded QmRUbBGSmwki9MJoPmzH23bR4vYXpgY5jwsMGvQkPFecxs size Object [AsyncGenerator] {} \u001b[32m+248ms\u001b[0m\n",
            "  \u001b[32;1mipfsConnector \u001b[0mcopying to latentvisions.ipynb \u001b[32m+0ms\u001b[0m\n",
            "  \u001b[31;1mipfs-http-client:lib:error-handler \u001b[0m{\n",
            "  \u001b[31;1mipfs-http-client:lib:error-handler \u001b[0m  Message: \u001b[32m'paths must start with a leading slash'\u001b[39m,\n",
            "  \u001b[31;1mipfs-http-client:lib:error-handler \u001b[0m  Code: \u001b[33m0\u001b[39m,\n",
            "  \u001b[31;1mipfs-http-client:lib:error-handler \u001b[0m  Type: \u001b[32m'error'\u001b[39m\n",
            "  \u001b[31;1mipfs-http-client:lib:error-handler \u001b[0m} \u001b[31m+11ms\u001b[0m\n",
            "  \u001b[31;1mipfs-http-client:lib:error-handler \u001b[0m{\n",
            "  \u001b[31;1mipfs-http-client:lib:error-handler \u001b[0m  Message: \u001b[32m'paths must start with a leading slash'\u001b[39m,\n",
            "  \u001b[31;1mipfs-http-client:lib:error-handler \u001b[0m  Code: \u001b[33m0\u001b[39m,\n",
            "  \u001b[31;1mipfs-http-client:lib:error-handler \u001b[0m  Type: \u001b[32m'error'\u001b[39m\n",
            "  \u001b[31;1mipfs-http-client:lib:error-handler \u001b[0m} \u001b[31m+51ms\u001b[0m\n",
            "  \u001b[31;1mipfs-http-client:lib:error-handler \u001b[0m{\n",
            "  \u001b[31;1mipfs-http-client:lib:error-handler \u001b[0m  Message: \u001b[32m'paths must start with a leading slash'\u001b[39m,\n",
            "  \u001b[31;1mipfs-http-client:lib:error-handler \u001b[0m  Code: \u001b[33m0\u001b[39m,\n",
            "  \u001b[31;1mipfs-http-client:lib:error-handler \u001b[0m  Type: \u001b[32m'error'\u001b[39m\n",
            "  \u001b[31;1mipfs-http-client:lib:error-handler \u001b[0m} \u001b[31m+1ms\u001b[0m\n",
            "  \u001b[31;1mipfs-http-client:lib:error-handler \u001b[0m{\n",
            "  \u001b[31;1mipfs-http-client:lib:error-handler \u001b[0m  Message: \u001b[32m'paths must start with a leading slash'\u001b[39m,\n",
            "  \u001b[31;1mipfs-http-client:lib:error-handler \u001b[0m  Code: \u001b[33m0\u001b[39m,\n",
            "  \u001b[31;1mipfs-http-client:lib:error-handler \u001b[0m  Type: \u001b[32m'error'\u001b[39m\n",
            "  \u001b[31;1mipfs-http-client:lib:error-handler \u001b[0m} \u001b[31m+205ms\u001b[0m\n",
            "  \u001b[31;1mipfs-http-client:lib:error-handler \u001b[0m{\n",
            "  \u001b[31;1mipfs-http-client:lib:error-handler \u001b[0m  Message: \u001b[32m'paths must start with a leading slash'\u001b[39m,\n",
            "  \u001b[31;1mipfs-http-client:lib:error-handler \u001b[0m  Code: \u001b[33m0\u001b[39m,\n",
            "  \u001b[31;1mipfs-http-client:lib:error-handler \u001b[0m  Type: \u001b[32m'error'\u001b[39m\n",
            "  \u001b[31;1mipfs-http-client:lib:error-handler \u001b[0m} \u001b[31m+26ms\u001b[0m\n",
            "Error: canceled\n"
          ],
          "name": "stdout"
        }
      ]
    },
    {
      "cell_type": "code",
      "metadata": {
        "id": "CbBRFIXpvv30"
      },
      "source": [
        "async def update_ipfs_content(contentid):\n",
        "  global ipfs_contentid\n",
        "  contentid = contentid.decode(\"utf-8\")\n",
        "  \n",
        "  await client.get(contentid)\n",
        "  !cp -rv $contentid/* $ipfs_root\n",
        "  #!rm -r $contentid\n",
        "  ipfs_contentid = contentid\n",
        "\n",
        "content_id=!ipfs name resolve k51qzi5uqu5dh0esiimwcc251a5oq9ivhjppf1zqip1cpdjcvtwj1olbdmqk9k\n",
        "#on_frontend_data(update_ipfs_content)\n",
        "print(content_id)"
      ],
      "execution_count": null,
      "outputs": []
    },
    {
      "cell_type": "code",
      "metadata": {
        "id": "mD8tRZESGzeP"
      },
      "source": [
        "from glob import glob\n",
        "from os.path import basename\n",
        "for path in glob(f\"{ipfs_root}/input/*\"):\n",
        "  key = basename(path)\n",
        "  with open(path,'r') as f:\n",
        "    value = f.read()\n",
        "    parameters[key] = value\n",
        "\n",
        "print(\"New parameters\", parameters)"
      ],
      "execution_count": null,
      "outputs": []
    },
    {
      "cell_type": "markdown",
      "metadata": {
        "id": "GVkVyH_Fj8P8"
      },
      "source": [
        "## DISABLED! CODE (DEEP-DAZE)"
      ]
    },
    {
      "cell_type": "code",
      "metadata": {
        "id": "2qcR2Tgghrf3"
      },
      "source": [
        "#!pip install --upgrade pip\n",
        "\n",
        "#!pip install --upgrade ipython\n",
        "#import papermill as pm\n",
        "asda\n",
        "from subprocess import Popen, PIPE, STDOUT\n",
        "from sys import stdout\n",
        "import os\n",
        "\n",
        "#parameters[\"text\"] = \"A black and white photo of Saeko with her new Elektron FM synthesizer\"\n",
        "def run(parameters, watch_media_paths=\"./*.jpg\"):\n",
        "  print(\"Running\",parameters)\n",
        " \n",
        "  for filepath in glob(watch_media_paths):\n",
        "    print(\"Deleting\",filepath,\"before starting.\")\n",
        "    os.remove(filepath)\n",
        "\n",
        "  _params = [[\"-p\", key, value] for key, value in parameters.items()]\n",
        "  params = [str(val) for sublist in _params for val in sublist]\n",
        "  #%run latentvisions.ipynb\n",
        "  #!papermill \"./latentvisions.ipynb\" ./output \n",
        "  cmd = [\"papermill\", \"/content/latentvisions.ipynb\",\"/content/latentvisions_output.ipynb\"] + params\n",
        "\n",
        "  p = Popen(cmd, stdout = PIPE, \n",
        "          stderr = STDOUT, shell = False)\n",
        "\n",
        "  found_media_files=[]\n",
        "\n",
        "  while True:\n",
        "    line = p.stdout.readline()#\n",
        "    if not line: break\n",
        "\n",
        "    stdout.write(line)\n",
        "    with open(f\"{ipfs_root}/log\",\"w\") as log_out:\n",
        "      log_out.write(line.decode(\"utf-8\"))\n",
        "      log_out.flush()\n",
        "      \n",
        "    #headers = { \n",
        "    #    \"params\": params,\n",
        "    #    \"text\": text\n",
        "    #}\n",
        "    #conn.send(body=line.decode(\"utf-8\"), headers=headers, destination='/topic/colabOut')\n",
        "    #print(\"new contentid\", client.add(ipfs_root, recursive=True))\n",
        "    \n",
        "    #continue\n",
        "    new_found_media_files = glob(watch_media_paths)\n",
        "    new_found_media_files.sort(key=os.path.getmtime)\n",
        "    added_media_files = list(set(new_found_media_files)-set(found_media_files))\n",
        "    found_media_files = new_found_media_files\n",
        "    pin=False\n",
        "    if len(added_media_files) > 0:\n",
        "      for added in added_media_files:\n",
        "        sleep(0.1)\n",
        "        if len(added) > 0:\n",
        "          !cp $added $ipfs_root/output\n",
        "          print(\"Adding:\", added,\"to ipfs root\")\n",
        "          pin=True\n",
        "    add_and_publish()    \n",
        "        \n",
        "while True:\n",
        "  run(parameters,\"./taming_transformers/*.jpg\")"
      ],
      "execution_count": null,
      "outputs": []
    }
  ]
}