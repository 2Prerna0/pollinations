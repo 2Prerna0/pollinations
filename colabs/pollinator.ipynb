{
  "nbformat": 4,
  "nbformat_minor": 0,
  "metadata": {
    "colab": {
      "name": "Pollinator",
      "provenance": [],
      "collapsed_sections": [],
      "machine_shape": "hm",
      "include_colab_link": true
    },
    "kernelspec": {
      "name": "python3",
      "display_name": "Python 3"
    },
    "accelerator": "GPU"
  },
  "cells": [
    {
      "cell_type": "markdown",
      "metadata": {
        "id": "view-in-github",
        "colab_type": "text"
      },
      "source": [
        "<a href=\"https://colab.research.google.com/github/pollinations/pollinations/blob/dev/colabs/pollinator.ipynb\" target=\"_parent\"><img src=\"https://colab.research.google.com/assets/colab-badge.svg\" alt=\"Open In Colab\"/></a>"
      ]
    },
    {
      "cell_type": "markdown",
      "metadata": {
        "id": "ko_JJEB3YcC9"
      },
      "source": [
        "# Pollinator\n",
        "\n",
        "Does the heavy-lifting for **Pollinations.AI** on Google Colab's free GPUs.\n",
        "\n",
        "Click *Runtime - Run All*, switch back to the **Pollinations** tab of the browser and wait a little for the connection to be established.\n",
        "\n",
        "![](https://pollinations.ai/Runtime-RunAll.png?)"
      ]
    },
    {
      "cell_type": "code",
      "metadata": {
        "id": "RcWlME-DwhrS",
        "cellView": "form"
      },
      "source": [
        "#@title Config and Requirements\n",
        "\n",
        "!pip install --upgrade pip\n",
        "!pip install papermill json5\n",
        "from IPython.display import clear_output\n",
        "from os.path import join, basename\n",
        "from shlex import quote\n",
        "\n",
        "from glob import glob\n",
        "from json5 import loads\n",
        "\n",
        "from subprocess import Popen, PIPE, STDOUT\n",
        "from sys import stdout\n",
        "import os\n",
        "\n",
        "clear_output()\n",
        "#ipfs_nodeid = generate_slug(2)#asyncio.run(loop.create_task(get_node_id()))\n",
        "ipfs_root = \"/content/ipfs\"\n",
        "worker_root = \"/content\"\n",
        "notebook_path = join(ipfs_root,\"input\", \"notebook.ipynb\")\n",
        "\n",
        "print(f\"---Settings---\\nIPFS_ROOT: {ipfs_root}\")"
      ],
      "execution_count": null,
      "outputs": []
    },
    {
      "cell_type": "code",
      "metadata": {
        "id": "pWfAE_iqBMdB",
        "cellView": "form"
      },
      "source": [
        "#@title Empty and create ipfs root: */content/ipfs*\n",
        "\n",
        "\n",
        "\n",
        "!rm -r $ipfs_root\n",
        "!mkdir -p $ipfs_root\n",
        "!mkdir -p $ipfs_root/input\n",
        "!mkdir -p $ipfs_root/output\n",
        "\n",
        "clear_output()"
      ],
      "execution_count": null,
      "outputs": []
    },
    {
      "cell_type": "code",
      "metadata": {
        "id": "9j1zUbMN4VDP",
        "cellView": "form"
      },
      "source": [
        "#@title Install Pollinations CLI\n",
        "\n",
        "%cd /content\n",
        "!git clone https://github.com/voodoohop/pollinations.git\n",
        "%cd /content/pollinations/app\n",
        "!git pull\n",
        "!git checkout dev\n",
        "!git pull\n",
        "!npm run install_backend\n",
        "%cd -\n",
        "\n",
        "clear_output()"
      ],
      "execution_count": null,
      "outputs": []
    },
    {
      "cell_type": "code",
      "metadata": {
        "id": "hH76cPjgwZBJ",
        "cellView": "form"
      },
      "source": [
        "#@title Install and Run IPFS daemon &\n",
        "\n",
        "#!/content/pollinations/ipfs/ipfsd_install_colab.sh\n",
        "#!nohup /content/pollinations/ipfs/ipfsd_forever.sh &\n",
        "#!sleep 5\n",
        "clear_output()\n",
        "\n",
        "\n",
        "node_id=!tr -dc A-Za-z0-9 </dev/urandom | head -c 13 ; echo ''\n",
        "\n",
        "node_id=node_id[0]\n",
        "\n",
        "print(\"---Node ID---:\", node_id)"
      ],
      "execution_count": null,
      "outputs": []
    },
    {
      "cell_type": "code",
      "metadata": {
        "id": "A4TYvT7yoGvE",
        "cellView": "form"
      },
      "source": [
        "#@title Create connection to frontend UI\n",
        "\n",
        "import IPython\n",
        "from google.colab import output\n",
        "\n",
        "display(IPython.display.Javascript(f'''\n",
        "  const iframe = document.createElement(\"iframe\")\n",
        "  iframe.src = `https://pollinations.ai/incolab.html?node={node_id}`\n",
        "  document.querySelector(\"#output-area\").appendChild(iframe)\n",
        "  const iframe2 = document.createElement(\"iframe\")\n",
        "  iframe2.src = `http://localhost:3000/incolab.html?node={node_id}`\n",
        "  document.querySelector(\"#output-area\").appendChild(iframe2)\n",
        "'''))\n",
        "\n",
        "\n"
      ],
      "execution_count": null,
      "outputs": []
    },
    {
      "cell_type": "code",
      "metadata": {
        "id": "yerLsamovWhd",
        "cellView": "form"
      },
      "source": [
        "#@title IPFS state functions\n",
        "\n",
        "def get_params():\n",
        "  parameters={}\n",
        "  for path in glob(f\"{ipfs_root}/input/*\"):\n",
        "    key = basename(path)\n",
        "    if key == \"notebook.ipynb\":\n",
        "      continue\n",
        "    with open(path,'r') as f: \n",
        "      value = f.read()\n",
        "      #print(\"reading parameter\", value)\n",
        "      try:\n",
        "        parameters[key] = loads(value)\n",
        "      except:\n",
        "        parameters[key] = \"\"\n",
        "  return parameters\n",
        "\n",
        "def get_form_action():\n",
        "  params = get_params()\n",
        "  return \"formAction\" in params and params[\"formAction\"]\n",
        "  \n",
        "\n",
        "def wait_submitted(skip_pollinate=False):\n",
        "  print(\"Waiting for form submission\")\n",
        "  while not get_form_action() == \"submit\":\n",
        "    if skip_pollinate:\n",
        "      !sleep 2\n",
        "    else:\n",
        "      !DEBUG=* pollinate -p $ipfs_root/input --ipns -n $node_id --receive --once \n",
        "      # > /content/cid\n",
        "\n",
        "def set_status(status):\n",
        "  status = \"'\" + status + \"'\"\n",
        "  !echo -n  \"$status\" > $ipfs_root/output/status\n",
        "  print(\"Set status to\",status)\n"
      ],
      "execution_count": null,
      "outputs": []
    },
    {
      "cell_type": "code",
      "metadata": {
        "id": "2qcR2Tgghrf3",
        "colab": {
          "base_uri": "https://localhost:8080/"
        },
        "cellView": "form",
        "outputId": "ca68252b-cd68-42db-e6d9-04644a3a60cf"
      },
      "source": [
        "#@title Notebook Runner\n",
        "from time import sleep\n",
        "import sys\n",
        "import matplotlib\n",
        "matplotlib.use('Agg')\n",
        "output_path = ipfs_root+\"/output\"\n",
        "\n",
        "      \n",
        "while True:\n",
        "  #!rm -v $output_path/*    \n",
        "  wait_submitted()\n",
        "  print(\"Running\")\n",
        "  !DEBUG=* pollinate --execute \"run_notebook.sh\" -l $output_path/log -p $ipfs_root --ipns -n $node_id --debounce 100 > /content/cid\n",
        "  !sleep 3\n"
      ],
      "execution_count": null,
      "outputs": [
        {
          "output_type": "stream",
          "text": [
            "  \u001b[33;1mipfs/sender \u001b[0mChanged files [ { file: 'output/progress_00275.jpg', event: 'add' } ] \u001b[33m+3s\u001b[0m\n",
            "  \u001b[32;1mipfsConnector \u001b[0madding /tmp_9838/output/progress_00275.jpg options {} \u001b[32m+3s\u001b[0m\n",
            "  \u001b[32;1mipfsConnector \u001b[0madded QmZ4yEFAmBXAcmojVkhp8sKnXHdfqFVADUrkRFMC13h4Hj size Object [AsyncGenerator] {} \u001b[32m+497ms\u001b[0m\n",
            "  \u001b[32;1mipfsConnector \u001b[0mTrying to delete /tmp_9838/output/progress_00275.jpg \u001b[32m+0ms\u001b[0m\n",
            "  \u001b[31;1mipfs-http-client:lib:error-handler \u001b[0m{ Message: \u001b[32m'file does not exist'\u001b[39m, Code: \u001b[33m0\u001b[39m, Type: \u001b[32m'error'\u001b[39m } \u001b[31m+4s\u001b[0m\n",
            "  \u001b[32;1mipfsConnector \u001b[0mCould not delete. Probably did not exist. \u001b[32m+146ms\u001b[0m\n",
            "  \u001b[32;1mipfsConnector \u001b[0mcopying to /tmp_9838/output/progress_00275.jpg \u001b[32m+0ms\u001b[0m\n",
            "  \u001b[33;1mipfs/sender \u001b[0mpublish QmXLh3dXuUUfNpXCUbjJ3jkVaEHaKsevvXs6PpQ7rRQiVK \u001b[33m+987ms\u001b[0m\n",
            "  \u001b[32;1mipfsConnector \u001b[0mpublish pubsub apo5Oomr5cZ4J QmXLh3dXuUUfNpXCUbjJ3jkVaEHaKsevvXs6PpQ7rRQiVK \u001b[32m+343ms\u001b[0m\n",
            "i: 280, loss: 0.607249, losses: 0, 0.607249\n",
            "\n",
            "<IPython.core.display.Image object>\n",
            "  \u001b[33;1mipfs/sender \u001b[0mChanged files [ { file: 'output/progress_00280.jpg', event: 'add' } ] \u001b[33m+3s\u001b[0m\n",
            "  \u001b[32;1mipfsConnector \u001b[0madding /tmp_9838/output/progress_00280.jpg options {} \u001b[32m+3s\u001b[0m\n",
            "  \u001b[32;1mipfsConnector \u001b[0madded QmTAyEAiJg5kkaDd9Shtvp1P6mjgvx5wmmJykrKeHkJB1y size Object [AsyncGenerator] {} \u001b[32m+453ms\u001b[0m\n",
            "  \u001b[32;1mipfsConnector \u001b[0mTrying to delete /tmp_9838/output/progress_00280.jpg \u001b[32m+1ms\u001b[0m\n",
            "  \u001b[31;1mipfs-http-client:lib:error-handler \u001b[0m{ Message: \u001b[32m'file does not exist'\u001b[39m, Code: \u001b[33m0\u001b[39m, Type: \u001b[32m'error'\u001b[39m } \u001b[31m+4s\u001b[0m\n",
            "  \u001b[32;1mipfsConnector \u001b[0mCould not delete. Probably did not exist. \u001b[32m+140ms\u001b[0m\n",
            "  \u001b[32;1mipfsConnector \u001b[0mcopying to /tmp_9838/output/progress_00280.jpg \u001b[32m+0ms\u001b[0m\n",
            "  \u001b[33;1mipfs/sender \u001b[0mpublish QmUvHJpgRTZE5Lr4VWFh1Pd3gpHLUKMoWspXJsK8CA9n7F \u001b[33m+913ms\u001b[0m\n",
            "  \u001b[32;1mipfsConnector \u001b[0mpublish pubsub apo5Oomr5cZ4J QmUvHJpgRTZE5Lr4VWFh1Pd3gpHLUKMoWspXJsK8CA9n7F \u001b[32m+319ms\u001b[0m\n",
            "i: 285, loss: 0.606082, losses: 0, 0.606082\n",
            "\n",
            "<IPython.core.display.Image object>\n",
            "  \u001b[33;1mipfs/sender \u001b[0mChanged files [ { file: 'output/progress_00285.jpg', event: 'add' } ] \u001b[33m+3s\u001b[0m\n",
            "  \u001b[32;1mipfsConnector \u001b[0madding /tmp_9838/output/progress_00285.jpg options {} \u001b[32m+3s\u001b[0m\n",
            "  \u001b[32;1mipfsConnector \u001b[0madded QmXa3AcK1nEjcTrmpyU2LiPQ8dU9hY3LJDhZ6cMjRzLWpd size Object [AsyncGenerator] {} \u001b[32m+452ms\u001b[0m\n",
            "  \u001b[32;1mipfsConnector \u001b[0mTrying to delete /tmp_9838/output/progress_00285.jpg \u001b[32m+0ms\u001b[0m\n",
            "  \u001b[31;1mipfs-http-client:lib:error-handler \u001b[0m{ Message: \u001b[32m'file does not exist'\u001b[39m, Code: \u001b[33m0\u001b[39m, Type: \u001b[32m'error'\u001b[39m } \u001b[31m+4s\u001b[0m\n",
            "  \u001b[32;1mipfsConnector \u001b[0mCould not delete. Probably did not exist. \u001b[32m+140ms\u001b[0m\n",
            "  \u001b[32;1mipfsConnector \u001b[0mcopying to /tmp_9838/output/progress_00285.jpg \u001b[32m+0ms\u001b[0m\n",
            "  \u001b[33;1mipfs/sender \u001b[0mpublish QmUexbQdaK4CsGu3m7ix2FpGXSSE2BfrgHP2YK3fQwYde3 \u001b[33m+898ms\u001b[0m\n",
            "  \u001b[32;1mipfsConnector \u001b[0mpublish pubsub apo5Oomr5cZ4J QmUexbQdaK4CsGu3m7ix2FpGXSSE2BfrgHP2YK3fQwYde3 \u001b[32m+307ms\u001b[0m\n"
          ],
          "name": "stdout"
        }
      ]
    }
  ]
}