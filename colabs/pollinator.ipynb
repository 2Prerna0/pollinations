{
  "nbformat": 4,
  "nbformat_minor": 0,
  "metadata": {
    "colab": {
      "name": "Pollinator",
      "provenance": [],
      "collapsed_sections": [],
      "toc_visible": true,
      "include_colab_link": true
    },
    "kernelspec": {
      "name": "python3",
      "display_name": "Python 3"
    }
  },
  "cells": [
    {
      "cell_type": "markdown",
      "metadata": {
        "id": "view-in-github",
        "colab_type": "text"
      },
      "source": [
        "<a href=\"https://colab.research.google.com/github/voodoohop/pollinations/blob/dev/colabs/pollinator.ipynb\" target=\"_parent\"><img src=\"https://colab.research.google.com/assets/colab-badge.svg\" alt=\"Open In Colab\"/></a>"
      ]
    },
    {
      "cell_type": "markdown",
      "metadata": {
        "id": "z8RkOYkzmGDW"
      },
      "source": [
        "## Code (Frontend and IPFS Connection)"
      ]
    },
    {
      "cell_type": "code",
      "metadata": {
        "id": "9j1zUbMN4VDP"
      },
      "source": [
        "#@title Install IPFS\n",
        "\n",
        "!pip install coolname gdown papermill json5\n",
        "#!pip install asyncio nest-asyncio coolname aioipfs\n",
        "#!pip install ipfshttpclient\n",
        "#!npm install -g nodemon\n",
        "#!npm install -g voodoohop/pollinations/app\n",
        "\n",
        "\n",
        "%cd /content\n",
        "!git clone https://github.com/voodoohop/pollinations.git\n",
        "%cd /content/pollinations/app\n",
        "!git pull\n",
        "!git checkout dev \n",
        "!git pull\n",
        "!npm install\n",
        "!npm install -g\n",
        "%cd -\n",
        "#!npm install forever -g"
      ],
      "execution_count": null,
      "outputs": []
    },
    {
      "cell_type": "code",
      "metadata": {
        "id": "RcWlME-DwhrS"
      },
      "source": [
        "#@title Config\n",
        "from coolname import generate_slug\n",
        "#ipfs_nodeid = generate_slug(2)#asyncio.run(loop.create_task(get_node_id()))\n",
        "IPFS_PEER = \"ipfs.pollinations.ai\"\n",
        "ipfs_root = \"/content/ipfs_root\"\n",
        "\n",
        "print(f\"---Settings---\\nIPFS_ROOT: {ipfs_root}\\nIPFS_PEER: {IPFS_PEER}\")"
      ],
      "execution_count": null,
      "outputs": []
    },
    {
      "cell_type": "code",
      "metadata": {
        "id": "pWfAE_iqBMdB"
      },
      "source": [
        "#@title Empty and create ipfs root: */content/ipfs*\n",
        "\n",
        "\n",
        "\n",
        "!rm -r $ipfs_root\n",
        "!mkdir -p $ipfs_root/input\n",
        "!mkdir -p $ipfs_root/output\n",
        "!echo \"Created IPFS resource\" > $ipfs_root/output/log\n",
        "\n",
        "#parameters={\"bla\":2}\n",
        "#for key, default in parameters.items():\n",
        "#    print(default, file=open(f\"{ipfs_root}/input/{key}\", 'a'))\n",
        "\n"
      ],
      "execution_count": null,
      "outputs": []
    },
    {
      "cell_type": "code",
      "metadata": {
        "id": "hH76cPjgwZBJ"
      },
      "source": [
        "!wget https://dist.ipfs.io/go-ipfs/v0.8.0/go-ipfs_v0.8.0_linux-amd64.tar.gz\n",
        "!tar -xvzf go-ipfs_v0.8.0_linux-amd64.tar.gz\n",
        "%cd go-ipfs\n",
        "!sudo bash install.sh\n",
        "%cd -\n",
        "!ipfs init --profile test\n",
        "#!mkdir -p /ipfs\n",
        "#!mkdir -p /ipns\n",
        "!ipfs config Addresses.API /ip4/0.0.0.0/tcp/5001\n",
        "!ipfs config --json API.HTTPHeaders.Access-Control-Allow-Origin '[\"*\"]'\n",
        "!nohup  /content/pollinations/pollinations/ipfsd_forever.sh > $ipfs_root/output/log &\n",
        "!sleep 13\n",
        "\n"
      ],
      "execution_count": null,
      "outputs": []
    },
    {
      "cell_type": "code",
      "metadata": {
        "id": "I2TUR4jTc15O"
      },
      "source": [
        "from os.path import join\n",
        "\n",
        "\n",
        "notebook_path = join(ipfs_root,\"latentvisions.ipynb\")\n",
        "notebook_params_path = join(ipfs_root,\"parameters.json\")\n",
        "\n",
        "!gdown --id 1zOA0bUJ68zuZXcbCoN2LPNjnkvxzFpv_ -O $notebook_path\n",
        "\n",
        "!python pollinations/pollinations/get_params.py $notebook_path $ipfs_root > $notebook_params_path"
      ],
      "execution_count": null,
      "outputs": []
    },
    {
      "cell_type": "code",
      "metadata": {
        "id": "fkHiUZqQ8EtE"
      },
      "source": [
        "!echo $ipfs_root\n",
        "content_id=!ipfs add -r -Q $ipfs_root\n",
        "content_id=content_id[0]\n",
        "node_id=!ipfs id -f=\"<id>\\n\"\n",
        "node_id=node_id[0]\n",
        "\n",
        "#!ipfs pubsub pub $node_id $content_id\n",
        "print(content_id,node_id)"
      ],
      "execution_count": null,
      "outputs": []
    },
    {
      "cell_type": "code",
      "metadata": {
        "id": "A4TYvT7yoGvE"
      },
      "source": [
        "#@title Create connection to frontend UI\n",
        "\n",
        "import IPython\n",
        "from google.colab import output\n",
        "print(node_id,content_id)\n",
        "display(IPython.display.Javascript(f'''\n",
        "  const iframe = document.createElement(\"iframe\")\n",
        "  iframe.src = `http://localhost:3000/incolab.html?node={node_id},{content_id}`\n",
        "\n",
        "  document.querySelector(\"#output-area\").appendChild(iframe)\n",
        "'''))\n",
        "\n"
      ],
      "execution_count": null,
      "outputs": []
    },
    {
      "cell_type": "code",
      "metadata": {
        "id": "Dh8r_667U5gc"
      },
      "source": [
        "#!ipfs pubsub sub $node_id | DEBUG=* pollinate -p /content/ipfs_root --ipns --receive\n",
        "!DEBUG=* pollinate -p /content/ipfs_root --ipns --receive --once"
      ],
      "execution_count": null,
      "outputs": []
    },
    {
      "cell_type": "code",
      "metadata": {
        "id": "mD8tRZESGzeP"
      },
      "source": [
        "from glob import glob\n",
        "from os.path import basename\n",
        "from json5 import loads\n",
        "parameters={}\n",
        "for path in glob(f\"{ipfs_root}/input/*\"):\n",
        "  key = basename(path)\n",
        "  with open(path,'r') as f: \n",
        "    value = f.read()\n",
        "    print(value)\n",
        "    parameters[key] = loads(value)\n",
        "\n",
        "print(\"New parameters\", parameters)"
      ],
      "execution_count": null,
      "outputs": []
    },
    {
      "cell_type": "markdown",
      "metadata": {
        "id": "GVkVyH_Fj8P8"
      },
      "source": [
        "## DISABLED! CODE (DEEP-DAZE)"
      ]
    },
    {
      "cell_type": "code",
      "metadata": {
        "id": "2qcR2Tgghrf3"
      },
      "source": [
        "#!pip install --upgrade pip\n",
        "\n",
        "#!pip install --upgrade ipython\n",
        "#import papermill as pm\n",
        "\n",
        "from subprocess import Popen, PIPE, STDOUT\n",
        "from sys import stdout\n",
        "import os\n",
        "\n",
        "#parameters[\"text\"] = \"A black and white photo of Saeko with her new Elektron FM synthesizer\"\n",
        "def run(parameters, watch_media_paths=\"./*.jpg\"):\n",
        "  print(\"Running\",parameters)\n",
        " \n",
        "  for filepath in glob(watch_media_paths):\n",
        "    print(\"Deleting\",filepath,\"before starting.\")\n",
        "    os.remove(filepath)\n",
        "\n",
        "  _params = [[\"-p\", key, value] for key, value in parameters.items()]\n",
        "  params = [str(val) for sublist in _params for val in sublist]\n",
        "  #%run latentvisions.ipynb\n",
        "  #!papermill \"./latentvisions.ipynb\" ./output \n",
        "  cmd = [\"papermill\", \"/content/latentvisions.ipynb\",\"/content/latentvisions_output.ipynb\"] + params\n",
        "\n",
        "  p = Popen(cmd, stdout = PIPE, \n",
        "          stderr = STDOUT, shell = False)\n",
        "\n",
        "  found_media_files=[]\n",
        "\n",
        "  while True:\n",
        "    line = p.stdout.readline()#\n",
        "    if not line: break\n",
        "\n",
        "    stdout.write(line)\n",
        "    with open(f\"{ipfs_root}/log\",\"w\") as log_out:\n",
        "      log_out.write(line.decode(\"utf-8\"))\n",
        "      log_out.flush()\n",
        "      \n",
        "    #headers = { \n",
        "    #    \"params\": params,\n",
        "    #    \"text\": text\n",
        "    #}\n",
        "    #conn.send(body=line.decode(\"utf-8\"), headers=headers, destination='/topic/colabOut')\n",
        "    #print(\"new contentid\", client.add(ipfs_root, recursive=True))\n",
        "    \n",
        "    #continue\n",
        "    new_found_media_files = glob(watch_media_paths)\n",
        "    new_found_media_files.sort(key=os.path.getmtime)\n",
        "    added_media_files = list(set(new_found_media_files)-set(found_media_files))\n",
        "    found_media_files = new_found_media_files\n",
        "    pin=False\n",
        "    if len(added_media_files) > 0:\n",
        "      for added in added_media_files:\n",
        "        sleep(0.1)\n",
        "        if len(added) > 0:\n",
        "          !cp $added $ipfs_root/output\n",
        "          print(\"Adding:\", added,\"to ipfs root\")\n",
        "          pin=True\n",
        "    add_and_publish()    \n",
        "        \n",
        "while True:\n",
        "  run(parameters,\"./taming_transformers/*.jpg\")"
      ],
      "execution_count": null,
      "outputs": []
    }
  ]
}