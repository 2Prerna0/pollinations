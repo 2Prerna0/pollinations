{
  "nbformat": 4,
  "nbformat_minor": 0,
  "metadata": {
    "colab": {
      "name": "Pollinator",
      "provenance": [],
      "collapsed_sections": [],
      "include_colab_link": true
    },
    "kernelspec": {
      "name": "python3",
      "display_name": "Python 3"
    },
    "accelerator": "GPU"
  },
  "cells": [
    {
      "cell_type": "markdown",
      "metadata": {
        "id": "view-in-github",
        "colab_type": "text"
      },
      "source": [
        "<a href=\"https://colab.research.google.com/github/voodoohop/pollinations/blob/dev/colabs/pollinator.ipynb\" target=\"_parent\"><img src=\"https://colab.research.google.com/assets/colab-badge.svg\" alt=\"Open In Colab\"/></a>"
      ]
    },
    {
      "cell_type": "markdown",
      "metadata": {
        "id": "ko_JJEB3YcC9"
      },
      "source": [
        "# Pollinator\n",
        "\n",
        "Does the heavy-lifting for **Pollinations.AI** on Google Colab's free GPUs.\n",
        "\n",
        "Click *Runtime - Run All* and switch back to the **Pollinations** tab of the browser.\n",
        "\n",
        "![](https://pollinations.ai/Runtime-RunAll.png?)"
      ]
    },
    {
      "cell_type": "code",
      "metadata": {
        "id": "RcWlME-DwhrS",
        "cellView": "form"
      },
      "source": [
        "#@title Config and Requirements\n",
        "!pip install coolname gdown papermill json5\n",
        "from IPython.display import clear_output\n",
        "from coolname import generate_slug\n",
        "from os.path import join, basename\n",
        "from shlex import quote\n",
        "\n",
        "from glob import glob\n",
        "from json5 import loads\n",
        "\n",
        "from subprocess import Popen, PIPE, STDOUT\n",
        "from sys import stdout\n",
        "import os\n",
        "\n",
        "clear_output()\n",
        "#ipfs_nodeid = generate_slug(2)#asyncio.run(loop.create_task(get_node_id()))\n",
        "ipfs_root = \"/content/ipfs\"\n",
        "worker_root = \"/content\"\n",
        "notebook_path = join(ipfs_root,\"notebook.ipynb\")\n",
        "\n",
        "print(f\"---Settings---\\nIPFS_ROOT: {ipfs_root}\")"
      ],
      "execution_count": null,
      "outputs": []
    },
    {
      "cell_type": "code",
      "metadata": {
        "id": "pWfAE_iqBMdB",
        "cellView": "form"
      },
      "source": [
        "#@title Empty and create ipfs root: */content/ipfs*\n",
        "\n",
        "\n",
        "\n",
        "!rm -r $ipfs_root\n",
        "!mkdir -p $ipfs_root/input\n",
        "!mkdir -p $ipfs_root/output\n",
        "!mkdir -p $ipfs_root/status\n",
        "!mkdir -p $worker_root\n",
        "\n",
        "\n",
        "!echo \"Created IPFS resource\" > $ipfs_root/status/log\n",
        "!echo -n '\"initializing\"' > $ipfs_root/status/colabState\n",
        "\n",
        "clear_output()"
      ],
      "execution_count": null,
      "outputs": []
    },
    {
      "cell_type": "code",
      "metadata": {
        "id": "9j1zUbMN4VDP",
        "cellView": "form"
      },
      "source": [
        "#@title Install Pollinations CLI\n",
        "\n",
        "%cd /content\n",
        "!git clone https://github.com/voodoohop/pollinations.git\n",
        "%cd /content/pollinations/app\n",
        "!git pull\n",
        "!git checkout dev \n",
        "!git pull\n",
        "!npm run install_backend\n",
        "%cd -\n",
        "\n",
        "clear_output()"
      ],
      "execution_count": null,
      "outputs": []
    },
    {
      "cell_type": "code",
      "metadata": {
        "id": "hH76cPjgwZBJ",
        "cellView": "form"
      },
      "source": [
        "#@title Run IPFS daemon &\n",
        "\n",
        "!/content/pollinations/ipfs/ipfsd_install_colab.sh\n",
        "!nohup  /content/pollinations/ipfs/ipfsd_forever.sh &\n",
        "!sleep 5\n",
        "clear_output()\n",
        "\n",
        "\n",
        "node_id=!ipfs id -f=\"<id>\\n\"\n",
        "node_id=node_id[0]\n",
        "\n",
        "print(\"---Node ID---:\", node_id)"
      ],
      "execution_count": null,
      "outputs": []
    },
    {
      "cell_type": "code",
      "metadata": {
        "id": "A4TYvT7yoGvE",
        "cellView": "form"
      },
      "source": [
        "#@title Create connection to frontend UI\n",
        "\n",
        "import IPython\n",
        "from google.colab import output\n",
        "\n",
        "display(IPython.display.Javascript(f'''\n",
        "  const iframe = document.createElement(\"iframe\")\n",
        "  iframe.src = `https://pollinations.ai/incolab.html?node={node_id}`\n",
        "  document.querySelector(\"#output-area\").appendChild(iframe)\n",
        "  const iframe2 = document.createElement(\"iframe\")\n",
        "  iframe2.src = `http://localhost:3000/incolab.html?node={node_id}`\n",
        "  document.querySelector(\"#output-area\").appendChild(iframe2)\n",
        "'''))\n",
        "\n",
        "\n"
      ],
      "execution_count": null,
      "outputs": []
    },
    {
      "cell_type": "code",
      "metadata": {
        "id": "yerLsamovWhd",
        "cellView": "form"
      },
      "source": [
        "#@title Receive first IPFS state. Watch and send ipfs output folder &\n",
        "\n",
        "def get_params():\n",
        "  parameters={}\n",
        "  for path in glob(f\"{ipfs_root}/input/*\"):\n",
        "    key = basename(path)\n",
        "    with open(path,'r') as f: \n",
        "      value = f.read()\n",
        "      #print(\"reading parameter\", value)\n",
        "      try:\n",
        "        parameters[key] = loads(value)\n",
        "      except:\n",
        "        parameters[key] = \"\"\n",
        "  return parameters\n",
        "\n",
        "def get_form_action():\n",
        "  params = get_params()\n",
        "  return \"formAction\" in params and params[\"formAction\"]\n",
        "  \n",
        "\n",
        "def wait_submitted(skip_pollinate=False):\n",
        "  print(\"Waiting for form submission\")\n",
        "  #!echo -n '\"waiting\"' > $ipfs_root/status/colabState\n",
        "  while not get_form_action() == \"submit\":\n",
        "    if skip_pollinate:\n",
        "      !sleep 2\n",
        "    else:\n",
        "      !DEBUG=* pollinate -p $ipfs_root --ipns --receive --once\n",
        "  \n",
        "wait_submitted()\n",
        "\n",
        "!python /content/pollinations/pollinations/prepare_for_papermill.py $notebook_path\n",
        "\n",
        "!nohup pollinate -p $ipfs_root --ipns &\n",
        "\n",
        "clear_output()"
      ],
      "execution_count": null,
      "outputs": []
    },
    {
      "cell_type": "code",
      "metadata": {
        "id": "2qcR2Tgghrf3",
        "cellView": "form"
      },
      "source": [
        "#@title Notebook Runner\n",
        "\n",
        "output_path = ipfs_root+\"/output\"\n",
        "\n",
        "first_run=True\n",
        "\n",
        "\n",
        "def run(parameters):\n",
        "  print(\"Running\",parameters)\n",
        " \n",
        "  parameters[\"output_path\"] = output_path\n",
        "  _params = [[\"-p\", quote(key), quote(str(value))] for key, value in parameters.items()]\n",
        "  params = [str(val) for sublist in _params for val in sublist]\n",
        "\n",
        "\n",
        "  cmd = [\"papermill\", notebook_path, f\"/content/notebook_output.ipynb\"] + params + [\"--log-output\"]\n",
        "  print(\"Running cmd\",\" \".join(cmd))\n",
        "\n",
        "  with open(ipfs_root+\"/status/log\",\"a\") as logout:\n",
        "    !echo -n '\"running\"' > $ipfs_root/status/colabState\n",
        "    p = Popen(cmd, \n",
        "            stdout = logout, \n",
        "            stderr = logout, \n",
        "            shell = False,\n",
        "            text = True,\n",
        "            cwd = worker_root\n",
        "            )#.communicate()# as p:\n",
        "    print(\"popen\",p)\n",
        "    \n",
        "    while p.returncode is None:\n",
        "      form_action = get_form_action()\n",
        "      #print(\"form action\", form_action)\n",
        "      if form_action == \"cancel\":\n",
        "        print(\"killing!!!\")\n",
        "        !rm -v $ipfs_root/input/formAction\n",
        "        p.kill()\n",
        "        p.terminate()\n",
        "        break\n",
        "      if p.returncode is not None:\n",
        "        print(\"got return code\", p.returncode)\n",
        "        break\n",
        "      !sleep 2\n",
        "  \n",
        "while True:\n",
        "  if not first_run:\n",
        "    wait_submitted(skip_pollinate=True)\n",
        "    !python /content/pollinations/pollinations/prepare_for_papermill.py $notebook_path\n",
        "  first_run = False\n",
        "  parameters = get_params()\n",
        "  print(\"New parameters\", parameters)\n",
        "  !echo -n '\"running\"' > $ipfs_root/status/colabState\n",
        "  !rm -v $ipfs_root/input/formAction\n",
        "  run(parameters)\n",
        "  !echo -n '\"waiting\"' > $ipfs_root/status/colabState\n"
      ],
      "execution_count": null,
      "outputs": []
    }
  ]
}