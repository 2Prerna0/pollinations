{
  "nbformat": 4,
  "nbformat_minor": 0,
  "metadata": {
    "colab": {
      "name": "Pollinator",
      "provenance": [],
      "collapsed_sections": [],
      "machine_shape": "hm",
      "include_colab_link": true
    },
    "kernelspec": {
      "name": "python3",
      "display_name": "Python 3"
    },
    "accelerator": "GPU"
  },
  "cells": [
    {
      "cell_type": "markdown",
      "metadata": {
        "id": "view-in-github",
        "colab_type": "text"
      },
      "source": [
        "<a href=\"https://colab.research.google.com/github/pollinations/pollinations/blob/dev/colabs/pollinator.ipynb\" target=\"_parent\"><img src=\"https://colab.research.google.com/assets/colab-badge.svg\" alt=\"Open In Colab\"/></a>"
      ]
    },
    {
      "cell_type": "markdown",
      "metadata": {
        "id": "ko_JJEB3YcC9"
      },
      "source": [
        "# Pollinator\n",
        "\n",
        "Does the heavy-lifting for **Pollinations.AI** on Google Colab's free GPUs.\n",
        "\n",
        "Click *Runtime - Run All*, switch back to the **Pollinations** tab of the browser and wait a little for the connection to be established.\n",
        "\n",
        "![](https://pollinations.ai/Runtime-RunAll.png?)"
      ]
    },
    {
      "cell_type": "code",
      "metadata": {
        "id": "RcWlME-DwhrS",
        "cellView": "form"
      },
      "source": [
        "#@title Config and Requirements\n",
        "\n",
        "!pip install --upgrade pip\n",
        "!pip install papermill json5\n",
        "from IPython.display import clear_output\n",
        "from os.path import join, basename\n",
        "from shlex import quote\n",
        "\n",
        "from glob import glob\n",
        "from json5 import loads\n",
        "\n",
        "from subprocess import Popen, PIPE, STDOUT\n",
        "from sys import stdout\n",
        "import os\n",
        "\n",
        "clear_output()\n",
        "#ipfs_nodeid = generate_slug(2)#asyncio.run(loop.create_task(get_node_id()))\n",
        "ipfs_root = \"/content/ipfs\"\n",
        "worker_root = \"/content\"\n",
        "notebook_path = join(ipfs_root,\"input\", \"notebook.ipynb\")\n",
        "\n",
        "print(f\"---Settings---\\nIPFS_ROOT: {ipfs_root}\")"
      ],
      "execution_count": null,
      "outputs": []
    },
    {
      "cell_type": "code",
      "metadata": {
        "id": "pWfAE_iqBMdB",
        "cellView": "form"
      },
      "source": [
        "#@title Empty and create ipfs root: */content/ipfs*\n",
        "\n",
        "\n",
        "\n",
        "!rm -r $ipfs_root\n",
        "!mkdir -p $ipfs_root\n",
        "!mkdir -p $ipfs_root/input\n",
        "!mkdir -p $ipfs_root/output\n",
        "\n",
        "clear_output()"
      ],
      "execution_count": null,
      "outputs": []
    },
    {
      "cell_type": "code",
      "metadata": {
        "id": "9j1zUbMN4VDP",
        "cellView": "form"
      },
      "source": [
        "#@title Install Pollinations CLI\n",
        "\n",
        "%cd /content\n",
        "!git clone https://github.com/voodoohop/pollinations.git\n",
        "%cd /content/pollinations/app\n",
        "!git pull\n",
        "!git checkout dev\n",
        "!git pull\n",
        "!npm run install_backend\n",
        "%cd -\n",
        "\n",
        "clear_output()"
      ],
      "execution_count": null,
      "outputs": []
    },
    {
      "cell_type": "code",
      "metadata": {
        "id": "hH76cPjgwZBJ",
        "cellView": "form"
      },
      "source": [
        "#@title Install and Run IPFS daemon &\n",
        "\n",
        "#!/content/pollinations/ipfs/ipfsd_install_colab.sh\n",
        "#!nohup /content/pollinations/ipfs/ipfsd_forever.sh &\n",
        "#!sleep 5\n",
        "clear_output()\n",
        "\n",
        "\n",
        "node_id=!tr -dc A-Za-z0-9 </dev/urandom | head -c 13 ; echo ''\n",
        "\n",
        "node_id=node_id[0]\n",
        "\n",
        "print(\"---Node ID---:\", node_id)"
      ],
      "execution_count": null,
      "outputs": []
    },
    {
      "cell_type": "code",
      "metadata": {
        "id": "A4TYvT7yoGvE",
        "cellView": "form"
      },
      "source": [
        "#@title Create connection to frontend UI\n",
        "\n",
        "import IPython\n",
        "from google.colab import output\n",
        "\n",
        "display(IPython.display.Javascript(f'''\n",
        "  const iframe = document.createElement(\"iframe\")\n",
        "  iframe.src = `https://pollinations.ai/incolab.html?node={node_id}`\n",
        "  document.querySelector(\"#output-area\").appendChild(iframe)\n",
        "  const iframe2 = document.createElement(\"iframe\")\n",
        "  iframe2.src = `http://localhost:3000/incolab.html?node={node_id}`\n",
        "  document.querySelector(\"#output-area\").appendChild(iframe2)\n",
        "'''))\n",
        "\n",
        "\n"
      ],
      "execution_count": null,
      "outputs": []
    },
    {
      "cell_type": "code",
      "metadata": {
        "id": "yerLsamovWhd",
        "cellView": "form"
      },
      "source": [
        "#@title IPFS state functions\n",
        "\n",
        "def get_params():\n",
        "  parameters={}\n",
        "  for path in glob(f\"{ipfs_root}/input/*\"):\n",
        "    key = basename(path)\n",
        "    if key == \"notebook.ipynb\":\n",
        "      continue\n",
        "    with open(path,'r') as f: \n",
        "      value = f.read()\n",
        "      #print(\"reading parameter\", value)\n",
        "      try:\n",
        "        parameters[key] = loads(value)\n",
        "      except:\n",
        "        parameters[key] = \"\"\n",
        "  return parameters\n",
        "\n",
        "def get_form_action():\n",
        "  params = get_params()\n",
        "  return \"formAction\" in params and params[\"formAction\"]\n",
        "  \n",
        "\n",
        "def wait_submitted(skip_pollinate=False):\n",
        "  print(\"Waiting for form submission\")\n",
        "  while not get_form_action() == \"submit\":\n",
        "    if skip_pollinate:\n",
        "      !sleep 2\n",
        "    else:\n",
        "      !DEBUG=* pollinate -p $ipfs_root/input --ipns -n $node_id --receive --once > /content/cid\n",
        "\n",
        "def set_status(status):\n",
        "  status = \"'\" + status + \"'\"\n",
        "  !echo -n  \"$status\" > $ipfs_root/output/status\n",
        "  print(\"Set status to\",status)\n",
        "\n",
        "def post_content():\n",
        "  cid_all=!tail -1 /content/cid\n",
        "  cid = cid_all[0]\n",
        "  for platform in [\"twitter\",\"instagram\",\"telegram\",\"facebook\",\"youtube\",\"linkedin\"]:\n",
        "    social_post_url = f\"https://pollinations.ai/.netlify/functions/social-post/{platform}/{cid}\"\n",
        "    !nohup curl $social_post_url &\n"
      ],
      "execution_count": null,
      "outputs": []
    },
    {
      "cell_type": "code",
      "metadata": {
        "id": "2qcR2Tgghrf3",
        "cellView": "form",
        "outputId": "4abaa738-f09d-4f07-9069-51648d2fbcc1",
        "colab": {
          "base_uri": "https://localhost:8080/"
        }
      },
      "source": [
        "#@title Notebook Runner\n",
        "from time import sleep\n",
        "import sys\n",
        "import matplotlib\n",
        "matplotlib.use('Agg')\n",
        "output_path = ipfs_root+\"/output\"\n",
        "\n",
        "\n",
        "def run():\n",
        "  print(\"Running\")\n",
        "  !DEBUG=* pollinate --execute \"run_notebook.sh\" --ipns -l /content/ipfs/output/log -p $ipfs_root --ipns -n $node_id --debounce 100 > /content/cid\n",
        "  post_content()\n",
        "\n",
        "      \n",
        "while True:\n",
        "  #!rm -v $output_path/*    \n",
        "  wait_submitted()\n",
        "  run()\n",
        "  !sleep 3\n"
      ],
      "execution_count": null,
      "outputs": [
        {
          "output_type": "stream",
          "text": [
            "  \u001b[33;1mipfs/sender \u001b[0mChanged files [ { file: 'output/progress_00210.jpg', event: 'add' } ] \u001b[33m+5s\u001b[0m\n",
            "  \u001b[32;1mipfsConnector \u001b[0madding /tmp_8484/output/progress_00210.jpg options {} \u001b[32m+5s\u001b[0m\n",
            "  \u001b[32;1mipfsConnector \u001b[0madded QmauSPEuHjquBdx68Vw9qAJdZtrn6bwEjahAff4aeojnQN size Object [AsyncGenerator] {} \u001b[32m+63ms\u001b[0m\n",
            "  \u001b[32;1mipfsConnector \u001b[0mTrying to delete /tmp_8484/output/progress_00210.jpg \u001b[32m+0ms\u001b[0m\n",
            "  \u001b[31;1mipfs-http-client:lib:error-handler \u001b[0m{ Message: \u001b[32m'file does not exist'\u001b[39m, Code: \u001b[33m0\u001b[39m, Type: \u001b[32m'error'\u001b[39m } \u001b[31m+5s\u001b[0m\n",
            "  \u001b[32;1mipfsConnector \u001b[0mCould not delete. Probably did not exist. \u001b[32m+13ms\u001b[0m\n",
            "  \u001b[32;1mipfsConnector \u001b[0mcopying to /tmp_8484/output/progress_00210.jpg \u001b[32m+0ms\u001b[0m\n",
            "  \u001b[33;1mipfs/sender \u001b[0mpublish QmbQo1rmfR2ufpr4AuWGr1avUHyc3uDFBabg8hQs6Q2DLJ \u001b[33m+127ms\u001b[0m\n",
            "  \u001b[32;1mipfsConnector \u001b[0mpublish pubsub 196gaYIdIRMxI QmbQo1rmfR2ufpr4AuWGr1avUHyc3uDFBabg8hQs6Q2DLJ \u001b[32m+51ms\u001b[0m\n",
            "i: 215, loss: 0.711792, losses: 0.0274123, 0.68438\n",
            "\n",
            "<IPython.core.display.Image object>\n",
            "  \u001b[33;1mipfs/sender \u001b[0mChanged files [ { file: 'output/progress_00215.jpg', event: 'add' } ] \u001b[33m+5s\u001b[0m\n",
            "  \u001b[32;1mipfsConnector \u001b[0madding /tmp_8484/output/progress_00215.jpg options {} \u001b[32m+5s\u001b[0m\n",
            "  \u001b[32;1mipfsConnector \u001b[0madded QmTkBcWYXtQovLwxpZzDFxGDX99fpiGk1PDPcsMD83Ztw9 size Object [AsyncGenerator] {} \u001b[32m+59ms\u001b[0m\n",
            "  \u001b[32;1mipfsConnector \u001b[0mTrying to delete /tmp_8484/output/progress_00215.jpg \u001b[32m+0ms\u001b[0m\n",
            "  \u001b[31;1mipfs-http-client:lib:error-handler \u001b[0m{ Message: \u001b[32m'file does not exist'\u001b[39m, Code: \u001b[33m0\u001b[39m, Type: \u001b[32m'error'\u001b[39m } \u001b[31m+6s\u001b[0m\n",
            "  \u001b[32;1mipfsConnector \u001b[0mCould not delete. Probably did not exist. \u001b[32m+12ms\u001b[0m\n",
            "  \u001b[32;1mipfsConnector \u001b[0mcopying to /tmp_8484/output/progress_00215.jpg \u001b[32m+0ms\u001b[0m\n",
            "  \u001b[33;1mipfs/sender \u001b[0mpublish QmecywgYL5fuJksE5D7ZPUUtvpi8svPiRpyXxL2p2JkdtJ \u001b[33m+116ms\u001b[0m\n",
            "  \u001b[32;1mipfsConnector \u001b[0mpublish pubsub 196gaYIdIRMxI QmecywgYL5fuJksE5D7ZPUUtvpi8svPiRpyXxL2p2JkdtJ \u001b[32m+45ms\u001b[0m\n",
            "i: 220, loss: 0.713623, losses: 0.0287755, 0.684847\n",
            "\n",
            "<IPython.core.display.Image object>\n",
            "  \u001b[33;1mipfs/sender \u001b[0mChanged files [ { file: 'output/progress_00220.jpg', event: 'add' } ] \u001b[33m+5s\u001b[0m\n",
            "  \u001b[32;1mipfsConnector \u001b[0madding /tmp_8484/output/progress_00220.jpg options {} \u001b[32m+5s\u001b[0m\n",
            "  \u001b[32;1mipfsConnector \u001b[0madded QmdErPsjJb2tNwAsygQpV4TwQxZr9EAYvz2qRx1ZGqMpK9 size Object [AsyncGenerator] {} \u001b[32m+54ms\u001b[0m\n",
            "  \u001b[32;1mipfsConnector \u001b[0mTrying to delete /tmp_8484/output/progress_00220.jpg \u001b[32m+1ms\u001b[0m\n",
            "  \u001b[31;1mipfs-http-client:lib:error-handler \u001b[0m{ Message: \u001b[32m'file does not exist'\u001b[39m, Code: \u001b[33m0\u001b[39m, Type: \u001b[32m'error'\u001b[39m } \u001b[31m+6s\u001b[0m\n",
            "  \u001b[32;1mipfsConnector \u001b[0mCould not delete. Probably did not exist. \u001b[32m+17ms\u001b[0m\n",
            "  \u001b[32;1mipfsConnector \u001b[0mcopying to /tmp_8484/output/progress_00220.jpg \u001b[32m+0ms\u001b[0m\n",
            "  \u001b[33;1mipfs/sender \u001b[0mpublish QmZRsUWTbLn67u8UYudRkAs6y4hUNY5NmZoEq1bSFTx37u \u001b[33m+131ms\u001b[0m\n",
            "  \u001b[32;1mipfsConnector \u001b[0mpublish pubsub 196gaYIdIRMxI QmZRsUWTbLn67u8UYudRkAs6y4hUNY5NmZoEq1bSFTx37u \u001b[32m+59ms\u001b[0m\n",
            "i: 225, loss: 0.712539, losses: 0.0298108, 0.682728\n",
            "\n",
            "<IPython.core.display.Image object>\n",
            "  \u001b[33;1mipfs/sender \u001b[0mChanged files [ { file: 'output/progress_00225.jpg', event: 'add' } ] \u001b[33m+5s\u001b[0m\n",
            "  \u001b[32;1mipfsConnector \u001b[0madding /tmp_8484/output/progress_00225.jpg options {} \u001b[32m+5s\u001b[0m\n",
            "  \u001b[32;1mipfsConnector \u001b[0madded QmTK4nyhK9BFmZtUkByRiyYBUthaXYvdFydqcwuk75rRBe size Object [AsyncGenerator] {} \u001b[32m+58ms\u001b[0m\n",
            "  \u001b[32;1mipfsConnector \u001b[0mTrying to delete /tmp_8484/output/progress_00225.jpg \u001b[32m+0ms\u001b[0m\n",
            "  \u001b[31;1mipfs-http-client:lib:error-handler \u001b[0m{ Message: \u001b[32m'file does not exist'\u001b[39m, Code: \u001b[33m0\u001b[39m, Type: \u001b[32m'error'\u001b[39m } \u001b[31m+5s\u001b[0m\n",
            "  \u001b[32;1mipfsConnector \u001b[0mCould not delete. Probably did not exist. \u001b[32m+15ms\u001b[0m\n",
            "  \u001b[32;1mipfsConnector \u001b[0mcopying to /tmp_8484/output/progress_00225.jpg \u001b[32m+0ms\u001b[0m\n",
            "  \u001b[33;1mipfs/sender \u001b[0mpublish QmbFXLNucPRHf5bcf7DP9yjCYUTSbAEnUg6URnEhZBFpP3 \u001b[33m+131ms\u001b[0m\n",
            "  \u001b[32;1mipfsConnector \u001b[0mpublish pubsub 196gaYIdIRMxI QmbFXLNucPRHf5bcf7DP9yjCYUTSbAEnUg6URnEhZBFpP3 \u001b[32m+57ms\u001b[0m\n"
          ],
          "name": "stdout"
        }
      ]
    }
  ]
}