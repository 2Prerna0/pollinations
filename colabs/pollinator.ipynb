{
  "nbformat": 4,
  "nbformat_minor": 0,
  "metadata": {
    "colab": {
      "name": "Pollinator",
      "provenance": [],
      "collapsed_sections": [],
      "machine_shape": "hm",
      "include_colab_link": true
    },
    "kernelspec": {
      "name": "python3",
      "display_name": "Python 3"
    },
    "accelerator": "GPU"
  },
  "cells": [
    {
      "cell_type": "markdown",
      "metadata": {
        "id": "view-in-github",
        "colab_type": "text"
      },
      "source": [
        "<a href=\"https://colab.research.google.com/github/voodoohop/pollinations/blob/master/colabs/pollinator.ipynb\" target=\"_parent\"><img src=\"https://colab.research.google.com/assets/colab-badge.svg\" alt=\"Open In Colab\"/></a>"
      ]
    },
    {
      "cell_type": "markdown",
      "metadata": {
        "id": "z8RkOYkzmGDW"
      },
      "source": [
        "## Code (Frontend and IPFS Connection)"
      ]
    },
    {
      "cell_type": "code",
      "metadata": {
        "id": "RcWlME-DwhrS",
        "colab": {
          "base_uri": "https://localhost:8080/",
          "height": 1000
        },
        "outputId": "c4bacbed-29cc-4d68-d6af-82edd11ce368"
      },
      "source": [
        "#@title Config and Requirements\n",
        "!pip install coolname gdown papermill json5\n",
        "from coolname import generate_slug\n",
        "#ipfs_nodeid = generate_slug(2)#asyncio.run(loop.create_task(get_node_id()))\n",
        "IPFS_PEER = \"ipfs.pollinations.ai\"\n",
        "ipfs_root = \"/ipfs\"\n",
        "worker_root = \"/content\"\n",
        "print(f\"---Settings---\\nIPFS_ROOT: {ipfs_root}\\nIPFS_PEER: {IPFS_PEER}\")"
      ],
      "execution_count": 1,
      "outputs": [
        {
          "output_type": "stream",
          "text": [
            "Collecting coolname\n",
            "  Downloading https://files.pythonhosted.org/packages/25/43/64c0cec51944924f44c0788c329a2c6fde061428c97d7cba73de177ececd/coolname-1.1.0-py2.py3-none-any.whl\n",
            "Requirement already satisfied: gdown in /usr/local/lib/python3.7/dist-packages (3.6.4)\n",
            "Collecting papermill\n",
            "  Downloading https://files.pythonhosted.org/packages/ec/3b/55dbb2017142340a57937f1fad78c7d9373552540b42740e37fd6c40d761/papermill-2.3.3-py3-none-any.whl\n",
            "Collecting json5\n",
            "  Downloading https://files.pythonhosted.org/packages/2b/81/22bf51a5bc60dde18bb6164fd597f18ee683de8670e141364d9c432dd3cf/json5-0.9.5-py2.py3-none-any.whl\n",
            "Requirement already satisfied: requests in /usr/local/lib/python3.7/dist-packages (from gdown) (2.23.0)\n",
            "Requirement already satisfied: tqdm in /usr/local/lib/python3.7/dist-packages (from gdown) (4.41.1)\n",
            "Requirement already satisfied: six in /usr/local/lib/python3.7/dist-packages (from gdown) (1.15.0)\n",
            "Collecting ansiwrap\n",
            "  Downloading https://files.pythonhosted.org/packages/03/50/43e775a63e0d632d9be3b3fa1c9b2cbaf3b7870d203655710a3426f47c26/ansiwrap-0.8.4-py2.py3-none-any.whl\n",
            "Requirement already satisfied: nbformat>=5.1.2 in /usr/local/lib/python3.7/dist-packages (from papermill) (5.1.3)\n",
            "Requirement already satisfied: pyyaml in /usr/local/lib/python3.7/dist-packages (from papermill) (3.13)\n",
            "Requirement already satisfied: click in /usr/local/lib/python3.7/dist-packages (from papermill) (7.1.2)\n",
            "Requirement already satisfied: entrypoints in /usr/local/lib/python3.7/dist-packages (from papermill) (0.3)\n",
            "Collecting black\n",
            "\u001b[?25l  Downloading https://files.pythonhosted.org/packages/91/d0/154973fbb48aeda17cd117507872079de82408bb16f6f2ead3d05be68bd6/black-21.6b0-py3-none-any.whl (140kB)\n",
            "\u001b[K     |████████████████████████████████| 143kB 22.7MB/s \n",
            "\u001b[?25hCollecting tenacity\n",
            "  Downloading https://files.pythonhosted.org/packages/41/ee/d6eddff86161c6a3a1753af4a66b06cbc508d3b77ca4698cd0374cd66531/tenacity-7.0.0-py2.py3-none-any.whl\n",
            "Requirement already satisfied: nbclient>=0.2.0 in /usr/local/lib/python3.7/dist-packages (from papermill) (0.5.3)\n",
            "Requirement already satisfied: urllib3!=1.25.0,!=1.25.1,<1.26,>=1.21.1 in /usr/local/lib/python3.7/dist-packages (from requests->gdown) (1.24.3)\n",
            "Requirement already satisfied: certifi>=2017.4.17 in /usr/local/lib/python3.7/dist-packages (from requests->gdown) (2020.12.5)\n",
            "Requirement already satisfied: chardet<4,>=3.0.2 in /usr/local/lib/python3.7/dist-packages (from requests->gdown) (3.0.4)\n",
            "Requirement already satisfied: idna<3,>=2.5 in /usr/local/lib/python3.7/dist-packages (from requests->gdown) (2.10)\n",
            "Collecting textwrap3>=0.9.2\n",
            "  Downloading https://files.pythonhosted.org/packages/77/9c/a53e561d496ee5866bbeea4d3a850b3b545ed854f8a21007c1e0d872e94d/textwrap3-0.9.2-py2.py3-none-any.whl\n",
            "Requirement already satisfied: jupyter-core in /usr/local/lib/python3.7/dist-packages (from nbformat>=5.1.2->papermill) (4.7.1)\n",
            "Requirement already satisfied: traitlets>=4.1 in /usr/local/lib/python3.7/dist-packages (from nbformat>=5.1.2->papermill) (5.0.5)\n",
            "Requirement already satisfied: ipython-genutils in /usr/local/lib/python3.7/dist-packages (from nbformat>=5.1.2->papermill) (0.2.0)\n",
            "Requirement already satisfied: jsonschema!=2.5.0,>=2.4 in /usr/local/lib/python3.7/dist-packages (from nbformat>=5.1.2->papermill) (2.6.0)\n",
            "Requirement already satisfied: toml>=0.10.1 in /usr/local/lib/python3.7/dist-packages (from black->papermill) (0.10.2)\n",
            "Requirement already satisfied: appdirs in /usr/local/lib/python3.7/dist-packages (from black->papermill) (1.4.4)\n",
            "Collecting regex>=2020.1.8\n",
            "\u001b[?25l  Downloading https://files.pythonhosted.org/packages/c4/28/5f08d8841013ccf72cd95dfff2500fe7fb39467af12c5e7b802d8381d811/regex-2021.4.4-cp37-cp37m-manylinux2014_x86_64.whl (720kB)\n",
            "\u001b[K     |████████████████████████████████| 727kB 23.0MB/s \n",
            "\u001b[?25hCollecting pathspec<1,>=0.8.1\n",
            "  Downloading https://files.pythonhosted.org/packages/29/29/a465741a3d97ea3c17d21eaad4c64205428bde56742360876c4391f930d4/pathspec-0.8.1-py2.py3-none-any.whl\n",
            "Collecting mypy-extensions>=0.4.3\n",
            "  Downloading https://files.pythonhosted.org/packages/5c/eb/975c7c080f3223a5cdaff09612f3a5221e4ba534f7039db34c35d95fa6a5/mypy_extensions-0.4.3-py2.py3-none-any.whl\n",
            "Requirement already satisfied: typing-extensions>=3.7.4; python_version < \"3.8\" in /usr/local/lib/python3.7/dist-packages (from black->papermill) (3.7.4.3)\n",
            "Collecting typed-ast>=1.4.2; python_version < \"3.8\"\n",
            "\u001b[?25l  Downloading https://files.pythonhosted.org/packages/65/b3/573d2f1fecbbe8f82a8d08172e938c247f99abe1be3bef3da2efaa3810bf/typed_ast-1.4.3-cp37-cp37m-manylinux1_x86_64.whl (743kB)\n",
            "\u001b[K     |████████████████████████████████| 747kB 29.7MB/s \n",
            "\u001b[?25hCollecting jupyter-client>=6.1.5\n",
            "\u001b[?25l  Downloading https://files.pythonhosted.org/packages/77/e8/c3cf72a32a697256608d5fa96360c431adec6e1c6709ba7f13f99ff5ee04/jupyter_client-6.1.12-py3-none-any.whl (112kB)\n",
            "\u001b[K     |████████████████████████████████| 122kB 61.9MB/s \n",
            "\u001b[?25hRequirement already satisfied: nest-asyncio in /usr/local/lib/python3.7/dist-packages (from nbclient>=0.2.0->papermill) (1.5.1)\n",
            "Requirement already satisfied: async-generator in /usr/local/lib/python3.7/dist-packages (from nbclient>=0.2.0->papermill) (1.10)\n",
            "Requirement already satisfied: tornado>=4.1 in /usr/local/lib/python3.7/dist-packages (from jupyter-client>=6.1.5->nbclient>=0.2.0->papermill) (5.1.1)\n",
            "Requirement already satisfied: python-dateutil>=2.1 in /usr/local/lib/python3.7/dist-packages (from jupyter-client>=6.1.5->nbclient>=0.2.0->papermill) (2.8.1)\n",
            "Requirement already satisfied: pyzmq>=13 in /usr/local/lib/python3.7/dist-packages (from jupyter-client>=6.1.5->nbclient>=0.2.0->papermill) (22.0.3)\n",
            "Installing collected packages: coolname, textwrap3, ansiwrap, regex, pathspec, mypy-extensions, typed-ast, black, tenacity, papermill, json5, jupyter-client\n",
            "  Found existing installation: regex 2019.12.20\n",
            "    Uninstalling regex-2019.12.20:\n",
            "      Successfully uninstalled regex-2019.12.20\n",
            "  Found existing installation: jupyter-client 5.3.5\n",
            "    Uninstalling jupyter-client-5.3.5:\n",
            "      Successfully uninstalled jupyter-client-5.3.5\n",
            "Successfully installed ansiwrap-0.8.4 black-21.6b0 coolname-1.1.0 json5-0.9.5 jupyter-client-6.1.12 mypy-extensions-0.4.3 papermill-2.3.3 pathspec-0.8.1 regex-2021.4.4 tenacity-7.0.0 textwrap3-0.9.2 typed-ast-1.4.3\n"
          ],
          "name": "stdout"
        },
        {
          "output_type": "display_data",
          "data": {
            "application/vnd.colab-display-data+json": {
              "pip_warning": {
                "packages": [
                  "jupyter_client"
                ]
              }
            }
          },
          "metadata": {
            "tags": []
          }
        },
        {
          "output_type": "stream",
          "text": [
            "---Settings---\n",
            "IPFS_ROOT: /ipfs\n",
            "IPFS_PEER: ipfs.pollinations.ai\n"
          ],
          "name": "stdout"
        }
      ]
    },
    {
      "cell_type": "code",
      "metadata": {
        "id": "pWfAE_iqBMdB",
        "colab": {
          "base_uri": "https://localhost:8080/"
        },
        "outputId": "84629d5d-d739-4be8-e905-67f0f1e5d074"
      },
      "source": [
        "#@title Empty and create ipfs root: */content/ipfs*\n",
        "\n",
        "\n",
        "\n",
        "!rm -r $ipfs_root\n",
        "!mkdir -p $ipfs_root/input\n",
        "!mkdir -p $ipfs_root/output\n",
        "!mkdir -p $worker_root\n",
        "!echo \"Created IPFS resource\" > $ipfs_root/output/log\n",
        "\n"
      ],
      "execution_count": 2,
      "outputs": [
        {
          "output_type": "stream",
          "text": [
            "rm: cannot remove '/ipfs': No such file or directory\n"
          ],
          "name": "stdout"
        }
      ]
    },
    {
      "cell_type": "code",
      "metadata": {
        "id": "9j1zUbMN4VDP",
        "colab": {
          "base_uri": "https://localhost:8080/"
        },
        "outputId": "6b8577d9-6342-444b-8c15-e333673d3d8f"
      },
      "source": [
        "#@title Install IPFS\n",
        "\n",
        "%cd /content\n",
        "!git clone https://github.com/voodoohop/pollinations.git\n",
        "%cd /content/pollinations/app\n",
        "!git pull\n",
        "!git checkout dev \n",
        "!git pull\n",
        "!npm run install_backend\n",
        "%cd -\n",
        "\n"
      ],
      "execution_count": 3,
      "outputs": [
        {
          "output_type": "stream",
          "text": [
            "/content\n",
            "Cloning into 'pollinations'...\n",
            "remote: Enumerating objects: 2286, done.\u001b[K\n",
            "remote: Counting objects: 100% (678/678), done.\u001b[K\n",
            "remote: Compressing objects: 100% (543/543), done.\u001b[K\n",
            "remote: Total 2286 (delta 463), reused 261 (delta 131), pack-reused 1608\u001b[K\n",
            "Receiving objects: 100% (2286/2286), 19.22 MiB | 23.34 MiB/s, done.\n",
            "Resolving deltas: 100% (1506/1506), done.\n",
            "/content/pollinations/app\n",
            "Already up to date.\n",
            "Branch 'dev' set up to track remote branch 'dev' from 'origin'.\n",
            "Switched to a new branch 'dev'\n",
            "Already up to date.\n",
            "\n",
            "> pollinations@0.4.5 install_backend /content/pollinations/app\n",
            "> cp -v dist/pollinate.js /usr/local/bin/pollinate\n",
            "\n",
            "'dist/pollinate.js' -> '/usr/local/bin/pollinate'\n",
            "/content\n"
          ],
          "name": "stdout"
        }
      ]
    },
    {
      "cell_type": "code",
      "metadata": {
        "id": "hH76cPjgwZBJ",
        "colab": {
          "base_uri": "https://localhost:8080/"
        },
        "outputId": "ed9b11d8-ab89-48b8-d9d4-cff72176cf80"
      },
      "source": [
        "!/content/pollinations/ipfs/ipfsd_install_colab.sh\n",
        "!nohup  /content/pollinations/ipfs/ipfsd_forever.sh > $ipfs_root/output/log &\n",
        "!sleep 5\n",
        "\n"
      ],
      "execution_count": 4,
      "outputs": [
        {
          "output_type": "stream",
          "text": [
            "--2021-06-12 08:51:54--  https://dist.ipfs.io/go-ipfs/v0.8.0/go-ipfs_v0.8.0_linux-amd64.tar.gz\n",
            "Resolving dist.ipfs.io (dist.ipfs.io)... 209.94.78.1, 2602:fea2:3::1\n",
            "Connecting to dist.ipfs.io (dist.ipfs.io)|209.94.78.1|:443... connected.\n",
            "HTTP request sent, awaiting response... 200 OK\n",
            "Length: 25904633 (25M) [application/gzip]\n",
            "Saving to: ‘go-ipfs_v0.8.0_linux-amd64.tar.gz’\n",
            "\n",
            "go-ipfs_v0.8.0_linu 100%[===================>]  24.70M  --.-KB/s    in 0.1s    \n",
            "\n",
            "2021-06-12 08:51:55 (214 MB/s) - ‘go-ipfs_v0.8.0_linux-amd64.tar.gz’ saved [25904633/25904633]\n",
            "\n",
            "go-ipfs/install.sh\n",
            "go-ipfs/ipfs\n",
            "go-ipfs/LICENSE\n",
            "go-ipfs/LICENSE-APACHE\n",
            "go-ipfs/LICENSE-MIT\n",
            "go-ipfs/README.md\n",
            "Moved ./ipfs to /usr/local/bin\n",
            "/content\n",
            "generating ED25519 keypair...done\n",
            "peer identity: 12D3KooWRFATTCwsNDi5BwSRVVNdKeo8VbadctVRaj5hQBp6pK3j\n",
            "initializing IPFS node at /root/.ipfs\n",
            "to get started, enter:\n",
            "\n",
            "\tipfs cat /ipfs/QmQPeNsJPyVWPFDVHb77w8G42Fvo15z4bG2X8D2GhfbSXc/readme\n",
            "\n",
            "nohup: redirecting stderr to stdout\n"
          ],
          "name": "stdout"
        }
      ]
    },
    {
      "cell_type": "code",
      "metadata": {
        "id": "I2TUR4jTc15O"
      },
      "source": [
        "from os.path import join\n",
        "\n",
        "\n",
        "notebook_path = join(ipfs_root,\"notebook.ipynb\")\n",
        "\n"
      ],
      "execution_count": 5,
      "outputs": []
    },
    {
      "cell_type": "code",
      "metadata": {
        "id": "fkHiUZqQ8EtE",
        "colab": {
          "base_uri": "https://localhost:8080/"
        },
        "outputId": "73784039-c8a7-4c72-9f7f-53dad446e7cd"
      },
      "source": [
        "node_id=!ipfs id -f=\"<id>\\n\"\n",
        "node_id=node_id[0]\n",
        "\n",
        "print(\"---Node ID---:\", node_id)"
      ],
      "execution_count": 6,
      "outputs": [
        {
          "output_type": "stream",
          "text": [
            "---Node ID---: 12D3KooWRFATTCwsNDi5BwSRVVNdKeo8VbadctVRaj5hQBp6pK3j\n"
          ],
          "name": "stdout"
        }
      ]
    },
    {
      "cell_type": "code",
      "metadata": {
        "id": "A4TYvT7yoGvE",
        "colab": {
          "base_uri": "https://localhost:8080/",
          "height": 175
        },
        "outputId": "d860edf4-1345-4f0f-db14-70db688f7026"
      },
      "source": [
        "#@title Create connection to frontend UI\n",
        "\n",
        "import IPython\n",
        "from google.colab import output\n",
        "\n",
        "display(IPython.display.Javascript(f'''\n",
        "  const iframe = document.createElement(\"iframe\")\n",
        "  iframe.src = `https://pollinations.ai/incolab.html?node={node_id}`\n",
        "  document.querySelector(\"#output-area\").appendChild(iframe)\n",
        "  const iframe2 = document.createElement(\"iframe\")\n",
        "  iframe2.src = `http://localhost:3000/incolab.html?node={node_id}`\n",
        "  document.querySelector(\"#output-area\").appendChild(iframe2)\n",
        "'''))\n",
        "\n",
        "!sleep 5\n"
      ],
      "execution_count": 7,
      "outputs": [
        {
          "output_type": "display_data",
          "data": {
            "application/javascript": [
              "\n",
              "  const iframe = document.createElement(\"iframe\")\n",
              "  iframe.src = `https://pollinations.ai/incolab.html?node=12D3KooWRFATTCwsNDi5BwSRVVNdKeo8VbadctVRaj5hQBp6pK3j`\n",
              "  document.querySelector(\"#output-area\").appendChild(iframe)\n",
              "  const iframe2 = document.createElement(\"iframe\")\n",
              "  iframe2.src = `http://localhost:3000/incolab.html?node=12D3KooWRFATTCwsNDi5BwSRVVNdKeo8VbadctVRaj5hQBp6pK3j`\n",
              "  document.querySelector(\"#output-area\").appendChild(iframe2)\n"
            ],
            "text/plain": [
              "<IPython.core.display.Javascript object>"
            ]
          },
          "metadata": {
            "tags": []
          }
        }
      ]
    },
    {
      "cell_type": "code",
      "metadata": {
        "id": "BGPvoHzKKpRR"
      },
      "source": [
        "# !DEBUG=* pollinate -p {ipfs_root} --ipns --send --once"
      ],
      "execution_count": 8,
      "outputs": []
    },
    {
      "cell_type": "code",
      "metadata": {
        "id": "Dh8r_667U5gc",
        "colab": {
          "base_uri": "https://localhost:8080/"
        },
        "outputId": "443beca7-5d49-40ad-8889-6ba90c77a263"
      },
      "source": [
        "!DEBUG=* pollinate -p {ipfs_root} --ipns --receive --once"
      ],
      "execution_count": 9,
      "outputs": [
        {
          "output_type": "stream",
          "text": [
            "  \u001b[32;1mipfsConnector \u001b[0mNodeID Promise { <pending> } \u001b[32m+0ms\u001b[0m\n",
            "  \u001b[31;1mipfsWatch \u001b[0mCLI options {\r\n",
            "  path: '/ipfs',\r\n",
            "  receive: true,\r\n",
            "  send: false,\r\n",
            "  once: true,\r\n",
            "  ipns: true,\r\n",
            "  nodeid: null\r\n",
            "} \u001b[31m+0ms\u001b[0m\r\n",
            "  \u001b[31;1mipfsWatch \u001b[0mIPNS activated. subscring to CIDs \u001b[31m+0ms\u001b[0m\r\n",
            "  \u001b[32;1mipfsConnector \u001b[0mLocalhost:5001 is reachable. Connecting... \u001b[32m+6ms\u001b[0m\r\n",
            "  \u001b[32;1mipfsConnector \u001b[0mSubscribing to pubsub events from 12D3KooWRFATTCwsNDi5BwSRVVNdKeo8VbadctVRaj5hQBp6pK3j \u001b[32m+46ms\u001b[0m\n",
            "  \u001b[31;1mipfsWatch \u001b[0mremoteCID from pubsub QmNPhpqy5dLCZMWRNhJDWLwNaDDbZ5pE8p3AW2urEncWAN \u001b[31m+19s\u001b[0m\n",
            "  \u001b[31;1mipfsWatch \u001b[0mProcessing remote CID QmNPhpqy5dLCZMWRNhJDWLwNaDDbZ5pE8p3AW2urEncWAN \u001b[31m+1ms\u001b[0m\n",
            "  \u001b[34;1mipfsState \u001b[0mGetting state for CID QmNPhpqy5dLCZMWRNhJDWLwNaDDbZ5pE8p3AW2urEncWAN \u001b[34m+0ms\u001b[0m\n",
            "  \u001b[31;1mipfsState:_getIPFSState(/) \u001b[0mGetting state for dir root QmNPhpqy5dLCZMWRNhJDWLwNaDDbZ5pE8p3AW2urEncWAN \u001b[31m+0ms\u001b[0m\n",
            "  \u001b[36;1mutils:ipfsls \u001b[0m--- Calling  ipfsls with input QmNPhpqy5dLCZMWRNhJDWLwNaDDbZ5pE8p3AW2urEncWAN \u001b[36m+0ms\u001b[0m\n",
            "  \u001b[36;1mutils:ipfsls \u001b[0m--- In: QmNPhpqy5dLCZMWRNhJDWLwNaDDbZ5pE8p3AW2urEncWAN \u001b[36m+0ms\u001b[0m\n",
            "  \u001b[36;1mutils:ipfsls \u001b[0m--- Out: ipfsls : [\n",
            "  {\n",
            "    name: 'input',\n",
            "    path: 'QmNPhpqy5dLCZMWRNhJDWLwNaDDbZ5pE8p3AW2urEncWAN/input',\n",
            "    cid: 'QmUpBRqSgRGfMh6kWswqy4W2KJsPqccb492UXMghPW2WPs',\n",
            "    type: 'dir'\n",
            "  },\n",
            "  {\n",
            "    name: 'notebook.ipynb',\n",
            "    path: 'QmNPhpqy5dLCZMWRNhJDWLwNaDDbZ5pE8p3AW2urEncWAN/notebook.ipynb',\n",
            "    cid: 'QmexXZXK9dYLT2HtdukitpQE4XKeU7bxZPbZZAbvAqweTx',\n",
            "    type: 'file'\n",
            "  },\n",
            "  {\n",
            "    name: 'output',\n",
            "    path: 'QmNPhpqy5dLCZMWRNhJDWLwNaDDbZ5pE8p3AW2urEncWAN/output',\n",
            "    cid: 'QmXaPcSLN8KqHX64AEyC7yq6MQso2yqgHi6ADo53pSuWoh',\n",
            "    type: 'dir'\n",
            "  }\n",
            "] \u001b[36m+89ms\u001b[0m\n",
            "  \u001b[31;1mipfsState:_getIPFSState(/) \u001b[0mGot files for root QmNPhpqy5dLCZMWRNhJDWLwNaDDbZ5pE8p3AW2urEncWAN [\n",
            "  {\n",
            "    name: 'input',\n",
            "    path: 'QmNPhpqy5dLCZMWRNhJDWLwNaDDbZ5pE8p3AW2urEncWAN/input',\n",
            "    cid: 'QmUpBRqSgRGfMh6kWswqy4W2KJsPqccb492UXMghPW2WPs',\n",
            "    type: 'dir'\n",
            "  },\n",
            "  {\n",
            "    name: 'notebook.ipynb',\n",
            "    path: 'QmNPhpqy5dLCZMWRNhJDWLwNaDDbZ5pE8p3AW2urEncWAN/notebook.ipynb',\n",
            "    cid: 'QmexXZXK9dYLT2HtdukitpQE4XKeU7bxZPbZZAbvAqweTx',\n",
            "    type: 'file'\n",
            "  },\n",
            "  {\n",
            "    name: 'output',\n",
            "    path: 'QmNPhpqy5dLCZMWRNhJDWLwNaDDbZ5pE8p3AW2urEncWAN/output',\n",
            "    cid: 'QmXaPcSLN8KqHX64AEyC7yq6MQso2yqgHi6ADo53pSuWoh',\n",
            "    type: 'dir'\n",
            "  }\n",
            "] \u001b[31m+89ms\u001b[0m\n",
            "  \u001b[34;1mipfsState:_getIPFSState(/input) \u001b[0mGetting state for dir input QmUpBRqSgRGfMh6kWswqy4W2KJsPqccb492UXMghPW2WPs \u001b[34m+0ms\u001b[0m\n",
            "  \u001b[36;1mutils:ipfsls \u001b[0m--- Calling  ipfsls with input QmUpBRqSgRGfMh6kWswqy4W2KJsPqccb492UXMghPW2WPs \u001b[36m+0ms\u001b[0m\n",
            "  \u001b[36;1mutils:ipfsls \u001b[0m--- In: QmUpBRqSgRGfMh6kWswqy4W2KJsPqccb492UXMghPW2WPs \u001b[36m+0ms\u001b[0m\n",
            "  \u001b[33;1mipfsState:_getIPFSState(/notebook.ipynb) \u001b[0mGetting state for file notebook.ipynb QmexXZXK9dYLT2HtdukitpQE4XKeU7bxZPbZZAbvAqweTx \u001b[33m+0ms\u001b[0m\n",
            "  \u001b[31;1mipfsWatch:processFile(/notebook.ipynb) \u001b[0mstarted \u001b[31m+0ms\u001b[0m\n",
            "  \u001b[31;1mipfsWatch:processFile(/notebook.ipynb) \u001b[0mwriteFile /ipfs/notebook.ipynb QmexXZXK9dYLT2HtdukitpQE4XKeU7bxZPbZZAbvAqweTx queued \u001b[31m+0ms\u001b[0m\n",
            "  \u001b[35;1mipfsState:_getIPFSState(/output) \u001b[0mGetting state for dir output QmXaPcSLN8KqHX64AEyC7yq6MQso2yqgHi6ADo53pSuWoh \u001b[35m+0ms\u001b[0m\n",
            "  \u001b[36;1mutils:ipfsls \u001b[0m--- Calling  ipfsls with input QmXaPcSLN8KqHX64AEyC7yq6MQso2yqgHi6ADo53pSuWoh \u001b[36m+0ms\u001b[0m\n",
            "  \u001b[36;1mutils:ipfsls \u001b[0m--- In: QmXaPcSLN8KqHX64AEyC7yq6MQso2yqgHi6ADo53pSuWoh \u001b[36m+0ms\u001b[0m\n",
            "  \u001b[35;1mipfsConnector:ipfsGet(QmexXZXK9dYLT2HtdukitpQE4XKeU7bxZPbZZAbvAqweTx) \u001b[0mGot all chunks. Total: 3 \u001b[35m+0ms\u001b[0m\n",
            "  \u001b[35;1mipfsConnector:ipfsGet(QmexXZXK9dYLT2HtdukitpQE4XKeU7bxZPbZZAbvAqweTx) \u001b[0mReceived content length: 31451 \u001b[35m+0ms\u001b[0m\n",
            "  \u001b[31;1mipfsWatch:processFile(/notebook.ipynb) \u001b[0mwritefile content 31451 \u001b[31m+5ms\u001b[0m\n",
            "  \u001b[31;1mipfsWatch \u001b[0mcreating folder if it does not exist /ipfs \u001b[31m+96ms\u001b[0m\n",
            "  \u001b[31;1mipfsWatch \u001b[0mwriting file of length undefined to folder /ipfs/notebook.ipynb \u001b[31m+0ms\u001b[0m\n",
            "  \u001b[31;1mipfsWatch:processFile(/notebook.ipynb) \u001b[0mdone \u001b[31m+1ms\u001b[0m\n",
            "  \u001b[33;1mipfsState:_getIPFSState(/notebook.ipynb) \u001b[0mgot result of processFile /ipfs/notebook.ipynb \u001b[33m+6ms\u001b[0m\n",
            "  \u001b[36;1mutils:ipfsls \u001b[0m--- Out: ipfsls : [\n",
            "  {\n",
            "    name: 'log',\n",
            "    path: 'QmXaPcSLN8KqHX64AEyC7yq6MQso2yqgHi6ADo53pSuWoh/log',\n",
            "    cid: 'QmfDFQpWLxdTuDaiR94x6XMyyZ7KFZpVAYWydvLNLvXTK2',\n",
            "    type: 'file'\n",
            "  }\n",
            "] \u001b[36m+25ms\u001b[0m\n",
            "  \u001b[35;1mipfsState:_getIPFSState(/output) \u001b[0mGot files for output QmXaPcSLN8KqHX64AEyC7yq6MQso2yqgHi6ADo53pSuWoh [\n",
            "  {\n",
            "    name: 'log',\n",
            "    path: 'QmXaPcSLN8KqHX64AEyC7yq6MQso2yqgHi6ADo53pSuWoh/log',\n",
            "    cid: 'QmfDFQpWLxdTuDaiR94x6XMyyZ7KFZpVAYWydvLNLvXTK2',\n",
            "    type: 'file'\n",
            "  }\n",
            "] \u001b[35m+25ms\u001b[0m\n",
            "  \u001b[32;1mipfsState:_getIPFSState(/output/log) \u001b[0mGetting state for file log QmfDFQpWLxdTuDaiR94x6XMyyZ7KFZpVAYWydvLNLvXTK2 \u001b[32m+0ms\u001b[0m\n",
            "  \u001b[36;1mipfsWatch:processFile(/output/log) \u001b[0mstarted \u001b[36m+0ms\u001b[0m\n",
            "  \u001b[36;1mipfsWatch:processFile(/output/log) \u001b[0mwriteFile /ipfs/output/log QmfDFQpWLxdTuDaiR94x6XMyyZ7KFZpVAYWydvLNLvXTK2 queued \u001b[36m+0ms\u001b[0m\n",
            "  \u001b[36;1mipfsConnector:ipfsGet(QmfDFQpWLxdTuDaiR94x6XMyyZ7KFZpVAYWydvLNLvXTK2) \u001b[0mGot all chunks. Total: 1 \u001b[36m+0ms\u001b[0m\n",
            "  \u001b[36;1mipfsConnector:ipfsGet(QmfDFQpWLxdTuDaiR94x6XMyyZ7KFZpVAYWydvLNLvXTK2) \u001b[0mReceived content length: 733 \u001b[36m+0ms\u001b[0m\n",
            "  \u001b[36;1mipfsWatch:processFile(/output/log) \u001b[0mwritefile content 733 \u001b[36m+2ms\u001b[0m\n",
            "  \u001b[31;1mipfsWatch \u001b[0mcreating folder if it does not exist /ipfs/output \u001b[31m+23ms\u001b[0m\n",
            "  \u001b[31;1mipfsWatch \u001b[0mwriting file of length undefined to folder /ipfs/output/log \u001b[31m+0ms\u001b[0m\n",
            "  \u001b[36;1mipfsWatch:processFile(/output/log) \u001b[0mdone \u001b[36m+0ms\u001b[0m\n",
            "  \u001b[32;1mipfsState:_getIPFSState(/output/log) \u001b[0mgot result of processFile /ipfs/output/log \u001b[32m+3ms\u001b[0m\n",
            "  \u001b[35;1mipfsState:_getIPFSState(/output) \u001b[0mcontents { log: '/ipfs/output/log' } \u001b[35m+3ms\u001b[0m\n",
            "  \u001b[36;1mutils:ipfsls \u001b[0m--- Out: ipfsls : [\n",
            "  {\n",
            "    name: 'text_input',\n",
            "    path: 'QmUpBRqSgRGfMh6kWswqy4W2KJsPqccb492UXMghPW2WPs/text_input',\n",
            "    cid: 'Qmdszw1cmy87PTjstXX7tnMBUkfmY7wUxqXRp4KLA9d7Pt',\n",
            "    type: 'file'\n",
            "  },\n",
            "  {\n",
            "    name: 'text_not',\n",
            "    path: 'QmUpBRqSgRGfMh6kWswqy4W2KJsPqccb492UXMghPW2WPs/text_not',\n",
            "    cid: 'QmVSqavH5ERChNFTHPDA9ZinEVEfhNSCENKK11yqhW8bAr',\n",
            "    type: 'file'\n",
            "  }\n",
            "] \u001b[36m+44ms\u001b[0m\n",
            "  \u001b[34;1mipfsState:_getIPFSState(/input) \u001b[0mGot files for input QmUpBRqSgRGfMh6kWswqy4W2KJsPqccb492UXMghPW2WPs [\n",
            "  {\n",
            "    name: 'text_input',\n",
            "    path: 'QmUpBRqSgRGfMh6kWswqy4W2KJsPqccb492UXMghPW2WPs/text_input',\n",
            "    cid: 'Qmdszw1cmy87PTjstXX7tnMBUkfmY7wUxqXRp4KLA9d7Pt',\n",
            "    type: 'file'\n",
            "  },\n",
            "  {\n",
            "    name: 'text_not',\n",
            "    path: 'QmUpBRqSgRGfMh6kWswqy4W2KJsPqccb492UXMghPW2WPs/text_not',\n",
            "    cid: 'QmVSqavH5ERChNFTHPDA9ZinEVEfhNSCENKK11yqhW8bAr',\n",
            "    type: 'file'\n",
            "  }\n",
            "] \u001b[34m+44ms\u001b[0m\n",
            "  \u001b[35;1mipfsState:_getIPFSState(/input/text_input) \u001b[0mGetting state for file text_input Qmdszw1cmy87PTjstXX7tnMBUkfmY7wUxqXRp4KLA9d7Pt \u001b[35m+0ms\u001b[0m\n",
            "  \u001b[31;1mipfsWatch:processFile(/input/text_input) \u001b[0mstarted \u001b[31m+0ms\u001b[0m\n",
            "  \u001b[31;1mipfsWatch:processFile(/input/text_input) \u001b[0mwriteFile /ipfs/input/text_input Qmdszw1cmy87PTjstXX7tnMBUkfmY7wUxqXRp4KLA9d7Pt queued \u001b[31m+0ms\u001b[0m\n",
            "  \u001b[31;1mipfsState:_getIPFSState(/input/text_not) \u001b[0mGetting state for file text_not QmVSqavH5ERChNFTHPDA9ZinEVEfhNSCENKK11yqhW8bAr \u001b[31m+0ms\u001b[0m\n",
            "  \u001b[33;1mipfsWatch:processFile(/input/text_not) \u001b[0mstarted \u001b[33m+0ms\u001b[0m\n",
            "  \u001b[33;1mipfsWatch:processFile(/input/text_not) \u001b[0mwriteFile /ipfs/input/text_not QmVSqavH5ERChNFTHPDA9ZinEVEfhNSCENKK11yqhW8bAr queued \u001b[33m+0ms\u001b[0m\n",
            "  \u001b[35;1mipfsConnector:ipfsGet(Qmdszw1cmy87PTjstXX7tnMBUkfmY7wUxqXRp4KLA9d7Pt) \u001b[0mGot all chunks. Total: 1 \u001b[35m+0ms\u001b[0m\n",
            "  \u001b[35;1mipfsConnector:ipfsGet(Qmdszw1cmy87PTjstXX7tnMBUkfmY7wUxqXRp4KLA9d7Pt) \u001b[0mReceived content length: 131 \u001b[35m+1ms\u001b[0m\n",
            "  \u001b[31;1mipfsWatch:processFile(/input/text_input) \u001b[0mwritefile content 131 \u001b[31m+3ms\u001b[0m\n",
            "  \u001b[31;1mipfsWatch \u001b[0mcreating folder if it does not exist /ipfs/input \u001b[31m+18ms\u001b[0m\n",
            "  \u001b[31;1mipfsWatch \u001b[0mwriting file of length undefined to folder /ipfs/input/text_input \u001b[31m+0ms\u001b[0m\n",
            "  \u001b[31;1mipfsWatch:processFile(/input/text_input) \u001b[0mdone \u001b[31m+0ms\u001b[0m\n",
            "  \u001b[35;1mipfsState:_getIPFSState(/input/text_input) \u001b[0mgot result of processFile /ipfs/input/text_input \u001b[35m+3ms\u001b[0m\n",
            "  \u001b[35;1mipfsConnector:ipfsGet(QmVSqavH5ERChNFTHPDA9ZinEVEfhNSCENKK11yqhW8bAr) \u001b[0mGot all chunks. Total: 1 \u001b[35m+0ms\u001b[0m\n",
            "  \u001b[35;1mipfsConnector:ipfsGet(QmVSqavH5ERChNFTHPDA9ZinEVEfhNSCENKK11yqhW8bAr) \u001b[0mReceived content length: 75 \u001b[35m+0ms\u001b[0m\n",
            "  \u001b[33;1mipfsWatch:processFile(/input/text_not) \u001b[0mwritefile content 75 \u001b[33m+4ms\u001b[0m\n",
            "  \u001b[31;1mipfsWatch \u001b[0mcreating folder if it does not exist /ipfs/input \u001b[31m+1ms\u001b[0m\n",
            "  \u001b[31;1mipfsWatch \u001b[0mwriting file of length undefined to folder /ipfs/input/text_not \u001b[31m+1ms\u001b[0m\n",
            "  \u001b[33;1mipfsWatch:processFile(/input/text_not) \u001b[0mdone \u001b[33m+1ms\u001b[0m\n",
            "  \u001b[31;1mipfsState:_getIPFSState(/input/text_not) \u001b[0mgot result of processFile /ipfs/input/text_not \u001b[31m+5ms\u001b[0m\n",
            "  \u001b[34;1mipfsState:_getIPFSState(/input) \u001b[0mcontents {\n",
            "  text_input: '/ipfs/input/text_input',\n",
            "  text_not: '/ipfs/input/text_not'\n",
            "} \u001b[34m+5ms\u001b[0m\n",
            "  \u001b[31;1mipfsState:_getIPFSState(/) \u001b[0mcontents {\n",
            "  input: {\n",
            "    text_input: '/ipfs/input/text_input',\n",
            "    text_not: '/ipfs/input/text_not'\n",
            "  },\n",
            "  'notebook.ipynb': '/ipfs/notebook.ipynb',\n",
            "  output: { log: '/ipfs/output/log' }\n",
            "} \u001b[31m+50ms\u001b[0m\n",
            "  \u001b[31;1mipfsWatch \u001b[0mgot remote state {\n",
            "  input: {\n",
            "    text_input: '/ipfs/input/text_input',\n",
            "    text_not: '/ipfs/input/text_not'\n",
            "  },\n",
            "  'notebook.ipynb': '/ipfs/notebook.ipynb',\n",
            "  output: { log: '/ipfs/output/log' }\n",
            "} \u001b[31m+0ms\u001b[0m\n"
          ],
          "name": "stdout"
        }
      ]
    },
    {
      "cell_type": "code",
      "metadata": {
        "id": "mD8tRZESGzeP",
        "colab": {
          "base_uri": "https://localhost:8080/"
        },
        "outputId": "cc97ca87-b7ba-4e48-c6a7-62c16685fa26"
      },
      "source": [
        "from glob import glob\n",
        "from os.path import basename\n",
        "from json5 import loads\n",
        "parameters={}\n",
        "for path in glob(f\"{ipfs_root}/input/*\"):\n",
        "  key = basename(path)\n",
        "  with open(path,'r') as f: \n",
        "    value = f.read()\n",
        "    parameters[key] = loads(value)\n",
        "\n",
        "print(\"New parameters\", parameters)"
      ],
      "execution_count": 10,
      "outputs": [
        {
          "output_type": "stream",
          "text": [
            "New parameters {'text_not': 'disconnected, confusing, incoherent, cluttered, watermarks, text, writing', 'text_input': 'Vibrant painting of a synthesizer picnic on a sunny day in the garden of the gasworks with two large chimneys in the background. '}\n"
          ],
          "name": "stdout"
        }
      ]
    },
    {
      "cell_type": "code",
      "metadata": {
        "id": "yerLsamovWhd",
        "colab": {
          "base_uri": "https://localhost:8080/"
        },
        "outputId": "218cd435-25de-45df-fad1-bc7998f80b80"
      },
      "source": [
        "!nohup pollinate -p {ipfs_root} --ipns --send &"
      ],
      "execution_count": 11,
      "outputs": [
        {
          "output_type": "stream",
          "text": [
            "nohup: appending output to 'nohup.out'\n"
          ],
          "name": "stdout"
        }
      ]
    },
    {
      "cell_type": "code",
      "metadata": {
        "id": "2qcR2Tgghrf3",
        "colab": {
          "base_uri": "https://localhost:8080/",
          "height": 1000
        },
        "outputId": "e662d408-bc93-4f2f-8ce5-405bc65fd927"
      },
      "source": [
        "#!pip install --upgrade pip\n",
        "\n",
        "#!pip install --upgrade ipython\n",
        "#import papermill as pm\n",
        "\n",
        "from subprocess import Popen, PIPE, STDOUT\n",
        "from sys import stdout\n",
        "import os\n",
        "\n",
        "output_path = ipfs_root+\"/output\"\n",
        "#parameters[\"text\"] = \"A black and white photo of Saeko with her new Elektron FM synthesizer\"\n",
        "def run(parameters):\n",
        "  print(\"Running\",parameters)\n",
        " \n",
        "  parameters[\"output_path\"] = output_path\n",
        "  _params = [[\"-p\", key, value] for key, value in parameters.items()]\n",
        "  params = [str(val) for sublist in _params for val in sublist]\n",
        "  cmd = [\"papermill\", notebook_path, \"/content/notebook_output.ipynb\"] + params\n",
        "  print(\"Running cmd\",\" \".join(cmd))\n",
        "  p = Popen(\n",
        "          cmd, \n",
        "          stdout = PIPE, \n",
        "          stderr = STDOUT, \n",
        "          shell = False, \n",
        "          cwd = worker_root\n",
        "          )\n",
        "\n",
        "\n",
        "  while True:\n",
        "    line = p.stdout.readline()#\n",
        "    if not line: break\n",
        "    line_text = line.decode(\"utf-8\")\n",
        "\n",
        "    stdout.write(line)\n",
        "    with open(f\"{ipfs_root}/output/log\",\"a\") as log_out:\n",
        "      if not line_text.startswith(\"unhandled\"):\n",
        "        log_out.write(line_text)\n",
        "        log_out.flush()\n",
        "      \n",
        "   \n",
        "        \n",
        "while True:\n",
        "  run(parameters)\n",
        "  !sleep 100"
      ],
      "execution_count": 12,
      "outputs": [
        {
          "output_type": "stream",
          "text": [
            "Running {'text_not': 'disconnected, confusing, incoherent, cluttered, watermarks, text, writing', 'text_input': 'Vibrant painting of a synthesizer picnic on a sunny day in the garden of the gasworks with two large chimneys in the background. '}\n",
            "Running cmd papermill /ipfs/notebook.ipynb /content/notebook_output.ipynb -p text_not disconnected, confusing, incoherent, cluttered, watermarks, text, writing -p text_input Vibrant painting of a synthesizer picnic on a sunny day in the garden of the gasworks with two large chimneys in the background.  -p output_path /ipfs/output\n",
            "Input Notebook:  /ipfs/notebook.ipynb\n",
            "Output Notebook: /content/notebook_output.ipynb\n",
            "Generating grammar tables from /usr/local/lib/python3.7/dist-packages/blib2to3/Grammar.txt\n",
            "Writing grammar tables to /root/.cache/black/21.6b0/Grammar3.7.10.final.0.pickle\n",
            "Writing failed: [Errno 2] No such file or directory: '/root/.cache/black/21.6b0/tmpq7edh285'\n",
            "Generating grammar tables from /usr/local/lib/python3.7/dist-packages/blib2to3/PatternGrammar.txt\n",
            "Writing grammar tables to /root/.cache/black/21.6b0/PatternGrammar3.7.10.final.0.pickle\n",
            "Writing failed: [Errno 2] No such file or directory: '/root/.cache/black/21.6b0/tmp_u6d0efz'\n",
            "Input notebook does not contain a cell with tag 'parameters'\n",
            "Executing:   0%|          | 0/41 [00:00<?, ?cell/s]Executing notebook with kernel: python3\n",
            "Executing:   2%|▏         | 1/41 [00:01<00:53,  1.33s/cell]unhandled iopub msg: colab_request\n",
            "unhandled iopub msg: colab_request\n",
            "unhandled iopub msg: colab_request\n",
            "unhandled iopub msg: colab_request\n",
            "unhandled iopub msg: colab_request\n",
            "unhandled iopub msg: colab_request\n",
            "Executing:  10%|▉         | 4/41 [00:10<01:09,  1.88s/cell]unhandled iopub msg: colab_request\n",
            "unhandled iopub msg: colab_request\n",
            "unhandled iopub msg: colab_request\n",
            "Executing:  12%|█▏        | 5/41 [00:10<00:48,  1.36s/cell]unhandled iopub msg: colab_request\n",
            "unhandled iopub msg: colab_request\n",
            "unhandled iopub msg: colab_request\n",
            "Executing:  17%|█▋        | 7/41 [00:20<01:20,  2.38s/cell]unhandled iopub msg: colab_request\n",
            "unhandled iopub msg: colab_request\n",
            "unhandled iopub msg: colab_request\n",
            "unhandled iopub msg: colab_request\n",
            "unhandled iopub msg: colab_request\n",
            "unhandled iopub msg: colab_request\n",
            "Executing:  41%|████▏     | 17/41 [00:42<00:28,  1.21s/cell]unhandled iopub msg: colab_request\n",
            "unhandled iopub msg: colab_request\n",
            "unhandled iopub msg: colab_request\n",
            "unhandled iopub msg: colab_request\n",
            "unhandled iopub msg: colab_request\n",
            "unhandled iopub msg: colab_request\n",
            "unhandled iopub msg: colab_request\n",
            "unhandled iopub msg: colab_request\n",
            "unhandled iopub msg: colab_request\n",
            "unhandled iopub msg: colab_request\n",
            "unhandled iopub msg: colab_request\n",
            "unhandled iopub msg: colab_request\n",
            "unhandled iopub msg: colab_request\n",
            "unhandled iopub msg: colab_request\n",
            "Executing:  41%|████▏     | 17/41 [01:00<00:28,  1.21s/cell]unhandled iopub msg: colab_request\n",
            "unhandled iopub msg: colab_request\n",
            "unhandled iopub msg: colab_request\n",
            "unhandled iopub msg: colab_request\n",
            "unhandled iopub msg: colab_request\n",
            "unhandled iopub msg: colab_request\n",
            "unhandled iopub msg: colab_request\n"
          ],
          "name": "stdout"
        },
        {
          "output_type": "error",
          "ename": "KeyboardInterrupt",
          "evalue": "ignored",
          "traceback": [
            "\u001b[0;31m---------------------------------------------------------------------------\u001b[0m",
            "\u001b[0;31mKeyboardInterrupt\u001b[0m                         Traceback (most recent call last)",
            "\u001b[0;32m<ipython-input-12-7b4f0550b626>\u001b[0m in \u001b[0;36m<module>\u001b[0;34m()\u001b[0m\n\u001b[1;32m     41\u001b[0m \u001b[0;34m\u001b[0m\u001b[0m\n\u001b[1;32m     42\u001b[0m \u001b[0;32mwhile\u001b[0m \u001b[0;32mTrue\u001b[0m\u001b[0;34m:\u001b[0m\u001b[0;34m\u001b[0m\u001b[0;34m\u001b[0m\u001b[0m\n\u001b[0;32m---> 43\u001b[0;31m   \u001b[0mrun\u001b[0m\u001b[0;34m(\u001b[0m\u001b[0mparameters\u001b[0m\u001b[0;34m)\u001b[0m\u001b[0;34m\u001b[0m\u001b[0;34m\u001b[0m\u001b[0m\n\u001b[0m\u001b[1;32m     44\u001b[0m   \u001b[0mget_ipython\u001b[0m\u001b[0;34m(\u001b[0m\u001b[0;34m)\u001b[0m\u001b[0;34m.\u001b[0m\u001b[0msystem\u001b[0m\u001b[0;34m(\u001b[0m\u001b[0;34m'sleep 100'\u001b[0m\u001b[0;34m)\u001b[0m\u001b[0;34m\u001b[0m\u001b[0;34m\u001b[0m\u001b[0m\n",
            "\u001b[0;32m<ipython-input-12-7b4f0550b626>\u001b[0m in \u001b[0;36mrun\u001b[0;34m(parameters)\u001b[0m\n\u001b[1;32m     28\u001b[0m \u001b[0;34m\u001b[0m\u001b[0m\n\u001b[1;32m     29\u001b[0m   \u001b[0;32mwhile\u001b[0m \u001b[0;32mTrue\u001b[0m\u001b[0;34m:\u001b[0m\u001b[0;34m\u001b[0m\u001b[0;34m\u001b[0m\u001b[0m\n\u001b[0;32m---> 30\u001b[0;31m     \u001b[0mline\u001b[0m \u001b[0;34m=\u001b[0m \u001b[0mp\u001b[0m\u001b[0;34m.\u001b[0m\u001b[0mstdout\u001b[0m\u001b[0;34m.\u001b[0m\u001b[0mreadline\u001b[0m\u001b[0;34m(\u001b[0m\u001b[0;34m)\u001b[0m\u001b[0;31m#\u001b[0m\u001b[0;34m\u001b[0m\u001b[0;34m\u001b[0m\u001b[0m\n\u001b[0m\u001b[1;32m     31\u001b[0m     \u001b[0;32mif\u001b[0m \u001b[0;32mnot\u001b[0m \u001b[0mline\u001b[0m\u001b[0;34m:\u001b[0m \u001b[0;32mbreak\u001b[0m\u001b[0;34m\u001b[0m\u001b[0;34m\u001b[0m\u001b[0m\n\u001b[1;32m     32\u001b[0m     \u001b[0mline_text\u001b[0m \u001b[0;34m=\u001b[0m \u001b[0mline\u001b[0m\u001b[0;34m.\u001b[0m\u001b[0mdecode\u001b[0m\u001b[0;34m(\u001b[0m\u001b[0;34m\"utf-8\"\u001b[0m\u001b[0;34m)\u001b[0m\u001b[0;34m\u001b[0m\u001b[0;34m\u001b[0m\u001b[0m\n",
            "\u001b[0;31mKeyboardInterrupt\u001b[0m: "
          ]
        }
      ]
    }
  ]
}