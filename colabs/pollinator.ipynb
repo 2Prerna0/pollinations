{
  "nbformat": 4,
  "nbformat_minor": 0,
  "metadata": {
    "colab": {
      "name": "Pollinator",
      "provenance": [],
      "collapsed_sections": [],
      "machine_shape": "hm",
      "include_colab_link": true
    },
    "kernelspec": {
      "name": "python3",
      "display_name": "Python 3"
    },
    "accelerator": "GPU"
  },
  "cells": [
    {
      "cell_type": "markdown",
      "metadata": {
        "id": "view-in-github",
        "colab_type": "text"
      },
      "source": [
        "<a href=\"https://colab.research.google.com/github/voodoohop/pollinations/blob/master/colabs/pollinator.ipynb\" target=\"_parent\"><img src=\"https://colab.research.google.com/assets/colab-badge.svg\" alt=\"Open In Colab\"/></a>"
      ]
    },
    {
      "cell_type": "markdown",
      "metadata": {
        "id": "z8RkOYkzmGDW"
      },
      "source": [
        "## Code (Frontend and IPFS Connection)"
      ]
    },
    {
      "cell_type": "code",
      "metadata": {
        "id": "RcWlME-DwhrS",
        "colab": {
          "base_uri": "https://localhost:8080/",
          "height": 1000
        },
        "outputId": "1dbbcb38-234c-455d-e47f-628e988c38fb"
      },
      "source": [
        "#@title Config and Requirements\n",
        "!pip install coolname gdown papermill json5\n",
        "from coolname import generate_slug\n",
        "#ipfs_nodeid = generate_slug(2)#asyncio.run(loop.create_task(get_node_id()))\n",
        "IPFS_PEER = \"ipfs.pollinations.ai\"\n",
        "ipfs_root = \"/ipfs\"\n",
        "worker_root = \"/content\"\n",
        "print(f\"---Settings---\\nIPFS_ROOT: {ipfs_root}\\nIPFS_PEER: {IPFS_PEER}\")"
      ],
      "execution_count": 1,
      "outputs": [
        {
          "output_type": "stream",
          "text": [
            "Collecting coolname\n",
            "  Downloading https://files.pythonhosted.org/packages/25/43/64c0cec51944924f44c0788c329a2c6fde061428c97d7cba73de177ececd/coolname-1.1.0-py2.py3-none-any.whl\n",
            "Requirement already satisfied: gdown in /usr/local/lib/python3.7/dist-packages (3.6.4)\n",
            "Collecting papermill\n",
            "  Downloading https://files.pythonhosted.org/packages/ec/3b/55dbb2017142340a57937f1fad78c7d9373552540b42740e37fd6c40d761/papermill-2.3.3-py3-none-any.whl\n",
            "Collecting json5\n",
            "  Downloading https://files.pythonhosted.org/packages/2b/81/22bf51a5bc60dde18bb6164fd597f18ee683de8670e141364d9c432dd3cf/json5-0.9.5-py2.py3-none-any.whl\n",
            "Requirement already satisfied: six in /usr/local/lib/python3.7/dist-packages (from gdown) (1.15.0)\n",
            "Requirement already satisfied: requests in /usr/local/lib/python3.7/dist-packages (from gdown) (2.23.0)\n",
            "Requirement already satisfied: tqdm in /usr/local/lib/python3.7/dist-packages (from gdown) (4.41.1)\n",
            "Collecting ansiwrap\n",
            "  Downloading https://files.pythonhosted.org/packages/03/50/43e775a63e0d632d9be3b3fa1c9b2cbaf3b7870d203655710a3426f47c26/ansiwrap-0.8.4-py2.py3-none-any.whl\n",
            "Requirement already satisfied: pyyaml in /usr/local/lib/python3.7/dist-packages (from papermill) (3.13)\n",
            "Collecting tenacity\n",
            "  Downloading https://files.pythonhosted.org/packages/41/ee/d6eddff86161c6a3a1753af4a66b06cbc508d3b77ca4698cd0374cd66531/tenacity-7.0.0-py2.py3-none-any.whl\n",
            "Requirement already satisfied: click in /usr/local/lib/python3.7/dist-packages (from papermill) (7.1.2)\n",
            "Requirement already satisfied: entrypoints in /usr/local/lib/python3.7/dist-packages (from papermill) (0.3)\n",
            "Requirement already satisfied: nbclient>=0.2.0 in /usr/local/lib/python3.7/dist-packages (from papermill) (0.5.3)\n",
            "Requirement already satisfied: nbformat>=5.1.2 in /usr/local/lib/python3.7/dist-packages (from papermill) (5.1.3)\n",
            "Collecting black\n",
            "\u001b[?25l  Downloading https://files.pythonhosted.org/packages/91/d0/154973fbb48aeda17cd117507872079de82408bb16f6f2ead3d05be68bd6/black-21.6b0-py3-none-any.whl (140kB)\n",
            "\u001b[K     |████████████████████████████████| 143kB 14.8MB/s \n",
            "\u001b[?25hRequirement already satisfied: chardet<4,>=3.0.2 in /usr/local/lib/python3.7/dist-packages (from requests->gdown) (3.0.4)\n",
            "Requirement already satisfied: idna<3,>=2.5 in /usr/local/lib/python3.7/dist-packages (from requests->gdown) (2.10)\n",
            "Requirement already satisfied: certifi>=2017.4.17 in /usr/local/lib/python3.7/dist-packages (from requests->gdown) (2020.12.5)\n",
            "Requirement already satisfied: urllib3!=1.25.0,!=1.25.1,<1.26,>=1.21.1 in /usr/local/lib/python3.7/dist-packages (from requests->gdown) (1.24.3)\n",
            "Collecting textwrap3>=0.9.2\n",
            "  Downloading https://files.pythonhosted.org/packages/77/9c/a53e561d496ee5866bbeea4d3a850b3b545ed854f8a21007c1e0d872e94d/textwrap3-0.9.2-py2.py3-none-any.whl\n",
            "Requirement already satisfied: async-generator in /usr/local/lib/python3.7/dist-packages (from nbclient>=0.2.0->papermill) (1.10)\n",
            "Collecting jupyter-client>=6.1.5\n",
            "\u001b[?25l  Downloading https://files.pythonhosted.org/packages/77/e8/c3cf72a32a697256608d5fa96360c431adec6e1c6709ba7f13f99ff5ee04/jupyter_client-6.1.12-py3-none-any.whl (112kB)\n",
            "\u001b[K     |████████████████████████████████| 122kB 42.2MB/s \n",
            "\u001b[?25hRequirement already satisfied: nest-asyncio in /usr/local/lib/python3.7/dist-packages (from nbclient>=0.2.0->papermill) (1.5.1)\n",
            "Requirement already satisfied: traitlets>=4.2 in /usr/local/lib/python3.7/dist-packages (from nbclient>=0.2.0->papermill) (5.0.5)\n",
            "Requirement already satisfied: ipython-genutils in /usr/local/lib/python3.7/dist-packages (from nbformat>=5.1.2->papermill) (0.2.0)\n",
            "Requirement already satisfied: jsonschema!=2.5.0,>=2.4 in /usr/local/lib/python3.7/dist-packages (from nbformat>=5.1.2->papermill) (2.6.0)\n",
            "Requirement already satisfied: jupyter-core in /usr/local/lib/python3.7/dist-packages (from nbformat>=5.1.2->papermill) (4.7.1)\n",
            "Collecting mypy-extensions>=0.4.3\n",
            "  Downloading https://files.pythonhosted.org/packages/5c/eb/975c7c080f3223a5cdaff09612f3a5221e4ba534f7039db34c35d95fa6a5/mypy_extensions-0.4.3-py2.py3-none-any.whl\n",
            "Collecting regex>=2020.1.8\n",
            "\u001b[?25l  Downloading https://files.pythonhosted.org/packages/c4/28/5f08d8841013ccf72cd95dfff2500fe7fb39467af12c5e7b802d8381d811/regex-2021.4.4-cp37-cp37m-manylinux2014_x86_64.whl (720kB)\n",
            "\u001b[K     |████████████████████████████████| 727kB 46.7MB/s \n",
            "\u001b[?25hRequirement already satisfied: appdirs in /usr/local/lib/python3.7/dist-packages (from black->papermill) (1.4.4)\n",
            "Requirement already satisfied: toml>=0.10.1 in /usr/local/lib/python3.7/dist-packages (from black->papermill) (0.10.2)\n",
            "Requirement already satisfied: typing-extensions>=3.7.4; python_version < \"3.8\" in /usr/local/lib/python3.7/dist-packages (from black->papermill) (3.7.4.3)\n",
            "Collecting pathspec<1,>=0.8.1\n",
            "  Downloading https://files.pythonhosted.org/packages/29/29/a465741a3d97ea3c17d21eaad4c64205428bde56742360876c4391f930d4/pathspec-0.8.1-py2.py3-none-any.whl\n",
            "Collecting typed-ast>=1.4.2; python_version < \"3.8\"\n",
            "\u001b[?25l  Downloading https://files.pythonhosted.org/packages/65/b3/573d2f1fecbbe8f82a8d08172e938c247f99abe1be3bef3da2efaa3810bf/typed_ast-1.4.3-cp37-cp37m-manylinux1_x86_64.whl (743kB)\n",
            "\u001b[K     |████████████████████████████████| 747kB 45.5MB/s \n",
            "\u001b[?25hRequirement already satisfied: python-dateutil>=2.1 in /usr/local/lib/python3.7/dist-packages (from jupyter-client>=6.1.5->nbclient>=0.2.0->papermill) (2.8.1)\n",
            "Requirement already satisfied: pyzmq>=13 in /usr/local/lib/python3.7/dist-packages (from jupyter-client>=6.1.5->nbclient>=0.2.0->papermill) (22.0.3)\n",
            "Requirement already satisfied: tornado>=4.1 in /usr/local/lib/python3.7/dist-packages (from jupyter-client>=6.1.5->nbclient>=0.2.0->papermill) (5.1.1)\n",
            "Installing collected packages: coolname, textwrap3, ansiwrap, tenacity, mypy-extensions, regex, pathspec, typed-ast, black, papermill, json5, jupyter-client\n",
            "  Found existing installation: regex 2019.12.20\n",
            "    Uninstalling regex-2019.12.20:\n",
            "      Successfully uninstalled regex-2019.12.20\n",
            "  Found existing installation: jupyter-client 5.3.5\n",
            "    Uninstalling jupyter-client-5.3.5:\n",
            "      Successfully uninstalled jupyter-client-5.3.5\n",
            "Successfully installed ansiwrap-0.8.4 black-21.6b0 coolname-1.1.0 json5-0.9.5 jupyter-client-6.1.12 mypy-extensions-0.4.3 papermill-2.3.3 pathspec-0.8.1 regex-2021.4.4 tenacity-7.0.0 textwrap3-0.9.2 typed-ast-1.4.3\n"
          ],
          "name": "stdout"
        },
        {
          "output_type": "display_data",
          "data": {
            "application/vnd.colab-display-data+json": {
              "pip_warning": {
                "packages": [
                  "jupyter_client"
                ]
              }
            }
          },
          "metadata": {
            "tags": []
          }
        },
        {
          "output_type": "stream",
          "text": [
            "---Settings---\n",
            "IPFS_ROOT: /ipfs\n",
            "IPFS_PEER: ipfs.pollinations.ai\n"
          ],
          "name": "stdout"
        }
      ]
    },
    {
      "cell_type": "code",
      "metadata": {
        "id": "pWfAE_iqBMdB",
        "colab": {
          "base_uri": "https://localhost:8080/"
        },
        "outputId": "106d124f-d1ec-4db9-996d-573595d6bb0f"
      },
      "source": [
        "#@title Empty and create ipfs root: */content/ipfs*\n",
        "\n",
        "\n",
        "\n",
        "!rm -r $ipfs_root\n",
        "!mkdir -p $ipfs_root/input\n",
        "!mkdir -p $ipfs_root/output\n",
        "!mkdir -p $worker_root\n",
        "!echo \"Created IPFS resource\" > $ipfs_root/output/log\n",
        "\n"
      ],
      "execution_count": 2,
      "outputs": [
        {
          "output_type": "stream",
          "text": [
            "rm: cannot remove '/ipfs': No such file or directory\n"
          ],
          "name": "stdout"
        }
      ]
    },
    {
      "cell_type": "code",
      "metadata": {
        "id": "9j1zUbMN4VDP",
        "colab": {
          "base_uri": "https://localhost:8080/"
        },
        "outputId": "f7427676-a1b5-4db0-c427-654041d81925"
      },
      "source": [
        "#@title Install IPFS\n",
        "\n",
        "%cd /content\n",
        "!git clone https://github.com/voodoohop/pollinations.git\n",
        "%cd /content/pollinations/app\n",
        "!git pull\n",
        "!git checkout dev \n",
        "!git pull\n",
        "!npm run install_backend\n",
        "%cd -\n",
        "\n"
      ],
      "execution_count": 3,
      "outputs": [
        {
          "output_type": "stream",
          "text": [
            "/content\n",
            "Cloning into 'pollinations'...\n",
            "remote: Enumerating objects: 2266, done.\u001b[K\n",
            "remote: Counting objects: 100% (658/658), done.\u001b[K\n",
            "remote: Compressing objects: 100% (525/525), done.\u001b[K\n",
            "remote: Total 2266 (delta 448), reused 256 (delta 129), pack-reused 1608\u001b[K\n",
            "Receiving objects: 100% (2266/2266), 18.72 MiB | 24.73 MiB/s, done.\n",
            "Resolving deltas: 100% (1491/1491), done.\n",
            "/content/pollinations/app\n",
            "Already up to date.\n",
            "Branch 'dev' set up to track remote branch 'dev' from 'origin'.\n",
            "Switched to a new branch 'dev'\n",
            "Already up to date.\n",
            "\n",
            "> pollinations@0.4.5 install_backend /content/pollinations/app\n",
            "> cp -v dist/pollinate.js /usr/local/bin/pollinate\n",
            "\n",
            "'dist/pollinate.js' -> '/usr/local/bin/pollinate'\n",
            "/content\n"
          ],
          "name": "stdout"
        }
      ]
    },
    {
      "cell_type": "code",
      "metadata": {
        "id": "hH76cPjgwZBJ",
        "colab": {
          "base_uri": "https://localhost:8080/"
        },
        "outputId": "5ea8cdc8-5b95-47fa-ca33-2f0880c0b5db"
      },
      "source": [
        "!/content/pollinations/ipfs/ipfsd_install_colab.sh\n",
        "!nohup  /content/pollinations/ipfs/ipfsd_forever.sh > $ipfs_root/output/log &\n",
        "!sleep 5\n",
        "\n"
      ],
      "execution_count": 4,
      "outputs": [
        {
          "output_type": "stream",
          "text": [
            "--2021-06-12 06:51:44--  https://dist.ipfs.io/go-ipfs/v0.8.0/go-ipfs_v0.8.0_linux-amd64.tar.gz\n",
            "Resolving dist.ipfs.io (dist.ipfs.io)... 209.94.78.1, 2602:fea2:3::1\n",
            "Connecting to dist.ipfs.io (dist.ipfs.io)|209.94.78.1|:443... connected.\n",
            "HTTP request sent, awaiting response... 200 OK\n",
            "Length: 25904633 (25M) [application/gzip]\n",
            "Saving to: ‘go-ipfs_v0.8.0_linux-amd64.tar.gz’\n",
            "\n",
            "go-ipfs_v0.8.0_linu 100%[===================>]  24.70M  72.5MB/s    in 0.3s    \n",
            "\n",
            "2021-06-12 06:51:45 (72.5 MB/s) - ‘go-ipfs_v0.8.0_linux-amd64.tar.gz’ saved [25904633/25904633]\n",
            "\n",
            "go-ipfs/install.sh\n",
            "go-ipfs/ipfs\n",
            "go-ipfs/LICENSE\n",
            "go-ipfs/LICENSE-APACHE\n",
            "go-ipfs/LICENSE-MIT\n",
            "go-ipfs/README.md\n",
            "Moved ./ipfs to /usr/local/bin\n",
            "/content\n",
            "generating ED25519 keypair...done\n",
            "peer identity: 12D3KooWJk1dSCYeGKBUj6PbDNnqB4gAa2EcwjBJDZ8qvy6U9ZMn\n",
            "initializing IPFS node at /root/.ipfs\n",
            "to get started, enter:\n",
            "\n",
            "\tipfs cat /ipfs/QmQPeNsJPyVWPFDVHb77w8G42Fvo15z4bG2X8D2GhfbSXc/readme\n",
            "\n",
            "nohup: redirecting stderr to stdout\n"
          ],
          "name": "stdout"
        }
      ]
    },
    {
      "cell_type": "code",
      "metadata": {
        "id": "I2TUR4jTc15O"
      },
      "source": [
        "from os.path import join\n",
        "\n",
        "\n",
        "notebook_path = join(ipfs_root,\"notebook.ipynb\")\n",
        "\n"
      ],
      "execution_count": 5,
      "outputs": []
    },
    {
      "cell_type": "code",
      "metadata": {
        "id": "fkHiUZqQ8EtE",
        "colab": {
          "base_uri": "https://localhost:8080/"
        },
        "outputId": "03177926-b757-4165-d464-b34fc30f3f9c"
      },
      "source": [
        "node_id=!ipfs id -f=\"<id>\\n\"\n",
        "node_id=node_id[0]\n",
        "\n",
        "print(\"---Node ID---:\", node_id)"
      ],
      "execution_count": 6,
      "outputs": [
        {
          "output_type": "stream",
          "text": [
            "---Node ID---: 12D3KooWJk1dSCYeGKBUj6PbDNnqB4gAa2EcwjBJDZ8qvy6U9ZMn\n"
          ],
          "name": "stdout"
        }
      ]
    },
    {
      "cell_type": "code",
      "metadata": {
        "id": "A4TYvT7yoGvE",
        "colab": {
          "base_uri": "https://localhost:8080/",
          "height": 175
        },
        "outputId": "84ae880b-7723-45bf-c5dc-a47d97e71c61"
      },
      "source": [
        "#@title Create connection to frontend UI\n",
        "\n",
        "import IPython\n",
        "from google.colab import output\n",
        "\n",
        "display(IPython.display.Javascript(f'''\n",
        "  const iframe = document.createElement(\"iframe\")\n",
        "  iframe.src = `https://pollinations.ai/incolab.html?node={node_id}`\n",
        "  document.querySelector(\"#output-area\").appendChild(iframe)\n",
        "  const iframe2 = document.createElement(\"iframe\")\n",
        "  iframe2.src = `http://localhost:3000/incolab.html?node={node_id}`\n",
        "  document.querySelector(\"#output-area\").appendChild(iframe2)\n",
        "'''))\n",
        "\n",
        "!sleep 5\n"
      ],
      "execution_count": 7,
      "outputs": [
        {
          "output_type": "display_data",
          "data": {
            "application/javascript": [
              "\n",
              "  const iframe = document.createElement(\"iframe\")\n",
              "  iframe.src = `https://pollinations.ai/incolab.html?node=12D3KooWJk1dSCYeGKBUj6PbDNnqB4gAa2EcwjBJDZ8qvy6U9ZMn`\n",
              "  document.querySelector(\"#output-area\").appendChild(iframe)\n",
              "  const iframe2 = document.createElement(\"iframe\")\n",
              "  iframe2.src = `http://localhost:3000/incolab.html?node=12D3KooWJk1dSCYeGKBUj6PbDNnqB4gAa2EcwjBJDZ8qvy6U9ZMn`\n",
              "  document.querySelector(\"#output-area\").appendChild(iframe2)\n"
            ],
            "text/plain": [
              "<IPython.core.display.Javascript object>"
            ]
          },
          "metadata": {
            "tags": []
          }
        }
      ]
    },
    {
      "cell_type": "code",
      "metadata": {
        "id": "BGPvoHzKKpRR"
      },
      "source": [
        "# !DEBUG=* pollinate -p {ipfs_root} --ipns --send --once"
      ],
      "execution_count": 8,
      "outputs": []
    },
    {
      "cell_type": "code",
      "metadata": {
        "id": "Dh8r_667U5gc",
        "colab": {
          "base_uri": "https://localhost:8080/"
        },
        "outputId": "1f4ce495-2de6-44f9-8092-c81f4e976c1f"
      },
      "source": [
        "!DEBUG=* pollinate -p {ipfs_root} --ipns --receive --once"
      ],
      "execution_count": 9,
      "outputs": [
        {
          "output_type": "stream",
          "text": [
            "  \u001b[32;1mipfsConnector \u001b[0mNodeID Promise { <pending> } \u001b[32m+0ms\u001b[0m\n",
            "  \u001b[31;1mipfsWatch \u001b[0mCLI options {\r\n",
            "  path: '/ipfs',\r\n",
            "  receive: true,\r\n",
            "  send: false,\r\n",
            "  once: true,\r\n",
            "  ipns: true,\r\n",
            "  nodeid: null\r\n",
            "} \u001b[31m+0ms\u001b[0m\r\n",
            "  \u001b[31;1mipfsWatch \u001b[0mIPNS activated. subscring to CIDs \u001b[31m+1ms\u001b[0m\r\n",
            "  \u001b[32;1mipfsConnector \u001b[0mLocalhost:5001 is reachable. Connecting... \u001b[32m+8ms\u001b[0m\r\n",
            "  \u001b[32;1mipfsConnector \u001b[0mSubscribing to pubsub events from 12D3KooWJk1dSCYeGKBUj6PbDNnqB4gAa2EcwjBJDZ8qvy6U9ZMn \u001b[32m+67ms\u001b[0m\n",
            "  \u001b[31;1mipfsWatch \u001b[0mremoteCID from pubsub QmVg8GQh7H6WKVaKaYyBm98AEVL9ARfe2zJ5nQH3p7Hxj4 \u001b[31m+6m\u001b[0m\n",
            "  \u001b[31;1mipfsWatch \u001b[0mProcessing remote CID QmVg8GQh7H6WKVaKaYyBm98AEVL9ARfe2zJ5nQH3p7Hxj4 \u001b[31m+0ms\u001b[0m\n",
            "  \u001b[34;1mipfsState \u001b[0mGetting state for CID QmVg8GQh7H6WKVaKaYyBm98AEVL9ARfe2zJ5nQH3p7Hxj4 \u001b[34m+0ms\u001b[0m\n",
            "  \u001b[31;1mipfsState:_getIPFSState(/) \u001b[0mGetting state for dir root QmVg8GQh7H6WKVaKaYyBm98AEVL9ARfe2zJ5nQH3p7Hxj4 \u001b[31m+0ms\u001b[0m\n",
            "  \u001b[36;1mutils:ipfsls \u001b[0m--- Calling  ipfsls with input QmVg8GQh7H6WKVaKaYyBm98AEVL9ARfe2zJ5nQH3p7Hxj4 \u001b[36m+0ms\u001b[0m\n",
            "  \u001b[36;1mutils:ipfsls \u001b[0m--- In: QmVg8GQh7H6WKVaKaYyBm98AEVL9ARfe2zJ5nQH3p7Hxj4 \u001b[36m+1ms\u001b[0m\n",
            "  \u001b[36;1mutils:ipfsls \u001b[0m--- Out: ipfsls : [\n",
            "  {\n",
            "    name: 'input',\n",
            "    path: 'QmVg8GQh7H6WKVaKaYyBm98AEVL9ARfe2zJ5nQH3p7Hxj4/input',\n",
            "    cid: 'QmUpBRqSgRGfMh6kWswqy4W2KJsPqccb492UXMghPW2WPs',\n",
            "    type: 'dir'\n",
            "  },\n",
            "  {\n",
            "    name: 'notebook.ipynb',\n",
            "    path: 'QmVg8GQh7H6WKVaKaYyBm98AEVL9ARfe2zJ5nQH3p7Hxj4/notebook.ipynb',\n",
            "    cid: 'QmVJEnoa465AhNi5vVZqkWW4fCQkYXroXgD8rjaqAGesj4',\n",
            "    type: 'file'\n",
            "  },\n",
            "  {\n",
            "    name: 'output',\n",
            "    path: 'QmVg8GQh7H6WKVaKaYyBm98AEVL9ARfe2zJ5nQH3p7Hxj4/output',\n",
            "    cid: 'QmeMu7y2qhDsCodgJEUtUHbozmjGZhng7CigG78wv17Ngc',\n",
            "    type: 'dir'\n",
            "  }\n",
            "] \u001b[36m+780ms\u001b[0m\n",
            "  \u001b[31;1mipfsState:_getIPFSState(/) \u001b[0mGot files for root QmVg8GQh7H6WKVaKaYyBm98AEVL9ARfe2zJ5nQH3p7Hxj4 [\n",
            "  {\n",
            "    name: 'input',\n",
            "    path: 'QmVg8GQh7H6WKVaKaYyBm98AEVL9ARfe2zJ5nQH3p7Hxj4/input',\n",
            "    cid: 'QmUpBRqSgRGfMh6kWswqy4W2KJsPqccb492UXMghPW2WPs',\n",
            "    type: 'dir'\n",
            "  },\n",
            "  {\n",
            "    name: 'notebook.ipynb',\n",
            "    path: 'QmVg8GQh7H6WKVaKaYyBm98AEVL9ARfe2zJ5nQH3p7Hxj4/notebook.ipynb',\n",
            "    cid: 'QmVJEnoa465AhNi5vVZqkWW4fCQkYXroXgD8rjaqAGesj4',\n",
            "    type: 'file'\n",
            "  },\n",
            "  {\n",
            "    name: 'output',\n",
            "    path: 'QmVg8GQh7H6WKVaKaYyBm98AEVL9ARfe2zJ5nQH3p7Hxj4/output',\n",
            "    cid: 'QmeMu7y2qhDsCodgJEUtUHbozmjGZhng7CigG78wv17Ngc',\n",
            "    type: 'dir'\n",
            "  }\n",
            "] \u001b[31m+782ms\u001b[0m\n",
            "  \u001b[34;1mipfsState:_getIPFSState(/input) \u001b[0mGetting state for dir input QmUpBRqSgRGfMh6kWswqy4W2KJsPqccb492UXMghPW2WPs \u001b[34m+0ms\u001b[0m\n",
            "  \u001b[36;1mutils:ipfsls \u001b[0m--- Calling  ipfsls with input QmUpBRqSgRGfMh6kWswqy4W2KJsPqccb492UXMghPW2WPs \u001b[36m+0ms\u001b[0m\n",
            "  \u001b[36;1mutils:ipfsls \u001b[0m--- In: QmUpBRqSgRGfMh6kWswqy4W2KJsPqccb492UXMghPW2WPs \u001b[36m+0ms\u001b[0m\n",
            "  \u001b[33;1mipfsState:_getIPFSState(/notebook.ipynb) \u001b[0mGetting state for file notebook.ipynb QmVJEnoa465AhNi5vVZqkWW4fCQkYXroXgD8rjaqAGesj4 \u001b[33m+0ms\u001b[0m\n",
            "  \u001b[31;1mipfsWatch:processFile(/notebook.ipynb) \u001b[0mstarted \u001b[31m+0ms\u001b[0m\n",
            "  \u001b[31;1mipfsWatch:processFile(/notebook.ipynb) \u001b[0mwriteFile /ipfs/notebook.ipynb QmVJEnoa465AhNi5vVZqkWW4fCQkYXroXgD8rjaqAGesj4 queued \u001b[31m+0ms\u001b[0m\n",
            "  \u001b[35;1mipfsState:_getIPFSState(/output) \u001b[0mGetting state for dir output QmeMu7y2qhDsCodgJEUtUHbozmjGZhng7CigG78wv17Ngc \u001b[35m+0ms\u001b[0m\n",
            "  \u001b[36;1mutils:ipfsls \u001b[0m--- Calling  ipfsls with input QmeMu7y2qhDsCodgJEUtUHbozmjGZhng7CigG78wv17Ngc \u001b[36m+0ms\u001b[0m\n",
            "  \u001b[36;1mutils:ipfsls \u001b[0m--- In: QmeMu7y2qhDsCodgJEUtUHbozmjGZhng7CigG78wv17Ngc \u001b[36m+0ms\u001b[0m\n",
            "  \u001b[32;1mipfsConnector:ipfsGet(QmVJEnoa465AhNi5vVZqkWW4fCQkYXroXgD8rjaqAGesj4) \u001b[0mGot all chunks. Total: 3 \u001b[32m+0ms\u001b[0m\n",
            "  \u001b[32;1mipfsConnector:ipfsGet(QmVJEnoa465AhNi5vVZqkWW4fCQkYXroXgD8rjaqAGesj4) \u001b[0mReceived content length: 31448 \u001b[32m+1ms\u001b[0m\n",
            "  \u001b[31;1mipfsWatch:processFile(/notebook.ipynb) \u001b[0mwritefile content 31448 \u001b[31m+8ms\u001b[0m\n",
            "  \u001b[31;1mipfsWatch \u001b[0mcreating folder if it does not exist /ipfs \u001b[31m+791ms\u001b[0m\n",
            "  \u001b[31;1mipfsWatch \u001b[0mwriting file of length undefined to folder /ipfs/notebook.ipynb \u001b[31m+0ms\u001b[0m\n",
            "  \u001b[31;1mipfsWatch:processFile(/notebook.ipynb) \u001b[0mdone \u001b[31m+1ms\u001b[0m\n",
            "  \u001b[33;1mipfsState:_getIPFSState(/notebook.ipynb) \u001b[0mgot result of processFile /ipfs/notebook.ipynb \u001b[33m+9ms\u001b[0m\n",
            "  \u001b[36;1mutils:ipfsls \u001b[0m--- Out: ipfsls : [\n",
            "  {\n",
            "    name: 'log',\n",
            "    path: 'QmeMu7y2qhDsCodgJEUtUHbozmjGZhng7CigG78wv17Ngc/log',\n",
            "    cid: 'QmekLE4JaVe2iUAnq2XhUcXB1NDNWqrQQabUP52vBLfECE',\n",
            "    type: 'file'\n",
            "  }\n",
            "] \u001b[36m+165ms\u001b[0m\n",
            "  \u001b[35;1mipfsState:_getIPFSState(/output) \u001b[0mGot files for output QmeMu7y2qhDsCodgJEUtUHbozmjGZhng7CigG78wv17Ngc [\n",
            "  {\n",
            "    name: 'log',\n",
            "    path: 'QmeMu7y2qhDsCodgJEUtUHbozmjGZhng7CigG78wv17Ngc/log',\n",
            "    cid: 'QmekLE4JaVe2iUAnq2XhUcXB1NDNWqrQQabUP52vBLfECE',\n",
            "    type: 'file'\n",
            "  }\n",
            "] \u001b[35m+165ms\u001b[0m\n",
            "  \u001b[32;1mipfsState:_getIPFSState(/output/log) \u001b[0mGetting state for file log QmekLE4JaVe2iUAnq2XhUcXB1NDNWqrQQabUP52vBLfECE \u001b[32m+0ms\u001b[0m\n",
            "  \u001b[36;1mipfsWatch:processFile(/output/log) \u001b[0mstarted \u001b[36m+0ms\u001b[0m\n",
            "  \u001b[36;1mipfsWatch:processFile(/output/log) \u001b[0mwriteFile /ipfs/output/log QmekLE4JaVe2iUAnq2XhUcXB1NDNWqrQQabUP52vBLfECE queued \u001b[36m+0ms\u001b[0m\n",
            "  \u001b[33;1mipfsConnector:ipfsGet(QmekLE4JaVe2iUAnq2XhUcXB1NDNWqrQQabUP52vBLfECE) \u001b[0mGot all chunks. Total: 1 \u001b[33m+0ms\u001b[0m\n",
            "  \u001b[33;1mipfsConnector:ipfsGet(QmekLE4JaVe2iUAnq2XhUcXB1NDNWqrQQabUP52vBLfECE) \u001b[0mReceived content length: 733 \u001b[33m+0ms\u001b[0m\n",
            "  \u001b[36;1mipfsWatch:processFile(/output/log) \u001b[0mwritefile content 733 \u001b[36m+3ms\u001b[0m\n",
            "  \u001b[31;1mipfsWatch \u001b[0mcreating folder if it does not exist /ipfs/output \u001b[31m+161ms\u001b[0m\n",
            "  \u001b[31;1mipfsWatch \u001b[0mwriting file of length undefined to folder /ipfs/output/log \u001b[31m+0ms\u001b[0m\n",
            "  \u001b[36;1mipfsWatch:processFile(/output/log) \u001b[0mdone \u001b[36m+1ms\u001b[0m\n",
            "  \u001b[32;1mipfsState:_getIPFSState(/output/log) \u001b[0mgot result of processFile /ipfs/output/log \u001b[32m+4ms\u001b[0m\n",
            "  \u001b[35;1mipfsState:_getIPFSState(/output) \u001b[0mcontents { log: '/ipfs/output/log' } \u001b[35m+4ms\u001b[0m\n",
            "  \u001b[36;1mutils:ipfsls \u001b[0m--- Out: ipfsls : [\n",
            "  {\n",
            "    name: 'text_input',\n",
            "    path: 'QmUpBRqSgRGfMh6kWswqy4W2KJsPqccb492UXMghPW2WPs/text_input',\n",
            "    cid: 'Qmdszw1cmy87PTjstXX7tnMBUkfmY7wUxqXRp4KLA9d7Pt',\n",
            "    type: 'file'\n",
            "  },\n",
            "  {\n",
            "    name: 'text_not',\n",
            "    path: 'QmUpBRqSgRGfMh6kWswqy4W2KJsPqccb492UXMghPW2WPs/text_not',\n",
            "    cid: 'QmVSqavH5ERChNFTHPDA9ZinEVEfhNSCENKK11yqhW8bAr',\n",
            "    type: 'file'\n",
            "  }\n",
            "] \u001b[36m+317ms\u001b[0m\n",
            "  \u001b[34;1mipfsState:_getIPFSState(/input) \u001b[0mGot files for input QmUpBRqSgRGfMh6kWswqy4W2KJsPqccb492UXMghPW2WPs [\n",
            "  {\n",
            "    name: 'text_input',\n",
            "    path: 'QmUpBRqSgRGfMh6kWswqy4W2KJsPqccb492UXMghPW2WPs/text_input',\n",
            "    cid: 'Qmdszw1cmy87PTjstXX7tnMBUkfmY7wUxqXRp4KLA9d7Pt',\n",
            "    type: 'file'\n",
            "  },\n",
            "  {\n",
            "    name: 'text_not',\n",
            "    path: 'QmUpBRqSgRGfMh6kWswqy4W2KJsPqccb492UXMghPW2WPs/text_not',\n",
            "    cid: 'QmVSqavH5ERChNFTHPDA9ZinEVEfhNSCENKK11yqhW8bAr',\n",
            "    type: 'file'\n",
            "  }\n",
            "] \u001b[34m+317ms\u001b[0m\n",
            "  \u001b[35;1mipfsState:_getIPFSState(/input/text_input) \u001b[0mGetting state for file text_input Qmdszw1cmy87PTjstXX7tnMBUkfmY7wUxqXRp4KLA9d7Pt \u001b[35m+0ms\u001b[0m\n",
            "  \u001b[31;1mipfsWatch:processFile(/input/text_input) \u001b[0mstarted \u001b[31m+0ms\u001b[0m\n",
            "  \u001b[31;1mipfsWatch:processFile(/input/text_input) \u001b[0mwriteFile /ipfs/input/text_input Qmdszw1cmy87PTjstXX7tnMBUkfmY7wUxqXRp4KLA9d7Pt queued \u001b[31m+0ms\u001b[0m\n",
            "  \u001b[31;1mipfsState:_getIPFSState(/input/text_not) \u001b[0mGetting state for file text_not QmVSqavH5ERChNFTHPDA9ZinEVEfhNSCENKK11yqhW8bAr \u001b[31m+0ms\u001b[0m\n",
            "  \u001b[33;1mipfsWatch:processFile(/input/text_not) \u001b[0mstarted \u001b[33m+0ms\u001b[0m\n",
            "  \u001b[33;1mipfsWatch:processFile(/input/text_not) \u001b[0mwriteFile /ipfs/input/text_not QmVSqavH5ERChNFTHPDA9ZinEVEfhNSCENKK11yqhW8bAr queued \u001b[33m+0ms\u001b[0m\n",
            "  \u001b[35;1mipfsConnector:ipfsGet(Qmdszw1cmy87PTjstXX7tnMBUkfmY7wUxqXRp4KLA9d7Pt) \u001b[0mGot all chunks. Total: 1 \u001b[35m+0ms\u001b[0m\n",
            "  \u001b[35;1mipfsConnector:ipfsGet(Qmdszw1cmy87PTjstXX7tnMBUkfmY7wUxqXRp4KLA9d7Pt) \u001b[0mReceived content length: 131 \u001b[35m+1ms\u001b[0m\n",
            "  \u001b[31;1mipfsWatch:processFile(/input/text_input) \u001b[0mwritefile content 131 \u001b[31m+5ms\u001b[0m\n",
            "  \u001b[31;1mipfsWatch \u001b[0mcreating folder if it does not exist /ipfs/input \u001b[31m+153ms\u001b[0m\n",
            "  \u001b[35;1mipfsConnector:ipfsGet(QmVSqavH5ERChNFTHPDA9ZinEVEfhNSCENKK11yqhW8bAr) \u001b[0mGot all chunks. Total: 1 \u001b[35m+0ms\u001b[0m\n",
            "  \u001b[35;1mipfsConnector:ipfsGet(QmVSqavH5ERChNFTHPDA9ZinEVEfhNSCENKK11yqhW8bAr) \u001b[0mReceived content length: 75 \u001b[35m+0ms\u001b[0m\n",
            "  \u001b[33;1mipfsWatch:processFile(/input/text_not) \u001b[0mwritefile content 75 \u001b[33m+5ms\u001b[0m\n",
            "  \u001b[31;1mipfsWatch \u001b[0mcreating folder if it does not exist /ipfs/input \u001b[31m+1ms\u001b[0m\n",
            "  \u001b[31;1mipfsWatch \u001b[0mwriting file of length undefined to folder /ipfs/input/text_input \u001b[31m+0ms\u001b[0m\n",
            "  \u001b[31;1mipfsWatch:processFile(/input/text_input) \u001b[0mdone \u001b[31m+2ms\u001b[0m\n",
            "  \u001b[35;1mipfsState:_getIPFSState(/input/text_input) \u001b[0mgot result of processFile /ipfs/input/text_input \u001b[35m+7ms\u001b[0m\n",
            "  \u001b[31;1mipfsWatch \u001b[0mwriting file of length undefined to folder /ipfs/input/text_not \u001b[31m+1ms\u001b[0m\n",
            "  \u001b[33;1mipfsWatch:processFile(/input/text_not) \u001b[0mdone \u001b[33m+1ms\u001b[0m\n",
            "  \u001b[31;1mipfsState:_getIPFSState(/input/text_not) \u001b[0mgot result of processFile /ipfs/input/text_not \u001b[31m+7ms\u001b[0m\n",
            "  \u001b[34;1mipfsState:_getIPFSState(/input) \u001b[0mcontents {\n",
            "  text_input: '/ipfs/input/text_input',\n",
            "  text_not: '/ipfs/input/text_not'\n",
            "} \u001b[34m+7ms\u001b[0m\n",
            "  \u001b[31;1mipfsState:_getIPFSState(/) \u001b[0mcontents {\n",
            "  input: {\n",
            "    text_input: '/ipfs/input/text_input',\n",
            "    text_not: '/ipfs/input/text_not'\n",
            "  },\n",
            "  'notebook.ipynb': '/ipfs/notebook.ipynb',\n",
            "  output: { log: '/ipfs/output/log' }\n",
            "} \u001b[31m+325ms\u001b[0m\n",
            "  \u001b[31;1mipfsWatch \u001b[0mgot remote state {\n",
            "  input: {\n",
            "    text_input: '/ipfs/input/text_input',\n",
            "    text_not: '/ipfs/input/text_not'\n",
            "  },\n",
            "  'notebook.ipynb': '/ipfs/notebook.ipynb',\n",
            "  output: { log: '/ipfs/output/log' }\n",
            "} \u001b[31m+0ms\u001b[0m\n"
          ],
          "name": "stdout"
        }
      ]
    },
    {
      "cell_type": "code",
      "metadata": {
        "id": "mD8tRZESGzeP",
        "colab": {
          "base_uri": "https://localhost:8080/"
        },
        "outputId": "9129d6ee-b6b6-4612-e5de-a9c572164dcd"
      },
      "source": [
        "from glob import glob\n",
        "from os.path import basename\n",
        "from json5 import loads\n",
        "parameters={}\n",
        "for path in glob(f\"{ipfs_root}/input/*\"):\n",
        "  key = basename(path)\n",
        "  with open(path,'r') as f: \n",
        "    value = f.read()\n",
        "    parameters[key] = loads(value)\n",
        "\n",
        "print(\"New parameters\", parameters)"
      ],
      "execution_count": 10,
      "outputs": [
        {
          "output_type": "stream",
          "text": [
            "New parameters {'text_not': 'disconnected, confusing, incoherent, cluttered, watermarks, text, writing', 'text_input': 'Vibrant painting of a synthesizer picnic on a sunny day in the garden of the gasworks with two large chimneys in the background. '}\n"
          ],
          "name": "stdout"
        }
      ]
    },
    {
      "cell_type": "code",
      "metadata": {
        "id": "yerLsamovWhd",
        "colab": {
          "base_uri": "https://localhost:8080/"
        },
        "outputId": "15d1226a-4de6-490e-a6d6-bfa1d26a0458"
      },
      "source": [
        "!nohup pollinate -p {ipfs_root} --ipns --send &"
      ],
      "execution_count": 11,
      "outputs": [
        {
          "output_type": "stream",
          "text": [
            "nohup: appending output to 'nohup.out'\n"
          ],
          "name": "stdout"
        }
      ]
    },
    {
      "cell_type": "code",
      "metadata": {
        "id": "2qcR2Tgghrf3",
        "colab": {
          "base_uri": "https://localhost:8080/"
        },
        "outputId": "8add7215-6d13-4326-a77f-e26ee1b9c84b"
      },
      "source": [
        "#!pip install --upgrade pip\n",
        "\n",
        "#!pip install --upgrade ipython\n",
        "#import papermill as pm\n",
        "\n",
        "from subprocess import Popen, PIPE, STDOUT\n",
        "from sys import stdout\n",
        "import os\n",
        "\n",
        "output_path = ipfs_root+\"/output\"\n",
        "#parameters[\"text\"] = \"A black and white photo of Saeko with her new Elektron FM synthesizer\"\n",
        "def run(parameters):\n",
        "  print(\"Running\",parameters)\n",
        " \n",
        "  parameters[\"output_path\"] = output_path\n",
        "  _params = [[\"-p\", key, value] for key, value in parameters.items()]\n",
        "  params = [str(val) for sublist in _params for val in sublist]\n",
        "  cmd = [\"papermill\", notebook_path, \"/content/notebook_output.ipynb\"] + params\n",
        "  %run {notebook_path}\n",
        "  return\n",
        "  print(\"Running cmd\",\" \".join(cmd))\n",
        "  p = Popen(\n",
        "          cmd, \n",
        "          stdout = PIPE, \n",
        "          stderr = STDOUT, \n",
        "          shell = False, \n",
        "          cwd = worker_root\n",
        "          )\n",
        "\n",
        "\n",
        "  while True:\n",
        "    line = p.stdout.readline()#\n",
        "    if not line: break\n",
        "    line_text = line.decode(\"utf-8\")\n",
        "\n",
        "    stdout.write(line)\n",
        "    with open(f\"{ipfs_root}/output/log\",\"a\") as log_out:\n",
        "      if not line_text.startswith(\"unhandled\"):\n",
        "        log_out.write(line_text)\n",
        "        log_out.flush()\n",
        "      \n",
        "   \n",
        "        \n",
        "while True:\n",
        "  run(parameters)\n",
        "  !sleep 100"
      ],
      "execution_count": null,
      "outputs": [
        {
          "output_type": "stream",
          "text": [
            "Running {'text_not': 'disconnected, confusing, incoherent, cluttered, watermarks, text, writing', 'text_input': 'Vibrant painting of a synthesizer picnic on a sunny day in the garden of the gasworks with two large chimneys in the background. '}\n",
            "Collecting slugify\n",
            "  Downloading https://files.pythonhosted.org/packages/7b/89/fbb7391d777b60c82d4e1376bb181b98e75adf506b3f7ffe837eca64570b/slugify-0.0.1.tar.gz\n",
            "Building wheels for collected packages: slugify\n",
            "  Building wheel for slugify (setup.py) ... \u001b[?25l\u001b[?25hdone\n",
            "  Created wheel for slugify: filename=slugify-0.0.1-cp37-none-any.whl size=1909 sha256=b7e2371afc1c7b8eb062ae62b32001a321b151d5d1f8935c385ec1e3c50420a9\n",
            "  Stored in directory: /root/.cache/pip/wheels/f9/68/7b/b797d07992b6c7ef1666a59cc79f45fb37aab4344efa6cc3e1\n",
            "Successfully built slugify\n",
            "Installing collected packages: slugify\n",
            "Successfully installed slugify-0.0.1\n",
            "GPU 0: Tesla P100-PCIE-16GB (UUID: GPU-1a5d71b8-83e9-cf91-1aeb-3498890f200b)\n",
            "Collecting kornia\n",
            "\u001b[?25l  Downloading https://files.pythonhosted.org/packages/71/74/5473a402191071754abf32b69efdefc48194210d14f6d4904bcb3547d9ad/kornia-0.5.4-py2.py3-none-any.whl (285kB)\n",
            "\u001b[K     |████████████████████████████████| 286kB 8.6MB/s \n",
            "\u001b[?25hRequirement already satisfied: torch>=1.6.0 in /usr/local/lib/python3.7/dist-packages (from kornia) (1.8.1+cu101)\n",
            "Requirement already satisfied: numpy in /usr/local/lib/python3.7/dist-packages (from kornia) (1.19.5)\n",
            "Requirement already satisfied: typing-extensions in /usr/local/lib/python3.7/dist-packages (from torch>=1.6.0->kornia) (3.7.4.3)\n",
            "Installing collected packages: kornia\n",
            "Successfully installed kornia-0.5.4\n"
          ],
          "name": "stdout"
        },
        {
          "output_type": "stream",
          "text": [
            "/usr/local/lib/python3.7/dist-packages/kornia/augmentation/augmentation.py:1833: DeprecationWarning: GaussianBlur is no longer maintained and will be removed from the future versions. Please use RandomGaussianBlur instead.\n",
            "  category=DeprecationWarning,\n"
          ],
          "name": "stderr"
        },
        {
          "output_type": "stream",
          "text": [
            "Collecting ftfy\n",
            "\u001b[?25l  Downloading https://files.pythonhosted.org/packages/af/da/d215a091986e5f01b80f5145cff6f22e2dc57c6b048aab2e882a07018473/ftfy-6.0.3.tar.gz (64kB)\n",
            "\r\u001b[K     |█████                           | 10kB 19.7MB/s eta 0:00:01\r\u001b[K     |██████████▏                     | 20kB 21.6MB/s eta 0:00:01\r\u001b[K     |███████████████▎                | 30kB 17.6MB/s eta 0:00:01\r\u001b[K     |████████████████████▍           | 40kB 15.7MB/s eta 0:00:01\r\u001b[K     |█████████████████████████▌      | 51kB 7.9MB/s eta 0:00:01\r\u001b[K     |██████████████████████████████▋ | 61kB 9.1MB/s eta 0:00:01\r\u001b[K     |████████████████████████████████| 71kB 5.3MB/s \n",
            "\u001b[?25hRequirement already satisfied: regex in /usr/local/lib/python3.7/dist-packages (2021.4.4)\n",
            "Requirement already satisfied: tqdm in /usr/local/lib/python3.7/dist-packages (4.41.1)\n",
            "Building wheels for collected packages: ftfy\n",
            "  Building wheel for ftfy (setup.py) ... \u001b[?25l\u001b[?25hdone\n",
            "  Created wheel for ftfy: filename=ftfy-6.0.3-cp37-none-any.whl size=41935 sha256=81928861154de17cc07f83935d44704e5ff2c221312ec9185d7632bf55a1caad\n",
            "  Stored in directory: /root/.cache/pip/wheels/99/2c/e6/109c8a28fef7a443f67ba58df21fe1d0067ac3322e75e6b0b7\n",
            "Successfully built ftfy\n",
            "Installing collected packages: ftfy\n",
            "Successfully installed ftfy-6.0.3\n",
            "Cloning into 'CLIP'...\n",
            "remote: Enumerating objects: 90, done.\u001b[K\n",
            "remote: Total 90 (delta 0), reused 0 (delta 0), pack-reused 90\u001b[K\n",
            "Unpacking objects: 100% (90/90), done.\n"
          ],
          "name": "stdout"
        },
        {
          "output_type": "stream",
          "text": [
            "100%|███████████████████████████████████████| 354M/354M [00:05<00:00, 60.8MiB/s]\n",
            "/usr/local/lib/python3.7/dist-packages/torchvision/transforms/transforms.py:258: UserWarning: Argument interpolation should be of type InterpolationMode instead of int. Please, use InterpolationMode enum.\n",
            "  \"Argument interpolation should be of type InterpolationMode instead of int. \"\n"
          ],
          "name": "stderr"
        },
        {
          "output_type": "stream",
          "text": [
            "Uninstalling torchtext-0.9.1:\n",
            "  Successfully uninstalled torchtext-0.9.1\n",
            "/content\n",
            "Cloning into 'taming-transformers'...\n",
            "remote: Enumerating objects: 685, done.\u001b[K\n",
            "remote: Counting objects: 100% (27/27), done.\u001b[K\n",
            "remote: Compressing objects: 100% (21/21), done.\u001b[K\n",
            "remote: Total 685 (delta 9), reused 19 (delta 6), pack-reused 658\u001b[K\n",
            "Receiving objects: 100% (685/685), 116.29 MiB | 36.07 MiB/s, done.\n",
            "Resolving deltas: 100% (144/144), done.\n",
            "/content/taming-transformers\n",
            "--2021-06-12 06:58:52--  https://heibox.uni-heidelberg.de/f/867b05fc8c4841768640/?dl=1\n",
            "Resolving heibox.uni-heidelberg.de (heibox.uni-heidelberg.de)... 129.206.7.113\n",
            "Connecting to heibox.uni-heidelberg.de (heibox.uni-heidelberg.de)|129.206.7.113|:443... connected.\n",
            "HTTP request sent, awaiting response... 302 Found\n",
            "Location: https://heibox.uni-heidelberg.de/seafhttp/files/03400bb1-d44d-4c33-ba96-ad58bab5a0ef/last.ckpt [following]\n",
            "--2021-06-12 06:58:53--  https://heibox.uni-heidelberg.de/seafhttp/files/03400bb1-d44d-4c33-ba96-ad58bab5a0ef/last.ckpt\n",
            "Reusing existing connection to heibox.uni-heidelberg.de:443.\n",
            "HTTP request sent, awaiting response... 200 OK\n",
            "Length: 980092370 (935M) [application/octet-stream]\n",
            "Saving to: ‘logs/vqgan_imagenet_f16_16384/checkpoints/last.ckpt’\n",
            "\n",
            "heckpoints/last.ckp  13%[=>                  ] 124.44M  14.9MB/s    eta 54s    "
          ],
          "name": "stdout"
        }
      ]
    }
  ]
}