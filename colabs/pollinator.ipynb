{
  "nbformat": 4,
  "nbformat_minor": 0,
  "metadata": {
    "colab": {
      "name": "Pollinator",
      "provenance": [],
      "collapsed_sections": [],
      "include_colab_link": true
    },
    "kernelspec": {
      "name": "python3",
      "display_name": "Python 3"
    }
  },
  "cells": [
    {
      "cell_type": "markdown",
      "metadata": {
        "id": "view-in-github",
        "colab_type": "text"
      },
      "source": [
        "<a href=\"https://colab.research.google.com/github/voodoohop/pollinations/blob/master/colabs/pollinator.ipynb\" target=\"_parent\"><img src=\"https://colab.research.google.com/assets/colab-badge.svg\" alt=\"Open In Colab\"/></a>"
      ]
    },
    {
      "cell_type": "markdown",
      "metadata": {
        "id": "z8RkOYkzmGDW"
      },
      "source": [
        "## Code (Frontend and IPFS Connection)"
      ]
    },
    {
      "cell_type": "code",
      "metadata": {
        "id": "9j1zUbMN4VDP",
        "colab": {
          "base_uri": "https://localhost:8080/"
        },
        "outputId": "d7950038-c7d9-4a83-9212-41756a2b2923"
      },
      "source": [
        "#@title Install IPFS\n",
        "\n",
        "!pip install coolname gdown papermill\n",
        "#!pip install asyncio nest-asyncio coolname aioipfs\n",
        "#!pip install ipfshttpclient\n",
        "#!npm install -g nodemon\n",
        "!npm install -g voodoohop/pollinations/app\n",
        "\n",
        "\n",
        "%cd /content\n",
        "!git clone https://github.com/voodoohop/pollinations.git\n",
        "%cd /content/pollinations/app\n",
        "!git pull\n",
        "!git checkout dev\n",
        "!git pull\n",
        "!npm install\n",
        "!npm install -g\n",
        "%cd -\n",
        "#!npm install forever -g"
      ],
      "execution_count": 118,
      "outputs": [
        {
          "output_type": "stream",
          "text": [
            "Requirement already satisfied: coolname in /usr/local/lib/python3.7/dist-packages (1.1.0)\n",
            "Requirement already satisfied: gdown in /usr/local/lib/python3.7/dist-packages (3.6.4)\n",
            "Requirement already satisfied: papermill in /usr/local/lib/python3.7/dist-packages (2.3.3)\n",
            "Requirement already satisfied: six in /usr/local/lib/python3.7/dist-packages (from gdown) (1.15.0)\n",
            "Requirement already satisfied: requests in /usr/local/lib/python3.7/dist-packages (from gdown) (2.23.0)\n",
            "Requirement already satisfied: tqdm in /usr/local/lib/python3.7/dist-packages (from gdown) (4.41.1)\n",
            "Requirement already satisfied: nbclient>=0.2.0 in /usr/local/lib/python3.7/dist-packages (from papermill) (0.5.3)\n",
            "Requirement already satisfied: pyyaml in /usr/local/lib/python3.7/dist-packages (from papermill) (3.13)\n",
            "Requirement already satisfied: click in /usr/local/lib/python3.7/dist-packages (from papermill) (8.0.0)\n",
            "Requirement already satisfied: ansiwrap in /usr/local/lib/python3.7/dist-packages (from papermill) (0.8.4)\n",
            "Requirement already satisfied: black in /usr/local/lib/python3.7/dist-packages (from papermill) (21.5b1)\n",
            "Requirement already satisfied: tenacity in /usr/local/lib/python3.7/dist-packages (from papermill) (7.0.0)\n",
            "Requirement already satisfied: nbformat>=5.1.2 in /usr/local/lib/python3.7/dist-packages (from papermill) (5.1.3)\n",
            "Requirement already satisfied: entrypoints in /usr/local/lib/python3.7/dist-packages (from papermill) (0.3)\n",
            "Requirement already satisfied: urllib3!=1.25.0,!=1.25.1,<1.26,>=1.21.1 in /usr/local/lib/python3.7/dist-packages (from requests->gdown) (1.24.3)\n",
            "Requirement already satisfied: certifi>=2017.4.17 in /usr/local/lib/python3.7/dist-packages (from requests->gdown) (2020.12.5)\n",
            "Requirement already satisfied: idna<3,>=2.5 in /usr/local/lib/python3.7/dist-packages (from requests->gdown) (2.10)\n",
            "Requirement already satisfied: chardet<4,>=3.0.2 in /usr/local/lib/python3.7/dist-packages (from requests->gdown) (3.0.4)\n",
            "Requirement already satisfied: async-generator in /usr/local/lib/python3.7/dist-packages (from nbclient>=0.2.0->papermill) (1.10)\n",
            "Requirement already satisfied: jupyter-client>=6.1.5 in /usr/local/lib/python3.7/dist-packages (from nbclient>=0.2.0->papermill) (6.1.12)\n",
            "Requirement already satisfied: traitlets>=4.2 in /usr/local/lib/python3.7/dist-packages (from nbclient>=0.2.0->papermill) (5.0.5)\n",
            "Requirement already satisfied: nest-asyncio in /usr/local/lib/python3.7/dist-packages (from nbclient>=0.2.0->papermill) (1.5.1)\n",
            "Requirement already satisfied: textwrap3>=0.9.2 in /usr/local/lib/python3.7/dist-packages (from ansiwrap->papermill) (0.9.2)\n",
            "Requirement already satisfied: pathspec<1,>=0.8.1 in /usr/local/lib/python3.7/dist-packages (from black->papermill) (0.8.1)\n",
            "Requirement already satisfied: typed-ast>=1.4.2; python_version < \"3.8\" in /usr/local/lib/python3.7/dist-packages (from black->papermill) (1.4.3)\n",
            "Requirement already satisfied: regex>=2020.1.8 in /usr/local/lib/python3.7/dist-packages (from black->papermill) (2021.4.4)\n",
            "Requirement already satisfied: typing-extensions>=3.7.4; python_version < \"3.8\" in /usr/local/lib/python3.7/dist-packages (from black->papermill) (3.7.4.3)\n",
            "Requirement already satisfied: appdirs in /usr/local/lib/python3.7/dist-packages (from black->papermill) (1.4.4)\n",
            "Requirement already satisfied: mypy-extensions>=0.4.3 in /usr/local/lib/python3.7/dist-packages (from black->papermill) (0.4.3)\n",
            "Requirement already satisfied: toml>=0.10.1 in /usr/local/lib/python3.7/dist-packages (from black->papermill) (0.10.2)\n",
            "Requirement already satisfied: ipython-genutils in /usr/local/lib/python3.7/dist-packages (from nbformat>=5.1.2->papermill) (0.2.0)\n",
            "Requirement already satisfied: jupyter-core in /usr/local/lib/python3.7/dist-packages (from nbformat>=5.1.2->papermill) (4.7.1)\n",
            "Requirement already satisfied: jsonschema!=2.5.0,>=2.4 in /usr/local/lib/python3.7/dist-packages (from nbformat>=5.1.2->papermill) (2.6.0)\n",
            "Requirement already satisfied: pyzmq>=13 in /usr/local/lib/python3.7/dist-packages (from jupyter-client>=6.1.5->nbclient>=0.2.0->papermill) (22.0.3)\n",
            "Requirement already satisfied: python-dateutil>=2.1 in /usr/local/lib/python3.7/dist-packages (from jupyter-client>=6.1.5->nbclient>=0.2.0->papermill) (2.8.1)\n",
            "Requirement already satisfied: tornado>=4.1 in /usr/local/lib/python3.7/dist-packages (from jupyter-client>=6.1.5->nbclient>=0.2.0->papermill) (5.1.1)\n",
            "\u001b[K\u001b[?25h\u001b[37;40mnpm\u001b[0m \u001b[0m\u001b[31;40mERR!\u001b[0m \u001b[0m\u001b[35mcode\u001b[0m ENOLOCAL\n",
            "\u001b[0m\u001b[37;40mnpm\u001b[0m \u001b[0m\u001b[31;40mERR!\u001b[0m\u001b[35m\u001b[0m Could not install from \"voodoohop/pollinations/app\" as it does not contain a package.json file.\n",
            "\u001b[0m\n",
            "\u001b[37;40mnpm\u001b[0m \u001b[0m\u001b[31;40mERR!\u001b[0m\u001b[35m\u001b[0m A complete log of this run can be found in:\n",
            "\u001b[0m\u001b[37;40mnpm\u001b[0m \u001b[0m\u001b[31;40mERR!\u001b[0m\u001b[35m\u001b[0m     /root/.npm/_logs/2021-05-17T13_53_41_794Z-debug.log\n",
            "\u001b[0m/content\n",
            "Cloning into 'pollinations'...\n",
            "remote: Enumerating objects: 1741, done.\u001b[K\n",
            "remote: Counting objects: 100% (133/133), done.\u001b[K\n",
            "remote: Compressing objects: 100% (97/97), done.\u001b[K\n",
            "remote: Total 1741 (delta 77), reused 64 (delta 35), pack-reused 1608\u001b[K\n",
            "Receiving objects: 100% (1741/1741), 15.65 MiB | 21.43 MiB/s, done.\n",
            "Resolving deltas: 100% (1120/1120), done.\n",
            "/content/pollinations/app\n",
            "Already up to date.\n",
            "Branch 'dev' set up to track remote branch 'dev' from 'origin'.\n",
            "Switched to a new branch 'dev'\n",
            "Already up to date.\n",
            "\u001b[K\u001b[?25h\u001b[37;40mnpm\u001b[0m \u001b[0m\u001b[30;43mWARN\u001b[0m \u001b[0m\u001b[35mdeprecated\u001b[0m core-js@2.6.12: core-js@<3.3 is no longer maintained and not recommended for usage due to the number of issues. Because of the V8 engine whims, feature detection in old core-js versions could cause a slowdown up to 100x even if nothing is polyfilled. Please, upgrade your dependencies to the actual version of core-js.\n",
            "\u001b[K\u001b[?25h\u001b[37;40mnpm\u001b[0m \u001b[0m\u001b[30;43mWARN\u001b[0m \u001b[0m\u001b[35mdeprecated\u001b[0m babel-eslint@10.1.0: babel-eslint is now @babel/eslint-parser. This package will no longer receive updates.\n",
            "\u001b[K\u001b[?25h\u001b[37;40mnpm\u001b[0m \u001b[0m\u001b[30;43mWARN\u001b[0m \u001b[0m\u001b[35mdeprecated\u001b[0m chokidar@2.1.8: Chokidar 2 will break on node v14+. Upgrade to chokidar 3 with 15x less dependencies.\n",
            "\u001b[K\u001b[?25h\u001b[37;40mnpm\u001b[0m \u001b[0m\u001b[30;43mWARN\u001b[0m \u001b[0m\u001b[35mdeprecated\u001b[0m text-encoding@0.7.0: no longer maintained\n",
            "\u001b[K\u001b[?25h\u001b[37;40mnpm\u001b[0m \u001b[0m\u001b[30;43mWARN\u001b[0m \u001b[0m\u001b[35mdeprecated\u001b[0m fsevents@1.2.13: fsevents 1 will break on node v14+ and could be using insecure binaries. Upgrade to fsevents 2.\n",
            "\u001b[K\u001b[?25h\u001b[37;40mnpm\u001b[0m \u001b[0m\u001b[30;43mWARN\u001b[0m \u001b[0m\u001b[35mdeprecated\u001b[0m @hapi/joi@15.1.1: Switch to 'npm install joi'\n",
            "\u001b[K\u001b[?25h\u001b[37;40mnpm\u001b[0m \u001b[0m\u001b[30;43mWARN\u001b[0m \u001b[0m\u001b[35mdeprecated\u001b[0m rollup-plugin-babel@4.4.0: This package has been deprecated and is no longer maintained. Please use @rollup/plugin-babel.\n",
            "\u001b[K\u001b[?25h\u001b[37;40mnpm\u001b[0m \u001b[0m\u001b[30;43mWARN\u001b[0m \u001b[0m\u001b[35mdeprecated\u001b[0m urix@0.1.0: Please see https://github.com/lydell/urix#deprecated\n",
            "\u001b[K\u001b[?25h\u001b[37;40mnpm\u001b[0m \u001b[0m\u001b[30;43mWARN\u001b[0m \u001b[0m\u001b[35mdeprecated\u001b[0m @hapi/address@2.1.4: Moved to 'npm install @sideway/address'\n",
            "\u001b[K\u001b[?25h\u001b[37;40mnpm\u001b[0m \u001b[0m\u001b[30;43mWARN\u001b[0m \u001b[0m\u001b[35mdeprecated\u001b[0m @hapi/bourne@1.3.2: This version has been deprecated and is no longer supported or maintained\n",
            "\u001b[K\u001b[?25h\u001b[37;40mnpm\u001b[0m \u001b[0m\u001b[30;43mWARN\u001b[0m \u001b[0m\u001b[35mdeprecated\u001b[0m @hapi/topo@3.1.6: This version has been deprecated and is no longer supported or maintained\n",
            "\u001b[K\u001b[?25h\u001b[37;40mnpm\u001b[0m \u001b[0m\u001b[30;43mWARN\u001b[0m \u001b[0m\u001b[35mdeprecated\u001b[0m @hapi/hoek@8.5.1: This version has been deprecated and is no longer supported or maintained\n",
            "\u001b[K\u001b[?25h\u001b[37;40mnpm\u001b[0m \u001b[0m\u001b[30;43mWARN\u001b[0m \u001b[0m\u001b[35mdeprecated\u001b[0m resolve-url@0.2.1: https://github.com/lydell/resolve-url#deprecated\n",
            "\u001b[K\u001b[?25h\u001b[37;40mnpm\u001b[0m \u001b[0m\u001b[30;43mWARN\u001b[0m \u001b[0m\u001b[35mdeprecated\u001b[0m request@2.88.2: request has been deprecated, see https://github.com/request/request/issues/3142\n",
            "\u001b[K\u001b[?25h\u001b[37;40mnpm\u001b[0m \u001b[0m\u001b[30;43mWARN\u001b[0m \u001b[0m\u001b[35mdeprecated\u001b[0m request-promise-native@1.0.9: request-promise-native has been deprecated because it extends the now deprecated request package, see https://github.com/request/request/issues/3142\n",
            "\u001b[K\u001b[?25h\u001b[37;40mnpm\u001b[0m \u001b[0m\u001b[30;43mWARN\u001b[0m \u001b[0m\u001b[35mdeprecated\u001b[0m har-validator@5.1.5: this library is no longer supported\n",
            "\u001b[K\u001b[?25h\n",
            "> iso-constants@0.1.2 install /content/pollinations/app/node_modules/iso-constants\n",
            "> node build.js > index.browser.js\n",
            "\n",
            "\u001b[K\u001b[?25h\n",
            "> core-js@2.6.12 postinstall /content/pollinations/app/node_modules/core-js\n",
            "> node -e \"try{require('./postinstall')}catch(e){}\"\n",
            "\n",
            "\u001b[96mThank you for using core-js (\u001b[94m https://github.com/zloirock/core-js \u001b[96m) for polyfilling JavaScript standard library!\u001b[0m\n",
            "\n",
            "\u001b[96mThe project needs your help! Please consider supporting of core-js on Open Collective or Patreon: \u001b[0m\n",
            "\u001b[96m>\u001b[94m https://opencollective.com/core-js \u001b[0m\n",
            "\u001b[96m>\u001b[94m https://www.patreon.com/zloirock \u001b[0m\n",
            "\n",
            "\u001b[96mAlso, the author of core-js (\u001b[94m https://github.com/zloirock \u001b[96m) is looking for a good job -)\u001b[0m\n",
            "\n",
            "\n",
            "> core-js-pure@3.12.1 postinstall /content/pollinations/app/node_modules/core-js-pure\n",
            "> node -e \"try{require('./postinstall')}catch(e){}\"\n",
            "\n",
            "\u001b[96mThank you for using core-js (\u001b[94m https://github.com/zloirock/core-js \u001b[96m) for polyfilling JavaScript standard library!\u001b[0m\n",
            "\n",
            "\u001b[96mThe project needs your help! Please consider supporting of core-js on Open Collective or Patreon: \u001b[0m\n",
            "\u001b[96m>\u001b[94m https://opencollective.com/core-js \u001b[0m\n",
            "\u001b[96m>\u001b[94m https://www.patreon.com/zloirock \u001b[0m\n",
            "\n",
            "\u001b[96mAlso, the author of core-js (\u001b[94m https://github.com/zloirock \u001b[96m) is looking for a good job -)\u001b[0m\n",
            "\n",
            "\n",
            "> ejs@2.7.4 postinstall /content/pollinations/app/node_modules/ejs\n",
            "> node ./postinstall.js\n",
            "\n",
            "Thank you for installing \u001b[35mEJS\u001b[0m: built with the \u001b[32mJake\u001b[0m JavaScript build tool (\u001b[32mhttps://jakejs.com/\u001b[0m)\n",
            "\n",
            "\u001b[K\u001b[?25h\n",
            "> protobufjs@6.11.2 postinstall /content/pollinations/app/node_modules/protobufjs\n",
            "> node scripts/postinstall\n",
            "\n",
            "\n",
            "> core-js@3.12.1 postinstall /content/pollinations/app/node_modules/react-app-polyfill/node_modules/core-js\n",
            "> node -e \"try{require('./postinstall')}catch(e){}\"\n",
            "\n",
            "\u001b[96mThank you for using core-js (\u001b[94m https://github.com/zloirock/core-js \u001b[96m) for polyfilling JavaScript standard library!\u001b[0m\n",
            "\n",
            "\u001b[96mThe project needs your help! Please consider supporting of core-js on Open Collective or Patreon: \u001b[0m\n",
            "\u001b[96m>\u001b[94m https://opencollective.com/core-js \u001b[0m\n",
            "\u001b[96m>\u001b[94m https://www.patreon.com/zloirock \u001b[0m\n",
            "\n",
            "\u001b[96mAlso, the author of core-js (\u001b[94m https://github.com/zloirock \u001b[96m) is looking for a good job -)\u001b[0m\n",
            "\n",
            "\n",
            "> core-js@3.12.1 postinstall /content/pollinations/app/node_modules/react-scripts/node_modules/core-js\n",
            "> node -e \"try{require('./postinstall')}catch(e){}\"\n",
            "\n",
            "\u001b[96mThank you for using core-js (\u001b[94m https://github.com/zloirock/core-js \u001b[96m) for polyfilling JavaScript standard library!\u001b[0m\n",
            "\n",
            "\u001b[96mThe project needs your help! Please consider supporting of core-js on Open Collective or Patreon: \u001b[0m\n",
            "\u001b[96m>\u001b[94m https://opencollective.com/core-js \u001b[0m\n",
            "\u001b[96m>\u001b[94m https://www.patreon.com/zloirock \u001b[0m\n",
            "\n",
            "\u001b[96mAlso, the author of core-js (\u001b[94m https://github.com/zloirock \u001b[96m) is looking for a good job -)\u001b[0m\n",
            "\n",
            "\u001b[K\u001b[?25h\u001b[37;40mnpm\u001b[0m \u001b[0m\u001b[34;40mnotice\u001b[0m\u001b[35m\u001b[0m created a lockfile as package-lock.json. You should commit this file.\n",
            "\u001b[0m\u001b[37;40mnpm\u001b[0m \u001b[0m\u001b[30;43mWARN\u001b[0m \u001b[0m\u001b[35moptional\u001b[0m SKIPPING OPTIONAL DEPENDENCY: fsevents@~2.3.1 (node_modules/chokidar/node_modules/fsevents):\n",
            "\u001b[0m\u001b[37;40mnpm\u001b[0m \u001b[0m\u001b[30;43mWARN\u001b[0m \u001b[0m\u001b[35mnotsup\u001b[0m SKIPPING OPTIONAL DEPENDENCY: Unsupported platform for fsevents@2.3.2: wanted {\"os\":\"darwin\",\"arch\":\"any\"} (current: {\"os\":\"linux\",\"arch\":\"x64\"})\n",
            "\u001b[0m\u001b[37;40mnpm\u001b[0m \u001b[0m\u001b[30;43mWARN\u001b[0m \u001b[0m\u001b[35mnotsup\u001b[0m Unsupported engine for ipfs-unixfs@4.0.3: wanted: {\"node\":\">=14.0.0\",\"npm\":\">=7.0.0\"} (current: {\"node\":\"14.16.0\",\"npm\":\"6.14.8\"})\n",
            "\u001b[0m\u001b[37;40mnpm\u001b[0m \u001b[0m\u001b[30;43mWARN\u001b[0m \u001b[0m\u001b[35mnotsup\u001b[0m Not compatible with your version of node/npm: ipfs-unixfs@4.0.3\n",
            "\u001b[0m\u001b[37;40mnpm\u001b[0m \u001b[0m\u001b[30;43mWARN\u001b[0m \u001b[0m\u001b[35moptional\u001b[0m SKIPPING OPTIONAL DEPENDENCY: fsevents@^1.2.7 (node_modules/watchpack-chokidar2/node_modules/chokidar/node_modules/fsevents):\n",
            "\u001b[0m\u001b[37;40mnpm\u001b[0m \u001b[0m\u001b[30;43mWARN\u001b[0m \u001b[0m\u001b[35mnotsup\u001b[0m SKIPPING OPTIONAL DEPENDENCY: Unsupported platform for fsevents@1.2.13: wanted {\"os\":\"darwin\",\"arch\":\"any\"} (current: {\"os\":\"linux\",\"arch\":\"x64\"})\n",
            "\u001b[0m\u001b[37;40mnpm\u001b[0m \u001b[0m\u001b[30;43mWARN\u001b[0m \u001b[0m\u001b[35moptional\u001b[0m SKIPPING OPTIONAL DEPENDENCY: fsevents@^1.2.7 (node_modules/webpack-dev-server/node_modules/chokidar/node_modules/fsevents):\n",
            "\u001b[0m\u001b[37;40mnpm\u001b[0m \u001b[0m\u001b[30;43mWARN\u001b[0m \u001b[0m\u001b[35mnotsup\u001b[0m SKIPPING OPTIONAL DEPENDENCY: Unsupported platform for fsevents@1.2.13: wanted {\"os\":\"darwin\",\"arch\":\"any\"} (current: {\"os\":\"linux\",\"arch\":\"x64\"})\n",
            "\u001b[0m\u001b[37;40mnpm\u001b[0m \u001b[0m\u001b[30;43mWARN\u001b[0m\u001b[35m\u001b[0m @babel/plugin-bugfix-v8-spread-parameters-in-optional-chaining@7.13.12 requires a peer of @babel/core@^7.13.0 but none is installed. You must install peer dependencies yourself.\n",
            "\u001b[0m\u001b[37;40mnpm\u001b[0m \u001b[0m\u001b[30;43mWARN\u001b[0m\u001b[35m\u001b[0m tsutils@3.21.0 requires a peer of typescript@>=2.8.0 || >= 3.2.0-dev || >= 3.3.0-dev || >= 3.4.0-dev || >= 3.5.0-dev || >= 3.6.0-dev || >= 3.6.0-beta || >= 3.7.0-dev || >= 3.7.0-beta but none is installed. You must install peer dependencies yourself.\n",
            "\u001b[0m\u001b[37;40mnpm\u001b[0m \u001b[0m\u001b[30;43mWARN\u001b[0m\u001b[35m\u001b[0m pollinations@0.4.5 No description\n",
            "\u001b[0m\u001b[37;40mnpm\u001b[0m \u001b[0m\u001b[30;43mWARN\u001b[0m\u001b[35m\u001b[0m pollinations@0.4.5 No repository field.\n",
            "\u001b[0m\u001b[37;40mnpm\u001b[0m \u001b[0m\u001b[30;43mWARN\u001b[0m\u001b[35m\u001b[0m pollinations@0.4.5 No license field.\n",
            "\u001b[0m\n",
            "added 2152 packages from 1188 contributors and audited 2162 packages in 77.681s\n",
            "\n",
            "146 packages are looking for funding\n",
            "  run `npm fund` for details\n",
            "\n",
            "found 79 \u001b[93mmoderate\u001b[0m severity vulnerabilities\n",
            "  run `npm audit fix` to fix them, or `npm audit` for details\n",
            "\u001b[K\u001b[?25h\u001b[37;40mnpm\u001b[0m \u001b[0m\u001b[30;43mWARN\u001b[0m \u001b[0m\u001b[35mdeprecated\u001b[0m fsevents@1.2.13: fsevents 1 will break on node v14+ and could be using insecure binaries. Upgrade to fsevents 2.\n",
            "\u001b[K\u001b[?25h/tools/node/bin/pollinate -> /tools/node/lib/node_modules/pollinations/src/backend/ipfsWatch.js\n",
            "\u001b[37;40mnpm\u001b[0m \u001b[0m\u001b[30;43mWARN\u001b[0m \u001b[0m\u001b[35moptional\u001b[0m SKIPPING OPTIONAL DEPENDENCY: fsevents@~2.3.1 (node_modules/pollinations/node_modules/chokidar/node_modules/fsevents):\n",
            "\u001b[0m\u001b[37;40mnpm\u001b[0m \u001b[0m\u001b[30;43mWARN\u001b[0m \u001b[0m\u001b[35mnotsup\u001b[0m SKIPPING OPTIONAL DEPENDENCY: Unsupported platform for fsevents@2.3.2: wanted {\"os\":\"darwin\",\"arch\":\"any\"} (current: {\"os\":\"linux\",\"arch\":\"x64\"})\n",
            "\u001b[0m\u001b[37;40mnpm\u001b[0m \u001b[0m\u001b[30;43mWARN\u001b[0m \u001b[0m\u001b[35moptional\u001b[0m SKIPPING OPTIONAL DEPENDENCY: fsevents@^1.2.7 (node_modules/pollinations/node_modules/watchpack-chokidar2/node_modules/chokidar/node_modules/fsevents):\n",
            "\u001b[0m\u001b[37;40mnpm\u001b[0m \u001b[0m\u001b[30;43mWARN\u001b[0m \u001b[0m\u001b[35mnotsup\u001b[0m SKIPPING OPTIONAL DEPENDENCY: Unsupported platform for fsevents@1.2.13: wanted {\"os\":\"darwin\",\"arch\":\"any\"} (current: {\"os\":\"linux\",\"arch\":\"x64\"})\n",
            "\u001b[0m\u001b[37;40mnpm\u001b[0m \u001b[0m\u001b[30;43mWARN\u001b[0m \u001b[0m\u001b[35moptional\u001b[0m SKIPPING OPTIONAL DEPENDENCY: fsevents@^1.2.7 (node_modules/pollinations/node_modules/webpack-dev-server/node_modules/chokidar/node_modules/fsevents):\n",
            "\u001b[0m\u001b[37;40mnpm\u001b[0m \u001b[0m\u001b[30;43mWARN\u001b[0m \u001b[0m\u001b[35mnotsup\u001b[0m SKIPPING OPTIONAL DEPENDENCY: Unsupported platform for fsevents@1.2.13: wanted {\"os\":\"darwin\",\"arch\":\"any\"} (current: {\"os\":\"linux\",\"arch\":\"x64\"})\n",
            "\u001b[0m\u001b[37;40mnpm\u001b[0m \u001b[0m\u001b[30;43mWARN\u001b[0m\u001b[35m\u001b[0m @babel/plugin-bugfix-v8-spread-parameters-in-optional-chaining@7.13.12 requires a peer of @babel/core@^7.13.0 but none is installed. You must install peer dependencies yourself.\n",
            "\u001b[0m\u001b[37;40mnpm\u001b[0m \u001b[0m\u001b[30;43mWARN\u001b[0m\u001b[35m\u001b[0m tsutils@3.21.0 requires a peer of typescript@>=2.8.0 || >= 3.2.0-dev || >= 3.3.0-dev || >= 3.4.0-dev || >= 3.5.0-dev || >= 3.6.0-dev || >= 3.6.0-beta || >= 3.7.0-dev || >= 3.7.0-beta but none is installed. You must install peer dependencies yourself.\n",
            "\u001b[0m\n",
            "+ pollinations@0.4.5\n",
            "added 1 package in 9.84s\n",
            "/content\n"
          ],
          "name": "stdout"
        }
      ]
    },
    {
      "cell_type": "code",
      "metadata": {
        "id": "RcWlME-DwhrS",
        "colab": {
          "base_uri": "https://localhost:8080/"
        },
        "outputId": "128bc96d-5922-4a68-bb10-277435ca5bd0"
      },
      "source": [
        "#@title Config\n",
        "from coolname import generate_slug\n",
        "ipfs_nodeid = generate_slug(2)#asyncio.run(loop.create_task(get_node_id()))\n",
        "IPFS_PEER = \"ipfs.pollinations.ai\"\n",
        "ipfs_root = \"/content/ipfs\"\n",
        "\n",
        "print(f\"---Settings---\\nNODE_ID: {ipfs_nodeid}\\nIPFS_ROOT: {ipfs_root}\\nIPFS_PEER: {IPFS_PEER}\")"
      ],
      "execution_count": 82,
      "outputs": [
        {
          "output_type": "stream",
          "text": [
            "---Settings---\n",
            "NODE_ID: neon-beluga\n",
            "IPFS_ROOT: /content/ipfs\n",
            "IPFS_PEER: ipfs.pollinations.ai\n"
          ],
          "name": "stdout"
        }
      ]
    },
    {
      "cell_type": "code",
      "metadata": {
        "id": "pWfAE_iqBMdB"
      },
      "source": [
        "#@title Empty and create ipfs root: */content/ipfs*\n",
        "\n",
        "\n",
        "\n",
        "!rm -r $ipfs_root\n",
        "!mkdir -p $ipfs_root/input\n",
        "!mkdir -p $ipfs_root/output\n",
        "!echo \"Created IPFS resource\" > $ipfs_root/output/log\n",
        "\n",
        "parameters={}\n",
        "for key, default in parameters.items():\n",
        "    print(default, file=open(f\"{ipfs_root}/input/{key}\", 'a'))\n",
        "\n"
      ],
      "execution_count": 83,
      "outputs": []
    },
    {
      "cell_type": "code",
      "metadata": {
        "id": "hH76cPjgwZBJ",
        "colab": {
          "base_uri": "https://localhost:8080/"
        },
        "outputId": "15534525-3a7a-4d33-ec17-3001da743720"
      },
      "source": [
        "!wget https://dist.ipfs.io/go-ipfs/v0.8.0/go-ipfs_v0.8.0_linux-amd64.tar.gz\n",
        "!tar -xvzf go-ipfs_v0.8.0_linux-amd64.tar.gz\n",
        "%cd go-ipfs\n",
        "!sudo bash install.sh\n",
        "%cd -\n",
        "!ipfs init\n",
        "!\n",
        "!nohup ipfs daemon --enable-namesys-pubsub --enable-pubsub-experiment &\n",
        "!sleep 15\n",
        "!ipfs swarm connect /ip4/18.157.205.205/tcp/4001/p2p/12D3KooW9rNKBCYKi585Dcj2wfLpETTkQSjrtRHHK8XfeJLvr5Ka\n",
        "\n"
      ],
      "execution_count": 100,
      "outputs": [
        {
          "output_type": "stream",
          "text": [
            "--2021-05-17 12:42:44--  https://dist.ipfs.io/go-ipfs/v0.8.0/go-ipfs_v0.8.0_linux-amd64.tar.gz\n",
            "Resolving dist.ipfs.io (dist.ipfs.io)... 209.94.78.1, 2602:fea2:3::1\n",
            "Connecting to dist.ipfs.io (dist.ipfs.io)|209.94.78.1|:443... connected.\n",
            "HTTP request sent, awaiting response... 200 OK\n",
            "Length: 25904633 (25M) [application/gzip]\n",
            "Saving to: ‘go-ipfs_v0.8.0_linux-amd64.tar.gz.3’\n",
            "\n",
            "go-ipfs_v0.8.0_linu 100%[===================>]  24.70M  10.7MB/s    in 2.3s    \n",
            "\n",
            "2021-05-17 12:42:47 (10.7 MB/s) - ‘go-ipfs_v0.8.0_linux-amd64.tar.gz.3’ saved [25904633/25904633]\n",
            "\n",
            "go-ipfs/install.sh\n",
            "go-ipfs/ipfs\n",
            "go-ipfs/LICENSE\n",
            "go-ipfs/LICENSE-APACHE\n",
            "go-ipfs/LICENSE-MIT\n",
            "go-ipfs/README.md\n",
            "/content/go-ipfs\n",
            "Moved ./ipfs to /usr/local/bin\n",
            "/content\n",
            "Error: ipfs daemon is running. please stop it to run this command\n",
            "Use 'ipfs init --help' for information about this command\n",
            "nohup: appending output to 'nohup.out'\n",
            "connect 12D3KooW9rNKBCYKi585Dcj2wfLpETTkQSjrtRHHK8XfeJLvr5Ka success\n"
          ],
          "name": "stdout"
        }
      ]
    },
    {
      "cell_type": "code",
      "metadata": {
        "id": "I2TUR4jTc15O",
        "colab": {
          "base_uri": "https://localhost:8080/"
        },
        "outputId": "7e93185a-1151-4512-c200-a03a7cd771c4"
      },
      "source": [
        "from os.path import join\n",
        "\n",
        "\n",
        "notebook_path = join(ipfs_root,\"latentvisions.ipynb\")\n",
        "notebook_params_path = join(ipfs_root,\"parameters.json\")\n",
        "\n",
        "!gdown --id 1zOA0bUJ68zuZXcbCoN2LPNjnkvxzFpv_ -O $notebook_path\n",
        "\n",
        "!python get_params.py $notebook_path > $notebook_params_path"
      ],
      "execution_count": 93,
      "outputs": [
        {
          "output_type": "stream",
          "text": [
            "Downloading...\n",
            "From: https://drive.google.com/uc?id=1zOA0bUJ68zuZXcbCoN2LPNjnkvxzFpv_\n",
            "To: /content/ipfs/latentvisions.ipynb\n",
            "\r  0% 0.00/20.2k [00:00<?, ?B/s]\r100% 20.2k/20.2k [00:00<00:00, 34.7MB/s]\n"
          ],
          "name": "stdout"
        }
      ]
    },
    {
      "cell_type": "code",
      "metadata": {
        "colab": {
          "base_uri": "https://localhost:8080/"
        },
        "id": "fkHiUZqQ8EtE",
        "outputId": "fde6301e-427f-45f6-f579-d780754989ca"
      },
      "source": [
        "\n",
        "content_id=!ipfs add -r -Q $ipfs_root\n",
        "content_id=content_id[0]\n",
        "node_id=!ipfs name publish -Q --offline /ipfs/$content_id\n",
        "node_id=node_id[0]\n",
        "\n",
        "#!ipfs pubsub pub $node_id $content_id\n",
        "print(content_id,node_id)"
      ],
      "execution_count": 142,
      "outputs": [
        {
          "output_type": "stream",
          "text": [
            "QmQZNKrQK9x1L6sXCmXuLKfztAPjQqHdPsRMo1BgN8cjdx k51qzi5uqu5dh0esiimwcc251a5oq9ivhjppf1zqip1cpdjcvtwj1olbdmqk9k\n"
          ],
          "name": "stdout"
        }
      ]
    },
    {
      "cell_type": "code",
      "metadata": {
        "id": "Dh8r_667U5gc",
        "outputId": "382d91be-8443-4f0e-8257-561d7e50410b",
        "colab": {
          "base_uri": "https://localhost:8080/"
        }
      },
      "source": [
        "!./ipfs_sub_one.sh $node_id "
      ],
      "execution_count": 148,
      "outputs": [
        {
          "output_type": "stream",
          "text": [
            "7941 7943\n",
            "IPFS_PID 7942\n",
            "./ipfs_sub_one.sh: line 19: wait: pid 7941 is not a child of this shell\n",
            "DONE\n"
          ],
          "name": "stdout"
        }
      ]
    },
    {
      "cell_type": "code",
      "metadata": {
        "id": "A4TYvT7yoGvE",
        "colab": {
          "base_uri": "https://localhost:8080/",
          "height": 174
        },
        "cellView": "form",
        "outputId": "543945f0-9955-4c2b-d87d-e0a1af6bd814"
      },
      "source": [
        "#@title Create connection to frontend UI\n",
        "\n",
        "import IPython\n",
        "from google.colab import output\n",
        "\n",
        "display(IPython.display.Javascript(f'''\n",
        "  const iframe = document.createElement(\"iframe\")\n",
        "  iframe.src = `http://localhost:3000/incolab.html?node={node_id},{content_id}`\n",
        "\n",
        "  document.querySelector(\"#output-area\").appendChild(iframe)\n",
        "'''))\n",
        "\n"
      ],
      "execution_count": 102,
      "outputs": [
        {
          "output_type": "display_data",
          "data": {
            "application/javascript": [
              "\n",
              "  const iframe = document.createElement(\"iframe\")\n",
              "  iframe.src = `http://localhost:3000/incolab.html?node=k51qzi5uqu5dh0esiimwcc251a5oq9ivhjppf1zqip1cpdjcvtwj1olbdmqk9k,QmQZNKrQK9x1L6sXCmXuLKfztAPjQqHdPsRMo1BgN8cjdx`\n",
              "\n",
              "  document.querySelector(\"#output-area\").appendChild(iframe)\n"
            ],
            "text/plain": [
              "<IPython.core.display.Javascript object>"
            ]
          },
          "metadata": {
            "tags": []
          }
        }
      ]
    },
    {
      "cell_type": "code",
      "metadata": {
        "id": "CbBRFIXpvv30",
        "colab": {
          "base_uri": "https://localhost:8080/"
        },
        "outputId": "264b7a4c-d515-4725-ac95-437f880d2887"
      },
      "source": [
        "async def update_ipfs_content(contentid):\n",
        "  global ipfs_contentid\n",
        "  contentid = contentid.decode(\"utf-8\")\n",
        "  \n",
        "  await client.get(contentid)\n",
        "  !cp -rv $contentid/* $ipfs_root\n",
        "  #!rm -r $contentid\n",
        "  ipfs_contentid = contentid\n",
        "\n",
        "content_id=!ipfs name resolve k51qzi5uqu5dh0esiimwcc251a5oq9ivhjppf1zqip1cpdjcvtwj1olbdmqk9k\n",
        "#on_frontend_data(update_ipfs_content)\n",
        "print(content_id)"
      ],
      "execution_count": 63,
      "outputs": [
        {
          "output_type": "stream",
          "text": [
            "['/ipfs/QmQ26epDtE4Bi1TJdUyeEy7F4tA6JGGM7bWycbMq1sp6QP']\n"
          ],
          "name": "stdout"
        }
      ]
    },
    {
      "cell_type": "code",
      "metadata": {
        "id": "mD8tRZESGzeP"
      },
      "source": [
        "from glob import glob\n",
        "from os.path import basename\n",
        "for path in glob(f\"{ipfs_root}/input/*\"):\n",
        "  key = basename(path)\n",
        "  with open(path,'r') as f:\n",
        "    value = f.read()\n",
        "    parameters[key] = value\n",
        "\n",
        "print(\"New parameters\", parameters)"
      ],
      "execution_count": null,
      "outputs": []
    },
    {
      "cell_type": "markdown",
      "metadata": {
        "id": "GVkVyH_Fj8P8"
      },
      "source": [
        "## DISABLED! CODE (DEEP-DAZE)"
      ]
    },
    {
      "cell_type": "markdown",
      "metadata": {
        "id": "v7YHsTo-TByE"
      },
      "source": [
        "\n",
        "DISABLED\n",
        "\n",
        "```\n",
        "from subprocess import Popen, PIPE, STDOUT\n",
        "from sys import stdout\n",
        "from glob import glob\n",
        "import os\n",
        "import json\n",
        "import itertools\n",
        "from base64 import b64encode\n",
        "from time import sleep\n",
        "import requests\n",
        "import os\n",
        "from mimetypes import guess_type \n",
        "import re\n",
        "flatten = itertools.chain.from_iterable\n",
        "\n",
        "#parameters[\"text\"] = \"A black and white photo of Saeko with her new Elektron FM synthesizer\"\n",
        "def run(text, args, watch_media_paths=[\"./*.jpg\",\"./*.mp4\"]):\n",
        "  print(\"Running\",text)\n",
        "  for to_remove in watch_media_paths:\n",
        "    for filepath in glob(to_remove):\n",
        "      print(\"Deleting\",filepath,\"before starting.\")\n",
        "      os.remove(filepath)\n",
        "\n",
        "  arguments = args.split(\" \")\n",
        "  cmd = ['imagine'] + arguments +[text]\n",
        "  \n",
        "  p = Popen(cmd, stdout = PIPE, \n",
        "          stderr = STDOUT, shell = True)\n",
        "\n",
        "  found_media_files=[]\n",
        "  \n",
        "  while True:\n",
        "    line = p.stdout.readline()#\n",
        "    if not line: break\n",
        "\n",
        "    stdout.write(line)\n",
        "    with open(f\"{ipfs_root}/log\",\"w\") as log_out:\n",
        "      log_out.write(line.decode(\"utf-8\"))\n",
        "      log_out.flush()\n",
        "    #headers = { \n",
        "    #    \"params\": params,\n",
        "    #    \"text\": text\n",
        "    #}\n",
        "    #conn.send(body=line.decode(\"utf-8\"), headers=headers, destination='/topic/colabOut')\n",
        "    #print(\"new contentid\", client.add(ipfs_root, recursive=True))\n",
        "    \n",
        "    #continue\n",
        "    new_found_media_files = get_matching_files(watch_media_paths)\n",
        "    new_found_media_files.sort(key=os.path.getmtime)\n",
        "    added_media_files = list(set(new_found_media_files)-set(found_media_files))\n",
        "    found_media_files = new_found_media_files\n",
        "    pin=False\n",
        "    if len(added_media_files) > 0:\n",
        "      for added in added_media_files:\n",
        "        sleep(0.1)\n",
        "        if len(added) > 0:\n",
        "          !cp $added $ipfs_root/output\n",
        "          print(\"Adding:\", added,\"to ipfs root\")\n",
        "          pin=True\n",
        "    add_and_publish()    \n",
        "       \n",
        "\n",
        "def get_matching_files(search_paths):\n",
        "  return list(flatten([glob(search_path) for search_path in search_paths]))\n",
        "\n",
        "run(**parameters)\n",
        "\n",
        "sleep(1000000)\n",
        "```\n",
        "\n"
      ]
    },
    {
      "cell_type": "code",
      "metadata": {
        "id": "fVO87PBTphwa"
      },
      "source": [
        ""
      ],
      "execution_count": null,
      "outputs": []
    },
    {
      "cell_type": "markdown",
      "metadata": {
        "id": "Tnuc_4p2TQP9"
      },
      "source": [
        "# New section"
      ]
    },
    {
      "cell_type": "code",
      "metadata": {
        "id": "2qcR2Tgghrf3",
        "colab": {
          "base_uri": "https://localhost:8080/",
          "height": 1000
        },
        "outputId": "aa4d8577-e8cd-40cf-f662-3cffe5a809c3"
      },
      "source": [
        "#!pip install --upgrade pip\n",
        "\n",
        "#!pip install --upgrade ipython\n",
        "#import papermill as pm\n",
        "asda\n",
        "from subprocess import Popen, PIPE, STDOUT\n",
        "from sys import stdout\n",
        "import os\n",
        "\n",
        "#parameters[\"text\"] = \"A black and white photo of Saeko with her new Elektron FM synthesizer\"\n",
        "def run(parameters, watch_media_paths=\"./*.jpg\"):\n",
        "  print(\"Running\",parameters)\n",
        " \n",
        "  for filepath in glob(watch_media_paths):\n",
        "    print(\"Deleting\",filepath,\"before starting.\")\n",
        "    os.remove(filepath)\n",
        "\n",
        "  _params = [[\"-p\", key, value] for key, value in parameters.items()]\n",
        "  params = [str(val) for sublist in _params for val in sublist]\n",
        "  #%run latentvisions.ipynb\n",
        "  #!papermill \"./latentvisions.ipynb\" ./output \n",
        "  cmd = [\"papermill\", \"/content/latentvisions.ipynb\",\"/content/latentvisions_output.ipynb\"] + params\n",
        "  print(\" \".join(cmd))\n",
        "  p = Popen(cmd, stdout = PIPE, \n",
        "          stderr = STDOUT, shell = False)\n",
        "\n",
        "  found_media_files=[]\n",
        "\n",
        "  while True:\n",
        "    line = p.stdout.readline()#\n",
        "    if not line: break\n",
        "\n",
        "    stdout.write(line)\n",
        "    with open(f\"{ipfs_root}/log\",\"w\") as log_out:\n",
        "      log_out.write(line.decode(\"utf-8\"))\n",
        "      log_out.flush()\n",
        "      \n",
        "    #headers = { \n",
        "    #    \"params\": params,\n",
        "    #    \"text\": text\n",
        "    #}\n",
        "    #conn.send(body=line.decode(\"utf-8\"), headers=headers, destination='/topic/colabOut')\n",
        "    #print(\"new contentid\", client.add(ipfs_root, recursive=True))\n",
        "    \n",
        "    #continue\n",
        "    new_found_media_files = glob(watch_media_paths)\n",
        "    new_found_media_files.sort(key=os.path.getmtime)\n",
        "    added_media_files = list(set(new_found_media_files)-set(found_media_files))\n",
        "    found_media_files = new_found_media_files\n",
        "    pin=False\n",
        "    if len(added_media_files) > 0:\n",
        "      for added in added_media_files:\n",
        "        sleep(0.1)\n",
        "        if len(added) > 0:\n",
        "          !cp $added $ipfs_root/output\n",
        "          print(\"Adding:\", added,\"to ipfs root\")\n",
        "          pin=True\n",
        "    add_and_publish()    \n",
        "        \n",
        "while True:\n",
        "  run(parameters,\"./taming_transformers/*.jpg\")"
      ],
      "execution_count": null,
      "outputs": [
        {
          "output_type": "stream",
          "text": [
            "Collecting papermill\n",
            "  Downloading https://files.pythonhosted.org/packages/ec/3b/55dbb2017142340a57937f1fad78c7d9373552540b42740e37fd6c40d761/papermill-2.3.3-py3-none-any.whl\n",
            "Requirement already satisfied: click in /usr/local/lib/python3.7/dist-packages (from papermill) (8.0.0)\n",
            "Requirement already satisfied: nbformat>=5.1.2 in /usr/local/lib/python3.7/dist-packages (from papermill) (5.1.3)\n",
            "Requirement already satisfied: entrypoints in /usr/local/lib/python3.7/dist-packages (from papermill) (0.3)\n",
            "Requirement already satisfied: requests in /usr/local/lib/python3.7/dist-packages (from papermill) (2.23.0)\n",
            "Collecting tenacity\n",
            "  Downloading https://files.pythonhosted.org/packages/41/ee/d6eddff86161c6a3a1753af4a66b06cbc508d3b77ca4698cd0374cd66531/tenacity-7.0.0-py2.py3-none-any.whl\n",
            "Collecting ansiwrap\n",
            "  Downloading https://files.pythonhosted.org/packages/03/50/43e775a63e0d632d9be3b3fa1c9b2cbaf3b7870d203655710a3426f47c26/ansiwrap-0.8.4-py2.py3-none-any.whl\n",
            "Requirement already satisfied: tqdm>=4.32.2 in /usr/local/lib/python3.7/dist-packages (from papermill) (4.41.1)\n",
            "Requirement already satisfied: pyyaml in /usr/local/lib/python3.7/dist-packages (from papermill) (3.13)\n",
            "Collecting black\n",
            "\u001b[?25l  Downloading https://files.pythonhosted.org/packages/01/02/b9c9eb7bc36db92b4f57b3f0f6e18775c5adc30ce525bf3dcd724ab4853d/black-21.5b1-py3-none-any.whl (137kB)\n",
            "\u001b[K     |████████████████████████████████| 143kB 7.8MB/s \n",
            "\u001b[?25hRequirement already satisfied: nbclient>=0.2.0 in /usr/local/lib/python3.7/dist-packages (from papermill) (0.5.3)\n",
            "Requirement already satisfied: ipython-genutils in /usr/local/lib/python3.7/dist-packages (from nbformat>=5.1.2->papermill) (0.2.0)\n",
            "Requirement already satisfied: traitlets>=4.1 in /usr/local/lib/python3.7/dist-packages (from nbformat>=5.1.2->papermill) (5.0.5)\n",
            "Requirement already satisfied: jsonschema!=2.5.0,>=2.4 in /usr/local/lib/python3.7/dist-packages (from nbformat>=5.1.2->papermill) (2.6.0)\n",
            "Requirement already satisfied: jupyter-core in /usr/local/lib/python3.7/dist-packages (from nbformat>=5.1.2->papermill) (4.7.1)\n",
            "Requirement already satisfied: urllib3!=1.25.0,!=1.25.1,<1.26,>=1.21.1 in /usr/local/lib/python3.7/dist-packages (from requests->papermill) (1.24.3)\n",
            "Requirement already satisfied: chardet<4,>=3.0.2 in /usr/local/lib/python3.7/dist-packages (from requests->papermill) (3.0.4)\n",
            "Requirement already satisfied: certifi>=2017.4.17 in /usr/local/lib/python3.7/dist-packages (from requests->papermill) (2020.12.5)\n",
            "Requirement already satisfied: idna<3,>=2.5 in /usr/local/lib/python3.7/dist-packages (from requests->papermill) (2.10)\n",
            "Requirement already satisfied: six>=1.9.0 in /usr/local/lib/python3.7/dist-packages (from tenacity->papermill) (1.15.0)\n",
            "Collecting textwrap3>=0.9.2\n",
            "  Downloading https://files.pythonhosted.org/packages/77/9c/a53e561d496ee5866bbeea4d3a850b3b545ed854f8a21007c1e0d872e94d/textwrap3-0.9.2-py2.py3-none-any.whl\n",
            "Collecting pathspec<1,>=0.8.1\n",
            "  Downloading https://files.pythonhosted.org/packages/29/29/a465741a3d97ea3c17d21eaad4c64205428bde56742360876c4391f930d4/pathspec-0.8.1-py2.py3-none-any.whl\n",
            "Collecting typed-ast>=1.4.2; python_version < \"3.8\"\n",
            "\u001b[?25l  Downloading https://files.pythonhosted.org/packages/65/b3/573d2f1fecbbe8f82a8d08172e938c247f99abe1be3bef3da2efaa3810bf/typed_ast-1.4.3-cp37-cp37m-manylinux1_x86_64.whl (743kB)\n",
            "\u001b[K     |████████████████████████████████| 747kB 38.4MB/s \n",
            "\u001b[?25hCollecting mypy-extensions>=0.4.3\n",
            "  Downloading https://files.pythonhosted.org/packages/5c/eb/975c7c080f3223a5cdaff09612f3a5221e4ba534f7039db34c35d95fa6a5/mypy_extensions-0.4.3-py2.py3-none-any.whl\n",
            "Requirement already satisfied: typing-extensions>=3.7.4; python_version < \"3.8\" in /usr/local/lib/python3.7/dist-packages (from black->papermill) (3.7.4.3)\n",
            "Collecting regex>=2020.1.8\n",
            "\u001b[?25l  Downloading https://files.pythonhosted.org/packages/c4/28/5f08d8841013ccf72cd95dfff2500fe7fb39467af12c5e7b802d8381d811/regex-2021.4.4-cp37-cp37m-manylinux2014_x86_64.whl (720kB)\n",
            "\u001b[K     |████████████████████████████████| 727kB 22.6MB/s \n",
            "\u001b[?25hRequirement already satisfied: toml>=0.10.1 in /usr/local/lib/python3.7/dist-packages (from black->papermill) (0.10.2)\n",
            "Requirement already satisfied: appdirs in /usr/local/lib/python3.7/dist-packages (from black->papermill) (1.4.4)\n",
            "Requirement already satisfied: async-generator in /usr/local/lib/python3.7/dist-packages (from nbclient>=0.2.0->papermill) (1.10)\n",
            "Collecting jupyter-client>=6.1.5\n",
            "\u001b[?25l  Downloading https://files.pythonhosted.org/packages/77/e8/c3cf72a32a697256608d5fa96360c431adec6e1c6709ba7f13f99ff5ee04/jupyter_client-6.1.12-py3-none-any.whl (112kB)\n",
            "\u001b[K     |████████████████████████████████| 122kB 44.1MB/s \n",
            "\u001b[?25hRequirement already satisfied: nest-asyncio in /usr/local/lib/python3.7/dist-packages (from nbclient>=0.2.0->papermill) (1.5.1)\n",
            "Requirement already satisfied: tornado>=4.1 in /usr/local/lib/python3.7/dist-packages (from jupyter-client>=6.1.5->nbclient>=0.2.0->papermill) (5.1.1)\n",
            "Requirement already satisfied: python-dateutil>=2.1 in /usr/local/lib/python3.7/dist-packages (from jupyter-client>=6.1.5->nbclient>=0.2.0->papermill) (2.8.1)\n",
            "Requirement already satisfied: pyzmq>=13 in /usr/local/lib/python3.7/dist-packages (from jupyter-client>=6.1.5->nbclient>=0.2.0->papermill) (22.0.3)\n",
            "Installing collected packages: tenacity, textwrap3, ansiwrap, pathspec, typed-ast, mypy-extensions, regex, black, papermill, jupyter-client\n",
            "  Found existing installation: regex 2019.12.20\n",
            "    Uninstalling regex-2019.12.20:\n",
            "      Successfully uninstalled regex-2019.12.20\n",
            "  Found existing installation: jupyter-client 5.3.5\n",
            "    Uninstalling jupyter-client-5.3.5:\n",
            "      Successfully uninstalled jupyter-client-5.3.5\n",
            "Successfully installed ansiwrap-0.8.4 black-21.5b1 jupyter-client-6.1.12 mypy-extensions-0.4.3 papermill-2.3.3 pathspec-0.8.1 regex-2021.4.4 tenacity-7.0.0 textwrap3-0.9.2 typed-ast-1.4.3\n"
          ],
          "name": "stdout"
        },
        {
          "output_type": "display_data",
          "data": {
            "application/vnd.colab-display-data+json": {
              "pip_warning": {
                "packages": [
                  "jupyter_client"
                ]
              }
            }
          },
          "metadata": {
            "tags": []
          }
        },
        {
          "output_type": "stream",
          "text": [
            "Usage: papermill [OPTIONS] NOTEBOOK_PATH\n",
            "                 [OUTPUT_PATH]\n",
            "\n",
            "Parameters inferred for notebook './latentvisions.ipynb':\n",
            "  text_input: Unknown type (default \"A digital render in dark blue of a machine-based software intelligence capable of evolving autonomously as more data is added into its algorithmic structure.\")\n",
            "                                  @param {type: \"string\"}\n",
            "  text_not: Unknown type (default 'disconnected, confusing, incoherent, text, letters')\n",
            "                                  @param {type: \"string\"}\n",
            "  num_iterations: Unknown type (default 1000)\n",
            "                                  @param {type: \"number\"}\n"
          ],
          "name": "stdout"
        },
        {
          "output_type": "error",
          "ename": "NameError",
          "evalue": "ignored",
          "traceback": [
            "\u001b[0;31m---------------------------------------------------------------------------\u001b[0m",
            "\u001b[0;31mNameError\u001b[0m                                 Traceback (most recent call last)",
            "\u001b[0;32m<ipython-input-10-c1e63fc317b0>\u001b[0m in \u001b[0;36m<module>\u001b[0;34m()\u001b[0m\n\u001b[1;32m      4\u001b[0m \u001b[0;31m#import papermill as pm\u001b[0m\u001b[0;34m\u001b[0m\u001b[0;34m\u001b[0m\u001b[0;34m\u001b[0m\u001b[0m\n\u001b[1;32m      5\u001b[0m \u001b[0mget_ipython\u001b[0m\u001b[0;34m(\u001b[0m\u001b[0;34m)\u001b[0m\u001b[0;34m.\u001b[0m\u001b[0msystem\u001b[0m\u001b[0;34m(\u001b[0m\u001b[0;34m'papermill --help-notebook \"./latentvisions.ipynb\"'\u001b[0m\u001b[0;34m)\u001b[0m\u001b[0;34m\u001b[0m\u001b[0;34m\u001b[0m\u001b[0m\n\u001b[0;32m----> 6\u001b[0;31m \u001b[0masda\u001b[0m\u001b[0;34m\u001b[0m\u001b[0;34m\u001b[0m\u001b[0m\n\u001b[0m\u001b[1;32m      7\u001b[0m \u001b[0;32mfrom\u001b[0m \u001b[0msubprocess\u001b[0m \u001b[0;32mimport\u001b[0m \u001b[0mPopen\u001b[0m\u001b[0;34m,\u001b[0m \u001b[0mPIPE\u001b[0m\u001b[0;34m,\u001b[0m \u001b[0mSTDOUT\u001b[0m\u001b[0;34m\u001b[0m\u001b[0;34m\u001b[0m\u001b[0m\n\u001b[1;32m      8\u001b[0m \u001b[0;32mfrom\u001b[0m \u001b[0msys\u001b[0m \u001b[0;32mimport\u001b[0m \u001b[0mstdout\u001b[0m\u001b[0;34m\u001b[0m\u001b[0;34m\u001b[0m\u001b[0m\n",
            "\u001b[0;31mNameError\u001b[0m: name 'asda' is not defined"
          ]
        }
      ]
    }
  ]
}