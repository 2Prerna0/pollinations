{
  "nbformat": 4,
  "nbformat_minor": 0,
  "metadata": {
    "colab": {
      "name": "Pollinator",
      "provenance": [],
      "collapsed_sections": [],
      "machine_shape": "hm",
      "include_colab_link": true
    },
    "kernelspec": {
      "name": "python3",
      "display_name": "Python 3"
    },
    "accelerator": "GPU"
  },
  "cells": [
    {
      "cell_type": "markdown",
      "metadata": {
        "id": "view-in-github",
        "colab_type": "text"
      },
      "source": [
        "<a href=\"https://colab.research.google.com/github/voodoohop/pollinations/blob/dev/colabs/pollinator.ipynb\" target=\"_parent\"><img src=\"https://colab.research.google.com/assets/colab-badge.svg\" alt=\"Open In Colab\"/></a>"
      ]
    },
    {
      "cell_type": "markdown",
      "metadata": {
        "id": "z8RkOYkzmGDW"
      },
      "source": [
        "## Code (Frontend and IPFS Connection)"
      ]
    },
    {
      "cell_type": "code",
      "metadata": {
        "id": "RcWlME-DwhrS",
        "colab": {
          "base_uri": "https://localhost:8080/",
          "height": 1000
        },
        "cellView": "form",
        "outputId": "5cace7d5-3661-4c1c-e629-b124da7d823d"
      },
      "source": [
        "#@title Config and Requirements\n",
        "!pip install coolname gdown papermill json5\n",
        "from coolname import generate_slug\n",
        "#ipfs_nodeid = generate_slug(2)#asyncio.run(loop.create_task(get_node_id()))\n",
        "IPFS_PEER = \"ipfs.pollinations.ai\"\n",
        "ipfs_root = \"/content/ipfs_root\"\n",
        "worker_root = \"/content/worker\"\n",
        "print(f\"---Settings---\\nIPFS_ROOT: {ipfs_root}\\nIPFS_PEER: {IPFS_PEER}\")"
      ],
      "execution_count": 1,
      "outputs": [
        {
          "output_type": "stream",
          "text": [
            "Collecting coolname\n",
            "  Downloading https://files.pythonhosted.org/packages/25/43/64c0cec51944924f44c0788c329a2c6fde061428c97d7cba73de177ececd/coolname-1.1.0-py2.py3-none-any.whl\n",
            "Requirement already satisfied: gdown in /usr/local/lib/python3.7/dist-packages (3.6.4)\n",
            "Collecting papermill\n",
            "  Downloading https://files.pythonhosted.org/packages/ec/3b/55dbb2017142340a57937f1fad78c7d9373552540b42740e37fd6c40d761/papermill-2.3.3-py3-none-any.whl\n",
            "Collecting json5\n",
            "  Downloading https://files.pythonhosted.org/packages/2b/81/22bf51a5bc60dde18bb6164fd597f18ee683de8670e141364d9c432dd3cf/json5-0.9.5-py2.py3-none-any.whl\n",
            "Requirement already satisfied: requests in /usr/local/lib/python3.7/dist-packages (from gdown) (2.23.0)\n",
            "Requirement already satisfied: six in /usr/local/lib/python3.7/dist-packages (from gdown) (1.15.0)\n",
            "Requirement already satisfied: tqdm in /usr/local/lib/python3.7/dist-packages (from gdown) (4.41.1)\n",
            "Requirement already satisfied: click in /usr/local/lib/python3.7/dist-packages (from papermill) (7.1.2)\n",
            "Requirement already satisfied: pyyaml in /usr/local/lib/python3.7/dist-packages (from papermill) (3.13)\n",
            "Collecting tenacity\n",
            "  Downloading https://files.pythonhosted.org/packages/41/ee/d6eddff86161c6a3a1753af4a66b06cbc508d3b77ca4698cd0374cd66531/tenacity-7.0.0-py2.py3-none-any.whl\n",
            "Requirement already satisfied: nbformat>=5.1.2 in /usr/local/lib/python3.7/dist-packages (from papermill) (5.1.3)\n",
            "Collecting ansiwrap\n",
            "  Downloading https://files.pythonhosted.org/packages/03/50/43e775a63e0d632d9be3b3fa1c9b2cbaf3b7870d203655710a3426f47c26/ansiwrap-0.8.4-py2.py3-none-any.whl\n",
            "Collecting black\n",
            "\u001b[?25l  Downloading https://files.pythonhosted.org/packages/01/02/b9c9eb7bc36db92b4f57b3f0f6e18775c5adc30ce525bf3dcd724ab4853d/black-21.5b1-py3-none-any.whl (137kB)\n",
            "\u001b[K     |████████████████████████████████| 143kB 18.3MB/s \n",
            "\u001b[?25hRequirement already satisfied: entrypoints in /usr/local/lib/python3.7/dist-packages (from papermill) (0.3)\n",
            "Requirement already satisfied: nbclient>=0.2.0 in /usr/local/lib/python3.7/dist-packages (from papermill) (0.5.3)\n",
            "Requirement already satisfied: chardet<4,>=3.0.2 in /usr/local/lib/python3.7/dist-packages (from requests->gdown) (3.0.4)\n",
            "Requirement already satisfied: certifi>=2017.4.17 in /usr/local/lib/python3.7/dist-packages (from requests->gdown) (2020.12.5)\n",
            "Requirement already satisfied: urllib3!=1.25.0,!=1.25.1,<1.26,>=1.21.1 in /usr/local/lib/python3.7/dist-packages (from requests->gdown) (1.24.3)\n",
            "Requirement already satisfied: idna<3,>=2.5 in /usr/local/lib/python3.7/dist-packages (from requests->gdown) (2.10)\n",
            "Requirement already satisfied: jsonschema!=2.5.0,>=2.4 in /usr/local/lib/python3.7/dist-packages (from nbformat>=5.1.2->papermill) (2.6.0)\n",
            "Requirement already satisfied: traitlets>=4.1 in /usr/local/lib/python3.7/dist-packages (from nbformat>=5.1.2->papermill) (5.0.5)\n",
            "Requirement already satisfied: jupyter-core in /usr/local/lib/python3.7/dist-packages (from nbformat>=5.1.2->papermill) (4.7.1)\n",
            "Requirement already satisfied: ipython-genutils in /usr/local/lib/python3.7/dist-packages (from nbformat>=5.1.2->papermill) (0.2.0)\n",
            "Collecting textwrap3>=0.9.2\n",
            "  Downloading https://files.pythonhosted.org/packages/77/9c/a53e561d496ee5866bbeea4d3a850b3b545ed854f8a21007c1e0d872e94d/textwrap3-0.9.2-py2.py3-none-any.whl\n",
            "Collecting mypy-extensions>=0.4.3\n",
            "  Downloading https://files.pythonhosted.org/packages/5c/eb/975c7c080f3223a5cdaff09612f3a5221e4ba534f7039db34c35d95fa6a5/mypy_extensions-0.4.3-py2.py3-none-any.whl\n",
            "Requirement already satisfied: appdirs in /usr/local/lib/python3.7/dist-packages (from black->papermill) (1.4.4)\n",
            "Collecting regex>=2020.1.8\n",
            "\u001b[?25l  Downloading https://files.pythonhosted.org/packages/c4/28/5f08d8841013ccf72cd95dfff2500fe7fb39467af12c5e7b802d8381d811/regex-2021.4.4-cp37-cp37m-manylinux2014_x86_64.whl (720kB)\n",
            "\u001b[K     |████████████████████████████████| 727kB 22.4MB/s \n",
            "\u001b[?25hCollecting typed-ast>=1.4.2; python_version < \"3.8\"\n",
            "\u001b[?25l  Downloading https://files.pythonhosted.org/packages/65/b3/573d2f1fecbbe8f82a8d08172e938c247f99abe1be3bef3da2efaa3810bf/typed_ast-1.4.3-cp37-cp37m-manylinux1_x86_64.whl (743kB)\n",
            "\u001b[K     |████████████████████████████████| 747kB 33.7MB/s \n",
            "\u001b[?25hCollecting pathspec<1,>=0.8.1\n",
            "  Downloading https://files.pythonhosted.org/packages/29/29/a465741a3d97ea3c17d21eaad4c64205428bde56742360876c4391f930d4/pathspec-0.8.1-py2.py3-none-any.whl\n",
            "Requirement already satisfied: typing-extensions>=3.7.4; python_version < \"3.8\" in /usr/local/lib/python3.7/dist-packages (from black->papermill) (3.7.4.3)\n",
            "Requirement already satisfied: toml>=0.10.1 in /usr/local/lib/python3.7/dist-packages (from black->papermill) (0.10.2)\n",
            "Requirement already satisfied: async-generator in /usr/local/lib/python3.7/dist-packages (from nbclient>=0.2.0->papermill) (1.10)\n",
            "Collecting jupyter-client>=6.1.5\n",
            "\u001b[?25l  Downloading https://files.pythonhosted.org/packages/77/e8/c3cf72a32a697256608d5fa96360c431adec6e1c6709ba7f13f99ff5ee04/jupyter_client-6.1.12-py3-none-any.whl (112kB)\n",
            "\u001b[K     |████████████████████████████████| 122kB 56.8MB/s \n",
            "\u001b[?25hRequirement already satisfied: nest-asyncio in /usr/local/lib/python3.7/dist-packages (from nbclient>=0.2.0->papermill) (1.5.1)\n",
            "Requirement already satisfied: python-dateutil>=2.1 in /usr/local/lib/python3.7/dist-packages (from jupyter-client>=6.1.5->nbclient>=0.2.0->papermill) (2.8.1)\n",
            "Requirement already satisfied: pyzmq>=13 in /usr/local/lib/python3.7/dist-packages (from jupyter-client>=6.1.5->nbclient>=0.2.0->papermill) (22.0.3)\n",
            "Requirement already satisfied: tornado>=4.1 in /usr/local/lib/python3.7/dist-packages (from jupyter-client>=6.1.5->nbclient>=0.2.0->papermill) (5.1.1)\n",
            "Installing collected packages: coolname, tenacity, textwrap3, ansiwrap, mypy-extensions, regex, typed-ast, pathspec, black, papermill, json5, jupyter-client\n",
            "  Found existing installation: regex 2019.12.20\n",
            "    Uninstalling regex-2019.12.20:\n",
            "      Successfully uninstalled regex-2019.12.20\n",
            "  Found existing installation: jupyter-client 5.3.5\n",
            "    Uninstalling jupyter-client-5.3.5:\n",
            "      Successfully uninstalled jupyter-client-5.3.5\n",
            "Successfully installed ansiwrap-0.8.4 black-21.5b1 coolname-1.1.0 json5-0.9.5 jupyter-client-6.1.12 mypy-extensions-0.4.3 papermill-2.3.3 pathspec-0.8.1 regex-2021.4.4 tenacity-7.0.0 textwrap3-0.9.2 typed-ast-1.4.3\n"
          ],
          "name": "stdout"
        },
        {
          "output_type": "display_data",
          "data": {
            "application/vnd.colab-display-data+json": {
              "pip_warning": {
                "packages": [
                  "jupyter_client"
                ]
              }
            }
          },
          "metadata": {
            "tags": []
          }
        },
        {
          "output_type": "stream",
          "text": [
            "---Settings---\n",
            "IPFS_ROOT: /content/ipfs_root\n",
            "IPFS_PEER: ipfs.pollinations.ai\n"
          ],
          "name": "stdout"
        }
      ]
    },
    {
      "cell_type": "code",
      "metadata": {
        "id": "pWfAE_iqBMdB",
        "colab": {
          "base_uri": "https://localhost:8080/"
        },
        "outputId": "148f6c77-bc2e-4937-9ca7-26b9571cd940"
      },
      "source": [
        "#@title Empty and create ipfs root: */content/ipfs*\n",
        "\n",
        "\n",
        "\n",
        "!rm -r $ipfs_root\n",
        "!mkdir -p $ipfs_root/input\n",
        "!mkdir -p $ipfs_root/output\n",
        "!mkdir -p $worker_root\n",
        "!echo \"Created IPFS resource\" > $ipfs_root/output/log\n",
        "\n",
        "#parameters={\"bla\":2}\n",
        "#for key, default in parameters.items():\n",
        "#    print(default, file=open(f\"{ipfs_root}/input/{key}\", 'a'))\n",
        "\n"
      ],
      "execution_count": 2,
      "outputs": [
        {
          "output_type": "stream",
          "text": [
            "rm: cannot remove '/content/ipfs_root': No such file or directory\n"
          ],
          "name": "stdout"
        }
      ]
    },
    {
      "cell_type": "code",
      "metadata": {
        "id": "9j1zUbMN4VDP",
        "colab": {
          "base_uri": "https://localhost:8080/"
        },
        "outputId": "cae30fac-c6ef-4e42-a6ba-50d0216f7b63"
      },
      "source": [
        "#@title Install IPFS\n",
        "\n",
        "#!pip install asyncio nest-asyncio coolname aioipfs\n",
        "#!pip install ipfshttpclient\n",
        "#!npm install -g nodemon\n",
        "#!npm install -g voodoohop/pollinations/app\n",
        "\n",
        "\n",
        "%cd /content\n",
        "!git clone https://github.com/voodoohop/pollinations.git\n",
        "%cd /content/pollinations/app\n",
        "!git pull\n",
        "!git checkout dev \n",
        "!git pull\n",
        "!npm install\n",
        "!npm install -g\n",
        "%cd -\n",
        "#!npm install forever -g\n",
        "\n"
      ],
      "execution_count": null,
      "outputs": [
        {
          "output_type": "stream",
          "text": [
            "/content\n",
            "Cloning into 'pollinations'...\n",
            "remote: Enumerating objects: 2091, done.\u001b[K\n",
            "remote: Counting objects: 100% (483/483), done.\u001b[K\n",
            "remote: Compressing objects: 100% (375/375), done.\u001b[K\n"
          ],
          "name": "stdout"
        }
      ]
    },
    {
      "cell_type": "code",
      "metadata": {
        "id": "hH76cPjgwZBJ"
      },
      "source": [
        "!/content/pollinations/ipfs/ipfsd_install_colab.sh\n",
        "!nohup  /content/pollinations/ipfs/ipfsd_forever.sh > $ipfs_root/output/log &\n",
        "!sleep 5\n",
        "\n"
      ],
      "execution_count": null,
      "outputs": []
    },
    {
      "cell_type": "code",
      "metadata": {
        "id": "I2TUR4jTc15O"
      },
      "source": [
        "from os.path import join\n",
        "\n",
        "\n",
        "notebook_path = join(ipfs_root,\"latentvisions.ipynb\")\n",
        "notebook_params_path = join(ipfs_root,\"parameters.json\")\n",
        "\n",
        "!gdown --id 1HSYJjPPQIenPjKIsObQ_r3JD5PFVPJWB -O $notebook_path\n",
        "\n",
        "!python pollinations/pollinations/get_params.py $notebook_path $ipfs_root > $notebook_params_path"
      ],
      "execution_count": null,
      "outputs": []
    },
    {
      "cell_type": "code",
      "metadata": {
        "id": "fkHiUZqQ8EtE"
      },
      "source": [
        "node_id=!ipfs id -f=\"<id>\\n\"\n",
        "node_id=node_id[0]\n",
        "\n",
        "#!ipfs pubsub pub $node_id $content_id\n",
        "print(\"---Node ID---:\", node_id)"
      ],
      "execution_count": null,
      "outputs": []
    },
    {
      "cell_type": "code",
      "metadata": {
        "id": "A4TYvT7yoGvE",
        "cellView": "form"
      },
      "source": [
        "#@title Create connection to frontend UI\n",
        "\n",
        "import IPython\n",
        "from google.colab import output\n",
        "\n",
        "display(IPython.display.Javascript(f'''\n",
        "  const iframe = document.createElement(\"iframe\")\n",
        "  iframe.src = `http://localhost:3000/incolab.html?node={node_id}`\n",
        "\n",
        "  document.querySelector(\"#output-area\").appendChild(iframe)\n",
        "'''))\n",
        "\n",
        "!sleep 15\n"
      ],
      "execution_count": null,
      "outputs": []
    },
    {
      "cell_type": "code",
      "metadata": {
        "id": "BGPvoHzKKpRR"
      },
      "source": [
        "!DEBUG=* pollinate -p /content/ipfs_root --ipns --send --once"
      ],
      "execution_count": null,
      "outputs": []
    },
    {
      "cell_type": "code",
      "metadata": {
        "id": "Dh8r_667U5gc"
      },
      "source": [
        "#!ipfs pubsub sub $node_id | DEBUG=* pollinate -p /content/ipfs_root --ipns --receive\n",
        "!DEBUG=* pollinate -p /content/ipfs_root --ipns --receive --once"
      ],
      "execution_count": null,
      "outputs": []
    },
    {
      "cell_type": "code",
      "metadata": {
        "id": "mD8tRZESGzeP"
      },
      "source": [
        "from glob import glob\n",
        "from os.path import basename\n",
        "from json5 import loads\n",
        "parameters={}\n",
        "for path in glob(f\"{ipfs_root}/input/*\"):\n",
        "  key = basename(path)\n",
        "  with open(path,'r') as f: \n",
        "    value = f.read()\n",
        "    parameters[key] = loads(value)\n",
        "\n",
        "print(\"New parameters\", parameters)"
      ],
      "execution_count": null,
      "outputs": []
    },
    {
      "cell_type": "markdown",
      "metadata": {
        "id": "GVkVyH_Fj8P8"
      },
      "source": [
        "## DISABLED! CODE (DEEP-DAZE)"
      ]
    },
    {
      "cell_type": "code",
      "metadata": {
        "id": "2qcR2Tgghrf3"
      },
      "source": [
        "#!pip install --upgrade pip\n",
        "\n",
        "#!pip install --upgrade ipython\n",
        "#import papermill as pm\n",
        "\n",
        "from subprocess import Popen, PIPE, STDOUT\n",
        "from sys import stdout\n",
        "import os\n",
        "\n",
        "#parameters[\"text\"] = \"A black and white photo of Saeko with her new Elektron FM synthesizer\"\n",
        "def run(parameters):\n",
        "  print(\"Running\",parameters)\n",
        " \n",
        "  #for filepath in glob(watch_media_paths):\n",
        "  #  print(\"Deleting\",filepath,\"before starting.\")\n",
        "  #  os.remove(filepath)\n",
        "  parameters[\"output_path\"] = ipfs_root+\"/output\"\n",
        "  _params = [[\"-p\", key, value] for key, value in parameters.items()]\n",
        "  params = [str(val) for sublist in _params for val in sublist]\n",
        "  #%run latentvisions.ipynb\n",
        "  #!papermill \"./latentvisions.ipynb\" ./output \n",
        "  cmd = [\"papermill\", ipfs_root+\"/latentvisions.ipynb\",\"/content/latentvisions_output.ipynb\"] + params\n",
        "  print(\"Running cmd\",\" \".join(cmd))\n",
        "  p = Popen(\n",
        "          cmd, \n",
        "          stdout = PIPE, \n",
        "          stderr = STDOUT, \n",
        "          shell = False, \n",
        "          cwd = worker_root\n",
        "          )\n",
        "\n",
        "\n",
        "  while True:\n",
        "    line = p.stdout.readline()#\n",
        "    if not line: break\n",
        "\n",
        "    stdout.write(line)\n",
        "    with open(f\"{ipfs_root}/output/log\",\"w\") as log_out:\n",
        "      log_out.write(line.decode(\"utf-8\"))\n",
        "      log_out.flush()\n",
        "      \n",
        "    #headers = { \n",
        "    #    \"params\": params,\n",
        "    #    \"text\": text\n",
        "    #}\n",
        "    #conn.send(body=line.decode(\"utf-8\"), headers=headers, destination='/topic/colabOut')\n",
        "    #print(\"new contentid\", client.add(ipfs_root, recursive=True))\n",
        "    \n",
        "    #continue\n",
        "   \n",
        "        \n",
        "while True:\n",
        "  run(parameters)"
      ],
      "execution_count": null,
      "outputs": []
    }
  ]
}