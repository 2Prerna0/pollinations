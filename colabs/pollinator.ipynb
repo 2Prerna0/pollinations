{
  "nbformat": 4,
  "nbformat_minor": 0,
  "metadata": {
    "colab": {
      "name": "Pollinator",
      "provenance": [],
      "collapsed_sections": [],
      "toc_visible": true,
      "include_colab_link": true
    },
    "kernelspec": {
      "name": "python3",
      "display_name": "Python 3"
    }
  },
  "cells": [
    {
      "cell_type": "markdown",
      "metadata": {
        "id": "view-in-github",
        "colab_type": "text"
      },
      "source": [
        "<a href=\"https://colab.research.google.com/github/voodoohop/pollinations/blob/master/colabs/pollinator.ipynb\" target=\"_parent\"><img src=\"https://colab.research.google.com/assets/colab-badge.svg\" alt=\"Open In Colab\"/></a>"
      ]
    },
    {
      "cell_type": "markdown",
      "metadata": {
        "id": "z8RkOYkzmGDW"
      },
      "source": [
        "## Code (Frontend and IPFS Connection)"
      ]
    },
    {
      "cell_type": "code",
      "metadata": {
        "id": "9j1zUbMN4VDP"
      },
      "source": [
        "#@title Install IPFS\n",
        "\n",
        "#!pip install aioipfs nest-asyncio coolname\n",
        "!pip install asyncio nest-asyncio coolname aioipfs\n",
        "#!pip install ipfshttpclient\n",
        "#!npm install -g nodemon\n",
        "!npm install voodoohop/pollinations"
      ],
      "execution_count": null,
      "outputs": []
    },
    {
      "cell_type": "code",
      "metadata": {
        "id": "RcWlME-DwhrS"
      },
      "source": [
        "#@title Config\n",
        "from coolname import generate_slug\n",
        "ipfs_nodeid = generate_slug(2)#asyncio.run(loop.create_task(get_node_id()))\n",
        "IPFS_PEER = \"ipfs.pollinations.ai\"\n",
        "ipfs_root = \"/content/ipfs\"\n",
        "\n",
        "print(f\"---Settings---\\nNODE_ID: {ipfs_nodeid}\\nIPFS_ROOT: {ipfs_root}\\nIPFS_PEER: {IPFS_PEER}\")"
      ],
      "execution_count": null,
      "outputs": []
    },
    {
      "cell_type": "code",
      "metadata": {
        "id": "pWfAE_iqBMdB"
      },
      "source": [
        "#@title Empty and create ipfs root: */content/ipfs*\n",
        "\n",
        "\n",
        "\n",
        "!rm -r $ipfs_root\n",
        "!mkdir -p $ipfs_root/input\n",
        "!mkdir -p $ipfs_root/output\n",
        "!echo \"Created IPFS resource\" > $ipfs_root/output/log\n",
        "\n",
        "parameters={\"bla\":\"hello\"}\n",
        "for key, default in parameters.items():\n",
        "    print(default, file=open(f\"{ipfs_root}/input/{key}\", 'a'))\n",
        "\n"
      ],
      "execution_count": null,
      "outputs": []
    },
    {
      "cell_type": "code",
      "metadata": {
        "id": "hH76cPjgwZBJ"
      },
      "source": [
        "#@title Connect to local IPFS node and publish ipfs root\n",
        "import sys\n",
        "import json\n",
        "\n",
        "import nest_asyncio\n",
        "nest_asyncio.apply()\n",
        "\n",
        "import asyncio\n",
        "import aioipfs\n",
        "\n",
        "\n",
        "def await_async(x):\n",
        "  #asyncio.ensure_future(x)\n",
        "  asyncio.run(x)\n",
        "\n",
        "\n",
        "async def asyncfunc():\n",
        "  await asyncio.sleep(5)\n",
        "\n",
        "#asyncio.run(loop.create_task(sub(\"hello\")))\n",
        "\n",
        "print(\"slept\", await_async(asyncfunc()))\n",
        "\n",
        "\n",
        "\n"
      ],
      "execution_count": null,
      "outputs": []
    },
    {
      "cell_type": "code",
      "metadata": {
        "id": "ufv11BVEwXLb"
      },
      "source": [
        "\n",
        "import aioipfs\n",
        "\n",
        "\n",
        "\n",
        "#client = aioipfs.AsyncIPFS(debug=True)\n",
        "clientRemote = aioipfs.AsyncIPFS(host=IPFS_PEER,port=5002,debug=True)\n",
        "client=clientRemote\n",
        "ipfs_nodeid = None\n",
        "ipfs_contentid = None\n",
        "\n",
        "async def get_node_id():\n",
        "    return (await client.id())[\"ID\"]\n",
        "\n",
        "async def _add_and_publish(path=ipfs_root, pin_remote=False):\n",
        "    global ipfs_contentid\n",
        "    last_added=None\n",
        "    async for added_file in client.add(path, recursive=True):\n",
        "      print('Imported file', added_file)\n",
        "      last_added=added_file[\"Hash\"]\n",
        "    ipfs_contentid = last_added\n",
        "    update_frontend()\n",
        "    return last_added\n",
        "\n",
        "def add_and_publish():\n",
        "  await_async(_add_and_publish())\n",
        "\n",
        "#loop = asyncio.get_event_loop()"
      ],
      "execution_count": null,
      "outputs": []
    },
    {
      "cell_type": "code",
      "metadata": {
        "id": "N85GXpdFqON7"
      },
      "source": [
        "#@title Connect to IPFS Pubsub\n",
        "\n",
        "async def subscribe(topic, handler=None):\n",
        "  print(\"subscribed to\",topic)\n",
        "  async for message in client.pubsub.sub(topic):\n",
        "    if handler:\n",
        "      await handler(message)\n",
        "    else:\n",
        "      print(\"No handler. Received IPFS pub message\",message)\n",
        "    break\n",
        "\n",
        "async def publish(topic, data):\n",
        "  print(\"publishing\",topic,data)\n",
        "  await client.pubsub.pub(topic, data)\n",
        "\n",
        "def on_frontend_data(handler):\n",
        "  async def handle(ipfs_message):\n",
        "    await handler(ipfs_message[\"data\"])\n",
        "  await_async(subscribe(ipfs_nodeid, handle))\n",
        "\n",
        "def update_frontend():\n",
        "  await_async(publish(ipfs_nodeid, ipfs_contentid))\n",
        "\n",
        "\n",
        "\n",
        "add_and_publish()"
      ],
      "execution_count": null,
      "outputs": []
    },
    {
      "cell_type": "code",
      "metadata": {
        "id": "A4TYvT7yoGvE",
        "cellView": "form"
      },
      "source": [
        "#@title Create connection to frontend UI\n",
        "\n",
        "import IPython\n",
        "from google.colab import output\n",
        "\n",
        "display(IPython.display.Javascript(f'''\n",
        "  const iframe = document.createElement(\"iframe\")\n",
        "  iframe.src = `http://localhost:3000/incolab.html?node={ipfs_nodeid},{ipfs_contentid}`\n",
        "\n",
        "  document.querySelector(\"#output-area\").appendChild(iframe)\n",
        "'''))\n",
        "\n"
      ],
      "execution_count": null,
      "outputs": []
    },
    {
      "cell_type": "code",
      "metadata": {
        "id": "CbBRFIXpvv30"
      },
      "source": [
        "async def update_ipfs_content(contentid):\n",
        "  global ipfs_contentid\n",
        "  contentid = contentid.decode(\"utf-8\")\n",
        "  \n",
        "  await client.get(contentid)\n",
        "  !cp -rv $contentid/* $ipfs_root\n",
        "  #!rm -r $contentid\n",
        "  ipfs_contentid = contentid\n",
        "\n",
        "on_frontend_data(update_ipfs_content)\n"
      ],
      "execution_count": null,
      "outputs": []
    },
    {
      "cell_type": "code",
      "metadata": {
        "id": "mD8tRZESGzeP"
      },
      "source": [
        "from glob import glob\n",
        "from os.path import basename\n",
        "for path in glob(f\"{ipfs_root}/input/*\"):\n",
        "  key = basename(path)\n",
        "  with open(path,'r') as f:\n",
        "    value = f.read()\n",
        "    parameters[key] = value\n",
        "\n",
        "print(\"New parameters\", parameters)"
      ],
      "execution_count": null,
      "outputs": []
    },
    {
      "cell_type": "markdown",
      "metadata": {
        "id": "GVkVyH_Fj8P8"
      },
      "source": [
        "## DISABLED! CODE (DEEP-DAZE)"
      ]
    },
    {
      "cell_type": "markdown",
      "metadata": {
        "id": "v7YHsTo-TByE"
      },
      "source": [
        "\n",
        "DISABLED\n",
        "\n",
        "```\n",
        "from subprocess import Popen, PIPE, STDOUT\n",
        "from sys import stdout\n",
        "from glob import glob\n",
        "import os\n",
        "import json\n",
        "import itertools\n",
        "from base64 import b64encode\n",
        "from time import sleep\n",
        "import requests\n",
        "import os\n",
        "from mimetypes import guess_type \n",
        "import re\n",
        "flatten = itertools.chain.from_iterable\n",
        "\n",
        "#parameters[\"text\"] = \"A black and white photo of Saeko with her new Elektron FM synthesizer\"\n",
        "def run(text, args, watch_media_paths=[\"./*.jpg\",\"./*.mp4\"]):\n",
        "  print(\"Running\",text)\n",
        "  for to_remove in watch_media_paths:\n",
        "    for filepath in glob(to_remove):\n",
        "      print(\"Deleting\",filepath,\"before starting.\")\n",
        "      os.remove(filepath)\n",
        "\n",
        "  arguments = args.split(\" \")\n",
        "  cmd = ['imagine'] + arguments +[text]\n",
        "  \n",
        "  p = Popen(cmd, stdout = PIPE, \n",
        "          stderr = STDOUT, shell = True)\n",
        "\n",
        "  found_media_files=[]\n",
        "  \n",
        "  while True:\n",
        "    line = p.stdout.readline()#\n",
        "    if not line: break\n",
        "\n",
        "    stdout.write(line)\n",
        "    with open(f\"{ipfs_root}/log\",\"w\") as log_out:\n",
        "      log_out.write(line.decode(\"utf-8\"))\n",
        "      log_out.flush()\n",
        "    #headers = { \n",
        "    #    \"params\": params,\n",
        "    #    \"text\": text\n",
        "    #}\n",
        "    #conn.send(body=line.decode(\"utf-8\"), headers=headers, destination='/topic/colabOut')\n",
        "    #print(\"new contentid\", client.add(ipfs_root, recursive=True))\n",
        "    \n",
        "    #continue\n",
        "    new_found_media_files = get_matching_files(watch_media_paths)\n",
        "    new_found_media_files.sort(key=os.path.getmtime)\n",
        "    added_media_files = list(set(new_found_media_files)-set(found_media_files))\n",
        "    found_media_files = new_found_media_files\n",
        "    pin=False\n",
        "    if len(added_media_files) > 0:\n",
        "      for added in added_media_files:\n",
        "        sleep(0.1)\n",
        "        if len(added) > 0:\n",
        "          !cp $added $ipfs_root/output\n",
        "          print(\"Adding:\", added,\"to ipfs root\")\n",
        "          pin=True\n",
        "    add_and_publish()    \n",
        "       \n",
        "\n",
        "def get_matching_files(search_paths):\n",
        "  return list(flatten([glob(search_path) for search_path in search_paths]))\n",
        "\n",
        "run(**parameters)\n",
        "\n",
        "sleep(1000000)\n",
        "```\n",
        "\n"
      ]
    },
    {
      "cell_type": "markdown",
      "metadata": {
        "id": "Tnuc_4p2TQP9"
      },
      "source": [
        "# New section"
      ]
    },
    {
      "cell_type": "code",
      "metadata": {
        "id": "I2TUR4jTc15O"
      },
      "source": [
        "\n",
        "import json\n",
        "def notebook_add_metadata(target_notebook):\n",
        "\n",
        "  with open(target_notebook, \"r\") as f:\n",
        "    j = json.load(f)\n",
        "\n",
        "  param_cell =1\n",
        "  j['cells'][param_cell]['metadata']['tags'] = ['parameters']\n",
        "  j['cells'][param_cell]['metadata']\n",
        "  j['metadata']['kernelspec']['language'] = 'python'\n",
        "\n",
        "  with open(target_notebook, \"w\") as f:\n",
        "    print(\"Writing modified notebook to\", target_notebook)\n",
        "    json.dump(j, f)\n",
        "\n",
        "!pip install gdown\n",
        "!gdown --id 1zOA0bUJ68zuZXcbCoN2LPNjnkvxzFpv_ -O latentvisions.ipynb\n",
        "\n",
        "notebook_add_metadata(\"./latentvisions.ipynb\")\n"
      ],
      "execution_count": null,
      "outputs": []
    },
    {
      "cell_type": "code",
      "metadata": {
        "id": "2qcR2Tgghrf3"
      },
      "source": [
        "#!pip install --upgrade pip\n",
        "!pip install papermill\n",
        "#!pip install --upgrade ipython\n",
        "#import papermill as pm\n",
        "from subprocess import Popen, PIPE, STDOUT\n",
        "from sys import stdout\n",
        "import os\n",
        "\n",
        "#parameters[\"text\"] = \"A black and white photo of Saeko with her new Elektron FM synthesizer\"\n",
        "def run(parameters, watch_media_paths=\"./*.jpg\"):\n",
        "  print(\"Running\",parameters)\n",
        " \n",
        "  for filepath in glob(watch_media_paths):\n",
        "    print(\"Deleting\",filepath,\"before starting.\")\n",
        "    os.remove(filepath)\n",
        "\n",
        "  _params = [[\"-p\", key, value] for key, value in parameters.items()]\n",
        "  params = [str(val) for sublist in _params for val in sublist]\n",
        "  #%run latentvisions.ipynb\n",
        "  #!papermill \"./latentvisions.ipynb\" ./output \n",
        "  cmd = [\"papermill\", \"/content/latentvisions.ipynb\",\"/content/latentvisions_output.ipynb\"] + params\n",
        "  print(\" \".join(cmd))\n",
        "  p = Popen(cmd, stdout = PIPE, \n",
        "          stderr = STDOUT, shell = False)\n",
        "\n",
        "  found_media_files=[]\n",
        "\n",
        "  while True:\n",
        "    line = p.stdout.readline()#\n",
        "    if not line: break\n",
        "\n",
        "    stdout.write(line)\n",
        "    with open(f\"{ipfs_root}/log\",\"w\") as log_out:\n",
        "      log_out.write(line.decode(\"utf-8\"))\n",
        "      log_out.flush()\n",
        "      \n",
        "    #headers = { \n",
        "    #    \"params\": params,\n",
        "    #    \"text\": text\n",
        "    #}\n",
        "    #conn.send(body=line.decode(\"utf-8\"), headers=headers, destination='/topic/colabOut')\n",
        "    #print(\"new contentid\", client.add(ipfs_root, recursive=True))\n",
        "    \n",
        "    #continue\n",
        "    new_found_media_files = glob(watch_media_paths)\n",
        "    new_found_media_files.sort(key=os.path.getmtime)\n",
        "    added_media_files = list(set(new_found_media_files)-set(found_media_files))\n",
        "    found_media_files = new_found_media_files\n",
        "    pin=False\n",
        "    if len(added_media_files) > 0:\n",
        "      for added in added_media_files:\n",
        "        sleep(0.1)\n",
        "        if len(added) > 0:\n",
        "          !cp $added $ipfs_root/output\n",
        "          print(\"Adding:\", added,\"to ipfs root\")\n",
        "          pin=True\n",
        "    add_and_publish()    \n",
        "        \n",
        "while True:\n",
        "  run(parameters,\"./taming_transformers/*.jpg\")"
      ],
      "execution_count": null,
      "outputs": []
    }
  ]
}