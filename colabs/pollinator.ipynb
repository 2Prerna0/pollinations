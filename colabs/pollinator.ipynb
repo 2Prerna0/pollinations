{
  "nbformat": 4,
  "nbformat_minor": 0,
  "metadata": {
    "colab": {
      "name": "Pollinator",
      "provenance": [],
      "collapsed_sections": [],
      "toc_visible": true,
      "machine_shape": "hm",
      "include_colab_link": true
    },
    "kernelspec": {
      "name": "python3",
      "display_name": "Python 3"
    },
    "accelerator": "GPU"
  },
  "cells": [
    {
      "cell_type": "markdown",
      "metadata": {
        "id": "view-in-github",
        "colab_type": "text"
      },
      "source": [
        "<a href=\"https://colab.research.google.com/github/voodoohop/pollinations/blob/dev/colabs/pollinator.ipynb\" target=\"_parent\"><img src=\"https://colab.research.google.com/assets/colab-badge.svg\" alt=\"Open In Colab\"/></a>"
      ]
    },
    {
      "cell_type": "markdown",
      "metadata": {
        "id": "z8RkOYkzmGDW"
      },
      "source": [
        "## Code (Frontend and IPFS Connection)"
      ]
    },
    {
      "cell_type": "code",
      "metadata": {
        "id": "RcWlME-DwhrS",
        "outputId": "42961049-8af6-4521-8447-0fab90d6b9b0",
        "colab": {
          "base_uri": "https://localhost:8080/",
          "height": 1000
        }
      },
      "source": [
        "#@title Config and Requirements\n",
        "!pip install coolname gdown papermill json5\n",
        "from coolname import generate_slug\n",
        "#ipfs_nodeid = generate_slug(2)#asyncio.run(loop.create_task(get_node_id()))\n",
        "IPFS_PEER = \"ipfs.pollinations.ai\"\n",
        "ipfs_root = \"/ipfs\"\n",
        "worker_root = \"/content\"\n",
        "print(f\"---Settings---\\nIPFS_ROOT: {ipfs_root}\\nIPFS_PEER: {IPFS_PEER}\")"
      ],
      "execution_count": 1,
      "outputs": [
        {
          "output_type": "stream",
          "text": [
            "Collecting coolname\n",
            "  Downloading https://files.pythonhosted.org/packages/25/43/64c0cec51944924f44c0788c329a2c6fde061428c97d7cba73de177ececd/coolname-1.1.0-py2.py3-none-any.whl\n",
            "Requirement already satisfied: gdown in /usr/local/lib/python3.7/dist-packages (3.6.4)\n",
            "Collecting papermill\n",
            "  Downloading https://files.pythonhosted.org/packages/ec/3b/55dbb2017142340a57937f1fad78c7d9373552540b42740e37fd6c40d761/papermill-2.3.3-py3-none-any.whl\n",
            "Collecting json5\n",
            "  Downloading https://files.pythonhosted.org/packages/2b/81/22bf51a5bc60dde18bb6164fd597f18ee683de8670e141364d9c432dd3cf/json5-0.9.5-py2.py3-none-any.whl\n",
            "Requirement already satisfied: tqdm in /usr/local/lib/python3.7/dist-packages (from gdown) (4.41.1)\n",
            "Requirement already satisfied: requests in /usr/local/lib/python3.7/dist-packages (from gdown) (2.23.0)\n",
            "Requirement already satisfied: six in /usr/local/lib/python3.7/dist-packages (from gdown) (1.15.0)\n",
            "Requirement already satisfied: pyyaml in /usr/local/lib/python3.7/dist-packages (from papermill) (3.13)\n",
            "Collecting ansiwrap\n",
            "  Downloading https://files.pythonhosted.org/packages/03/50/43e775a63e0d632d9be3b3fa1c9b2cbaf3b7870d203655710a3426f47c26/ansiwrap-0.8.4-py2.py3-none-any.whl\n",
            "Requirement already satisfied: click in /usr/local/lib/python3.7/dist-packages (from papermill) (7.1.2)\n",
            "Requirement already satisfied: nbclient>=0.2.0 in /usr/local/lib/python3.7/dist-packages (from papermill) (0.5.3)\n",
            "Collecting tenacity\n",
            "  Downloading https://files.pythonhosted.org/packages/41/ee/d6eddff86161c6a3a1753af4a66b06cbc508d3b77ca4698cd0374cd66531/tenacity-7.0.0-py2.py3-none-any.whl\n",
            "Requirement already satisfied: entrypoints in /usr/local/lib/python3.7/dist-packages (from papermill) (0.3)\n",
            "Requirement already satisfied: nbformat>=5.1.2 in /usr/local/lib/python3.7/dist-packages (from papermill) (5.1.3)\n",
            "Collecting black\n",
            "\u001b[?25l  Downloading https://files.pythonhosted.org/packages/0f/a4/b521c6e974c90934674f42e44f91c7d75f1f0bfa5faa4101281cfb506247/black-21.5b2-py3-none-any.whl (138kB)\n",
            "\u001b[K     |████████████████████████████████| 143kB 9.1MB/s \n",
            "\u001b[?25hRequirement already satisfied: idna<3,>=2.5 in /usr/local/lib/python3.7/dist-packages (from requests->gdown) (2.10)\n",
            "Requirement already satisfied: certifi>=2017.4.17 in /usr/local/lib/python3.7/dist-packages (from requests->gdown) (2020.12.5)\n",
            "Requirement already satisfied: chardet<4,>=3.0.2 in /usr/local/lib/python3.7/dist-packages (from requests->gdown) (3.0.4)\n",
            "Requirement already satisfied: urllib3!=1.25.0,!=1.25.1,<1.26,>=1.21.1 in /usr/local/lib/python3.7/dist-packages (from requests->gdown) (1.24.3)\n",
            "Collecting textwrap3>=0.9.2\n",
            "  Downloading https://files.pythonhosted.org/packages/77/9c/a53e561d496ee5866bbeea4d3a850b3b545ed854f8a21007c1e0d872e94d/textwrap3-0.9.2-py2.py3-none-any.whl\n",
            "Requirement already satisfied: nest-asyncio in /usr/local/lib/python3.7/dist-packages (from nbclient>=0.2.0->papermill) (1.5.1)\n",
            "Requirement already satisfied: async-generator in /usr/local/lib/python3.7/dist-packages (from nbclient>=0.2.0->papermill) (1.10)\n",
            "Collecting jupyter-client>=6.1.5\n",
            "\u001b[?25l  Downloading https://files.pythonhosted.org/packages/77/e8/c3cf72a32a697256608d5fa96360c431adec6e1c6709ba7f13f99ff5ee04/jupyter_client-6.1.12-py3-none-any.whl (112kB)\n",
            "\u001b[K     |████████████████████████████████| 122kB 49.2MB/s \n",
            "\u001b[?25hRequirement already satisfied: traitlets>=4.2 in /usr/local/lib/python3.7/dist-packages (from nbclient>=0.2.0->papermill) (5.0.5)\n",
            "Requirement already satisfied: jupyter-core in /usr/local/lib/python3.7/dist-packages (from nbformat>=5.1.2->papermill) (4.7.1)\n",
            "Requirement already satisfied: ipython-genutils in /usr/local/lib/python3.7/dist-packages (from nbformat>=5.1.2->papermill) (0.2.0)\n",
            "Requirement already satisfied: jsonschema!=2.5.0,>=2.4 in /usr/local/lib/python3.7/dist-packages (from nbformat>=5.1.2->papermill) (2.6.0)\n",
            "Requirement already satisfied: appdirs in /usr/local/lib/python3.7/dist-packages (from black->papermill) (1.4.4)\n",
            "Requirement already satisfied: typing-extensions>=3.7.4; python_version < \"3.8\" in /usr/local/lib/python3.7/dist-packages (from black->papermill) (3.7.4.3)\n",
            "Collecting mypy-extensions>=0.4.3\n",
            "  Downloading https://files.pythonhosted.org/packages/5c/eb/975c7c080f3223a5cdaff09612f3a5221e4ba534f7039db34c35d95fa6a5/mypy_extensions-0.4.3-py2.py3-none-any.whl\n",
            "Collecting pathspec<1,>=0.8.1\n",
            "  Downloading https://files.pythonhosted.org/packages/29/29/a465741a3d97ea3c17d21eaad4c64205428bde56742360876c4391f930d4/pathspec-0.8.1-py2.py3-none-any.whl\n",
            "Collecting typed-ast>=1.4.2; python_version < \"3.8\"\n",
            "\u001b[?25l  Downloading https://files.pythonhosted.org/packages/65/b3/573d2f1fecbbe8f82a8d08172e938c247f99abe1be3bef3da2efaa3810bf/typed_ast-1.4.3-cp37-cp37m-manylinux1_x86_64.whl (743kB)\n",
            "\u001b[K     |████████████████████████████████| 747kB 34.2MB/s \n",
            "\u001b[?25hRequirement already satisfied: toml>=0.10.1 in /usr/local/lib/python3.7/dist-packages (from black->papermill) (0.10.2)\n",
            "Collecting regex>=2020.1.8\n",
            "\u001b[?25l  Downloading https://files.pythonhosted.org/packages/c4/28/5f08d8841013ccf72cd95dfff2500fe7fb39467af12c5e7b802d8381d811/regex-2021.4.4-cp37-cp37m-manylinux2014_x86_64.whl (720kB)\n",
            "\u001b[K     |████████████████████████████████| 727kB 39.1MB/s \n",
            "\u001b[?25hRequirement already satisfied: pyzmq>=13 in /usr/local/lib/python3.7/dist-packages (from jupyter-client>=6.1.5->nbclient>=0.2.0->papermill) (22.0.3)\n",
            "Requirement already satisfied: python-dateutil>=2.1 in /usr/local/lib/python3.7/dist-packages (from jupyter-client>=6.1.5->nbclient>=0.2.0->papermill) (2.8.1)\n",
            "Requirement already satisfied: tornado>=4.1 in /usr/local/lib/python3.7/dist-packages (from jupyter-client>=6.1.5->nbclient>=0.2.0->papermill) (5.1.1)\n",
            "Installing collected packages: coolname, textwrap3, ansiwrap, tenacity, mypy-extensions, pathspec, typed-ast, regex, black, papermill, json5, jupyter-client\n",
            "  Found existing installation: regex 2019.12.20\n",
            "    Uninstalling regex-2019.12.20:\n",
            "      Successfully uninstalled regex-2019.12.20\n",
            "  Found existing installation: jupyter-client 5.3.5\n",
            "    Uninstalling jupyter-client-5.3.5:\n",
            "      Successfully uninstalled jupyter-client-5.3.5\n",
            "Successfully installed ansiwrap-0.8.4 black-21.5b2 coolname-1.1.0 json5-0.9.5 jupyter-client-6.1.12 mypy-extensions-0.4.3 papermill-2.3.3 pathspec-0.8.1 regex-2021.4.4 tenacity-7.0.0 textwrap3-0.9.2 typed-ast-1.4.3\n"
          ],
          "name": "stdout"
        },
        {
          "output_type": "display_data",
          "data": {
            "application/vnd.colab-display-data+json": {
              "pip_warning": {
                "packages": [
                  "jupyter_client"
                ]
              }
            }
          },
          "metadata": {
            "tags": []
          }
        },
        {
          "output_type": "stream",
          "text": [
            "---Settings---\n",
            "IPFS_ROOT: /ipfs\n",
            "IPFS_PEER: ipfs.pollinations.ai\n"
          ],
          "name": "stdout"
        }
      ]
    },
    {
      "cell_type": "code",
      "metadata": {
        "id": "pWfAE_iqBMdB",
        "outputId": "c9b923c0-3bf6-435d-cabf-19afe4b683c9",
        "colab": {
          "base_uri": "https://localhost:8080/"
        }
      },
      "source": [
        "#@title Empty and create ipfs root: */content/ipfs*\n",
        "\n",
        "\n",
        "\n",
        "!rm -r $ipfs_root\n",
        "!mkdir -p $ipfs_root/input\n",
        "!mkdir -p $ipfs_root/output\n",
        "!mkdir -p $worker_root\n",
        "!echo \"Created IPFS resource\" > $ipfs_root/output/log\n",
        "\n"
      ],
      "execution_count": 2,
      "outputs": [
        {
          "output_type": "stream",
          "text": [
            "rm: cannot remove '/ipfs': No such file or directory\n"
          ],
          "name": "stdout"
        }
      ]
    },
    {
      "cell_type": "code",
      "metadata": {
        "id": "9j1zUbMN4VDP",
        "outputId": "3578b7f1-069a-43b4-fdda-77ffdfe42fca",
        "colab": {
          "base_uri": "https://localhost:8080/"
        }
      },
      "source": [
        "#@title Install IPFS\n",
        "\n",
        "%cd /content\n",
        "!git clone https://github.com/voodoohop/pollinations.git\n",
        "%cd /content/pollinations/app\n",
        "!git pull\n",
        "!git checkout dev \n",
        "!git pull\n",
        "!npm run install_backend\n",
        "%cd -\n",
        "\n"
      ],
      "execution_count": 3,
      "outputs": [
        {
          "output_type": "stream",
          "text": [
            "/content\n",
            "Cloning into 'pollinations'...\n",
            "remote: Enumerating objects: 2214, done.\u001b[K\n",
            "remote: Counting objects: 100% (606/606), done.\u001b[K\n",
            "remote: Compressing objects: 100% (481/481), done.\u001b[K\n",
            "remote: Total 2214 (delta 413), reused 238 (delta 121), pack-reused 1608\u001b[K\n",
            "Receiving objects: 100% (2214/2214), 18.70 MiB | 31.60 MiB/s, done.\n",
            "Resolving deltas: 100% (1456/1456), done.\n",
            "/content/pollinations/app\n",
            "Already up to date.\n",
            "Branch 'dev' set up to track remote branch 'dev' from 'origin'.\n",
            "Switched to a new branch 'dev'\n",
            "Already up to date.\n",
            "\n",
            "> pollinations@0.4.5 install_backend /content/pollinations/app\n",
            "> cp -v dist/pollinate.js /usr/local/bin/pollinate\n",
            "\n",
            "'dist/pollinate.js' -> '/usr/local/bin/pollinate'\n",
            "/content\n"
          ],
          "name": "stdout"
        }
      ]
    },
    {
      "cell_type": "code",
      "metadata": {
        "id": "hH76cPjgwZBJ",
        "outputId": "90d1da0d-bd25-4010-9780-cd66418d8a1d",
        "colab": {
          "base_uri": "https://localhost:8080/"
        }
      },
      "source": [
        "!/content/pollinations/ipfs/ipfsd_install_colab.sh\n",
        "!nohup  /content/pollinations/ipfs/ipfsd_forever.sh > $ipfs_root/output/log &\n",
        "!sleep 5\n",
        "\n"
      ],
      "execution_count": 4,
      "outputs": [
        {
          "output_type": "stream",
          "text": [
            "--2021-06-02 13:54:21--  https://dist.ipfs.io/go-ipfs/v0.8.0/go-ipfs_v0.8.0_linux-amd64.tar.gz\n",
            "Resolving dist.ipfs.io (dist.ipfs.io)... 209.94.78.1, 2602:fea2:3::1\n",
            "Connecting to dist.ipfs.io (dist.ipfs.io)|209.94.78.1|:443... connected.\n",
            "HTTP request sent, awaiting response... 200 OK\n",
            "Length: 25904633 (25M) [application/gzip]\n",
            "Saving to: ‘go-ipfs_v0.8.0_linux-amd64.tar.gz’\n",
            "\n",
            "go-ipfs_v0.8.0_linu 100%[===================>]  24.70M   111MB/s    in 0.2s    \n",
            "\n",
            "2021-06-02 13:54:22 (111 MB/s) - ‘go-ipfs_v0.8.0_linux-amd64.tar.gz’ saved [25904633/25904633]\n",
            "\n",
            "go-ipfs/install.sh\n",
            "go-ipfs/ipfs\n",
            "go-ipfs/LICENSE\n",
            "go-ipfs/LICENSE-APACHE\n",
            "go-ipfs/LICENSE-MIT\n",
            "go-ipfs/README.md\n",
            "Moved ./ipfs to /usr/local/bin\n",
            "/content\n",
            "generating ED25519 keypair...done\n",
            "peer identity: 12D3KooWFJ4qmjkJmeTabSxfCBysQhDcBn7vbT6wpoKa5KM8eirz\n",
            "initializing IPFS node at /root/.ipfs\n",
            "to get started, enter:\n",
            "\n",
            "\tipfs cat /ipfs/QmQPeNsJPyVWPFDVHb77w8G42Fvo15z4bG2X8D2GhfbSXc/readme\n",
            "\n",
            "nohup: redirecting stderr to stdout\n"
          ],
          "name": "stdout"
        }
      ]
    },
    {
      "cell_type": "code",
      "metadata": {
        "id": "I2TUR4jTc15O",
        "outputId": "717f5bd0-4f05-4498-ab93-9c822da8c6cd",
        "colab": {
          "base_uri": "https://localhost:8080/"
        }
      },
      "source": [
        "from os.path import join\n",
        "\n",
        "\n",
        "notebook_path = join(ipfs_root,\"notebook.ipynb\")\n",
        "\n"
      ],
      "execution_count": 5,
      "outputs": [
        {
          "output_type": "stream",
          "text": [
            "Downloading...\n",
            "From: https://drive.google.com/uc?id=1TCSkQvuJbvhWyB5CSC39n5yqIXdwVLq6\n",
            "To: /ipfs/notebook.ipynb\n",
            "\r  0% 0.00/16.4k [00:00<?, ?B/s]\r100% 16.4k/16.4k [00:00<00:00, 27.8MB/s]\n"
          ],
          "name": "stdout"
        }
      ]
    },
    {
      "cell_type": "code",
      "metadata": {
        "id": "fkHiUZqQ8EtE",
        "outputId": "836476b5-494a-4181-e36c-78ac653707be",
        "colab": {
          "base_uri": "https://localhost:8080/"
        }
      },
      "source": [
        "node_id=!ipfs id -f=\"<id>\\n\"\n",
        "node_id=node_id[0]\n",
        "\n",
        "print(\"---Node ID---:\", node_id)"
      ],
      "execution_count": 6,
      "outputs": [
        {
          "output_type": "stream",
          "text": [
            "---Node ID---: 12D3KooWFJ4qmjkJmeTabSxfCBysQhDcBn7vbT6wpoKa5KM8eirz\n"
          ],
          "name": "stdout"
        }
      ]
    },
    {
      "cell_type": "code",
      "metadata": {
        "id": "A4TYvT7yoGvE",
        "outputId": "36d3575d-0932-41d5-a119-7ca2812ad29f",
        "colab": {
          "base_uri": "https://localhost:8080/",
          "height": 175
        }
      },
      "source": [
        "#@title Create connection to frontend UI\n",
        "\n",
        "import IPython\n",
        "from google.colab import output\n",
        "\n",
        "display(IPython.display.Javascript(f'''\n",
        "  const iframe = document.createElement(\"iframe\")\n",
        "  //iframe.src = `https://pollinations.ai/incolab.html?node={node_id}`\n",
        "  iframe.src = `http://localhost:3000/incolab.html?node={node_id}`\n",
        "  document.querySelector(\"#output-area\").appendChild(iframe)\n",
        "'''))\n",
        "\n",
        "!sleep 5\n"
      ],
      "execution_count": 7,
      "outputs": [
        {
          "output_type": "display_data",
          "data": {
            "application/javascript": [
              "\n",
              "  const iframe = document.createElement(\"iframe\")\n",
              "  //iframe.src = `https://pollinations.ai/incolab.html?node=12D3KooWFJ4qmjkJmeTabSxfCBysQhDcBn7vbT6wpoKa5KM8eirz`\n",
              "  iframe.src = `http://localhost:3000/incolab.html?node=12D3KooWFJ4qmjkJmeTabSxfCBysQhDcBn7vbT6wpoKa5KM8eirz`\n",
              "  document.querySelector(\"#output-area\").appendChild(iframe)\n"
            ],
            "text/plain": [
              "<IPython.core.display.Javascript object>"
            ]
          },
          "metadata": {
            "tags": []
          }
        }
      ]
    },
    {
      "cell_type": "code",
      "metadata": {
        "id": "BGPvoHzKKpRR"
      },
      "source": [
        "# !DEBUG=* pollinate -p {ipfs_root} --ipns --send --once"
      ],
      "execution_count": 8,
      "outputs": []
    },
    {
      "cell_type": "code",
      "metadata": {
        "id": "Dh8r_667U5gc",
        "outputId": "0b6ab3e2-8ff5-448b-d8cc-f1152948bb39",
        "colab": {
          "base_uri": "https://localhost:8080/"
        }
      },
      "source": [
        "!DEBUG=* pollinate -p {ipfs_root} --ipns --receive --once"
      ],
      "execution_count": 9,
      "outputs": [
        {
          "output_type": "stream",
          "text": [
            "  \u001b[32;1mipfsConnector \u001b[0mNodeID Promise { <pending> } \u001b[32m+0ms\u001b[0m\n",
            "  \u001b[31;1mipfsWatch \u001b[0mCLI options {\r\n",
            "  path: '/ipfs',\r\n",
            "  receive: true,\r\n",
            "  send: false,\r\n",
            "  once: true,\r\n",
            "  ipns: true,\r\n",
            "  nodeid: null\r\n",
            "} \u001b[31m+0ms\u001b[0m\r\n",
            "  \u001b[31;1mipfsWatch \u001b[0mIPNS activated. subscring to CIDs \u001b[31m+0ms\u001b[0m\r\n",
            "  \u001b[32;1mipfsConnector \u001b[0mLocalhost:5001 is reachable. Connecting... \u001b[32m+10ms\u001b[0m\r\n",
            "  \u001b[32;1mipfsConnector \u001b[0mSubscribing to pubsub events from 12D3KooWFJ4qmjkJmeTabSxfCBysQhDcBn7vbT6wpoKa5KM8eirz \u001b[32m+63ms\u001b[0m\n",
            "  \u001b[31;1mipfsWatch \u001b[0mremoteCID from pubsub QmNi2vQmkEHQJ3D5LzjhJWAgYaUrykaGPzWMHaWYsfp9zC \u001b[31m+8m\u001b[0m\n",
            "  \u001b[31;1mipfsWatch \u001b[0mProcessing remote CID QmNi2vQmkEHQJ3D5LzjhJWAgYaUrykaGPzWMHaWYsfp9zC \u001b[31m+1ms\u001b[0m\n",
            "  \u001b[34;1mipfsState \u001b[0mGetting state for CID QmNi2vQmkEHQJ3D5LzjhJWAgYaUrykaGPzWMHaWYsfp9zC \u001b[34m+0ms\u001b[0m\n",
            "  \u001b[31;1mipfsState:_getIPFSState(/) \u001b[0mGetting state for dir root QmNi2vQmkEHQJ3D5LzjhJWAgYaUrykaGPzWMHaWYsfp9zC \u001b[31m+0ms\u001b[0m\n",
            "  \u001b[36;1mutils:ipfsls \u001b[0m--- Calling  ipfsls with input QmNi2vQmkEHQJ3D5LzjhJWAgYaUrykaGPzWMHaWYsfp9zC \u001b[36m+0ms\u001b[0m\n",
            "  \u001b[36;1mutils:ipfsls \u001b[0m--- In: QmNi2vQmkEHQJ3D5LzjhJWAgYaUrykaGPzWMHaWYsfp9zC \u001b[36m+0ms\u001b[0m\n",
            "  \u001b[36;1mutils:ipfsls \u001b[0m--- Out: ipfsls : [\n",
            "  {\n",
            "    name: 'input',\n",
            "    path: 'QmNi2vQmkEHQJ3D5LzjhJWAgYaUrykaGPzWMHaWYsfp9zC/input',\n",
            "    cid: 'QmQQSvr9943BX5KQhHGT8XjP3eBX9TNJ8TVPJ1Phw6w4vS',\n",
            "    type: 'dir'\n",
            "  },\n",
            "  {\n",
            "    name: 'notebook.ipynb',\n",
            "    path: 'QmNi2vQmkEHQJ3D5LzjhJWAgYaUrykaGPzWMHaWYsfp9zC/notebook.ipynb',\n",
            "    cid: 'QmZbASbaSgKAUjZuhhBMLD8sYAW1L5vGFKSufG3rTAW3hk',\n",
            "    type: 'file'\n",
            "  },\n",
            "  {\n",
            "    name: 'output',\n",
            "    path: 'QmNi2vQmkEHQJ3D5LzjhJWAgYaUrykaGPzWMHaWYsfp9zC/output',\n",
            "    cid: 'QmeLujTWrHDwm9gBTuUiaaMrUU42rXjofNkSALzWQHhNbc',\n",
            "    type: 'dir'\n",
            "  },\n",
            "  {\n",
            "    name: 'parameters.json',\n",
            "    path: 'QmNi2vQmkEHQJ3D5LzjhJWAgYaUrykaGPzWMHaWYsfp9zC/parameters.json',\n",
            "    cid: 'QmUbSoE72CRUaWrTD52cnAX9Rz3VtPTB65fQtDrRtdqoYL',\n",
            "    type: 'file'\n",
            "  }\n",
            "] \u001b[36m+664ms\u001b[0m\n",
            "  \u001b[31;1mipfsState:_getIPFSState(/) \u001b[0mGot files for root QmNi2vQmkEHQJ3D5LzjhJWAgYaUrykaGPzWMHaWYsfp9zC [\n",
            "  {\n",
            "    name: 'input',\n",
            "    path: 'QmNi2vQmkEHQJ3D5LzjhJWAgYaUrykaGPzWMHaWYsfp9zC/input',\n",
            "    cid: 'QmQQSvr9943BX5KQhHGT8XjP3eBX9TNJ8TVPJ1Phw6w4vS',\n",
            "    type: 'dir'\n",
            "  },\n",
            "  {\n",
            "    name: 'notebook.ipynb',\n",
            "    path: 'QmNi2vQmkEHQJ3D5LzjhJWAgYaUrykaGPzWMHaWYsfp9zC/notebook.ipynb',\n",
            "    cid: 'QmZbASbaSgKAUjZuhhBMLD8sYAW1L5vGFKSufG3rTAW3hk',\n",
            "    type: 'file'\n",
            "  },\n",
            "  {\n",
            "    name: 'output',\n",
            "    path: 'QmNi2vQmkEHQJ3D5LzjhJWAgYaUrykaGPzWMHaWYsfp9zC/output',\n",
            "    cid: 'QmeLujTWrHDwm9gBTuUiaaMrUU42rXjofNkSALzWQHhNbc',\n",
            "    type: 'dir'\n",
            "  },\n",
            "  {\n",
            "    name: 'parameters.json',\n",
            "    path: 'QmNi2vQmkEHQJ3D5LzjhJWAgYaUrykaGPzWMHaWYsfp9zC/parameters.json',\n",
            "    cid: 'QmUbSoE72CRUaWrTD52cnAX9Rz3VtPTB65fQtDrRtdqoYL',\n",
            "    type: 'file'\n",
            "  }\n",
            "] \u001b[31m+665ms\u001b[0m\n",
            "  \u001b[34;1mipfsState:_getIPFSState(/input) \u001b[0mGetting state for dir input QmQQSvr9943BX5KQhHGT8XjP3eBX9TNJ8TVPJ1Phw6w4vS \u001b[34m+0ms\u001b[0m\n",
            "  \u001b[36;1mutils:ipfsls \u001b[0m--- Calling  ipfsls with input QmQQSvr9943BX5KQhHGT8XjP3eBX9TNJ8TVPJ1Phw6w4vS \u001b[36m+0ms\u001b[0m\n",
            "  \u001b[36;1mutils:ipfsls \u001b[0m--- In: QmQQSvr9943BX5KQhHGT8XjP3eBX9TNJ8TVPJ1Phw6w4vS \u001b[36m+1ms\u001b[0m\n",
            "  \u001b[33;1mipfsState:_getIPFSState(/notebook.ipynb) \u001b[0mGetting state for file notebook.ipynb QmZbASbaSgKAUjZuhhBMLD8sYAW1L5vGFKSufG3rTAW3hk \u001b[33m+0ms\u001b[0m\n",
            "  \u001b[31;1mipfsWatch:processFile(/notebook.ipynb) \u001b[0mstarted \u001b[31m+0ms\u001b[0m\n",
            "  \u001b[31;1mipfsWatch:processFile(/notebook.ipynb) \u001b[0mwriteFile /ipfs/notebook.ipynb QmZbASbaSgKAUjZuhhBMLD8sYAW1L5vGFKSufG3rTAW3hk queued \u001b[31m+0ms\u001b[0m\n",
            "  \u001b[35;1mipfsState:_getIPFSState(/output) \u001b[0mGetting state for dir output QmeLujTWrHDwm9gBTuUiaaMrUU42rXjofNkSALzWQHhNbc \u001b[35m+0ms\u001b[0m\n",
            "  \u001b[36;1mutils:ipfsls \u001b[0m--- Calling  ipfsls with input QmeLujTWrHDwm9gBTuUiaaMrUU42rXjofNkSALzWQHhNbc \u001b[36m+0ms\u001b[0m\n",
            "  \u001b[36;1mutils:ipfsls \u001b[0m--- In: QmeLujTWrHDwm9gBTuUiaaMrUU42rXjofNkSALzWQHhNbc \u001b[36m+1ms\u001b[0m\n",
            "  \u001b[32;1mipfsState:_getIPFSState(/parameters.json) \u001b[0mGetting state for file parameters.json QmUbSoE72CRUaWrTD52cnAX9Rz3VtPTB65fQtDrRtdqoYL \u001b[32m+0ms\u001b[0m\n",
            "  \u001b[36;1mipfsWatch:processFile(/parameters.json) \u001b[0mstarted \u001b[36m+0ms\u001b[0m\n",
            "  \u001b[36;1mipfsWatch:processFile(/parameters.json) \u001b[0mwriteFile /ipfs/parameters.json QmUbSoE72CRUaWrTD52cnAX9Rz3VtPTB65fQtDrRtdqoYL queued \u001b[36m+0ms\u001b[0m\n",
            "  \u001b[33;1mipfsConnector:ipfsGet(QmZbASbaSgKAUjZuhhBMLD8sYAW1L5vGFKSufG3rTAW3hk) \u001b[0mGot all chunks. Total: 2 \u001b[33m+0ms\u001b[0m\n",
            "  \u001b[33;1mipfsConnector:ipfsGet(QmZbASbaSgKAUjZuhhBMLD8sYAW1L5vGFKSufG3rTAW3hk) \u001b[0mReceived content length: 17008 \u001b[33m+1ms\u001b[0m\n",
            "  \u001b[31;1mipfsWatch:processFile(/notebook.ipynb) \u001b[0mwritefile content 17008 \u001b[31m+8ms\u001b[0m\n",
            "  \u001b[31;1mipfsWatch \u001b[0mcreating folder if it does not exist /ipfs \u001b[31m+674ms\u001b[0m\n",
            "  \u001b[32;1mipfsConnector:ipfsGet(QmUbSoE72CRUaWrTD52cnAX9Rz3VtPTB65fQtDrRtdqoYL) \u001b[0mGot all chunks. Total: 1 \u001b[32m+0ms\u001b[0m\n",
            "  \u001b[32;1mipfsConnector:ipfsGet(QmUbSoE72CRUaWrTD52cnAX9Rz3VtPTB65fQtDrRtdqoYL) \u001b[0mReceived content length: 240 \u001b[32m+0ms\u001b[0m\n",
            "  \u001b[36;1mipfsWatch:processFile(/parameters.json) \u001b[0mwritefile content 240 \u001b[36m+8ms\u001b[0m\n",
            "  \u001b[31;1mipfsWatch \u001b[0mcreating folder if it does not exist /ipfs \u001b[31m+2ms\u001b[0m\n",
            "  \u001b[31;1mipfsWatch \u001b[0mwriting file of length undefined to folder /ipfs/notebook.ipynb \u001b[31m+0ms\u001b[0m\n",
            "  \u001b[31;1mipfsWatch:processFile(/notebook.ipynb) \u001b[0mdone \u001b[31m+2ms\u001b[0m\n",
            "  \u001b[33;1mipfsState:_getIPFSState(/notebook.ipynb) \u001b[0mgot result of processFile /ipfs/notebook.ipynb \u001b[33m+11ms\u001b[0m\n",
            "  \u001b[31;1mipfsWatch \u001b[0mwriting file of length undefined to folder /ipfs/parameters.json \u001b[31m+1ms\u001b[0m\n",
            "  \u001b[36;1mipfsWatch:processFile(/parameters.json) \u001b[0mdone \u001b[36m+2ms\u001b[0m\n",
            "  \u001b[32;1mipfsState:_getIPFSState(/parameters.json) \u001b[0mgot result of processFile /ipfs/parameters.json \u001b[32m+10ms\u001b[0m\n",
            "  \u001b[36;1mutils:ipfsls \u001b[0m--- Out: ipfsls : [\n",
            "  {\n",
            "    name: 'log',\n",
            "    path: 'QmeLujTWrHDwm9gBTuUiaaMrUU42rXjofNkSALzWQHhNbc/log',\n",
            "    cid: 'QmbFMke1KXqnYyBBWxB74N4c5SBnJMVAiMNRcGu6x1AwQH',\n",
            "    type: 'file'\n",
            "  }\n",
            "] \u001b[36m+52ms\u001b[0m\n",
            "  \u001b[35;1mipfsState:_getIPFSState(/output) \u001b[0mGot files for output QmeLujTWrHDwm9gBTuUiaaMrUU42rXjofNkSALzWQHhNbc [\n",
            "  {\n",
            "    name: 'log',\n",
            "    path: 'QmeLujTWrHDwm9gBTuUiaaMrUU42rXjofNkSALzWQHhNbc/log',\n",
            "    cid: 'QmbFMke1KXqnYyBBWxB74N4c5SBnJMVAiMNRcGu6x1AwQH',\n",
            "    type: 'file'\n",
            "  }\n",
            "] \u001b[35m+56ms\u001b[0m\n",
            "  \u001b[32;1mipfsState:_getIPFSState(/output/log) \u001b[0mGetting state for file log QmbFMke1KXqnYyBBWxB74N4c5SBnJMVAiMNRcGu6x1AwQH \u001b[32m+0ms\u001b[0m\n",
            "  \u001b[36;1mipfsWatch:processFile(/output/log) \u001b[0mstarted \u001b[36m+0ms\u001b[0m\n",
            "  \u001b[36;1mipfsWatch:processFile(/output/log) \u001b[0mwriteFile /ipfs/output/log QmbFMke1KXqnYyBBWxB74N4c5SBnJMVAiMNRcGu6x1AwQH queued \u001b[36m+0ms\u001b[0m\n",
            "  \u001b[36;1mipfsConnector:ipfsGet(QmbFMke1KXqnYyBBWxB74N4c5SBnJMVAiMNRcGu6x1AwQH) \u001b[0mGot all chunks. Total: 0 \u001b[36m+0ms\u001b[0m\n",
            "  \u001b[36;1mipfsConnector:ipfsGet(QmbFMke1KXqnYyBBWxB74N4c5SBnJMVAiMNRcGu6x1AwQH) \u001b[0mReceived content length: 0 \u001b[36m+0ms\u001b[0m\n",
            "  \u001b[36;1mipfsWatch:processFile(/output/log) \u001b[0mwritefile content 0 \u001b[36m+2ms\u001b[0m\n",
            "  \u001b[31;1mipfsWatch \u001b[0mcreating folder if it does not exist /ipfs/output \u001b[31m+47ms\u001b[0m\n",
            "  \u001b[31;1mipfsWatch \u001b[0mwriting file of length undefined to folder /ipfs/output/log \u001b[31m+0ms\u001b[0m\n",
            "  \u001b[36;1mipfsWatch:processFile(/output/log) \u001b[0mdone \u001b[36m+1ms\u001b[0m\n",
            "  \u001b[32;1mipfsState:_getIPFSState(/output/log) \u001b[0mgot result of processFile /ipfs/output/log \u001b[32m+3ms\u001b[0m\n",
            "  \u001b[35;1mipfsState:_getIPFSState(/output) \u001b[0mcontents { log: '/ipfs/output/log' } \u001b[35m+3ms\u001b[0m\n",
            "  \u001b[36;1mutils:ipfsls \u001b[0m--- Out: ipfsls : [\n",
            "  {\n",
            "    name: 'text',\n",
            "    path: 'QmQQSvr9943BX5KQhHGT8XjP3eBX9TNJ8TVPJ1Phw6w4vS/text',\n",
            "    cid: 'QmR12L9qggEeRaUwRvYieyxttzKk3kf3vF1ShfaE9py9FW',\n",
            "    type: 'file'\n",
            "  }\n",
            "] \u001b[36m+118ms\u001b[0m\n",
            "  \u001b[34;1mipfsState:_getIPFSState(/input) \u001b[0mGot files for input QmQQSvr9943BX5KQhHGT8XjP3eBX9TNJ8TVPJ1Phw6w4vS [\n",
            "  {\n",
            "    name: 'text',\n",
            "    path: 'QmQQSvr9943BX5KQhHGT8XjP3eBX9TNJ8TVPJ1Phw6w4vS/text',\n",
            "    cid: 'QmR12L9qggEeRaUwRvYieyxttzKk3kf3vF1ShfaE9py9FW',\n",
            "    type: 'file'\n",
            "  }\n",
            "] \u001b[34m+120ms\u001b[0m\n",
            "  \u001b[32;1mipfsState:_getIPFSState(/input/text) \u001b[0mGetting state for file text QmR12L9qggEeRaUwRvYieyxttzKk3kf3vF1ShfaE9py9FW \u001b[32m+0ms\u001b[0m\n",
            "  \u001b[36;1mipfsWatch:processFile(/input/text) \u001b[0mstarted \u001b[36m+0ms\u001b[0m\n",
            "  \u001b[36;1mipfsWatch:processFile(/input/text) \u001b[0mwriteFile /ipfs/input/text QmR12L9qggEeRaUwRvYieyxttzKk3kf3vF1ShfaE9py9FW queued \u001b[36m+0ms\u001b[0m\n",
            "  \u001b[32;1mipfsConnector:ipfsGet(QmR12L9qggEeRaUwRvYieyxttzKk3kf3vF1ShfaE9py9FW) \u001b[0mGot all chunks. Total: 1 \u001b[32m+0ms\u001b[0m\n",
            "  \u001b[32;1mipfsConnector:ipfsGet(QmR12L9qggEeRaUwRvYieyxttzKk3kf3vF1ShfaE9py9FW) \u001b[0mReceived content length: 78 \u001b[32m+0ms\u001b[0m\n",
            "  \u001b[36;1mipfsWatch:processFile(/input/text) \u001b[0mwritefile content 78 \u001b[36m+2ms\u001b[0m\n",
            "  \u001b[31;1mipfsWatch \u001b[0mcreating folder if it does not exist /ipfs/input \u001b[31m+63ms\u001b[0m\n",
            "  \u001b[31;1mipfsWatch \u001b[0mwriting file of length undefined to folder /ipfs/input/text \u001b[31m+1ms\u001b[0m\n",
            "  \u001b[36;1mipfsWatch:processFile(/input/text) \u001b[0mdone \u001b[36m+1ms\u001b[0m\n",
            "  \u001b[32;1mipfsState:_getIPFSState(/input/text) \u001b[0mgot result of processFile /ipfs/input/text \u001b[32m+3ms\u001b[0m\n",
            "  \u001b[34;1mipfsState:_getIPFSState(/input) \u001b[0mcontents { text: '/ipfs/input/text' } \u001b[34m+3ms\u001b[0m\n",
            "  \u001b[31;1mipfsState:_getIPFSState(/) \u001b[0mcontents {\n",
            "  input: { text: '/ipfs/input/text' },\n",
            "  'notebook.ipynb': '/ipfs/notebook.ipynb',\n",
            "  output: { log: '/ipfs/output/log' },\n",
            "  'parameters.json': '/ipfs/parameters.json'\n",
            "} \u001b[31m+123ms\u001b[0m\n",
            "  \u001b[31;1mipfsWatch \u001b[0mgot remote state {\n",
            "  input: { text: '/ipfs/input/text' },\n",
            "  'notebook.ipynb': '/ipfs/notebook.ipynb',\n",
            "  output: { log: '/ipfs/output/log' },\n",
            "  'parameters.json': '/ipfs/parameters.json'\n",
            "} \u001b[31m+0ms\u001b[0m\n"
          ],
          "name": "stdout"
        }
      ]
    },
    {
      "cell_type": "code",
      "metadata": {
        "id": "mD8tRZESGzeP",
        "outputId": "a6a74352-1fbd-4664-b9d2-717ff7094f0d",
        "colab": {
          "base_uri": "https://localhost:8080/"
        }
      },
      "source": [
        "from glob import glob\n",
        "from os.path import basename\n",
        "from json5 import loads\n",
        "parameters={}\n",
        "for path in glob(f\"{ipfs_root}/input/*\"):\n",
        "  key = basename(path)\n",
        "  with open(path,'r') as f: \n",
        "    value = f.read()\n",
        "    parameters[key] = loads(value)\n",
        "\n",
        "print(\"New parameters\", parameters)"
      ],
      "execution_count": 10,
      "outputs": [
        {
          "output_type": "stream",
          "text": [
            "New parameters {'text': 'Experimental listening session in the garden of the gasworks. Unreal engine.'}\n"
          ],
          "name": "stdout"
        }
      ]
    },
    {
      "cell_type": "code",
      "metadata": {
        "id": "yerLsamovWhd",
        "outputId": "4dbf677d-b448-470c-e8ea-24a8efca4a56",
        "colab": {
          "base_uri": "https://localhost:8080/"
        }
      },
      "source": [
        "!nohup pollinate -p {ipfs_root} --ipns --send &"
      ],
      "execution_count": 11,
      "outputs": [
        {
          "output_type": "stream",
          "text": [
            "nohup: appending output to 'nohup.out'\n"
          ],
          "name": "stdout"
        }
      ]
    },
    {
      "cell_type": "markdown",
      "metadata": {
        "id": "GVkVyH_Fj8P8"
      },
      "source": [
        "## DISABLED! CODE (DEEP-DAZE)"
      ]
    },
    {
      "cell_type": "code",
      "metadata": {
        "id": "2qcR2Tgghrf3",
        "outputId": "4dc4fc56-8c31-4e1b-eddc-920940219e55",
        "colab": {
          "base_uri": "https://localhost:8080/"
        }
      },
      "source": [
        "#!pip install --upgrade pip\n",
        "\n",
        "#!pip install --upgrade ipython\n",
        "#import papermill as pm\n",
        "\n",
        "from subprocess import Popen, PIPE, STDOUT\n",
        "from sys import stdout\n",
        "import os\n",
        "\n",
        "\n",
        "#parameters[\"text\"] = \"A black and white photo of Saeko with her new Elektron FM synthesizer\"\n",
        "def run(parameters):\n",
        "  print(\"Running\",parameters)\n",
        " \n",
        "  parameters[\"output_path\"] = ipfs_root+\"/output\"\n",
        "  _params = [[\"-p\", key, value] for key, value in parameters.items()]\n",
        "  params = [str(val) for sublist in _params for val in sublist]\n",
        "  cmd = [\"papermill\", notebook_path, \"/content/notebook_output.ipynb\"] + params\n",
        "  print(\"Running cmd\",\" \".join(cmd))\n",
        "  p = Popen(\n",
        "          cmd, \n",
        "          stdout = PIPE, \n",
        "          stderr = STDOUT, \n",
        "          shell = False, \n",
        "          cwd = worker_root\n",
        "          )\n",
        "\n",
        "\n",
        "  while True:\n",
        "    line = p.stdout.readline()#\n",
        "    if not line: break\n",
        "    line_text = line.decode(\"utf-8\")\n",
        "\n",
        "    stdout.write(line)\n",
        "    with open(f\"{ipfs_root}/output/log\",\"w\") as log_out:\n",
        "      if not line_text.startswith(\"unhandled\"):\n",
        "        log_out.write(line_text)\n",
        "        log_out.flush()\n",
        "      \n",
        "   \n",
        "        \n",
        "while True:\n",
        "  run(parameters)"
      ],
      "execution_count": null,
      "outputs": [
        {
          "output_type": "stream",
          "text": [
            "Running {'text': 'Experimental listening session in the garden of the gasworks. Unreal engine.'}\n",
            "Running cmd papermill /ipfs/notebook.ipynb /content/notebook_output.ipynb -p text Experimental listening session in the garden of the gasworks. Unreal engine. -p output_path /ipfs/output\n",
            "Input Notebook:  /ipfs/notebook.ipynb\n",
            "Output Notebook: /content/notebook_output.ipynb\n",
            "Generating grammar tables from /usr/local/lib/python3.7/dist-packages/blib2to3/Grammar.txt\n",
            "Writing grammar tables to /root/.cache/black/21.5b2/Grammar3.7.10.final.0.pickle\n",
            "Writing failed: [Errno 2] No such file or directory: '/root/.cache/black/21.5b2/tmph99c82bl'\n",
            "Generating grammar tables from /usr/local/lib/python3.7/dist-packages/blib2to3/PatternGrammar.txt\n",
            "Writing grammar tables to /root/.cache/black/21.5b2/PatternGrammar3.7.10.final.0.pickle\n",
            "Writing failed: [Errno 2] No such file or directory: '/root/.cache/black/21.5b2/tmp0828pqpj'\n",
            "Executing:   0%|          | 0/22 [00:00<?, ?cell/s]Executing notebook with kernel: python3\n",
            "Executing:   5%|▍         | 1/22 [00:01<00:33,  1.57s/cell]unhandled iopub msg: colab_request\n",
            "unhandled iopub msg: colab_request\n",
            "unhandled iopub msg: colab_request\n",
            "Executing:  18%|█▊        | 4/22 [00:01<00:20,  1.12s/cell]unhandled iopub msg: colab_request\n",
            "unhandled iopub msg: colab_request\n",
            "unhandled iopub msg: colab_request\n",
            "unhandled iopub msg: colab_request\n",
            "unhandled iopub msg: colab_request\n",
            "unhandled iopub msg: colab_request\n",
            "unhandled iopub msg: colab_request\n",
            "unhandled iopub msg: colab_request\n",
            "unhandled iopub msg: colab_request\n",
            "Executing:  32%|███▏      | 7/22 [00:54<02:50, 11.34s/cell]unhandled iopub msg: colab_request\n",
            "unhandled iopub msg: colab_request\n",
            "unhandled iopub msg: colab_request\n",
            "Executing:  41%|████      | 9/22 [00:54<01:44,  8.01s/cell]unhandled iopub msg: colab_request\n",
            "unhandled iopub msg: colab_request\n",
            "unhandled iopub msg: colab_request\n",
            "unhandled iopub msg: colab_request\n",
            "unhandled iopub msg: colab_request\n",
            "unhandled iopub msg: colab_request\n",
            "unhandled iopub msg: colab_request\n",
            "unhandled iopub msg: colab_request\n"
          ],
          "name": "stdout"
        }
      ]
    }
  ]
}