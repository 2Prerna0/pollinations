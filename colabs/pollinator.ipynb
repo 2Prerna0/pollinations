{
  "cells": [
    {
      "cell_type": "markdown",
      "metadata": {
        "colab_type": "text",
        "id": "view-in-github"
      },
      "source": [
        "<a href=\"https://colab.research.google.com/github/pollinations/pollinations/blob/feature%2Fcolab-connection-loss-indication/colabs/pollinator.ipynb\" target=\"_parent\"><img src=\"https://colab.research.google.com/assets/colab-badge.svg\" alt=\"Open In Colab\"/></a>"
      ]
    },
    {
      "cell_type": "markdown",
      "metadata": {
        "id": "ko_JJEB3YcC9"
      },
      "source": [
        "# Pollinator\n",
        "\n",
        "Does the heavy-lifting for **Pollinations.AI** on Google Colab's free GPUs.\n",
        "\n",
        "Click *Runtime - Run All*, switch back to the **Pollinations** tab of the browser and wait a little for the connection to be established.\n",
        "\n",
        "![](https://pollinations.ai/Runtime-RunAll.png?)"
      ]
    },
    {
      "cell_type": "code",
      "execution_count": null,
      "metadata": {
        "cellView": "form",
        "id": "RcWlME-DwhrS"
      },
      "outputs": [],
      "source": [
        "#@title Config and Requirements\n",
        "\n",
        "!pip install --upgrade pip\n",
        "!pip install --upgrade typing-extensions==3.10.0.2\n",
        "!pip install papermill json5\n",
        "from IPython.display import clear_output\n",
        "from os.path import join, basename\n",
        "from shlex import quote\n",
        "\n",
        "from glob import glob\n",
        "from json5 import loads\n",
        "\n",
        "from subprocess import Popen, PIPE, STDOUT\n",
        "from sys import stdout\n",
        "import os\n",
        "\n",
        "#clear_output()\n",
        "#ipfs_nodeid = generate_slug(2)#asyncio.run(loop.create_task(get_node_id()))\n",
        "ipfs_root = \"/content/ipfs\"\n",
        "worker_root = \"/content\"\n",
        "notebook_path = join(ipfs_root,\"input\", \"notebook.ipynb\")\n",
        "\n",
        "print(f\"---Settings---\\nIPFS_ROOT: {ipfs_root}\")"
      ]
    },
    {
      "cell_type": "code",
      "execution_count": null,
      "metadata": {
        "cellView": "form",
        "id": "pWfAE_iqBMdB"
      },
      "outputs": [],
      "source": [
        "#@title Empty and create ipfs root: */content/ipfs*\n",
        "\n",
        "\n",
        "\n",
        "!rm -r $ipfs_root\n",
        "!mkdir -p $ipfs_root\n",
        "!mkdir -p $ipfs_root/input\n",
        "!mkdir -p $ipfs_root/output\n",
        "\n",
        "clear_output()"
      ]
    },
    {
      "cell_type": "code",
      "execution_count": null,
      "metadata": {
        "cellView": "form",
        "id": "9j1zUbMN4VDP"
      },
      "outputs": [],
      "source": [
        "#@title Install Pollinations CLI\n",
        "\n",
        "%cd /content\n",
        "!git clone https://github.com/pollinations/pollinations.git\n",
        "%cd /content/pollinations/app\n",
        "!git pull\n",
        "!git checkout seedling\n",
        "!git pull\n",
        "!npm run install_backend\n",
        "%cd -\n",
        "\n",
        "#clear_output()"
      ]
    },
    {
      "cell_type": "code",
      "execution_count": null,
      "metadata": {
        "cellView": "form",
        "id": "hH76cPjgwZBJ"
      },
      "outputs": [],
      "source": [
        "#@title Install and Run IPFS daemon &\n",
        "\n",
        "#!/content/pollinations/ipfs/ipfsd_install_colab.sh\n",
        "#!nohup /content/pollinations/ipfs/ipfsd_forever.sh &\n",
        "#!sleep 5\n",
        "clear_output()\n",
        "\n",
        "\n",
        "node_id=!tr -dc A-Za-z0-9 </dev/urandom | head -c 13 ; echo ''\n",
        "\n",
        "node_id=node_id[0]\n",
        "\n",
        "gpu_description=!nvidia-smi -L\n",
        "gpu_description=gpu_description[0]\n",
        "\n",
        "\n",
        "print(\"---Node ID---:\", node_id, gpu_description)"
      ]
    },
    {
      "cell_type": "code",
      "execution_count": null,
      "metadata": {
        "cellView": "form",
        "id": "A4TYvT7yoGvE"
      },
      "outputs": [],
      "source": [
        "#@title Create connection to frontend UI\n",
        "\n",
        "import IPython\n",
        "from google.colab import output\n",
        "\n",
        "display(IPython.display.Javascript(f'''\n",
        "  const iframe = document.createElement(\"iframe\")\n",
        "  iframe.src = `https://pollinations.ai/incolab.html?node={node_id}&gpu={gpu_description}`\n",
        "  document.querySelector(\"#output-area\").appendChild(iframe)\n",
        "  const iframe2 = document.createElement(\"iframe\")\n",
        "  iframe2.src = `http://localhost:3000/incolab.html?node={node_id}&gpu={gpu_description}`\n",
        "  const iframe3 = document.createElement(\"iframe\")\n",
        "  iframe2.src = `https://seedling.pollinations.ai/incolab.html?node={node_id}&gpu={gpu_description}`\n",
        "  document.querySelector(\"#output-area\").appendChild(iframe2)\n",
        "'''))\n",
        "\n",
        "\n"
      ]
    },
    {
      "cell_type": "code",
      "execution_count": null,
      "metadata": {
        "cellView": "form",
        "colab": {
          "base_uri": "https://localhost:8080/"
        },
        "id": "2qcR2Tgghrf3",
        "outputId": "0022a234-f9bf-4e51-8502-ffb8f7425f0b"
      },
      "outputs": [
        {
          "name": "stdout",
          "output_type": "stream",
          "text": [
            "  \u001b[34;1mipfs:pubsub \u001b[0mpublishing heartbeat to Q3tswMcLSgxYc /output \u001b[34m+15s\u001b[0m\n",
            "  \u001b[34;1mipfs:pubsub \u001b[0mHeartbeat from pubsub. Time since last: 17.239 \u001b[34m+2s\u001b[0m\n",
            "  \u001b[34;1mipfs:pubsub \u001b[0mSet heartbeat timeout. Waiting  30  seconds until next heartbeat \u001b[34m+1ms\u001b[0m\n",
            "  \u001b[34;1mipfs:pubsub \u001b[0mpublishing heartbeat to Q3tswMcLSgxYc /output \u001b[34m+13s\u001b[0m\n"
          ]
        }
      ],
      "source": [
        "#@title Notebook Runner\n",
        "from time import sleep\n",
        "import sys\n",
        "import matplotlib\n",
        "matplotlib.use('Agg')\n",
        "output_path = ipfs_root+\"/output\"\n",
        "\n",
        "!DEBUG=* pollinate --execute \"run_notebook.sh\" -l $output_path/log -p $ipfs_root --ipns -n $node_id --debounce 100 > /content/cid\n"
      ]
    },
    {
      "cell_type": "code",
      "execution_count": null,
      "metadata": {
        "id": "aQQwHCdEj83D"
      },
      "outputs": [],
      "source": [
        "from google.colab._kernel import Kernel"
      ]
    },
    {
      "cell_type": "code",
      "execution_count": null,
      "metadata": {
        "id": "AgeiE0iNkCM0"
      },
      "outputs": [],
      "source": []
    }
  ],
  "metadata": {
    "accelerator": "GPU",
    "colab": {
      "collapsed_sections": [],
      "include_colab_link": true,
      "machine_shape": "hm",
      "name": "Pollinator",
      "provenance": []
    },
    "kernelspec": {
      "display_name": "Python 3",
      "name": "python3"
    }
  },
  "nbformat": 4,
  "nbformat_minor": 0
}
