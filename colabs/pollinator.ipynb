{
  "nbformat": 4,
  "nbformat_minor": 0,
  "metadata": {
    "colab": {
      "name": "Pollinator",
      "provenance": [],
      "collapsed_sections": [],
      "include_colab_link": true
    },
    "kernelspec": {
      "name": "python3",
      "display_name": "Python 3"
    },
    "accelerator": "GPU"
  },
  "cells": [
    {
      "cell_type": "markdown",
      "metadata": {
        "id": "view-in-github",
        "colab_type": "text"
      },
      "source": [
        "<a href=\"https://colab.research.google.com/github/voodoohop/pollinations/blob/dev/colabs/pollinator.ipynb\" target=\"_parent\"><img src=\"https://colab.research.google.com/assets/colab-badge.svg\" alt=\"Open In Colab\"/></a>"
      ]
    },
    {
      "cell_type": "markdown",
      "metadata": {
        "id": "ko_JJEB3YcC9"
      },
      "source": [
        "# Pollinator\n",
        "\n",
        "Does the heavy-lifting for **Pollinations.AI** on Google Colab's free GPUs.\n",
        "\n",
        "Click *Runtime - Run All* and switch back to the **Pollinations** tab of the browser.\n",
        "\n",
        "![](https://pollinations.ai/Runtime-RunAll.png?)"
      ]
    },
    {
      "cell_type": "code",
      "metadata": {
        "id": "RcWlME-DwhrS",
        "colab": {
          "base_uri": "https://localhost:8080/"
        },
        "outputId": "cb7ae961-72a0-46ac-c495-6ac301e06064"
      },
      "source": [
        "#@title Config and Requirements\n",
        "!pip install coolname gdown papermill json5\n",
        "from IPython.display import clear_output\n",
        "from coolname import generate_slug\n",
        "from os.path import join, basename\n",
        "from shlex import quote\n",
        "\n",
        "from glob import glob\n",
        "from json5 import loads\n",
        "\n",
        "from subprocess import Popen, PIPE, STDOUT\n",
        "from sys import stdout\n",
        "import os\n",
        "\n",
        "clear_output()\n",
        "#ipfs_nodeid = generate_slug(2)#asyncio.run(loop.create_task(get_node_id()))\n",
        "ipfs_root = \"/content/ipfs\"\n",
        "worker_root = \"/content\"\n",
        "notebook_path = join(ipfs_root,\"notebook.ipynb\")\n",
        "\n",
        "print(f\"---Settings---\\nIPFS_ROOT: {ipfs_root}\")"
      ],
      "execution_count": null,
      "outputs": [
        {
          "output_type": "stream",
          "text": [
            "Collecting coolname\n",
            "  Downloading https://files.pythonhosted.org/packages/25/43/64c0cec51944924f44c0788c329a2c6fde061428c97d7cba73de177ececd/coolname-1.1.0-py2.py3-none-any.whl\n",
            "Requirement already satisfied: gdown in /usr/local/lib/python3.7/dist-packages (3.6.4)\n",
            "Collecting papermill\n",
            "  Downloading https://files.pythonhosted.org/packages/ec/3b/55dbb2017142340a57937f1fad78c7d9373552540b42740e37fd6c40d761/papermill-2.3.3-py3-none-any.whl\n",
            "Collecting json5\n",
            "  Downloading https://files.pythonhosted.org/packages/7e/8e/ebde0a31c71e7098b3014faf46c80bdbcadb3c23b0ac7c7646b2af7d302e/json5-0.9.6-py2.py3-none-any.whl\n",
            "Requirement already satisfied: tqdm in /usr/local/lib/python3.7/dist-packages (from gdown) (4.41.1)\n",
            "Requirement already satisfied: six in /usr/local/lib/python3.7/dist-packages (from gdown) (1.15.0)\n",
            "Requirement already satisfied: requests in /usr/local/lib/python3.7/dist-packages (from gdown) (2.23.0)\n",
            "Requirement already satisfied: nbclient>=0.2.0 in /usr/local/lib/python3.7/dist-packages (from papermill) (0.5.3)\n",
            "Collecting ansiwrap\n",
            "  Downloading https://files.pythonhosted.org/packages/03/50/43e775a63e0d632d9be3b3fa1c9b2cbaf3b7870d203655710a3426f47c26/ansiwrap-0.8.4-py2.py3-none-any.whl\n",
            "Collecting black\n",
            "\u001b[?25l  Downloading https://files.pythonhosted.org/packages/91/d0/154973fbb48aeda17cd117507872079de82408bb16f6f2ead3d05be68bd6/black-21.6b0-py3-none-any.whl (140kB)\n",
            "\u001b[K     |████████████████████████████████| 143kB 12.0MB/s \n",
            "\u001b[?25hRequirement already satisfied: click in /usr/local/lib/python3.7/dist-packages (from papermill) (7.1.2)\n",
            "Requirement already satisfied: nbformat>=5.1.2 in /usr/local/lib/python3.7/dist-packages (from papermill) (5.1.3)\n",
            "Collecting tenacity\n",
            "  Downloading https://files.pythonhosted.org/packages/41/ee/d6eddff86161c6a3a1753af4a66b06cbc508d3b77ca4698cd0374cd66531/tenacity-7.0.0-py2.py3-none-any.whl\n",
            "Requirement already satisfied: pyyaml in /usr/local/lib/python3.7/dist-packages (from papermill) (3.13)\n",
            "Requirement already satisfied: entrypoints in /usr/local/lib/python3.7/dist-packages (from papermill) (0.3)\n",
            "Requirement already satisfied: chardet<4,>=3.0.2 in /usr/local/lib/python3.7/dist-packages (from requests->gdown) (3.0.4)\n",
            "Requirement already satisfied: certifi>=2017.4.17 in /usr/local/lib/python3.7/dist-packages (from requests->gdown) (2021.5.30)\n",
            "Requirement already satisfied: idna<3,>=2.5 in /usr/local/lib/python3.7/dist-packages (from requests->gdown) (2.10)\n",
            "Requirement already satisfied: urllib3!=1.25.0,!=1.25.1,<1.26,>=1.21.1 in /usr/local/lib/python3.7/dist-packages (from requests->gdown) (1.24.3)\n",
            "Requirement already satisfied: traitlets>=4.2 in /usr/local/lib/python3.7/dist-packages (from nbclient>=0.2.0->papermill) (5.0.5)\n",
            "Requirement already satisfied: async-generator in /usr/local/lib/python3.7/dist-packages (from nbclient>=0.2.0->papermill) (1.10)\n",
            "Requirement already satisfied: nest-asyncio in /usr/local/lib/python3.7/dist-packages (from nbclient>=0.2.0->papermill) (1.5.1)\n",
            "Collecting jupyter-client>=6.1.5\n",
            "\u001b[?25l  Downloading https://files.pythonhosted.org/packages/77/e8/c3cf72a32a697256608d5fa96360c431adec6e1c6709ba7f13f99ff5ee04/jupyter_client-6.1.12-py3-none-any.whl (112kB)\n",
            "\u001b[K     |████████████████████████████████| 112kB 11.0MB/s eta 0:00:01"
          ],
          "name": "stdout"
        }
      ]
    },
    {
      "cell_type": "code",
      "metadata": {
        "id": "pWfAE_iqBMdB",
        "cellView": "form"
      },
      "source": [
        "#@title Empty and create ipfs root: */content/ipfs*\n",
        "\n",
        "\n",
        "\n",
        "!rm -r $ipfs_root\n",
        "!mkdir -p $ipfs_root/input\n",
        "!mkdir -p $ipfs_root/output\n",
        "!mkdir -p $ipfs_root/status\n",
        "!mkdir -p $worker_root\n",
        "\n",
        "\n",
        "!echo \"Created IPFS resource\" > $ipfs_root/status/log\n",
        "!echo -n '\"initializing\"' > $ipfs_root/status/colabState\n",
        "\n",
        "clear_output()"
      ],
      "execution_count": null,
      "outputs": []
    },
    {
      "cell_type": "code",
      "metadata": {
        "id": "9j1zUbMN4VDP",
        "cellView": "form"
      },
      "source": [
        "#@title Install Pollinations CLI\n",
        "\n",
        "%cd /content\n",
        "!git clone https://github.com/voodoohop/pollinations.git\n",
        "%cd /content/pollinations/app\n",
        "!git pull\n",
        "!git checkout dev \n",
        "!git pull\n",
        "!npm run install_backend\n",
        "%cd -\n",
        "\n",
        "clear_output()"
      ],
      "execution_count": null,
      "outputs": []
    },
    {
      "cell_type": "code",
      "metadata": {
        "id": "hH76cPjgwZBJ",
        "cellView": "form"
      },
      "source": [
        "#@title Run IPFS daemon &\n",
        "\n",
        "!/content/pollinations/ipfs/ipfsd_install_colab.sh\n",
        "!nohup  /content/pollinations/ipfs/ipfsd_forever.sh >> $ipfs_root/status/log_ipfsd &\n",
        "!sleep 5\n",
        "clear_output()\n",
        "\n",
        "\n",
        "node_id=!ipfs id -f=\"<id>\\n\"\n",
        "node_id=node_id[0]\n",
        "\n",
        "print(\"---Node ID---:\", node_id)"
      ],
      "execution_count": null,
      "outputs": []
    },
    {
      "cell_type": "code",
      "metadata": {
        "id": "A4TYvT7yoGvE",
        "cellView": "form"
      },
      "source": [
        "#@title Create connection to frontend UI\n",
        "\n",
        "import IPython\n",
        "from google.colab import output\n",
        "\n",
        "display(IPython.display.Javascript(f'''\n",
        "  const iframe = document.createElement(\"iframe\")\n",
        "  iframe.src = `https://pollinations.ai/incolab.html?node={node_id}`\n",
        "  document.querySelector(\"#output-area\").appendChild(iframe)\n",
        "  const iframe2 = document.createElement(\"iframe\")\n",
        "  iframe2.src = `http://localhost:3000/incolab.html?node={node_id}`\n",
        "  document.querySelector(\"#output-area\").appendChild(iframe2)\n",
        "'''))\n",
        "\n",
        "\n"
      ],
      "execution_count": null,
      "outputs": []
    },
    {
      "cell_type": "code",
      "metadata": {
        "id": "yerLsamovWhd"
      },
      "source": [
        "#@title Receive first IPFS state. Watch and send ipfs output folder &\n",
        "\n",
        "def get_params():\n",
        "  parameters={}\n",
        "  for path in glob(f\"{ipfs_root}/input/*\"):\n",
        "    key = basename(path)\n",
        "    with open(path,'r') as f: \n",
        "      value = f.read()\n",
        "      print(\"reading parameter\", value)\n",
        "      try:\n",
        "        parameters[key] = loads(value)\n",
        "      except:\n",
        "        parameters[key] = \"\"\n",
        "  return parameters\n",
        "\n",
        "def get_form_action():\n",
        "  params = get_params()\n",
        "  return \"formAction\" in params and params[\"formAction\"]\n",
        "  \n",
        "\n",
        "def wait_submitted(skip_pollinate=False):\n",
        "  print(\"Waiting for form submission\")\n",
        "  #!echo -n '\"waiting\"' > $ipfs_root/status/colabState\n",
        "  while not get_form_action() == \"submit\":\n",
        "    if skip_pollinate:\n",
        "      !sleep 2\n",
        "    else:\n",
        "      !DEBUG=* pollinate -p $ipfs_root --ipns --receive --once\n",
        "  !rm -v $ipfs_root/input/formAction\n",
        "  \n",
        "wait_submitted()\n",
        "\n",
        "!python /content/pollinations/pollinations/prepare_for_papermill.py $notebook_path\n",
        "\n",
        "!nohup pollinate -p $ipfs_root --ipns &\n",
        "\n",
        "clear_output()"
      ],
      "execution_count": null,
      "outputs": []
    },
    {
      "cell_type": "code",
      "metadata": {
        "id": "2qcR2Tgghrf3"
      },
      "source": [
        "#@title Notebook Runner\n",
        "\n",
        "output_path = ipfs_root+\"/output\"\n",
        "\n",
        "first_run=True\n",
        "\n",
        "\n",
        "def run(parameters):\n",
        "  print(\"Running\",parameters)\n",
        " \n",
        "  parameters[\"output_path\"] = output_path\n",
        "  _params = [[\"-p\", quote(key), quote(str(value))] for key, value in parameters.items()]\n",
        "  params = [str(val) for sublist in _params for val in sublist]\n",
        "\n",
        "\n",
        "  cmd = [\"papermill\", notebook_path, f\"/content/notebook_output.ipynb\"] + params + [\"--log-output\"]\n",
        "  print(\"Running cmd\",\" \".join(cmd))\n",
        "\n",
        "  with open(ipfs_root+\"/status/log\",\"a\") as logout:\n",
        "    !echo -n '\"running\"' > $ipfs_root/status/colabState\n",
        "    p = Popen(cmd, \n",
        "            stdout = logout, \n",
        "            stderr = logout, \n",
        "            shell = False,\n",
        "            text = True,\n",
        "            cwd = worker_root\n",
        "            )#.communicate()# as p:\n",
        "    print(\"popen\",p)\n",
        "    \n",
        "    while p.returncode is None:\n",
        "      form_action = get_form_action()\n",
        "      print(\"form action\", form_action)\n",
        "      if form_action == \"cancel\":\n",
        "        print(\"killing!!!\")\n",
        "        !rm -v $ipfs_root/input/formAction\n",
        "        p.kill()\n",
        "        break\n",
        "      if p.returncode is not None:\n",
        "        print(\"got return code\", p.returncode)\n",
        "        break\n",
        "      !sleep 2\n",
        "  \n",
        "while True:\n",
        "  if not first_run:\n",
        "    wait_submitted(skip_pollinate=True)\n",
        "    !python /content/pollinations/pollinations/prepare_for_papermill.py $notebook_path\n",
        "  first_run = False\n",
        "  parameters = get_params()\n",
        "  print(\"New parameters\", parameters)\n",
        "  !echo -n '\"running\"' > $ipfs_root/status/colabState\n",
        "  run(parameters)\n",
        "  !echo -n '\"waiting\"' > $ipfs_root/status/colabState\n"
      ],
      "execution_count": null,
      "outputs": []
    }
  ]
}