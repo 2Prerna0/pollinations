{
  "nbformat": 4,
  "nbformat_minor": 2,
  "metadata": {
    "colab": {
      "name": "CLIP Guided Diffusion HQ.ipynb",
      "private_outputs": true,
      "provenance": [],
      "collapsed_sections": [],
      "include_colab_link": true
    },
    "kernelspec": {
      "name": "python3",
      "display_name": "Python 3"
    },
    "language_info": {
      "name": "python"
    },
    "accelerator": "GPU"
  },
  "cells": [
    {
      "cell_type": "markdown",
      "source": [
        "## VQGAN+CLIP High-Quality (Text-to-Image)\n",
        "\n",
        "A machine dreams about text. Combines OpenAI's [CLIP](https://openai.com/blog/clip/) which is able to map images to natural language with the recent image synthesis model [Taming Transformers](https://compvis.github.io/taming-transformers/). The image improves iteratively.\n",
        "\n",
        "\n"
      ],
      "metadata": {
        "id": "H8tpLT3R0nZv"
      }
    },
    {
      "cell_type": "code",
      "execution_count": null,
      "source": [
        "prompt = 'alien friend by Odilon Redon'  #@param {type: \"string\"}\n",
        "output_path = \"/content/output\""
      ],
      "outputs": [],
      "metadata": {
        "cellView": "form",
        "id": "cRold-Yo0yqi"
      }
    },
    {
      "cell_type": "code",
      "execution_count": null,
      "source": [
        "!mkdir -p $output_path"
      ],
      "outputs": [],
      "metadata": {}
    },
    {
      "cell_type": "code",
      "execution_count": null,
      "source": [
        "# @title Licensed under the MIT License\n",
        "\n",
        "# Copyright (c) 2021 Katherine Crowson\n",
        "\n",
        "# Permission is hereby granted, free of charge, to any person obtaining a copy\n",
        "# of this software and associated documentation files (the \"Software\"), to deal\n",
        "# in the Software without restriction, including without limitation the rights\n",
        "# to use, copy, modify, merge, publish, distribute, sublicense, and/or sell\n",
        "# copies of the Software, and to permit persons to whom the Software is\n",
        "# furnished to do so, subject to the following conditions:\n",
        "\n",
        "# The above copyright notice and this permission notice shall be included in\n",
        "# all copies or substantial portions of the Software.\n",
        "\n",
        "# THE SOFTWARE IS PROVIDED \"AS IS\", WITHOUT WARRANTY OF ANY KIND, EXPRESS OR\n",
        "# IMPLIED, INCLUDING BUT NOT LIMITED TO THE WARRANTIES OF MERCHANTABILITY,\n",
        "# FITNESS FOR A PARTICULAR PURPOSE AND NONINFRINGEMENT. IN NO EVENT SHALL THE\n",
        "# AUTHORS OR COPYRIGHT HOLDERS BE LIABLE FOR ANY CLAIM, DAMAGES OR OTHER\n",
        "# LIABILITY, WHETHER IN AN ACTION OF CONTRACT, TORT OR OTHERWISE, ARISING FROM,\n",
        "# OUT OF OR IN CONNECTION WITH THE SOFTWARE OR THE USE OR OTHER DEALINGS IN\n",
        "# THE SOFTWARE."
      ],
      "outputs": [],
      "metadata": {
        "cellView": "form",
        "id": "XIqUfrmvLIhg"
      }
    },
    {
      "cell_type": "code",
      "execution_count": null,
      "source": [
        "# Check the GPU status\n",
        "\n",
        "!nvidia-smi"
      ],
      "outputs": [],
      "metadata": {
        "id": "qZ3rNuAWAewx"
      }
    },
    {
      "cell_type": "code",
      "execution_count": null,
      "source": [
        "# Install dependencies\n",
        "\n",
        "!git clone https://github.com/openai/CLIP\n",
        "!git clone https://github.com/crowsonkb/guided-diffusion\n",
        "!pip install -e ./CLIP\n",
        "!pip install -e ./guided-diffusion"
      ],
      "outputs": [],
      "metadata": {
        "id": "-_UVMZCIAq_r"
      }
    },
    {
      "cell_type": "code",
      "execution_count": null,
      "source": [
        "# Download the diffusion model\n",
        "\n",
        "!curl -OL 'https://openaipublic.blob.core.windows.net/diffusion/jul-2021/256x256_diffusion_uncond.pt'"
      ],
      "outputs": [],
      "metadata": {
        "id": "7zAqFEykBHDL"
      }
    },
    {
      "cell_type": "code",
      "execution_count": null,
      "source": [
        "# Imports\n",
        "\n",
        "import math\n",
        "import io\n",
        "import sys\n",
        "\n",
        "from IPython import display\n",
        "from PIL import Image\n",
        "import requests\n",
        "import torch\n",
        "from torch import nn\n",
        "from torch.nn import functional as F\n",
        "from torchvision import transforms\n",
        "from torchvision.transforms import functional as TF\n",
        "from tqdm.notebook import tqdm\n",
        "\n",
        "sys.path.append('./CLIP')\n",
        "sys.path.append('./guided-diffusion')\n",
        "\n",
        "import clip\n",
        "from guided_diffusion.script_util import create_model_and_diffusion, model_and_diffusion_defaults"
      ],
      "outputs": [],
      "metadata": {
        "id": "JmbrcrhpBPC6"
      }
    },
    {
      "cell_type": "code",
      "execution_count": null,
      "source": [
        "# Define necessary functions\n",
        "\n",
        "def fetch(url_or_path):\n",
        "    if str(url_or_path).startswith('http://') or str(url_or_path).startswith('https://'):\n",
        "        r = requests.get(url_or_path)\n",
        "        r.raise_for_status()\n",
        "        fd = io.BytesIO()\n",
        "        fd.write(r.content)\n",
        "        fd.seek(0)\n",
        "        return fd\n",
        "    return open(url_or_path, 'rb')\n",
        "\n",
        "class MakeCutouts(nn.Module):\n",
        "    def __init__(self, cut_size, cutn, cut_pow=1.):\n",
        "        super().__init__()\n",
        "        self.cut_size = cut_size\n",
        "        self.cutn = cutn\n",
        "        self.cut_pow = cut_pow\n",
        "\n",
        "    def forward(self, input):\n",
        "        sideY, sideX = input.shape[2:4]\n",
        "        max_size = min(sideX, sideY)\n",
        "        min_size = min(sideX, sideY, self.cut_size)\n",
        "        cutouts = []\n",
        "        for _ in range(self.cutn):\n",
        "            size = int(torch.rand([])**self.cut_pow * (max_size - min_size) + min_size)\n",
        "            offsetx = torch.randint(0, sideX - size + 1, ())\n",
        "            offsety = torch.randint(0, sideY - size + 1, ())\n",
        "            cutout = input[:, :, offsety:offsety + size, offsetx:offsetx + size]\n",
        "            cutouts.append(F.adaptive_avg_pool2d(cutout, self.cut_size))\n",
        "        return torch.cat(cutouts)\n",
        "\n",
        "\n",
        "def spherical_dist_loss(x, y):\n",
        "    x = F.normalize(x, dim=-1)\n",
        "    y = F.normalize(y, dim=-1)\n",
        "    return (x - y).norm(dim=-1).div(2).arcsin().pow(2).mul(2)\n",
        "\n",
        "\n",
        "def tv_loss(input):\n",
        "    \"\"\"L2 total variation loss, as in Mahendran et al.\"\"\"\n",
        "    input = F.pad(input, (0, 1, 0, 1), 'replicate')\n",
        "    x_diff = input[..., :-1, 1:] - input[..., :-1, :-1]\n",
        "    y_diff = input[..., 1:, :-1] - input[..., :-1, :-1]\n",
        "    return (x_diff**2 + y_diff**2).mean([1, 2, 3])\n"
      ],
      "outputs": [],
      "metadata": {
        "id": "YHOj78Yvx8jP"
      }
    },
    {
      "cell_type": "code",
      "execution_count": null,
      "source": [
        "# Model settings\n",
        "\n",
        "model_config = model_and_diffusion_defaults()\n",
        "model_config.update({\n",
        "    'attention_resolutions': '32, 16, 8',\n",
        "    'class_cond': False,\n",
        "    'diffusion_steps': 1000,\n",
        "    'rescale_timesteps': True,\n",
        "    'timestep_respacing': '1000',\n",
        "    'image_size': 256,\n",
        "    'learn_sigma': True,\n",
        "    'noise_schedule': 'linear',\n",
        "    'num_channels': 256,\n",
        "    'num_head_channels': 64,\n",
        "    'num_res_blocks': 2,\n",
        "    'resblock_updown': True,\n",
        "    'use_fp16': True,\n",
        "    'use_scale_shift_norm': True,\n",
        "})"
      ],
      "outputs": [],
      "metadata": {
        "id": "Fpbody2NCR7w"
      }
    },
    {
      "cell_type": "code",
      "execution_count": null,
      "source": [
        "# Load models\n",
        "\n",
        "device = torch.device('cuda:0' if torch.cuda.is_available() else 'cpu')\n",
        "print('Using device:', device)\n",
        "\n",
        "model, diffusion = create_model_and_diffusion(**model_config)\n",
        "model.load_state_dict(torch.load('256x256_diffusion_uncond.pt', map_location='cpu'))\n",
        "model.requires_grad_(False).eval().to(device)\n",
        "for name, param in model.named_parameters():\n",
        "    if 'qkv' in name or 'norm' in name or 'proj' in name:\n",
        "        param.requires_grad_()\n",
        "if model_config['use_fp16']:\n",
        "    model.convert_to_fp16()\n",
        "\n",
        "clip_model = clip.load('ViT-B/16', jit=False)[0].eval().requires_grad_(False).to(device)\n",
        "clip_size = clip_model.visual.input_resolution\n",
        "normalize = transforms.Normalize(mean=[0.48145466, 0.4578275, 0.40821073],\n",
        "                                 std=[0.26862954, 0.26130258, 0.27577711])\n"
      ],
      "outputs": [],
      "metadata": {
        "id": "VnQjGugaDZPJ"
      }
    },
    {
      "cell_type": "markdown",
      "source": [
        "## Settings for this run:"
      ],
      "metadata": {
        "id": "9zY-8I90LkC6"
      }
    },
    {
      "cell_type": "code",
      "execution_count": null,
      "source": [
        "batch_size = 1\n",
        "clip_guidance_scale = 1000\n",
        "tv_scale = 150\n",
        "cutn = 16\n",
        "n_batches = 1\n",
        "init_image = None\n",
        "skip_timesteps = 0\n",
        "seed = 0"
      ],
      "outputs": [],
      "metadata": {
        "id": "U0PwzFZbLfcy"
      }
    },
    {
      "cell_type": "markdown",
      "source": [
        "### Actually do the run..."
      ],
      "metadata": {
        "id": "Nf9hTc8YLoLx"
      }
    },
    {
      "cell_type": "code",
      "execution_count": null,
      "source": [
        "if seed is not None:\n",
        "    torch.manual_seed(seed)\n",
        "\n",
        "text_embed = clip_model.encode_text(clip.tokenize(prompt).to(device)).float()\n",
        "\n",
        "init = None\n",
        "if init_image is not None:\n",
        "    init = Image.open(fetch(init_image)).convert('RGB')\n",
        "    init = init.resize((model_config['image_size'], model_config['image_size']), Image.LANCZOS)\n",
        "    init = TF.to_tensor(init).to(device).unsqueeze(0).mul(2).sub(1)\n",
        "\n",
        "make_cutouts = MakeCutouts(clip_size, cutn)\n",
        "\n",
        "cur_t = None\n",
        "\n",
        "def cond_fn(x, t, y=None):\n",
        "    with torch.enable_grad():\n",
        "        x = x.detach().requires_grad_()\n",
        "        n = x.shape[0]\n",
        "        my_t = torch.ones([n], device=device, dtype=torch.long) * cur_t\n",
        "        out = diffusion.p_mean_variance(model, x, my_t, clip_denoised=False, model_kwargs={'y': y})\n",
        "        fac = diffusion.sqrt_one_minus_alphas_cumprod[cur_t]\n",
        "        x_in = out['pred_xstart'] * fac + x * (1 - fac)\n",
        "        clip_in = normalize(make_cutouts(x_in.add(1).div(2)))\n",
        "        image_embeds = clip_model.encode_image(clip_in).float().view([cutn, n, -1])\n",
        "        dists = spherical_dist_loss(image_embeds, text_embed.unsqueeze(0))\n",
        "        losses = dists.mean(0)\n",
        "        tv_losses = tv_loss(x_in)\n",
        "        loss = losses.sum() * clip_guidance_scale + tv_losses.sum() * tv_scale\n",
        "        return -torch.autograd.grad(loss, x)[0]\n",
        "\n",
        "if model_config['timestep_respacing'].startswith('ddim'):\n",
        "    sample_fn = diffusion.ddim_sample_loop_progressive\n",
        "else:\n",
        "    sample_fn = diffusion.p_sample_loop_progressive\n",
        "\n",
        "for i in range(n_batches):\n",
        "    cur_t = diffusion.num_timesteps - skip_timesteps - 1\n",
        "\n",
        "    samples = sample_fn(\n",
        "        model,\n",
        "        (batch_size, 3, model_config['image_size'], model_config['image_size']),\n",
        "        clip_denoised=False,\n",
        "        model_kwargs={},\n",
        "        cond_fn=cond_fn,\n",
        "        progress=True,\n",
        "        skip_timesteps=skip_timesteps,\n",
        "        init_image=init,\n",
        "        randomize_class=True,\n",
        "    )\n",
        "\n",
        "    for j, sample in enumerate(samples):\n",
        "        cur_t -= 1\n",
        "        if j % 10 == 0 or cur_t == -1:\n",
        "            print()\n",
        "            for k, image in enumerate(sample['pred_xstart']):\n",
        "                filename = f'{output_path}/progress_{i * batch_size + k:05}.jpg'\n",
        "                TF.to_pil_image(image.add(1).div(2).clamp(0, 1)).save(filename)\n",
        "                tqdm.write(f'Batch {i}, step {j}, output {k}:')\n",
        "                display.display(display.Image(filename))\n"
      ],
      "outputs": [],
      "metadata": {
        "id": "X5gODNAMEUCR"
      }
    },
    {
      "cell_type": "code",
      "execution_count": null,
      "source": [
        "#@title Render Video\n",
        "\n",
        "out_file=output_path+\"/video.mp4\"\n",
        "#!rm /content/*.mp4\n",
        "!ffmpeg -r 10 -i $output_path/%*.jpg -y -vf format=yuv420p -vcodec libx264 -acodec aac \"$out_file\"\n",
        "#!cp -v /tmp/video.mp4 \"$out_file\"\n",
        "#!rm /content/taming-transformers/*.png\n",
        "print(\"Written\", out_file)\n",
        "!sleep 2\n",
        "\n",
        "#from google.colab import files\n",
        "#files.download(out_file)\n"
      ],
      "outputs": [],
      "metadata": {}
    }
  ]
}