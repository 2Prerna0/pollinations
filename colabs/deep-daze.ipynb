{
  "nbformat": 4,
  "nbformat_minor": 0,
  "metadata": {
    "colab": {
      "name": "Deep Daze",
      "provenance": [],
      "collapsed_sections": [],
      "toc_visible": true,
      "machine_shape": "hm",
      "include_colab_link": true
    },
    "kernelspec": {
      "name": "python3",
      "display_name": "Python 3"
    },
    "accelerator": "GPU"
  },
  "cells": [
    {
      "cell_type": "markdown",
      "metadata": {
        "id": "view-in-github",
        "colab_type": "text"
      },
      "source": [
        "<a href=\"https://colab.research.google.com/github/voodoohop/colabasaservice/blob/master/colabs/deep-daze.ipynb\" target=\"_parent\"><img src=\"https://colab.research.google.com/assets/colab-badge.svg\" alt=\"Open In Colab\"/></a>"
      ]
    },
    {
      "cell_type": "markdown",
      "metadata": {
        "id": "fDs_ZA4z2aao"
      },
      "source": [
        "# Text to Image\n",
        "### Method: CLIP + Siren\n",
        "This model combines an image classifier called **CLIP** from *OpenAI* and an image generator called **SIREN.**\n",
        "\n",
        "The process works like this:\n",
        "1.  The **SIREN** model at first generates a completely random image\n",
        "2.  The **CLIP** image classifier looks at the image and compares it with the given text caption\n",
        "3.  Using this feedback the weights of the **SIREN** model are adjusted slightly to better approximate the image caption\n",
        "4.  These steps are repeated until we stop it manually\n",
        "---\n",
        "In order to run click the [Colab] link. And then select *Runtime -> Run all* from the menu bar.\n",
        "\n",
        "[colab]: https://colab.research.google.com/github/voodoohop/colabasaservice/blob/master/colabs/deep-daze.ipynb"
      ]
    },
    {
      "cell_type": "markdown",
      "metadata": {
        "id": "KG2g6OrGl8Hy"
      },
      "source": [
        "# Parameters"
      ]
    },
    {
      "cell_type": "code",
      "metadata": {
        "id": "eCWAiIbllADm"
      },
      "source": [
        "text = 'An illustration of a black and white cat'  #@param {type: \"string\"}\n",
        "args = '--lower_bound_cutout 0.5 --image-width=384 --iterations=1000 --epochs=2 --save-every=2 --save-progress=True --open_folder=False --overwrite=True --save_video=True --seed=123'  #@param {type: \"string\"}\n",
        "\n",
        "parameters = {\n",
        "    \"text\": text,\n",
        "    \"args\": args\n",
        "}"
      ],
      "execution_count": 1,
      "outputs": []
    },
    {
      "cell_type": "markdown",
      "metadata": {
        "id": "z8RkOYkzmGDW"
      },
      "source": [
        "## Code (IPFS Connection)"
      ]
    },
    {
      "cell_type": "code",
      "metadata": {
        "id": "o_SqjI_0jhsu",
        "colab": {
          "base_uri": "https://localhost:8080/"
        },
        "outputId": "8e5eb709-9cb4-4fa1-f06d-c727c8d193a6"
      },
      "source": [
        "!npm install -g npm@latest\n",
        "!npm install -g --force --unsafe-perms node-gyp node-pre-gyp bcrypt ipfs\n",
        "!pip install ipfshttpclient"
      ],
      "execution_count": null,
      "outputs": [
        {
          "output_type": "stream",
          "text": [
            "\u001b[K\u001b[?25h\n",
            "changed 14 packages, and audited 255 packages in 3s\n",
            "\n",
            "11 packages are looking for funding\n",
            "  run `npm fund` for details\n",
            "\n",
            "found \u001b[32m\u001b[1m0\u001b[22m\u001b[39m vulnerabilities\n",
            "\u001b[37;40mnpm\u001b[0m \u001b[0m\u001b[30;43mWARN\u001b[0m \u001b[0m\u001b[35musing --force\u001b[0m Recommended protections disabled.\n"
          ],
          "name": "stdout"
        }
      ]
    },
    {
      "cell_type": "code",
      "metadata": {
        "id": "1NrilOb5jF4h"
      },
      "source": [
        "IPFS_PEER=\"18.157.173.110\"\n",
        "!nohup jsipfs daemon --enable-namesys-pubsub &\n",
        "!sleep 10\n",
        "#!jsipfs config Addresses.API /ip4/127.0.0.1/tcp/5002\n",
        "#!jsipfs config --json API.HTTPHeaders.Access-Control-Allow-Origin '[\"*\"]'\n",
        "#!jsipfs config --json API.HTTPHeaders.Access-Control-Allow-Methods '[\"PUT\", \"GET\", \"POST\"]'\n",
        "!jsipfs swarm connect /ip4/$IPFS_PEER/tcp/4002/p2p/QmWxrFJqurnyedzJ5rzpgycTqSikJ7kcy7eHmqYnndKhwr"
      ],
      "execution_count": null,
      "outputs": []
    },
    {
      "cell_type": "code",
      "metadata": {
        "id": "wrcKhqkS7cYg"
      },
      "source": [
        ""
      ],
      "execution_count": null,
      "outputs": []
    },
    {
      "cell_type": "code",
      "metadata": {
        "id": "8qv4Bszx3iip"
      },
      "source": [
        "import ipfshttpclient #{IPFS_PEER}\n",
        "client = ipfshttpclient.connect(f\"/ip4/127.0.0.1/tcp/5002/http\") \n",
        "\n",
        "ipfs_root = \"/content/ipfs_root\"\n",
        "\n",
        "!rm -r $ipfs_root\n",
        "!mkdir -p $ipfs_root\n",
        "\n",
        "def add_and_publish(root=\"/content/ipfs_root\"):\n",
        "  add_res = client.add(root, recursive=True)\n",
        "  print(\"add_res\",add_res[-1])\n",
        "  ipns_res = client.name.publish(\"/ipfs/\"+add_res[-1][\"Hash\"])\n",
        "  ipns_link = f\"/ipns/{ipns_res['Name']}\"\n",
        "  return ipns_link\n",
        "\n",
        "ipns_link = add_and_publish()\n",
        "\n",
        "print(\"IPNS_LINK\",ipns_link)"
      ],
      "execution_count": null,
      "outputs": []
    },
    {
      "cell_type": "markdown",
      "metadata": {
        "id": "5CIvTK5wrIsb"
      },
      "source": [
        ""
      ]
    },
    {
      "cell_type": "code",
      "metadata": {
        "id": "A4TYvT7yoGvE"
      },
      "source": [
        "from IPython.display import IFrame\n",
        "\n",
        "IFrame(src=f'http://localhost:3000/colabasaservice/incolab.html?node={ipns_link}', width=100, height=100)"
      ],
      "execution_count": null,
      "outputs": []
    },
    {
      "cell_type": "code",
      "metadata": {
        "id": "_mi0iWAAkksl"
      },
      "source": [
        "!pip install ipfshttpclient\n",
        "\n",
        "\n",
        "def ipfs_add(path):\n",
        "  !jsipfs add"
      ],
      "execution_count": null,
      "outputs": []
    },
    {
      "cell_type": "markdown",
      "metadata": {
        "id": "GVkVyH_Fj8P8"
      },
      "source": [
        "## CODE (DEEP-DAZE)"
      ]
    },
    {
      "cell_type": "code",
      "metadata": {
        "id": "YpRu6LTR2LbD"
      },
      "source": [
        "!pip install deep-daze --upgrade\n",
        "!pip install stomp.py imageio-ffmpeg asyncio websockets varname --upgrade"
      ],
      "execution_count": null,
      "outputs": []
    },
    {
      "cell_type": "markdown",
      "metadata": {
        "id": "cKuOyEZn2Xr_"
      },
      "source": [
        ""
      ]
    },
    {
      "cell_type": "code",
      "metadata": {
        "id": "91_qrFUMFtvL"
      },
      "source": [
        "\n",
        "#parameter_names = [varname(p) for p in parameters]\n"
      ],
      "execution_count": null,
      "outputs": []
    },
    {
      "cell_type": "code",
      "metadata": {
        "id": "KHXMdtZSh3rs"
      },
      "source": [
        "from subprocess import Popen, PIPE, STDOUT\n",
        "from sys import stdout\n",
        "from glob import glob\n",
        "import os\n",
        "import stomp\n",
        "import json\n",
        "import itertools\n",
        "from base64 import b64encode\n",
        "from time import sleep\n",
        "import requests\n",
        "import os\n",
        "from mimetypes import guess_type \n",
        "import re\n",
        "flatten = itertools.chain.from_iterable\n",
        "\n",
        "TEXT=\"A black and white technical illustration of merging a cat and a human through biohacking.\"\n",
        "DEFAULT_PARAMS=\"--lower_bound_cutout 0.5 --image-width=384 --iterations=1000 --epochs=2 --save-every=2 --save-progress=True --open_folder=False --overwrite=True --save_video=True --seed=1234\"\n",
        "GITHUB_REPO=\"voodoohop/colabasaservice/blob/master/colabs/deep-daze.ipynb\"\n",
        "GITHUB_REPO_CLEAN = re.sub('[^0-9a-zA-Z]+', '_', GITHUB_REPO)\n",
        "print(GITHUB_REPO_CLEAN)\n",
        "conn = stomp.Connection([('b-4e89df1f-8226-4cc4-a518-4e1ac0023c97-1.mq.eu-central-1.amazonaws.com', 61614)], use_ssl=True)\n",
        "conn.connect('guest', 'iamcolabguest', wait=True)\n",
        "conn.subscribe(destination=f'/queue/deep-daze', id=1, ack='auto')\n",
        "\n",
        "def run(text, params=DEFAULT_PARAMS, watch_media_paths=[\"./*.jpg\",\"./*.mp4\"]):\n",
        "  print(\"Running\",text)\n",
        "  for to_remove in watch_media_paths:\n",
        "    for filepath in glob(to_remove):\n",
        "      print(\"Deleting\",filepath,\"before starting.\")\n",
        "      os.remove(filepath)\n",
        "\n",
        "  cmd = f'imagine {params} \"{text}\"'\n",
        "  \n",
        "  p = Popen(cmd, stdout = PIPE, \n",
        "          stderr = STDOUT, shell = True)\n",
        "\n",
        "  found_media_files=[]\n",
        "  log_out = open(f\"{ipfs_root}/colabConsole.txt\",\"a\")\n",
        "  while True:\n",
        "    line = p.stdout.readline()#\n",
        "    if not line: break\n",
        "\n",
        "    stdout.write(line)\n",
        "    log_out.write(line.decode(\"utf-8\"))\n",
        "    log_out.flush()\n",
        "    #headers = { \n",
        "    #    \"params\": params,\n",
        "    #    \"text\": text\n",
        "    #}\n",
        "    #conn.send(body=line.decode(\"utf-8\"), headers=headers, destination='/topic/colabOut')\n",
        "    \n",
        "    new_found_media_files = get_matching_files(watch_media_paths)\n",
        "    new_found_media_files.sort(key=os.path.getmtime)\n",
        "    added_media_files = list(set(new_found_media_files)-set(found_media_files))\n",
        "    found_media_files = new_found_media_files\n",
        "\n",
        "    if len(added_media_files) > 0:\n",
        "      for added in added_media_files:\n",
        "        sleep(0.1)\n",
        "        if len(added) > 0:\n",
        "          !cp $added $ipfs_root\n",
        "          print(\"Adding:\", added,\"to ipfs root\")\n",
        "    add_and_publish()          \n",
        "\n",
        "def get_matching_files(search_paths):\n",
        "  return list(flatten([glob(search_path) for search_path in search_paths]))\n",
        "\n",
        "\n",
        "class MyListener(stomp.ConnectionListener):\n",
        "    def __init__(self, conn,run):\n",
        "        self.conn = conn\n",
        "        self.run = run\n",
        "\n",
        "    def on_error(self, frame):\n",
        "        print('received an error \"%s\"' % frame.body)\n",
        "\n",
        "    def on_message(self, frame):\n",
        "        print('received a message \"%s\"' % frame.body)\n",
        "        self.run(frame.body)\n",
        "        print('processed message')\n",
        "\n",
        "    def on_disconnected(self):\n",
        "        print('disconnected')\n",
        "        #connect_and_subscribe(self.conn)\n",
        "\n",
        "conn.set_listener('', MyListener(conn,run))\n",
        "\n",
        "#run(TEXT)\n",
        "#conn.disconnect()\n",
        "sleep(1000000)\n"
      ],
      "execution_count": null,
      "outputs": []
    },
    {
      "cell_type": "code",
      "metadata": {
        "id": "GRIiu7CfzuBK"
      },
      "source": [
        "conn.disconnect()"
      ],
      "execution_count": null,
      "outputs": []
    },
    {
      "cell_type": "code",
      "metadata": {
        "id": "YqGD4GWxLSty"
      },
      "source": [
        ""
      ],
      "execution_count": null,
      "outputs": []
    },
    {
      "cell_type": "code",
      "metadata": {
        "id": "ofO0gpgkRqSG"
      },
      "source": [
        ""
      ],
      "execution_count": null,
      "outputs": []
    },
    {
      "cell_type": "code",
      "metadata": {
        "id": "1LwfD9nhRFwO"
      },
      "source": [
        "\n"
      ],
      "execution_count": null,
      "outputs": []
    }
  ]
}