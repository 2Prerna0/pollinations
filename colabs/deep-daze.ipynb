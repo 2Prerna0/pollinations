{
  "nbformat": 4,
  "nbformat_minor": 0,
  "metadata": {
    "colab": {
      "name": "Deep Daze",
      "provenance": [],
      "collapsed_sections": [],
      "toc_visible": true,
      "machine_shape": "hm",
      "include_colab_link": true
    },
    "kernelspec": {
      "name": "python3",
      "display_name": "Python 3"
    },
    "accelerator": "GPU"
  },
  "cells": [
    {
      "cell_type": "markdown",
      "metadata": {
        "id": "view-in-github",
        "colab_type": "text"
      },
      "source": [
        "<a href=\"https://colab.research.google.com/github/voodoohop/colabasaservice/blob/master/colabs/deep-daze.ipynb\" target=\"_parent\"><img src=\"https://colab.research.google.com/assets/colab-badge.svg\" alt=\"Open In Colab\"/></a>"
      ]
    },
    {
      "cell_type": "code",
      "metadata": {
        "id": "YpRu6LTR2LbD",
        "colab": {
          "base_uri": "https://localhost:8080/"
        },
        "outputId": "bec37206-6e12-4876-98f2-546530dfb5bb"
      },
      "source": [
        "!pip install deep-daze stomp.py --upgrade"
      ],
      "execution_count": null,
      "outputs": [
        {
          "output_type": "stream",
          "text": [
            "Requirement already up-to-date: deep-daze in /usr/local/lib/python3.7/dist-packages (0.10.2)\n",
            "Requirement already up-to-date: stomp.py in /usr/local/lib/python3.7/dist-packages (7.0.0)\n",
            "Requirement already satisfied, skipping upgrade: fire in /usr/local/lib/python3.7/dist-packages (from deep-daze) (0.4.0)\n",
            "Requirement already satisfied, skipping upgrade: imageio>=2.9.0 in /usr/local/lib/python3.7/dist-packages (from deep-daze) (2.9.0)\n",
            "Requirement already satisfied, skipping upgrade: ftfy in /usr/local/lib/python3.7/dist-packages (from deep-daze) (6.0)\n",
            "Requirement already satisfied, skipping upgrade: torch-optimizer in /usr/local/lib/python3.7/dist-packages (from deep-daze) (0.1.0)\n",
            "Requirement already satisfied, skipping upgrade: regex in /usr/local/lib/python3.7/dist-packages (from deep-daze) (2019.12.20)\n",
            "Requirement already satisfied, skipping upgrade: torchvision>=0.8.2 in /usr/local/lib/python3.7/dist-packages (from deep-daze) (0.9.1+cu101)\n",
            "Requirement already satisfied, skipping upgrade: tqdm in /usr/local/lib/python3.7/dist-packages (from deep-daze) (4.41.1)\n",
            "Requirement already satisfied, skipping upgrade: einops>=0.3 in /usr/local/lib/python3.7/dist-packages (from deep-daze) (0.3.0)\n",
            "Requirement already satisfied, skipping upgrade: torch>=1.7.1 in /usr/local/lib/python3.7/dist-packages (from deep-daze) (1.8.1+cu101)\n",
            "Requirement already satisfied, skipping upgrade: siren-pytorch>=0.0.8 in /usr/local/lib/python3.7/dist-packages (from deep-daze) (0.1.5)\n",
            "Requirement already satisfied, skipping upgrade: docopt<0.7.0,>=0.6.2 in /usr/local/lib/python3.7/dist-packages (from stomp.py) (0.6.2)\n",
            "Requirement already satisfied, skipping upgrade: six in /usr/local/lib/python3.7/dist-packages (from fire->deep-daze) (1.15.0)\n",
            "Requirement already satisfied, skipping upgrade: termcolor in /usr/local/lib/python3.7/dist-packages (from fire->deep-daze) (1.1.0)\n",
            "Requirement already satisfied, skipping upgrade: pillow in /usr/local/lib/python3.7/dist-packages (from imageio>=2.9.0->deep-daze) (7.1.2)\n",
            "Requirement already satisfied, skipping upgrade: numpy in /usr/local/lib/python3.7/dist-packages (from imageio>=2.9.0->deep-daze) (1.19.5)\n",
            "Requirement already satisfied, skipping upgrade: wcwidth in /usr/local/lib/python3.7/dist-packages (from ftfy->deep-daze) (0.2.5)\n",
            "Requirement already satisfied, skipping upgrade: pytorch-ranger>=0.1.1 in /usr/local/lib/python3.7/dist-packages (from torch-optimizer->deep-daze) (0.1.1)\n",
            "Requirement already satisfied, skipping upgrade: typing-extensions in /usr/local/lib/python3.7/dist-packages (from torch>=1.7.1->deep-daze) (3.7.4.3)\n"
          ],
          "name": "stdout"
        }
      ]
    },
    {
      "cell_type": "code",
      "metadata": {
        "colab": {
          "base_uri": "https://localhost:8080/",
          "height": 147
        },
        "id": "KHXMdtZSh3rs",
        "outputId": "66292330-b46c-4dbd-c00d-b680943c6e4e"
      },
      "source": [
        "from subprocess import Popen, PIPE, STDOUT\n",
        "from sys import stdout\n",
        "from glob import glob\n",
        "import os\n",
        "import stomp\n",
        "import json\n",
        "import itertools\n",
        "from base64 import b64encode\n",
        "from time import sleep\n",
        "import requests\n",
        "import os\n",
        " \n",
        "flatten = itertools.chain.from_iterable\n",
        "\n",
        "\n",
        "\n",
        "DEFAULT_PARAMS='--lower_bound_cutout 0.7 --deeper --image-width=384 --iterations=500 --epochs=5 --save-every=15 --save-progress=True --open_folder=False --overwrite=True \"An intricate closeup drawing of an individual alien Neuron\"'\n",
        "\n",
        "conn = stomp.Connection([('b-4e89df1f-8226-4cc4-a518-4e1ac0023c97-1.mq.eu-central-1.amazonaws.com', 61614)], use_ssl=True)\n",
        "conn.connect('guest', 'iamcolabguest', wait=True)\n",
        "\n",
        "\n",
        "\n",
        "def run(params=DEFAULT_PARAMS, watch_media_paths=[\"./*.jpg\",\"./*.mp4\"]):\n",
        "  cmd = f'imagine {params}'\n",
        "  \n",
        "\n",
        "\n",
        "p = Popen(cmd, stdout = PIPE, \n",
        "        stderr = STDOUT, shell = True)\n",
        "\n",
        "FOUND_MEDIA_FILES=[]\n",
        "while True:\n",
        "  line = p.stdout.readline()#\n",
        "  if not line: break\n",
        "\n",
        "  stdout.write(line)\n",
        "  conn.send(body=line.decode(\"utf-8\"), destination='/topic/colabOut')\n",
        "  NEW_FOUND_MEDIA_FILES = get_matching_files(watch_media_paths)\n",
        "  NEW_FOUND_MEDIA_FILES.sort(key=os.path.getmtime)\n",
        "  ADDED_MEDIA_FILES = list(set(NEW_FOUND_MEDIA_FILES)-set(FOUND_MEDIA_FILES))\n",
        "  FOUND_MEDIA_FILES = NEW_FOUND_MEDIA_FILES\n",
        "\n",
        "  if len(ADDED_MEDIA_FILES) > 0:\n",
        "    for added in ADDED_MEDIA_FILES:\n",
        "      sleep(0.1)\n",
        "      if len(added) > 0:\n",
        "        print(\"reading\", added)\n",
        "        with open(added,\"rb\") as media_file:\n",
        "          added_media = media_file.read()\n",
        "          base64_encoded_added = f\"data:image/jpg;base64,{b64encode(added_media).decode('ascii')}\"\n",
        "        \n",
        "        conn.send(body=base64_encoded_added, destination='/topic/colabMediaOut')\n",
        "\n",
        "def get_matching_files(search_paths):\n",
        "  return list(flatten([glob(search_path) for search_path in search_paths]))\n",
        "\n",
        "conn.disconnect()\n",
        "\n"
      ],
      "execution_count": 41,
      "outputs": [
        {
          "output_type": "error",
          "ename": "IndentationError",
          "evalue": "ignored",
          "traceback": [
            "\u001b[0;36m  File \u001b[0;32m\"<ipython-input-41-55908d5275b3>\"\u001b[0;36m, line \u001b[0;32m15\u001b[0m\n\u001b[0;31m    PARAMS='--lower_bound_cutout 0.7 --deeper --image-width=384 --iterations=500 --epochs=5 --save-every=15 --save-progress=True --open_folder=False --overwrite=True \"An intricate closeup drawing of an individual alien Neuron\"'\u001b[0m\n\u001b[0m         ^\u001b[0m\n\u001b[0;31mIndentationError\u001b[0m\u001b[0;31m:\u001b[0m expected an indented block\n"
          ]
        }
      ]
    },
    {
      "cell_type": "code",
      "metadata": {
        "id": "6wx3pNdK_Gpc"
      },
      "source": [
        ""
      ],
      "execution_count": null,
      "outputs": []
    },
    {
      "cell_type": "code",
      "metadata": {
        "id": "rkvq18n1zrHo",
        "colab": {
          "base_uri": "https://localhost:8080/",
          "height": 17
        },
        "outputId": "3c2752ef-f14a-4380-c5e8-dac1541d5167"
      },
      "source": [
        "%%javascript\n",
        "console.log(window.top.location.search)"
      ],
      "execution_count": 40,
      "outputs": [
        {
          "output_type": "display_data",
          "data": {
            "application/javascript": [
              "console.log(window.top.location.search)"
            ],
            "text/plain": [
              "<IPython.core.display.Javascript object>"
            ]
          },
          "metadata": {
            "tags": []
          }
        }
      ]
    },
    {
      "cell_type": "code",
      "metadata": {
        "id": "GRIiu7CfzuBK"
      },
      "source": [
        ""
      ],
      "execution_count": null,
      "outputs": []
    }
  ]
}