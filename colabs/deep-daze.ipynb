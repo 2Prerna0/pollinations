{
  "nbformat": 4,
  "nbformat_minor": 0,
  "metadata": {
    "colab": {
      "name": "Deep Daze",
      "provenance": [],
      "collapsed_sections": [],
      "machine_shape": "hm",
      "include_colab_link": true
    },
    "kernelspec": {
      "name": "python3",
      "display_name": "Python 3"
    },
    "accelerator": "GPU"
  },
  "cells": [
    {
      "cell_type": "markdown",
      "metadata": {
        "id": "view-in-github",
        "colab_type": "text"
      },
      "source": [
        "<a href=\"https://colab.research.google.com/github/voodoohop/colabasaservice/blob/master/colabs/deep-daze.ipynb\" target=\"_parent\"><img src=\"https://colab.research.google.com/assets/colab-badge.svg\" alt=\"Open In Colab\"/></a>"
      ]
    },
    {
      "cell_type": "code",
      "metadata": {
        "id": "YpRu6LTR2LbD"
      },
      "source": [
        "!pip install deep-daze stomp-py --upgrade"
      ],
      "execution_count": null,
      "outputs": []
    },
    {
      "cell_type": "code",
      "metadata": {
        "colab": {
          "base_uri": "https://localhost:8080/",
          "height": 334
        },
        "id": "KHXMdtZSh3rs",
        "outputId": "a661851e-9057-4198-db91-8a5688caf341"
      },
      "source": [
        "from subprocess import Popen, PIPE, STDOUT\n",
        "from sys import stdout\n",
        "from glob import glob\n",
        "import stomp\n",
        "\n",
        "WATCH_MEDIA_FILES = [\"./*.jpg\",\"./*.mp4\"]\n",
        "\n",
        "conn = stomp.Connection([('b-4e89df1f-8226-4cc4-a518-4e1ac0023c97-1.mq.eu-central-1.amazonaws.com', 61614)], use_ssl=True)\n",
        "conn.connect('guest', 'iamcolabguest', wait=True)\n",
        "\n",
        "\n",
        "!rm *.jpg\n",
        "\n",
        "p = Popen('imagine --iterations=50 --epochs=5 --save-every=5 --save-progress=True --open_folder=False --overwrite=True \"A slick high-contrast\"', stdout = PIPE, \n",
        "        stderr = STDOUT, shell = True)\n",
        "\n",
        "FOUND_MEDIA_FILES=[]\n",
        "while True:\n",
        "  line = p.stdout.readline()#\n",
        "  if not line: break\n",
        "\n",
        "  stdout.write(line)\n",
        "  conn.send(body=line.decode(\"utf-8\"), destination='/topic/colabOut')\n",
        "  FOUND_MEDIA_FILES=[glob(search_path) for search_path in WATCH_MEDIA_FILES]\n",
        "  conn.send(body=FOUND_MEDIA_FILES, destination='/topic/colabMediaOut')\n",
        "conn.disconnect()"
      ],
      "execution_count": 13,
      "outputs": [
        {
          "output_type": "stream",
          "text": [
            "\rloss: -32.63:  22%|██▏       | 11/50 [00:16<00:59,  1.53s/it]\u001b[A\n",
            "loss: -30.89:  22%|██▏       | 11/50 [00:18<00:59,  1.53s/it]\u001b[A\n",
            "loss: -30.89:  24%|██▍       | 12/50 [00:18<00:57,  1.52s/it]\u001b[A\n",
            "loss: -29.80:  24%|██▍       | 12/50 [00:19<00:57,  1.52s/it]\u001b[A\n",
            "loss: -29.80:  26%|██▌       | 13/50 [00:19<00:56,  1.52s/it]\u001b[A\n",
            "loss: -32.22:  26%|██▌       | 13/50 [00:21<00:56,  1.52s/it]\u001b[A\n"
          ],
          "name": "stdout"
        },
        {
          "output_type": "error",
          "ename": "KeyboardInterrupt",
          "evalue": "ignored",
          "traceback": [
            "\u001b[0;31m---------------------------------------------------------------------------\u001b[0m",
            "\u001b[0;31mKeyboardInterrupt\u001b[0m                         Traceback (most recent call last)",
            "\u001b[0;32m<ipython-input-13-f098a7a4208a>\u001b[0m in \u001b[0;36m<module>\u001b[0;34m()\u001b[0m\n\u001b[1;32m     13\u001b[0m         stderr = STDOUT, shell = True)\n\u001b[1;32m     14\u001b[0m \u001b[0;32mwhile\u001b[0m \u001b[0;32mTrue\u001b[0m\u001b[0;34m:\u001b[0m\u001b[0;34m\u001b[0m\u001b[0;34m\u001b[0m\u001b[0m\n\u001b[0;32m---> 15\u001b[0;31m   \u001b[0mline\u001b[0m \u001b[0;34m=\u001b[0m \u001b[0mp\u001b[0m\u001b[0;34m.\u001b[0m\u001b[0mstdout\u001b[0m\u001b[0;34m.\u001b[0m\u001b[0mreadline\u001b[0m\u001b[0;34m(\u001b[0m\u001b[0;34m)\u001b[0m\u001b[0;31m#\u001b[0m\u001b[0;34m\u001b[0m\u001b[0;34m\u001b[0m\u001b[0m\n\u001b[0m\u001b[1;32m     16\u001b[0m   \u001b[0;32mif\u001b[0m \u001b[0;32mnot\u001b[0m \u001b[0mline\u001b[0m\u001b[0;34m:\u001b[0m \u001b[0;32mbreak\u001b[0m\u001b[0;34m\u001b[0m\u001b[0;34m\u001b[0m\u001b[0m\n\u001b[1;32m     17\u001b[0m \u001b[0;34m\u001b[0m\u001b[0m\n",
            "\u001b[0;31mKeyboardInterrupt\u001b[0m: "
          ]
        }
      ]
    },
    {
      "cell_type": "code",
      "metadata": {
        "id": "VDqoJM_Cj6od"
      },
      "source": [
        ""
      ],
      "execution_count": null,
      "outputs": []
    },
    {
      "cell_type": "code",
      "metadata": {
        "id": "6IPQ_rdA2Sa7"
      },
      "source": [
        "from tqdm.notebook import trange\n",
        "from IPython.display import Image, display\n",
        "\n",
        "from deep_daze import Imagine\n",
        "\n",
        "TEXT = 'A slick high-contrast ad for an interactive futuristic school with children, teachers with a dark blue background' #@param {type:\"string\"}\n",
        "NUM_LAYERS = 32 #@param {type:\"number\"}\n",
        "SAVE_EVERY =  10#@param {type:\"number\"}\n",
        "IMAGE_WIDTH =  256#@param {type:\"number\"}\n",
        "SAVE_PROGRESS = True #@param {type:\"boolean\"}\n",
        "LEARNING_RATE = 1e-5 #@param {type:\"number\"}\n",
        "ITERATIONS = 1050 #@param {type:\"number\"}\n",
        "\n",
        "model = Imagine(\n",
        "    text = TEXT,\n",
        "    num_layers = NUM_LAYERS,\n",
        "    save_every = SAVE_EVERY,\n",
        "    image_width = IMAGE_WIDTH,\n",
        "    lr = LEARNING_RATE,\n",
        "    iterations = ITERATIONS,\n",
        "    save_progress = SAVE_PROGRESS\n",
        ")\n",
        "\n",
        "for epoch in trange(20, desc = 'epochs'):\n",
        "    for i in trange(ITERATIONS, desc = 'iteration'):\n",
        "        model.train_step(epoch, i)\n",
        "\n",
        "        if i % model.save_every != 0:\n",
        "            continue\n",
        "\n",
        "        filename = TEXT[:77].replace(' ', '_')\n",
        "        print(\"filename\",filename)\n",
        "        image = Image(f'./{filename}.jpg')\n",
        "        display(image)"
      ],
      "execution_count": null,
      "outputs": []
    },
    {
      "cell_type": "code",
      "metadata": {
        "id": "B69QrO9MAZLk"
      },
      "source": [
        "!zip images.zip *dreams*.jpg\n",
        "!mkdir images\n",
        "!mv images.zip images"
      ],
      "execution_count": null,
      "outputs": []
    },
    {
      "cell_type": "code",
      "metadata": {
        "id": "ZoQbS61FXLPD"
      },
      "source": [
        "from glob import glob\n",
        "import requests\n",
        "import requests\n",
        "from tqdm import tqdm\n",
        "!mkdir -p results\n",
        "for imgfile in tqdm(glob(\"./A_slick*.jpg\")):\n",
        "  print(\"Super resolution of\", imgfile)\n",
        "  \n",
        "  r = requests.post(\n",
        "    \"https://api.deepai.org/api/waifu2x\",\n",
        "    files={\n",
        "        'image': open(imgfile, 'rb'),\n",
        "    },\n",
        "    headers={'api-key': \"blalasd\"}\n",
        "  )\n",
        "  srurl = r.json()[\"output_url\"]\n",
        "  with open(f\"/content/results/{imgfile}.upsampled.jpg\", 'wb') as f:\n",
        "    f.write(requests.get(srurl).content)\n",
        "  #!echo curl -F f\"\\'image=@{imgfile}\\' -H api-key: https://api.deepai.org/api/torch-srgan\" "
      ],
      "execution_count": null,
      "outputs": []
    },
    {
      "cell_type": "code",
      "metadata": {
        "id": "jG-JfQSnFb6Q"
      },
      "source": [
        "!mkdir -p images\n",
        "!ffmpeg -r 20 -y -i results/A_slick%*.jpg -filter:v scale=512:-1 images/env_school_flashy.mp4"
      ],
      "execution_count": null,
      "outputs": []
    },
    {
      "cell_type": "code",
      "metadata": {
        "id": "pmzMp__aLDgn"
      },
      "source": [
        "!pip install stomp-py"
      ],
      "execution_count": null,
      "outputs": []
    },
    {
      "cell_type": "code",
      "metadata": {
        "id": "PGPu9QpfhOvI"
      },
      "source": [
        ""
      ],
      "execution_count": null,
      "outputs": []
    }
  ]
}