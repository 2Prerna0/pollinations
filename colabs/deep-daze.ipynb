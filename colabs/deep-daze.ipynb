{
  "nbformat": 4,
  "nbformat_minor": 0,
  "metadata": {
    "colab": {
      "name": "Deep Daze",
      "provenance": [],
      "collapsed_sections": [],
      "include_colab_link": true
    },
    "kernelspec": {
      "name": "python3",
      "display_name": "Python 3"
    },
    "accelerator": "GPU"
  },
  "cells": [
    {
      "cell_type": "markdown",
      "metadata": {
        "id": "view-in-github",
        "colab_type": "text"
      },
      "source": [
        "<a href=\"https://colab.research.google.com/github/voodoohop/pollinations/blob/master/colabs/deep-daze.ipynb\" target=\"_parent\"><img src=\"https://colab.research.google.com/assets/colab-badge.svg\" alt=\"Open In Colab\"/></a>"
      ]
    },
    {
      "cell_type": "markdown",
      "metadata": {
        "id": "fDs_ZA4z2aao"
      },
      "source": [
        "# Text to Image\n",
        "### Method: CLIP + Siren\n",
        "This model combines an image classifier called **CLIP** from *OpenAI* and an image generator called **SIREN.**\n",
        "\n",
        "The process works like this:\n",
        "1.  The **SIREN** model at first generates a completely random image\n",
        "2.  The **CLIP** image classifier looks at the image and compares it with the given text caption\n",
        "3.  Using this feedback the weights of the **SIREN** model are adjusted slightly to better approximate the image caption\n",
        "4.  These steps are repeated until we stop it manually\n",
        "---\n",
        "In order to run click the [Colab] link. And then select *Runtime -> Run all* from the menu bar.\n",
        "\n",
        "[colab]: https://colab.research.google.com/github/voodoohop/colabasaservice/blob/master/colabs/deep-daze.ipynb"
      ]
    },
    {
      "cell_type": "markdown",
      "metadata": {
        "id": "KG2g6OrGl8Hy"
      },
      "source": [
        "## Parameters"
      ]
    },
    {
      "cell_type": "code",
      "metadata": {
        "id": "eCWAiIbllADm"
      },
      "source": [
        "text = 'An illustration of a black and white cat'  #@param {type: \"string\"}\n",
        "args = '--lower_bound_cutout 0.5 --image-width=384 --iterations=1000 --epochs=2 --save-every=1 --save-progress=True --open_folder=False --overwrite=True --save_video=True --seed=123'  #@param {type: \"string\"}\n",
        "\n",
        "parameters = {\n",
        "    \"text\": text,\n",
        "    \"args\": args\n",
        "}\n",
        "\n",
        "IPFS_PEER = \"18.157.173.110\"\n",
        "ipfs_root = \"/content/ipfs\""
      ],
      "execution_count": 1,
      "outputs": []
    },
    {
      "cell_type": "markdown",
      "metadata": {
        "id": "z8RkOYkzmGDW"
      },
      "source": [
        "## Code (Frontend and IPFS Connection)"
      ]
    },
    {
      "cell_type": "code",
      "metadata": {
        "id": "pWfAE_iqBMdB"
      },
      "source": [
        "#@title Empty and create ipfs root: */content/ipfs*\n",
        "\n",
        "\n",
        "\n",
        "!rm -r $ipfs_root\n",
        "!mkdir -p $ipfs_root/input\n",
        "!mkdir -p $ipfs_root/output\n",
        "!echo \"Created IPFS resource\" > $ipfs_root/output/log\n",
        "\n",
        "for key, default in parameters.items():\n",
        "  print(default, file=open(f\"{ipfs_root}/input/{key}\", 'a'))\n",
        "\n"
      ],
      "execution_count": 2,
      "outputs": []
    },
    {
      "cell_type": "code",
      "metadata": {
        "id": "9j1zUbMN4VDP",
        "cellView": "form",
        "colab": {
          "base_uri": "https://localhost:8080/"
        },
        "outputId": "e2ab7d59-865f-44d5-b64d-01ebd3bd97ff"
      },
      "source": [
        "#@title Install IPFS-GO\n",
        "\n",
        "!pip install aioipfs nest-asyncio\n",
        "\n",
        "#!npm install -g nodemon\n"
      ],
      "execution_count": 3,
      "outputs": [
        {
          "output_type": "stream",
          "text": [
            "Requirement already satisfied: aioipfs in /usr/local/lib/python3.7/dist-packages (0.5.5)\n",
            "Requirement already satisfied: nest-asyncio in /usr/local/lib/python3.7/dist-packages (1.5.1)\n",
            "Requirement already satisfied: orjson<3.4,>=3 in /usr/local/lib/python3.7/dist-packages (from aioipfs) (3.3.1)\n",
            "Requirement already satisfied: aiofiles>=0.4.0 in /usr/local/lib/python3.7/dist-packages (from aioipfs) (0.6.0)\n",
            "Requirement already satisfied: base58>=1.0.2 in /usr/local/lib/python3.7/dist-packages (from aioipfs) (2.1.0)\n",
            "Requirement already satisfied: aiohttp>=3.7.4 in /usr/local/lib/python3.7/dist-packages (from aioipfs) (3.7.4.post0)\n",
            "Requirement already satisfied: multidict<7.0,>=4.5 in /usr/local/lib/python3.7/dist-packages (from aiohttp>=3.7.4->aioipfs) (5.1.0)\n",
            "Requirement already satisfied: yarl<2.0,>=1.0 in /usr/local/lib/python3.7/dist-packages (from aiohttp>=3.7.4->aioipfs) (1.6.3)\n",
            "Requirement already satisfied: typing-extensions>=3.6.5 in /usr/local/lib/python3.7/dist-packages (from aiohttp>=3.7.4->aioipfs) (3.7.4.3)\n",
            "Requirement already satisfied: async-timeout<4.0,>=3.0 in /usr/local/lib/python3.7/dist-packages (from aiohttp>=3.7.4->aioipfs) (3.0.1)\n",
            "Requirement already satisfied: attrs>=17.3.0 in /usr/local/lib/python3.7/dist-packages (from aiohttp>=3.7.4->aioipfs) (20.3.0)\n",
            "Requirement already satisfied: chardet<5.0,>=2.0 in /usr/local/lib/python3.7/dist-packages (from aiohttp>=3.7.4->aioipfs) (3.0.4)\n",
            "Requirement already satisfied: idna>=2.0 in /usr/local/lib/python3.7/dist-packages (from yarl<2.0,>=1.0->aiohttp>=3.7.4->aioipfs) (2.10)\n"
          ],
          "name": "stdout"
        }
      ]
    },
    {
      "cell_type": "code",
      "metadata": {
        "id": "hH76cPjgwZBJ"
      },
      "source": [
        "#@title Connect to local IPFS node and publish ipfs root\n",
        "!sleep 5\n",
        "import sys\n",
        "import asyncio\n",
        "import aioipfs\n",
        "import nest_asyncio\n",
        "import json\n",
        "\n",
        "#client = aioipfs.AsyncIPFS(debug=True)\n",
        "clientRemote = aioipfs.AsyncIPFS(host=IPFS_PEER,port=5002,debug=True)\n",
        "client=clientRemote\n",
        "ipfs_nodeid = None\n",
        "ipfs_contentid = None\n",
        "async def get_node_id():\n",
        "    return (await client.id())[\"ID\"]\n",
        "\n",
        "async def _add_and_publish(path=ipfs_root, pin_remote=False):\n",
        "    global ipfs_contentid\n",
        "    last_added=None\n",
        "    async for added_file in client.add(path, recursive=True):\n",
        "      print('Imported file', added_file)\n",
        "      last_added=added_file[\"Hash\"]\n",
        "    ipfs_contentid = last_added\n",
        "    update_frontend()\n",
        "    return last_added\n",
        "\n",
        "def add_and_publish():\n",
        "  asyncio.run(loop.create_task(_add_and_publish(pin_remote=True)))\n",
        "\n",
        "loop = asyncio.get_running_loop()\n",
        "nest_asyncio.apply(loop)\n",
        "\n",
        "\n",
        "ipfs_nodeid = asyncio.run(loop.create_task(get_node_id()))\n",
        "\n",
        "\n",
        "\n",
        "#asyncio.run(loop.create_task(sub(\"hello\")))\n",
        "\n"
      ],
      "execution_count": 4,
      "outputs": []
    },
    {
      "cell_type": "code",
      "metadata": {
        "id": "N85GXpdFqON7",
        "colab": {
          "base_uri": "https://localhost:8080/"
        },
        "outputId": "2a673a00-f746-462b-95e1-182f1a3bd0a5"
      },
      "source": [
        "#@title Connect to IPFS Pubsub\n",
        "\n",
        "async def subscribe(topic, handler=None):\n",
        "  print(\"subscribed to\",topic)\n",
        "  async for message in client.pubsub.sub(topic):\n",
        "    if handler:\n",
        "      await handler(message)\n",
        "    else:\n",
        "      print(\"No handler. Received IPFS pub message\",message)\n",
        "    break\n",
        "\n",
        "async def publish(topic, data):\n",
        "  print(\"publishing\",topic,data)\n",
        "  await client.pubsub.pub(topic, data)\n",
        "\n",
        "def on_frontend_data(handler):\n",
        "  async def handle(ipfs_message):\n",
        "    await handler(ipfs_message[\"data\"])\n",
        "  asyncio.run(loop.create_task(subscribe(ipfs_nodeid, handle)))\n",
        "\n",
        "def update_frontend():\n",
        "  asyncio.run(loop.create_task(publish(ipfs_nodeid, ipfs_contentid)))\n",
        "\n",
        "\n",
        "\n",
        "add_and_publish()"
      ],
      "execution_count": 5,
      "outputs": [
        {
          "output_type": "stream",
          "text": [
            "Imported file {'Name': 'ipfs/output/log', 'Hash': 'Qmbj3AxwdsTAtgDDEt91Yr7RaHqBTseABrnKyFzNycjjuH', 'Size': '30'}\n",
            "Imported file {'Name': 'ipfs/input/text', 'Hash': 'Qma6UpYxGUCKJcrhhJ18KBsg5Je11X2JnFjCKoqVduFBGX', 'Size': '49'}\n",
            "Imported file {'Name': 'ipfs/input/args', 'Hash': 'QmQrsnzcozjE3S1KBnnWHQGXP9onTgsCWqL74dZwPLe9KL', 'Size': '185'}\n",
            "Imported file {'Name': 'ipfs/input', 'Hash': 'QmTJwfv5GqTkBAraN2kVQBcHAzaiQpb7Xe2EyGfEm2wEkj', 'Size': '331'}\n",
            "Imported file {'Name': 'ipfs/output', 'Hash': 'QmU5jczrSj1WhiYE95E7KXyPq46oqY7yMmSgM6d4en74va', 'Size': '79'}\n",
            "Imported file {'Name': 'ipfs', 'Hash': 'QmRSYEQgZBgWiGenVke62KBZhEFzkdyaPqiTwjkGMLKeTc', 'Size': '510'}\n",
            "publishing QmWxrFJqurnyedzJ5rzpgycTqSikJ7kcy7eHmqYnndKhwr QmRSYEQgZBgWiGenVke62KBZhEFzkdyaPqiTwjkGMLKeTc\n"
          ],
          "name": "stdout"
        }
      ]
    },
    {
      "cell_type": "code",
      "metadata": {
        "id": "A4TYvT7yoGvE",
        "cellView": "form",
        "colab": {
          "base_uri": "https://localhost:8080/",
          "height": 175
        },
        "outputId": "f0ed2fdc-a4ad-4815-b44e-0397b403e500"
      },
      "source": [
        "#@title Create connection to frontend UI\n",
        "\n",
        "import IPython\n",
        "from google.colab import output\n",
        "\n",
        "display(IPython.display.Javascript(f'''\n",
        "  const iframe = document.createElement(\"iframe\")\n",
        "  iframe.src = `http://localhost:3000/incolab.html?node={ipfs_nodeid},{ipfs_contentid}`\n",
        "\n",
        "  document.querySelector(\"#output-area\").appendChild(iframe)\n",
        "'''))\n",
        "\n"
      ],
      "execution_count": 6,
      "outputs": [
        {
          "output_type": "display_data",
          "data": {
            "application/javascript": [
              "\n",
              "  const iframe = document.createElement(\"iframe\")\n",
              "  iframe.src = `http://localhost:3000/incolab.html?node=QmWxrFJqurnyedzJ5rzpgycTqSikJ7kcy7eHmqYnndKhwr,QmRSYEQgZBgWiGenVke62KBZhEFzkdyaPqiTwjkGMLKeTc`\n",
              "\n",
              "  document.querySelector(\"#output-area\").appendChild(iframe)\n"
            ],
            "text/plain": [
              "<IPython.core.display.Javascript object>"
            ]
          },
          "metadata": {
            "tags": []
          }
        }
      ]
    },
    {
      "cell_type": "code",
      "metadata": {
        "id": "CbBRFIXpvv30",
        "colab": {
          "base_uri": "https://localhost:8080/"
        },
        "outputId": "66700da2-73c6-49ff-8316-7a6c15dc0c5a"
      },
      "source": [
        "async def update_ipfs_content(contentid):\n",
        "  global ipfs_contentid\n",
        "  contentid = contentid.decode(\"utf-8\")\n",
        "  \n",
        "  await client.get(contentid)\n",
        "  !cp -rv $contentid/* $ipfs_root\n",
        "  #!rm -r $contentid\n",
        "  ipfs_contentid = contentid\n",
        "\n",
        "on_frontend_data(update_ipfs_content)\n"
      ],
      "execution_count": 12,
      "outputs": [
        {
          "output_type": "stream",
          "text": [
            "subscribed to QmWxrFJqurnyedzJ5rzpgycTqSikJ7kcy7eHmqYnndKhwr\n",
            "'QmbtCHWooPxZemoLeFeecXdzdffqXbofeqPjxfqpTopx6L/input/args' -> '/content/ipfs/input/args'\n",
            "'QmbtCHWooPxZemoLeFeecXdzdffqXbofeqPjxfqpTopx6L/input/text' -> '/content/ipfs/input/text'\n",
            "'QmbtCHWooPxZemoLeFeecXdzdffqXbofeqPjxfqpTopx6L/output/log' -> '/content/ipfs/output/log'\n"
          ],
          "name": "stdout"
        }
      ]
    },
    {
      "cell_type": "code",
      "metadata": {
        "id": "mD8tRZESGzeP",
        "colab": {
          "base_uri": "https://localhost:8080/"
        },
        "outputId": "f6fcd4b9-476c-4dea-8ddd-5034d0752b51"
      },
      "source": [
        "from glob import glob\n",
        "from os.path import basename\n",
        "for path in glob(f\"{ipfs_root}/input/*\"):\n",
        "  key = basename(path)\n",
        "  with open(path,'r') as f:\n",
        "    value = f.read()\n",
        "    parameters[key] = value\n",
        "\n",
        "print(\"New parameters\", parameters)"
      ],
      "execution_count": 7,
      "outputs": [
        {
          "output_type": "stream",
          "text": [
            "New parameters {'text': 'An illustration of a black and white cat\\n', 'args': '--lower_bound_cutout 0.5 --image-width=384 --iterations=1000 --epochs=2 --save-every=1 --save-progress=True --open_folder=False --overwrite=True --save_video=True --seed=123\\n'}\n"
          ],
          "name": "stdout"
        }
      ]
    },
    {
      "cell_type": "markdown",
      "metadata": {
        "id": "GVkVyH_Fj8P8"
      },
      "source": [
        "## CODE (DEEP-DAZE)"
      ]
    },
    {
      "cell_type": "code",
      "metadata": {
        "id": "YpRu6LTR2LbD",
        "colab": {
          "base_uri": "https://localhost:8080/"
        },
        "outputId": "e8e2bb38-a0c2-4dd3-ee7f-247b689a03a7"
      },
      "source": [
        "!pip install deep-daze --upgrade\n",
        "!pip install imageio-ffmpeg asyncio websockets varname --upgrade"
      ],
      "execution_count": 8,
      "outputs": [
        {
          "output_type": "stream",
          "text": [
            "Requirement already up-to-date: deep-daze in /usr/local/lib/python3.7/dist-packages (0.10.2)\n",
            "Requirement already satisfied, skipping upgrade: torch-optimizer in /usr/local/lib/python3.7/dist-packages (from deep-daze) (0.1.0)\n",
            "Requirement already satisfied, skipping upgrade: tqdm in /usr/local/lib/python3.7/dist-packages (from deep-daze) (4.41.1)\n",
            "Requirement already satisfied, skipping upgrade: siren-pytorch>=0.0.8 in /usr/local/lib/python3.7/dist-packages (from deep-daze) (0.1.5)\n",
            "Requirement already satisfied, skipping upgrade: torch>=1.7.1 in /usr/local/lib/python3.7/dist-packages (from deep-daze) (1.8.1+cu101)\n",
            "Requirement already satisfied, skipping upgrade: regex in /usr/local/lib/python3.7/dist-packages (from deep-daze) (2019.12.20)\n",
            "Requirement already satisfied, skipping upgrade: torchvision>=0.8.2 in /usr/local/lib/python3.7/dist-packages (from deep-daze) (0.9.1+cu101)\n",
            "Requirement already satisfied, skipping upgrade: ftfy in /usr/local/lib/python3.7/dist-packages (from deep-daze) (6.0.1)\n",
            "Requirement already satisfied, skipping upgrade: einops>=0.3 in /usr/local/lib/python3.7/dist-packages (from deep-daze) (0.3.0)\n",
            "Requirement already satisfied, skipping upgrade: imageio>=2.9.0 in /usr/local/lib/python3.7/dist-packages (from deep-daze) (2.9.0)\n",
            "Requirement already satisfied, skipping upgrade: fire in /usr/local/lib/python3.7/dist-packages (from deep-daze) (0.4.0)\n",
            "Requirement already satisfied, skipping upgrade: pytorch-ranger>=0.1.1 in /usr/local/lib/python3.7/dist-packages (from torch-optimizer->deep-daze) (0.1.1)\n",
            "Requirement already satisfied, skipping upgrade: numpy in /usr/local/lib/python3.7/dist-packages (from torch>=1.7.1->deep-daze) (1.19.5)\n",
            "Requirement already satisfied, skipping upgrade: typing-extensions in /usr/local/lib/python3.7/dist-packages (from torch>=1.7.1->deep-daze) (3.7.4.3)\n",
            "Requirement already satisfied, skipping upgrade: pillow>=4.1.1 in /usr/local/lib/python3.7/dist-packages (from torchvision>=0.8.2->deep-daze) (7.1.2)\n",
            "Requirement already satisfied, skipping upgrade: wcwidth in /usr/local/lib/python3.7/dist-packages (from ftfy->deep-daze) (0.2.5)\n",
            "Requirement already satisfied, skipping upgrade: termcolor in /usr/local/lib/python3.7/dist-packages (from fire->deep-daze) (1.1.0)\n",
            "Requirement already satisfied, skipping upgrade: six in /usr/local/lib/python3.7/dist-packages (from fire->deep-daze) (1.15.0)\n",
            "Requirement already up-to-date: imageio-ffmpeg in /usr/local/lib/python3.7/dist-packages (0.4.3)\n",
            "Requirement already up-to-date: asyncio in /usr/local/lib/python3.7/dist-packages (3.4.3)\n",
            "Requirement already up-to-date: websockets in /usr/local/lib/python3.7/dist-packages (9.0.1)\n",
            "Requirement already up-to-date: varname in /usr/local/lib/python3.7/dist-packages (0.6.4)\n",
            "Requirement already satisfied, skipping upgrade: executing in /usr/local/lib/python3.7/dist-packages (from varname) (0.6.0)\n",
            "Requirement already satisfied, skipping upgrade: asttokens<3.0.0,>=2.0.0 in /usr/local/lib/python3.7/dist-packages (from varname) (2.0.5)\n",
            "Requirement already satisfied, skipping upgrade: pure_eval<1.0.0 in /usr/local/lib/python3.7/dist-packages (from varname) (0.2.1)\n",
            "Requirement already satisfied, skipping upgrade: six in /usr/local/lib/python3.7/dist-packages (from asttokens<3.0.0,>=2.0.0->varname) (1.15.0)\n"
          ],
          "name": "stdout"
        }
      ]
    },
    {
      "cell_type": "code",
      "metadata": {
        "id": "KHXMdtZSh3rs",
        "colab": {
          "base_uri": "https://localhost:8080/"
        },
        "outputId": "a02c2786-d4c3-400b-f555-d9b0414273fe"
      },
      "source": [
        "from subprocess import Popen, PIPE, STDOUT\n",
        "from sys import stdout\n",
        "from glob import glob\n",
        "import os\n",
        "import json\n",
        "import itertools\n",
        "from base64 import b64encode\n",
        "from time import sleep\n",
        "import requests\n",
        "import os\n",
        "from mimetypes import guess_type \n",
        "import re\n",
        "flatten = itertools.chain.from_iterable\n",
        "\n",
        "GITHUB_REPO=\"voodoohop/pollinations/blob/master/colabs/deep-daze.ipynb\"\n",
        "GITHUB_REPO_CLEAN = re.sub('[^0-9a-zA-Z]+', '_', GITHUB_REPO)\n",
        "print(GITHUB_REPO_CLEAN)\n",
        "#parameters[\"text\"] = \"A black and white photo of Saeko with her new Elektron FM synthesizer\"\n",
        "def run(text, args, watch_media_paths=[\"./*.jpg\",\"./*.mp4\"]):\n",
        "  print(\"Running\",text)\n",
        "  for to_remove in watch_media_paths:\n",
        "    for filepath in glob(to_remove):\n",
        "      print(\"Deleting\",filepath,\"before starting.\")\n",
        "      os.remove(filepath)\n",
        "\n",
        "  arguments = args.split(\" \")\n",
        "  cmd = ['imagine'] + arguments +[text]\n",
        "  \n",
        "  p = Popen(cmd, stdout = PIPE, \n",
        "          stderr = STDOUT, shell = True)\n",
        "\n",
        "  found_media_files=[]\n",
        "  \n",
        "  while True:\n",
        "    line = p.stdout.readline()#\n",
        "    if not line: break\n",
        "\n",
        "    stdout.write(line)\n",
        "    with open(f\"{ipfs_root}/log\",\"w\") as log_out:\n",
        "      log_out.write(line.decode(\"utf-8\"))\n",
        "      log_out.flush()\n",
        "    #headers = { \n",
        "    #    \"params\": params,\n",
        "    #    \"text\": text\n",
        "    #}\n",
        "    #conn.send(body=line.decode(\"utf-8\"), headers=headers, destination='/topic/colabOut')\n",
        "    #print(\"new contentid\", client.add(ipfs_root, recursive=True))\n",
        "    \n",
        "    #continue\n",
        "    new_found_media_files = get_matching_files(watch_media_paths)\n",
        "    new_found_media_files.sort(key=os.path.getmtime)\n",
        "    added_media_files = list(set(new_found_media_files)-set(found_media_files))\n",
        "    found_media_files = new_found_media_files\n",
        "    pin=False\n",
        "    if len(added_media_files) > 0:\n",
        "      for added in added_media_files:\n",
        "        sleep(0.1)\n",
        "        if len(added) > 0:\n",
        "          !cp $added $ipfs_root/output\n",
        "          print(\"Adding:\", added,\"to ipfs root\")\n",
        "          pin=True\n",
        "    add_and_publish()    \n",
        "       \n",
        "\n",
        "def get_matching_files(search_paths):\n",
        "  return list(flatten([glob(search_path) for search_path in search_paths]))\n",
        "\n",
        "run(**parameters)\n",
        "\n",
        "sleep(1000000)\n"
      ],
      "execution_count": null,
      "outputs": [
        {
          "output_type": "stream",
          "text": [
            "voodoohop_pollinations_blob_master_colabs_deep_daze_ipynb\n",
            "Running An illustration of a black and white cat\n",
            "\n"
          ],
          "name": "stdout"
        }
      ]
    },
    {
      "cell_type": "markdown",
      "metadata": {
        "id": "4nkfIH0C062B"
      },
      "source": [
        "# DISABLED\n",
        "```\n",
        "!wget wget https://dist.ipfs.io/go-ipfs/v0.8.0/go-ipfs_v0.8.0_linux-amd64.tar.gz\n",
        "!tar -xvzf go-ipfs_v0.8.0_linux-amd64.tar.gz\n",
        "%cd go-ipfs\n",
        "!sudo bash install.sh\n",
        "%cd -\n",
        "```"
      ]
    },
    {
      "cell_type": "markdown",
      "metadata": {
        "id": "80hHfBtK0VrA"
      },
      "source": [
        "# DISABLED\n",
        "```\n",
        "#@title Install IPFS-GO\n",
        "\n",
        "!pip install aioipfs nest-asyncio\n",
        "\n",
        "!wget wget https://dist.ipfs.io/go-ipfs/v0.8.0/go-ipfs_v0.8.0_linux-amd64.tar.gz\n",
        "!tar -xvzf go-ipfs_v0.8.0_linux-amd64.tar.gz\n",
        "%cd go-ipfs\n",
        "!sudo bash install.sh\n",
        "%cd -\n",
        "\n",
        "#!npm install -g nodemon\n",
        "```"
      ]
    },
    {
      "cell_type": "markdown",
      "metadata": {
        "id": "DDkxxEAzz_j4"
      },
      "source": [
        "```\n",
        "#@title Start IPFS daemon and connect to public daemon\n",
        "!killall ipfs 2>/dev/null\n",
        "!sleep 2\n",
        "!killall -9 ipfs 2>/dev/null\n",
        "#!nohup jsipfs daemon --enable-namesys-pubsub &\n",
        "!ipfs init\n",
        "!ipfs config Addresses.Gateway /ip4/0.0.0.0/tcp/9001\n",
        "!nohup ipfs daemon --enable-namesys-pubsub --enable-pubsub-experiment &\n",
        "!sleep 12\n",
        "#!ipfs config Addresses.API /ip4/127.0.0.1/tcp/5002\n",
        "#!jsipfs config --json API.HTTPHeaders.Access-Control-Allow-Origin '[\"*\"]'\n",
        "#!jsipfs config --json API.HTTPHeaders.Access-Control-Allow-Methods '[\"PUT\", \"GET\", \"POST\"]'\n",
        "!tail nohup.out\n",
        "!ipfs swarm connect /ip4/$IPFS_PEER/tcp/4002/p2p/QmWxrFJqurnyedzJ5rzpgycTqSikJ7kcy7eHmqYnndKhwr\n",
        "\n",
        "\n",
        "# This is formatted as code\n",
        "```\n",
        "\n"
      ]
    }
  ]
}