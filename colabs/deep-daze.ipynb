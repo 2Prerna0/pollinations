{
  "nbformat": 4,
  "nbformat_minor": 0,
  "metadata": {
    "colab": {
      "name": "Deep Daze",
      "provenance": [],
      "collapsed_sections": [],
      "machine_shape": "hm",
      "include_colab_link": true
    },
    "kernelspec": {
      "name": "python3",
      "display_name": "Python 3"
    },
    "accelerator": "GPU"
  },
  "cells": [
    {
      "cell_type": "markdown",
      "metadata": {
        "id": "view-in-github",
        "colab_type": "text"
      },
      "source": [
        "<a href=\"https://colab.research.google.com/github/voodoohop/colabasaservice/blob/master/colabs/deep-daze.ipynb\" target=\"_parent\"><img src=\"https://colab.research.google.com/assets/colab-badge.svg\" alt=\"Open In Colab\"/></a>"
      ]
    },
    {
      "cell_type": "markdown",
      "metadata": {
        "id": "fDs_ZA4z2aao"
      },
      "source": [
        "# Text to Image\n",
        "### Method: CLIP + Siren\n",
        "This model combines an image classifier called **CLIP** from *OpenAI* and an image generator called **SIREN.**\n",
        "\n",
        "The process works like this:\n",
        "1.  The **SIREN** model at first generates a completely random image\n",
        "2.  The **CLIP** image classifier looks at the image and compares it with the given text caption\n",
        "3.  Using this feedback the weights of the **SIREN** model are adjusted slightly to better approximate the image caption\n",
        "4.  These steps are repeated until we stop it manually\n",
        "---\n",
        "In order to run click the [Colab] link. And then select *Runtime -> Run all* from the menu bar.\n",
        "\n",
        "[colab]: https://colab.research.google.com/github/voodoohop/colabasaservice/blob/master/colabs/deep-daze.ipynb"
      ]
    },
    {
      "cell_type": "markdown",
      "metadata": {
        "id": "KG2g6OrGl8Hy"
      },
      "source": [
        "# Parameters"
      ]
    },
    {
      "cell_type": "code",
      "metadata": {
        "id": "eCWAiIbllADm"
      },
      "source": [
        "text = 'An illustration of a black and white cat'  #@param {type: \"string\"}\n",
        "args = '--lower_bound_cutout 0.5 --image-width=384 --iterations=1000 --epochs=2 --save-every=2 --save-progress=True --open_folder=False --overwrite=True --save_video=True --seed=123'  #@param {type: \"string\"}\n",
        "\n",
        "parameters = {\n",
        "    \"text\": text,\n",
        "    \"args\": args\n",
        "}"
      ],
      "execution_count": 107,
      "outputs": []
    },
    {
      "cell_type": "markdown",
      "metadata": {
        "id": "z8RkOYkzmGDW"
      },
      "source": [
        "## Code (IPFS Connection)"
      ]
    },
    {
      "cell_type": "code",
      "metadata": {
        "id": "o_SqjI_0jhsu"
      },
      "source": [
        "!npm install -g npm@latest\n",
        "!npm install -g --force --unsafe-perms node-pre-gyp bcrypt ipfs\n",
        "!pip install ipfshttpclient"
      ],
      "execution_count": null,
      "outputs": []
    },
    {
      "cell_type": "code",
      "metadata": {
        "id": "2YAA8YUP2URb"
      },
      "source": [
        ""
      ],
      "execution_count": null,
      "outputs": []
    },
    {
      "cell_type": "code",
      "metadata": {
        "id": "1NrilOb5jF4h",
        "colab": {
          "base_uri": "https://localhost:8080/"
        },
        "outputId": "fc9c370e-6c57-416a-d9b4-9fe00a7f57ec"
      },
      "source": [
        "IPFS_PEER=\"18.157.173.110\"\n",
        "!nohup jsipfs daemon --enable-namesys-pubsub &\n",
        "!sleep 5\n",
        "#!jsipfs config Addresses.API /ip4/127.0.0.1/tcp/5002\n",
        "#!jsipfs config --json API.HTTPHeaders.Access-Control-Allow-Origin '[\"*\"]'\n",
        "#!jsipfs config --json API.HTTPHeaders.Access-Control-Allow-Methods '[\"PUT\", \"GET\", \"POST\"]'\n",
        "!jsipfs swarm connect /ip4/$IPFS_PEER/tcp/4002/p2p/QmWxrFJqurnyedzJ5rzpgycTqSikJ7kcy7eHmqYnndKhwr"
      ],
      "execution_count": 1,
      "outputs": [
        {
          "output_type": "stream",
          "text": [
            "nohup: appending output to 'nohup.out'\n",
            "connect /ip4/18.157.173.110/tcp/4002/p2p/QmWxrFJqurnyedzJ5rzpgycTqSikJ7kcy7eHmqYnndKhwr success\n"
          ],
          "name": "stdout"
        }
      ]
    },
    {
      "cell_type": "code",
      "metadata": {
        "id": "wrcKhqkS7cYg"
      },
      "source": [
        "!pip install ipfshttpclient\n",
        "#!pip install git+https://github.com/voodoohop/py-ipfs-http-client.git"
      ],
      "execution_count": null,
      "outputs": []
    },
    {
      "cell_type": "code",
      "metadata": {
        "colab": {
          "base_uri": "https://localhost:8080/",
          "height": 175
        },
        "id": "A4TYvT7yoGvE",
        "outputId": "41337eea-7fd8-4d65-e74f-e974a2e3966a"
      },
      "source": [
        "import IPython\n",
        "from google.colab import output\n",
        "\n",
        "display(IPython.display.Javascript('''\n",
        "  const iframe = document.createElement(\"iframe\")\n",
        "  iframe.src = \"http://localhost:3000/colabasaservice/incolab.html\"\n",
        "  const channel = new BroadcastChannel(\"inColab\")\n",
        "  channel.onmessage = ({data:link}) => {\n",
        "    console.log(\"passing on link from colab\",link)\n",
        "    iframe.contentWindow.postMessage(link,\"*\");\n",
        "  }\n",
        "  function handleEvent(e) {\n",
        "      console.log(e.detail) // outputs: {foo: 'bar'}\n",
        "  }\n",
        "\n",
        "  window.document.addEventListener('myCustomEvent', handleEvent, false)\n",
        "  \n",
        "  document.querySelector(\"#output-area\").appendChild(iframe)\n",
        "'''))\n",
        "\n",
        "def update_state(link):\n",
        "  output.eval_js('new BroadcastChannel(\"inColab\").postMessage(\"'+link+'\")');\n",
        "\n",
        "#update_state(\"heeeey\")"
      ],
      "execution_count": 113,
      "outputs": [
        {
          "output_type": "display_data",
          "data": {
            "application/javascript": [
              "\n",
              "  const iframe = document.createElement(\"iframe\")\n",
              "  iframe.src = \"http://localhost:3000/colabasaservice/incolab.html\"\n",
              "  const channel = new BroadcastChannel(\"inColab\")\n",
              "  channel.onmessage = ({data:link}) => {\n",
              "    console.log(\"passing on link from colab\",link)\n",
              "    iframe.contentWindow.postMessage(link,\"*\");\n",
              "  }\n",
              "  function handleEvent(e) {\n",
              "      console.log(e.detail) // outputs: {foo: 'bar'}\n",
              "  }\n",
              "\n",
              "  window.document.addEventListener('myCustomEvent', handleEvent, false)\n",
              "  \n",
              "  document.querySelector(\"#output-area\").appendChild(iframe)\n"
            ],
            "text/plain": [
              "<IPython.core.display.Javascript object>"
            ]
          },
          "metadata": {
            "tags": []
          }
        }
      ]
    },
    {
      "cell_type": "code",
      "metadata": {
        "colab": {
          "base_uri": "https://localhost:8080/"
        },
        "id": "hH76cPjgwZBJ",
        "outputId": "ca67b275-d973-471f-998e-dd963128d5a0"
      },
      "source": [
        "#!pip install aioipfs\n",
        "import sys\n",
        "import asyncio\n",
        "\n",
        "import aioipfs\n",
        "\n",
        "client = aioipfs.AsyncIPFS(host=\"localhost\",port=5002)\n",
        "async def add_folder(path):\n",
        "    print(\"addd\")\n",
        "    print(\"simple add\", await client.core.add_str('AaasdsdasdBCD'))\n",
        "    #print(\"complex add\", await client.core.add(path,recursive=True))\n",
        "    async for added_file in client.core.add_str(path):\n",
        "        print('Imported file {0}, CID: {1}'.format(\n",
        "            added_file['Name'], added_file['Hash']))\n",
        "\n",
        "    \n",
        "\n",
        "#loop = asyncio.get_event_loop()\n",
        "asyncio.ensure_future(add_folder(\"/content/ipfs_root\"))\n",
        "\n"
      ],
      "execution_count": 16,
      "outputs": [
        {
          "output_type": "stream",
          "text": [
            "Unclosed client session\n",
            "client_session: <aiohttp.client.ClientSession object at 0x7fb1b7dc9050>\n"
          ],
          "name": "stderr"
        },
        {
          "output_type": "execute_result",
          "data": {
            "text/plain": [
              "<Task pending coro=<add_folder() running at <ipython-input-16-02002f3891e9>:8>>"
            ]
          },
          "metadata": {
            "tags": []
          },
          "execution_count": 16
        },
        {
          "output_type": "stream",
          "text": [
            "/usr/local/lib/python3.7/dist-packages/ipykernel_launcher.py:12: RuntimeWarning: coroutine 'CoreAPI.add_str' was never awaited\n",
            "  if sys.path[0] == '':\n",
            "RuntimeWarning: Enable tracemalloc to get the object allocation traceback\n"
          ],
          "name": "stderr"
        },
        {
          "output_type": "stream",
          "text": [
            "addd\n",
            "simple add {'Name': 'QmZnvAege7RFgeBPffmHDGWWzd8AA8tqqL59MKCYrhB5fY', 'Hash': 'QmZnvAege7RFgeBPffmHDGWWzd8AA8tqqL59MKCYrhB5fY', 'Size': 21, 'Mode': '0644'}\n"
          ],
          "name": "stdout"
        }
      ]
    },
    {
      "cell_type": "code",
      "metadata": {
        "id": "9j1zUbMN4VDP"
      },
      "source": [
        ""
      ],
      "execution_count": null,
      "outputs": []
    },
    {
      "cell_type": "code",
      "metadata": {
        "colab": {
          "base_uri": "https://localhost:8080/",
          "height": 71
        },
        "id": "8qv4Bszx3iip",
        "outputId": "1790099c-4e8f-4176-c515-f09c32730d4b"
      },
      "source": [
        "import ipfshttpclient #{IPFS_PEER}\n",
        "client = ipfshttpclient.connect(f\"/dns/localhost/tcp/5002/http\") \n",
        "ipfs_pinner = ipfshttpclient.connect(f\"/ip4/{IPFS_PEER}/tcp/5002/http\") \n",
        "\n",
        "ipfs_root = \"/content/ipfs_root\"\n",
        "\n",
        "!rm -r $ipfs_root\n",
        "!mkdir -p $ipfs_root\n",
        "\n",
        "def add_and_publish(pin=False, root=ipfs_root):\n",
        "  add_res = client.add(root, recursive=True)\n",
        "  print(\"add_res\",add_res[-1])\n",
        "  ipfs_hash = add_res[-1][\"Hash\"]\n",
        "  update_state(ipfs_hash)\n",
        "  return \"/ipfs/\"+ipfs_hash\n",
        "\n",
        "  #ipns_res = client.name.publish(\"/ipfs/\"+ipfs_hash)\n",
        "  #ipns_link = f\"/ipns/{ipns_res['Name']}\"\n",
        "  if pin:\n",
        "    print(\"pinres\",ipfs_pinner.pin.add(ipfs_hash))\n",
        "  #return ipns_link # f\"/ipfs/{ipfs_hash}\"\n",
        "\n",
        "ipns_link = add_and_publish(pin=True)\n",
        "\n",
        "print(\"IPNS_LINK\",ipns_link)\n"
      ],
      "execution_count": 153,
      "outputs": [
        {
          "output_type": "stream",
          "text": [
            "add_res <ipfshttpclient.client.base.ResponseBase: {'Name': 'ipfs_root', 'Hash': 'QmUNLLsPACCz1vLxQVkXqqLX5R1X345qqfHbsf67hvA3Nn', 'Size': 4, 'Mode': '0755'}>\n",
            "IPNS_LINK /ipfs/QmUNLLsPACCz1vLxQVkXqqLX5R1X345qqfHbsf67hvA3Nn\n"
          ],
          "name": "stdout"
        }
      ]
    },
    {
      "cell_type": "code",
      "metadata": {
        "id": "p0Hg9cVrlupU"
      },
      "source": [
        ""
      ],
      "execution_count": null,
      "outputs": []
    },
    {
      "cell_type": "markdown",
      "metadata": {
        "id": "5CIvTK5wrIsb"
      },
      "source": [
        ""
      ]
    },
    {
      "cell_type": "markdown",
      "metadata": {
        "id": "C-sEdQKmiYGG"
      },
      "source": [
        ""
      ]
    },
    {
      "cell_type": "markdown",
      "metadata": {
        "id": "GVkVyH_Fj8P8"
      },
      "source": [
        "## CODE (DEEP-DAZE)"
      ]
    },
    {
      "cell_type": "code",
      "metadata": {
        "id": "YpRu6LTR2LbD",
        "colab": {
          "base_uri": "https://localhost:8080/"
        },
        "outputId": "351df6a0-f609-418a-acd8-df37ed0f165e"
      },
      "source": [
        "!pip install deep-daze --upgrade\n",
        "!pip install stomp.py imageio-ffmpeg asyncio websockets varname --upgrade"
      ],
      "execution_count": 109,
      "outputs": [
        {
          "output_type": "stream",
          "text": [
            "Requirement already up-to-date: deep-daze in /usr/local/lib/python3.7/dist-packages (0.10.2)\n",
            "Requirement already satisfied, skipping upgrade: torchvision>=0.8.2 in /usr/local/lib/python3.7/dist-packages (from deep-daze) (0.9.1+cu101)\n",
            "Requirement already satisfied, skipping upgrade: regex in /usr/local/lib/python3.7/dist-packages (from deep-daze) (2019.12.20)\n",
            "Requirement already satisfied, skipping upgrade: imageio>=2.9.0 in /usr/local/lib/python3.7/dist-packages (from deep-daze) (2.9.0)\n",
            "Requirement already satisfied, skipping upgrade: tqdm in /usr/local/lib/python3.7/dist-packages (from deep-daze) (4.41.1)\n",
            "Requirement already satisfied, skipping upgrade: einops>=0.3 in /usr/local/lib/python3.7/dist-packages (from deep-daze) (0.3.0)\n",
            "Requirement already satisfied, skipping upgrade: torch>=1.7.1 in /usr/local/lib/python3.7/dist-packages (from deep-daze) (1.8.1+cu101)\n",
            "Requirement already satisfied, skipping upgrade: siren-pytorch>=0.0.8 in /usr/local/lib/python3.7/dist-packages (from deep-daze) (0.1.5)\n",
            "Requirement already satisfied, skipping upgrade: ftfy in /usr/local/lib/python3.7/dist-packages (from deep-daze) (6.0.1)\n",
            "Requirement already satisfied, skipping upgrade: torch-optimizer in /usr/local/lib/python3.7/dist-packages (from deep-daze) (0.1.0)\n",
            "Requirement already satisfied, skipping upgrade: fire in /usr/local/lib/python3.7/dist-packages (from deep-daze) (0.4.0)\n",
            "Requirement already satisfied, skipping upgrade: numpy in /usr/local/lib/python3.7/dist-packages (from torchvision>=0.8.2->deep-daze) (1.19.5)\n",
            "Requirement already satisfied, skipping upgrade: pillow>=4.1.1 in /usr/local/lib/python3.7/dist-packages (from torchvision>=0.8.2->deep-daze) (7.1.2)\n",
            "Requirement already satisfied, skipping upgrade: typing-extensions in /usr/local/lib/python3.7/dist-packages (from torch>=1.7.1->deep-daze) (3.7.4.3)\n",
            "Requirement already satisfied, skipping upgrade: wcwidth in /usr/local/lib/python3.7/dist-packages (from ftfy->deep-daze) (0.2.5)\n",
            "Requirement already satisfied, skipping upgrade: pytorch-ranger>=0.1.1 in /usr/local/lib/python3.7/dist-packages (from torch-optimizer->deep-daze) (0.1.1)\n",
            "Requirement already satisfied, skipping upgrade: termcolor in /usr/local/lib/python3.7/dist-packages (from fire->deep-daze) (1.1.0)\n",
            "Requirement already satisfied, skipping upgrade: six in /usr/local/lib/python3.7/dist-packages (from fire->deep-daze) (1.15.0)\n",
            "Requirement already up-to-date: stomp.py in /usr/local/lib/python3.7/dist-packages (7.0.0)\n",
            "Requirement already up-to-date: imageio-ffmpeg in /usr/local/lib/python3.7/dist-packages (0.4.3)\n",
            "Requirement already up-to-date: asyncio in /usr/local/lib/python3.7/dist-packages (3.4.3)\n",
            "Requirement already up-to-date: websockets in /usr/local/lib/python3.7/dist-packages (8.1)\n",
            "Requirement already up-to-date: varname in /usr/local/lib/python3.7/dist-packages (0.6.3)\n",
            "Requirement already satisfied, skipping upgrade: docopt<0.7.0,>=0.6.2 in /usr/local/lib/python3.7/dist-packages (from stomp.py) (0.6.2)\n",
            "Requirement already satisfied, skipping upgrade: executing in /usr/local/lib/python3.7/dist-packages (from varname) (0.6.0)\n",
            "Requirement already satisfied, skipping upgrade: pure_eval<1.0.0 in /usr/local/lib/python3.7/dist-packages (from varname) (0.2.1)\n",
            "Requirement already satisfied, skipping upgrade: asttokens<3.0.0,>=2.0.0 in /usr/local/lib/python3.7/dist-packages (from varname) (2.0.5)\n",
            "Requirement already satisfied, skipping upgrade: six in /usr/local/lib/python3.7/dist-packages (from asttokens<3.0.0,>=2.0.0->varname) (1.15.0)\n"
          ],
          "name": "stdout"
        }
      ]
    },
    {
      "cell_type": "markdown",
      "metadata": {
        "id": "cKuOyEZn2Xr_"
      },
      "source": [
        ""
      ]
    },
    {
      "cell_type": "code",
      "metadata": {
        "id": "KHXMdtZSh3rs"
      },
      "source": [
        "from subprocess import Popen, PIPE, STDOUT\n",
        "from sys import stdout\n",
        "from glob import glob\n",
        "import os\n",
        "import stomp\n",
        "import json\n",
        "import itertools\n",
        "from base64 import b64encode\n",
        "from time import sleep\n",
        "import requests\n",
        "import os\n",
        "from mimetypes import guess_type \n",
        "import re\n",
        "flatten = itertools.chain.from_iterable\n",
        "\n",
        "TEXT=\"A black and white technical illustration of merging a cat and a human through biohacking.\"\n",
        "DEFAULT_PARAMS=\"--lower_bound_cutout 0.5 --image-width=384 --iterations=1000 --epochs=2 --save-every=2 --save-progress=True --open_folder=False --overwrite=True --save_video=True --seed=1234\"\n",
        "GITHUB_REPO=\"voodoohop/colabasaservice/blob/master/colabs/deep-daze.ipynb\"\n",
        "GITHUB_REPO_CLEAN = re.sub('[^0-9a-zA-Z]+', '_', GITHUB_REPO)\n",
        "print(GITHUB_REPO_CLEAN)\n",
        "\n",
        "def run(text, params=DEFAULT_PARAMS, watch_media_paths=[\"./*.jpg\",\"./*.mp4\"]):\n",
        "  print(\"Running\",text)\n",
        "  for to_remove in watch_media_paths:\n",
        "    for filepath in glob(to_remove):\n",
        "      print(\"Deleting\",filepath,\"before starting.\")\n",
        "      os.remove(filepath)\n",
        "\n",
        "  cmd = f'imagine {params} \"{text}\"'\n",
        "  \n",
        "  p = Popen(cmd, stdout = PIPE, \n",
        "          stderr = STDOUT, shell = True)\n",
        "\n",
        "  found_media_files=[]\n",
        "  log_out = open(f\"{ipfs_root}/colabConsole.txt\",\"a\")\n",
        "  while True:\n",
        "    line = p.stdout.readline()#\n",
        "    if not line: break\n",
        "\n",
        "    stdout.write(line)\n",
        "    log_out.write(line.decode(\"utf-8\"))\n",
        "    log_out.flush()\n",
        "    #headers = { \n",
        "    #    \"params\": params,\n",
        "    #    \"text\": text\n",
        "    #}\n",
        "    #conn.send(body=line.decode(\"utf-8\"), headers=headers, destination='/topic/colabOut')\n",
        "    \n",
        "    new_found_media_files = get_matching_files(watch_media_paths)\n",
        "    new_found_media_files.sort(key=os.path.getmtime)\n",
        "    added_media_files = list(set(new_found_media_files)-set(found_media_files))\n",
        "    found_media_files = new_found_media_files\n",
        "    pin=False\n",
        "    if len(added_media_files) > 0:\n",
        "      for added in added_media_files:\n",
        "        sleep(0.1)\n",
        "        if len(added) > 0:\n",
        "          !cp $added $ipfs_root\n",
        "          print(\"Adding:\", added,\"to ipfs root\")\n",
        "          pin=True\n",
        "    add_and_publish(pin)          \n",
        "\n",
        "def get_matching_files(search_paths):\n",
        "  return list(flatten([glob(search_path) for search_path in search_paths]))\n",
        "\n",
        "sub = client.pubsub.subscribe(\"asd\")\n",
        "#conn.set_listener('', MyListener(conn,run))\n",
        "print(sub)\n",
        "#run(TEXT)\n",
        "#conn.disconnect()\n",
        "sleep(1000000)\n"
      ],
      "execution_count": null,
      "outputs": []
    },
    {
      "cell_type": "code",
      "metadata": {
        "id": "GRIiu7CfzuBK"
      },
      "source": [
        "conn.disconnect()"
      ],
      "execution_count": null,
      "outputs": []
    },
    {
      "cell_type": "code",
      "metadata": {
        "id": "YqGD4GWxLSty"
      },
      "source": [
        ""
      ],
      "execution_count": null,
      "outputs": []
    },
    {
      "cell_type": "code",
      "metadata": {
        "id": "ofO0gpgkRqSG"
      },
      "source": [
        ""
      ],
      "execution_count": null,
      "outputs": []
    },
    {
      "cell_type": "code",
      "metadata": {
        "id": "1LwfD9nhRFwO"
      },
      "source": [
        "\n"
      ],
      "execution_count": null,
      "outputs": []
    }
  ]
}