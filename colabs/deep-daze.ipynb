{
  "nbformat": 4,
  "nbformat_minor": 0,
  "metadata": {
    "colab": {
      "name": "Deep Daze",
      "provenance": [],
      "collapsed_sections": [],
      "machine_shape": "hm",
      "include_colab_link": true
    },
    "kernelspec": {
      "name": "python3",
      "display_name": "Python 3"
    },
    "accelerator": "GPU"
  },
  "cells": [
    {
      "cell_type": "markdown",
      "metadata": {
        "id": "view-in-github",
        "colab_type": "text"
      },
      "source": [
        "<a href=\"https://colab.research.google.com/github/voodoohop/colabasaservice/blob/master/colabs/deep-daze.ipynb\" target=\"_parent\"><img src=\"https://colab.research.google.com/assets/colab-badge.svg\" alt=\"Open In Colab\"/></a>"
      ]
    },
    {
      "cell_type": "code",
      "metadata": {
        "id": "YpRu6LTR2LbD",
        "colab": {
          "base_uri": "https://localhost:8080/"
        },
        "outputId": "7513bbaa-bfba-401c-899a-d1046a1e908b"
      },
      "source": [
        "!pip install deep-daze stomp-py --upgrade"
      ],
      "execution_count": 1,
      "outputs": [
        {
          "output_type": "stream",
          "text": [
            "Collecting deep-daze\n",
            "\u001b[?25l  Downloading https://files.pythonhosted.org/packages/90/14/a3288dab1a71fe6d9267456120d263f57d9f7d0efa42a3fef4a4ef52e95e/deep_daze-0.10.2-py3-none-any.whl (1.4MB)\n",
            "\u001b[K     |████████████████████████████████| 1.4MB 12.8MB/s \n",
            "\u001b[?25hCollecting stomp-py\n",
            "  Downloading https://files.pythonhosted.org/packages/21/a7/b3cd7150c8fcfbcd242fb9a862cc86c5a8795503ac6503c9d1a63cd2e7f5/stomp.py-7.0.0-py3-none-any.whl\n",
            "Collecting imageio>=2.9.0\n",
            "\u001b[?25l  Downloading https://files.pythonhosted.org/packages/6e/57/5d899fae74c1752f52869b613a8210a2480e1a69688e65df6cb26117d45d/imageio-2.9.0-py3-none-any.whl (3.3MB)\n",
            "\u001b[K     |████████████████████████████████| 3.3MB 71.9MB/s \n",
            "\u001b[?25hCollecting torch-optimizer\n",
            "\u001b[?25l  Downloading https://files.pythonhosted.org/packages/af/0f/bc49a0f714a1896b80f31db9ba82eebcb2bad9e0f5757184574f8ecfe2f1/torch_optimizer-0.1.0-py3-none-any.whl (72kB)\n",
            "\u001b[K     |████████████████████████████████| 81kB 11.3MB/s \n",
            "\u001b[?25hRequirement already satisfied, skipping upgrade: torchvision>=0.8.2 in /usr/local/lib/python3.7/dist-packages (from deep-daze) (0.9.1+cu101)\n",
            "Collecting einops>=0.3\n",
            "  Downloading https://files.pythonhosted.org/packages/5d/a0/9935e030634bf60ecd572c775f64ace82ceddf2f504a5fd3902438f07090/einops-0.3.0-py2.py3-none-any.whl\n",
            "Requirement already satisfied, skipping upgrade: regex in /usr/local/lib/python3.7/dist-packages (from deep-daze) (2019.12.20)\n",
            "Collecting siren-pytorch>=0.0.8\n",
            "  Downloading https://files.pythonhosted.org/packages/22/c9/780061018c410ad5af5eae0a98e46eed3379beca51dde8b538b385b1bc7d/siren_pytorch-0.1.5-py3-none-any.whl\n",
            "Requirement already satisfied, skipping upgrade: torch>=1.7.1 in /usr/local/lib/python3.7/dist-packages (from deep-daze) (1.8.1+cu101)\n",
            "Collecting ftfy\n",
            "\u001b[?25l  Downloading https://files.pythonhosted.org/packages/78/50/ba5ec9ff8b56e09c0aa8e13d2cc6e24b31bdd23e2bab8f510929bcc4ac48/ftfy-6.0.tar.gz (63kB)\n",
            "\u001b[K     |████████████████████████████████| 71kB 10.9MB/s \n",
            "\u001b[?25hRequirement already satisfied, skipping upgrade: tqdm in /usr/local/lib/python3.7/dist-packages (from deep-daze) (4.41.1)\n",
            "Collecting fire\n",
            "\u001b[?25l  Downloading https://files.pythonhosted.org/packages/11/07/a119a1aa04d37bc819940d95ed7e135a7dcca1c098123a3764a6dcace9e7/fire-0.4.0.tar.gz (87kB)\n",
            "\u001b[K     |████████████████████████████████| 92kB 12.0MB/s \n",
            "\u001b[?25hRequirement already satisfied, skipping upgrade: docopt<0.7.0,>=0.6.2 in /usr/local/lib/python3.7/dist-packages (from stomp-py) (0.6.2)\n",
            "Requirement already satisfied, skipping upgrade: pillow in /usr/local/lib/python3.7/dist-packages (from imageio>=2.9.0->deep-daze) (7.1.2)\n",
            "Requirement already satisfied, skipping upgrade: numpy in /usr/local/lib/python3.7/dist-packages (from imageio>=2.9.0->deep-daze) (1.19.5)\n",
            "Collecting pytorch-ranger>=0.1.1\n",
            "  Downloading https://files.pythonhosted.org/packages/0d/70/12256257d861bbc3e176130d25be1de085ce7a9e60594064888a950f2154/pytorch_ranger-0.1.1-py3-none-any.whl\n",
            "Requirement already satisfied, skipping upgrade: typing-extensions in /usr/local/lib/python3.7/dist-packages (from torch>=1.7.1->deep-daze) (3.7.4.3)\n",
            "Requirement already satisfied, skipping upgrade: wcwidth in /usr/local/lib/python3.7/dist-packages (from ftfy->deep-daze) (0.2.5)\n",
            "Requirement already satisfied, skipping upgrade: six in /usr/local/lib/python3.7/dist-packages (from fire->deep-daze) (1.15.0)\n",
            "Requirement already satisfied, skipping upgrade: termcolor in /usr/local/lib/python3.7/dist-packages (from fire->deep-daze) (1.1.0)\n",
            "Building wheels for collected packages: ftfy, fire\n",
            "  Building wheel for ftfy (setup.py) ... \u001b[?25l\u001b[?25hdone\n",
            "  Created wheel for ftfy: filename=ftfy-6.0-cp37-none-any.whl size=41622 sha256=3614181ebd178656d5a08044faabb43c6fa9ebe7133ed1c00117a995ed4e10d6\n",
            "  Stored in directory: /root/.cache/pip/wheels/22/8b/08/7d1c17849e10371206a262304973b5a9f45e8b9d0a2179f465\n",
            "  Building wheel for fire (setup.py) ... \u001b[?25l\u001b[?25hdone\n",
            "  Created wheel for fire: filename=fire-0.4.0-py2.py3-none-any.whl size=115928 sha256=c7e8d6da9901199d1cf221a88237bf62eb873a39505501603d499b5e81902e46\n",
            "  Stored in directory: /root/.cache/pip/wheels/af/19/30/1ea0cad502dcb4e66ed5a690279628c827aea38bbbab75d5ed\n",
            "Successfully built ftfy fire\n",
            "\u001b[31mERROR: albumentations 0.1.12 has requirement imgaug<0.2.7,>=0.2.5, but you'll have imgaug 0.2.9 which is incompatible.\u001b[0m\n",
            "Installing collected packages: imageio, pytorch-ranger, torch-optimizer, einops, siren-pytorch, ftfy, fire, deep-daze, stomp-py\n",
            "  Found existing installation: imageio 2.4.1\n",
            "    Uninstalling imageio-2.4.1:\n",
            "      Successfully uninstalled imageio-2.4.1\n",
            "Successfully installed deep-daze-0.10.2 einops-0.3.0 fire-0.4.0 ftfy-6.0 imageio-2.9.0 pytorch-ranger-0.1.1 siren-pytorch-0.1.5 stomp-py torch-optimizer-0.1.0\n"
          ],
          "name": "stdout"
        }
      ]
    },
    {
      "cell_type": "code",
      "metadata": {
        "id": "KHXMdtZSh3rs"
      },
      "source": [
        "from subprocess import Popen, PIPE, STDOUT\n",
        "from sys import stdout\n",
        "from glob import glob\n",
        "import stomp\n",
        "import json\n",
        "import itertools\n",
        "flatten = itertools.chain.from_iterable\n",
        "\n",
        "WATCH_MEDIA_FILES = [\"./*.jpg\",\"./*.mp4\"]\n",
        "\n",
        "conn = stomp.Connection([('b-4e89df1f-8226-4cc4-a518-4e1ac0023c97-1.mq.eu-central-1.amazonaws.com', 61614)], use_ssl=True)\n",
        "conn.connect('guest', 'iamcolabguest', wait=True)\n",
        "\n",
        "\n",
        "!rm *.jpg\n",
        "\n",
        "p = Popen('imagine --iterations=50 --epochs=5 --save-every=5 --save-progress=True --open_folder=False --overwrite=True \"A slick high-contrast\"', stdout = PIPE, \n",
        "        stderr = STDOUT, shell = True)\n",
        "\n",
        "FOUND_MEDIA_FILES=[]\n",
        "while True:\n",
        "  line = p.stdout.readline()#\n",
        "  if not line: break\n",
        "\n",
        "  stdout.write(line)\n",
        "  conn.send(body=line.decode(\"utf-8\"), destination='/topic/colabOut')\n",
        "  FOUND_MEDIA_FILES=list(flatten([glob(search_path) for search_path in WATCH_MEDIA_FILES])).sort()\n",
        "  conn.send(body=json.dumps(FOUND_MEDIA_FILES), destination='/topic/colabMediaOut')\n",
        "conn.disconnect()"
      ],
      "execution_count": null,
      "outputs": []
    },
    {
      "cell_type": "code",
      "metadata": {
        "id": "VDqoJM_Cj6od"
      },
      "source": [
        ""
      ],
      "execution_count": null,
      "outputs": []
    },
    {
      "cell_type": "code",
      "metadata": {
        "id": "ZoQbS61FXLPD"
      },
      "source": [
        "from glob import glob\n",
        "import requests\n",
        "import requests\n",
        "from tqdm import tqdm\n",
        "!mkdir -p results\n",
        "for imgfile in tqdm(glob(\"./A_slick*.jpg\")):\n",
        "  print(\"Super resolution of\", imgfile)\n",
        "  \n",
        "  r = requests.post(\n",
        "    \"https://api.deepai.org/api/waifu2x\",\n",
        "    files={\n",
        "        'image': open(imgfile, 'rb'),\n",
        "    },\n",
        "    headers={'api-key': \"blalasd\"}\n",
        "  )\n",
        "  srurl = r.json()[\"output_url\"]\n",
        "  with open(f\"/content/results/{imgfile}.upsampled.jpg\", 'wb') as f:\n",
        "    f.write(requests.get(srurl).content)\n",
        "  #!echo curl -F f\"\\'image=@{imgfile}\\' -H api-key: https://api.deepai.org/api/torch-srgan\" "
      ],
      "execution_count": null,
      "outputs": []
    },
    {
      "cell_type": "code",
      "metadata": {
        "id": "jG-JfQSnFb6Q"
      },
      "source": [
        "!mkdir -p images\n",
        "!ffmpeg -r 20 -y -i results/A_slick%*.jpg -filter:v scale=512:-1 images/env_school_flashy.mp4"
      ],
      "execution_count": null,
      "outputs": []
    },
    {
      "cell_type": "code",
      "metadata": {
        "id": "pmzMp__aLDgn"
      },
      "source": [
        "!pip install stomp-py"
      ],
      "execution_count": null,
      "outputs": []
    },
    {
      "cell_type": "code",
      "metadata": {
        "id": "PGPu9QpfhOvI"
      },
      "source": [
        ""
      ],
      "execution_count": null,
      "outputs": []
    }
  ]
}