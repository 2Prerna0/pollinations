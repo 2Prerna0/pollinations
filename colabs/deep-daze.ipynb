{
  "nbformat": 4,
  "nbformat_minor": 0,
  "metadata": {
    "colab": {
      "name": "Deep Daze",
      "provenance": [],
      "collapsed_sections": [],
      "include_colab_link": true
    },
    "kernelspec": {
      "name": "python3",
      "display_name": "Python 3"
    },
    "accelerator": "GPU"
  },
  "cells": [
    {
      "cell_type": "markdown",
      "metadata": {
        "id": "view-in-github",
        "colab_type": "text"
      },
      "source": [
        "<a href=\"https://colab.research.google.com/github/voodoohop/pollinations/blob/master/colabs/deep-daze.ipynb\" target=\"_parent\"><img src=\"https://colab.research.google.com/assets/colab-badge.svg\" alt=\"Open In Colab\"/></a>"
      ]
    },
    {
      "cell_type": "markdown",
      "metadata": {
        "id": "fDs_ZA4z2aao"
      },
      "source": [
        "# Text to Image\n",
        "### Method: CLIP + Siren\n",
        "This model combines an image classifier called **CLIP** from *OpenAI* and an image generator called **SIREN.**\n",
        "\n",
        "The process works like this:\n",
        "1.  The **SIREN** model at first generates a completely random image\n",
        "2.  The **CLIP** image classifier looks at the image and compares it with the given text caption\n",
        "3.  Using this feedback the weights of the **SIREN** model are adjusted slightly to better approximate the image caption\n",
        "4.  These steps are repeated until we stop it manually\n",
        "---\n",
        "In order to run click the [Colab] link. And then select *Runtime -> Run all* from the menu bar.\n",
        "\n",
        "[colab]: https://colab.research.google.com/github/voodoohop/colabasaservice/blob/master/colabs/deep-daze.ipynb"
      ]
    },
    {
      "cell_type": "markdown",
      "metadata": {
        "id": "KG2g6OrGl8Hy"
      },
      "source": [
        "## Parameters"
      ]
    },
    {
      "cell_type": "code",
      "metadata": {
        "id": "eCWAiIbllADm"
      },
      "source": [
        "text = 'An illustration of a black and white cat'  #@param {type: \"string\"}\n",
        "args = '--lower_bound_cutout 0.5 --image-width=384 --iterations=1000 --epochs=2 --save-every=1 --save-progress=True --open_folder=False --overwrite=True --save_video=True --seed=123'  #@param {type: \"string\"}\n",
        "\n",
        "parameters = {\n",
        "    \"text\": text,\n",
        "    \"args\": args\n",
        "}\n",
        "\n",
        "IPFS_PEER = \"18.157.173.110\"\n",
        "ipfs_root = \"/content/ipfs\""
      ],
      "execution_count": null,
      "outputs": []
    },
    {
      "cell_type": "markdown",
      "metadata": {
        "id": "z8RkOYkzmGDW"
      },
      "source": [
        "## Code (Frontend and IPFS Connection)"
      ]
    },
    {
      "cell_type": "code",
      "metadata": {
        "id": "pWfAE_iqBMdB",
        "cellView": "form"
      },
      "source": [
        "#@title Empty and create ipfs root: */content/ipfs*\n",
        "\n",
        "\n",
        "\n",
        "!rm -r $ipfs_root\n",
        "!mkdir -p $ipfs_root/input\n",
        "!mkdir -p $ipfs_root/output\n",
        "!echo \"Created IPFS resource\" > $ipfs_root/output/log\n",
        "\n",
        "for key, default in parameters.items():\n",
        "  print(default, file=open(f\"{ipfs_root}/input/{key}\", 'a'))\n",
        "\n"
      ],
      "execution_count": null,
      "outputs": []
    },
    {
      "cell_type": "code",
      "metadata": {
        "id": "9j1zUbMN4VDP",
        "cellView": "form"
      },
      "source": [
        "#@title Install IPFS-GO\n",
        "\n",
        "!pip install aioipfs nest-asyncio\n",
        "\n",
        "#!npm install -g nodemon\n"
      ],
      "execution_count": null,
      "outputs": []
    },
    {
      "cell_type": "code",
      "metadata": {
        "id": "hH76cPjgwZBJ"
      },
      "source": [
        "#@title Connect to local IPFS node and publish ipfs root\n",
        "!sleep 5\n",
        "import sys\n",
        "import asyncio\n",
        "import aioipfs\n",
        "import nest_asyncio\n",
        "import json\n",
        "\n",
        "#client = aioipfs.AsyncIPFS(debug=True)\n",
        "clientRemote = aioipfs.AsyncIPFS(host=IPFS_PEER,port=5002,debug=True)\n",
        "client=clientRemote\n",
        "ipfs_nodeid = None\n",
        "\n",
        "async def get_node_id():\n",
        "    return (await client.id())[\"ID\"]\n",
        "\n",
        "async def add_and_publish(path=ipfs_root, pin_remote=False):\n",
        "    last_added=None\n",
        "    async for added_file in client.add(path, recursive=True):\n",
        "      print('Imported file', added_file)\n",
        "      last_added=added_file[\"Hash\"]\n",
        "    return last_added\n",
        "\n",
        "loop = asyncio.get_running_loop()\n",
        "nest_asyncio.apply(loop)\n",
        "\n",
        "ipfs_contentid = asyncio.run(loop.create_task(add_and_publish(pin_remote=True)))\n",
        "ipfs_nodeid = asyncio.run(loop.create_task(get_node_id()))\n",
        "\n",
        "\n",
        "\n",
        "#asyncio.run(loop.create_task(sub(\"hello\")))\n",
        "print(\"Got node id:\",ipfs_nodeid,\" content id:\",ipfs_contentid)\n",
        "\n"
      ],
      "execution_count": null,
      "outputs": []
    },
    {
      "cell_type": "code",
      "metadata": {
        "id": "N85GXpdFqON7"
      },
      "source": [
        "#@title Connect to IPFS Pubsub\n",
        "\n",
        "async def subscribe(topic, handler=None):\n",
        "  print(\"subscribed to\",topic)\n",
        "  async for message in client.pubsub.sub(topic):\n",
        "    if handler:\n",
        "      await handler(message)\n",
        "    else:\n",
        "      print(\"No handler. Received IPFS pub message\",message)\n",
        "    break\n",
        "\n",
        "async def publish(topic, data):\n",
        "  print(\"publishing\",topic,data)\n",
        "  await client.pubsub.pub(topic, data)\n",
        "\n",
        "def on_frontend_data(handler):\n",
        "  async def handle(ipfs_message):\n",
        "    await handler(ipfs_message[\"data\"])\n",
        "  asyncio.run(loop.create_task(subscribe(ipfs_nodeid, handle)))\n",
        "\n",
        "def update_frontend():\n",
        "  asyncio.run(loop.create_task(publish(ipfs_nodeid, ipfs_contentid)))\n",
        "\n",
        "\n",
        "\n",
        "update_frontend()"
      ],
      "execution_count": null,
      "outputs": []
    },
    {
      "cell_type": "code",
      "metadata": {
        "id": "A4TYvT7yoGvE",
        "cellView": "form"
      },
      "source": [
        "#@title Create connection to frontend UI\n",
        "\n",
        "import IPython\n",
        "from google.colab import output\n",
        "\n",
        "display(IPython.display.Javascript(f'''\n",
        "  const iframe = document.createElement(\"iframe\")\n",
        "  iframe.src = `http://localhost:3000/incolab.html?node={ipfs_nodeid},{ipfs_contentid}`\n",
        "\n",
        "  document.querySelector(\"#output-area\").appendChild(iframe)\n",
        "'''))\n",
        "\n"
      ],
      "execution_count": null,
      "outputs": []
    },
    {
      "cell_type": "code",
      "metadata": {
        "id": "CbBRFIXpvv30"
      },
      "source": [
        "async def update_ipfs_content(contentid):\n",
        "  global ipfs_contentid\n",
        "  contentid = contentid.decode(\"utf-8\")\n",
        "  \n",
        "  await client.get(contentid)\n",
        "  !cp -rv $contentid/* $ipfs_root\n",
        "  #!rm -r $contentid\n",
        "  ipfs_contentid = contentid\n",
        "\n",
        "on_frontend_data(update_ipfs_content)\n"
      ],
      "execution_count": null,
      "outputs": []
    },
    {
      "cell_type": "code",
      "metadata": {
        "id": "mD8tRZESGzeP"
      },
      "source": [
        "from glob import glob\n",
        "from os.path import basename\n",
        "for path in glob(f\"{ipfs_root}/input/*\"):\n",
        "  key = basename(path)\n",
        "  with open(path,'r') as f:\n",
        "    value = f.read()\n",
        "    parameters[key] = value\n",
        "\n",
        "print(\"New parameters\", parameters)"
      ],
      "execution_count": null,
      "outputs": []
    },
    {
      "cell_type": "markdown",
      "metadata": {
        "id": "GVkVyH_Fj8P8"
      },
      "source": [
        "## CODE (DEEP-DAZE)"
      ]
    },
    {
      "cell_type": "code",
      "metadata": {
        "id": "YpRu6LTR2LbD"
      },
      "source": [
        "!pip install deep-daze --upgrade\n",
        "!pip install imageio-ffmpeg asyncio websockets varname --upgrade"
      ],
      "execution_count": null,
      "outputs": []
    },
    {
      "cell_type": "code",
      "metadata": {
        "id": "KHXMdtZSh3rs"
      },
      "source": [
        "from subprocess import Popen, PIPE, STDOUT\n",
        "from sys import stdout\n",
        "from glob import glob\n",
        "import os\n",
        "import json\n",
        "import itertools\n",
        "from base64 import b64encode\n",
        "from time import sleep\n",
        "import requests\n",
        "import os\n",
        "from mimetypes import guess_type \n",
        "import re\n",
        "flatten = itertools.chain.from_iterable\n",
        "\n",
        "GITHUB_REPO=\"voodoohop/pollinations/blob/master/colabs/deep-daze.ipynb\"\n",
        "GITHUB_REPO_CLEAN = re.sub('[^0-9a-zA-Z]+', '_', GITHUB_REPO)\n",
        "print(GITHUB_REPO_CLEAN)\n",
        "\n",
        "def run(text, args, watch_media_paths=[\"./*.jpg\",\"./*.mp4\"]):\n",
        "  print(\"Running\",text)\n",
        "#  for to_remove in watch_media_paths:\n",
        "#    for filepath in glob(to_remove):\n",
        "#      print(\"Deleting\",filepath,\"before starting.\")\n",
        "#      os.remove(filepath)\n",
        "\n",
        "  cmd = f'imagine {args} \"{text}\"'\n",
        "  \n",
        "  p = Popen(cmd, stdout = PIPE, \n",
        "          stderr = STDOUT, shell = True)\n",
        "\n",
        "  found_media_files=[]\n",
        "  log_out = open(f\"{ipfs_root}/colabConsole.txt\",\"a\")\n",
        "  while True:\n",
        "    line = p.stdout.readline()#\n",
        "    if not line: break\n",
        "\n",
        "    stdout.write(line)\n",
        "    log_out.write(line.decode(\"utf-8\"))\n",
        "    log_out.flush()\n",
        "    #headers = { \n",
        "    #    \"params\": params,\n",
        "    #    \"text\": text\n",
        "    #}\n",
        "    #conn.send(body=line.decode(\"utf-8\"), headers=headers, destination='/topic/colabOut')\n",
        "    print(\"new contentid\", client.add(ipfs_root, recursive=True))\n",
        "    add_and_publish()    \n",
        "    continue\n",
        "    new_found_media_files = get_matching_files(watch_media_paths)\n",
        "    new_found_media_files.sort(key=os.path.getmtime)\n",
        "    added_media_files = list(set(new_found_media_files)-set(found_media_files))\n",
        "    found_media_files = new_found_media_files\n",
        "    pin=False\n",
        "    if len(added_media_files) > 0:\n",
        "      for added in added_media_files:\n",
        "        sleep(0.1)\n",
        "        if len(added) > 0:\n",
        "          !cp $added $ipfs_root\n",
        "          print(\"Adding:\", added,\"to ipfs root\")\n",
        "          pin=True\n",
        "       \n",
        "\n",
        "def get_matching_files(search_paths):\n",
        "  return list(flatten([glob(search_path) for search_path in search_paths]))\n",
        "\n",
        "run(**parameters)\n",
        "\n",
        "sleep(1000000)\n"
      ],
      "execution_count": null,
      "outputs": []
    },
    {
      "cell_type": "markdown",
      "metadata": {
        "id": "4nkfIH0C062B"
      },
      "source": [
        "# DISABLED\n",
        "```\n",
        "!wget wget https://dist.ipfs.io/go-ipfs/v0.8.0/go-ipfs_v0.8.0_linux-amd64.tar.gz\n",
        "!tar -xvzf go-ipfs_v0.8.0_linux-amd64.tar.gz\n",
        "%cd go-ipfs\n",
        "!sudo bash install.sh\n",
        "%cd -\n",
        "```"
      ]
    },
    {
      "cell_type": "markdown",
      "metadata": {
        "id": "80hHfBtK0VrA"
      },
      "source": [
        "# DISABLED\n",
        "```\n",
        "#@title Install IPFS-GO\n",
        "\n",
        "!pip install aioipfs nest-asyncio\n",
        "\n",
        "!wget wget https://dist.ipfs.io/go-ipfs/v0.8.0/go-ipfs_v0.8.0_linux-amd64.tar.gz\n",
        "!tar -xvzf go-ipfs_v0.8.0_linux-amd64.tar.gz\n",
        "%cd go-ipfs\n",
        "!sudo bash install.sh\n",
        "%cd -\n",
        "\n",
        "#!npm install -g nodemon\n",
        "```"
      ]
    },
    {
      "cell_type": "markdown",
      "metadata": {
        "id": "DDkxxEAzz_j4"
      },
      "source": [
        "```\n",
        "#@title Start IPFS daemon and connect to public daemon\n",
        "!killall ipfs 2>/dev/null\n",
        "!sleep 2\n",
        "!killall -9 ipfs 2>/dev/null\n",
        "#!nohup jsipfs daemon --enable-namesys-pubsub &\n",
        "!ipfs init\n",
        "!ipfs config Addresses.Gateway /ip4/0.0.0.0/tcp/9001\n",
        "!nohup ipfs daemon --enable-namesys-pubsub --enable-pubsub-experiment &\n",
        "!sleep 12\n",
        "#!ipfs config Addresses.API /ip4/127.0.0.1/tcp/5002\n",
        "#!jsipfs config --json API.HTTPHeaders.Access-Control-Allow-Origin '[\"*\"]'\n",
        "#!jsipfs config --json API.HTTPHeaders.Access-Control-Allow-Methods '[\"PUT\", \"GET\", \"POST\"]'\n",
        "!tail nohup.out\n",
        "!ipfs swarm connect /ip4/$IPFS_PEER/tcp/4002/p2p/QmWxrFJqurnyedzJ5rzpgycTqSikJ7kcy7eHmqYnndKhwr\n",
        "\n",
        "\n",
        "# This is formatted as code\n",
        "```\n",
        "\n"
      ]
    }
  ]
}