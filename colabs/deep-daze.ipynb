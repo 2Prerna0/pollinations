{
  "nbformat": 4,
  "nbformat_minor": 0,
  "metadata": {
    "colab": {
      "name": "Deep Daze",
      "provenance": [],
      "collapsed_sections": [],
      "machine_shape": "hm",
      "include_colab_link": true
    },
    "kernelspec": {
      "name": "python3",
      "display_name": "Python 3"
    }
  },
  "cells": [
    {
      "cell_type": "markdown",
      "metadata": {
        "id": "view-in-github",
        "colab_type": "text"
      },
      "source": [
        "<a href=\"https://colab.research.google.com/github/voodoohop/pollinations/blob/master/colabs/deep-daze.ipynb\" target=\"_parent\"><img src=\"https://colab.research.google.com/assets/colab-badge.svg\" alt=\"Open In Colab\"/></a>"
      ]
    },
    {
      "cell_type": "markdown",
      "metadata": {
        "id": "fDs_ZA4z2aao"
      },
      "source": [
        "# Text to Image\n",
        "### Method: CLIP + Siren\n",
        "This model combines an image classifier called **CLIP** from *OpenAI* and an image generator called **SIREN.**\n",
        "\n",
        "The process works like this:\n",
        "1.  The **SIREN** model at first generates a completely random image\n",
        "2.  The **CLIP** image classifier looks at the image and compares it with the given text caption\n",
        "3.  Using this feedback the weights of the **SIREN** model are adjusted slightly to better approximate the image caption\n",
        "4.  These steps are repeated until we stop it manually\n",
        "---\n",
        "In order to run click the [Colab] link. And then select *Runtime -> Run all* from the menu bar.\n",
        "\n",
        "[colab]: https://colab.research.google.com/github/voodoohop/colabasaservice/blob/master/colabs/deep-daze.ipynb"
      ]
    },
    {
      "cell_type": "markdown",
      "metadata": {
        "id": "KG2g6OrGl8Hy"
      },
      "source": [
        "## Parameters"
      ]
    },
    {
      "cell_type": "code",
      "metadata": {
        "id": "eCWAiIbllADm",
        "cellView": "form"
      },
      "source": [
        "text = 'An illustration of a black and white cat'  #@param {type: \"string\"}\n",
        "args = '--lower_bound_cutout 0.5 --image-width=384 --iterations=1000 --epochs=2 --save-every=2 --save-progress=True --open_folder=False --overwrite=True --save_video=True --seed=123'  #@param {type: \"string\"}\n",
        "\n",
        "parameters = {\n",
        "    \"text\": text,\n",
        "    \"args\": args\n",
        "}"
      ],
      "execution_count": 1,
      "outputs": []
    },
    {
      "cell_type": "markdown",
      "metadata": {
        "id": "z8RkOYkzmGDW"
      },
      "source": [
        "## Code (Frontend and IPFS Connection)"
      ]
    },
    {
      "cell_type": "code",
      "metadata": {
        "cellView": "form",
        "id": "9j1zUbMN4VDP",
        "colab": {
          "base_uri": "https://localhost:8080/"
        },
        "outputId": "9dfe2fc0-93d0-4fd5-baf8-3a19bfb42dc3"
      },
      "source": [
        "#@title Install IPFS-GO\n",
        "\n",
        "!pip install aioipfs nest-asyncio\n",
        "\n",
        "!wget wget https://dist.ipfs.io/go-ipfs/v0.8.0/go-ipfs_v0.8.0_linux-amd64.tar.gz\n",
        "!tar -xvzf go-ipfs_v0.8.0_linux-amd64.tar.gz\n",
        "%cd go-ipfs\n",
        "!sudo bash install.sh\n",
        "%cd -\n",
        "\n",
        "!npm install -g nodemon\n"
      ],
      "execution_count": 2,
      "outputs": [
        {
          "output_type": "stream",
          "text": [
            "Collecting aioipfs\n",
            "  Downloading https://files.pythonhosted.org/packages/05/aa/1f85dd8406877fca8abd11959540b21c1054bf186f8ecd32917484fe7937/aioipfs-0.5.5-py3-none-any.whl\n",
            "Requirement already satisfied: nest-asyncio in /usr/local/lib/python3.7/dist-packages (1.5.1)\n",
            "Collecting base58>=1.0.2\n",
            "  Downloading https://files.pythonhosted.org/packages/b8/a1/d9f565e9910c09fd325dc638765e8843a19fa696275c16cc08cf3b0a3c25/base58-2.1.0-py3-none-any.whl\n",
            "Collecting aiohttp>=3.7.4\n",
            "\u001b[?25l  Downloading https://files.pythonhosted.org/packages/88/c0/5890b4c8b04a79b7360e8fe4490feb0bb3ab179743f199f0e6220cebd568/aiohttp-3.7.4.post0-cp37-cp37m-manylinux2014_x86_64.whl (1.3MB)\n",
            "\u001b[K     |████████████████████████████████| 1.3MB 8.5MB/s \n",
            "\u001b[?25hCollecting aiofiles>=0.4.0\n",
            "  Downloading https://files.pythonhosted.org/packages/ba/21/df5eae4b6db2eb00d58428dd7f793ecbf99942fcafcea141cbf108fa72f4/aiofiles-0.6.0-py3-none-any.whl\n",
            "Collecting orjson<3.4,>=3\n",
            "\u001b[?25l  Downloading https://files.pythonhosted.org/packages/a1/78/2ed86cccaecd6d8bc150ddc3feeb7d466f51c3bf9c4ef387cdeee3318716/orjson-3.3.1-cp37-cp37m-manylinux2014_x86_64.whl (208kB)\n",
            "\u001b[K     |████████████████████████████████| 215kB 50.4MB/s \n",
            "\u001b[?25hCollecting async-timeout<4.0,>=3.0\n",
            "  Downloading https://files.pythonhosted.org/packages/e1/1e/5a4441be21b0726c4464f3f23c8b19628372f606755a9d2e46c187e65ec4/async_timeout-3.0.1-py3-none-any.whl\n",
            "Collecting multidict<7.0,>=4.5\n",
            "\u001b[?25l  Downloading https://files.pythonhosted.org/packages/7c/a6/4123b8165acbe773d1a8dc8e3f0d1edea16d29f7de018eda769abb56bd30/multidict-5.1.0-cp37-cp37m-manylinux2014_x86_64.whl (142kB)\n",
            "\u001b[K     |████████████████████████████████| 143kB 47.0MB/s \n",
            "\u001b[?25hRequirement already satisfied: chardet<5.0,>=2.0 in /usr/local/lib/python3.7/dist-packages (from aiohttp>=3.7.4->aioipfs) (3.0.4)\n",
            "Requirement already satisfied: typing-extensions>=3.6.5 in /usr/local/lib/python3.7/dist-packages (from aiohttp>=3.7.4->aioipfs) (3.7.4.3)\n",
            "Requirement already satisfied: attrs>=17.3.0 in /usr/local/lib/python3.7/dist-packages (from aiohttp>=3.7.4->aioipfs) (20.3.0)\n",
            "Collecting yarl<2.0,>=1.0\n",
            "\u001b[?25l  Downloading https://files.pythonhosted.org/packages/f1/62/046834c5fc998c88ab2ef722f5d42122230a632212c8afa76418324f53ff/yarl-1.6.3-cp37-cp37m-manylinux2014_x86_64.whl (294kB)\n",
            "\u001b[K     |████████████████████████████████| 296kB 38.1MB/s \n",
            "\u001b[?25hRequirement already satisfied: idna>=2.0 in /usr/local/lib/python3.7/dist-packages (from yarl<2.0,>=1.0->aiohttp>=3.7.4->aioipfs) (2.10)\n",
            "Installing collected packages: base58, async-timeout, multidict, yarl, aiohttp, aiofiles, orjson, aioipfs\n",
            "Successfully installed aiofiles-0.6.0 aiohttp-3.7.4.post0 aioipfs-0.5.5 async-timeout-3.0.1 base58-2.1.0 multidict-5.1.0 orjson-3.3.1 yarl-1.6.3\n",
            "--2021-04-29 17:09:25--  http://wget/\n",
            "Resolving wget (wget)... failed: Name or service not known.\n",
            "wget: unable to resolve host address ‘wget’\n",
            "--2021-04-29 17:09:25--  https://dist.ipfs.io/go-ipfs/v0.8.0/go-ipfs_v0.8.0_linux-amd64.tar.gz\n",
            "Resolving dist.ipfs.io (dist.ipfs.io)... 209.94.78.1, 2602:fea2:3::1\n",
            "Connecting to dist.ipfs.io (dist.ipfs.io)|209.94.78.1|:443... connected.\n",
            "HTTP request sent, awaiting response... 200 OK\n",
            "Length: 25904633 (25M) [application/gzip]\n",
            "Saving to: ‘go-ipfs_v0.8.0_linux-amd64.tar.gz’\n",
            "\n",
            "go-ipfs_v0.8.0_linu 100%[===================>]  24.70M  58.6MB/s    in 0.4s    \n",
            "\n",
            "2021-04-29 17:09:25 (58.6 MB/s) - ‘go-ipfs_v0.8.0_linux-amd64.tar.gz’ saved [25904633/25904633]\n",
            "\n",
            "FINISHED --2021-04-29 17:09:25--\n",
            "Total wall clock time: 0.7s\n",
            "Downloaded: 1 files, 25M in 0.4s (58.6 MB/s)\n",
            "go-ipfs/install.sh\n",
            "go-ipfs/ipfs\n",
            "go-ipfs/LICENSE\n",
            "go-ipfs/LICENSE-APACHE\n",
            "go-ipfs/LICENSE-MIT\n",
            "go-ipfs/README.md\n",
            "/content/go-ipfs\n",
            "Moved ./ipfs to /usr/local/bin\n",
            "/content\n",
            "\u001b[K\u001b[?25h/tools/node/bin/nodemon -> /tools/node/lib/node_modules/nodemon/bin/nodemon.js\n",
            "\u001b[K\u001b[?25h\n",
            "> nodemon@2.0.7 postinstall /tools/node/lib/node_modules/nodemon\n",
            "> node bin/postinstall || exit 0\n",
            "\n",
            "\u001b[32mLove nodemon? You can now support the project via the open collective:\u001b[22m\u001b[39m\n",
            " > \u001b[96m\u001b[1mhttps://opencollective.com/nodemon/donate\u001b[0m\n",
            "\n",
            "\u001b[37;40mnpm\u001b[0m \u001b[0m\u001b[30;43mWARN\u001b[0m \u001b[0m\u001b[35moptional\u001b[0m SKIPPING OPTIONAL DEPENDENCY: fsevents@~2.3.1 (node_modules/nodemon/node_modules/chokidar/node_modules/fsevents):\n",
            "\u001b[0m\u001b[37;40mnpm\u001b[0m \u001b[0m\u001b[30;43mWARN\u001b[0m \u001b[0m\u001b[35mnotsup\u001b[0m SKIPPING OPTIONAL DEPENDENCY: Unsupported platform for fsevents@2.3.2: wanted {\"os\":\"darwin\",\"arch\":\"any\"} (current: {\"os\":\"linux\",\"arch\":\"x64\"})\n",
            "\u001b[0m\n",
            "+ nodemon@2.0.7\n",
            "added 119 packages from 53 contributors in 7.364s\n"
          ],
          "name": "stdout"
        }
      ]
    },
    {
      "cell_type": "code",
      "metadata": {
        "id": "1NrilOb5jF4h",
        "colab": {
          "base_uri": "https://localhost:8080/"
        },
        "outputId": "bc2447be-d129-4c0d-e56f-a65eae0ec4dd"
      },
      "source": [
        "#@title Start IPFS daemon and connect to public daemon\n",
        "!killall ipfs\n",
        "!sleep 2\n",
        "!killall -9 ipfs\n",
        "!pkill -9 nodemon\n",
        "IPFS_PEER=\"18.157.173.110\"\n",
        "#!nohup jsipfs daemon --enable-namesys-pubsub &\n",
        "!ipfs init\n",
        "!ipfs config Addresses.Gateway /ip4/0.0.0.0/tcp/9001\n",
        "!nohup nodemon --signal SIGTERM --exitcrash --exec \"ipfs daemon --enable-namesys-pubsub --enable-pubsub-experiment </dev/null \" &\n",
        "!sleep 12\n",
        "#!ipfs config Addresses.API /ip4/127.0.0.1/tcp/5002\n",
        "#!jsipfs config --json API.HTTPHeaders.Access-Control-Allow-Origin '[\"*\"]'\n",
        "#!jsipfs config --json API.HTTPHeaders.Access-Control-Allow-Methods '[\"PUT\", \"GET\", \"POST\"]'\n",
        "!ipfs swarm connect /ip4/$IPFS_PEER/tcp/4002/p2p/QmWxrFJqurnyedzJ5rzpgycTqSikJ7kcy7eHmqYnndKhwr"
      ],
      "execution_count": 2,
      "outputs": [
        {
          "output_type": "stream",
          "text": [
            "ipfs: no process found\n",
            "ipfs: no process found\n",
            "generating ED25519 keypair...done\n",
            "peer identity: 12D3KooWPFqpiGNF6kymKAo5Xm3EJ6ULhXcTXMY51wd7M2QMMMjt\n",
            "initializing IPFS node at /root/.ipfs\n",
            "Error: ipfs configuration file already exists!\n",
            "Reinitializing would overwrite your keys.\n",
            "\n",
            "nohup: appending output to 'nohup.out'\n",
            "connect QmWxrFJqurnyedzJ5rzpgycTqSikJ7kcy7eHmqYnndKhwr success\n"
          ],
          "name": "stdout"
        }
      ]
    },
    {
      "cell_type": "code",
      "metadata": {
        "cellView": "form",
        "id": "pWfAE_iqBMdB"
      },
      "source": [
        "#@title Empty and create ipfs root: */content/output*\n",
        "\n",
        "ipfs_root = \"/content/output\"\n",
        "\n",
        "!rm -r $ipfs_root\n",
        "!mkdir -p $ipfs_root\n",
        "!echo \"hello\" > $ipfs_root/world"
      ],
      "execution_count": 3,
      "outputs": []
    },
    {
      "cell_type": "code",
      "metadata": {
        "id": "hH76cPjgwZBJ",
        "colab": {
          "base_uri": "https://localhost:8080/",
          "height": 232
        },
        "outputId": "f723bf96-e2d1-4225-c799-fd609d34807b"
      },
      "source": [
        "#@title Connect to local IPFS node and publish ipfs root\n",
        "\n",
        "import sys\n",
        "import asyncio\n",
        "import aioipfs\n",
        "import nest_asyncio\n",
        "import json\n",
        "\n",
        "client = aioipfs.AsyncIPFS(debug=True)\n",
        "clientRemote = aioipfs.AsyncIPFS(host=IPFS_PEER,port=5002,debug=True)\n",
        "\n",
        "ipfs_nodeid = None\n",
        "\n",
        "async def get_node_id():\n",
        "    return (await client.id())[\"ID\"]\n",
        "\n",
        "async def add_and_publish(path=ipfs_root, pin_remote=False):\n",
        "    last_added=None\n",
        "    async for added_file in client.add(path, recursive=True):\n",
        "      print('Imported file', added_file)\n",
        "      last_added=added_file[\"Hash\"]\n",
        "    \n",
        "    if pin_remote:\n",
        "      async for added_pin in clientRemote.pin.add(last_added):\n",
        "        print(\"Added pin\", added_pin)\n",
        "    return last_added\n",
        "\n",
        "loop = asyncio.get_running_loop()\n",
        "nest_asyncio.apply(loop)\n",
        "\n",
        "ipfs_cid = asyncio.run(loop.create_task(add_and_publish(pin_remote=True)))\n",
        "ipfs_nodeid = asyncio.run(loop.create_task(get_node_id()))\n",
        "\n",
        "#asyncio.run(loop.create_task(sub(\"hello\")))\n",
        "print(\"Got node id:\",ipfs_nodeid,\" content id:\",ipfs_cid)\n"
      ],
      "execution_count": 1,
      "outputs": [
        {
          "output_type": "error",
          "ename": "NameError",
          "evalue": "ignored",
          "traceback": [
            "\u001b[0;31m---------------------------------------------------------------------------\u001b[0m",
            "\u001b[0;31mNameError\u001b[0m                                 Traceback (most recent call last)",
            "\u001b[0;32m<ipython-input-1-24b29ded245b>\u001b[0m in \u001b[0;36m<module>\u001b[0;34m()\u001b[0m\n\u001b[1;32m      8\u001b[0m \u001b[0;34m\u001b[0m\u001b[0m\n\u001b[1;32m      9\u001b[0m \u001b[0mclient\u001b[0m \u001b[0;34m=\u001b[0m \u001b[0maioipfs\u001b[0m\u001b[0;34m.\u001b[0m\u001b[0mAsyncIPFS\u001b[0m\u001b[0;34m(\u001b[0m\u001b[0mdebug\u001b[0m\u001b[0;34m=\u001b[0m\u001b[0;32mTrue\u001b[0m\u001b[0;34m)\u001b[0m\u001b[0;34m\u001b[0m\u001b[0;34m\u001b[0m\u001b[0m\n\u001b[0;32m---> 10\u001b[0;31m \u001b[0mclientRemote\u001b[0m \u001b[0;34m=\u001b[0m \u001b[0maioipfs\u001b[0m\u001b[0;34m.\u001b[0m\u001b[0mAsyncIPFS\u001b[0m\u001b[0;34m(\u001b[0m\u001b[0mhost\u001b[0m\u001b[0;34m=\u001b[0m\u001b[0mIPFS_PEER\u001b[0m\u001b[0;34m,\u001b[0m\u001b[0mport\u001b[0m\u001b[0;34m=\u001b[0m\u001b[0;36m5002\u001b[0m\u001b[0;34m,\u001b[0m\u001b[0mdebug\u001b[0m\u001b[0;34m=\u001b[0m\u001b[0;32mTrue\u001b[0m\u001b[0;34m)\u001b[0m\u001b[0;34m\u001b[0m\u001b[0;34m\u001b[0m\u001b[0m\n\u001b[0m\u001b[1;32m     11\u001b[0m \u001b[0;34m\u001b[0m\u001b[0m\n\u001b[1;32m     12\u001b[0m \u001b[0mipfs_nodeid\u001b[0m \u001b[0;34m=\u001b[0m \u001b[0;32mNone\u001b[0m\u001b[0;34m\u001b[0m\u001b[0;34m\u001b[0m\u001b[0m\n",
            "\u001b[0;31mNameError\u001b[0m: name 'IPFS_PEER' is not defined"
          ]
        }
      ]
    },
    {
      "cell_type": "code",
      "metadata": {
        "id": "N85GXpdFqON7"
      },
      "source": [
        "#@title Connect to IPFS Pubsub\n",
        "\n",
        "async def sub(topic, handler=None):\n",
        "  print(\"subscribed to\",topic)\n",
        "  async for message in client.pubsub.sub(topic):\n",
        "    if handler:\n",
        "      handler(message)\n",
        "    else:\n",
        "      print(\"No handler. Received IPFS pub message\",message)\n",
        "\n",
        "\n",
        "def on_frontend_data(handler):\n",
        "  def handle(ipfs_message):\n",
        "    handler(ipfs_message[\"data\"])\n",
        "  asyncio.run(loop.create_task(sub(ipfs_nodeid, handle)))\n"
      ],
      "execution_count": 5,
      "outputs": []
    },
    {
      "cell_type": "code",
      "metadata": {
        "id": "A4TYvT7yoGvE",
        "colab": {
          "base_uri": "https://localhost:8080/",
          "height": 175
        },
        "outputId": "d341818f-2d58-4d0c-f8d3-21034c2aa073"
      },
      "source": [
        "#@title Create connection to frontend UI\n",
        "\n",
        "import IPython\n",
        "from google.colab import output\n",
        "\n",
        "display(IPython.display.Javascript(f'''\n",
        "  const iframe = document.createElement(\"iframe\")\n",
        "  iframe.src = `http://localhost:3000/incolab.html?node={ipfs_nodeid},{ipfs_cid}`\n",
        "  const channel = new BroadcastChannel(\"inColab\")\n",
        "  channel.onmessage = ({{data:link}}) => {{\n",
        "    console.log(\"passing on link from colab\",link)\n",
        "    iframe.contentWindow.postMessage(link,\"*\");\n",
        "  }}\n",
        "\n",
        "  document.querySelector(\"#output-area\").appendChild(iframe)\n",
        "'''))\n",
        "\n",
        "def update_state(link):\n",
        "  output.eval_js('new BroadcastChannel(\"inColab\").postMessage(\"'+link+'\")');\n",
        "\n",
        "#update_state(\"heeeey\")"
      ],
      "execution_count": 8,
      "outputs": [
        {
          "output_type": "display_data",
          "data": {
            "application/javascript": [
              "\n",
              "  const iframe = document.createElement(\"iframe\")\n",
              "  iframe.src = `http://localhost:3000/incolab.html?node=12D3KooWHQbh86K3aG1VAt6Gi6JYe18Qyuu3otyHWir3qfQqsmnn,QmXyMzfRj7JTaWgERQTDqX1PavGucybBip6FcdZ1gyKSWQ`\n",
              "  const channel = new BroadcastChannel(\"inColab\")\n",
              "  channel.onmessage = ({data:link}) => {\n",
              "    console.log(\"passing on link from colab\",link)\n",
              "    iframe.contentWindow.postMessage(link,\"*\");\n",
              "  }\n",
              "\n",
              "  document.querySelector(\"#output-area\").appendChild(iframe)\n"
            ],
            "text/plain": [
              "<IPython.core.display.Javascript object>"
            ]
          },
          "metadata": {
            "tags": []
          }
        }
      ]
    },
    {
      "cell_type": "code",
      "metadata": {
        "id": "e4QMSJbKktX_",
        "colab": {
          "base_uri": "https://localhost:8080/",
          "height": 358
        },
        "outputId": "2aa71fd6-7e73-4261-d62d-30d16a72c85a"
      },
      "source": [
        "on_frontend_data(print)"
      ],
      "execution_count": 9,
      "outputs": [
        {
          "output_type": "stream",
          "text": [
            "subscribed to 12D3KooWHQbh86K3aG1VAt6Gi6JYe18Qyuu3otyHWir3qfQqsmnn\n",
            "b'QmTEYUvQbESiLPTnTjbveKppAVtNLs4rdT64MdbQcyErMH'\n",
            "b'QmVRMN1pZBiHKtXZWETxqp8ek1SBAn8UicTpEDziUE73w9'\n"
          ],
          "name": "stdout"
        },
        {
          "output_type": "error",
          "ename": "KeyboardInterrupt",
          "evalue": "ignored",
          "traceback": [
            "\u001b[0;31m---------------------------------------------------------------------------\u001b[0m",
            "\u001b[0;31mKeyboardInterrupt\u001b[0m                         Traceback (most recent call last)",
            "\u001b[0;32m<ipython-input-9-c777c0d0bb65>\u001b[0m in \u001b[0;36m<module>\u001b[0;34m()\u001b[0m\n\u001b[0;32m----> 1\u001b[0;31m \u001b[0mon_frontend_data\u001b[0m\u001b[0;34m(\u001b[0m\u001b[0mprint\u001b[0m\u001b[0;34m)\u001b[0m\u001b[0;34m\u001b[0m\u001b[0;34m\u001b[0m\u001b[0m\n\u001b[0m",
            "\u001b[0;32m<ipython-input-5-4c8ee23e908b>\u001b[0m in \u001b[0;36mon_frontend_data\u001b[0;34m(handler)\u001b[0m\n\u001b[1;32m     13\u001b[0m   \u001b[0;32mdef\u001b[0m \u001b[0mhandle\u001b[0m\u001b[0;34m(\u001b[0m\u001b[0mipfs_message\u001b[0m\u001b[0;34m)\u001b[0m\u001b[0;34m:\u001b[0m\u001b[0;34m\u001b[0m\u001b[0;34m\u001b[0m\u001b[0m\n\u001b[1;32m     14\u001b[0m     \u001b[0mhandler\u001b[0m\u001b[0;34m(\u001b[0m\u001b[0mipfs_message\u001b[0m\u001b[0;34m[\u001b[0m\u001b[0;34m\"data\"\u001b[0m\u001b[0;34m]\u001b[0m\u001b[0;34m)\u001b[0m\u001b[0;34m\u001b[0m\u001b[0;34m\u001b[0m\u001b[0m\n\u001b[0;32m---> 15\u001b[0;31m   \u001b[0masyncio\u001b[0m\u001b[0;34m.\u001b[0m\u001b[0mrun\u001b[0m\u001b[0;34m(\u001b[0m\u001b[0mloop\u001b[0m\u001b[0;34m.\u001b[0m\u001b[0mcreate_task\u001b[0m\u001b[0;34m(\u001b[0m\u001b[0msub\u001b[0m\u001b[0;34m(\u001b[0m\u001b[0mipfs_nodeid\u001b[0m\u001b[0;34m,\u001b[0m \u001b[0mhandle\u001b[0m\u001b[0;34m)\u001b[0m\u001b[0;34m)\u001b[0m\u001b[0;34m)\u001b[0m\u001b[0;34m\u001b[0m\u001b[0;34m\u001b[0m\u001b[0m\n\u001b[0m",
            "\u001b[0;32m/usr/local/lib/python3.7/dist-packages/nest_asyncio.py\u001b[0m in \u001b[0;36mrun\u001b[0;34m(future, debug)\u001b[0m\n\u001b[1;32m     30\u001b[0m         \u001b[0mloop\u001b[0m \u001b[0;34m=\u001b[0m \u001b[0masyncio\u001b[0m\u001b[0;34m.\u001b[0m\u001b[0mget_event_loop\u001b[0m\u001b[0;34m(\u001b[0m\u001b[0;34m)\u001b[0m\u001b[0;34m\u001b[0m\u001b[0;34m\u001b[0m\u001b[0m\n\u001b[1;32m     31\u001b[0m         \u001b[0mloop\u001b[0m\u001b[0;34m.\u001b[0m\u001b[0mset_debug\u001b[0m\u001b[0;34m(\u001b[0m\u001b[0mdebug\u001b[0m\u001b[0;34m)\u001b[0m\u001b[0;34m\u001b[0m\u001b[0;34m\u001b[0m\u001b[0m\n\u001b[0;32m---> 32\u001b[0;31m         \u001b[0;32mreturn\u001b[0m \u001b[0mloop\u001b[0m\u001b[0;34m.\u001b[0m\u001b[0mrun_until_complete\u001b[0m\u001b[0;34m(\u001b[0m\u001b[0mfuture\u001b[0m\u001b[0;34m)\u001b[0m\u001b[0;34m\u001b[0m\u001b[0;34m\u001b[0m\u001b[0m\n\u001b[0m\u001b[1;32m     33\u001b[0m \u001b[0;34m\u001b[0m\u001b[0m\n\u001b[1;32m     34\u001b[0m     \u001b[0;32mif\u001b[0m \u001b[0msys\u001b[0m\u001b[0;34m.\u001b[0m\u001b[0mversion_info\u001b[0m \u001b[0;34m>=\u001b[0m \u001b[0;34m(\u001b[0m\u001b[0;36m3\u001b[0m\u001b[0;34m,\u001b[0m \u001b[0;36m6\u001b[0m\u001b[0;34m,\u001b[0m \u001b[0;36m0\u001b[0m\u001b[0;34m)\u001b[0m\u001b[0;34m:\u001b[0m\u001b[0;34m\u001b[0m\u001b[0;34m\u001b[0m\u001b[0m\n",
            "\u001b[0;32m/usr/local/lib/python3.7/dist-packages/nest_asyncio.py\u001b[0m in \u001b[0;36mrun_until_complete\u001b[0;34m(self, future)\u001b[0m\n\u001b[1;32m     62\u001b[0m                 \u001b[0mf\u001b[0m\u001b[0;34m.\u001b[0m\u001b[0m_log_destroy_pending\u001b[0m \u001b[0;34m=\u001b[0m \u001b[0;32mFalse\u001b[0m\u001b[0;34m\u001b[0m\u001b[0;34m\u001b[0m\u001b[0m\n\u001b[1;32m     63\u001b[0m             \u001b[0;32mwhile\u001b[0m \u001b[0;32mnot\u001b[0m \u001b[0mf\u001b[0m\u001b[0;34m.\u001b[0m\u001b[0mdone\u001b[0m\u001b[0;34m(\u001b[0m\u001b[0;34m)\u001b[0m\u001b[0;34m:\u001b[0m\u001b[0;34m\u001b[0m\u001b[0;34m\u001b[0m\u001b[0m\n\u001b[0;32m---> 64\u001b[0;31m                 \u001b[0mself\u001b[0m\u001b[0;34m.\u001b[0m\u001b[0m_run_once\u001b[0m\u001b[0;34m(\u001b[0m\u001b[0;34m)\u001b[0m\u001b[0;34m\u001b[0m\u001b[0;34m\u001b[0m\u001b[0m\n\u001b[0m\u001b[1;32m     65\u001b[0m                 \u001b[0;32mif\u001b[0m \u001b[0mself\u001b[0m\u001b[0;34m.\u001b[0m\u001b[0m_stopping\u001b[0m\u001b[0;34m:\u001b[0m\u001b[0;34m\u001b[0m\u001b[0;34m\u001b[0m\u001b[0m\n\u001b[1;32m     66\u001b[0m                     \u001b[0;32mbreak\u001b[0m\u001b[0;34m\u001b[0m\u001b[0;34m\u001b[0m\u001b[0m\n",
            "\u001b[0;32m/usr/local/lib/python3.7/dist-packages/nest_asyncio.py\u001b[0m in \u001b[0;36m_run_once\u001b[0;34m(self)\u001b[0m\n\u001b[1;32m     85\u001b[0m             \u001b[0;32melse\u001b[0m \u001b[0mmin\u001b[0m\u001b[0;34m(\u001b[0m\u001b[0mmax\u001b[0m\u001b[0;34m(\u001b[0m\u001b[0mscheduled\u001b[0m\u001b[0;34m[\u001b[0m\u001b[0;36m0\u001b[0m\u001b[0;34m]\u001b[0m\u001b[0;34m.\u001b[0m\u001b[0m_when\u001b[0m \u001b[0;34m-\u001b[0m \u001b[0mnow\u001b[0m\u001b[0;34m,\u001b[0m \u001b[0;36m0\u001b[0m\u001b[0;34m)\u001b[0m\u001b[0;34m,\u001b[0m \u001b[0;36m86400\u001b[0m\u001b[0;34m)\u001b[0m \u001b[0;32mif\u001b[0m \u001b[0mscheduled\u001b[0m\u001b[0;34m\u001b[0m\u001b[0;34m\u001b[0m\u001b[0m\n\u001b[1;32m     86\u001b[0m             else None)\n\u001b[0;32m---> 87\u001b[0;31m         \u001b[0mevent_list\u001b[0m \u001b[0;34m=\u001b[0m \u001b[0mself\u001b[0m\u001b[0;34m.\u001b[0m\u001b[0m_selector\u001b[0m\u001b[0;34m.\u001b[0m\u001b[0mselect\u001b[0m\u001b[0;34m(\u001b[0m\u001b[0mtimeout\u001b[0m\u001b[0;34m)\u001b[0m\u001b[0;34m\u001b[0m\u001b[0;34m\u001b[0m\u001b[0m\n\u001b[0m\u001b[1;32m     88\u001b[0m         \u001b[0mself\u001b[0m\u001b[0;34m.\u001b[0m\u001b[0m_process_events\u001b[0m\u001b[0;34m(\u001b[0m\u001b[0mevent_list\u001b[0m\u001b[0;34m)\u001b[0m\u001b[0;34m\u001b[0m\u001b[0;34m\u001b[0m\u001b[0m\n\u001b[1;32m     89\u001b[0m \u001b[0;34m\u001b[0m\u001b[0m\n",
            "\u001b[0;32m/usr/lib/python3.7/selectors.py\u001b[0m in \u001b[0;36mselect\u001b[0;34m(self, timeout)\u001b[0m\n\u001b[1;32m    466\u001b[0m             \u001b[0mready\u001b[0m \u001b[0;34m=\u001b[0m \u001b[0;34m[\u001b[0m\u001b[0;34m]\u001b[0m\u001b[0;34m\u001b[0m\u001b[0;34m\u001b[0m\u001b[0m\n\u001b[1;32m    467\u001b[0m             \u001b[0;32mtry\u001b[0m\u001b[0;34m:\u001b[0m\u001b[0;34m\u001b[0m\u001b[0;34m\u001b[0m\u001b[0m\n\u001b[0;32m--> 468\u001b[0;31m                 \u001b[0mfd_event_list\u001b[0m \u001b[0;34m=\u001b[0m \u001b[0mself\u001b[0m\u001b[0;34m.\u001b[0m\u001b[0m_selector\u001b[0m\u001b[0;34m.\u001b[0m\u001b[0mpoll\u001b[0m\u001b[0;34m(\u001b[0m\u001b[0mtimeout\u001b[0m\u001b[0;34m,\u001b[0m \u001b[0mmax_ev\u001b[0m\u001b[0;34m)\u001b[0m\u001b[0;34m\u001b[0m\u001b[0;34m\u001b[0m\u001b[0m\n\u001b[0m\u001b[1;32m    469\u001b[0m             \u001b[0;32mexcept\u001b[0m \u001b[0mInterruptedError\u001b[0m\u001b[0;34m:\u001b[0m\u001b[0;34m\u001b[0m\u001b[0;34m\u001b[0m\u001b[0m\n\u001b[1;32m    470\u001b[0m                 \u001b[0;32mreturn\u001b[0m \u001b[0mready\u001b[0m\u001b[0;34m\u001b[0m\u001b[0;34m\u001b[0m\u001b[0m\n",
            "\u001b[0;31mKeyboardInterrupt\u001b[0m: "
          ]
        }
      ]
    },
    {
      "cell_type": "markdown",
      "metadata": {
        "id": "GVkVyH_Fj8P8"
      },
      "source": [
        "## CODE (DEEP-DAZE)"
      ]
    },
    {
      "cell_type": "code",
      "metadata": {
        "id": "YpRu6LTR2LbD"
      },
      "source": [
        "!pip install deep-daze --upgrade\n",
        "!pip install imageio-ffmpeg asyncio websockets varname --upgrade"
      ],
      "execution_count": null,
      "outputs": []
    },
    {
      "cell_type": "code",
      "metadata": {
        "id": "KHXMdtZSh3rs",
        "colab": {
          "base_uri": "https://localhost:8080/",
          "height": 368
        },
        "outputId": "86835c7e-3228-4803-8028-40f200ec7d9a"
      },
      "source": [
        "from subprocess import Popen, PIPE, STDOUT\n",
        "from sys import stdout\n",
        "from glob import glob\n",
        "import os\n",
        "import json\n",
        "import itertools\n",
        "from base64 import b64encode\n",
        "from time import sleep\n",
        "import requests\n",
        "import os\n",
        "from mimetypes import guess_type \n",
        "import re\n",
        "flatten = itertools.chain.from_iterable\n",
        "\n",
        "TEXT=\"A black and white technical illustration of merging a cat and a human through biohacking.\"\n",
        "DEFAULT_PARAMS=\"--lower_bound_cutout 0.5 --image-width=384 --iterations=1000 --epochs=2 --save-every=2 --save-progress=True --open_folder=False --overwrite=True --save_video=True --seed=1234\"\n",
        "GITHUB_REPO=\"voodoohop/pollinations/blob/master/colabs/deep-daze.ipynb\"\n",
        "GITHUB_REPO_CLEAN = re.sub('[^0-9a-zA-Z]+', '_', GITHUB_REPO)\n",
        "print(GITHUB_REPO_CLEAN)\n",
        "\n",
        "def run(text, params=DEFAULT_PARAMS, watch_media_paths=[\"./*.jpg\",\"./*.mp4\"]):\n",
        "  print(\"Running\",text)\n",
        "  for to_remove in watch_media_paths:\n",
        "    for filepath in glob(to_remove):\n",
        "      print(\"Deleting\",filepath,\"before starting.\")\n",
        "      os.remove(filepath)\n",
        "\n",
        "  cmd = f'imagine {params} \"{text}\"'\n",
        "  \n",
        "  p = Popen(cmd, stdout = PIPE, \n",
        "          stderr = STDOUT, shell = True)\n",
        "\n",
        "  found_media_files=[]\n",
        "  log_out = open(f\"{ipfs_root}/colabConsole.txt\",\"a\")\n",
        "  while True:\n",
        "    line = p.stdout.readline()#\n",
        "    if not line: break\n",
        "\n",
        "    stdout.write(line)\n",
        "    log_out.write(line.decode(\"utf-8\"))\n",
        "    log_out.flush()\n",
        "    #headers = { \n",
        "    #    \"params\": params,\n",
        "    #    \"text\": text\n",
        "    #}\n",
        "    #conn.send(body=line.decode(\"utf-8\"), headers=headers, destination='/topic/colabOut')\n",
        "    \n",
        "    new_found_media_files = get_matching_files(watch_media_paths)\n",
        "    new_found_media_files.sort(key=os.path.getmtime)\n",
        "    added_media_files = list(set(new_found_media_files)-set(found_media_files))\n",
        "    found_media_files = new_found_media_files\n",
        "    pin=False\n",
        "    if len(added_media_files) > 0:\n",
        "      for added in added_media_files:\n",
        "        sleep(0.1)\n",
        "        if len(added) > 0:\n",
        "          !cp $added $ipfs_root\n",
        "          print(\"Adding:\", added,\"to ipfs root\")\n",
        "          pin=True\n",
        "    add_and_publish(pin)          \n",
        "\n",
        "def get_matching_files(search_paths):\n",
        "  return list(flatten([glob(search_path) for search_path in search_paths]))\n",
        "\n",
        "\n",
        "#conn.set_listener('', MyListener(conn,run))\n",
        "print(sub)\n",
        "#run(TEXT)\n",
        "#conn.disconnect()\n",
        "sleep(1000000)\n"
      ],
      "execution_count": 3,
      "outputs": [
        {
          "output_type": "error",
          "ename": "ModuleNotFoundError",
          "evalue": "ignored",
          "traceback": [
            "\u001b[0;31m---------------------------------------------------------------------------\u001b[0m",
            "\u001b[0;31mModuleNotFoundError\u001b[0m                       Traceback (most recent call last)",
            "\u001b[0;32m<ipython-input-3-b48737221f77>\u001b[0m in \u001b[0;36m<module>\u001b[0;34m()\u001b[0m\n\u001b[1;32m      3\u001b[0m \u001b[0;32mfrom\u001b[0m \u001b[0mglob\u001b[0m \u001b[0;32mimport\u001b[0m \u001b[0mglob\u001b[0m\u001b[0;34m\u001b[0m\u001b[0;34m\u001b[0m\u001b[0m\n\u001b[1;32m      4\u001b[0m \u001b[0;32mimport\u001b[0m \u001b[0mos\u001b[0m\u001b[0;34m\u001b[0m\u001b[0;34m\u001b[0m\u001b[0m\n\u001b[0;32m----> 5\u001b[0;31m \u001b[0;32mimport\u001b[0m \u001b[0mstomp\u001b[0m\u001b[0;34m\u001b[0m\u001b[0;34m\u001b[0m\u001b[0m\n\u001b[0m\u001b[1;32m      6\u001b[0m \u001b[0;32mimport\u001b[0m \u001b[0mjson\u001b[0m\u001b[0;34m\u001b[0m\u001b[0;34m\u001b[0m\u001b[0m\n\u001b[1;32m      7\u001b[0m \u001b[0;32mimport\u001b[0m \u001b[0mitertools\u001b[0m\u001b[0;34m\u001b[0m\u001b[0;34m\u001b[0m\u001b[0m\n",
            "\u001b[0;31mModuleNotFoundError\u001b[0m: No module named 'stomp'",
            "",
            "\u001b[0;31m---------------------------------------------------------------------------\u001b[0;32m\nNOTE: If your import is failing due to a missing package, you can\nmanually install dependencies using either !pip or !apt.\n\nTo view examples of installing some common dependencies, click the\n\"Open Examples\" button below.\n\u001b[0;31m---------------------------------------------------------------------------\u001b[0m\n"
          ]
        }
      ]
    },
    {
      "cell_type": "code",
      "metadata": {
        "id": "GRIiu7CfzuBK"
      },
      "source": [
        "conn.disconnect()"
      ],
      "execution_count": null,
      "outputs": []
    },
    {
      "cell_type": "code",
      "metadata": {
        "id": "YqGD4GWxLSty"
      },
      "source": [
        ""
      ],
      "execution_count": null,
      "outputs": []
    },
    {
      "cell_type": "code",
      "metadata": {
        "id": "ofO0gpgkRqSG"
      },
      "source": [
        ""
      ],
      "execution_count": null,
      "outputs": []
    },
    {
      "cell_type": "code",
      "metadata": {
        "id": "1LwfD9nhRFwO"
      },
      "source": [
        "\n"
      ],
      "execution_count": null,
      "outputs": []
    }
  ]
}