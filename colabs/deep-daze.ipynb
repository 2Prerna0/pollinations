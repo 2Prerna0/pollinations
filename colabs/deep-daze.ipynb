{
  "nbformat": 4,
  "nbformat_minor": 0,
  "metadata": {
    "colab": {
      "name": "Deep Daze",
      "provenance": [],
      "collapsed_sections": [],
      "toc_visible": true,
      "machine_shape": "hm",
      "include_colab_link": true
    },
    "kernelspec": {
      "name": "python3",
      "display_name": "Python 3"
    },
    "accelerator": "GPU"
  },
  "cells": [
    {
      "cell_type": "markdown",
      "metadata": {
        "id": "view-in-github",
        "colab_type": "text"
      },
      "source": [
        "<a href=\"https://colab.research.google.com/github/voodoohop/colabasaservice/blob/master/colabs/deep-daze.ipynb\" target=\"_parent\"><img src=\"https://colab.research.google.com/assets/colab-badge.svg\" alt=\"Open In Colab\"/></a>"
      ]
    },
    {
      "cell_type": "markdown",
      "metadata": {
        "id": "fDs_ZA4z2aao"
      },
      "source": [
        "# Text to Image\n",
        "### Method: CLIP + Siren\n",
        "This model combines an image classifier called **CLIP** from *OpenAI* and an image generator called **SIREN.**\n",
        "\n",
        "The process works like this:\n",
        "1.  The **SIREN** model at first generates a completely random image\n",
        "2.  The **CLIP** image classifier looks at the image and compares it with the given text caption\n",
        "3.  Using this feedback the weights of the **SIREN** model are adjusted slightly to better approximate the image caption\n",
        "4.  These steps are repeated until we stop it manually\n",
        "---\n",
        "In order to run click the [Colab] link. And then select *Runtime -> Run all* from the menu bar.\n",
        "\n",
        "[colab]: https://colab.research.google.com/github/voodoohop/colabasaservice/blob/master/colabs/deep-daze.ipynb"
      ]
    },
    {
      "cell_type": "markdown",
      "metadata": {
        "id": "KG2g6OrGl8Hy"
      },
      "source": [
        "# Parameters"
      ]
    },
    {
      "cell_type": "code",
      "metadata": {
        "id": "eCWAiIbllADm"
      },
      "source": [
        "text = 'An illustration of a black and white cat'  #@param {type: \"string\"}\n",
        "args = '--lower_bound_cutout 0.5 --image-width=384 --iterations=1000 --epochs=2 --save-every=2 --save-progress=True --open_folder=False --overwrite=True --save_video=True --seed=123'  #@param {type: \"string\"}\n",
        "\n",
        "parameters = {\n",
        "    \"text\": text,\n",
        "    \"args\": args\n",
        "}"
      ],
      "execution_count": 4,
      "outputs": []
    },
    {
      "cell_type": "markdown",
      "metadata": {
        "id": "z8RkOYkzmGDW"
      },
      "source": [
        "# Code"
      ]
    },
    {
      "cell_type": "code",
      "metadata": {
        "id": "YpRu6LTR2LbD",
        "colab": {
          "base_uri": "https://localhost:8080/",
          "height": 1000
        },
        "outputId": "e704660f-0a86-4545-da78-ceacb4311d68"
      },
      "source": [
        "!pip install deep-daze --upgrade\n",
        "!pip install stomp.py imageio-ffmpeg asyncio websockets varname --upgrade"
      ],
      "execution_count": 5,
      "outputs": [
        {
          "output_type": "stream",
          "text": [
            "Collecting deep-daze\n",
            "\u001b[?25l  Downloading https://files.pythonhosted.org/packages/90/14/a3288dab1a71fe6d9267456120d263f57d9f7d0efa42a3fef4a4ef52e95e/deep_daze-0.10.2-py3-none-any.whl (1.4MB)\n",
            "\u001b[K     |████████████████████████████████| 1.4MB 8.9MB/s \n",
            "\u001b[?25hRequirement already satisfied, skipping upgrade: torchvision>=0.8.2 in /usr/local/lib/python3.7/dist-packages (from deep-daze) (0.9.1+cu101)\n",
            "Collecting ftfy\n",
            "\u001b[?25l  Downloading https://files.pythonhosted.org/packages/ce/b5/5da463f9c7823e0e575e9908d004e2af4b36efa8d02d3d6dad57094fcb11/ftfy-6.0.1.tar.gz (63kB)\n",
            "\u001b[K     |████████████████████████████████| 71kB 10.5MB/s \n",
            "\u001b[?25hRequirement already satisfied, skipping upgrade: tqdm in /usr/local/lib/python3.7/dist-packages (from deep-daze) (4.41.1)\n",
            "Collecting imageio>=2.9.0\n",
            "\u001b[?25l  Downloading https://files.pythonhosted.org/packages/6e/57/5d899fae74c1752f52869b613a8210a2480e1a69688e65df6cb26117d45d/imageio-2.9.0-py3-none-any.whl (3.3MB)\n",
            "\u001b[K     |████████████████████████████████| 3.3MB 34.6MB/s \n",
            "\u001b[?25hCollecting torch-optimizer\n",
            "\u001b[?25l  Downloading https://files.pythonhosted.org/packages/af/0f/bc49a0f714a1896b80f31db9ba82eebcb2bad9e0f5757184574f8ecfe2f1/torch_optimizer-0.1.0-py3-none-any.whl (72kB)\n",
            "\u001b[K     |████████████████████████████████| 81kB 11.8MB/s \n",
            "\u001b[?25hCollecting siren-pytorch>=0.0.8\n",
            "  Downloading https://files.pythonhosted.org/packages/22/c9/780061018c410ad5af5eae0a98e46eed3379beca51dde8b538b385b1bc7d/siren_pytorch-0.1.5-py3-none-any.whl\n",
            "Collecting fire\n",
            "\u001b[?25l  Downloading https://files.pythonhosted.org/packages/11/07/a119a1aa04d37bc819940d95ed7e135a7dcca1c098123a3764a6dcace9e7/fire-0.4.0.tar.gz (87kB)\n",
            "\u001b[K     |████████████████████████████████| 92kB 12.9MB/s \n",
            "\u001b[?25hRequirement already satisfied, skipping upgrade: torch>=1.7.1 in /usr/local/lib/python3.7/dist-packages (from deep-daze) (1.8.1+cu101)\n",
            "Requirement already satisfied, skipping upgrade: regex in /usr/local/lib/python3.7/dist-packages (from deep-daze) (2019.12.20)\n",
            "Collecting einops>=0.3\n",
            "  Downloading https://files.pythonhosted.org/packages/5d/a0/9935e030634bf60ecd572c775f64ace82ceddf2f504a5fd3902438f07090/einops-0.3.0-py2.py3-none-any.whl\n",
            "Requirement already satisfied, skipping upgrade: numpy in /usr/local/lib/python3.7/dist-packages (from torchvision>=0.8.2->deep-daze) (1.19.5)\n",
            "Requirement already satisfied, skipping upgrade: pillow>=4.1.1 in /usr/local/lib/python3.7/dist-packages (from torchvision>=0.8.2->deep-daze) (7.1.2)\n",
            "Requirement already satisfied, skipping upgrade: wcwidth in /usr/local/lib/python3.7/dist-packages (from ftfy->deep-daze) (0.2.5)\n",
            "Collecting pytorch-ranger>=0.1.1\n",
            "  Downloading https://files.pythonhosted.org/packages/0d/70/12256257d861bbc3e176130d25be1de085ce7a9e60594064888a950f2154/pytorch_ranger-0.1.1-py3-none-any.whl\n",
            "Requirement already satisfied, skipping upgrade: six in /usr/local/lib/python3.7/dist-packages (from fire->deep-daze) (1.15.0)\n",
            "Requirement already satisfied, skipping upgrade: termcolor in /usr/local/lib/python3.7/dist-packages (from fire->deep-daze) (1.1.0)\n",
            "Requirement already satisfied, skipping upgrade: typing-extensions in /usr/local/lib/python3.7/dist-packages (from torch>=1.7.1->deep-daze) (3.7.4.3)\n",
            "Building wheels for collected packages: ftfy, fire\n",
            "  Building wheel for ftfy (setup.py) ... \u001b[?25l\u001b[?25hdone\n",
            "  Created wheel for ftfy: filename=ftfy-6.0.1-cp37-none-any.whl size=41573 sha256=630c45563aa644dca3c8011404146282a530ab0081cedda1bca4978d1b6a315f\n",
            "  Stored in directory: /root/.cache/pip/wheels/ae/73/c7/9056e14b04919e5c262fe80b54133b1a88d73683d05d7ac65c\n",
            "  Building wheel for fire (setup.py) ... \u001b[?25l\u001b[?25hdone\n",
            "  Created wheel for fire: filename=fire-0.4.0-py2.py3-none-any.whl size=115928 sha256=db2c9dd8a4602fc6f9af2ce93bb6e7eebe1e86fd54a876a42f7785409646896d\n",
            "  Stored in directory: /root/.cache/pip/wheels/af/19/30/1ea0cad502dcb4e66ed5a690279628c827aea38bbbab75d5ed\n",
            "Successfully built ftfy fire\n",
            "\u001b[31mERROR: albumentations 0.1.12 has requirement imgaug<0.2.7,>=0.2.5, but you'll have imgaug 0.2.9 which is incompatible.\u001b[0m\n",
            "Installing collected packages: ftfy, imageio, pytorch-ranger, torch-optimizer, einops, siren-pytorch, fire, deep-daze\n",
            "  Found existing installation: imageio 2.4.1\n",
            "    Uninstalling imageio-2.4.1:\n",
            "      Successfully uninstalled imageio-2.4.1\n",
            "Successfully installed deep-daze-0.10.2 einops-0.3.0 fire-0.4.0 ftfy-6.0.1 imageio-2.9.0 pytorch-ranger-0.1.1 siren-pytorch-0.1.5 torch-optimizer-0.1.0\n",
            "Collecting stomp.py\n",
            "  Downloading https://files.pythonhosted.org/packages/21/a7/b3cd7150c8fcfbcd242fb9a862cc86c5a8795503ac6503c9d1a63cd2e7f5/stomp.py-7.0.0-py3-none-any.whl\n",
            "Collecting imageio-ffmpeg\n",
            "\u001b[?25l  Downloading https://files.pythonhosted.org/packages/89/0f/4b49476d185a273163fa648eaf1e7d4190661d1bbf37ec2975b84df9de02/imageio_ffmpeg-0.4.3-py3-none-manylinux2010_x86_64.whl (26.9MB)\n",
            "\u001b[K     |████████████████████████████████| 26.9MB 113kB/s \n",
            "\u001b[?25hCollecting asyncio\n",
            "\u001b[?25l  Downloading https://files.pythonhosted.org/packages/22/74/07679c5b9f98a7cb0fc147b1ef1cc1853bc07a4eb9cb5731e24732c5f773/asyncio-3.4.3-py3-none-any.whl (101kB)\n",
            "\u001b[K     |████████████████████████████████| 102kB 12.5MB/s \n",
            "\u001b[?25hCollecting websockets\n",
            "\u001b[?25l  Downloading https://files.pythonhosted.org/packages/5a/0b/3ebc752392a368af14dd24ee041683416ac6d2463eead94b311b11e41c82/websockets-8.1-cp37-cp37m-manylinux2010_x86_64.whl (79kB)\n",
            "\u001b[K     |████████████████████████████████| 81kB 12.3MB/s \n",
            "\u001b[?25hCollecting varname\n",
            "  Downloading https://files.pythonhosted.org/packages/b4/9c/1f458a8754a5333ea6f4ec98b08b87d76a4e370ada2cc43d945ac4cabff7/varname-0.6.3-py3-none-any.whl\n",
            "Requirement already satisfied, skipping upgrade: docopt<0.7.0,>=0.6.2 in /usr/local/lib/python3.7/dist-packages (from stomp.py) (0.6.2)\n",
            "Collecting asttokens<3.0.0,>=2.0.0\n",
            "  Downloading https://files.pythonhosted.org/packages/16/d5/b0ad240c22bba2f4591693b0ca43aae94fbd77fb1e2b107d54fff1462b6f/asttokens-2.0.5-py2.py3-none-any.whl\n",
            "Collecting executing\n",
            "  Downloading https://files.pythonhosted.org/packages/e1/a6/07d28b53b1fab42985cba6b704d685a60a2e3a5efce4cfaaad42a4494bd8/executing-0.6.0-py2.py3-none-any.whl\n",
            "Collecting pure_eval<1.0.0\n",
            "  Downloading https://files.pythonhosted.org/packages/84/3b/b26d9daa15c2319e2df7158dc9597a36039a3ebf5aaeb51e2505eaddd645/pure_eval-0.2.1-py3-none-any.whl\n",
            "Requirement already satisfied, skipping upgrade: six in /usr/local/lib/python3.7/dist-packages (from asttokens<3.0.0,>=2.0.0->varname) (1.15.0)\n",
            "Installing collected packages: stomp.py, imageio-ffmpeg, asyncio, websockets, asttokens, executing, pure-eval, varname\n",
            "Successfully installed asttokens-2.0.5 asyncio-3.4.3 executing-0.6.0 imageio-ffmpeg-0.4.3 pure-eval-0.2.1 stomp.py-7.0.0 varname-0.6.3 websockets-8.1\n"
          ],
          "name": "stdout"
        },
        {
          "output_type": "display_data",
          "data": {
            "application/vnd.colab-display-data+json": {
              "pip_warning": {
                "packages": [
                  "asyncio"
                ]
              }
            }
          },
          "metadata": {
            "tags": []
          }
        }
      ]
    },
    {
      "cell_type": "markdown",
      "metadata": {
        "id": "cKuOyEZn2Xr_"
      },
      "source": [
        ""
      ]
    },
    {
      "cell_type": "code",
      "metadata": {
        "id": "91_qrFUMFtvL"
      },
      "source": [
        "\n",
        "#parameter_names = [varname(p) for p in parameters]\n"
      ],
      "execution_count": 7,
      "outputs": []
    },
    {
      "cell_type": "code",
      "metadata": {
        "id": "KHXMdtZSh3rs",
        "colab": {
          "base_uri": "https://localhost:8080/",
          "height": 1000
        },
        "outputId": "b752941b-7c34-474b-8a4d-8a9999b6ed7d"
      },
      "source": [
        "from subprocess import Popen, PIPE, STDOUT\n",
        "from sys import stdout\n",
        "from glob import glob\n",
        "import os\n",
        "import stomp\n",
        "import json\n",
        "import itertools\n",
        "from base64 import b64encode\n",
        "from time import sleep\n",
        "import requests\n",
        "import os\n",
        "from mimetypes import guess_type \n",
        "import re\n",
        "flatten = itertools.chain.from_iterable\n",
        "\n",
        "TEXT=\"A black and white technical illustration of merging a cat and a human through biohacking.\"\n",
        "DEFAULT_PARAMS=\"--lower_bound_cutout 0.5 --image-width=384 --iterations=1000 --epochs=2 --save-every=2 --save-progress=True --open_folder=False --overwrite=True --save_video=True --seed=123\"\n",
        "GITHUB_REPO=\"voodoohop/colabasaservice/blob/master/colabs/deep-daze.ipynb\"\n",
        "GITHUB_REPO_CLEAN = re.sub('[^0-9a-zA-Z]+', '_', GITHUB_REPO)\n",
        "print(GITHUB_REPO_CLEAN)\n",
        "conn = stomp.Connection([('b-4e89df1f-8226-4cc4-a518-4e1ac0023c97-1.mq.eu-central-1.amazonaws.com', 61614)], use_ssl=True)\n",
        "conn.connect('guest', 'iamcolabguest', wait=True)\n",
        "conn.subscribe(destination=f'/queue/deep-daze', id=1, ack='auto')\n",
        "\n",
        "def run(text, params=DEFAULT_PARAMS, watch_media_paths=[\"./*.jpg\",\"./*.mp4\"]):\n",
        "  print(\"Running\",text)\n",
        "  for to_remove in watch_media_paths:\n",
        "    for filepath in glob(to_remove):\n",
        "      print(\"Deleting\",filepath,\"before starting.\")\n",
        "      os.remove(filepath)\n",
        "\n",
        "  cmd = f'imagine {params} \"{text}\"'\n",
        "  \n",
        "  p = Popen(cmd, stdout = PIPE, \n",
        "          stderr = STDOUT, shell = True)\n",
        "\n",
        "  found_media_files=[]\n",
        "  while True:\n",
        "    line = p.stdout.readline()#\n",
        "    if not line: break\n",
        "\n",
        "    stdout.write(line)\n",
        "\n",
        "    headers = { \n",
        "        \"params\": params,\n",
        "        \"text\": text\n",
        "    }\n",
        "    conn.send(body=line.decode(\"utf-8\"), headers=headers, destination='/topic/colabOut')\n",
        "    \n",
        "    new_found_media_files = get_matching_files(watch_media_paths)\n",
        "    new_found_media_files.sort(key=os.path.getmtime)\n",
        "    added_media_files = list(set(new_found_media_files)-set(found_media_files))\n",
        "    found_media_files = new_found_media_files\n",
        "\n",
        "    if len(added_media_files) > 0:\n",
        "      for added in added_media_files:\n",
        "        sleep(0.1)\n",
        "        if len(added) > 0:\n",
        "          filename = os.path.basename(added)\n",
        "          mimetype, _ = guess_type(filename)\n",
        "          print(\"Adding:\", added,\"type\",mimetype)\n",
        "          \n",
        "          with open(added,\"rb\") as media_file:\n",
        "            added_media = media_file.read()\n",
        "\n",
        "            base64_encoded_media = f\"data:{mimetype};base64,{b64encode(added_media).decode('ascii')}\"\n",
        "          \n",
        "          headers = {\n",
        "              **headers,         \n",
        "              \"type\": mimetype,\n",
        "              \"filename\": filename\n",
        "              }\n",
        "          conn.send(body=base64_encoded_media, headers=headers, destination='/topic/colabMediaOut')\n",
        "\n",
        "def get_matching_files(search_paths):\n",
        "  return list(flatten([glob(search_path) for search_path in search_paths]))\n",
        "\n",
        "\n",
        "class MyListener(stomp.ConnectionListener):\n",
        "    def __init__(self, conn,run):\n",
        "        self.conn = conn\n",
        "        self.run = run\n",
        "\n",
        "    def on_error(self, frame):\n",
        "        print('received an error \"%s\"' % frame.body)\n",
        "\n",
        "    def on_message(self, frame):\n",
        "        print('received a message \"%s\"' % frame.body)\n",
        "        self.run(frame.body)\n",
        "        print('processed message')\n",
        "\n",
        "    def on_disconnected(self):\n",
        "        print('disconnected')\n",
        "        #connect_and_subscribe(self.conn)\n",
        "\n",
        "conn.set_listener('', MyListener(conn,run))\n",
        "\n",
        "#run(TEXT)\n",
        "#conn.disconnect()\n",
        "sleep(1000000)\n"
      ],
      "execution_count": 8,
      "outputs": [
        {
          "output_type": "stream",
          "text": [
            "voodoohop_colabasaservice_blob_master_colabs_deep_daze_ipynb\n",
            "received a message \"A scientific illustration of a penis penetrating an asshole in black and white\"\n",
            "Running A scientific illustration of a penis penetrating an asshole in black and white\n",
            "Downloading ViT-B-32.pt: 100%|██████████| 354M/354M [00:05<00:00, 64.1MiB/s]\n",
            "epochs:   0%|          | 0/2 [00:00<?, ?it/s]\n",
            "                                             \n",
            "Adding: ./A_scientific_illustration_of_a_penis_penetrating_an_asshole_in_black_and_whit.jpg type image/jpeg\n",
            "epochs:   0%|          | 0/2 [00:00<?, ?it/s]\n",
            "iteration:   0%|          | 0/1000 [00:00<?, ?it/s]\u001b[A\n",
            "loss: -22.42:   0%|          | 0/1000 [00:00<?, ?it/s]\u001b[A\n",
            "loss: -22.42:   0%|          | 1/1000 [00:00<15:25,  1.08it/s]\u001b[A\n",
            "loss: -22.43:   0%|          | 1/1000 [00:01<15:25,  1.08it/s]\u001b[A\n",
            "                                             \n",
            "Adding: ./A_scientific_illustration_of_a_penis_penetrating_an_asshole_in_black_and_whit.000001.jpg type image/jpeg\n",
            "epochs:   0%|          | 0/2 [00:02<?, ?it/s]\n",
            "loss: -22.43:   0%|          | 2/1000 [00:02<15:14,  1.09it/s]\u001b[A\n",
            "loss: -22.38:   0%|          | 2/1000 [00:02<15:14,  1.09it/s]\u001b[A\n",
            "loss: -22.38:   0%|          | 3/1000 [00:02<15:13,  1.09it/s]\u001b[A\n",
            "loss: -24.54:   0%|          | 3/1000 [00:03<15:13,  1.09it/s]\u001b[A\n",
            "                                             \n",
            "Adding: ./A_scientific_illustration_of_a_penis_penetrating_an_asshole_in_black_and_whit.000002.jpg type image/jpeg\n",
            "epochs:   0%|          | 0/2 [00:04<?, ?it/s]\n",
            "loss: -24.54:   0%|          | 4/1000 [00:04<15:04,  1.10it/s]\u001b[A\n",
            "loss: -24.65:   0%|          | 4/1000 [00:04<15:04,  1.10it/s]\u001b[A\n",
            "loss: -24.65:   0%|          | 5/1000 [00:04<15:06,  1.10it/s]\u001b[A\n",
            "loss: -26.58:   0%|          | 5/1000 [00:05<15:06,  1.10it/s]\u001b[A\n",
            "                                             \n",
            "Adding: ./A_scientific_illustration_of_a_penis_penetrating_an_asshole_in_black_and_whit.000003.jpg type image/jpeg\n",
            "epochs:   0%|          | 0/2 [00:06<?, ?it/s]\n",
            "loss: -26.58:   1%|          | 6/1000 [00:06<15:02,  1.10it/s]\u001b[A\n",
            "loss: -27.99:   1%|          | 6/1000 [00:06<15:02,  1.10it/s]\u001b[A\n",
            "loss: -27.99:   1%|          | 7/1000 [00:06<15:03,  1.10it/s]\u001b[A\n",
            "loss: -29.42:   1%|          | 7/1000 [00:07<15:03,  1.10it/s]\u001b[A\n",
            "                                             \n",
            "Adding: ./A_scientific_illustration_of_a_penis_penetrating_an_asshole_in_black_and_whit.000004.jpg type image/jpeg\n",
            "epochs:   0%|          | 0/2 [00:08<?, ?it/s]\n",
            "loss: -29.42:   1%|          | 8/1000 [00:08<14:59,  1.10it/s]\u001b[A\n",
            "loss: -30.73:   1%|          | 8/1000 [00:08<14:59,  1.10it/s]\u001b[A\n",
            "loss: -30.73:   1%|          | 9/1000 [00:08<14:58,  1.10it/s]\u001b[A\n",
            "loss: -30.24:   1%|          | 9/1000 [00:09<14:58,  1.10it/s]\u001b[A\n",
            "                                             \n",
            "Adding: ./A_scientific_illustration_of_a_penis_penetrating_an_asshole_in_black_and_whit.000005.jpg type image/jpeg\n",
            "epochs:   0%|          | 0/2 [00:09<?, ?it/s]\n",
            "loss: -30.24:   1%|          | 10/1000 [00:09<14:55,  1.11it/s]\u001b[A\n",
            "loss: -31.24:   1%|          | 10/1000 [00:09<14:55,  1.11it/s]\u001b[A\n",
            "loss: -31.24:   1%|          | 11/1000 [00:09<14:58,  1.10it/s]\u001b[A\n",
            "loss: -32.11:   1%|          | 11/1000 [00:10<14:58,  1.10it/s]\u001b[A\n",
            "                                             \n",
            "Adding: ./A_scientific_illustration_of_a_penis_penetrating_an_asshole_in_black_and_whit.000006.jpg type image/jpeg\n",
            "epochs:   0%|          | 0/2 [00:11<?, ?it/s]\n",
            "loss: -32.11:   1%|          | 12/1000 [00:11<14:54,  1.10it/s]\u001b[A\n",
            "loss: -33.67:   1%|          | 12/1000 [00:11<14:54,  1.10it/s]\u001b[A\n",
            "loss: -33.67:   1%|▏         | 13/1000 [00:11<14:56,  1.10it/s]\u001b[A\n",
            "loss: -32.49:   1%|▏         | 13/1000 [00:12<14:56,  1.10it/s]\u001b[A\n",
            "                                             \n",
            "Adding: ./A_scientific_illustration_of_a_penis_penetrating_an_asshole_in_black_and_whit.000007.jpg type image/jpeg\n",
            "epochs:   0%|          | 0/2 [00:13<?, ?it/s]\n",
            "loss: -32.49:   1%|▏         | 14/1000 [00:13<14:53,  1.10it/s]\u001b[A\n",
            "loss: -33.92:   1%|▏         | 14/1000 [00:13<14:53,  1.10it/s]\u001b[A\n",
            "loss: -33.92:   2%|▏         | 15/1000 [00:13<14:54,  1.10it/s]\u001b[A\n",
            "loss: -33.92:   2%|▏         | 15/1000 [00:14<14:54,  1.10it/s]\u001b[A\n",
            "                                             \n",
            "Adding: ./A_scientific_illustration_of_a_penis_penetrating_an_asshole_in_black_and_whit.000008.jpg type image/jpeg\n",
            "epochs:   0%|          | 0/2 [00:15<?, ?it/s]\n",
            "loss: -33.92:   2%|▏         | 16/1000 [00:15<14:51,  1.10it/s]\u001b[A\n",
            "loss: -35.20:   2%|▏         | 16/1000 [00:15<14:51,  1.10it/s]\u001b[A\n",
            "loss: -35.20:   2%|▏         | 17/1000 [00:15<14:53,  1.10it/s]\u001b[A\n",
            "loss: -35.15:   2%|▏         | 17/1000 [00:16<14:53,  1.10it/s]\u001b[A\n",
            "                                             \n",
            "Adding: ./A_scientific_illustration_of_a_penis_penetrating_an_asshole_in_black_and_whit.000009.jpg type image/jpeg\n",
            "epochs:   0%|          | 0/2 [00:17<?, ?it/s]\n",
            "loss: -35.15:   2%|▏         | 18/1000 [00:17<14:50,  1.10it/s]\u001b[A\n",
            "loss: -35.80:   2%|▏         | 18/1000 [00:17<14:50,  1.10it/s]\u001b[A\n",
            "loss: -35.80:   2%|▏         | 19/1000 [00:17<14:52,  1.10it/s]\u001b[A\n",
            "loss: -36.60:   2%|▏         | 19/1000 [00:18<14:52,  1.10it/s]\u001b[A\n",
            "                                             \n",
            "Adding: ./A_scientific_illustration_of_a_penis_penetrating_an_asshole_in_black_and_whit.000010.jpg type image/jpeg\n",
            "epochs:   0%|          | 0/2 [00:19<?, ?it/s]\n",
            "loss: -36.60:   2%|▏         | 20/1000 [00:19<14:48,  1.10it/s]\u001b[A\n",
            "loss: -36.14:   2%|▏         | 20/1000 [00:19<14:48,  1.10it/s]\u001b[A\n",
            "loss: -36.14:   2%|▏         | 21/1000 [00:19<14:50,  1.10it/s]\u001b[A\n",
            "loss: -36.02:   2%|▏         | 21/1000 [00:19<14:50,  1.10it/s]\u001b[A\n",
            "                                             \n",
            "Adding: ./A_scientific_illustration_of_a_penis_penetrating_an_asshole_in_black_and_whit.000011.jpg type image/jpeg\n",
            "epochs:   0%|          | 0/2 [00:20<?, ?it/s]\n",
            "loss: -36.02:   2%|▏         | 22/1000 [00:20<14:46,  1.10it/s]\u001b[A\n",
            "loss: -36.90:   2%|▏         | 22/1000 [00:20<14:46,  1.10it/s]\u001b[A\n",
            "loss: -36.90:   2%|▏         | 23/1000 [00:20<14:47,  1.10it/s]\u001b[A\n",
            "loss: -37.60:   2%|▏         | 23/1000 [00:21<14:47,  1.10it/s]\u001b[A\n",
            "                                             \n",
            "Adding: ./A_scientific_illustration_of_a_penis_penetrating_an_asshole_in_black_and_whit.000012.jpg type image/jpeg\n",
            "epochs:   0%|          | 0/2 [00:22<?, ?it/s]\n",
            "loss: -37.60:   2%|▏         | 24/1000 [00:22<14:43,  1.10it/s]\u001b[A\n",
            "loss: -37.97:   2%|▏         | 24/1000 [00:22<14:43,  1.10it/s]\u001b[A\n",
            "loss: -37.97:   2%|▎         | 25/1000 [00:22<14:45,  1.10it/s]\u001b[A\n",
            "loss: -37.35:   2%|▎         | 25/1000 [00:23<14:45,  1.10it/s]\u001b[A\n",
            "                                             \n",
            "Adding: ./A_scientific_illustration_of_a_penis_penetrating_an_asshole_in_black_and_whit.000013.jpg type image/jpeg\n",
            "epochs:   0%|          | 0/2 [00:24<?, ?it/s]\n",
            "loss: -37.35:   3%|▎         | 26/1000 [00:24<14:41,  1.10it/s]\u001b[A\n",
            "loss: -37.85:   3%|▎         | 26/1000 [00:24<14:41,  1.10it/s]\u001b[A\n",
            "loss: -37.85:   3%|▎         | 27/1000 [00:24<14:44,  1.10it/s]\u001b[A\n",
            "loss: -37.59:   3%|▎         | 27/1000 [00:25<14:44,  1.10it/s]\u001b[A\n"
          ],
          "name": "stdout"
        },
        {
          "output_type": "error",
          "ename": "KeyboardInterrupt",
          "evalue": "ignored",
          "traceback": [
            "\u001b[0;31m---------------------------------------------------------------------------\u001b[0m",
            "\u001b[0;31mKeyboardInterrupt\u001b[0m                         Traceback (most recent call last)",
            "\u001b[0;32m<ipython-input-8-a264aa26a112>\u001b[0m in \u001b[0;36m<module>\u001b[0;34m()\u001b[0m\n\u001b[1;32m     98\u001b[0m \u001b[0;31m#run(TEXT)\u001b[0m\u001b[0;34m\u001b[0m\u001b[0;34m\u001b[0m\u001b[0;34m\u001b[0m\u001b[0m\n\u001b[1;32m     99\u001b[0m \u001b[0;31m#conn.disconnect()\u001b[0m\u001b[0;34m\u001b[0m\u001b[0;34m\u001b[0m\u001b[0;34m\u001b[0m\u001b[0m\n\u001b[0;32m--> 100\u001b[0;31m \u001b[0msleep\u001b[0m\u001b[0;34m(\u001b[0m\u001b[0;36m1000000\u001b[0m\u001b[0;34m)\u001b[0m\u001b[0;34m\u001b[0m\u001b[0;34m\u001b[0m\u001b[0m\n\u001b[0m",
            "\u001b[0;31mKeyboardInterrupt\u001b[0m: "
          ]
        }
      ]
    },
    {
      "cell_type": "code",
      "metadata": {
        "id": "GRIiu7CfzuBK"
      },
      "source": [
        "conn.disconnect()"
      ],
      "execution_count": null,
      "outputs": []
    },
    {
      "cell_type": "code",
      "metadata": {
        "id": "YqGD4GWxLSty"
      },
      "source": [
        "!npm install -g npm@latest\n",
        "!npm install -g --force --unsafe-perms node-gyp node-pre-gyp bcrypt ipfs\n"
      ],
      "execution_count": null,
      "outputs": []
    },
    {
      "cell_type": "code",
      "metadata": {
        "id": "ofO0gpgkRqSG",
        "outputId": "ddc02412-0ed8-4040-ff4a-caca71b1fcad",
        "colab": {
          "base_uri": "https://localhost:8080/"
        }
      },
      "source": [
        "!nohup jsipfs daemon &\n",
        "!sleep 10"
      ],
      "execution_count": 10,
      "outputs": [
        {
          "output_type": "stream",
          "text": [
            "nohup: appending output to 'nohup.out'\n"
          ],
          "name": "stdout"
        }
      ]
    },
    {
      "cell_type": "code",
      "metadata": {
        "id": "1LwfD9nhRFwO",
        "outputId": "fd5e45ae-f4f9-43ce-caa5-607ee55f839a",
        "colab": {
          "base_uri": "https://localhost:8080/"
        }
      },
      "source": [
        "\n",
        "!jsipfs swarm connect /ip4/18.157.173.110/tcp/4002/p2p/QmWxrFJqurnyedzJ5rzpgycTqSikJ7kcy7eHmqYnndKhwr\n",
        "\n",
        "!curl -X POST \"http://18.157.173.110:5002/api/v0/pin/add?arg=QmSbe593T3ZWmtPpjXppz8do3Xy749TLUBQDaMVWK7Ceib\""
      ],
      "execution_count": 16,
      "outputs": [
        {
          "output_type": "stream",
          "text": [
            "connect /ip4/18.157.173.110/tcp/4002/p2p/QmWxrFJqurnyedzJ5rzpgycTqSikJ7kcy7eHmqYnndKhwr success\n"
          ],
          "name": "stdout"
        }
      ]
    }
  ]
}