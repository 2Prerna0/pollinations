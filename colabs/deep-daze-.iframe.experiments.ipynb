{
  "nbformat": 4,
  "nbformat_minor": 0,
  "metadata": {
    "colab": {
      "name": "Deep Daze",
      "provenance": [],
      "collapsed_sections": [],
      "toc_visible": true,
      "machine_shape": "hm",
      "include_colab_link": true
    },
    "kernelspec": {
      "name": "python3",
      "display_name": "Python 3"
    },
    "accelerator": "GPU"
  },
  "cells": [
    {
      "cell_type": "markdown",
      "metadata": {
        "id": "view-in-github",
        "colab_type": "text"
      },
      "source": [
        "<a href=\"https://colab.research.google.com/github/voodoohop/colabasaservice/blob/master/colabs/deep-daze-.iframe.experiments.ipynb\" target=\"_parent\"><img src=\"https://colab.research.google.com/assets/colab-badge.svg\" alt=\"Open In Colab\"/></a>"
      ]
    },
    {
      "cell_type": "code",
      "metadata": {
        "id": "A8_iwi1N_wNF"
      },
      "source": [
        "#@title\n",
        "from IPython.display import IFrame\n",
        "NOTEBOOK_REPO = \"voodoohop/colabasaservice/blob/master/colabs/deep-daze.ipynb\"\n",
        "IFrame(src=f'http://localhost:3000/colabasaservice/?insidecolab={NOTEBOOK_REPO}', width=700, height=600)"
      ],
      "execution_count": null,
      "outputs": []
    },
    {
      "cell_type": "code",
      "metadata": {
        "id": "piYvKnIXmPX6"
      },
      "source": [
        ""
      ],
      "execution_count": null,
      "outputs": []
    },
    {
      "cell_type": "code",
      "metadata": {
        "id": "Y05rfMqTzM5v"
      },
      "source": [
        "!npm install -g http-server\n",
        "!nohup http-server -p 8000 &\n",
        "\n",
        "from google.colab.output import eval_js\n",
        "print(eval_js(\"google.colab.kernel.proxyPort(8000)\"))"
      ],
      "execution_count": null,
      "outputs": []
    },
    {
      "cell_type": "markdown",
      "metadata": {
        "id": "KJMvdF_EaNlA"
      },
      "source": [
        ""
      ]
    },
    {
      "cell_type": "code",
      "metadata": {
        "id": "UXxyLcchaOhO"
      },
      "source": [
        "import asyncio\n",
        "import websockets\n",
        "\n",
        "\n",
        "async def hello(websocket, path):\n",
        "    name = await websocket.recv()\n",
        "    print(\"< {}\".format(name))\n",
        "\n",
        "    greeting = \"Hello {}!\".format(name)\n",
        "    await websocket.send(greeting)\n",
        "    print(\"> {}\".format(greeting))\n",
        "\n",
        "start_server = websockets.serve(hello, 'localhost', 8765)\n",
        "loop = asyncio.get_event_loop()\n",
        "loop.create_task(start_server())\n",
        "#asyncio.ensure_future(start_server())\n",
        "#asyncio.get_event_loop().run_forever()"
      ],
      "execution_count": null,
      "outputs": []
    },
    {
      "cell_type": "code",
      "metadata": {
        "id": "YpRu6LTR2LbD"
      },
      "source": [
        "!pip install deep-daze --upgrade\n",
        "!pip install stomp.py imageio-ffmpeg asyncio websockets --upgrade"
      ],
      "execution_count": null,
      "outputs": []
    },
    {
      "cell_type": "code",
      "metadata": {
        "id": "KHXMdtZSh3rs"
      },
      "source": [
        "from subprocess import Popen, PIPE, STDOUT\n",
        "from sys import stdout\n",
        "from glob import glob\n",
        "import os\n",
        "import stomp\n",
        "import json\n",
        "import itertools\n",
        "from base64 import b64encode\n",
        "from time import sleep\n",
        "import requests\n",
        "import os\n",
        "from mimetypes import guess_type \n",
        "\n",
        "flatten = itertools.chain.from_iterable\n",
        "\n",
        "TEXT=\"A black and white technical illustration of merging a cat and a human through biohacking.\"\n",
        "\n",
        "DEFAULT_PARAMS='--lower_bound_cutout 0.5 --image-width=512 --iterations=5000 --epochs=2 --save-every=2 --save-progress=True --open_folder=False --overwrite=True --save_video=True --seed=123'\n",
        "\n",
        "conn = stomp.Connection([('b-4e89df1f-8226-4cc4-a518-4e1ac0023c97-1.mq.eu-central-1.amazonaws.com', 61614)], use_ssl=True)\n",
        "conn.connect('guest', 'iamcolabguest', wait=True)\n",
        "\n",
        "\n",
        "\n",
        "def run(text, params=DEFAULT_PARAMS, watch_media_paths=[\"./*.jpg\",\"./*.mp4\"]):\n",
        "  \n",
        "  for to_remove in watch_media_paths:\n",
        "    for filepath in glob(to_remove):\n",
        "      print(\"Deleting\",filepath,\"before starting.\")\n",
        "      os.remove(filepath)\n",
        "\n",
        "  cmd = f'imagine {params} \"{text}\"'\n",
        "  \n",
        "  p = Popen(cmd, stdout = PIPE, \n",
        "          stderr = STDOUT, shell = True)\n",
        "\n",
        "  found_media_files=[]\n",
        "  while True:\n",
        "    line = p.stdout.readline()#\n",
        "    if not line: break\n",
        "\n",
        "    stdout.write(line)\n",
        "\n",
        "    headers = { \n",
        "        \"params\": params,\n",
        "        \"text\": TEXT\n",
        "    }\n",
        "    conn.send(body=line.decode(\"utf-8\"), headers=headers, destination='/topic/colabOut')\n",
        "    \n",
        "    new_found_media_files = get_matching_files(watch_media_paths)\n",
        "    new_found_media_files.sort(key=os.path.getmtime)\n",
        "    added_media_files = list(set(new_found_media_files)-set(found_media_files))\n",
        "    found_media_files = new_found_media_files\n",
        "\n",
        "    if len(added_media_files) > 0:\n",
        "      for added in added_media_files:\n",
        "        sleep(0.1)\n",
        "        if len(added) > 0:\n",
        "          filename = os.path.basename(added)\n",
        "          mimetype, _ = guess_type(filename)\n",
        "          print(\"Adding:\", added,\"type\",mimetype)\n",
        "          \n",
        "          with open(added,\"rb\") as media_file:\n",
        "            added_media = media_file.read()\n",
        "\n",
        "            base64_encoded_media = f\"data:{mimetype};base64,{b64encode(added_media).decode('ascii')}\"\n",
        "          \n",
        "          headers = {\n",
        "              **headers,         \n",
        "              \"type\": mimetype,\n",
        "              \"filename\": filename\n",
        "              }\n",
        "          conn.send(body=base64_encoded_media, headers=headers, destination='/topic/colabMediaOut')\n",
        "\n",
        "def get_matching_files(search_paths):\n",
        "  return list(flatten([glob(search_path) for search_path in search_paths]))\n",
        "run(TEXT)\n",
        "conn.disconnect()\n",
        "\n"
      ],
      "execution_count": null,
      "outputs": []
    },
    {
      "cell_type": "markdown",
      "metadata": {
        "id": "beeUDMTffGM1"
      },
      "source": [
        "# New section"
      ]
    },
    {
      "cell_type": "code",
      "metadata": {
        "id": "4dA8sXxhdVos"
      },
      "source": [
        ""
      ],
      "execution_count": null,
      "outputs": []
    },
    {
      "cell_type": "code",
      "metadata": {
        "id": "6wx3pNdK_Gpc"
      },
      "source": [
        ""
      ],
      "execution_count": null,
      "outputs": []
    },
    {
      "cell_type": "code",
      "metadata": {
        "id": "rkvq18n1zrHo"
      },
      "source": [
        "%%javascript\n",
        "// Create the channel object\n",
        "const channel = new BroadcastChannel('my-channel');\n",
        "\n",
        "// Set up a listener\n",
        "channel.onmessage = message => console.log('Received:', message.data);\n",
        "\n",
        "// Post a message to all subscribers\n",
        "channel.postMessage('Hello, world');"
      ],
      "execution_count": null,
      "outputs": []
    },
    {
      "cell_type": "code",
      "metadata": {
        "id": "GRIiu7CfzuBK"
      },
      "source": [
        "conn.disconnect()"
      ],
      "execution_count": null,
      "outputs": []
    },
    {
      "cell_type": "code",
      "metadata": {
        "id": "SEQBcLMBraET"
      },
      "source": [
        "!pip install simple-websocket-server"
      ],
      "execution_count": null,
      "outputs": []
    },
    {
      "cell_type": "code",
      "metadata": {
        "id": "QtyGVbJ8rgIA"
      },
      "source": [
        "from simple_websocket_server import WebSocketServer, WebSocket\n",
        "\n",
        "\n",
        "class SimpleEcho(WebSocket):\n",
        "    def handle(self):\n",
        "        # echo message back to client\n",
        "        self.send_message(self.data)\n",
        "\n",
        "    def connected(self):\n",
        "        print(self.address, 'connected')\n",
        "\n",
        "    def handle_close(self):\n",
        "        print(self.address, 'closed')\n",
        "\n",
        "\n",
        "server = WebSocketServer('', 8000, SimpleEcho)\n",
        "server.serve_forever()\n",
        "loop = asyncio.get_event_loop()\n",
        "loop.create_task(some_async_function())"
      ],
      "execution_count": null,
      "outputs": []
    },
    {
      "cell_type": "code",
      "metadata": {
        "id": "d2QRJfU7cODm"
      },
      "source": [
        ""
      ],
      "execution_count": null,
      "outputs": []
    }
  ]
}