{
  "nbformat": 4,
  "nbformat_minor": 0,
  "metadata": {
    "colab": {
      "name": "Deep Daze",
      "provenance": [],
      "collapsed_sections": [],
      "toc_visible": true,
      "machine_shape": "hm",
      "include_colab_link": true
    },
    "kernelspec": {
      "name": "python3",
      "display_name": "Python 3"
    },
    "accelerator": "GPU"
  },
  "cells": [
    {
      "cell_type": "markdown",
      "metadata": {
        "id": "view-in-github",
        "colab_type": "text"
      },
      "source": [
        "<a href=\"https://colab.research.google.com/github/voodoohop/colabasaservice/blob/master/colabs/deep-daze-.iframe.experiments.ipynb\" target=\"_parent\"><img src=\"https://colab.research.google.com/assets/colab-badge.svg\" alt=\"Open In Colab\"/></a>"
      ]
    },
    {
      "cell_type": "code",
      "metadata": {
        "id": "A8_iwi1N_wNF",
        "colab": {
          "base_uri": "https://localhost:8080/",
          "height": 621
        },
        "outputId": "c5548ef9-decf-46cb-8d04-7fbc79c7096c"
      },
      "source": [
        "#@title\n",
        "from IPython.display import IFrame\n",
        "\n",
        "IFrame(src='https://voodoohop.github.io/colabasaservice/', width=700, height=600)"
      ],
      "execution_count": 3,
      "outputs": [
        {
          "output_type": "execute_result",
          "data": {
            "text/html": [
              "\n",
              "        <iframe\n",
              "            width=\"700\"\n",
              "            height=\"600\"\n",
              "            src=\"https://voodoohop.github.io/colabasaservice/\"\n",
              "            frameborder=\"0\"\n",
              "            allowfullscreen\n",
              "        ></iframe>\n",
              "        "
            ],
            "text/plain": [
              "<IPython.lib.display.IFrame at 0x7fa0705f60d0>"
            ]
          },
          "metadata": {
            "tags": []
          },
          "execution_count": 3
        }
      ]
    },
    {
      "cell_type": "code",
      "metadata": {
        "id": "YpRu6LTR2LbD",
        "colab": {
          "base_uri": "https://localhost:8080/"
        },
        "outputId": "b42e2d42-7aad-4d87-9d1d-818db78784c5"
      },
      "source": [
        "!pip install deep-daze stomp.py imageio-ffmpeg --upgrade"
      ],
      "execution_count": 4,
      "outputs": [
        {
          "output_type": "stream",
          "text": [
            "Requirement already up-to-date: deep-daze in /usr/local/lib/python3.7/dist-packages (0.10.2)\n",
            "Requirement already up-to-date: stomp.py in /usr/local/lib/python3.7/dist-packages (7.0.0)\n",
            "Collecting imageio-ffmpeg\n",
            "\u001b[?25l  Downloading https://files.pythonhosted.org/packages/89/0f/4b49476d185a273163fa648eaf1e7d4190661d1bbf37ec2975b84df9de02/imageio_ffmpeg-0.4.3-py3-none-manylinux2010_x86_64.whl (26.9MB)\n",
            "\u001b[K     |████████████████████████████████| 26.9MB 1.3MB/s \n",
            "\u001b[?25hRequirement already satisfied, skipping upgrade: ftfy in /usr/local/lib/python3.7/dist-packages (from deep-daze) (6.0.1)\n",
            "Requirement already satisfied, skipping upgrade: imageio>=2.9.0 in /usr/local/lib/python3.7/dist-packages (from deep-daze) (2.9.0)\n",
            "Requirement already satisfied, skipping upgrade: regex in /usr/local/lib/python3.7/dist-packages (from deep-daze) (2019.12.20)\n",
            "Requirement already satisfied, skipping upgrade: torch-optimizer in /usr/local/lib/python3.7/dist-packages (from deep-daze) (0.1.0)\n",
            "Requirement already satisfied, skipping upgrade: torchvision>=0.8.2 in /usr/local/lib/python3.7/dist-packages (from deep-daze) (0.9.1+cu101)\n",
            "Requirement already satisfied, skipping upgrade: fire in /usr/local/lib/python3.7/dist-packages (from deep-daze) (0.4.0)\n",
            "Requirement already satisfied, skipping upgrade: torch>=1.7.1 in /usr/local/lib/python3.7/dist-packages (from deep-daze) (1.8.1+cu101)\n",
            "Requirement already satisfied, skipping upgrade: einops>=0.3 in /usr/local/lib/python3.7/dist-packages (from deep-daze) (0.3.0)\n",
            "Requirement already satisfied, skipping upgrade: siren-pytorch>=0.0.8 in /usr/local/lib/python3.7/dist-packages (from deep-daze) (0.1.5)\n",
            "Requirement already satisfied, skipping upgrade: tqdm in /usr/local/lib/python3.7/dist-packages (from deep-daze) (4.41.1)\n",
            "Requirement already satisfied, skipping upgrade: docopt<0.7.0,>=0.6.2 in /usr/local/lib/python3.7/dist-packages (from stomp.py) (0.6.2)\n",
            "Requirement already satisfied, skipping upgrade: wcwidth in /usr/local/lib/python3.7/dist-packages (from ftfy->deep-daze) (0.2.5)\n",
            "Requirement already satisfied, skipping upgrade: numpy in /usr/local/lib/python3.7/dist-packages (from imageio>=2.9.0->deep-daze) (1.19.5)\n",
            "Requirement already satisfied, skipping upgrade: pillow in /usr/local/lib/python3.7/dist-packages (from imageio>=2.9.0->deep-daze) (7.1.2)\n",
            "Requirement already satisfied, skipping upgrade: pytorch-ranger>=0.1.1 in /usr/local/lib/python3.7/dist-packages (from torch-optimizer->deep-daze) (0.1.1)\n",
            "Requirement already satisfied, skipping upgrade: six in /usr/local/lib/python3.7/dist-packages (from fire->deep-daze) (1.15.0)\n",
            "Requirement already satisfied, skipping upgrade: termcolor in /usr/local/lib/python3.7/dist-packages (from fire->deep-daze) (1.1.0)\n",
            "Requirement already satisfied, skipping upgrade: typing-extensions in /usr/local/lib/python3.7/dist-packages (from torch>=1.7.1->deep-daze) (3.7.4.3)\n",
            "Installing collected packages: imageio-ffmpeg\n",
            "Successfully installed imageio-ffmpeg-0.4.3\n"
          ],
          "name": "stdout"
        }
      ]
    },
    {
      "cell_type": "code",
      "metadata": {
        "colab": {
          "base_uri": "https://localhost:8080/"
        },
        "id": "KHXMdtZSh3rs",
        "outputId": "0af0ad91-124a-4949-f7d5-ca84a7f229f0"
      },
      "source": [
        "from subprocess import Popen, PIPE, STDOUT\n",
        "from sys import stdout\n",
        "from glob import glob\n",
        "import os\n",
        "import stomp\n",
        "import json\n",
        "import itertools\n",
        "from base64 import b64encode\n",
        "from time import sleep\n",
        "import requests\n",
        "import os\n",
        "from mimetypes import guess_type \n",
        "\n",
        "flatten = itertools.chain.from_iterable\n",
        "\n",
        "TEXT=\"Petite sexy and horny photorealistic\"\n",
        "\n",
        "DEFAULT_PARAMS='--lower_bound_cutout 0.4 --image-width=256 --iterations=500 --epochs=2 --save-every=2 --save-progress=True --open_folder=False --overwrite=True --save_video=True'\n",
        "\n",
        "conn = stomp.Connection([('b-4e89df1f-8226-4cc4-a518-4e1ac0023c97-1.mq.eu-central-1.amazonaws.com', 61614)], use_ssl=True)\n",
        "conn.connect('guest', 'iamcolabguest', wait=True)\n",
        "\n",
        "\n",
        "\n",
        "def run(text, params=DEFAULT_PARAMS, watch_media_paths=[\"./*.jpg\",\"./*.mp4\"]):\n",
        "  \n",
        "  for to_remove in watch_media_paths:\n",
        "    for filepath in glob(to_remove):\n",
        "      print(\"Deleting\",filepath,\"before starting.\")\n",
        "      os.remove(filepath)\n",
        "\n",
        "  cmd = f'imagine {params} \"{text}\"'\n",
        "  \n",
        "  p = Popen(cmd, stdout = PIPE, \n",
        "          stderr = STDOUT, shell = True)\n",
        "\n",
        "  found_media_files=[]\n",
        "  while True:\n",
        "    line = p.stdout.readline()#\n",
        "    if not line: break\n",
        "\n",
        "    stdout.write(line)\n",
        "    \n",
        "    headers = { \n",
        "        \"params\": params,\n",
        "        \"text\": TEXT\n",
        "    }\n",
        "    conn.send(body=line.decode(\"utf-8\"), headers=headers, destination='/topic/colabOut')\n",
        "    \n",
        "    new_found_media_files = get_matching_files(watch_media_paths)\n",
        "    new_found_media_files.sort(key=os.path.getmtime)\n",
        "    added_media_files = list(set(new_found_media_files)-set(found_media_files))\n",
        "    found_media_files = new_found_media_files\n",
        "\n",
        "    if len(added_media_files) > 0:\n",
        "      for added in added_media_files:\n",
        "        sleep(0.1)\n",
        "        if len(added) > 0:\n",
        "          filename = os.path.basename(added)\n",
        "          mimetype, _ = guess_type(filename)\n",
        "          print(\"Adding:\", added,\"type\",mimetype)\n",
        "          \n",
        "          with open(added,\"rb\") as media_file:\n",
        "            added_media = media_file.read()\n",
        "\n",
        "            base64_encoded_media = f\"data:{mimetype};base64,{b64encode(added_media).decode('ascii')}\"\n",
        "          \n",
        "          headers = {\n",
        "              **headers,         \n",
        "              \"type\": mimetype,\n",
        "              \"filename\": filename\n",
        "              }\n",
        "          conn.send(body=base64_encoded_media, headers=headers, destination='/topic/colabMediaOut')\n",
        "\n",
        "def get_matching_files(search_paths):\n",
        "  return list(flatten([glob(search_path) for search_path in search_paths]))\n",
        "run(\"Petite, sexy, wet, horny and photorealistic\")\n",
        "conn.disconnect()\n",
        "\n"
      ],
      "execution_count": null,
      "outputs": [
        {
          "output_type": "stream",
          "text": [
            "Deleting ./Petite,_sexy,_wet,_horny_and_photorealistic.000055.jpg before starting.\n",
            "Deleting ./Petite,_sexy,_wet,_horny_and_photorealistic.000028.jpg before starting.\n",
            "Deleting ./Petite,_sexy,_wet,_horny_and_photorealistic.000096.jpg before starting.\n",
            "Deleting ./Petite,_sexy,_wet,_horny_and_photorealistic.000075.jpg before starting.\n",
            "Deleting ./Petite,_sexy,_wet,_horny_and_photorealistic.000065.jpg before starting.\n",
            "Deleting ./Petite,_sexy,_wet,_horny_and_photorealistic.000033.jpg before starting.\n",
            "Deleting ./Petite,_sexy,_wet,_horny_and_photorealistic.000020.jpg before starting.\n",
            "Deleting ./Petite,_sexy,_wet,_horny_and_photorealistic.000050.jpg before starting.\n",
            "Deleting ./Petite,_sexy,_wet,_horny_and_photorealistic.000084.jpg before starting.\n",
            "Deleting ./Petite,_sexy,_wet,_horny_and_photorealistic.000053.jpg before starting.\n",
            "Deleting ./Petite,_sexy,_wet,_horny_and_photorealistic.000041.jpg before starting.\n",
            "Deleting ./Petite,_sexy,_wet,_horny_and_photorealistic.000049.jpg before starting.\n",
            "Deleting ./Petite,_sexy,_wet,_horny_and_photorealistic.000087.jpg before starting.\n",
            "Deleting ./Petite,_sexy,_wet,_horny_and_photorealistic.000051.jpg before starting.\n",
            "Deleting ./Petite,_sexy,_wet,_horny_and_photorealistic.000048.jpg before starting.\n",
            "Deleting ./Petite,_sexy,_wet,_horny_and_photorealistic.000103.jpg before starting.\n",
            "Deleting ./Petite,_sexy,_wet,_horny_and_photorealistic.000082.jpg before starting.\n",
            "Deleting ./Petite,_sexy,_wet,_horny_and_photorealistic.000052.jpg before starting.\n",
            "Deleting ./Petite,_sexy,_wet,_horny_and_photorealistic.000101.jpg before starting.\n",
            "Deleting ./Petite,_sexy,_wet,_horny_and_photorealistic.000029.jpg before starting.\n",
            "Deleting ./Petite,_sexy,_wet,_horny_and_photorealistic.000031.jpg before starting.\n",
            "Deleting ./Petite,_sexy,_wet,_horny_and_photorealistic.000060.jpg before starting.\n",
            "Deleting ./Petite,_sexy,_wet,_horny_and_photorealistic.000005.jpg before starting.\n",
            "Deleting ./Petite,_sexy,_wet,_horny_and_photorealistic.000019.jpg before starting.\n",
            "Deleting ./Petite,_sexy,_wet,_horny_and_photorealistic.000102.jpg before starting.\n",
            "Deleting ./Petite,_sexy,_wet,_horny_and_photorealistic.000017.jpg before starting.\n",
            "Deleting ./Petite,_sexy,_wet,_horny_and_photorealistic.000093.jpg before starting.\n",
            "Deleting ./Petite,_sexy,_wet,_horny_and_photorealistic.000081.jpg before starting.\n",
            "Deleting ./Petite,_sexy,_wet,_horny_and_photorealistic.000012.jpg before starting.\n",
            "Deleting ./Petite,_sexy,_wet,_horny_and_photorealistic.000043.jpg before starting.\n",
            "Deleting ./Petite,_sexy,_wet,_horny_and_photorealistic.000083.jpg before starting.\n",
            "Deleting ./Petite,_sexy,_wet,_horny_and_photorealistic.000047.jpg before starting.\n",
            "Deleting ./Petite,_sexy,_wet,_horny_and_photorealistic.000098.jpg before starting.\n",
            "Deleting ./Petite,_sexy,_wet,_horny_and_photorealistic.000054.jpg before starting.\n",
            "Deleting ./Petite,_sexy,_wet,_horny_and_photorealistic.000001.jpg before starting.\n",
            "Deleting ./Petite,_sexy,_wet,_horny_and_photorealistic.000038.jpg before starting.\n",
            "Deleting ./Petite,_sexy,_wet,_horny_and_photorealistic.000024.jpg before starting.\n",
            "Deleting ./Petite,_sexy,_wet,_horny_and_photorealistic.000071.jpg before starting.\n",
            "Deleting ./Petite,_sexy,_wet,_horny_and_photorealistic.000045.jpg before starting.\n",
            "Deleting ./Petite,_sexy,_wet,_horny_and_photorealistic.000069.jpg before starting.\n",
            "Deleting ./Petite,_sexy,_wet,_horny_and_photorealistic.000004.jpg before starting.\n",
            "Deleting ./Petite,_sexy,_wet,_horny_and_photorealistic.000015.jpg before starting.\n",
            "Deleting ./Petite,_sexy,_wet,_horny_and_photorealistic.000099.jpg before starting.\n",
            "Deleting ./Petite,_sexy,_wet,_horny_and_photorealistic.000067.jpg before starting.\n",
            "Deleting ./Petite,_sexy,_wet,_horny_and_photorealistic.000036.jpg before starting.\n",
            "Deleting ./Petite,_sexy,_wet,_horny_and_photorealistic.000072.jpg before starting.\n",
            "Deleting ./Petite,_sexy,_wet,_horny_and_photorealistic.000014.jpg before starting.\n",
            "Deleting ./Petite,_sexy,_wet,_horny_and_photorealistic.000063.jpg before starting.\n",
            "Deleting ./Petite,_sexy,_wet,_horny_and_photorealistic.000061.jpg before starting.\n",
            "Deleting ./Petite,_sexy,_wet,_horny_and_photorealistic.000044.jpg before starting.\n",
            "Deleting ./Petite,_sexy,_wet,_horny_and_photorealistic.000021.jpg before starting.\n",
            "Deleting ./Petite,_sexy,_wet,_horny_and_photorealistic.000068.jpg before starting.\n",
            "Deleting ./Petite,_sexy,_wet,_horny_and_photorealistic.000007.jpg before starting.\n",
            "Deleting ./Petite,_sexy,_wet,_horny_and_photorealistic.000011.jpg before starting.\n",
            "Deleting ./Petite,_sexy,_wet,_horny_and_photorealistic.000040.jpg before starting.\n",
            "Deleting ./Petite,_sexy,_wet,_horny_and_photorealistic.000095.jpg before starting.\n",
            "Deleting ./Petite,_sexy,_wet,_horny_and_photorealistic.000030.jpg before starting.\n",
            "Deleting ./Petite,_sexy,_wet,_horny_and_photorealistic.000091.jpg before starting.\n",
            "Deleting ./Petite,_sexy,_wet,_horny_and_photorealistic.000042.jpg before starting.\n",
            "Deleting ./Petite,_sexy,_wet,_horny_and_photorealistic.000032.jpg before starting.\n",
            "Deleting ./Petite,_sexy,_wet,_horny_and_photorealistic.000046.jpg before starting.\n",
            "Deleting ./Petite,_sexy,_wet,_horny_and_photorealistic.000058.jpg before starting.\n",
            "Deleting ./Petite,_sexy,_wet,_horny_and_photorealistic.000059.jpg before starting.\n",
            "Deleting ./Petite,_sexy,_wet,_horny_and_photorealistic.jpg before starting.\n",
            "Deleting ./Petite,_sexy,_wet,_horny_and_photorealistic.000035.jpg before starting.\n",
            "Deleting ./Petite,_sexy,_wet,_horny_and_photorealistic.000076.jpg before starting.\n",
            "Deleting ./Petite,_sexy,_wet,_horny_and_photorealistic.000056.jpg before starting.\n",
            "Deleting ./Petite,_sexy,_wet,_horny_and_photorealistic.000034.jpg before starting.\n",
            "Deleting ./Petite,_sexy,_wet,_horny_and_photorealistic.000064.jpg before starting.\n",
            "Deleting ./Petite,_sexy,_wet,_horny_and_photorealistic.000092.jpg before starting.\n",
            "Deleting ./Petite,_sexy,_wet,_horny_and_photorealistic.000026.jpg before starting.\n",
            "Deleting ./Petite,_sexy,_wet,_horny_and_photorealistic.000002.jpg before starting.\n",
            "Deleting ./Petite,_sexy,_wet,_horny_and_photorealistic.000089.jpg before starting.\n",
            "Deleting ./Petite,_sexy,_wet,_horny_and_photorealistic.000090.jpg before starting.\n",
            "Deleting ./Petite,_sexy,_wet,_horny_and_photorealistic.000003.jpg before starting.\n",
            "Deleting ./Petite,_sexy,_wet,_horny_and_photorealistic.000105.jpg before starting.\n",
            "Deleting ./Petite,_sexy,_wet,_horny_and_photorealistic.000078.jpg before starting.\n",
            "Deleting ./Petite,_sexy,_wet,_horny_and_photorealistic.000085.jpg before starting.\n",
            "Deleting ./Petite,_sexy,_wet,_horny_and_photorealistic.000079.jpg before starting.\n",
            "Deleting ./Petite,_sexy,_wet,_horny_and_photorealistic.000097.jpg before starting.\n",
            "Deleting ./Petite,_sexy,_wet,_horny_and_photorealistic.000066.jpg before starting.\n",
            "Deleting ./Petite,_sexy,_wet,_horny_and_photorealistic.000027.jpg before starting.\n",
            "Deleting ./Petite,_sexy,_wet,_horny_and_photorealistic.000062.jpg before starting.\n",
            "Deleting ./Petite,_sexy,_wet,_horny_and_photorealistic.000088.jpg before starting.\n",
            "Deleting ./Petite,_sexy,_wet,_horny_and_photorealistic.000070.jpg before starting.\n",
            "Deleting ./Petite,_sexy,_wet,_horny_and_photorealistic.000039.jpg before starting.\n",
            "Deleting ./Petite,_sexy,_wet,_horny_and_photorealistic.000022.jpg before starting.\n",
            "Deleting ./Petite,_sexy,_wet,_horny_and_photorealistic.000006.jpg before starting.\n",
            "Deleting ./Petite,_sexy,_wet,_horny_and_photorealistic.000009.jpg before starting.\n",
            "Deleting ./Petite,_sexy,_wet,_horny_and_photorealistic.000077.jpg before starting.\n",
            "Deleting ./Petite,_sexy,_wet,_horny_and_photorealistic.000023.jpg before starting.\n",
            "Deleting ./Petite,_sexy,_wet,_horny_and_photorealistic.000086.jpg before starting.\n",
            "Deleting ./Petite,_sexy,_wet,_horny_and_photorealistic.000074.jpg before starting.\n",
            "Deleting ./Petite,_sexy,_wet,_horny_and_photorealistic.000018.jpg before starting.\n",
            "Deleting ./Petite,_sexy,_wet,_horny_and_photorealistic.000073.jpg before starting.\n",
            "Deleting ./Petite,_sexy,_wet,_horny_and_photorealistic.000008.jpg before starting.\n",
            "Deleting ./Petite,_sexy,_wet,_horny_and_photorealistic.000057.jpg before starting.\n",
            "Deleting ./Petite,_sexy,_wet,_horny_and_photorealistic.000100.jpg before starting.\n",
            "Deleting ./Petite,_sexy,_wet,_horny_and_photorealistic.000094.jpg before starting.\n",
            "Deleting ./Petite,_sexy,_wet,_horny_and_photorealistic.000037.jpg before starting.\n",
            "Deleting ./Petite,_sexy,_wet,_horny_and_photorealistic.000025.jpg before starting.\n",
            "Deleting ./Petite,_sexy,_wet,_horny_and_photorealistic.000080.jpg before starting.\n",
            "Deleting ./Petite,_sexy,_wet,_horny_and_photorealistic.000104.jpg before starting.\n",
            "Deleting ./Petite,_sexy,_wet,_horny_and_photorealistic.000016.jpg before starting.\n",
            "Deleting ./Petite,_sexy,_wet,_horny_and_photorealistic.000013.jpg before starting.\n",
            "Deleting ./Petite,_sexy,_wet,_horny_and_photorealistic.000010.jpg before starting.\n"
          ],
          "name": "stdout"
        }
      ]
    },
    {
      "cell_type": "markdown",
      "metadata": {
        "id": "beeUDMTffGM1"
      },
      "source": [
        "# New section"
      ]
    },
    {
      "cell_type": "code",
      "metadata": {
        "id": "4dA8sXxhdVos"
      },
      "source": [
        ""
      ],
      "execution_count": 19,
      "outputs": []
    },
    {
      "cell_type": "code",
      "metadata": {
        "id": "6wx3pNdK_Gpc"
      },
      "source": [
        ""
      ],
      "execution_count": 19,
      "outputs": []
    },
    {
      "cell_type": "code",
      "metadata": {
        "id": "rkvq18n1zrHo",
        "colab": {
          "base_uri": "https://localhost:8080/",
          "height": 17
        },
        "outputId": "38626314-a8e3-4164-b2ad-42f86f932d8d"
      },
      "source": [
        "%%javascript\n",
        "// Create the channel object\n",
        "const channel = new BroadcastChannel('my-channel');\n",
        "\n",
        "// Set up a listener\n",
        "channel.onmessage = message => console.log('Received:', message.data);\n",
        "\n",
        "// Post a message to all subscribers\n",
        "channel.postMessage('Hello, world');"
      ],
      "execution_count": 20,
      "outputs": [
        {
          "output_type": "display_data",
          "data": {
            "application/javascript": [
              "// Create the channel object\n",
              "const channel = new BroadcastChannel('my-channel');\n",
              "\n",
              "// Set up a listener\n",
              "channel.onmessage = message => console.log('Received:', message.data);\n",
              "\n",
              "// Post a message to all subscribers\n",
              "channel.postMessage('Hello, world');"
            ],
            "text/plain": [
              "<IPython.core.display.Javascript object>"
            ]
          },
          "metadata": {
            "tags": []
          }
        }
      ]
    },
    {
      "cell_type": "code",
      "metadata": {
        "id": "GRIiu7CfzuBK"
      },
      "source": [
        "conn.disconnect()"
      ],
      "execution_count": 21,
      "outputs": []
    }
  ]
}