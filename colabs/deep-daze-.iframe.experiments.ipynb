{
  "nbformat": 4,
  "nbformat_minor": 0,
  "metadata": {
    "colab": {
      "name": "Deep Daze",
      "provenance": [],
      "collapsed_sections": [],
      "toc_visible": true,
      "machine_shape": "hm",
      "include_colab_link": true
    },
    "kernelspec": {
      "name": "python3",
      "display_name": "Python 3"
    },
    "accelerator": "GPU"
  },
  "cells": [
    {
      "cell_type": "markdown",
      "metadata": {
        "id": "view-in-github",
        "colab_type": "text"
      },
      "source": [
        "<a href=\"https://colab.research.google.com/github/voodoohop/colabasaservice/blob/master/colabs/deep-daze-.iframe.experiments.ipynb\" target=\"_parent\"><img src=\"https://colab.research.google.com/assets/colab-badge.svg\" alt=\"Open In Colab\"/></a>"
      ]
    },
    {
      "cell_type": "code",
      "metadata": {
        "id": "A8_iwi1N_wNF",
        "colab": {
          "base_uri": "https://localhost:8080/",
          "height": 621
        },
        "outputId": "c5548ef9-decf-46cb-8d04-7fbc79c7096c"
      },
      "source": [
        "#@title\n",
        "from IPython.display import IFrame\n",
        "\n",
        "IFrame(src='https://voodoohop.github.io/colabasaservice/', width=700, height=600)"
      ],
      "execution_count": 3,
      "outputs": [
        {
          "output_type": "execute_result",
          "data": {
            "text/html": [
              "\n",
              "        <iframe\n",
              "            width=\"700\"\n",
              "            height=\"600\"\n",
              "            src=\"https://voodoohop.github.io/colabasaservice/\"\n",
              "            frameborder=\"0\"\n",
              "            allowfullscreen\n",
              "        ></iframe>\n",
              "        "
            ],
            "text/plain": [
              "<IPython.lib.display.IFrame at 0x7fa0705f60d0>"
            ]
          },
          "metadata": {
            "tags": []
          },
          "execution_count": 3
        }
      ]
    },
    {
      "cell_type": "code",
      "metadata": {
        "id": "YpRu6LTR2LbD",
        "colab": {
          "base_uri": "https://localhost:8080/"
        },
        "outputId": "b42e2d42-7aad-4d87-9d1d-818db78784c5"
      },
      "source": [
        "!pip install deep-daze stomp.py imageio-ffmpeg --upgrade"
      ],
      "execution_count": 4,
      "outputs": [
        {
          "output_type": "stream",
          "text": [
            "Requirement already up-to-date: deep-daze in /usr/local/lib/python3.7/dist-packages (0.10.2)\n",
            "Requirement already up-to-date: stomp.py in /usr/local/lib/python3.7/dist-packages (7.0.0)\n",
            "Collecting imageio-ffmpeg\n",
            "\u001b[?25l  Downloading https://files.pythonhosted.org/packages/89/0f/4b49476d185a273163fa648eaf1e7d4190661d1bbf37ec2975b84df9de02/imageio_ffmpeg-0.4.3-py3-none-manylinux2010_x86_64.whl (26.9MB)\n",
            "\u001b[K     |████████████████████████████████| 26.9MB 1.3MB/s \n",
            "\u001b[?25hRequirement already satisfied, skipping upgrade: ftfy in /usr/local/lib/python3.7/dist-packages (from deep-daze) (6.0.1)\n",
            "Requirement already satisfied, skipping upgrade: imageio>=2.9.0 in /usr/local/lib/python3.7/dist-packages (from deep-daze) (2.9.0)\n",
            "Requirement already satisfied, skipping upgrade: regex in /usr/local/lib/python3.7/dist-packages (from deep-daze) (2019.12.20)\n",
            "Requirement already satisfied, skipping upgrade: torch-optimizer in /usr/local/lib/python3.7/dist-packages (from deep-daze) (0.1.0)\n",
            "Requirement already satisfied, skipping upgrade: torchvision>=0.8.2 in /usr/local/lib/python3.7/dist-packages (from deep-daze) (0.9.1+cu101)\n",
            "Requirement already satisfied, skipping upgrade: fire in /usr/local/lib/python3.7/dist-packages (from deep-daze) (0.4.0)\n",
            "Requirement already satisfied, skipping upgrade: torch>=1.7.1 in /usr/local/lib/python3.7/dist-packages (from deep-daze) (1.8.1+cu101)\n",
            "Requirement already satisfied, skipping upgrade: einops>=0.3 in /usr/local/lib/python3.7/dist-packages (from deep-daze) (0.3.0)\n",
            "Requirement already satisfied, skipping upgrade: siren-pytorch>=0.0.8 in /usr/local/lib/python3.7/dist-packages (from deep-daze) (0.1.5)\n",
            "Requirement already satisfied, skipping upgrade: tqdm in /usr/local/lib/python3.7/dist-packages (from deep-daze) (4.41.1)\n",
            "Requirement already satisfied, skipping upgrade: docopt<0.7.0,>=0.6.2 in /usr/local/lib/python3.7/dist-packages (from stomp.py) (0.6.2)\n",
            "Requirement already satisfied, skipping upgrade: wcwidth in /usr/local/lib/python3.7/dist-packages (from ftfy->deep-daze) (0.2.5)\n",
            "Requirement already satisfied, skipping upgrade: numpy in /usr/local/lib/python3.7/dist-packages (from imageio>=2.9.0->deep-daze) (1.19.5)\n",
            "Requirement already satisfied, skipping upgrade: pillow in /usr/local/lib/python3.7/dist-packages (from imageio>=2.9.0->deep-daze) (7.1.2)\n",
            "Requirement already satisfied, skipping upgrade: pytorch-ranger>=0.1.1 in /usr/local/lib/python3.7/dist-packages (from torch-optimizer->deep-daze) (0.1.1)\n",
            "Requirement already satisfied, skipping upgrade: six in /usr/local/lib/python3.7/dist-packages (from fire->deep-daze) (1.15.0)\n",
            "Requirement already satisfied, skipping upgrade: termcolor in /usr/local/lib/python3.7/dist-packages (from fire->deep-daze) (1.1.0)\n",
            "Requirement already satisfied, skipping upgrade: typing-extensions in /usr/local/lib/python3.7/dist-packages (from torch>=1.7.1->deep-daze) (3.7.4.3)\n",
            "Installing collected packages: imageio-ffmpeg\n",
            "Successfully installed imageio-ffmpeg-0.4.3\n"
          ],
          "name": "stdout"
        }
      ]
    },
    {
      "cell_type": "code",
      "metadata": {
        "colab": {
          "base_uri": "https://localhost:8080/",
          "height": 419
        },
        "id": "KHXMdtZSh3rs",
        "outputId": "de2d8709-a81f-42a1-a3f9-6f8cb3ad3b35"
      },
      "source": [
        "from subprocess import Popen, PIPE, STDOUT\n",
        "from sys import stdout\n",
        "from glob import glob\n",
        "import os\n",
        "import stomp\n",
        "import json\n",
        "import itertools\n",
        "from base64 import b64encode\n",
        "from time import sleep\n",
        "import requests\n",
        "import os\n",
        "from mimetypes import guess_type \n",
        "\n",
        "flatten = itertools.chain.from_iterable\n",
        "\n",
        "TEXT=\"Petite sexy and horny photorealistic\"\n",
        "\n",
        "DEFAULT_PARAMS='--lower_bound_cutout 0.4 --image-width=256 --iterations=500 --epochs=2 --save-every=2 --save-progress=True --open_folder=False --overwrite=True --save_video=True'\n",
        "\n",
        "conn = stomp.Connection([('b-4e89df1f-8226-4cc4-a518-4e1ac0023c97-1.mq.eu-central-1.amazonaws.com', 61614)], use_ssl=True)\n",
        "conn.connect('guest', 'iamcolabguest', wait=True)\n",
        "\n",
        "\n",
        "\n",
        "def run(text, params=DEFAULT_PARAMS, watch_media_paths=[\"./*.jpg\",\"./*.mp4\"]):\n",
        "  !rm *.jpg\n",
        "  !rm *.png\n",
        "\n",
        "  cmd = f'imagine {params}'\n",
        "  \n",
        "  p = Popen(cmd, stdout = PIPE, \n",
        "          stderr = STDOUT, shell = True)\n",
        "\n",
        "  found_media_files=[]\n",
        "  while True:\n",
        "    line = p.stdout.readline()#\n",
        "    if not line: break\n",
        "\n",
        "    stdout.write(line)\n",
        "    conn.send(body=line.decode(\"utf-8\"), destination='/topic/colabOut')\n",
        "    new_found_media_files = get_matching_files(watch_media_paths)\n",
        "    new_found_media_files.sort(key=os.path.getmtime)\n",
        "    added_media_files = list(set(new_found_media_files)-set(found_media_files))\n",
        "    found_media_files = new_found_media_files\n",
        "\n",
        "    if len(added_media_files) > 0:\n",
        "      for added in added_media_files:\n",
        "        sleep(0.1)\n",
        "        if len(added) > 0:\n",
        "          filename = os.path.basename(added)\n",
        "          mimetype, _ = guess_type(filename)\n",
        "          print(\"Adding:\", added,\"type\",mimetype)\n",
        "          \n",
        "          with open(added,\"rb\") as media_file:\n",
        "            added_media = media_file.read()\n",
        "\n",
        "            base64_encoded_media = f\"data:{mimetype};base64,{b64encode(added_media).decode('ascii')}\"\n",
        "            headers = { \n",
        "                \"type\": mimetype,\n",
        "                \"filename\": filename,\n",
        "                \"params\": params\n",
        "\n",
        "            }\n",
        "          conn.send(body=base64_encoded_media,headers=headers,destination='/topic/colabMediaOut')\n",
        "\n",
        "def get_matching_files(search_paths):\n",
        "  return list(flatten([glob(search_path) for search_path in search_paths]))\n",
        "run()\n",
        "conn.disconnect()\n",
        "\n"
      ],
      "execution_count": 6,
      "outputs": [
        {
          "output_type": "stream",
          "text": [
            "rm: cannot remove '*.png': No such file or directory\n",
            "epochs:   0%|          | 0/2 [00:00<?, ?it/s]\n",
            "Adding: ./Petite_sexy_and_horny_photorealistic.mp4 type video/mp4\n",
            "                                             \n"
          ],
          "name": "stdout"
        },
        {
          "output_type": "error",
          "ename": "KeyboardInterrupt",
          "evalue": "ignored",
          "traceback": [
            "\u001b[0;31m---------------------------------------------------------------------------\u001b[0m",
            "\u001b[0;31mKeyboardInterrupt\u001b[0m                         Traceback (most recent call last)",
            "\u001b[0;32m<ipython-input-6-79f9a793bed5>\u001b[0m in \u001b[0;36m<module>\u001b[0;34m()\u001b[0m\n\u001b[1;32m     65\u001b[0m \u001b[0;32mdef\u001b[0m \u001b[0mget_matching_files\u001b[0m\u001b[0;34m(\u001b[0m\u001b[0msearch_paths\u001b[0m\u001b[0;34m)\u001b[0m\u001b[0;34m:\u001b[0m\u001b[0;34m\u001b[0m\u001b[0;34m\u001b[0m\u001b[0m\n\u001b[1;32m     66\u001b[0m   \u001b[0;32mreturn\u001b[0m \u001b[0mlist\u001b[0m\u001b[0;34m(\u001b[0m\u001b[0mflatten\u001b[0m\u001b[0;34m(\u001b[0m\u001b[0;34m[\u001b[0m\u001b[0mglob\u001b[0m\u001b[0;34m(\u001b[0m\u001b[0msearch_path\u001b[0m\u001b[0;34m)\u001b[0m \u001b[0;32mfor\u001b[0m \u001b[0msearch_path\u001b[0m \u001b[0;32min\u001b[0m \u001b[0msearch_paths\u001b[0m\u001b[0;34m]\u001b[0m\u001b[0;34m)\u001b[0m\u001b[0;34m)\u001b[0m\u001b[0;34m\u001b[0m\u001b[0;34m\u001b[0m\u001b[0m\n\u001b[0;32m---> 67\u001b[0;31m \u001b[0mrun\u001b[0m\u001b[0;34m(\u001b[0m\u001b[0;34m)\u001b[0m\u001b[0;34m\u001b[0m\u001b[0;34m\u001b[0m\u001b[0m\n\u001b[0m\u001b[1;32m     68\u001b[0m \u001b[0mconn\u001b[0m\u001b[0;34m.\u001b[0m\u001b[0mdisconnect\u001b[0m\u001b[0;34m(\u001b[0m\u001b[0;34m)\u001b[0m\u001b[0;34m\u001b[0m\u001b[0;34m\u001b[0m\u001b[0m\n\u001b[1;32m     69\u001b[0m \u001b[0;34m\u001b[0m\u001b[0m\n",
            "\u001b[0;32m<ipython-input-6-79f9a793bed5>\u001b[0m in \u001b[0;36mrun\u001b[0;34m(params, watch_media_paths)\u001b[0m\n\u001b[1;32m     46\u001b[0m     \u001b[0;32mif\u001b[0m \u001b[0mlen\u001b[0m\u001b[0;34m(\u001b[0m\u001b[0madded_media_files\u001b[0m\u001b[0;34m)\u001b[0m \u001b[0;34m>\u001b[0m \u001b[0;36m0\u001b[0m\u001b[0;34m:\u001b[0m\u001b[0;34m\u001b[0m\u001b[0;34m\u001b[0m\u001b[0m\n\u001b[1;32m     47\u001b[0m       \u001b[0;32mfor\u001b[0m \u001b[0madded\u001b[0m \u001b[0;32min\u001b[0m \u001b[0madded_media_files\u001b[0m\u001b[0;34m:\u001b[0m\u001b[0;34m\u001b[0m\u001b[0;34m\u001b[0m\u001b[0m\n\u001b[0;32m---> 48\u001b[0;31m         \u001b[0msleep\u001b[0m\u001b[0;34m(\u001b[0m\u001b[0;36m0.1\u001b[0m\u001b[0;34m)\u001b[0m\u001b[0;34m\u001b[0m\u001b[0;34m\u001b[0m\u001b[0m\n\u001b[0m\u001b[1;32m     49\u001b[0m         \u001b[0;32mif\u001b[0m \u001b[0mlen\u001b[0m\u001b[0;34m(\u001b[0m\u001b[0madded\u001b[0m\u001b[0;34m)\u001b[0m \u001b[0;34m>\u001b[0m \u001b[0;36m0\u001b[0m\u001b[0;34m:\u001b[0m\u001b[0;34m\u001b[0m\u001b[0;34m\u001b[0m\u001b[0m\n\u001b[1;32m     50\u001b[0m           \u001b[0mfilename\u001b[0m \u001b[0;34m=\u001b[0m \u001b[0mos\u001b[0m\u001b[0;34m.\u001b[0m\u001b[0mpath\u001b[0m\u001b[0;34m.\u001b[0m\u001b[0mbasename\u001b[0m\u001b[0;34m(\u001b[0m\u001b[0madded\u001b[0m\u001b[0;34m)\u001b[0m\u001b[0;34m\u001b[0m\u001b[0;34m\u001b[0m\u001b[0m\n",
            "\u001b[0;31mKeyboardInterrupt\u001b[0m: "
          ]
        }
      ]
    },
    {
      "cell_type": "markdown",
      "metadata": {
        "id": "beeUDMTffGM1"
      },
      "source": [
        "# New section"
      ]
    },
    {
      "cell_type": "code",
      "metadata": {
        "id": "4dA8sXxhdVos"
      },
      "source": [
        ""
      ],
      "execution_count": 19,
      "outputs": []
    },
    {
      "cell_type": "code",
      "metadata": {
        "id": "6wx3pNdK_Gpc"
      },
      "source": [
        ""
      ],
      "execution_count": 19,
      "outputs": []
    },
    {
      "cell_type": "code",
      "metadata": {
        "id": "rkvq18n1zrHo",
        "colab": {
          "base_uri": "https://localhost:8080/",
          "height": 17
        },
        "outputId": "38626314-a8e3-4164-b2ad-42f86f932d8d"
      },
      "source": [
        "%%javascript\n",
        "// Create the channel object\n",
        "const channel = new BroadcastChannel('my-channel');\n",
        "\n",
        "// Set up a listener\n",
        "channel.onmessage = message => console.log('Received:', message.data);\n",
        "\n",
        "// Post a message to all subscribers\n",
        "channel.postMessage('Hello, world');"
      ],
      "execution_count": 20,
      "outputs": [
        {
          "output_type": "display_data",
          "data": {
            "application/javascript": [
              "// Create the channel object\n",
              "const channel = new BroadcastChannel('my-channel');\n",
              "\n",
              "// Set up a listener\n",
              "channel.onmessage = message => console.log('Received:', message.data);\n",
              "\n",
              "// Post a message to all subscribers\n",
              "channel.postMessage('Hello, world');"
            ],
            "text/plain": [
              "<IPython.core.display.Javascript object>"
            ]
          },
          "metadata": {
            "tags": []
          }
        }
      ]
    },
    {
      "cell_type": "code",
      "metadata": {
        "id": "GRIiu7CfzuBK"
      },
      "source": [
        "conn.disconnect()"
      ],
      "execution_count": 21,
      "outputs": []
    }
  ]
}