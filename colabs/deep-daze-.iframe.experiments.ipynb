{
  "nbformat": 4,
  "nbformat_minor": 0,
  "metadata": {
    "colab": {
      "name": "Deep Daze",
      "provenance": [],
      "collapsed_sections": [],
      "toc_visible": true,
      "machine_shape": "hm",
      "include_colab_link": true
    },
    "kernelspec": {
      "name": "python3",
      "display_name": "Python 3"
    },
    "accelerator": "GPU"
  },
  "cells": [
    {
      "cell_type": "markdown",
      "metadata": {
        "id": "view-in-github",
        "colab_type": "text"
      },
      "source": [
        "<a href=\"https://colab.research.google.com/github/voodoohop/colabasaservice/blob/master/colabs/deep-daze-.iframe.experiments.ipynb\" target=\"_parent\"><img src=\"https://colab.research.google.com/assets/colab-badge.svg\" alt=\"Open In Colab\"/></a>"
      ]
    },
    {
      "cell_type": "code",
      "metadata": {
        "id": "A8_iwi1N_wNF"
      },
      "source": [
        "#@title\n",
        "from IPython.display import IFrame\n",
        "\n",
        "IFrame(src='https://voodoohop.github.io/colabasaservice/', width=700, height=600)"
      ],
      "execution_count": null,
      "outputs": []
    },
    {
      "cell_type": "code",
      "metadata": {
        "id": "YpRu6LTR2LbD"
      },
      "source": [
        "!pip install deep-daze stomp.py --upgrade"
      ],
      "execution_count": null,
      "outputs": []
    },
    {
      "cell_type": "code",
      "metadata": {
        "colab": {
          "base_uri": "https://localhost:8080/"
        },
        "id": "KHXMdtZSh3rs",
        "outputId": "ddac7546-c93c-491e-d38b-16f6517392c5"
      },
      "source": [
        "from subprocess import Popen, PIPE, STDOUT\n",
        "from sys import stdout\n",
        "from glob import glob\n",
        "import os\n",
        "import stomp\n",
        "import json\n",
        "import itertools\n",
        "from base64 import b64encode\n",
        "from time import sleep\n",
        "import requests\n",
        "import os\n",
        "from mimetypes import guess_type \n",
        "\n",
        "flatten = itertools.chain.from_iterable\n",
        "\n",
        "\n",
        "\n",
        "DEFAULT_PARAMS='--lower_bound_cutout 0.4 --deeper --image-width=384 --iterations=500 --epochs=2 --save-every=15 --save-progress=True --open_folder=False --overwrite=True --save_video=True \"A perfect dinner that came alive and started drawing itself.\"'\n",
        "\n",
        "conn = stomp.Connection([('b-4e89df1f-8226-4cc4-a518-4e1ac0023c97-1.mq.eu-central-1.amazonaws.com', 61614)], use_ssl=True)\n",
        "conn.connect('guest', 'iamcolabguest', wait=True)\n",
        "\n",
        "\n",
        "\n",
        "def run(params=DEFAULT_PARAMS, watch_media_paths=[\"./*.jpg\",\"./*.mp4\"]):\n",
        "  !rm *.jpg\n",
        "  !rm *.png\n",
        "\n",
        "  cmd = f'imagine {params}'\n",
        "  \n",
        "  p = Popen(cmd, stdout = PIPE, \n",
        "          stderr = STDOUT, shell = True)\n",
        "\n",
        "  FOUND_MEDIA_FILES=[]\n",
        "  while True:\n",
        "    line = p.stdout.readline()#\n",
        "    if not line: break\n",
        "\n",
        "    stdout.write(line)\n",
        "    conn.send(body=line.decode(\"utf-8\"), destination='/topic/colabOut')\n",
        "    NEW_FOUND_MEDIA_FILES = get_matching_files(watch_media_paths)\n",
        "    NEW_FOUND_MEDIA_FILES.sort(key=os.path.getmtime)\n",
        "    ADDED_MEDIA_FILES = list(set(NEW_FOUND_MEDIA_FILES)-set(FOUND_MEDIA_FILES))\n",
        "    FOUND_MEDIA_FILES = NEW_FOUND_MEDIA_FILES\n",
        "\n",
        "    if len(ADDED_MEDIA_FILES) > 0:\n",
        "      for added in ADDED_MEDIA_FILES:\n",
        "        sleep(0.1)\n",
        "        if len(added) > 0:\n",
        "          print(\"reading\", added)\n",
        "          with open(added,\"rb\") as media_file:\n",
        "            added_media = media_file.read()\n",
        "            mimetype = guess_type(added)\n",
        "            base64_encoded_added = f\"data:{mimetype};base64,{b64encode(added_media).decode('ascii')}\"\n",
        "          \n",
        "          conn.send(body=base64_encoded_added, destination='/topic/colabMediaOut')\n",
        "\n",
        "def get_matching_files(search_paths):\n",
        "  return list(flatten([glob(search_path) for search_path in search_paths]))\n",
        "run()\n",
        "conn.disconnect()\n",
        "\n"
      ],
      "execution_count": null,
      "outputs": [
        {
          "output_type": "stream",
          "text": [
            "epochs:   0%|          | 0/2 [00:00<?, ?it/s]\n",
            "                                             \n",
            "reading ./A_perfect_dinner_that_came_alive_and_started_drawing_itself..jpg\n",
            "epochs:   0%|          | 0/2 [00:01<?, ?it/s]\n",
            "iteration:   0%|          | 0/500 [00:01<?, ?it/s]\u001b[A\n",
            "loss: -19.63:   0%|          | 0/500 [00:01<?, ?it/s]\u001b[A\n",
            "loss: -19.63:   0%|          | 1/500 [00:01<14:48,  1.78s/it]\u001b[A\n",
            "loss: -19.56:   0%|          | 1/500 [00:03<14:48,  1.78s/it]\u001b[A\n",
            "loss: -19.56:   0%|          | 2/500 [00:03<14:38,  1.76s/it]\u001b[A\n",
            "loss: -19.51:   0%|          | 2/500 [00:05<14:38,  1.76s/it]\u001b[A\n"
          ],
          "name": "stdout"
        }
      ]
    },
    {
      "cell_type": "code",
      "metadata": {
        "id": "6wx3pNdK_Gpc"
      },
      "source": [
        ""
      ],
      "execution_count": null,
      "outputs": []
    },
    {
      "cell_type": "code",
      "metadata": {
        "id": "rkvq18n1zrHo"
      },
      "source": [
        "%%javascript\n",
        "// Create the channel object\n",
        "const channel = new BroadcastChannel('my-channel');\n",
        "\n",
        "// Set up a listener\n",
        "channel.onmessage = message => console.log('Received:', message.data);\n",
        "\n",
        "// Post a message to all subscribers\n",
        "channel.postMessage('Hello, world');"
      ],
      "execution_count": null,
      "outputs": []
    },
    {
      "cell_type": "code",
      "metadata": {
        "id": "GRIiu7CfzuBK"
      },
      "source": [
        ""
      ],
      "execution_count": null,
      "outputs": []
    }
  ]
}